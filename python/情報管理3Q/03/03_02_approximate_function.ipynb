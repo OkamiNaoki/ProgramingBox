{
  "nbformat": 4,
  "nbformat_minor": 0,
  "metadata": {
    "colab": {
      "name": "03_02_approximate_function.ipynb",
      "provenance": [],
      "collapsed_sections": []
    },
    "kernelspec": {
      "name": "python3",
      "display_name": "Python 3"
    },
    "language_info": {
      "name": "python"
    }
  },
  "cells": [
    {
      "cell_type": "markdown",
      "metadata": {
        "id": "LwpNJumrNIjN"
      },
      "source": [
        "# 第3回 その2: 時系列データの可視化 (2)：直線近似と曲線近似\n",
        "時系列データの近似直線・近似曲線を書いてみましょう。  \n"
      ]
    },
    {
      "cell_type": "markdown",
      "metadata": {
        "id": "uAc77jSWOkl8"
      },
      "source": [
        "## ステップ0: Google Driveのマウントと作業フォルダへの移動  \n",
        "Google Drive に配置したデータを読み込むための準備です。  \n",
        "詳細については第二回の 02_01_graph.ipynb を参照してください。  \n",
        "\n",
        "ここでは\"マイドライブ/情報管理/03\"を作業フォルダとします。 "
      ]
    },
    {
      "cell_type": "code",
      "metadata": {
        "id": "3aC8AkgoOli-"
      },
      "source": [
        "from google.colab import drive\n",
        "drive.mount('/content/drive')\n",
        "# フォルダの移動には\"%cd\"を使用します。\n",
        "# 作業フォルダへ移動\n",
        "%cd /content/drive/'My Drive'/情報管理/03/\n",
        "# 現在のフォルダの中身を表示\n",
        "%ls"
      ],
      "execution_count": null,
      "outputs": []
    },
    {
      "cell_type": "markdown",
      "metadata": {
        "id": "3Iytnzy4NHlP"
      },
      "source": [
        "`energy.csv` と`covid19.csv`というデータが表示されていることを確認してください。"
      ]
    },
    {
      "cell_type": "markdown",
      "metadata": {
        "id": "zZbD01jyYLXs"
      },
      "source": [
        "## ステップ1: 直線近似\n",
        "まずは必要ライブラリをインポートします。"
      ]
    },
    {
      "cell_type": "code",
      "metadata": {
        "id": "7oxKblF81vG0"
      },
      "source": [
        "import pandas as pd\n",
        "import numpy as np\n",
        "import matplotlib.pyplot as plt"
      ],
      "execution_count": null,
      "outputs": []
    },
    {
      "cell_type": "markdown",
      "metadata": {
        "id": "gu3LnYh0YSwD"
      },
      "source": [
        "`energy.csv` を読み込み，データをプロットします。  \n",
        "このデータは，1970年から2000年までの，日本の一世帯あたりの電力消費量を記録したデータです。  \n",
        "(出典：一世帯あたりの電力消費量の推移 https://www.ene100.jp/zumen/1-2-13 の一部を抜粋)"
      ]
    },
    {
      "cell_type": "code",
      "metadata": {
        "id": "k14h9cjEYRbf"
      },
      "source": [
        "# pandas の関数 read_csv を用いた csvファイル読み込み\n",
        "csv_data = pd.read_csv('energy.csv', encoding='SHIFT-JIS')\n",
        "# データの前半部(.headで取得できる)のみ表示\n",
        "display(csv_data.head())\n",
        "\n",
        "# numpy用データ(ndarray型) として抽出する。\n",
        "year = csv_data.loc[:, '年'].to_numpy()\n",
        "data = csv_data.loc[:, '電力消費量(kWh)'].to_numpy()\n",
        "\n",
        "# 抽出したデータをプロット\n",
        "plt.figure(figsize=(10,5))\n",
        "plt.scatter(year, data, label='Real Data', color='b')\n",
        "plt.xlabel('Year')\n",
        "plt.ylabel('Power consumption [kWh]')\n",
        "plt.legend()\n",
        "plt.show()"
      ],
      "execution_count": null,
      "outputs": []
    },
    {
      "cell_type": "markdown",
      "metadata": {
        "id": "-R7ZcWg3aHwk"
      },
      "source": [
        "このデータを線形関数 (y = ax + b)で近似します。  \n",
        "近似関数の傾き(a)と切片(b)を計算する関数を以下に定義します。  "
      ]
    },
    {
      "cell_type": "code",
      "metadata": {
        "id": "Id3HQ7OCaiCz"
      },
      "source": [
        "def linear_approx(data):\n",
        "  '''\n",
        "      data: 線形直線で近似したいデータ\n",
        "  '''\n",
        "  N = np.size(data)\n",
        "  y = np.array(data)\n",
        "  x = np.arange(N) # x=[0, 1, ..., N-1]\n",
        "\n",
        "  # 係数計算に必要な変数の計算\n",
        "  xx = x * x\n",
        "  xy = x * y\n",
        "  \n",
        "  # a と b の計算で共通する分母の計算\n",
        "  bunbo = N * np.sum(xx) - np.sum(x)*np.sum(x)\n",
        "\n",
        "  # a および b の計算\n",
        "  a = (N*np.sum(xy) - np.sum(x)*np.sum(y)) / bunbo\n",
        "  b = (np.sum(xx)*np.sum(y) - np.sum(xy)*np.sum(x)) / bunbo\n",
        "\n",
        "  return (a, b)"
      ],
      "execution_count": null,
      "outputs": []
    },
    {
      "cell_type": "markdown",
      "metadata": {
        "id": "JmOPwa4BnBlZ"
      },
      "source": [
        "上で定義した関数 `linear_approx` を使って，`data` の直線近似関数を計算します。"
      ]
    },
    {
      "cell_type": "code",
      "metadata": {
        "id": "92AkHWuUlMUI"
      },
      "source": [
        "# 直線近似関数のパラメータを求める\n",
        "(a, b) = linear_approx(data)\n",
        "print('approximate function: y = %fx + %f' % (a, b))\n",
        "\n",
        "# 直線近似関数を作成\n",
        "x = np.arange(np.size(data))\n",
        "approx = a * x + b"
      ],
      "execution_count": null,
      "outputs": []
    },
    {
      "cell_type": "markdown",
      "metadata": {
        "id": "jVlGoD-MnZFk"
      },
      "source": [
        "近似結果によると，この期間おいては，毎月約 6kWhkずつ増加していることが分かります。   \n",
        "実データと近似直線をプロットします。"
      ]
    },
    {
      "cell_type": "code",
      "metadata": {
        "id": "sEVRyAXKllPM"
      },
      "source": [
        "plt.figure(figsize=(10,5))\n",
        "plt.scatter(year, data, label='Real Data', color='b')\n",
        "plt.plot(year, approx, label='Approximate function', color='r')\n",
        "plt.xlabel('Year')\n",
        "plt.ylabel('Power consumption [kWh]')\n",
        "plt.legend()\n",
        "plt.show()"
      ],
      "execution_count": null,
      "outputs": []
    },
    {
      "cell_type": "markdown",
      "metadata": {
        "id": "SCV2sFUYnik0"
      },
      "source": [
        "近似直線が実際の値に対してどの程度ずれているのか，計算してみましょう。"
      ]
    },
    {
      "cell_type": "code",
      "metadata": {
        "id": "nQTxJ-20oq-C"
      },
      "source": [
        "# 平均二乗誤差(mean square error)\n",
        "mse = np.mean((data - approx)*(data - approx))\n",
        "# 平均平方根二乗誤差 (root mean square error) = mse の平方根\n",
        "rmse = np.sqrt(mse)\n",
        "\n",
        "print('MSE = %f' % (mse))\n",
        "print('RMSE = %f' % (rmse))"
      ],
      "execution_count": null,
      "outputs": []
    },
    {
      "cell_type": "markdown",
      "metadata": {
        "id": "gfb6dwqho20Y"
      },
      "source": [
        "平均で約 7.06 kWh 程度の誤差であることから，そこそこの精度で近似できているように見えます。"
      ]
    },
    {
      "cell_type": "markdown",
      "metadata": {
        "id": "fyFwfEaSa1ND"
      },
      "source": [
        "## ステップ2: 曲線近似\n",
        "次に，曲線で近似することを考えます。  \n",
        "曲線には色々種類が考えられますが（例：2次曲線，3次曲線，n次曲線，対数曲線，等），ここでは指数関数(y = b*e^{a*x})での近似を考えます。"
      ]
    },
    {
      "cell_type": "markdown",
      "metadata": {
        "id": "O4QgXDBCqutV"
      },
      "source": [
        "`covid19.csv` を読み込み，データをプロットします。  \n",
        "このデータは，2020年3月1日から2020年3月30日までの，全世界のCOVID-19の新規感染者数の記録です。  \n",
        "(出典：Our World in Data https://ourworldindata.org/coronavirus-data )"
      ]
    },
    {
      "cell_type": "code",
      "metadata": {
        "id": "CqGauGS4LqQ7"
      },
      "source": [
        "# pandas の関数 read_csv を用いた csvファイル読み込み\n",
        "csv_data = pd.read_csv('covid19.csv', encoding='SHIFT-JIS')\n",
        "# データの前半部(.headで取得できる)のみ表示\n",
        "display(csv_data.head())\n",
        "\n",
        "# numpy用データ(ndarray型) として抽出する。\n",
        "data = csv_data.loc[:, '新規感染者数(全世界)'].to_numpy()\n",
        "\n",
        "# 抽出したデータをプロット\n",
        "plt.figure(figsize=(10,5))\n",
        "x = np.arange(np.size(data))+1\n",
        "plt.scatter(x, data, label='Real Data', color='b')\n",
        "plt.xlabel('Date (2020/3/xx)')\n",
        "plt.ylabel('Daily confirmed COVID-19 case')\n",
        "plt.legend()\n",
        "plt.show()"
      ],
      "execution_count": null,
      "outputs": []
    },
    {
      "cell_type": "markdown",
      "metadata": {
        "id": "TwiTC0O7s7_E"
      },
      "source": [
        "まずは，ステップ1と同様に直線で近似してみます。"
      ]
    },
    {
      "cell_type": "code",
      "metadata": {
        "id": "GGkdtGjxs7Hs"
      },
      "source": [
        "# 直線近似関数を求める\n",
        "(a, b) = linear_approx(data)\n",
        "x = np.arange(np.size(data))\n",
        "approx_linear = a * x + b\n",
        "\n",
        "# 直線近似関数をプロット\n",
        "plt.figure(figsize=(10,5))\n",
        "x = np.arange(np.size(data))+1\n",
        "plt.scatter(x, data, label='Real Data', color='b')\n",
        "plt.plot(x, approx_linear, label='Approximate function', color='r')\n",
        "plt.xlabel('Date (2020/3/xx)')\n",
        "plt.ylabel('Daily confirmed COVID-19 case')\n",
        "plt.legend()\n",
        "plt.show()\n",
        "\n",
        "# 近似誤差を計算する\n",
        "mse = np.mean((data - approx_linear)*(data - approx_linear))\n",
        "rmse = np.sqrt(mse)\n",
        "print('MSE = %f' % (mse))\n",
        "print('RMSE = %f' % (rmse))"
      ],
      "execution_count": null,
      "outputs": []
    },
    {
      "cell_type": "markdown",
      "metadata": {
        "id": "t02Yd4EwynSb"
      },
      "source": [
        "誤差が大きい上に，感染者数がマイナスの日も存在してしまっていることから，  \n",
        "直線での近似がふさわしくないことが分かります。"
      ]
    },
    {
      "cell_type": "markdown",
      "metadata": {
        "id": "ogr2wkDRrXzi"
      },
      "source": [
        "次に，指数関数を用いて近似します。  \n",
        "データを指数関数で近似したい場合は，データを対数変換することで，線形近似を求める定式化に当てはめることが出来ます。"
      ]
    },
    {
      "cell_type": "code",
      "metadata": {
        "id": "evTSxJ-tridm"
      },
      "source": [
        "# データを対数変換する (numpy の log 関数を使用する)\n",
        "log_data = np.log(data)\n",
        "\n",
        "# 対数変換したデータに対して，線形近似関数のパラメータを求める\n",
        "(a, log_b) = linear_approx(log_data)\n",
        "# log_b を指数変換する\n",
        "b = np.exp(log_b)\n",
        "\n",
        "# 近似関数を作成\n",
        "x = np.arange(np.size(data))\n",
        "approx = b * np.exp(a * x)"
      ],
      "execution_count": null,
      "outputs": []
    },
    {
      "cell_type": "markdown",
      "metadata": {
        "id": "pCzOKDCkslI6"
      },
      "source": [
        "実データと近似関数をプロットします。  \n",
        "また，近似誤差も求めます。"
      ]
    },
    {
      "cell_type": "code",
      "metadata": {
        "id": "urCnnqRasM8o"
      },
      "source": [
        "plt.figure(figsize=(10,5))\n",
        "x = np.arange(np.size(data))+1\n",
        "plt.scatter(x, data, label='Real Data', color='b')\n",
        "plt.plot(x, approx, label='Approximate function', color='r')\n",
        "plt.xlabel('Date (2020/3/xx)')\n",
        "plt.ylabel('Daily confirmed COVID-19 case')\n",
        "plt.legend()\n",
        "plt.show()\n",
        "\n",
        "# 平均二乗誤差(mean square error)\n",
        "mse = np.mean((data - approx)*(data - approx))\n",
        "# 平均平方根二乗誤差 (root mean square error) = mse の平方根\n",
        "rmse = np.sqrt(mse)\n",
        "\n",
        "print('MSE = %f' % (mse))\n",
        "print('RMSE = %f' % (rmse))"
      ],
      "execution_count": null,
      "outputs": []
    },
    {
      "cell_type": "markdown",
      "metadata": {
        "id": "Mc0jcYPEuh6L"
      },
      "source": [
        "概ねうまく近似できているように見えますが，実は29日，30日あたりは誤差が大きいため，誤差の平均値はそれほど小さくありません。\n",
        "\n",
        "3月初めから3月後半までは指数的に増加しているように見えますが，  \n",
        "実際は3月末辺りから新規感染者の増加は一旦緩やかになり，それまでの指数関数的増加から外れます。\n",
        "\n",
        "試しに，25日までの誤差と26日以降の誤差を比較してみましょう。  \n",
        "25日までと26日以降で誤差が大きく異なることが分かります。"
      ]
    },
    {
      "cell_type": "code",
      "metadata": {
        "id": "481o_Csd0SxJ"
      },
      "source": [
        "# 25日までの誤差\n",
        "mse = np.mean((data[:25] - approx[:25])*(data[:25] - approx[:25]))\n",
        "rmse = np.sqrt(mse)\n",
        "print('MSE(3/1-25) = %f' % (mse))\n",
        "print('RMSE(3/1-25) = %f' % (rmse))\n",
        "\n",
        "# 26日以降の誤差\n",
        "mse = np.mean((data[25:] - approx[25:])*(data[25:] - approx[25:]))\n",
        "rmse = np.sqrt(mse)\n",
        "print('MSE(3/26-30) = %f' % (mse))\n",
        "print('RMSE(3/26-30) = %f' % (rmse))"
      ],
      "execution_count": null,
      "outputs": []
    },
    {
      "cell_type": "markdown",
      "metadata": {
        "id": "Om_5ywdm0WXF"
      },
      "source": [
        "ウイルス感染のメカニズム自体は指数的に増加する形になりますが，それは人口が無限に存在し，かつ人間が何の対策も取らなかった場合です。  \n",
        "実際は，感染者が増えて健康な人の数が減ればその分感染のスピードは緩やかになりますし，当然人間側は感染者の隔離などの対策は取るわけなので，指数的増加現象は一部の期間に限定されます。\n",
        "\n",
        "<font color=\"Red\">この演習では，あくまで指数関数による近似の理論を説明することを目的として，その例として指数関数に当てはまっている期間を限定的に抽出し，解析を行ったに過ぎません。本講義はコロナウイルスの問題に対して何らかの意図や見解を含むものではありませんので，誤解の無いようにお願いします。</font>"
      ]
    },
    {
      "cell_type": "code",
      "metadata": {
        "id": "5caHxvSkxr9k"
      },
      "source": [
        ""
      ],
      "execution_count": null,
      "outputs": []
    }
  ]
}
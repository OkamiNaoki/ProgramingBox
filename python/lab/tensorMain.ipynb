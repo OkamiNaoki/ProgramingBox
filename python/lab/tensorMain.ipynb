{
 "cells": [
  {
   "cell_type": "markdown",
   "metadata": {
    "id": "n2Y2W3dz-RlW"
   },
   "source": [
    "# テンソル分解"
   ]
  },
  {
   "cell_type": "markdown",
   "metadata": {
    "id": "CcNpO7QE4Ntm"
   },
   "source": [
    "目的　テンソル同士の比較、比較することで、そのテンソルの構成している要素を知る。何が原因となって、その特徴量を出しているのか"
   ]
  },
  {
   "cell_type": "markdown",
   "metadata": {
    "id": "pI6_ePj97SGU"
   },
   "source": [
    "https://www.jstage.jst.go.jp/article/journalcpij/53/3/53_1320/_pdf/-char/ja\n",
    "\n",
    "タッカー分解のコアテンソル、因子の扱い全てある\n",
    "\n",
    "コアテンソルを一旦一緒にするのではなく、それぞれでどの要素が影響しているのかしっかり見極める必要がある、それぞれの特徴行列の数値からどの要素が影響しているのかこの論文を対象に調べる必要がある。"
   ]
  },
  {
   "cell_type": "markdown",
   "metadata": {
    "id": "rj1iRSsDKiQa"
   },
   "source": [
    "卒論完成目標\n",
    "\n",
    "1、テンソル分解をする（今のところ、コアテンソルが対角要素となっているCP分解を用いてただテンソル分解をする。\n",
    "\n",
    "２、テンソル分解後の空間軸のコンポーネントを見て、そこの差をとり、空間軸、４つのコンポーネント、4テンソルのそれぞれの差をとり６個、差分テンソルを作る、これが（８６４、４、６）のテンソルになる（テンソルオールは入れなくていいかも）\n",
    "\n",
    "３、上のテンソルをタッカー分解することでコアテンソル、空間軸コンポーネントを見ることで差分のつまり、テンソルに差をつけている部分の場所を把握することができる、今のところ順調\n",
    "\n",
    "４、これを時間軸でもやりたいが、差をとるという事ができるのかという点で最初のテンソル分解をタッカー分解に変えて、時間軸の方も探索するというのもありかもしれない、\n",
    "\n",
    "終わり、どの場所で差がついているか分かれば、そこから一個前の軸に戻り、また同様に、どの部分が大事かを探索することで、元データに戻り、最終的に、実際の数値の差として知る事ができる\n",
    "\n",
    "３までの実装が済めば卒論までいけると思うから、次は、４、5でプラスアルファって感じになると思う"
   ]
  },
  {
   "cell_type": "markdown",
   "metadata": {
    "id": "ds4lbuSB-VhN"
   },
   "source": [
    "# データ処理"
   ]
  },
  {
   "cell_type": "markdown",
   "metadata": {
    "id": "c5Gwo3WJ-eTs"
   },
   "source": [
    "## import"
   ]
  },
  {
   "cell_type": "code",
   "execution_count": 97,
   "metadata": {
    "executionInfo": {
     "elapsed": 1331,
     "status": "ok",
     "timestamp": 1672373822107,
     "user": {
      "displayName": "学生1935084t",
      "userId": "12227631716568337195"
     },
     "user_tz": -540
    },
    "id": "JaME2DYs9ZdD"
   },
   "outputs": [],
   "source": [
    "import pandas as pd\n",
    "import numpy as np\n",
    "from sklearn import preprocessing"
   ]
  },
  {
   "cell_type": "markdown",
   "metadata": {
    "id": "HSGOOks6-hoB"
   },
   "source": [
    "## データ処理"
   ]
  },
  {
   "cell_type": "code",
   "execution_count": 98,
   "metadata": {
    "executionInfo": {
     "elapsed": 2442,
     "status": "ok",
     "timestamp": 1672373824547,
     "user": {
      "displayName": "学生1935084t",
      "userId": "12227631716568337195"
     },
     "user_tz": -540
    },
    "id": "TtbnvOrQ-QhU"
   },
   "outputs": [],
   "source": [
    "#データ読み込み\n",
    "df_cluster0 = pd.read_csv('./df_cluster0.csv') # 学習データの読み込み\n",
    "df_cluster1 = pd.read_csv('./df_cluster1.csv') # 検証データの読み込み\n",
    "df_cluster2 = pd.read_csv('./df_cluster2.csv') # 提出用サンプルデータの読み込み\n",
    "df_clusterall = pd.read_csv('./df_origin.csv') # 提出用サンプルデータの読み込み"
   ]
  },
  {
   "cell_type": "code",
   "execution_count": 99,
   "metadata": {
    "colab": {
     "base_uri": "https://localhost:8080/",
     "height": 70
    },
    "executionInfo": {
     "elapsed": 14,
     "status": "ok",
     "timestamp": 1672373824548,
     "user": {
      "displayName": "学生1935084t",
      "userId": "12227631716568337195"
     },
     "user_tz": -540
    },
    "id": "pT6ygNG4-pcm",
    "outputId": "0800f881-9940-461f-cd49-434bba7607af"
   },
   "outputs": [
    {
     "data": {
      "text/plain": [
       "\"\\ndf_cluster0 = df_cluster0[['CPU', 'Water']]\\ndf_cluster1 = df_cluster1[['CPU', 'Water']]\\ndf_cluster2 = df_cluster2[[ 'CPU', 'Water']]\\ndf_clusterall = df_clusterall[[ 'CPU', 'Water']]\\n\""
      ]
     },
     "execution_count": 99,
     "metadata": {},
     "output_type": "execute_result"
    }
   ],
   "source": [
    "#データ削除\n",
    "df_cluster0 = df_cluster0[['AirIn','AirOut', 'CPU', 'Water']]\n",
    "df_cluster1 = df_cluster1[['AirIn','AirOut', 'CPU', 'Water']]\n",
    "df_cluster2 = df_cluster2[['AirIn','AirOut', 'CPU', 'Water']]\n",
    "df_clusterall = df_clusterall[['AirIn','AirOut', 'CPU', 'Water']]\n",
    "\"\"\"\n",
    "df_cluster0 = df_cluster0[['CPU', 'Water']]\n",
    "df_cluster1 = df_cluster1[['CPU', 'Water']]\n",
    "df_cluster2 = df_cluster2[[ 'CPU', 'Water']]\n",
    "df_clusterall = df_clusterall[[ 'CPU', 'Water']]\n",
    "\"\"\""
   ]
  },
  {
   "cell_type": "code",
   "execution_count": 100,
   "metadata": {
    "colab": {
     "base_uri": "https://localhost:8080/"
    },
    "executionInfo": {
     "elapsed": 479,
     "status": "ok",
     "timestamp": 1672373825017,
     "user": {
      "displayName": "学生1935084t",
      "userId": "12227631716568337195"
     },
     "user_tz": -540
    },
    "id": "exIAshxh1786",
    "outputId": "24f6703c-05fe-4421-fc53-ed54ee3fa1cb"
   },
   "outputs": [
    {
     "name": "stdout",
     "output_type": "stream",
     "text": [
      "        AirIn  AirOut    CPU  Water\n",
      "0       19.36   22.09  15.96  15.55\n",
      "1       19.55   21.76  15.89  16.01\n",
      "2       18.53   22.20  15.92  15.36\n",
      "3       19.07   21.45  15.84  15.27\n",
      "4       18.46   22.17  16.07  15.07\n",
      "...       ...     ...    ...    ...\n",
      "190939  19.25   24.84  17.78  15.77\n",
      "190940  19.68   23.48  17.45  15.80\n",
      "190941  19.40   24.45  17.57  15.63\n",
      "190942  20.69   24.27  17.45  15.99\n",
      "190943  19.41   25.45  17.78  15.55\n",
      "\n",
      "[190944 rows x 4 columns]\n"
     ]
    }
   ],
   "source": [
    "print(df_cluster0)"
   ]
  },
  {
   "cell_type": "code",
   "execution_count": 101,
   "metadata": {
    "colab": {
     "base_uri": "https://localhost:8080/",
     "height": 52
    },
    "executionInfo": {
     "elapsed": 14,
     "status": "ok",
     "timestamp": 1672373825017,
     "user": {
      "displayName": "学生1935084t",
      "userId": "12227631716568337195"
     },
     "user_tz": -540
    },
    "id": "OIp-BqvE-rZE",
    "outputId": "988a3e23-228d-44a8-d381-da6ec6370218"
   },
   "outputs": [
    {
     "data": {
      "text/plain": [
       "'\\ndf_cluster0_sc = df_cluster0.values\\ndf_cluster1_sc = df_cluster1.values\\ndf_cluster2_sc = df_cluster2.values\\ndf_clusterall_sc = df_clusterall.values\\n'"
      ]
     },
     "execution_count": 101,
     "metadata": {},
     "output_type": "execute_result"
    }
   ],
   "source": [
    "\n",
    "df_cluster0_sc = preprocessing.scale(df_cluster0, axis=0)\n",
    "df_cluster1_sc = preprocessing.scale(df_cluster1, axis=0)\n",
    "df_cluster2_sc = preprocessing.scale(df_cluster2, axis=0)\n",
    "df_clusterall_sc = preprocessing.scale(df_clusterall, axis=0)\n",
    "\"\"\"\n",
    "df_cluster0_sc = df_cluster0.values\n",
    "df_cluster1_sc = df_cluster1.values\n",
    "df_cluster2_sc = df_cluster2.values\n",
    "df_clusterall_sc = df_clusterall.values\n",
    "\"\"\""
   ]
  },
  {
   "cell_type": "code",
   "execution_count": 102,
   "metadata": {
    "executionInfo": {
     "elapsed": 11,
     "status": "ok",
     "timestamp": 1672373825018,
     "user": {
      "displayName": "学生1935084t",
      "userId": "12227631716568337195"
     },
     "user_tz": -540
    },
    "id": "iG2mBQ4v-taQ"
   },
   "outputs": [],
   "source": [
    "#テンソル化\n",
    "\"\"\"\n",
    "tensor_0 = df_cluster0_sc.reshape(-1, 864, 4)\n",
    "#print(tensor_0[1,0,0])\n",
    "tensor_1 = df_cluster1_sc.reshape(-1, 864, 4)\n",
    "#print(tensor_1[1,0,0])\n",
    "tensor_2 = df_cluster2_sc.reshape(-1, 864, 4)\n",
    "#print(tensor_2[1,0,0])\n",
    "tensor_all = df_clusterall_sc.reshape(-1, 864, 4)\n",
    "#print(tensor_2[1,0,0])\n",
    "\"\"\"\n",
    "tensor_0 = df_cluster0_sc.reshape(-1, 864, 4)\n",
    "#print(tensor_0[1,0,0])\n",
    "tensor_1 = df_cluster1_sc.reshape(-1, 864, 4)\n",
    "#print(tensor_1[1,0,0])\n",
    "tensor_2 = df_cluster2_sc.reshape(-1, 864, 4)\n",
    "#print(tensor_2[1,0,0])\n",
    "tensor_all = df_clusterall_sc.reshape(-1, 864, 4)\n",
    "#print(tensor_2[1,0,0])"
   ]
  },
  {
   "cell_type": "code",
   "execution_count": 103,
   "metadata": {
    "colab": {
     "base_uri": "https://localhost:8080/",
     "height": 35
    },
    "executionInfo": {
     "elapsed": 10,
     "status": "ok",
     "timestamp": 1672373825018,
     "user": {
      "displayName": "学生1935084t",
      "userId": "12227631716568337195"
     },
     "user_tz": -540
    },
    "id": "Hu_SfMP_SOFx",
    "outputId": "6bc814b4-7797-400b-e009-7a2464f9a1f3"
   },
   "outputs": [
    {
     "data": {
      "text/plain": [
       "'\\ntensor_0=np.delete(tensor_0,0,axis=1)\\nprint(tensor_0.shape)\\n'"
      ]
     },
     "execution_count": 103,
     "metadata": {},
     "output_type": "execute_result"
    }
   ],
   "source": [
    "#axis=0,奥行,axis=1,行、axis=2,列\n",
    "\"\"\"\n",
    "tensor_0=np.delete(tensor_0,0,axis=1)\n",
    "print(tensor_0.shape)\n",
    "\"\"\""
   ]
  },
  {
   "cell_type": "markdown",
   "metadata": {
    "id": "Ks_basza-2XR"
   },
   "source": [
    "# テンソル分解"
   ]
  },
  {
   "cell_type": "markdown",
   "metadata": {
    "id": "t70W9uqz-6bF"
   },
   "source": [
    "## import"
   ]
  },
  {
   "cell_type": "code",
   "execution_count": 104,
   "metadata": {
    "colab": {
     "base_uri": "https://localhost:8080/"
    },
    "executionInfo": {
     "elapsed": 9950,
     "status": "ok",
     "timestamp": 1672373834959,
     "user": {
      "displayName": "学生1935084t",
      "userId": "12227631716568337195"
     },
     "user_tz": -540
    },
    "id": "PJY7H-4W-6DW",
    "outputId": "187b3687-56be-4467-883a-18d1e10b68d0"
   },
   "outputs": [
    {
     "name": "stdout",
     "output_type": "stream",
     "text": [
      "Requirement already up-to-date: tensorly in c:\\users\\cocon\\anaconda3\\lib\\site-packages (0.7.0)\n",
      "Requirement already satisfied, skipping upgrade: numpy in c:\\users\\cocon\\anaconda3\\lib\\site-packages (from tensorly) (1.18.5)\n",
      "Requirement already satisfied, skipping upgrade: nose in c:\\users\\cocon\\anaconda3\\lib\\site-packages (from tensorly) (1.3.7)\n",
      "Requirement already satisfied, skipping upgrade: scipy in c:\\users\\cocon\\anaconda3\\lib\\site-packages (from tensorly) (1.5.0)\n"
     ]
    }
   ],
   "source": [
    "!pip install -U tensorly"
   ]
  },
  {
   "cell_type": "code",
   "execution_count": 105,
   "metadata": {
    "executionInfo": {
     "elapsed": 7,
     "status": "ok",
     "timestamp": 1672373834960,
     "user": {
      "displayName": "学生1935084t",
      "userId": "12227631716568337195"
     },
     "user_tz": -540
    },
    "id": "Gusl0k_y-_6z"
   },
   "outputs": [],
   "source": [
    "import tensorly as tl\n",
    "import numpy as np\n",
    "from tensorly.decomposition import tucker\n",
    "from matplotlib import pyplot as plt\n",
    "from tensorly.base import unfold\n",
    "from tensorly.tenalg import multi_mode_dot, mode_dot\n",
    "from tensorly.tucker_tensor import tucker_to_tensor, TuckerTensor, validate_tucker_rank, tucker_normalize\n",
    "from tensorly.decomposition import non_negative_parafac, non_negative_tucker"
   ]
  },
  {
   "cell_type": "markdown",
   "metadata": {
    "id": "ht2gMM-r_b_M"
   },
   "source": [
    "## テンソル分解"
   ]
  },
  {
   "cell_type": "code",
   "execution_count": 107,
   "metadata": {
    "executionInfo": {
     "elapsed": 583,
     "status": "ok",
     "timestamp": 1672373835537,
     "user": {
      "displayName": "学生1935084t",
      "userId": "12227631716568337195"
     },
     "user_tz": -540
    },
    "id": "UsraaUhZ_T6y"
   },
   "outputs": [],
   "source": [
    "def non_negative_tucker_core(tensor, rank,mcore, n_iter_max=1000, init='svd', tol=10e-5,\n",
    "                        random_state=None, verbose=False, return_errors=False,\n",
    "                        normalize_factors=False):\n",
    "    \"\"\"Non-negative Tucker decomposition\n",
    "\n",
    "        Iterative multiplicative update, see [2]_\n",
    "\n",
    "    Parameters\n",
    "    ----------\n",
    "    tensor : ``ndarray``\n",
    "    rank : None, int or int list\n",
    "        size of the core tensor, ``(len(ranks) == tensor.ndim)``\n",
    "        if int, the same rank is used for all modes\n",
    "    n_iter_max : int\n",
    "        maximum number of iteration\n",
    "    init : {'svd', 'random'}\n",
    "    random_state : {None, int, np.random.RandomState}\n",
    "    verbose : int , optional\n",
    "        level of verbosity\n",
    "    ranks : None or int list\n",
    "    size of the core tensor\n",
    "    normalize_factors : if True, aggregates the core which will contain the norms of the factors.\n",
    "\n",
    "    Returns\n",
    "    -------\n",
    "    core : ndarray\n",
    "            positive core of the Tucker decomposition\n",
    "            has shape `ranks`\n",
    "    factors : ndarray list\n",
    "            list of factors of the CP decomposition\n",
    "            element `i` is of shape ``(tensor.shape[i], rank)``\n",
    "\n",
    "    References\n",
    "    ----------\n",
    "    .. [2] Yong-Deok Kim and Seungjin Choi,\n",
    "       \"Non-negative tucker decomposition\",\n",
    "       IEEE Conference on Computer Vision and Pattern Recognition s(CVPR),\n",
    "       pp 1-8, 2007\n",
    "    \"\"\"\n",
    "    rank = validate_tucker_rank(tl.shape(tensor), rank=rank)\n",
    "\n",
    "    epsilon = 10e-12\n",
    "\n",
    "    # Initialisation\n",
    "    if init == 'svd':\n",
    "        core, factors = tucker(tensor, rank)\n",
    "        nn_factors = [tl.abs(f) for f in factors]\n",
    "        nn_core = tl.abs(core)\n",
    "    else:\n",
    "        rng = tl.check_random_state(random_state)\n",
    "        core = tl.tensor(rng.random_sample(rank) + 0.01, **tl.context(tensor))  # Check this\n",
    "        factors = [tl.tensor(rng.random_sample(s), **tl.context(tensor)) for s in zip(tl.shape(tensor), rank)]\n",
    "        nn_factors = [tl.abs(f) for f in factors]\n",
    "        nn_core = tl.abs(core)\n",
    "\n",
    "    norm_tensor = tl.norm(tensor, 2)\n",
    "    rec_errors = []\n",
    "    nn_core=tl.abs(mcore)#\n",
    "    for iteration in range(n_iter_max):\n",
    "        for mode in range(tl.ndim(tensor)):\n",
    "            B = tucker_to_tensor((nn_core, nn_factors), skip_factor=mode)\n",
    "            B = tl.transpose(unfold(B, mode))\n",
    "\n",
    "            numerator = tl.dot(unfold(tensor, mode), B)\n",
    "            numerator = tl.clip(numerator, a_min=epsilon, a_max=None)\n",
    "            denominator = tl.dot(nn_factors[mode], tl.dot(tl.transpose(B), B))\n",
    "            denominator = tl.clip(denominator, a_min=epsilon, a_max=None)\n",
    "            nn_factors[mode] *= numerator / denominator\n",
    "\n",
    "        numerator = tucker_to_tensor((tensor, nn_factors), transpose_factors=True)\n",
    "        numerator = tl.clip(numerator, a_min=epsilon, a_max=None)\n",
    "        for i, f in enumerate(nn_factors):\n",
    "            if i:\n",
    "                denominator = mode_dot(denominator, tl.dot(tl.transpose(f), f), i)\n",
    "            else:\n",
    "                denominator = mode_dot(nn_core, tl.dot(tl.transpose(f), f), i)\n",
    "        denominator = tl.clip(denominator, a_min=epsilon, a_max=None)\n",
    "        #nn_core *= numerator / denominator\n",
    "\n",
    "        rec_error = tl.norm(tensor - tucker_to_tensor((nn_core, nn_factors)), 2) / norm_tensor\n",
    "        rec_errors.append(rec_error)\n",
    "        if iteration > 1 and verbose:\n",
    "            print('reconstruction error={}, variation={}.'.format(\n",
    "                rec_errors[-1], rec_errors[-2] - rec_errors[-1]))\n",
    "\n",
    "        if iteration > 100 and abs(rec_errors[-2] - rec_errors[-1]) < tol:\n",
    "            if verbose:\n",
    "                print('converged in {} iterations.'.format(iteration))\n",
    "            break\n",
    "        if normalize_factors:\n",
    "            nn_core, nn_factors = tucker_normalize((nn_core, nn_factors))\n",
    "    tensor = TuckerTensor((nn_core, nn_factors))\n",
    "    if return_errors:\n",
    "        return tensor, rec_errors\n",
    "    else:\n",
    "        print(\"rec_errors\")\n",
    "        print(rec_errors)\n",
    "        return tensor\n"
   ]
  },
  {
   "cell_type": "code",
   "execution_count": 108,
   "metadata": {
    "executionInfo": {
     "elapsed": 10,
     "status": "ok",
     "timestamp": 1672373835538,
     "user": {
      "displayName": "学生1935084t",
      "userId": "12227631716568337195"
     },
     "user_tz": -540
    },
    "id": "fLXANqhAGT1l"
   },
   "outputs": [],
   "source": [
    "def ntd(tensor,rank_list):\n",
    "  return non_negative_tucker(tensor, rank_list, tol=1.0e-10, n_iter_max=100)"
   ]
  },
  {
   "cell_type": "markdown",
   "metadata": {
    "id": "Uppp086L_j91"
   },
   "source": [
    "## プロット"
   ]
  },
  {
   "cell_type": "code",
   "execution_count": 109,
   "metadata": {
    "executionInfo": {
     "elapsed": 10,
     "status": "ok",
     "timestamp": 1672373835538,
     "user": {
      "displayName": "学生1935084t",
      "userId": "12227631716568337195"
     },
     "user_tz": -540
    },
    "id": "w-mS2KFpAMpv"
   },
   "outputs": [],
   "source": [
    "import seaborn as sns\n",
    "import matplotlib.pyplot as plt"
   ]
  },
  {
   "cell_type": "code",
   "execution_count": 110,
   "metadata": {
    "executionInfo": {
     "elapsed": 10,
     "status": "ok",
     "timestamp": 1672373835539,
     "user": {
      "displayName": "学生1935084t",
      "userId": "12227631716568337195"
     },
     "user_tz": -540
    },
    "id": "KOdI5urr_rSF"
   },
   "outputs": [],
   "source": [
    "def heatfacpltracwiden(t0,t1,t2,t3,m,n):\n",
    "  plt.figure(figsize=(1*10,1*10))\n",
    "  a=t0[1][:,m].T.reshape(24,36)\n",
    "  b=t1[1][:,m].T.reshape(24,36)\n",
    "  c=t2[1][:,m].T.reshape(24,36)\n",
    "  d=t3[1][:,m].T.reshape(24,36)\n",
    "  plt.subplot(n,4,m*4+1)\n",
    "  sns.heatmap(a,vmin=0, vmax=1)\n",
    "  plt.subplot(n,4,m*4+2)\n",
    "  sns.heatmap(b,vmin=0, vmax=1)\n",
    "  plt.subplot(n,4,m*4+3)\n",
    "  sns.heatmap(c,vmin=0, vmax=1)\n",
    "  plt.subplot(n,4,m*4+4)\n",
    "  sns.heatmap(d,vmin=0, vmax=1)"
   ]
  },
  {
   "cell_type": "code",
   "execution_count": 111,
   "metadata": {
    "executionInfo": {
     "elapsed": 9,
     "status": "ok",
     "timestamp": 1672373835539,
     "user": {
      "displayName": "学生1935084t",
      "userId": "12227631716568337195"
     },
     "user_tz": -540
    },
    "id": "pHlcT85Qkhe9"
   },
   "outputs": [],
   "source": [
    "def heattimeplt(t0,t1,t2,t3):\n",
    "  plt.figure(figsize=(1*10,1*10))\n",
    "  plt.subplot(1,4,1)\n",
    "  sns.heatmap(t0[0][:,:])\n",
    "  plt.subplot(1,4,2)\n",
    "  sns.heatmap(t1[0][:,:])\n",
    "  plt.subplot(1,4,3)\n",
    "  sns.heatmap(t2[0][:,:])\n",
    "  plt.subplot(1,4,4)\n",
    "  sns.heatmap(t3[0][:,:])"
   ]
  },
  {
   "cell_type": "markdown",
   "metadata": {
    "id": "Yc5nouG4abZb"
   },
   "source": [
    "特徴ベクトルをひとつめは5以下二つ目は10以下などできないか？"
   ]
  },
  {
   "cell_type": "markdown",
   "metadata": {
    "id": "nFNLHsrsh9ND"
   },
   "source": [
    "実験で様々な分析が出来るように、棒グラフなどいろいろ入れたい"
   ]
  },
  {
   "cell_type": "markdown",
   "metadata": {
    "id": "hpye6TEirNPq"
   },
   "source": [
    "データフレーム実装\n",
    "\n",
    "空間軸ヒートマップ〇\n",
    "\n",
    "時間軸ヒートマップ〇\n",
    "\n",
    "時間軸線グラフ〇\n",
    "\n",
    "測定軸ヒートマップと棒グラフ〇\n",
    "\n",
    "コアテンソルヒートマップもしくは、数値 〇\n",
    "\n",
    "元データの値を選択からの表示\n",
    "\n",
    "個別逆テンソル復元をし、元データの特徴を比較"
   ]
  },
  {
   "cell_type": "markdown",
   "metadata": {
    "id": "1yIUr_Gfj9ce"
   },
   "source": [
    "##データフレーム関数"
   ]
  },
  {
   "cell_type": "code",
   "execution_count": 112,
   "metadata": {
    "executionInfo": {
     "elapsed": 7,
     "status": "ok",
     "timestamp": 1672373835539,
     "user": {
      "displayName": "学生1935084t",
      "userId": "12227631716568337195"
     },
     "user_tz": -540
    },
    "id": "bEv3fmyR9-Ov"
   },
   "outputs": [],
   "source": [
    "def spaceHeatPlot(b0,b1,b2,b3,rl):\n",
    "  for num in range(0,rl[1]):\n",
    "    heatfacpltracwiden(b0,b1,b2,b3,num,rl[1])"
   ]
  },
  {
   "cell_type": "code",
   "execution_count": 113,
   "metadata": {
    "executionInfo": {
     "elapsed": 8,
     "status": "ok",
     "timestamp": 1672373835540,
     "user": {
      "displayName": "学生1935084t",
      "userId": "12227631716568337195"
     },
     "user_tz": -540
    },
    "id": "MtM9Aw2e-4is"
   },
   "outputs": [],
   "source": [
    "def timeHeatPlot(b0,b1,b2,b3,rl):\n",
    "  heattimeplt(b0,b1,b2,b3)"
   ]
  },
  {
   "cell_type": "code",
   "execution_count": 114,
   "metadata": {
    "executionInfo": {
     "elapsed": 7,
     "status": "ok",
     "timestamp": 1672373835540,
     "user": {
      "displayName": "学生1935084t",
      "userId": "12227631716568337195"
     },
     "user_tz": -540
    },
    "id": "Xza6TIGhZdvS"
   },
   "outputs": [],
   "source": [
    "def timeLinePlot(b0,b1,b2,b3,rl):\n",
    "  n=rl[0]\n",
    "  plt.figure(figsize=(1*10,1*10))\n",
    "\n",
    "  sns.relplot(data=b0[0][:,:], kind='line')\n",
    "  sns.relplot(data=b1[0][:,:], kind='line')\n",
    "  sns.relplot(data=b2[0][:,:], kind='line')\n",
    "  sns.relplot(data=b3[0][:,:], kind='line')"
   ]
  },
  {
   "cell_type": "code",
   "execution_count": 115,
   "metadata": {
    "executionInfo": {
     "elapsed": 8,
     "status": "ok",
     "timestamp": 1672373835541,
     "user": {
      "displayName": "学生1935084t",
      "userId": "12227631716568337195"
     },
     "user_tz": -540
    },
    "id": "CjJD_y4w-P7R"
   },
   "outputs": [],
   "source": [
    "def measureHeatPlot(b0,b1,b2,b3,rl):\n",
    "  plt.figure(figsize=(1*10,1*10))\n",
    "  plt.subplot(1,4,1)\n",
    "  sns.heatmap(b0[2][:,:])\n",
    "  plt.subplot(1,4,2)\n",
    "  sns.heatmap(b1[2][:,:])\n",
    "  plt.subplot(1,4,3)\n",
    "  sns.heatmap(b2[2][:,:])\n",
    "  plt.subplot(1,4,4)\n",
    "  sns.heatmap(b3[2][:,:])"
   ]
  },
  {
   "cell_type": "code",
   "execution_count": 116,
   "metadata": {
    "executionInfo": {
     "elapsed": 10,
     "status": "ok",
     "timestamp": 1672373835874,
     "user": {
      "displayName": "学生1935084t",
      "userId": "12227631716568337195"
     },
     "user_tz": -540
    },
    "id": "NBqYCybg-gWu"
   },
   "outputs": [],
   "source": [
    "def measureBarPlot(b0,b1,b2,b3,rl):\n",
    "  plt.figure(figsize=(1*10,1*10))\n",
    "  plt.subplot(1,4,1)\n",
    "  sns.barplot(data=b0[2])\n",
    "  plt.subplot(1,4,2)\n",
    "  sns.barplot(data=b1[2])\n",
    "  plt.subplot(1,4,3)\n",
    "  sns.barplot(data=b2[2])\n",
    "  plt.subplot(1,4,4)\n",
    "  sns.barplot(data=b3[2])"
   ]
  },
  {
   "cell_type": "code",
   "execution_count": 117,
   "metadata": {
    "executionInfo": {
     "elapsed": 9,
     "status": "ok",
     "timestamp": 1672373835874,
     "user": {
      "displayName": "学生1935084t",
      "userId": "12227631716568337195"
     },
     "user_tz": -540
    },
    "id": "n6seKbVtDsns"
   },
   "outputs": [],
   "source": [
    "def coreHeatMap(a0,a1,a2,a3,rl):\n",
    "  n=rl[2]\n",
    "  for m in range(0,rl[2]):\n",
    "    #heatfacpltracwiden(b0,b1,b2,b3,num,rl[1])\n",
    "    plt.figure(figsize=(n*10,n*10))\n",
    "    plt.subplot(n,4,m*4+1)\n",
    "    sns.heatmap(a0[:,:,m],vmin=0, vmax=1)\n",
    "    plt.subplot(n,4,m*4+2)\n",
    "    sns.heatmap(a1[:,:,m],vmin=0, vmax=1)\n",
    "    plt.subplot(n,4,m*4+3)\n",
    "    sns.heatmap(a2[:,:,m],vmin=0, vmax=1)\n",
    "    plt.subplot(n,4,m*4+4)\n",
    "    sns.heatmap(a3[:,:,m],vmin=0, vmax=1)"
   ]
  },
  {
   "cell_type": "code",
   "execution_count": 118,
   "metadata": {
    "executionInfo": {
     "elapsed": 9,
     "status": "ok",
     "timestamp": 1672373835875,
     "user": {
      "displayName": "学生1935084t",
      "userId": "12227631716568337195"
     },
     "user_tz": -540
    },
    "id": "xA4hfIjOLoyl"
   },
   "outputs": [],
   "source": [
    "def allPlot(a,b,rl):\n",
    "  plt.subplot(2,3,1)\n",
    "  sns.heatmap(b[0][:,:])\n",
    "  plt.subplot(2,3,2)\n",
    "  sns.heatmap(b[1][:,:])\n",
    "  plt.subplot(2,3,3)\n",
    "  sns.heatmap(b[2][:,:])\n",
    "  for m in range(0,rl[2]):\n",
    "    plt.subplot(2,3,m+4)\n",
    "    sns.heatmap(a[:,:,m])"
   ]
  },
  {
   "cell_type": "code",
   "execution_count": 119,
   "metadata": {
    "executionInfo": {
     "elapsed": 8,
     "status": "ok",
     "timestamp": 1672373835875,
     "user": {
      "displayName": "学生1935084t",
      "userId": "12227631716568337195"
     },
     "user_tz": -540
    },
    "id": "JNNPJqNw9LFQ"
   },
   "outputs": [],
   "source": [
    "def spaceHeatDif(t0,t1,t2,t3,m,n):\n",
    "  plt.figure(figsize=(n*10,n*10))\n",
    "  a=t0[1][:,m].T.reshape(24,36)\n",
    "  b=t1[1][:,m].T.reshape(24,36)\n",
    "  c=t2[1][:,m].T.reshape(24,36)\n",
    "  d=t3[1][:,m].T.reshape(24,36)\n",
    "  ab=abs(a-b)\n",
    "  ac=abs(a-c)\n",
    "  bc=abs(b-c)\n",
    "  ad=abs(a-d)\n",
    "  bd=abs(b-d)\n",
    "  cd=abs(c-d)\n",
    "\n",
    "  plt.subplot(n,6,m*6+1)\n",
    "  print(\"01\")\n",
    "  sns.heatmap(ab,vmin=0, vmax=1)\n",
    "  plt.subplot(n,6,m*6+2)\n",
    "  print(\"02\")\n",
    "  sns.heatmap(ac,vmin=0, vmax=1)\n",
    "  plt.subplot(n,6,m*6+3)\n",
    "  print(\"12\")\n",
    "  sns.heatmap(bc,vmin=0, vmax=1)\n",
    "  plt.subplot(n,6,m*6+4)\n",
    "  print(\"0a\")\n",
    "  sns.heatmap(ad,vmin=0, vmax=1)\n",
    "  plt.subplot(n,6,m*6+5)\n",
    "  print(\"1a\")\n",
    "  sns.heatmap(bd,vmin=0, vmax=1)\n",
    "  plt.subplot(n,6,m*6+6)\n",
    "  print(\"2a\")\n",
    "  sns.heatmap(cd,vmin=0, vmax=1)\n",
    "  print(\"誤差\")\n",
    "  print(\"01\")\n",
    "  print(ab.sum())\n",
    "  print(\"02\")\n",
    "  print(ac.sum())\n",
    "  print(\"12\")\n",
    "  print(bc.sum())\n",
    "  print(\"0a\")\n",
    "  print(ad.sum())\n",
    "  print(\"1a\")\n",
    "  print(bd.sum())\n",
    "  print(\"2a\")\n",
    "  print(cd.sum()) "
   ]
  },
  {
   "cell_type": "code",
   "execution_count": 120,
   "metadata": {
    "executionInfo": {
     "elapsed": 9,
     "status": "ok",
     "timestamp": 1672373835876,
     "user": {
      "displayName": "学生1935084t",
      "userId": "12227631716568337195"
     },
     "user_tz": -540
    },
    "id": "f2D28HB4B1H7"
   },
   "outputs": [],
   "source": [
    "def spaceRowHeatDif(t0,t1,t2,t3):\n",
    "  plt.figure(figsize=(1*10,1*10))\n",
    "  a=t0[1][:,:]\n",
    "  b=t1[1][:,:]\n",
    "  c=t2[1][:,:]\n",
    "  d=t3[1][:,:]\n",
    "  ab=abs(a-b)\n",
    "  ac=abs(a-c)\n",
    "  bc=abs(b-c)\n",
    "  ad=abs(a-d)\n",
    "  bd=abs(b-d)\n",
    "  cd=abs(c-d)\n",
    "\n",
    "  plt.subplot(1,6,1)\n",
    "  print(\"01\")\n",
    "  sns.heatmap(ab,vmin=0, vmax=1)\n",
    "  plt.subplot(1,6,2)\n",
    "  print(\"02\")\n",
    "  sns.heatmap(ac,vmin=0, vmax=1)\n",
    "  plt.subplot(1,6,3)\n",
    "  print(\"12\")\n",
    "  sns.heatmap(bc,vmin=0, vmax=1)\n",
    "  plt.subplot(1,6,4)\n",
    "  print(\"0a\")\n",
    "  sns.heatmap(ad,vmin=0, vmax=1)\n",
    "  plt.subplot(1,6,5)\n",
    "  print(\"1a\")\n",
    "  sns.heatmap(bd,vmin=0, vmax=1)\n",
    "  plt.subplot(1,6,6)\n",
    "  print(\"2a\")\n",
    "  sns.heatmap(cd,vmin=0, vmax=1)\n",
    "  print(\"誤差\")\n",
    "  print(\"01\")\n",
    "  print(ab.sum())\n",
    "  print(\"02\")\n",
    "  print(ac.sum())\n",
    "  print(\"12\")\n",
    "  print(bc.sum())\n",
    "  print(\"0a\")\n",
    "  print(ad.sum())\n",
    "  print(\"1a\")\n",
    "  print(bd.sum())\n",
    "  print(\"2a\")\n",
    "  print(cd.sum()) "
   ]
  },
  {
   "cell_type": "code",
   "execution_count": 121,
   "metadata": {
    "executionInfo": {
     "elapsed": 8,
     "status": "ok",
     "timestamp": 1672373835876,
     "user": {
      "displayName": "学生1935084t",
      "userId": "12227631716568337195"
     },
     "user_tz": -540
    },
    "id": "mBn3XNiciOZJ"
   },
   "outputs": [],
   "source": [
    "def plotFream(t0,t1,t2,t3,rl):\n",
    "  tt0,u0=ntd(t0,rl)\n",
    "  a0,b0=non_negative_tucker_core(t0,rl,tt0)\n",
    "  a1,b1=non_negative_tucker_core(t1,rl,tt0)\n",
    "  a2,b2=non_negative_tucker_core(t2,rl,tt0)\n",
    "  a3,b3=non_negative_tucker_core(t3,rl,tt0)\n",
    "    \n",
    "  #spaceHeatPlot(b0,b1,b2,b3,rl)\n",
    "\n",
    "  #plt.subplot(2,1,1)\n",
    "  plt.subplot2grid((2, 2), (0, 0), colspan=2)\n",
    "  spaceHeatPlot(b0,b1,b2,b3,rl)\n",
    "  plt.title(\"spaceHeatPlot\")\n",
    "  #plt.subplot(2,1,2)\n",
    "  plt.subplot2grid((2, 2), (1, 0), colspan=2)\n",
    "  timeHeatPlot(b0,b1,b2,b3,rl)\n",
    "  plt.title(\"timeHeatPlot\")\n",
    "  \"\"\"\n",
    "  timeLinePlot(b0,b1,b2,b3,rl)\n",
    "  plt.title(\"timeLinePlot\")\n",
    "  measureHeatPlot(b0,b1,b2,b3,rl)\n",
    "  plt.title(\"measureHeatPlot\")\n",
    "  measureBarPlot(b0,b1,b2,b3,rl)  \n",
    "  plt.title(\"measureBarPlot\")\n",
    "  coreHeatMap(a0,a1,a2,a3,rl)\n",
    "  plt.title(\"coreHeatMap\")\n",
    "  allPlot(a0,b0,rl)\n",
    "  plt.title(\"allPlot\")\n",
    "  \n",
    "  \"\"\"\n",
    "  \"\"\"\n",
    "  n=rl[1]\n",
    "  for m in range(0,rl[1]):\n",
    "    spaceHeatDif(b0,b1,b2,b3,m,n)\n",
    "  \"\"\"\n",
    "  #spaceRowHeatDif(b0,b1,b2,b3)"
   ]
  },
  {
   "cell_type": "markdown",
   "metadata": {
    "id": "hdGNXcOH_oxE"
   },
   "source": [
    "## 実験"
   ]
  },
  {
   "cell_type": "markdown",
   "metadata": {
    "id": "tuduxthQevlZ"
   },
   "source": [
    "変数の固定　測定値の固定をすることでの、時間軸と空間軸の比較、ラック毎の差を見た後、その差を生み出している原因の特定のための元データを戻って比較"
   ]
  },
  {
   "cell_type": "code",
   "execution_count": 122,
   "metadata": {
    "executionInfo": {
     "elapsed": 7,
     "status": "ok",
     "timestamp": 1672373835876,
     "user": {
      "displayName": "学生1935084t",
      "userId": "12227631716568337195"
     },
     "user_tz": -540
    },
    "id": "zd_aRRSQGV_7"
   },
   "outputs": [],
   "source": [
    "rank_list=[4,4,4]\n",
    "#rank_list=[10,10,2]"
   ]
  },
  {
   "cell_type": "code",
   "execution_count": 123,
   "metadata": {
    "executionInfo": {
     "elapsed": 8,
     "status": "ok",
     "timestamp": 1672373835877,
     "user": {
      "displayName": "学生1935084t",
      "userId": "12227631716568337195"
     },
     "user_tz": -540
    },
    "id": "Ev9WS14KjJbV"
   },
   "outputs": [],
   "source": [
    "#plotFream(tensor_0,tensor_1,tensor_2,tensor_all,rank_list)"
   ]
  },
  {
   "cell_type": "markdown",
   "metadata": {
    "id": "z71U506jfaBk"
   },
   "source": [
    "01の820番くらいが差が生まれているからその部分を比較するため、元データの比較と並び替えが必要"
   ]
  },
  {
   "cell_type": "code",
   "execution_count": 124,
   "metadata": {
    "colab": {
     "base_uri": "https://localhost:8080/"
    },
    "executionInfo": {
     "elapsed": 41210,
     "status": "ok",
     "timestamp": 1672373877080,
     "user": {
      "displayName": "学生1935084t",
      "userId": "12227631716568337195"
     },
     "user_tz": -540
    },
    "id": "pzWP3PC0_Wwn",
    "outputId": "5d7bf73e-f397-4a5c-fd82-3910d880a856"
   },
   "outputs": [
    {
     "name": "stdout",
     "output_type": "stream",
     "text": [
      "rec_errors\n",
      "[0.849467496482033, 0.8091155932996459, 0.7981031389296822, 0.7921048049986347, 0.7877168852027634, 0.7842515556381822, 0.7816063062370291, 0.7797073704267794, 0.7783357189137314, 0.7773557779512551, 0.7766521996296618, 0.7761419304015952, 0.7757642660554214, 0.7754763265359695, 0.7752421345048659, 0.775040699485946, 0.7748577990043327, 0.7746791118115177, 0.7744794537272951, 0.774231538744684, 0.7739191922180411, 0.7734603902444003, 0.7728865480843405, 0.7723422350683528, 0.7718780943470304, 0.771453778080279, 0.7710521670505383, 0.7706663746560475, 0.7702691781631713, 0.7698733590161645, 0.7695050959754605, 0.7691314801236281, 0.7687456299667519, 0.7683436090295395, 0.7678190097350903, 0.7671989974152137, 0.766656637748565, 0.7661020359498727, 0.76543769666807, 0.7648111898921748, 0.7640697114972527, 0.7633819013321602, 0.7627469328807024, 0.7621930069182785, 0.7616106065695755, 0.7610529120217935, 0.7604417147280378, 0.759867116507816, 0.7594496893431456, 0.7590557461543969, 0.7585578593692862, 0.7582488268959013, 0.7580581793722846, 0.7577841138098784, 0.7575481489189514, 0.7572424405698727, 0.7571022885051821, 0.7568747013007223, 0.7567170022643146, 0.7565814266399131, 0.756344356624529, 0.7560138898332445, 0.7559068861037015, 0.7558405020593838, 0.7557478063527945, 0.7556616245095256, 0.7555624706561417, 0.7554813976807518, 0.7553565393751821, 0.7551496628188619, 0.7550305012078067, 0.7549689169407475, 0.7548944404180679, 0.7547426429140638, 0.7546470596133708, 0.7544136520079034, 0.7542718044301284, 0.7542294280939695, 0.7541596286805591, 0.7539176454243982, 0.7537624786056429, 0.7537042203627321, 0.7536506258452779, 0.7534805155356902, 0.7533025647846864, 0.7532297159375525, 0.7530478395485962, 0.7529003410242477, 0.7528208473407156, 0.7527829531061341, 0.7527316883899666, 0.7526594051560039, 0.752617133938353, 0.7525007570995215, 0.7523783790342397, 0.7521767576710736, 0.7520369131736908, 0.7519600269502894, 0.7518817495693727, 0.7517810974079445, 0.7516963714954518, 0.7516402929462856]\n",
      "rec_errors\n",
      "[0.8099175281075502, 0.7849405189115186, 0.7790771849176779, 0.7749442560945031, 0.7721022818480578, 0.7700655723028051, 0.765509086939211, 0.7604130763630828, 0.7573796334586969, 0.7542314331554485, 0.7513098019755857, 0.7491280185168742, 0.7472553733087183, 0.7446870392635564, 0.7421620517016811, 0.7396243737348447, 0.7376030566284324, 0.7358503315009541, 0.7350833130957888, 0.7347651131557632, 0.7344987624341329, 0.7342635732842003, 0.7341021294940506, 0.7339130765951152, 0.7338104050356022, 0.733642235667713, 0.7335391990835262, 0.733481431330618, 0.7334372359721879, 0.7333946293179335, 0.7333470727897122, 0.7333146965820422, 0.7332616125393775, 0.7332141075124647, 0.7331784446172367, 0.7331563285507635, 0.7331298711560291, 0.7331022038698586, 0.733080916451286, 0.7330587944490595, 0.7330332365105247, 0.7330136434541592, 0.732994617372198, 0.7329756082560372, 0.7329475598184468, 0.732923757893093, 0.7329035328270582, 0.7328832302493189, 0.7328625702772871, 0.7328420758723473, 0.7328156620919976, 0.7327932978527661, 0.7327724093561744, 0.7327476012284294, 0.7327264542582747, 0.7327047925453363, 0.7326839600551451, 0.7326627563332161, 0.732642276663511, 0.7326219871704053, 0.7326018971574846, 0.7325820520917578, 0.7325612186372399, 0.7325392390889292, 0.7325199981882853, 0.7324993251771778, 0.7324807488007888, 0.7324625469166879, 0.732444630608825, 0.7324269045679562, 0.732409290004089, 0.7323917615605966, 0.7323743879283171, 0.7323573337745124, 0.7323407911877117, 0.7323248837026667, 0.7323096293696781, 0.7322949726866014, 0.7322808527618038, 0.7322672161818742, 0.7322540215806722, 0.732239984053518, 0.7322274464747223, 0.7322152767090575, 0.7322034662616203, 0.7321920022578805, 0.7321808741359991, 0.7321700715525405, 0.7321595842144188, 0.7321494017100396, 0.7321395132217675, 0.7321299069128094, 0.7321205643071618, 0.7321114700952419, 0.7321025953735164, 0.7320938912617277, 0.7320848922191489, 0.7320761234423595, 0.7320668765350193, 0.7320564726598783, 0.7320437684572931, 0.732025483204109]\n",
      "rec_errors\n",
      "[0.8289899031702772, 0.7923354543208467, 0.7876440814183538, 0.786061879338036, 0.7850331413757808, 0.784042794516419, 0.7830274889073103, 0.781899016686216, 0.7805295975024136, 0.7793215016623493, 0.7781095097913251, 0.7768706361154565, 0.7756325249414445, 0.7743963991471184, 0.7732013941645449, 0.7720020932929503, 0.7708751970762493, 0.7698021223757937, 0.7687434074428338, 0.7674716806077025, 0.7664049900841969, 0.7651618670311013, 0.7637263430960424, 0.7626990204385646, 0.7616802188992065, 0.7602921205692394, 0.7584790312147303, 0.7565839973311543, 0.7554340977229962, 0.754905404683306, 0.7544263820477419, 0.7539457671368778, 0.75354896436736, 0.753189669653102, 0.7528781340848486, 0.7525261371835664, 0.7522875562591569, 0.7518631283996965, 0.751583205029371, 0.7513049749294252, 0.751171192770604, 0.7510401092197219, 0.7509424093195862, 0.7508276420240411, 0.7507225078866807, 0.7505933288350314, 0.7504467269459939, 0.7501927270464294, 0.749939865960546, 0.7496955164468764, 0.7494457839669201, 0.7491911385737716, 0.7488833567118912, 0.7485226942199374, 0.7480599105168068, 0.7474460612733099, 0.7466646985041253, 0.7458312947088847, 0.7449349354701315, 0.7439950520185202, 0.7432148337090153, 0.7426106415857906, 0.7421665675740363, 0.7416910812936505, 0.741370890839127, 0.7409998501203234, 0.7406792845199978, 0.7404083931476056, 0.7401881142661385, 0.7399751881147132, 0.739835405605361, 0.7397573753375344, 0.7397147375650012, 0.7396501235217535, 0.739610101091624, 0.7395859362640663, 0.7393653273720535, 0.7392867029878402, 0.7391489962989835, 0.7391076935576911, 0.7390191988524037, 0.7390034055073839, 0.7389885828315187, 0.7389283694885672, 0.7388362337946468, 0.7388044038448764, 0.7385962461416048, 0.7385254556158469, 0.7384785630912165, 0.7384644367443082, 0.7383949243135698, 0.7383621511711052, 0.7383345109935717, 0.7382547298415949, 0.7382406523993449, 0.7382171001355627, 0.7382038893331471, 0.7381762688341605, 0.7381431733188576, 0.7380984232708309, 0.7380819314675442, 0.7380563639027604]\n",
      "rec_errors\n",
      "[0.8776234636520277, 0.8383265630394354, 0.8266481686719306, 0.8203841674876378, 0.816618529226691, 0.8132853657769112, 0.8101496867752984, 0.8073618069125421, 0.8050175319902608, 0.8030688709130571, 0.801615131756024, 0.8007202051837154, 0.8000876659591005, 0.7996249273340004, 0.7992461706815103, 0.7988280500892772, 0.7984001104383409, 0.7980142736754987, 0.7977117753741054, 0.7973827446866413, 0.7970176747265775, 0.7965863306931853, 0.7960415294928709, 0.7952973380074828, 0.7944177833971928, 0.7937672193439296, 0.7933592657500536, 0.7929585532698029, 0.792309915970404, 0.7911456043693798, 0.7896616121338313, 0.7883633819788066, 0.7875844927629901, 0.7871178535519064, 0.7867744353706406, 0.7865425031742568, 0.7863801734311183, 0.786253839342246, 0.7861379663981248, 0.786040096717746, 0.7859577469697447, 0.7858375377291751, 0.7857516499357716, 0.7856740552810486, 0.7856021670218498, 0.7855461428225642, 0.7854705587850336, 0.7853752871482188, 0.7853015181271171, 0.7852451123221188, 0.7851832800473248, 0.7851360339606496, 0.7850865003301135, 0.7850433915406666, 0.7849876274321427, 0.7849447972346139, 0.7849085473861334, 0.7848772563938081, 0.7848474681851177, 0.784815994050558, 0.7847858310420304, 0.7847590350414243, 0.7847347685900079, 0.7847109520943737, 0.7846864181813448, 0.7846587978360025, 0.7846225108394715, 0.7845986525048361, 0.7845473106762472, 0.784519348261445, 0.7844906101407385, 0.7844605088346912, 0.7844340775193438, 0.7843987289172513, 0.7843648115716202, 0.7843375875883385, 0.7843088033618872, 0.7842787470248923, 0.7842498161042445, 0.7842153507401264, 0.7841905239146747, 0.784162564724512, 0.7841327790027051, 0.7841108731384147, 0.7840859796400047, 0.7840573510053775, 0.7840141307205934, 0.7839708680185137, 0.7839361160949508, 0.7839164622935134, 0.7838997053940366, 0.7838842327838949, 0.7838692837047256, 0.7838542262986807, 0.7838382974727943, 0.7838170746674121, 0.7837994218461097, 0.7837851033144454, 0.7837662723184939, 0.7837542554905678, 0.7837375589836333, 0.7837234052379191]\n"
     ]
    }
   ],
   "source": [
    "#tt0,u0=ntd(tensor_0,rank_list)\n",
    "tt0=np.zeros((4,4,4))\n",
    "tt0[0,0,0]=1\n",
    "tt0[1,1,1]=1\n",
    "tt0[2,2,2]=1\n",
    "tt0[3,3,3]=1\n",
    "\n",
    "a0,b0=non_negative_tucker_core(tensor_0,rank_list,tt0)\n",
    "a1,b1=non_negative_tucker_core(tensor_1,rank_list,tt0)\n",
    "a2,b2=non_negative_tucker_core(tensor_2,rank_list,tt0)\n",
    "a3,b3=non_negative_tucker_core(tensor_all,rank_list,tt0)"
   ]
  },
  {
   "cell_type": "code",
   "execution_count": 125,
   "metadata": {
    "executionInfo": {
     "elapsed": 22,
     "status": "ok",
     "timestamp": 1672373877081,
     "user": {
      "displayName": "学生1935084t",
      "userId": "12227631716568337195"
     },
     "user_tz": -540
    },
    "id": "NLnEVye1gkZH"
   },
   "outputs": [],
   "source": [
    "def spaceRowHeatDifOut(t0,t1):\n",
    "  plt.figure(figsize=(1*10,1*10))\n",
    "  a=t0[1][:,:]\n",
    "  b=t1[1][:,:]\n",
    "  ab=abs(a-b)\n",
    "\n",
    "  print(\"01\")\n",
    "  sns.heatmap(ab,vmin=0, vmax=1)\n",
    "\n",
    "  print(\"誤差\")\n",
    "  print(\"01\")\n",
    "  print(ab.sum())\n",
    "  return ab"
   ]
  },
  {
   "cell_type": "code",
   "execution_count": 126,
   "metadata": {
    "colab": {
     "base_uri": "https://localhost:8080/",
     "height": 1000
    },
    "executionInfo": {
     "elapsed": 6387,
     "status": "ok",
     "timestamp": 1672373883448,
     "user": {
      "displayName": "学生1935084t",
      "userId": "12227631716568337195"
     },
     "user_tz": -540
    },
    "id": "6Yi-5keU_9X0",
    "outputId": "7abaeef7-5467-451a-97d4-78bd3435d7ac"
   },
   "outputs": [
    {
     "name": "stdout",
     "output_type": "stream",
     "text": [
      "01\n",
      "誤差\n",
      "01\n",
      "152.07126447564883\n",
      "01\n",
      "誤差\n",
      "01\n",
      "158.22150025799377\n",
      "01\n",
      "誤差\n",
      "01\n",
      "131.98830727743183\n",
      "01\n",
      "誤差\n",
      "01\n",
      "143.51705136085002\n",
      "01\n",
      "誤差\n",
      "01\n",
      "199.78368399645842\n",
      "01\n",
      "誤差\n",
      "01\n",
      "138.17800126541653\n"
     ]
    },
    {
     "data": {
      "image/png": "[encoded data removed]",
      "text/plain": [
       "<Figure size 720x720 with 2 Axes>"
      ]
     },
     "metadata": {
      "needs_background": "light"
     },
     "output_type": "display_data"
    },
    {
     "data": {
      "image/png": "[encoded data removed]",
      "text/plain": [
       "<Figure size 720x720 with 2 Axes>"
      ]
     },
     "metadata": {
      "needs_background": "light"
     },
     "output_type": "display_data"
    },
    {
     "data": {
      "image/png": "[encoded data removed]",
      "text/plain": [
       "<Figure size 720x720 with 2 Axes>"
      ]
     },
     "metadata": {
      "needs_background": "light"
     },
     "output_type": "display_data"
    },
    {
     "data": {
      "image/png": "[encoded data removed]",
      "text/plain": [
       "<Figure size 720x720 with 2 Axes>"
      ]
     },
     "metadata": {
      "needs_background": "light"
     },
     "output_type": "display_data"
    },
    {
     "data": {
      "image/png": "[encoded data removed]",
      "text/plain": [
       "<Figure size 720x720 with 2 Axes>"
      ]
     },
     "metadata": {
      "needs_background": "light"
     },
     "output_type": "display_data"
    },
    {
     "data": {
      "image/png": "[encoded data removed]",
      "text/plain": [
       "<Figure size 720x720 with 2 Axes>"
      ]
     },
     "metadata": {
      "needs_background": "light"
     },
     "output_type": "display_data"
    }
   ],
   "source": [
    "a1=spaceRowHeatDifOut(b0,b1)\n",
    "a2=spaceRowHeatDifOut(b0,b2)\n",
    "a3=spaceRowHeatDifOut(b0,b3)\n",
    "a4=spaceRowHeatDifOut(b1,b2)\n",
    "a5=spaceRowHeatDifOut(b1,b3)\n",
    "a6=spaceRowHeatDifOut(b2,b3)"
   ]
  },
  {
   "cell_type": "code",
   "execution_count": 127,
   "metadata": {
    "colab": {
     "base_uri": "https://localhost:8080/"
    },
    "executionInfo": {
     "elapsed": 16,
     "status": "ok",
     "timestamp": 1672373883449,
     "user": {
      "displayName": "学生1935084t",
      "userId": "12227631716568337195"
     },
     "user_tz": -540
    },
    "id": "jSFaHvXMAYuy",
    "outputId": "f127370a-bf25-4faf-d667-d24d7097f628"
   },
   "outputs": [
    {
     "data": {
      "text/plain": [
       "(864, 4, 6)"
      ]
     },
     "execution_count": 127,
     "metadata": {},
     "output_type": "execute_result"
    }
   ],
   "source": [
    "# 二次元配列を3次元方向に結合\n",
    "diff_array_3d = np.stack([a1,a2,a3,a4,a5,a6], axis=2)\n",
    "# 形状確認\n",
    "diff_array_3d.shape"
   ]
  },
  {
   "cell_type": "code",
   "execution_count": 128,
   "metadata": {
    "executionInfo": {
     "elapsed": 10,
     "status": "ok",
     "timestamp": 1672373883450,
     "user": {
      "displayName": "学生1935084t",
      "userId": "12227631716568337195"
     },
     "user_tz": -540
    },
    "id": "evOJe9usBKw1"
   },
   "outputs": [],
   "source": [
    "rank_list=[4,4,4]"
   ]
  },
  {
   "cell_type": "code",
   "execution_count": 129,
   "metadata": {
    "executionInfo": {
     "elapsed": 506,
     "status": "ok",
     "timestamp": 1672373883947,
     "user": {
      "displayName": "学生1935084t",
      "userId": "12227631716568337195"
     },
     "user_tz": -540
    },
    "id": "xEhUy18nA-7m"
   },
   "outputs": [],
   "source": [
    "cda3,uda3=ntd(diff_array_3d,rank_list)"
   ]
  },
  {
   "cell_type": "code",
   "execution_count": 130,
   "metadata": {
    "colab": {
     "base_uri": "https://localhost:8080/",
     "height": 282
    },
    "executionInfo": {
     "elapsed": 483,
     "status": "ok",
     "timestamp": 1672373884419,
     "user": {
      "displayName": "学生1935084t",
      "userId": "12227631716568337195"
     },
     "user_tz": -540
    },
    "id": "uYW2eDkZBz5B",
    "outputId": "79e0ca07-b3f5-43c0-8856-5dc02dc03851"
   },
   "outputs": [
    {
     "data": {
      "text/plain": [
       "<matplotlib.axes._subplots.AxesSubplot at 0x1afb7fbe490>"
      ]
     },
     "execution_count": 130,
     "metadata": {},
     "output_type": "execute_result"
    },
    {
     "data": {
      "image/png": "[encoded data removed]",
      "text/plain": [
       "<Figure size 432x288 with 2 Axes>"
      ]
     },
     "metadata": {
      "needs_background": "light"
     },
     "output_type": "display_data"
    }
   ],
   "source": [
    "d=uda3[0][:,0].T.reshape(24,36)\n",
    "#sns.heatmap(d,vmin=0, vmax=1)\n",
    "sns.heatmap(d)"
   ]
  },
  {
   "cell_type": "code",
   "execution_count": 131,
   "metadata": {
    "colab": {
     "base_uri": "https://localhost:8080/",
     "height": 265
    },
    "executionInfo": {
     "elapsed": 408,
     "status": "ok",
     "timestamp": 1672373884823,
     "user": {
      "displayName": "学生1935084t",
      "userId": "12227631716568337195"
     },
     "user_tz": -540
    },
    "id": "FgsnmS-zCjqm",
    "outputId": "373b0488-18a9-4413-dfbc-ec0c1ba53cbb"
   },
   "outputs": [
    {
     "data": {
      "image/png": "[encoded data removed]",
      "text/plain": [
       "<Figure size 432x288 with 1 Axes>"
      ]
     },
     "metadata": {
      "needs_background": "light"
     },
     "output_type": "display_data"
    }
   ],
   "source": [
    "left=range(6)\n",
    "height1=uda3[2][:,1]\n",
    "p1 = plt.bar(left, height1, linewidth=2)"
   ]
  },
  {
   "cell_type": "code",
   "execution_count": 132,
   "metadata": {
    "colab": {
     "base_uri": "https://localhost:8080/",
     "height": 330
    },
    "executionInfo": {
     "elapsed": 2515,
     "status": "ok",
     "timestamp": 1672373887334,
     "user": {
      "displayName": "学生1935084t",
      "userId": "12227631716568337195"
     },
     "user_tz": -540
    },
    "id": "nTx4DLu_GHxk",
    "outputId": "c709df0b-52f5-4322-b24e-f5f729792a7f"
   },
   "outputs": [
    {
     "data": {
      "image/png": "[encoded data removed]",
      "text/plain": [
       "<Figure size 2880x1440 with 1 Axes>"
      ]
     },
     "metadata": {
      "needs_background": "light"
     },
     "output_type": "display_data"
    }
   ],
   "source": [
    "c=np.zeros((64))\n",
    "count=0\n",
    "mem=[]\n",
    "for i in range(0,4):\n",
    "  for j in range(0,4):\n",
    "    for k in range(0,4):\n",
    "      mem.append(str(i)+str(j)+str(k))\n",
    "      c[count]=cda3[i,j,k]\n",
    "      count=count+1\n",
    "\n",
    "plt.figure(figsize=(4*10,2*10))\n",
    "left=range(64)\n",
    "height1=c\n",
    "plt.xticks(left, mem)\n",
    "p1 = plt.bar(left, height1, linewidth=2)"
   ]
  },
  {
   "cell_type": "markdown",
   "metadata": {
    "id": "BudiSrewWcg_"
   },
   "source": [
    "上のコアテンソルのグラフから、他の軸の因子ごとの特徴を作っているところをうまく探していき、どこが大事か見ていく"
   ]
  },
  {
   "cell_type": "markdown",
   "metadata": {
    "id": "g9v1VZ0wWotb"
   },
   "source": [
    "000,122,011この３つが上から3番までこの３つから調査をしていく"
   ]
  },
  {
   "cell_type": "code",
   "execution_count": 133,
   "metadata": {
    "colab": {
     "base_uri": "https://localhost:8080/",
     "height": 704
    },
    "executionInfo": {
     "elapsed": 16206,
     "status": "ok",
     "timestamp": 1672373903537,
     "user": {
      "displayName": "学生1935084t",
      "userId": "12227631716568337195"
     },
     "user_tz": -540
    },
    "id": "GnVoNaAxDeTK",
    "outputId": "51ba8b28-71c9-4110-b019-e1618ed06620"
   },
   "outputs": [
    {
     "data": {
      "text/plain": [
       "<matplotlib.legend.Legend at 0x1afb6aef940>"
      ]
     },
     "execution_count": 133,
     "metadata": {},
     "output_type": "execute_result"
    },
    {
     "data": {
      "image/png": "[encoded data removed]",
      "text/plain": [
       "<Figure size 2880x1440 with 1 Axes>"
      ]
     },
     "metadata": {
      "needs_background": "light"
     },
     "output_type": "display_data"
    }
   ],
   "source": [
    "left=range(864)\n",
    "plt.figure(figsize=(4*10,2*10))\n",
    "height1=uda3[0][:,0]\n",
    "height2=uda3[0][:,1]\n",
    "height3=uda3[0][:,2]\n",
    "height4=uda3[0][:,3]\n",
    "plt.subplot(1,2,2)\n",
    "p1 = plt.bar(left, height1, linewidth=2)\n",
    "p2 = plt.bar(left, height2, linewidth=2)\n",
    "p3 = plt.bar(left, height3, linewidth=2)\n",
    "p4 = plt.bar(left, height4, linewidth=2)\n",
    "plt.legend((p1[0], p2[0],p3[0], p4[0]), (\"Class 1\", \"Class 2\",\"Class 3\", \"Class 4\"), loc=4)"
   ]
  },
  {
   "cell_type": "code",
   "execution_count": 134,
   "metadata": {
    "colab": {
     "base_uri": "https://localhost:8080/"
    },
    "executionInfo": {
     "elapsed": 22,
     "status": "ok",
     "timestamp": 1672373903538,
     "user": {
      "displayName": "学生1935084t",
      "userId": "12227631716568337195"
     },
     "user_tz": -540
    },
    "id": "OhXFgMSfbO4s",
    "outputId": "ffef35f2-6c8c-4687-962c-4c46ff443e48"
   },
   "outputs": [
    {
     "name": "stdout",
     "output_type": "stream",
     "text": [
      "410\n"
     ]
    }
   ],
   "source": [
    "max_index = np.argmax(uda3[0][:,3])\n",
    "print(max_index)"
   ]
  },
  {
   "cell_type": "markdown",
   "metadata": {
    "id": "ApUavKV5aLXD"
   },
   "source": [
    "第一因子は２７３ 第二因子は551、第３因子565、第４因子410となっている。"
   ]
  },
  {
   "cell_type": "markdown",
   "metadata": {
    "id": "oT7ug2UzXACc"
   },
   "source": [
    "空間軸に関しては量が多すぎるため、要素ごとで上から見ていく"
   ]
  },
  {
   "cell_type": "code",
   "execution_count": 135,
   "metadata": {
    "colab": {
     "base_uri": "https://localhost:8080/",
     "height": 346
    },
    "executionInfo": {
     "elapsed": 1392,
     "status": "ok",
     "timestamp": 1672373904920,
     "user": {
      "displayName": "学生1935084t",
      "userId": "12227631716568337195"
     },
     "user_tz": -540
    },
    "id": "3jtLdNBnW0cU",
    "outputId": "d2a6376d-19ca-43a6-80b1-98438bb3b1dc"
   },
   "outputs": [
    {
     "data": {
      "text/plain": [
       "<matplotlib.legend.Legend at 0x1afb80da160>"
      ]
     },
     "execution_count": 135,
     "metadata": {},
     "output_type": "execute_result"
    },
    {
     "data": {
      "image/png": "[encoded data removed]",
      "text/plain": [
       "<Figure size 2880x1440 with 1 Axes>"
      ]
     },
     "metadata": {
      "needs_background": "light"
     },
     "output_type": "display_data"
    }
   ],
   "source": [
    "plt.figure(figsize=(4*10,2*10))\n",
    " \n",
    "# 各系列のデータを用意\n",
    "height1=uda3[1][:,0]\n",
    "height2=uda3[1][:,1]\n",
    "height3=uda3[1][:,2]\n",
    "height4=uda3[1][:,3]\n",
    "data = [height1, height2,height3,height4]\n",
    "\n",
    "x = np.arange(len(height1))\n",
    "\n",
    "labels = [\"1\", \"2\", \"3\", \"4\"]\n",
    "# マージンを設定\n",
    "margin = 0.2  #0 <margin< 1\n",
    "totoal_width = 1 - margin\n",
    " \n",
    "# 棒グラフをプロット\n",
    "for i, h in enumerate(data):\n",
    "  pos = x - totoal_width *( 1- (2*i+1)/len(data) )/2\n",
    "  plt.bar(pos, h, width = totoal_width/len(data))\n",
    " \n",
    "# ラベルの設定\n",
    "plt.xticks(x, labels)\n",
    "plt.legend((p1[0], p2[0],p3[0], p4[0]), (\"Class 1\", \"Class 2\",\"Class 3\", \"Class 4\"), loc=4)"
   ]
  },
  {
   "cell_type": "markdown",
   "metadata": {
    "id": "4kOdRwr-bWBs"
   },
   "source": [
    "因子のテンソル分解の結果より、重要なのは第一因子は2,第二因子は3、第三因子は4、第四因子は1が大事としっかり分かれている。"
   ]
  },
  {
   "cell_type": "code",
   "execution_count": 136,
   "metadata": {
    "colab": {
     "base_uri": "https://localhost:8080/",
     "height": 346
    },
    "executionInfo": {
     "elapsed": 1872,
     "status": "ok",
     "timestamp": 1672373906789,
     "user": {
      "displayName": "学生1935084t",
      "userId": "12227631716568337195"
     },
     "user_tz": -540
    },
    "id": "SHt3EVYvbxkt",
    "outputId": "3977e3f5-6122-4421-99bc-e7a9c02b6d93"
   },
   "outputs": [
    {
     "data": {
      "text/plain": [
       "<matplotlib.legend.Legend at 0x1afb82d0e50>"
      ]
     },
     "execution_count": 136,
     "metadata": {},
     "output_type": "execute_result"
    },
    {
     "data": {
      "image/png": "[encoded data removed]",
      "text/plain": [
       "<Figure size 2880x1440 with 1 Axes>"
      ]
     },
     "metadata": {
      "needs_background": "light"
     },
     "output_type": "display_data"
    }
   ],
   "source": [
    "plt.figure(figsize=(4*10,2*10))\n",
    " \n",
    "# 各系列のデータを用意\n",
    "height1=uda3[2][:,0]\n",
    "height2=uda3[2][:,1]\n",
    "height3=uda3[2][:,2]\n",
    "height4=uda3[2][:,3]\n",
    "data = [height1, height2,height3,height4]\n",
    "\n",
    "x = np.arange(len(height1))\n",
    "\n",
    "labels = [\"01\", \"02\", \"03\", \"12\",\"13\",\"23\"]\n",
    "# マージンを設定\n",
    "margin = 0.2  #0 <margin< 1\n",
    "totoal_width = 1 - margin\n",
    " \n",
    "# 棒グラフをプロット\n",
    "for i, h in enumerate(data):\n",
    "  pos = x - totoal_width *( 1- (2*i+1)/len(data) )/2\n",
    "  plt.bar(pos, h, width = totoal_width/len(data))\n",
    " \n",
    "# ラベルの設定\n",
    "plt.xticks(x, labels)\n",
    "plt.legend((p1[0], p2[0],p3[0], p4[0]), (\"Class 1\", \"Class 2\",\"Class 3\", \"Class 4\"), loc=4)"
   ]
  },
  {
   "cell_type": "markdown",
   "metadata": {
    "id": "EYnfE0Vbcft0"
   },
   "source": [
    "第一因子は03、13,第二因子は12,第三因子は23,02、第四因子は01が大事となっている。"
   ]
  },
  {
   "cell_type": "markdown",
   "metadata": {
    "id": "l0Pjns7GdEqY"
   },
   "source": [
    "この後は空間の方も見て、コアテンソルと比較しながらどこが大事か見て、一個前のテンソルに戻り、次に時間軸と空間軸を見ながら、元データに戻り、分析する必要がある。"
   ]
  },
  {
   "cell_type": "markdown",
   "metadata": {
    "id": "ZtFHTnnpWlls"
   },
   "source": [
    "できるだけ絞るために一個前に戻った際に時間軸のデータを削減し、よりはっきりと違いがわかる部分を探し当てる必要がある。"
   ]
  },
  {
   "cell_type": "markdown",
   "metadata": {
    "id": "FWJtBitfZbwz"
   },
   "source": [
    "差をとった軸は第一因子は03、13,第二因子は12,第三因子は23,02、第四因子は01\n",
    "\n",
    "因子の軸、第一因子は2,第二因子は3、第三因子は4、第四因子は1\n",
    "\n",
    "空間軸は第一因子は２７３ 第二因子は551、第３因子565、第４因子410となっている。\n",
    "\n",
    "コアテンソルは000,122,011　軸順は1番目空間軸、2番目因子軸、3番目差軸\n",
    "\n"
   ]
  },
  {
   "cell_type": "markdown",
   "metadata": {
    "id": "2ypinXFjdJLi"
   },
   "source": [
    "よって上より空間軸273、因子2の差03にとても大きな差がある。\n",
    "次は、テンソル０、3のテンソル分解を行なって差だけでなく、範囲を縮めていく"
   ]
  },
  {
   "cell_type": "code",
   "execution_count": 137,
   "metadata": {
    "executionInfo": {
     "elapsed": 16609,
     "status": "ok",
     "timestamp": 1672373923393,
     "user": {
      "displayName": "学生1935084t",
      "userId": "12227631716568337195"
     },
     "user_tz": -540
    },
    "id": "VK9lzwEyfCZs"
   },
   "outputs": [],
   "source": [
    "tt0,u0=ntd(tensor_0,rank_list)\n",
    "tt3,u3=ntd(tensor_all,rank_list)"
   ]
  },
  {
   "cell_type": "code",
   "execution_count": 138,
   "metadata": {
    "colab": {
     "base_uri": "https://localhost:8080/"
    },
    "executionInfo": {
     "elapsed": 8,
     "status": "ok",
     "timestamp": 1672373923394,
     "user": {
      "displayName": "学生1935084t",
      "userId": "12227631716568337195"
     },
     "user_tz": -540
    },
    "id": "g3FZbvtlfaUB",
    "outputId": "14a63d64-7b11-454e-9ae0-95fa0d57bf83"
   },
   "outputs": [
    {
     "name": "stdout",
     "output_type": "stream",
     "text": [
      "0.0011384997811112836\n",
      "1.2293565039355874e-22\n"
     ]
    }
   ],
   "source": [
    "print(u0[1][273,1])\n",
    "print(u3[1][273,1])"
   ]
  },
  {
   "cell_type": "code",
   "execution_count": 139,
   "metadata": {
    "colab": {
     "base_uri": "https://localhost:8080/",
     "height": 329
    },
    "executionInfo": {
     "elapsed": 1361,
     "status": "ok",
     "timestamp": 1672373924750,
     "user": {
      "displayName": "学生1935084t",
      "userId": "12227631716568337195"
     },
     "user_tz": -540
    },
    "id": "xZlMR4g2gLnI",
    "outputId": "cb5e554e-29ad-4645-b138-5920b62eda7e"
   },
   "outputs": [
    {
     "data": {
      "image/png": "[encoded data removed]",
      "text/plain": [
       "<Figure size 2880x1440 with 1 Axes>"
      ]
     },
     "metadata": {
      "needs_background": "light"
     },
     "output_type": "display_data"
    }
   ],
   "source": [
    "c=np.zeros((64))\n",
    "count=0\n",
    "mem=[]\n",
    "for i in range(0,4):\n",
    "  for j in range(0,4):\n",
    "    for k in range(0,4):\n",
    "      mem.append(str(i)+str(j)+str(k))\n",
    "      c[count]=tt0[i,j,k]\n",
    "      count=count+1\n",
    "\n",
    "plt.figure(figsize=(4*10,2*10))\n",
    "left=range(64)\n",
    "height1=c\n",
    "plt.xticks(left, mem)\n",
    "p1 = plt.bar(left, height1, linewidth=2)"
   ]
  },
  {
   "cell_type": "markdown",
   "metadata": {
    "id": "oksE80h8lXa0"
   },
   "source": [
    "差分テンソルの結果より、空間軸は一旦置いておいて、因子２なので上のテンソルコアで？1？で関わりが大きそうな所をプロットすることで特徴を知れる。111と213、313って感じの順番"
   ]
  },
  {
   "cell_type": "code",
   "execution_count": 140,
   "metadata": {
    "colab": {
     "base_uri": "https://localhost:8080/",
     "height": 348
    },
    "executionInfo": {
     "elapsed": 935,
     "status": "ok",
     "timestamp": 1672373925675,
     "user": {
      "displayName": "学生1935084t",
      "userId": "12227631716568337195"
     },
     "user_tz": -540
    },
    "id": "LOKxOaU4l2jU",
    "outputId": "0a38beb8-547e-4d02-db6c-5070a51e7c2b"
   },
   "outputs": [
    {
     "data": {
      "text/plain": [
       "<matplotlib.legend.Legend at 0x1afc78b0fd0>"
      ]
     },
     "execution_count": 140,
     "metadata": {},
     "output_type": "execute_result"
    },
    {
     "data": {
      "image/png": "[encoded data removed]",
      "text/plain": [
       "<Figure size 2880x1440 with 1 Axes>"
      ]
     },
     "metadata": {
      "needs_background": "light"
     },
     "output_type": "display_data"
    }
   ],
   "source": [
    "plt.figure(figsize=(4*10,2*10))\n",
    " \n",
    "# 各系列のデータを用意\n",
    "height1=u0[2][:,0]\n",
    "height2=u0[2][:,1]\n",
    "height3=u0[2][:,2]\n",
    "height4=u0[2][:,3]\n",
    "data = [height1, height2,height3,height4]\n",
    "\n",
    "x = np.arange(len(height1))\n",
    "\n",
    "labels = [\"1\", \"2\", \"3\", \"4\"]\n",
    "# マージンを設定\n",
    "margin = 0.2  #0 <margin< 1\n",
    "totoal_width = 1 - margin\n",
    " \n",
    "# 棒グラフをプロット\n",
    "for i, h in enumerate(data):\n",
    "  pos = x - totoal_width *( 1- (2*i+1)/len(data) )/2\n",
    "  plt.bar(pos, h, width = totoal_width/len(data))\n",
    " \n",
    "# ラベルの設定\n",
    "plt.xticks(x, labels)\n",
    "plt.legend((p1[0], p2[0],p3[0], p4[0]), (\"Class 1\", \"Class 2\",\"Class 3\", \"Class 4\"), loc=4)"
   ]
  },
  {
   "cell_type": "code",
   "execution_count": 141,
   "metadata": {
    "colab": {
     "base_uri": "https://localhost:8080/",
     "height": 1000
    },
    "executionInfo": {
     "elapsed": 12975,
     "status": "ok",
     "timestamp": 1672373938054,
     "user": {
      "displayName": "学生1935084t",
      "userId": "12227631716568337195"
     },
     "user_tz": -540
    },
    "id": "C5hPM0K-oPH-",
    "outputId": "3ab68f09-1043-49f0-ed4d-f9dc10326e50"
   },
   "outputs": [
    {
     "data": {
      "text/plain": [
       "([<matplotlib.axis.XTick at 0x1afc792d970>,\n",
       "  <matplotlib.axis.XTick at 0x1afc7932850>,\n",
       "  <matplotlib.axis.XTick at 0x1afc78b0b80>,\n",
       "  <matplotlib.axis.XTick at 0x1afca6a0bb0>,\n",
       "  <matplotlib.axis.XTick at 0x1afca6aa100>,\n",
       "  <matplotlib.axis.XTick at 0x1afca6aa610>,\n",
       "  <matplotlib.axis.XTick at 0x1afca6aab20>,\n",
       "  <matplotlib.axis.XTick at 0x1afca6af070>,\n",
       "  <matplotlib.axis.XTick at 0x1afca6af580>,\n",
       "  <matplotlib.axis.XTick at 0x1afca6afa90>,\n",
       "  <matplotlib.axis.XTick at 0x1afca6aa280>,\n",
       "  <matplotlib.axis.XTick at 0x1afca6af7f0>,\n",
       "  <matplotlib.axis.XTick at 0x1afca6afdf0>,\n",
       "  <matplotlib.axis.XTick at 0x1afca6b6340>,\n",
       "  <matplotlib.axis.XTick at 0x1afca6b6850>,\n",
       "  <matplotlib.axis.XTick at 0x1afca6b6d60>,\n",
       "  <matplotlib.axis.XTick at 0x1afca6bb2b0>,\n",
       "  <matplotlib.axis.XTick at 0x1afca6bb7c0>,\n",
       "  <matplotlib.axis.XTick at 0x1afca6bbcd0>,\n",
       "  <matplotlib.axis.XTick at 0x1afca6bb8e0>,\n",
       "  <matplotlib.axis.XTick at 0x1afca6b6970>,\n",
       "  <matplotlib.axis.XTick at 0x1afca6af6a0>,\n",
       "  <matplotlib.axis.XTick at 0x1afca6c12b0>,\n",
       "  <matplotlib.axis.XTick at 0x1afca6c17c0>,\n",
       "  <matplotlib.axis.XTick at 0x1afca6c1cd0>,\n",
       "  <matplotlib.axis.XTick at 0x1afca6c8220>,\n",
       "  <matplotlib.axis.XTick at 0x1afca6c8730>,\n",
       "  <matplotlib.axis.XTick at 0x1afca6c8c40>,\n",
       "  <matplotlib.axis.XTick at 0x1afca6cd190>,\n",
       "  <matplotlib.axis.XTick at 0x1afca6c8910>,\n",
       "  <matplotlib.axis.XTick at 0x1afca6c19a0>,\n",
       "  <matplotlib.axis.XTick at 0x1afca6b6040>,\n",
       "  <matplotlib.axis.XTick at 0x1afca6cd6a0>,\n",
       "  <matplotlib.axis.XTick at 0x1afca6cdbb0>,\n",
       "  <matplotlib.axis.XTick at 0x1afca6d4100>,\n",
       "  <matplotlib.axis.XTick at 0x1afca6d4610>,\n",
       "  <matplotlib.axis.XTick at 0x1afca6d4b20>,\n",
       "  <matplotlib.axis.XTick at 0x1afca6da070>,\n",
       "  <matplotlib.axis.XTick at 0x1afca6da580>,\n",
       "  <matplotlib.axis.XTick at 0x1afca6d4250>,\n",
       "  <matplotlib.axis.XTick at 0x1afca6bb310>,\n",
       "  <matplotlib.axis.XTick at 0x1afca6da6d0>,\n",
       "  <matplotlib.axis.XTick at 0x1afca6daa90>,\n",
       "  <matplotlib.axis.XTick at 0x1afca6dafa0>,\n",
       "  <matplotlib.axis.XTick at 0x1afca6e14f0>,\n",
       "  <matplotlib.axis.XTick at 0x1afca6e1a00>,\n",
       "  <matplotlib.axis.XTick at 0x1afca6e1f10>,\n",
       "  <matplotlib.axis.XTick at 0x1afca6e7460>,\n",
       "  <matplotlib.axis.XTick at 0x1afca6e7970>,\n",
       "  <matplotlib.axis.XTick at 0x1afca6e1250>,\n",
       "  <matplotlib.axis.XTick at 0x1afca6dac70>,\n",
       "  <matplotlib.axis.XTick at 0x1afca6cd310>,\n",
       "  <matplotlib.axis.XTick at 0x1afca6e7640>,\n",
       "  <matplotlib.axis.XTick at 0x1afca6e7df0>,\n",
       "  <matplotlib.axis.XTick at 0x1afca6f0340>,\n",
       "  <matplotlib.axis.XTick at 0x1afca6f0850>,\n",
       "  <matplotlib.axis.XTick at 0x1afca6f0d60>,\n",
       "  <matplotlib.axis.XTick at 0x1afca6f52b0>,\n",
       "  <matplotlib.axis.XTick at 0x1afca6f57c0>,\n",
       "  <matplotlib.axis.XTick at 0x1afca6f04c0>,\n",
       "  <matplotlib.axis.XTick at 0x1afca6bbd30>,\n",
       "  <matplotlib.axis.XTick at 0x1afca6e1c70>,\n",
       "  <matplotlib.axis.XTick at 0x1afca6f5bb0>,\n",
       "  <matplotlib.axis.XTick at 0x1afca6fb100>,\n",
       "  <matplotlib.axis.XTick at 0x1afca6fb610>,\n",
       "  <matplotlib.axis.XTick at 0x1afca6fbb20>,\n",
       "  <matplotlib.axis.XTick at 0x1afca701070>,\n",
       "  <matplotlib.axis.XTick at 0x1afca701580>,\n",
       "  <matplotlib.axis.XTick at 0x1afca6fb880>,\n",
       "  <matplotlib.axis.XTick at 0x1afca6f53d0>,\n",
       "  <matplotlib.axis.XTick at 0x1afca6f0e80>,\n",
       "  <matplotlib.axis.XTick at 0x1afca701b20>,\n",
       "  <matplotlib.axis.XTick at 0x1afca708070>,\n",
       "  <matplotlib.axis.XTick at 0x1afca708580>,\n",
       "  <matplotlib.axis.XTick at 0x1afca708a90>,\n",
       "  <matplotlib.axis.XTick at 0x1afca708fa0>,\n",
       "  <matplotlib.axis.XTick at 0x1afca70e4f0>,\n",
       "  <matplotlib.axis.XTick at 0x1afca70ea00>,\n",
       "  <matplotlib.axis.XTick at 0x1afca708760>,\n",
       "  <matplotlib.axis.XTick at 0x1afca701850>,\n",
       "  <matplotlib.axis.XTick at 0x1afca70ed60>,\n",
       "  <matplotlib.axis.XTick at 0x1afca70ef10>,\n",
       "  <matplotlib.axis.XTick at 0x1afca715460>,\n",
       "  <matplotlib.axis.XTick at 0x1afca715970>,\n",
       "  <matplotlib.axis.XTick at 0x1afca715e80>,\n",
       "  <matplotlib.axis.XTick at 0x1afca71a3d0>,\n",
       "  <matplotlib.axis.XTick at 0x1afca71a8e0>,\n",
       "  <matplotlib.axis.XTick at 0x1afca71adf0>,\n",
       "  <matplotlib.axis.XTick at 0x1afca71a4c0>,\n",
       "  <matplotlib.axis.XTick at 0x1afca715550>,\n",
       "  <matplotlib.axis.XTick at 0x1afca6da7f0>,\n",
       "  <matplotlib.axis.XTick at 0x1afca722340>,\n",
       "  <matplotlib.axis.XTick at 0x1afca722850>,\n",
       "  <matplotlib.axis.XTick at 0x1afca722d60>,\n",
       "  <matplotlib.axis.XTick at 0x1afca7272b0>,\n",
       "  <matplotlib.axis.XTick at 0x1afca7277c0>,\n",
       "  <matplotlib.axis.XTick at 0x1afca727cd0>,\n",
       "  <matplotlib.axis.XTick at 0x1afca72d220>,\n",
       "  <matplotlib.axis.XTick at 0x1afca727430>,\n",
       "  <matplotlib.axis.XTick at 0x1afca7224c0>,\n",
       "  <matplotlib.axis.XTick at 0x1afca715fa0>,\n",
       "  <matplotlib.axis.XTick at 0x1afca72d6a0>,\n",
       "  <matplotlib.axis.XTick at 0x1afca72dbb0>,\n",
       "  <matplotlib.axis.XTick at 0x1afca733100>,\n",
       "  <matplotlib.axis.XTick at 0x1afca733610>,\n",
       "  <matplotlib.axis.XTick at 0x1afca733b20>,\n",
       "  <matplotlib.axis.XTick at 0x1afca73a070>,\n",
       "  <matplotlib.axis.XTick at 0x1afca733880>,\n",
       "  <matplotlib.axis.XTick at 0x1afca72d910>,\n",
       "  <matplotlib.axis.XTick at 0x1afca722e80>,\n",
       "  <matplotlib.axis.XTick at 0x1afca73a610>,\n",
       "  <matplotlib.axis.XTick at 0x1afca73ab20>,\n",
       "  <matplotlib.axis.XTick at 0x1afca73f070>,\n",
       "  <matplotlib.axis.XTick at 0x1afca73f580>,\n",
       "  <matplotlib.axis.XTick at 0x1afca73fa90>,\n",
       "  <matplotlib.axis.XTick at 0x1afca73ffa0>,\n",
       "  <matplotlib.axis.XTick at 0x1afca7454f0>,\n",
       "  <matplotlib.axis.XTick at 0x1afca73f760>,\n",
       "  <matplotlib.axis.XTick at 0x1afca73a7f0>,\n",
       "  <matplotlib.axis.XTick at 0x1afca733190>,\n",
       "  <matplotlib.axis.XTick at 0x1afca745a00>,\n",
       "  <matplotlib.axis.XTick at 0x1afca745f10>,\n",
       "  <matplotlib.axis.XTick at 0x1afca74d460>,\n",
       "  <matplotlib.axis.XTick at 0x1afca74d970>,\n",
       "  <matplotlib.axis.XTick at 0x1afca74de80>,\n",
       "  <matplotlib.axis.XTick at 0x1afca7533d0>,\n",
       "  <matplotlib.axis.XTick at 0x1afca7538e0>,\n",
       "  <matplotlib.axis.XTick at 0x1afca74d640>,\n",
       "  <matplotlib.axis.XTick at 0x1afca7457f0>,\n",
       "  <matplotlib.axis.XTick at 0x1afca753640>,\n",
       "  <matplotlib.axis.XTick at 0x1afca753df0>,\n",
       "  <matplotlib.axis.XTick at 0x1afca75b340>,\n",
       "  <matplotlib.axis.XTick at 0x1afca75b850>,\n",
       "  <matplotlib.axis.XTick at 0x1afca75bd60>,\n",
       "  <matplotlib.axis.XTick at 0x1afca7602b0>,\n",
       "  <matplotlib.axis.XTick at 0x1afca7607c0>,\n",
       "  <matplotlib.axis.XTick at 0x1afca760cd0>,\n",
       "  <matplotlib.axis.XTick at 0x1afca75b4c0>,\n",
       "  <matplotlib.axis.XTick at 0x1afca727eb0>,\n",
       "  <matplotlib.axis.XTick at 0x1afca7608b0>,\n",
       "  <matplotlib.axis.XTick at 0x1afca767220>,\n",
       "  <matplotlib.axis.XTick at 0x1afca7677c0>,\n",
       "  <matplotlib.axis.XTick at 0x1afca767d60>,\n",
       "  <matplotlib.axis.XTick at 0x1afca76b340>,\n",
       "  <matplotlib.axis.XTick at 0x1afca76b8e0>,\n",
       "  <matplotlib.axis.XTick at 0x1afca76be80>,\n",
       "  <matplotlib.axis.XTick at 0x1afca76b3a0>,\n",
       "  <matplotlib.axis.XTick at 0x1afca760490>,\n",
       "  <matplotlib.axis.XTick at 0x1afca75beb0>,\n",
       "  <matplotlib.axis.XTick at 0x1afca7726a0>,\n",
       "  <matplotlib.axis.XTick at 0x1afca772c40>,\n",
       "  <matplotlib.axis.XTick at 0x1afca777220>,\n",
       "  <matplotlib.axis.XTick at 0x1afca7777c0>,\n",
       "  <matplotlib.axis.XTick at 0x1afca777d60>,\n",
       "  <matplotlib.axis.XTick at 0x1afca77c340>,\n",
       "  <matplotlib.axis.XTick at 0x1afca77c8e0>,\n",
       "  <matplotlib.axis.XTick at 0x1afca777310>,\n",
       "  <matplotlib.axis.XTick at 0x1afca74d580>,\n",
       "  <matplotlib.axis.XTick at 0x1afca77ca90>,\n",
       "  <matplotlib.axis.XTick at 0x1afca783070>,\n",
       "  <matplotlib.axis.XTick at 0x1afca783610>,\n",
       "  <matplotlib.axis.XTick at 0x1afca783bb0>,\n",
       "  <matplotlib.axis.XTick at 0x1afca788190>,\n",
       "  <matplotlib.axis.XTick at 0x1afca788730>,\n",
       "  <matplotlib.axis.XTick at 0x1afca788cd0>,\n",
       "  <matplotlib.axis.XTick at 0x1afca788220>,\n",
       "  <matplotlib.axis.XTick at 0x1afca7830d0>,\n",
       "  <matplotlib.axis.XTick at 0x1afca772e20>,\n",
       "  <matplotlib.axis.XTick at 0x1afca745580>,\n",
       "  <matplotlib.axis.XTick at 0x1afca70ea60>,\n",
       "  <matplotlib.axis.XTick at 0x1afca78c340>,\n",
       "  <matplotlib.axis.XTick at 0x1afca78c8e0>,\n",
       "  <matplotlib.axis.XTick at 0x1afca78ce80>,\n",
       "  <matplotlib.axis.XTick at 0x1afca793460>,\n",
       "  <matplotlib.axis.XTick at 0x1afca793a00>,\n",
       "  <matplotlib.axis.XTick at 0x1afca78c4c0>,\n",
       "  <matplotlib.axis.XTick at 0x1afca7720d0>,\n",
       "  <matplotlib.axis.XTick at 0x1afca7934c0>,\n",
       "  <matplotlib.axis.XTick at 0x1afca79a190>,\n",
       "  <matplotlib.axis.XTick at 0x1afca79a730>,\n",
       "  <matplotlib.axis.XTick at 0x1afca79acd0>,\n",
       "  <matplotlib.axis.XTick at 0x1afca79e2b0>,\n",
       "  <matplotlib.axis.XTick at 0x1afca79e850>,\n",
       "  <matplotlib.axis.XTick at 0x1afca79edf0>,\n",
       "  <matplotlib.axis.XTick at 0x1afca79e490>,\n",
       "  <matplotlib.axis.XTick at 0x1afca79a2b0>,\n",
       "  <matplotlib.axis.XTick at 0x1afca7a41c0>,\n",
       "  <matplotlib.axis.XTick at 0x1afca7a4730>,\n",
       "  <matplotlib.axis.XTick at 0x1afca7a4cd0>,\n",
       "  <matplotlib.axis.XTick at 0x1afca7a92b0>,\n",
       "  <matplotlib.axis.XTick at 0x1afca7a9850>,\n",
       "  <matplotlib.axis.XTick at 0x1afca7a9df0>,\n",
       "  <matplotlib.axis.XTick at 0x1afca7af3d0>,\n",
       "  <matplotlib.axis.XTick at 0x1afca7af970>,\n",
       "  <matplotlib.axis.XTick at 0x1afca7a4e20>,\n",
       "  <matplotlib.axis.XTick at 0x1afca793580>,\n",
       "  <matplotlib.axis.XTick at 0x1afca7afb20>,\n",
       "  <matplotlib.axis.XTick at 0x1afca7b6100>,\n",
       "  <matplotlib.axis.XTick at 0x1afca7b66a0>,\n",
       "  <matplotlib.axis.XTick at 0x1afca7b6c40>,\n",
       "  <matplotlib.axis.XTick at 0x1afca7ba220>,\n",
       "  <matplotlib.axis.XTick at 0x1afca7ba7c0>,\n",
       "  <matplotlib.axis.XTick at 0x1afca7bad60>,\n",
       "  <matplotlib.axis.XTick at 0x1afca7ba280>,\n",
       "  <matplotlib.axis.XTick at 0x1afca7afc70>,\n",
       "  <matplotlib.axis.XTick at 0x1afca7a9f40>,\n",
       "  <matplotlib.axis.XTick at 0x1afca7c0580>,\n",
       "  <matplotlib.axis.XTick at 0x1afca7c0b20>,\n",
       "  <matplotlib.axis.XTick at 0x1afca7c5100>,\n",
       "  <matplotlib.axis.XTick at 0x1afca7c56a0>,\n",
       "  <matplotlib.axis.XTick at 0x1afca7c5c40>,\n",
       "  <matplotlib.axis.XTick at 0x1afca7cb220>,\n",
       "  <matplotlib.axis.XTick at 0x1afca7cb7c0>,\n",
       "  <matplotlib.axis.XTick at 0x1afca7c51f0>,\n",
       "  <matplotlib.axis.XTick at 0x1afca79ae20>,\n",
       "  <matplotlib.axis.XTick at 0x1afca7cb970>,\n",
       "  <matplotlib.axis.XTick at 0x1afca7cbf10>,\n",
       "  <matplotlib.axis.XTick at 0x1afca7d04f0>,\n",
       "  <matplotlib.axis.XTick at 0x1afca7d0a90>,\n",
       "  <matplotlib.axis.XTick at 0x1afca7d6070>,\n",
       "  <matplotlib.axis.XTick at 0x1afca7d6610>,\n",
       "  <matplotlib.axis.XTick at 0x1afca7d6bb0>,\n",
       "  <matplotlib.axis.XTick at 0x1afca7d0550>,\n",
       "  <matplotlib.axis.XTick at 0x1afca7a9ee0>,\n",
       "  <matplotlib.axis.XTick at 0x1afca7d61c0>,\n",
       "  <matplotlib.axis.XTick at 0x1afca7dd3d0>,\n",
       "  <matplotlib.axis.XTick at 0x1afca7dd970>,\n",
       "  <matplotlib.axis.XTick at 0x1afca7ddf10>,\n",
       "  <matplotlib.axis.XTick at 0x1afca7e14f0>,\n",
       "  <matplotlib.axis.XTick at 0x1afca7e1a90>,\n",
       "  <matplotlib.axis.XTick at 0x1afca7e6070>,\n",
       "  <matplotlib.axis.XTick at 0x1afca7e6610>,\n",
       "  <matplotlib.axis.XTick at 0x1afca7ddfa0>,\n",
       "  <matplotlib.axis.XTick at 0x1afca7c5cd0>,\n",
       "  <matplotlib.axis.XTick at 0x1afca7e67c0>,\n",
       "  <matplotlib.axis.XTick at 0x1afca7e6d60>,\n",
       "  <matplotlib.axis.XTick at 0x1afca7ee340>,\n",
       "  <matplotlib.axis.XTick at 0x1afca7ee8e0>,\n",
       "  <matplotlib.axis.XTick at 0x1afca7eee80>,\n",
       "  <matplotlib.axis.XTick at 0x1afca7f1460>,\n",
       "  <matplotlib.axis.XTick at 0x1afca7f1a00>,\n",
       "  <matplotlib.axis.XTick at 0x1afca7ee5b0>,\n",
       "  <matplotlib.axis.XTick at 0x1afca7c0c10>,\n",
       "  <matplotlib.axis.XTick at 0x1afca7f1640>,\n",
       "  <matplotlib.axis.XTick at 0x1afca7f8220>,\n",
       "  <matplotlib.axis.XTick at 0x1afca7f87c0>,\n",
       "  <matplotlib.axis.XTick at 0x1afca7f8d60>,\n",
       "  <matplotlib.axis.XTick at 0x1afca7fc340>,\n",
       "  <matplotlib.axis.XTick at 0x1afca7fc8e0>,\n",
       "  <matplotlib.axis.XTick at 0x1afca7fce80>,\n",
       "  <matplotlib.axis.XTick at 0x1afca802460>,\n",
       "  <matplotlib.axis.XTick at 0x1afca7f8df0>,\n",
       "  <matplotlib.axis.XTick at 0x1afca7f1550>,\n",
       "  <matplotlib.axis.XTick at 0x1afca802610>,\n",
       "  <matplotlib.axis.XTick at 0x1afca802bb0>,\n",
       "  <matplotlib.axis.XTick at 0x1afca808190>,\n",
       "  <matplotlib.axis.XTick at 0x1afca808730>,\n",
       "  <matplotlib.axis.XTick at 0x1afca808cd0>,\n",
       "  <matplotlib.axis.XTick at 0x1afca80d2b0>,\n",
       "  <matplotlib.axis.XTick at 0x1afca80d850>,\n",
       "  <matplotlib.axis.XTick at 0x1afca808790>,\n",
       "  <matplotlib.axis.XTick at 0x1afca7e6ee0>,\n",
       "  <matplotlib.axis.XTick at 0x1afca80d400>,\n",
       "  <matplotlib.axis.XTick at 0x1afca815070>,\n",
       "  <matplotlib.axis.XTick at 0x1afca815610>,\n",
       "  <matplotlib.axis.XTick at 0x1afca815bb0>,\n",
       "  <matplotlib.axis.XTick at 0x1afca818190>,\n",
       "  <matplotlib.axis.XTick at 0x1afca818730>,\n",
       "  <matplotlib.axis.XTick at 0x1afca818cd0>,\n",
       "  <matplotlib.axis.XTick at 0x1afca81e2b0>,\n",
       "  <matplotlib.axis.XTick at 0x1afca818280>,\n",
       "  <matplotlib.axis.XTick at 0x1afca80dca0>,\n",
       "  <matplotlib.axis.XTick at 0x1afca81e460>,\n",
       "  <matplotlib.axis.XTick at 0x1afca81ea00>,\n",
       "  <matplotlib.axis.XTick at 0x1afca81efa0>,\n",
       "  <matplotlib.axis.XTick at 0x1afca824580>,\n",
       "  <matplotlib.axis.XTick at 0x1afca824b20>,\n",
       "  <matplotlib.axis.XTick at 0x1afca829100>,\n",
       "  <matplotlib.axis.XTick at 0x1afca8296a0>,\n",
       "  <matplotlib.axis.XTick at 0x1afca8245e0>,\n",
       "  <matplotlib.axis.XTick at 0x1afca818d60>,\n",
       "  <matplotlib.axis.XTick at 0x1afca80d8e0>,\n",
       "  <matplotlib.axis.XTick at 0x1afca7cb820>,\n",
       "  <matplotlib.axis.XTick at 0x1afca793a60>,\n",
       "  <matplotlib.axis.XTick at 0x1afca829cd0>,\n",
       "  <matplotlib.axis.XTick at 0x1afca8312b0>,\n",
       "  <matplotlib.axis.XTick at 0x1afca831850>,\n",
       "  <matplotlib.axis.XTick at 0x1afca831df0>,\n",
       "  <matplotlib.axis.XTick at 0x1afca8363d0>,\n",
       "  <matplotlib.axis.XTick at 0x1afca8314c0>,\n",
       "  <matplotlib.axis.XTick at 0x1afca7baeb0>,\n",
       "  <matplotlib.axis.XTick at 0x1afca824250>,\n",
       "  <matplotlib.axis.XTick at 0x1afca836b20>,\n",
       "  <matplotlib.axis.XTick at 0x1afca83c100>,\n",
       "  <matplotlib.axis.XTick at 0x1afca83c6a0>,\n",
       "  <matplotlib.axis.XTick at 0x1afca83cc40>,\n",
       "  <matplotlib.axis.XTick at 0x1afca840220>,\n",
       "  <matplotlib.axis.XTick at 0x1afca8407c0>,\n",
       "  <matplotlib.axis.XTick at 0x1afca83c880>,\n",
       "  <matplotlib.axis.XTick at 0x1afca836040>,\n",
       "  <matplotlib.axis.XTick at 0x1afca840490>,\n",
       "  <matplotlib.axis.XTick at 0x1afca847100>,\n",
       "  <matplotlib.axis.XTick at 0x1afca8476a0>,\n",
       "  <matplotlib.axis.XTick at 0x1afca847c40>,\n",
       "  <matplotlib.axis.XTick at 0x1afca84b220>,\n",
       "  <matplotlib.axis.XTick at 0x1afca84b7c0>,\n",
       "  <matplotlib.axis.XTick at 0x1afca84bd60>,\n",
       "  <matplotlib.axis.XTick at 0x1afca851340>,\n",
       "  <matplotlib.axis.XTick at 0x1afca84b310>,\n",
       "  <matplotlib.axis.XTick at 0x1afca840d30>,\n",
       "  <matplotlib.axis.XTick at 0x1afca8514f0>,\n",
       "  <matplotlib.axis.XTick at 0x1afca851a90>,\n",
       "  <matplotlib.axis.XTick at 0x1afca856070>,\n",
       "  <matplotlib.axis.XTick at 0x1afca856610>,\n",
       "  <matplotlib.axis.XTick at 0x1afca856bb0>,\n",
       "  <matplotlib.axis.XTick at 0x1afca85c190>,\n",
       "  <matplotlib.axis.XTick at 0x1afca85c730>,\n",
       "  <matplotlib.axis.XTick at 0x1afca856670>,\n",
       "  <matplotlib.axis.XTick at 0x1afca7f1b50>,\n",
       "  <matplotlib.axis.XTick at 0x1afca85c2e0>,\n",
       "  <matplotlib.axis.XTick at 0x1afca85cf10>,\n",
       "  <matplotlib.axis.XTick at 0x1afca8634f0>,\n",
       "  <matplotlib.axis.XTick at 0x1afca863a90>,\n",
       "  <matplotlib.axis.XTick at 0x1afca867070>,\n",
       "  <matplotlib.axis.XTick at 0x1afca867610>,\n",
       "  <matplotlib.axis.XTick at 0x1afca867bb0>,\n",
       "  <matplotlib.axis.XTick at 0x1afca86d190>,\n",
       "  <matplotlib.axis.XTick at 0x1afca867160>,\n",
       "  <matplotlib.axis.XTick at 0x1afca85cb80>,\n",
       "  <matplotlib.axis.XTick at 0x1afca86d340>,\n",
       "  <matplotlib.axis.XTick at 0x1afca86d8e0>,\n",
       "  <matplotlib.axis.XTick at 0x1afca86de80>,\n",
       "  <matplotlib.axis.XTick at 0x1afca872460>,\n",
       "  <matplotlib.axis.XTick at 0x1afca872a00>,\n",
       "  <matplotlib.axis.XTick at 0x1afca872fa0>,\n",
       "  <matplotlib.axis.XTick at 0x1afca878580>,\n",
       "  <matplotlib.axis.XTick at 0x1afca8724c0>,\n",
       "  <matplotlib.axis.XTick at 0x1afca829f40>,\n",
       "  <matplotlib.axis.XTick at 0x1afca878130>,\n",
       "  <matplotlib.axis.XTick at 0x1afca878d60>,\n",
       "  <matplotlib.axis.XTick at 0x1afca87f340>,\n",
       "  <matplotlib.axis.XTick at 0x1afca87f8e0>,\n",
       "  <matplotlib.axis.XTick at 0x1afca87fe80>,\n",
       "  <matplotlib.axis.XTick at 0x1afca883460>,\n",
       "  <matplotlib.axis.XTick at 0x1afca883a00>,\n",
       "  <matplotlib.axis.XTick at 0x1afca883fa0>,\n",
       "  <matplotlib.axis.XTick at 0x1afca87ff70>,\n",
       "  <matplotlib.axis.XTick at 0x1afca8789d0>,\n",
       "  <matplotlib.axis.XTick at 0x1afca889190>,\n",
       "  <matplotlib.axis.XTick at 0x1afca889730>,\n",
       "  <matplotlib.axis.XTick at 0x1afca889cd0>,\n",
       "  <matplotlib.axis.XTick at 0x1afca8902b0>,\n",
       "  <matplotlib.axis.XTick at 0x1afca890850>,\n",
       "  <matplotlib.axis.XTick at 0x1afca890df0>,\n",
       "  <matplotlib.axis.XTick at 0x1afca8943d0>,\n",
       "  <matplotlib.axis.XTick at 0x1afca890970>,\n",
       "  <matplotlib.axis.XTick at 0x1afca889400>,\n",
       "  <matplotlib.axis.XTick at 0x1afca883be0>,\n",
       "  <matplotlib.axis.XTick at 0x1afca894bb0>,\n",
       "  <matplotlib.axis.XTick at 0x1afca89a190>,\n",
       "  <matplotlib.axis.XTick at 0x1afca89a730>,\n",
       "  <matplotlib.axis.XTick at 0x1afca89acd0>,\n",
       "  <matplotlib.axis.XTick at 0x1afca89f2b0>,\n",
       "  <matplotlib.axis.XTick at 0x1afca89f850>,\n",
       "  <matplotlib.axis.XTick at 0x1afca89fdf0>,\n",
       "  <matplotlib.axis.XTick at 0x1afca89a280>,\n",
       "  <matplotlib.axis.XTick at 0x1afca889d60>,\n",
       "  <matplotlib.axis.XTick at 0x1afca89ffa0>,\n",
       "  <matplotlib.axis.XTick at 0x1afca8a5580>,\n",
       "  <matplotlib.axis.XTick at 0x1afca8a5b20>,\n",
       "  <matplotlib.axis.XTick at 0x1afca8ab100>,\n",
       "  <matplotlib.axis.XTick at 0x1afca8ab6a0>,\n",
       "  <matplotlib.axis.XTick at 0x1afca8abc40>,\n",
       "  <matplotlib.axis.XTick at 0x1afca8af220>,\n",
       "  <matplotlib.axis.XTick at 0x1afca8ab700>,\n",
       "  <matplotlib.axis.XTick at 0x1afca8a5130>,\n",
       "  <matplotlib.axis.XTick at 0x1afca89ae20>,\n",
       "  <matplotlib.axis.XTick at 0x1afca8afa00>,\n",
       "  <matplotlib.axis.XTick at 0x1afca8affa0>,\n",
       "  <matplotlib.axis.XTick at 0x1afca8b7580>,\n",
       "  <matplotlib.axis.XTick at 0x1afca8b7b20>,\n",
       "  <matplotlib.axis.XTick at 0x1afca8ba100>,\n",
       "  <matplotlib.axis.XTick at 0x1afca8ba6a0>,\n",
       "  <matplotlib.axis.XTick at 0x1afca8bac40>,\n",
       "  <matplotlib.axis.XTick at 0x1afca8b70d0>,\n",
       "  <matplotlib.axis.XTick at 0x1afca8ab280>,\n",
       "  <matplotlib.axis.XTick at 0x1afca8badf0>,\n",
       "  <matplotlib.axis.XTick at 0x1afca8c13d0>,\n",
       "  <matplotlib.axis.XTick at 0x1afca8c1970>,\n",
       "  <matplotlib.axis.XTick at 0x1afca8c1f10>,\n",
       "  <matplotlib.axis.XTick at 0x1afca8c64f0>,\n",
       "  <matplotlib.axis.XTick at 0x1afca8c6a90>,\n",
       "  <matplotlib.axis.XTick at 0x1afca8cb070>,\n",
       "  <matplotlib.axis.XTick at 0x1afca8c6550>,\n",
       "  <matplotlib.axis.XTick at 0x1afca8c1040>,\n",
       "  <matplotlib.axis.XTick at 0x1afca8af670>,\n",
       "  <matplotlib.axis.XTick at 0x1afca8786d0>,\n",
       "  <matplotlib.axis.XTick at 0x1afca840820>,\n",
       "  <matplotlib.axis.XTick at 0x1afca8cb6a0>,\n",
       "  <matplotlib.axis.XTick at 0x1afca8cbc40>,\n",
       "  <matplotlib.axis.XTick at 0x1afcc2b2220>,\n",
       "  <matplotlib.axis.XTick at 0x1afcc2b27c0>,\n",
       "  <matplotlib.axis.XTick at 0x1afcc2b2d60>,\n",
       "  <matplotlib.axis.XTick at 0x1afcc2b2310>,\n",
       "  <matplotlib.axis.XTick at 0x1afca86d2b0>,\n",
       "  <matplotlib.axis.XTick at 0x1afca8c60a0>,\n",
       "  <matplotlib.axis.XTick at 0x1afcc2b94f0>,\n",
       "  <matplotlib.axis.XTick at 0x1afcc2b9a90>,\n",
       "  <matplotlib.axis.XTick at 0x1afcc2be070>,\n",
       "  <matplotlib.axis.XTick at 0x1afcc2be610>,\n",
       "  <matplotlib.axis.XTick at 0x1afcc2bebb0>,\n",
       "  <matplotlib.axis.XTick at 0x1afcc2c2190>,\n",
       "  <matplotlib.axis.XTick at 0x1afcc2be7f0>,\n",
       "  <matplotlib.axis.XTick at 0x1afcc2b9550>,\n",
       "  <matplotlib.axis.XTick at 0x1afcc2c2520>,\n",
       "  <matplotlib.axis.XTick at 0x1afcc2c2a90>,\n",
       "  <matplotlib.axis.XTick at 0x1afcc2c7070>,\n",
       "  <matplotlib.axis.XTick at 0x1afcc2c7610>,\n",
       "  <matplotlib.axis.XTick at 0x1afcc2c7bb0>,\n",
       "  <matplotlib.axis.XTick at 0x1afcc2cf190>,\n",
       "  <matplotlib.axis.XTick at 0x1afcc2cf730>,\n",
       "  <matplotlib.axis.XTick at 0x1afcc2cfcd0>,\n",
       "  <matplotlib.axis.XTick at 0x1afcc2c7160>,\n",
       "  <matplotlib.axis.XTick at 0x1afcc2be160>,\n",
       "  <matplotlib.axis.XTick at 0x1afcc2cfe80>,\n",
       "  <matplotlib.axis.XTick at 0x1afcc2d4460>,\n",
       "  <matplotlib.axis.XTick at 0x1afcc2d4a00>,\n",
       "  <matplotlib.axis.XTick at 0x1afcc2d4fa0>,\n",
       "  <matplotlib.axis.XTick at 0x1afcc2d9580>,\n",
       "  <matplotlib.axis.XTick at 0x1afcc2d9b20>,\n",
       "  <matplotlib.axis.XTick at 0x1afcc2df100>,\n",
       "  <matplotlib.axis.XTick at 0x1afcc2d95e0>,\n",
       "  <matplotlib.axis.XTick at 0x1afcc2d4070>,\n",
       "  <matplotlib.axis.XTick at 0x1afcc2c7d00>,\n",
       "  <matplotlib.axis.XTick at 0x1afcc2df8e0>,\n",
       "  <matplotlib.axis.XTick at 0x1afcc2dfe80>,\n",
       "  <matplotlib.axis.XTick at 0x1afcc2e5460>,\n",
       "  <matplotlib.axis.XTick at 0x1afcc2e5a00>,\n",
       "  <matplotlib.axis.XTick at 0x1afcc2e5fa0>,\n",
       "  <matplotlib.axis.XTick at 0x1afcc2e9580>,\n",
       "  <matplotlib.axis.XTick at 0x1afcc2e9b20>,\n",
       "  <matplotlib.axis.XTick at 0x1afcc2dfee0>,\n",
       "  <matplotlib.axis.XTick at 0x1afcc2d9160>,\n",
       "  <matplotlib.axis.XTick at 0x1afcc2e9cd0>,\n",
       "  <matplotlib.axis.XTick at 0x1afcc2f02b0>,\n",
       "  <matplotlib.axis.XTick at 0x1afcc2f0850>,\n",
       "  <matplotlib.axis.XTick at 0x1afcc2f0df0>,\n",
       "  <matplotlib.axis.XTick at 0x1afcc2f63d0>,\n",
       "  <matplotlib.axis.XTick at 0x1afcc2f6970>,\n",
       "  <matplotlib.axis.XTick at 0x1afcc2f6f10>,\n",
       "  <matplotlib.axis.XTick at 0x1afcc2f6430>,\n",
       "  <matplotlib.axis.XTick at 0x1afcc2e9e20>,\n",
       "  <matplotlib.axis.XTick at 0x1afcc2e5b50>,\n",
       "  <matplotlib.axis.XTick at 0x1afcc2f9730>,\n",
       "  <matplotlib.axis.XTick at 0x1afcc2f9cd0>,\n",
       "  <matplotlib.axis.XTick at 0x1afcc3012b0>,\n",
       "  <matplotlib.axis.XTick at 0x1afcc301850>,\n",
       "  <matplotlib.axis.XTick at 0x1afcc301df0>,\n",
       "  <matplotlib.axis.XTick at 0x1afcc3053d0>,\n",
       "  <matplotlib.axis.XTick at 0x1afcc305970>,\n",
       "  <matplotlib.axis.XTick at 0x1afcc2e5be0>,\n",
       "  <matplotlib.axis.XTick at 0x1afcc2e9d60>,\n",
       "  <matplotlib.axis.XTick at 0x1afcc305b20>,\n",
       "  <matplotlib.axis.XTick at 0x1afcc30c100>,\n",
       "  <matplotlib.axis.XTick at 0x1afcc30c6a0>,\n",
       "  <matplotlib.axis.XTick at 0x1afcc30cc40>,\n",
       "  <matplotlib.axis.XTick at 0x1afcc310220>,\n",
       "  <matplotlib.axis.XTick at 0x1afcc3107c0>,\n",
       "  <matplotlib.axis.XTick at 0x1afcc310d60>,\n",
       "  <matplotlib.axis.XTick at 0x1afcc310280>,\n",
       "  <matplotlib.axis.XTick at 0x1afcc305c70>,\n",
       "  <matplotlib.axis.XTick at 0x1afcc301f40>,\n",
       "  <matplotlib.axis.XTick at 0x1afcc316580>,\n",
       "  <matplotlib.axis.XTick at 0x1afcc316b20>,\n",
       "  <matplotlib.axis.XTick at 0x1afcc31d100>,\n",
       "  <matplotlib.axis.XTick at 0x1afcc31d6a0>,\n",
       "  <matplotlib.axis.XTick at 0x1afcc31dc40>,\n",
       "  <matplotlib.axis.XTick at 0x1afcc323220>,\n",
       "  <matplotlib.axis.XTick at 0x1afcc3237c0>,\n",
       "  <matplotlib.axis.XTick at 0x1afcc31d1f0>,\n",
       "  <matplotlib.axis.XTick at 0x1afcc2f0a60>,\n",
       "  <matplotlib.axis.XTick at 0x1afcc323970>,\n",
       "  <matplotlib.axis.XTick at 0x1afcc323f10>,\n",
       "  <matplotlib.axis.XTick at 0x1afcc3284f0>,\n",
       "  <matplotlib.axis.XTick at 0x1afcc328a90>,\n",
       "  <matplotlib.axis.XTick at 0x1afcc32e070>,\n",
       "  <matplotlib.axis.XTick at 0x1afcc32e610>,\n",
       "  <matplotlib.axis.XTick at 0x1afcc32ebb0>,\n",
       "  <matplotlib.axis.XTick at 0x1afcc328550>,\n",
       "  <matplotlib.axis.XTick at 0x1afcc301ee0>,\n",
       "  <matplotlib.axis.XTick at 0x1afcc32e1c0>,\n",
       "  <matplotlib.axis.XTick at 0x1afcc3343d0>,\n",
       "  <matplotlib.axis.XTick at 0x1afcc334970>,\n",
       "  <matplotlib.axis.XTick at 0x1afcc334f10>,\n",
       "  <matplotlib.axis.XTick at 0x1afcc3384f0>,\n",
       "  <matplotlib.axis.XTick at 0x1afcc338a90>,\n",
       "  <matplotlib.axis.XTick at 0x1afcc33f070>,\n",
       "  <matplotlib.axis.XTick at 0x1afcc33f610>,\n",
       "  <matplotlib.axis.XTick at 0x1afcc334fa0>,\n",
       "  <matplotlib.axis.XTick at 0x1afcc31dcd0>,\n",
       "  <matplotlib.axis.XTick at 0x1afcc33f7c0>,\n",
       "  <matplotlib.axis.XTick at 0x1afcc33fd60>,\n",
       "  <matplotlib.axis.XTick at 0x1afcc344340>,\n",
       "  <matplotlib.axis.XTick at 0x1afcc3448e0>,\n",
       "  <matplotlib.axis.XTick at 0x1afcc344e80>,\n",
       "  <matplotlib.axis.XTick at 0x1afcc349460>,\n",
       "  <matplotlib.axis.XTick at 0x1afcc349a00>,\n",
       "  <matplotlib.axis.XTick at 0x1afcc3445b0>,\n",
       "  <matplotlib.axis.XTick at 0x1afcc33ff70>,\n",
       "  <matplotlib.axis.XTick at 0x1afcc323fa0>,\n",
       "  <matplotlib.axis.XTick at 0x1afcc2df370>,\n",
       "  <matplotlib.axis.XTick at 0x1afcc349ca0>,\n",
       "  <matplotlib.axis.XTick at 0x1afcc350070>,\n",
       "  <matplotlib.axis.XTick at 0x1afcc350610>,\n",
       "  <matplotlib.axis.XTick at 0x1afcc350bb0>,\n",
       "  <matplotlib.axis.XTick at 0x1afcc355190>,\n",
       "  <matplotlib.axis.XTick at 0x1afcc355730>,\n",
       "  <matplotlib.axis.XTick at 0x1afcc350730>,\n",
       "  <matplotlib.axis.XTick at 0x1afcc310e50>,\n",
       "  <matplotlib.axis.XTick at 0x1afcc3553a0>,\n",
       "  <matplotlib.axis.XTick at 0x1afcc355e80>,\n",
       "  <matplotlib.axis.XTick at 0x1afcc35c460>,\n",
       "  <matplotlib.axis.XTick at 0x1afcc35ca00>,\n",
       "  <matplotlib.axis.XTick at 0x1afcc35cfa0>,\n",
       "  <matplotlib.axis.XTick at 0x1afcc361580>,\n",
       "  <matplotlib.axis.XTick at 0x1afcc361b20>,\n",
       "  <matplotlib.axis.XTick at 0x1afcc35c640>,\n",
       "  <matplotlib.axis.XTick at 0x1afcc310fd0>,\n",
       "  <matplotlib.axis.XTick at 0x1afcc361250>,\n",
       "  <matplotlib.axis.XTick at 0x1afcc366460>,\n",
       "  <matplotlib.axis.XTick at 0x1afcc366a00>,\n",
       "  <matplotlib.axis.XTick at 0x1afcc366fa0>,\n",
       "  <matplotlib.axis.XTick at 0x1afcc36b580>,\n",
       "  <matplotlib.axis.XTick at 0x1afcc36bb20>,\n",
       "  <matplotlib.axis.XTick at 0x1afcc372100>,\n",
       "  <matplotlib.axis.XTick at 0x1afcc3726a0>,\n",
       "  <matplotlib.axis.XTick at 0x1afcc36b0d0>,\n",
       "  <matplotlib.axis.XTick at 0x1afcc361e50>,\n",
       "  <matplotlib.axis.XTick at 0x1afcc372850>,\n",
       "  <matplotlib.axis.XTick at 0x1afcc372df0>,\n",
       "  <matplotlib.axis.XTick at 0x1afcc3773d0>,\n",
       "  <matplotlib.axis.XTick at 0x1afcc377970>,\n",
       "  <matplotlib.axis.XTick at 0x1afcc377f10>,\n",
       "  <matplotlib.axis.XTick at 0x1afcc37d4f0>,\n",
       "  <matplotlib.axis.XTick at 0x1afcc37da90>,\n",
       "  <matplotlib.axis.XTick at 0x1afcc377550>,\n",
       "  <matplotlib.axis.XTick at 0x1afcc3501f0>,\n",
       "  <matplotlib.axis.XTick at 0x1afcc37d5e0>,\n",
       "  <matplotlib.axis.XTick at 0x1afcc3842b0>,\n",
       "  <matplotlib.axis.XTick at 0x1afcc384850>,\n",
       "  <matplotlib.axis.XTick at 0x1afcc384df0>,\n",
       "  <matplotlib.axis.XTick at 0x1afcc3873d0>,\n",
       "  <matplotlib.axis.XTick at 0x1afcc387970>,\n",
       "  <matplotlib.axis.XTick at 0x1afcc387f10>,\n",
       "  <matplotlib.axis.XTick at 0x1afcc38d4f0>,\n",
       "  <matplotlib.axis.XTick at 0x1afcc384fd0>,\n",
       "  <matplotlib.axis.XTick at 0x1afcc37d130>,\n",
       "  <matplotlib.axis.XTick at 0x1afcc38d6a0>,\n",
       "  <matplotlib.axis.XTick at 0x1afcc38dc40>,\n",
       "  <matplotlib.axis.XTick at 0x1afcc393220>,\n",
       "  <matplotlib.axis.XTick at 0x1afcc3937c0>,\n",
       "  <matplotlib.axis.XTick at 0x1afcc393d60>,\n",
       "  <matplotlib.axis.XTick at 0x1afcc39a340>,\n",
       "  <matplotlib.axis.XTick at 0x1afcc39a8e0>,\n",
       "  <matplotlib.axis.XTick at 0x1afcc393820>,\n",
       "  <matplotlib.axis.XTick at 0x1afcc372e50>,\n",
       "  <matplotlib.axis.XTick at 0x1afcc39a490>,\n",
       "  <matplotlib.axis.XTick at 0x1afcc39e100>,\n",
       "  <matplotlib.axis.XTick at 0x1afcc39e6a0>,\n",
       "  <matplotlib.axis.XTick at 0x1afcc39ec40>,\n",
       "  <matplotlib.axis.XTick at 0x1afcc3a4220>,\n",
       "  <matplotlib.axis.XTick at 0x1afcc3a47c0>,\n",
       "  <matplotlib.axis.XTick at 0x1afcc3a4d60>,\n",
       "  <matplotlib.axis.XTick at 0x1afcc3ab340>,\n",
       "  <matplotlib.axis.XTick at 0x1afcc3a4310>,\n",
       "  <matplotlib.axis.XTick at 0x1afcc39ad30>,\n",
       "  <matplotlib.axis.XTick at 0x1afcc3ab4f0>,\n",
       "  <matplotlib.axis.XTick at 0x1afcc3aba90>,\n",
       "  <matplotlib.axis.XTick at 0x1afcc3b0070>,\n",
       "  <matplotlib.axis.XTick at 0x1afcc3b0610>,\n",
       "  <matplotlib.axis.XTick at 0x1afcc3b0bb0>,\n",
       "  <matplotlib.axis.XTick at 0x1afcc3b5190>,\n",
       "  <matplotlib.axis.XTick at 0x1afcc3b5730>,\n",
       "  <matplotlib.axis.XTick at 0x1afcc3b0670>,\n",
       "  <matplotlib.axis.XTick at 0x1afcc372f40>,\n",
       "  <matplotlib.axis.XTick at 0x1afcc3b52e0>,\n",
       "  <matplotlib.axis.XTick at 0x1afcc3b5f10>,\n",
       "  <matplotlib.axis.XTick at 0x1afcc3bb4f0>,\n",
       "  <matplotlib.axis.XTick at 0x1afcc3bba90>,\n",
       "  <matplotlib.axis.XTick at 0x1afcc3c1070>,\n",
       "  <matplotlib.axis.XTick at 0x1afcc3c1610>,\n",
       "  <matplotlib.axis.XTick at 0x1afcc3c1bb0>,\n",
       "  <matplotlib.axis.XTick at 0x1afcc3c5190>,\n",
       "  <matplotlib.axis.XTick at 0x1afcc3c1160>,\n",
       "  <matplotlib.axis.XTick at 0x1afcc3b5b80>,\n",
       "  <matplotlib.axis.XTick at 0x1afcc3c5340>,\n",
       "  <matplotlib.axis.XTick at 0x1afcc3c58e0>,\n",
       "  <matplotlib.axis.XTick at 0x1afcc3c5e80>,\n",
       "  <matplotlib.axis.XTick at 0x1afcc3cb460>,\n",
       "  <matplotlib.axis.XTick at 0x1afcc3cba00>,\n",
       "  <matplotlib.axis.XTick at 0x1afcc3cbfa0>,\n",
       "  <matplotlib.axis.XTick at 0x1afcc3d2580>,\n",
       "  <matplotlib.axis.XTick at 0x1afcc3cb4c0>,\n",
       "  <matplotlib.axis.XTick at 0x1afcc384940>,\n",
       "  <matplotlib.axis.XTick at 0x1afcc3d2130>,\n",
       "  <matplotlib.axis.XTick at 0x1afcc3d2d60>,\n",
       "  <matplotlib.axis.XTick at 0x1afcc3d8340>,\n",
       "  <matplotlib.axis.XTick at 0x1afcc3d88e0>,\n",
       "  <matplotlib.axis.XTick at 0x1afcc3d8e80>,\n",
       "  <matplotlib.axis.XTick at 0x1afcc3dc460>,\n",
       "  <matplotlib.axis.XTick at 0x1afcc3dca00>,\n",
       "  <matplotlib.axis.XTick at 0x1afcc3dcfa0>,\n",
       "  <matplotlib.axis.XTick at 0x1afcc3d8f70>,\n",
       "  <matplotlib.axis.XTick at 0x1afcc3d29d0>,\n",
       "  <matplotlib.axis.XTick at 0x1afcc3e3190>,\n",
       "  <matplotlib.axis.XTick at 0x1afcc3e3730>,\n",
       "  <matplotlib.axis.XTick at 0x1afcc3e3cd0>,\n",
       "  <matplotlib.axis.XTick at 0x1afcc3e82b0>,\n",
       "  <matplotlib.axis.XTick at 0x1afcc3e8850>,\n",
       "  <matplotlib.axis.XTick at 0x1afcc3e8df0>,\n",
       "  <matplotlib.axis.XTick at 0x1afcc3ed3d0>,\n",
       "  <matplotlib.axis.XTick at 0x1afcc3e8970>,\n",
       "  <matplotlib.axis.XTick at 0x1afcc3e3e20>,\n",
       "  <matplotlib.axis.XTick at 0x1afcc3d2100>,\n",
       "  <matplotlib.axis.XTick at 0x1afcc39ab50>,\n",
       "  <matplotlib.axis.XTick at 0x1afcc361c40>,\n",
       "  <matplotlib.axis.XTick at 0x1afcc3eda00>,\n",
       "  <matplotlib.axis.XTick at 0x1afcc3edfa0>,\n",
       "  <matplotlib.axis.XTick at 0x1afcc3f4580>,\n",
       "  <matplotlib.axis.XTick at 0x1afcc3f4b20>,\n",
       "  <matplotlib.axis.XTick at 0x1afcc3fa100>,\n",
       "  <matplotlib.axis.XTick at 0x1afcc3f46a0>,\n",
       "  <matplotlib.axis.XTick at 0x1afcc37dca0>,\n",
       "  <matplotlib.axis.XTick at 0x1afcc3e83a0>,\n",
       "  <matplotlib.axis.XTick at 0x1afcc3fa850>,\n",
       "  <matplotlib.axis.XTick at 0x1afcc3fadf0>,\n",
       "  <matplotlib.axis.XTick at 0x1afcc3ff3d0>,\n",
       "  <matplotlib.axis.XTick at 0x1afcc3ff970>,\n",
       "  <matplotlib.axis.XTick at 0x1afcc3fff10>,\n",
       "  <matplotlib.axis.XTick at 0x1afcc4054f0>,\n",
       "  <matplotlib.axis.XTick at 0x1afcc3ff460>,\n",
       "  <matplotlib.axis.XTick at 0x1afcc3fa490>,\n",
       "  <matplotlib.axis.XTick at 0x1afcc4050a0>,\n",
       "  <matplotlib.axis.XTick at 0x1afcc405df0>,\n",
       "  <matplotlib.axis.XTick at 0x1afcc40a3d0>,\n",
       "  <matplotlib.axis.XTick at 0x1afcc40a970>,\n",
       "  <matplotlib.axis.XTick at 0x1afcc40af10>,\n",
       "  <matplotlib.axis.XTick at 0x1afcc4104f0>,\n",
       "  <matplotlib.axis.XTick at 0x1afcc410a90>,\n",
       "  <matplotlib.axis.XTick at 0x1afcc413070>,\n",
       "  <matplotlib.axis.XTick at 0x1afcc40afa0>,\n",
       "  <matplotlib.axis.XTick at 0x1afcc405a60>,\n",
       "  <matplotlib.axis.XTick at 0x1afcc413220>,\n",
       "  <matplotlib.axis.XTick at 0x1afcc4137c0>,\n",
       "  <matplotlib.axis.XTick at 0x1afcc413d60>,\n",
       "  <matplotlib.axis.XTick at 0x1afcc41b340>,\n",
       "  <matplotlib.axis.XTick at 0x1afcc41b8e0>,\n",
       "  <matplotlib.axis.XTick at 0x1afcc41be80>,\n",
       "  <matplotlib.axis.XTick at 0x1afcc420460>,\n",
       "  <matplotlib.axis.XTick at 0x1afcc41b5b0>,\n",
       "  <matplotlib.axis.XTick at 0x1afcc413400>,\n",
       "  <matplotlib.axis.XTick at 0x1afcc420700>,\n",
       "  <matplotlib.axis.XTick at 0x1afcc420c40>,\n",
       "  <matplotlib.axis.XTick at 0x1afcc426220>,\n",
       "  <matplotlib.axis.XTick at 0x1afcc4267c0>,\n",
       "  <matplotlib.axis.XTick at 0x1afcc426d60>,\n",
       "  <matplotlib.axis.XTick at 0x1afcc42c340>,\n",
       "  <matplotlib.axis.XTick at 0x1afcc42c8e0>,\n",
       "  <matplotlib.axis.XTick at 0x1afcc42ce80>,\n",
       "  <matplotlib.axis.XTick at 0x1afcc426ee0>,\n",
       "  <matplotlib.axis.XTick at 0x1afcc420d30>,\n",
       "  <matplotlib.axis.XTick at 0x1afcc433070>,\n",
       "  <matplotlib.axis.XTick at 0x1afcc433610>,\n",
       "  <matplotlib.axis.XTick at 0x1afcc433bb0>,\n",
       "  <matplotlib.axis.XTick at 0x1afcc437190>,\n",
       "  <matplotlib.axis.XTick at 0x1afcc437730>,\n",
       "  <matplotlib.axis.XTick at 0x1afcc437cd0>,\n",
       "  <matplotlib.axis.XTick at 0x1afcc43d2b0>,\n",
       "  <matplotlib.axis.XTick at 0x1afcc437790>,\n",
       "  <matplotlib.axis.XTick at 0x1afcc4331c0>,\n",
       "  <matplotlib.axis.XTick at 0x1afcc42cf10>,\n",
       "  <matplotlib.axis.XTick at 0x1afcc43da90>,\n",
       "  <matplotlib.axis.XTick at 0x1afcc442070>,\n",
       "  <matplotlib.axis.XTick at 0x1afcc442610>,\n",
       "  <matplotlib.axis.XTick at 0x1afcc442bb0>,\n",
       "  <matplotlib.axis.XTick at 0x1afcc448190>,\n",
       "  <matplotlib.axis.XTick at 0x1afcc448730>,\n",
       "  <matplotlib.axis.XTick at 0x1afcc448cd0>,\n",
       "  <matplotlib.axis.XTick at 0x1afcc442160>,\n",
       "  <matplotlib.axis.XTick at 0x1afcc437310>,\n",
       "  <matplotlib.axis.XTick at 0x1afcc448e80>,\n",
       "  <matplotlib.axis.XTick at 0x1afcc450460>,\n",
       "  <matplotlib.axis.XTick at 0x1afcc450a00>,\n",
       "  <matplotlib.axis.XTick at 0x1afcc450fa0>,\n",
       "  <matplotlib.axis.XTick at 0x1afcc453580>,\n",
       "  <matplotlib.axis.XTick at 0x1afcc453b20>,\n",
       "  <matplotlib.axis.XTick at 0x1afcc459100>,\n",
       "  <matplotlib.axis.XTick at 0x1afcc4535e0>,\n",
       "  <matplotlib.axis.XTick at 0x1afcc450070>,\n",
       "  <matplotlib.axis.XTick at 0x1afcc442d00>,\n",
       "  <matplotlib.axis.XTick at 0x1afcc4598e0>,\n",
       "  <matplotlib.axis.XTick at 0x1afcc459e80>,\n",
       "  <matplotlib.axis.XTick at 0x1afcc45e460>,\n",
       "  <matplotlib.axis.XTick at 0x1afcc45ea00>,\n",
       "  <matplotlib.axis.XTick at 0x1afcc45efa0>,\n",
       "  <matplotlib.axis.XTick at 0x1afcc464580>,\n",
       "  <matplotlib.axis.XTick at 0x1afcc464b20>,\n",
       "  <matplotlib.axis.XTick at 0x1afcc459ee0>,\n",
       "  <matplotlib.axis.XTick at 0x1afcc453160>,\n",
       "  <matplotlib.axis.XTick at 0x1afcc464cd0>,\n",
       "  <matplotlib.axis.XTick at 0x1afcc46a2b0>,\n",
       "  <matplotlib.axis.XTick at 0x1afcc46a850>,\n",
       "  <matplotlib.axis.XTick at 0x1afcc46adf0>,\n",
       "  <matplotlib.axis.XTick at 0x1afcc46f3d0>,\n",
       "  <matplotlib.axis.XTick at 0x1afcc46f970>,\n",
       "  <matplotlib.axis.XTick at 0x1afcc46ff10>,\n",
       "  <matplotlib.axis.XTick at 0x1afcc46f430>,\n",
       "  <matplotlib.axis.XTick at 0x1afcc464e20>,\n",
       "  <matplotlib.axis.XTick at 0x1afcc45eb50>,\n",
       "  <matplotlib.axis.XTick at 0x1afcc475730>,\n",
       "  <matplotlib.axis.XTick at 0x1afcc475cd0>,\n",
       "  <matplotlib.axis.XTick at 0x1afcc47a2b0>,\n",
       "  <matplotlib.axis.XTick at 0x1afcc47a850>,\n",
       "  <matplotlib.axis.XTick at 0x1afcc47adf0>,\n",
       "  <matplotlib.axis.XTick at 0x1afcc4803d0>,\n",
       "  <matplotlib.axis.XTick at 0x1afcc480970>,\n",
       "  <matplotlib.axis.XTick at 0x1afcc45ebe0>,\n",
       "  <matplotlib.axis.XTick at 0x1afcc464d60>,\n",
       "  <matplotlib.axis.XTick at 0x1afcc480b20>,\n",
       "  <matplotlib.axis.XTick at 0x1afcc488100>,\n",
       "  <matplotlib.axis.XTick at 0x1afcc4886a0>,\n",
       "  <matplotlib.axis.XTick at 0x1afcc488c40>,\n",
       "  <matplotlib.axis.XTick at 0x1afcc48d220>,\n",
       "  <matplotlib.axis.XTick at 0x1afcc48d7c0>,\n",
       "  <matplotlib.axis.XTick at 0x1afcc48dd60>,\n",
       "  <matplotlib.axis.XTick at 0x1afcc48d280>,\n",
       "  <matplotlib.axis.XTick at 0x1afcc46af10>,\n",
       "  <matplotlib.axis.XTick at 0x1afcc475dc0>,\n",
       "  <matplotlib.axis.XTick at 0x1afcc43d400>,\n",
       "  <matplotlib.axis.XTick at 0x1afcc405550>,\n",
       "  <matplotlib.axis.XTick at 0x1afcc4913d0>,\n",
       "  <matplotlib.axis.XTick at 0x1afcc491970>,\n",
       "  <matplotlib.axis.XTick at 0x1afcc491f10>,\n",
       "  <matplotlib.axis.XTick at 0x1afcc4984f0>,\n",
       "  <matplotlib.axis.XTick at 0x1afcc498a90>,\n",
       "  <matplotlib.axis.XTick at 0x1afcc491430>,\n",
       "  <matplotlib.axis.XTick at 0x1afcc480c70>,\n",
       "  <matplotlib.axis.XTick at 0x1afcc498610>,\n",
       "  <matplotlib.axis.XTick at 0x1afcc49f220>,\n",
       "  <matplotlib.axis.XTick at 0x1afcc49f7c0>,\n",
       "  <matplotlib.axis.XTick at 0x1afcc49fd60>,\n",
       "  <matplotlib.axis.XTick at 0x1afcc4a3340>,\n",
       "  <matplotlib.axis.XTick at 0x1afcc4a38e0>,\n",
       "  <matplotlib.axis.XTick at 0x1afcc4a3e80>,\n",
       "  <matplotlib.axis.XTick at 0x1afcc4a3520>,\n",
       "  <matplotlib.axis.XTick at 0x1afcc49f340>,\n",
       "  <matplotlib.axis.XTick at 0x1afcc4a8250>,\n",
       "  <matplotlib.axis.XTick at 0x1afcc4a87c0>,\n",
       "  <matplotlib.axis.XTick at 0x1afcc4a8d60>,\n",
       "  <matplotlib.axis.XTick at 0x1afcc4af340>,\n",
       "  <matplotlib.axis.XTick at 0x1afcc4af8e0>,\n",
       "  <matplotlib.axis.XTick at 0x1afcc4afe80>,\n",
       "  <matplotlib.axis.XTick at 0x1afcc4b4460>,\n",
       "  <matplotlib.axis.XTick at 0x1afcc4b4a00>,\n",
       "  <matplotlib.axis.XTick at 0x1afcc4a8df0>,\n",
       "  <matplotlib.axis.XTick at 0x1afcc498e50>,\n",
       "  <matplotlib.axis.XTick at 0x1afcc4b4bb0>,\n",
       "  <matplotlib.axis.XTick at 0x1afcc4b8190>,\n",
       "  <matplotlib.axis.XTick at 0x1afcc4b8730>,\n",
       "  <matplotlib.axis.XTick at 0x1afcc4b8cd0>,\n",
       "  <matplotlib.axis.XTick at 0x1afcc4bf2b0>,\n",
       "  <matplotlib.axis.XTick at 0x1afcc4bf850>,\n",
       "  <matplotlib.axis.XTick at 0x1afcc4bfdf0>,\n",
       "  <matplotlib.axis.XTick at 0x1afcc4bf310>,\n",
       "  <matplotlib.axis.XTick at 0x1afcc4b4d00>,\n",
       "  <matplotlib.axis.XTick at 0x1afcc4aff10>,\n",
       "  <matplotlib.axis.XTick at 0x1afcc4c5610>,\n",
       "  <matplotlib.axis.XTick at 0x1afcc4c5bb0>,\n",
       "  <matplotlib.axis.XTick at 0x1afcc4cb190>,\n",
       "  <matplotlib.axis.XTick at 0x1afcc4cb730>,\n",
       "  <matplotlib.axis.XTick at 0x1afcc4cbcd0>,\n",
       "  <matplotlib.axis.XTick at 0x1afcc4d02b0>,\n",
       "  <matplotlib.axis.XTick at 0x1afcc4d0850>,\n",
       "  <matplotlib.axis.XTick at 0x1afcc4cb280>,\n",
       "  <matplotlib.axis.XTick at 0x1afcc49fdf0>,\n",
       "  <matplotlib.axis.XTick at 0x1afcc4d0a00>,\n",
       "  <matplotlib.axis.XTick at 0x1afcc4d0fa0>,\n",
       "  <matplotlib.axis.XTick at 0x1afcc4d6580>,\n",
       "  <matplotlib.axis.XTick at 0x1afcc4d6b20>,\n",
       "  <matplotlib.axis.XTick at 0x1afcc4dc100>,\n",
       "  <matplotlib.axis.XTick at 0x1afcc4dc6a0>,\n",
       "  <matplotlib.axis.XTick at 0x1afcc4dcc40>,\n",
       "  <matplotlib.axis.XTick at 0x1afcc4dc310>,\n",
       "  <matplotlib.axis.XTick at 0x1afcc4d6160>,\n",
       "  <matplotlib.axis.XTick at 0x1afcc4c5e20>,\n",
       "  <matplotlib.axis.XTick at 0x1afcc4e2460>,\n",
       "  <matplotlib.axis.XTick at 0x1afcc4e2a00>,\n",
       "  <matplotlib.axis.XTick at 0x1afcc4e2fa0>,\n",
       "  <matplotlib.axis.XTick at 0x1afcc4e7580>,\n",
       "  <matplotlib.axis.XTick at 0x1afcc4e7b20>,\n",
       "  <matplotlib.axis.XTick at 0x1afcc4ec100>,\n",
       "  <matplotlib.axis.XTick at 0x1afcc4ec6a0>,\n",
       "  <matplotlib.axis.XTick at 0x1afcc4e70d0>,\n",
       "  <matplotlib.axis.XTick at 0x1afcc4d0a60>,\n",
       "  <matplotlib.axis.XTick at 0x1afcc4ec850>,\n",
       "  <matplotlib.axis.XTick at 0x1afcc4ecdf0>,\n",
       "  <matplotlib.axis.XTick at 0x1afcc4f33d0>,\n",
       "  <matplotlib.axis.XTick at 0x1afcc4f3970>,\n",
       "  <matplotlib.axis.XTick at 0x1afcc4f3f10>,\n",
       "  <matplotlib.axis.XTick at 0x1afcc4f74f0>,\n",
       "  <matplotlib.axis.XTick at 0x1afcc4f7a90>,\n",
       "  <matplotlib.axis.XTick at 0x1afcc4f3550>,\n",
       "  <matplotlib.axis.XTick at 0x1afcc4d6d00>,\n",
       "  <matplotlib.axis.XTick at 0x1afcc4f75e0>,\n",
       "  <matplotlib.axis.XTick at 0x1afcc4fe2b0>,\n",
       "  <matplotlib.axis.XTick at 0x1afcc4fe850>,\n",
       "  <matplotlib.axis.XTick at 0x1afcc4fedf0>,\n",
       "  <matplotlib.axis.XTick at 0x1afcc5023d0>,\n",
       "  <matplotlib.axis.XTick at 0x1afcc502970>,\n",
       "  <matplotlib.axis.XTick at 0x1afcc502f10>,\n",
       "  <matplotlib.axis.XTick at 0x1afcc5084f0>,\n",
       "  <matplotlib.axis.XTick at 0x1afcc4fefd0>,\n",
       "  <matplotlib.axis.XTick at 0x1afcc4f7130>,\n",
       "  <matplotlib.axis.XTick at 0x1afcc5086a0>,\n",
       "  <matplotlib.axis.XTick at 0x1afcc508c40>,\n",
       "  <matplotlib.axis.XTick at 0x1afcc50e220>,\n",
       "  <matplotlib.axis.XTick at 0x1afcc50e7c0>,\n",
       "  <matplotlib.axis.XTick at 0x1afcc50ed60>,\n",
       "  <matplotlib.axis.XTick at 0x1afcc513340>,\n",
       "  <matplotlib.axis.XTick at 0x1afcc5138e0>,\n",
       "  <matplotlib.axis.XTick at 0x1afcc50e820>,\n",
       "  <matplotlib.axis.XTick at 0x1afcc4ece50>,\n",
       "  <matplotlib.axis.XTick at 0x1afcc513490>,\n",
       "  <matplotlib.axis.XTick at 0x1afcc51b100>,\n",
       "  <matplotlib.axis.XTick at 0x1afcc51b6a0>,\n",
       "  <matplotlib.axis.XTick at 0x1afcc51bc40>,\n",
       "  <matplotlib.axis.XTick at 0x1afcc51f220>,\n",
       "  <matplotlib.axis.XTick at 0x1afcc51f7c0>,\n",
       "  <matplotlib.axis.XTick at 0x1afcc51fd60>,\n",
       "  <matplotlib.axis.XTick at 0x1afcc524340>,\n",
       "  <matplotlib.axis.XTick at 0x1afcc51f310>,\n",
       "  <matplotlib.axis.XTick at 0x1afcc513d30>,\n",
       "  <matplotlib.axis.XTick at 0x1afcc5244f0>,\n",
       "  <matplotlib.axis.XTick at 0x1afcc524a90>,\n",
       "  <matplotlib.axis.XTick at 0x1afcc52a070>,\n",
       "  <matplotlib.axis.XTick at 0x1afcc52a610>,\n",
       "  <matplotlib.axis.XTick at 0x1afcc52abb0>,\n",
       "  <matplotlib.axis.XTick at 0x1afcc52f190>,\n",
       "  <matplotlib.axis.XTick at 0x1afcc52f730>,\n",
       "  <matplotlib.axis.XTick at 0x1afcc52a670>,\n",
       "  <matplotlib.axis.XTick at 0x1afcc51ff40>,\n",
       "  <matplotlib.axis.XTick at 0x1afcc513a60>,\n",
       "  <matplotlib.axis.XTick at 0x1afcc4d08b0>,\n",
       "  <matplotlib.axis.XTick at 0x1afcc498af0>,\n",
       "  <matplotlib.axis.XTick at 0x1afcc52fd60>,\n",
       "  <matplotlib.axis.XTick at 0x1afcc537340>,\n",
       "  <matplotlib.axis.XTick at 0x1afcc5378e0>,\n",
       "  <matplotlib.axis.XTick at 0x1afcc537e80>,\n",
       "  <matplotlib.axis.XTick at 0x1afcc53b460>,\n",
       "  <matplotlib.axis.XTick at 0x1afcc5374c0>,\n",
       "  <matplotlib.axis.XTick at 0x1afcc4bff40>,\n",
       "  <matplotlib.axis.XTick at 0x1afcc53b6a0>,\n",
       "  <matplotlib.axis.XTick at 0x1afcc53bbb0>,\n",
       "  <matplotlib.axis.XTick at 0x1afcc543190>],\n",
       " <a list of 864 Text major ticklabel objects>)"
      ]
     },
     "execution_count": 141,
     "metadata": {},
     "output_type": "execute_result"
    },
    {
     "data": {
      "image/png": "[encoded data removed]",
      "text/plain": [
       "<Figure size 21600x1440 with 1 Axes>"
      ]
     },
     "metadata": {
      "needs_background": "light"
     },
     "output_type": "display_data"
    }
   ],
   "source": [
    "left=range(864)\n",
    "plt.figure(figsize=(30*10,2*10))\n",
    "\n",
    "height2=u0[1][:,1]\n",
    "\n",
    "\n",
    "p2 = plt.bar(left, height2, linewidth=2)\n",
    "#x = np.arange(len(height1))\n",
    "\n",
    "# ラベルの設定\n",
    "plt.xticks(left)"
   ]
  },
  {
   "cell_type": "code",
   "execution_count": 142,
   "metadata": {
    "colab": {
     "base_uri": "https://localhost:8080/",
     "height": 1000
    },
    "executionInfo": {
     "elapsed": 7000,
     "status": "ok",
     "timestamp": 1672373945026,
     "user": {
      "displayName": "学生1935084t",
      "userId": "12227631716568337195"
     },
     "user_tz": -540
    },
    "id": "i4JH2xnNp03y",
    "outputId": "07433d98-6248-4293-9503-de38660314a5"
   },
   "outputs": [
    {
     "data": {
      "text/plain": [
       "([<matplotlib.axis.XTick at 0x1afcc885ca0>,\n",
       "  <matplotlib.axis.XTick at 0x1afcc885c70>,\n",
       "  <matplotlib.axis.XTick at 0x1afcc815c70>,\n",
       "  <matplotlib.axis.XTick at 0x1afcca217f0>,\n",
       "  <matplotlib.axis.XTick at 0x1afcca21d00>,\n",
       "  <matplotlib.axis.XTick at 0x1afcca2c250>,\n",
       "  <matplotlib.axis.XTick at 0x1afcca2c760>,\n",
       "  <matplotlib.axis.XTick at 0x1afcca21880>,\n",
       "  <matplotlib.axis.XTick at 0x1afcca2c3d0>,\n",
       "  <matplotlib.axis.XTick at 0x1afcca2cfd0>,\n",
       "  <matplotlib.axis.XTick at 0x1afcca31520>,\n",
       "  <matplotlib.axis.XTick at 0x1afcca31a30>,\n",
       "  <matplotlib.axis.XTick at 0x1afcca31f40>,\n",
       "  <matplotlib.axis.XTick at 0x1afcca36490>,\n",
       "  <matplotlib.axis.XTick at 0x1afcca369a0>,\n",
       "  <matplotlib.axis.XTick at 0x1afcca36eb0>,\n",
       "  <matplotlib.axis.XTick at 0x1afcca3d400>,\n",
       "  <matplotlib.axis.XTick at 0x1afcca36670>,\n",
       "  <matplotlib.axis.XTick at 0x1afcca31700>,\n",
       "  <matplotlib.axis.XTick at 0x1afcca21550>,\n",
       "  <matplotlib.axis.XTick at 0x1afcca3d910>,\n",
       "  <matplotlib.axis.XTick at 0x1afcca3de20>,\n",
       "  <matplotlib.axis.XTick at 0x1afcca44370>,\n",
       "  <matplotlib.axis.XTick at 0x1afcca44880>,\n",
       "  <matplotlib.axis.XTick at 0x1afcca44d90>,\n",
       "  <matplotlib.axis.XTick at 0x1afcca4a2e0>,\n",
       "  <matplotlib.axis.XTick at 0x1afcca4a7f0>,\n",
       "  <matplotlib.axis.XTick at 0x1afcca444f0>,\n",
       "  <matplotlib.axis.XTick at 0x1afcca3d5b0>,\n",
       "  <matplotlib.axis.XTick at 0x1afcca4a880>,\n",
       "  <matplotlib.axis.XTick at 0x1afcca4ac70>,\n",
       "  <matplotlib.axis.XTick at 0x1afcca511c0>,\n",
       "  <matplotlib.axis.XTick at 0x1afcca516d0>,\n",
       "  <matplotlib.axis.XTick at 0x1afcca51be0>,\n",
       "  <matplotlib.axis.XTick at 0x1afcca56130>,\n",
       "  <matplotlib.axis.XTick at 0x1afcca56640>,\n",
       "  <matplotlib.axis.XTick at 0x1afcca51940>,\n",
       "  <matplotlib.axis.XTick at 0x1afcca4a9d0>,\n",
       "  <matplotlib.axis.XTick at 0x1afcca44eb0>,\n",
       "  <matplotlib.axis.XTick at 0x1afcca56be0>,\n",
       "  <matplotlib.axis.XTick at 0x1afcca5c130>,\n",
       "  <matplotlib.axis.XTick at 0x1afcca5c640>,\n",
       "  <matplotlib.axis.XTick at 0x1afcca5cb50>,\n",
       "  <matplotlib.axis.XTick at 0x1afcca630a0>,\n",
       "  <matplotlib.axis.XTick at 0x1afcca635b0>,\n",
       "  <matplotlib.axis.XTick at 0x1afcca63ac0>,\n",
       "  <matplotlib.axis.XTick at 0x1afcca5c820>,\n",
       "  <matplotlib.axis.XTick at 0x1afcca56910>,\n",
       "  <matplotlib.axis.XTick at 0x1afcca63e20>,\n",
       "  <matplotlib.axis.XTick at 0x1afcca63fd0>,\n",
       "  <matplotlib.axis.XTick at 0x1afcca6a520>,\n",
       "  <matplotlib.axis.XTick at 0x1afcca6aa30>,\n",
       "  <matplotlib.axis.XTick at 0x1afcca6af40>,\n",
       "  <matplotlib.axis.XTick at 0x1afcca6e490>,\n",
       "  <matplotlib.axis.XTick at 0x1afcca6e9a0>,\n",
       "  <matplotlib.axis.XTick at 0x1afcca6eeb0>,\n",
       "  <matplotlib.axis.XTick at 0x1afcca6e0d0>,\n",
       "  <matplotlib.axis.XTick at 0x1afcca6a160>,\n",
       "  <matplotlib.axis.XTick at 0x1afcca5c310>,\n",
       "  <matplotlib.axis.XTick at 0x1afcca75400>,\n",
       "  <matplotlib.axis.XTick at 0x1afcca75910>,\n",
       "  <matplotlib.axis.XTick at 0x1afcca75e20>,\n",
       "  <matplotlib.axis.XTick at 0x1afcca7b370>,\n",
       "  <matplotlib.axis.XTick at 0x1afcca7b880>,\n",
       "  <matplotlib.axis.XTick at 0x1afcca7bd90>,\n",
       "  <matplotlib.axis.XTick at 0x1afcca812e0>,\n",
       "  <matplotlib.axis.XTick at 0x1afcca7b4f0>,\n",
       "  <matplotlib.axis.XTick at 0x1afcca75580>,\n",
       "  <matplotlib.axis.XTick at 0x1afcca6ac40>,\n",
       "  <matplotlib.axis.XTick at 0x1afcca81760>,\n",
       "  <matplotlib.axis.XTick at 0x1afcca81c70>,\n",
       "  <matplotlib.axis.XTick at 0x1afcca891c0>,\n",
       "  <matplotlib.axis.XTick at 0x1afcca896d0>,\n",
       "  <matplotlib.axis.XTick at 0x1afcca89be0>,\n",
       "  <matplotlib.axis.XTick at 0x1afcca8e130>,\n",
       "  <matplotlib.axis.XTick at 0x1afcca89940>,\n",
       "  <matplotlib.axis.XTick at 0x1afcca819d0>,\n",
       "  <matplotlib.axis.XTick at 0x1afcca75f40>,\n",
       "  <matplotlib.axis.XTick at 0x1afcca8e6d0>,\n",
       "  <matplotlib.axis.XTick at 0x1afcca8ebe0>,\n",
       "  <matplotlib.axis.XTick at 0x1afcca95130>,\n",
       "  <matplotlib.axis.XTick at 0x1afcca95640>,\n",
       "  <matplotlib.axis.XTick at 0x1afcca95b50>,\n",
       "  <matplotlib.axis.XTick at 0x1afcca9b0a0>,\n",
       "  <matplotlib.axis.XTick at 0x1afcca9b5b0>,\n",
       "  <matplotlib.axis.XTick at 0x1afcca95820>,\n",
       "  <matplotlib.axis.XTick at 0x1afcca8e8b0>,\n",
       "  <matplotlib.axis.XTick at 0x1afcca89250>,\n",
       "  <matplotlib.axis.XTick at 0x1afcca9bac0>,\n",
       "  <matplotlib.axis.XTick at 0x1afcca9bfd0>,\n",
       "  <matplotlib.axis.XTick at 0x1afccaa1520>,\n",
       "  <matplotlib.axis.XTick at 0x1afccaa1a30>,\n",
       "  <matplotlib.axis.XTick at 0x1afccaa1f40>,\n",
       "  <matplotlib.axis.XTick at 0x1afccaa7490>,\n",
       "  <matplotlib.axis.XTick at 0x1afccaa79a0>,\n",
       "  <matplotlib.axis.XTick at 0x1afccaa1640>,\n",
       "  <matplotlib.axis.XTick at 0x1afcca9b880>,\n",
       "  <matplotlib.axis.XTick at 0x1afccaa7670>,\n",
       "  <matplotlib.axis.XTick at 0x1afccaa7eb0>,\n",
       "  <matplotlib.axis.XTick at 0x1afccaaf400>,\n",
       "  <matplotlib.axis.XTick at 0x1afccaaf910>,\n",
       "  <matplotlib.axis.XTick at 0x1afccaafe20>,\n",
       "  <matplotlib.axis.XTick at 0x1afccab4370>,\n",
       "  <matplotlib.axis.XTick at 0x1afccab4880>,\n",
       "  <matplotlib.axis.XTick at 0x1afccab4d90>,\n",
       "  <matplotlib.axis.XTick at 0x1afccaaf4f0>,\n",
       "  <matplotlib.axis.XTick at 0x1afccaa7fa0>,\n",
       "  <matplotlib.axis.XTick at 0x1afcca9b6d0>,\n",
       "  <matplotlib.axis.XTick at 0x1afcca63bb0>,\n",
       "  <matplotlib.axis.XTick at 0x1afcca2c850>,\n",
       "  <matplotlib.axis.XTick at 0x1afccab4f40>,\n",
       "  <matplotlib.axis.XTick at 0x1afccabe490>,\n",
       "  <matplotlib.axis.XTick at 0x1afccabe9a0>,\n",
       "  <matplotlib.axis.XTick at 0x1afccabeeb0>,\n",
       "  <matplotlib.axis.XTick at 0x1afccac1400>,\n",
       "  <matplotlib.axis.XTick at 0x1afccabe670>,\n",
       "  <matplotlib.axis.XTick at 0x1afcca56760>,\n",
       "  <matplotlib.axis.XTick at 0x1afccaaf100>,\n",
       "  <matplotlib.axis.XTick at 0x1afccac17f0>,\n",
       "  <matplotlib.axis.XTick at 0x1afccac1d00>,\n",
       "  <matplotlib.axis.XTick at 0x1afccaca250>,\n",
       "  <matplotlib.axis.XTick at 0x1afccaca760>,\n",
       "  <matplotlib.axis.XTick at 0x1afccacac70>,\n",
       "  <matplotlib.axis.XTick at 0x1afccacf1c0>,\n",
       "  <matplotlib.axis.XTick at 0x1afccacf6d0>,\n",
       "  <matplotlib.axis.XTick at 0x1afccaca3d0>,\n",
       "  <matplotlib.axis.XTick at 0x1afccaaf0d0>,\n",
       "  <matplotlib.axis.XTick at 0x1afccacf760>,\n",
       "  <matplotlib.axis.XTick at 0x1afccacfb50>,\n",
       "  <matplotlib.axis.XTick at 0x1afccad60a0>,\n",
       "  <matplotlib.axis.XTick at 0x1afccad65b0>,\n",
       "  <matplotlib.axis.XTick at 0x1afccad6ac0>,\n",
       "  <matplotlib.axis.XTick at 0x1afccad6fd0>,\n",
       "  <matplotlib.axis.XTick at 0x1afccadc520>,\n",
       "  <matplotlib.axis.XTick at 0x1afccad6820>,\n",
       "  <matplotlib.axis.XTick at 0x1afccacf8b0>,\n",
       "  <matplotlib.axis.XTick at 0x1afccacad90>,\n",
       "  <matplotlib.axis.XTick at 0x1afccadcac0>,\n",
       "  <matplotlib.axis.XTick at 0x1afccadcfd0>,\n",
       "  <matplotlib.axis.XTick at 0x1afccae3520>,\n",
       "  <matplotlib.axis.XTick at 0x1afccae3a30>,\n",
       "  <matplotlib.axis.XTick at 0x1afccae3f40>,\n",
       "  <matplotlib.axis.XTick at 0x1afccae8490>,\n",
       "  <matplotlib.axis.XTick at 0x1afccae89a0>,\n",
       "  <matplotlib.axis.XTick at 0x1afccae36a0>,\n",
       "  <matplotlib.axis.XTick at 0x1afccadc8e0>,\n",
       "  <matplotlib.axis.XTick at 0x1afccae8ca0>,\n",
       "  <matplotlib.axis.XTick at 0x1afccae8eb0>,\n",
       "  <matplotlib.axis.XTick at 0x1afccaee400>,\n",
       "  <matplotlib.axis.XTick at 0x1afccaee910>,\n",
       "  <matplotlib.axis.XTick at 0x1afccaeee20>,\n",
       "  <matplotlib.axis.XTick at 0x1afccaf5370>,\n",
       "  <matplotlib.axis.XTick at 0x1afccaf5880>,\n",
       "  <matplotlib.axis.XTick at 0x1afccaf5d90>,\n",
       "  <matplotlib.axis.XTick at 0x1afccaee490>,\n",
       "  <matplotlib.axis.XTick at 0x1afccadc880>,\n",
       "  <matplotlib.axis.XTick at 0x1afccaf54c0>,\n",
       "  <matplotlib.axis.XTick at 0x1afccafc2e0>,\n",
       "  <matplotlib.axis.XTick at 0x1afccafc7f0>,\n",
       "  <matplotlib.axis.XTick at 0x1afccafcd00>,\n",
       "  <matplotlib.axis.XTick at 0x1afccb03250>,\n",
       "  <matplotlib.axis.XTick at 0x1afccb03760>,\n",
       "  <matplotlib.axis.XTick at 0x1afccb03c70>,\n",
       "  <matplotlib.axis.XTick at 0x1afccb091c0>,\n",
       "  <matplotlib.axis.XTick at 0x1afccb033d0>,\n",
       "  <matplotlib.axis.XTick at 0x1afccafc460>,\n",
       "  <matplotlib.axis.XTick at 0x1afccaee160>,\n",
       "  <matplotlib.axis.XTick at 0x1afccb09640>,\n",
       "  <matplotlib.axis.XTick at 0x1afccb09b50>,\n",
       "  <matplotlib.axis.XTick at 0x1afccb0f0a0>,\n",
       "  <matplotlib.axis.XTick at 0x1afccb0f5b0>,\n",
       "  <matplotlib.axis.XTick at 0x1afccb0fac0>,\n",
       "  <matplotlib.axis.XTick at 0x1afccb0ffd0>,\n",
       "  <matplotlib.axis.XTick at 0x1afccb0f820>,\n",
       "  <matplotlib.axis.XTick at 0x1afccb098b0>,\n",
       "  <matplotlib.axis.XTick at 0x1afccafce20>,\n",
       "  <matplotlib.axis.XTick at 0x1afccb155b0>,\n",
       "  <matplotlib.axis.XTick at 0x1afccb15ac0>,\n",
       "  <matplotlib.axis.XTick at 0x1afccb15fd0>,\n",
       "  <matplotlib.axis.XTick at 0x1afccb1c520>,\n",
       "  <matplotlib.axis.XTick at 0x1afccb1ca30>,\n",
       "  <matplotlib.axis.XTick at 0x1afccb1cf40>,\n",
       "  <matplotlib.axis.XTick at 0x1afccb21490>,\n",
       "  <matplotlib.axis.XTick at 0x1afccb1c6a0>,\n",
       "  <matplotlib.axis.XTick at 0x1afccb15730>,\n",
       "  <matplotlib.axis.XTick at 0x1afccb0f2b0>,\n",
       "  <matplotlib.axis.XTick at 0x1afccb219a0>,\n",
       "  <matplotlib.axis.XTick at 0x1afccb21eb0>,\n",
       "  <matplotlib.axis.XTick at 0x1afccb29400>,\n",
       "  <matplotlib.axis.XTick at 0x1afccb29910>,\n",
       "  <matplotlib.axis.XTick at 0x1afccb29e20>,\n",
       "  <matplotlib.axis.XTick at 0x1afccb2f370>,\n",
       "  <matplotlib.axis.XTick at 0x1afccb2f880>,\n",
       "  <matplotlib.axis.XTick at 0x1afccb29490>,\n",
       "  <matplotlib.axis.XTick at 0x1afccb210d0>,\n",
       "  <matplotlib.axis.XTick at 0x1afccb2f4c0>,\n",
       "  <matplotlib.axis.XTick at 0x1afccb2fd90>,\n",
       "  <matplotlib.axis.XTick at 0x1afccb352e0>,\n",
       "  <matplotlib.axis.XTick at 0x1afccb357f0>,\n",
       "  <matplotlib.axis.XTick at 0x1afccb35d00>,\n",
       "  <matplotlib.axis.XTick at 0x1afccb3b250>,\n",
       "  <matplotlib.axis.XTick at 0x1afccb3b760>,\n",
       "  <matplotlib.axis.XTick at 0x1afccb3bc70>,\n",
       "  <matplotlib.axis.XTick at 0x1afccb35460>,\n",
       "  <matplotlib.axis.XTick at 0x1afccb216d0>,\n",
       "  <matplotlib.axis.XTick at 0x1afccb3b850>,\n",
       "  <matplotlib.axis.XTick at 0x1afccb42130>,\n",
       "  <matplotlib.axis.XTick at 0x1afccb42640>,\n",
       "  <matplotlib.axis.XTick at 0x1afccb42b50>,\n",
       "  <matplotlib.axis.XTick at 0x1afccb470a0>,\n",
       "  <matplotlib.axis.XTick at 0x1afccb475b0>,\n",
       "  <matplotlib.axis.XTick at 0x1afccb47ac0>,\n",
       "  <matplotlib.axis.XTick at 0x1afccb428b0>,\n",
       "  <matplotlib.axis.XTick at 0x1afccb29040>,\n",
       "  <matplotlib.axis.XTick at 0x1afccb47d60>,\n",
       "  <matplotlib.axis.XTick at 0x1afccb4f0a0>,\n",
       "  <matplotlib.axis.XTick at 0x1afccb4f5b0>,\n",
       "  <matplotlib.axis.XTick at 0x1afccb4fac0>,\n",
       "  <matplotlib.axis.XTick at 0x1afccb4ffd0>,\n",
       "  <matplotlib.axis.XTick at 0x1afccb54520>,\n",
       "  <matplotlib.axis.XTick at 0x1afccb54a30>],\n",
       " <a list of 221 Text major ticklabel objects>)"
      ]
     },
     "execution_count": 142,
     "metadata": {},
     "output_type": "execute_result"
    },
    {
     "data": {
      "image/png": "[encoded data removed]",
      "text/plain": [
       "<Figure size 21600x1440 with 1 Axes>"
      ]
     },
     "metadata": {
      "needs_background": "light"
     },
     "output_type": "display_data"
    }
   ],
   "source": [
    "plt.figure(figsize=(30*10,2*10))\n",
    "\n",
    "height2=u0[0][:,1]\n",
    "x = np.arange(len(height2))\n",
    "\n",
    "p2 = plt.bar(x, height2, linewidth=2)\n",
    "\n",
    "\n",
    "# ラベルの設定\n",
    "plt.xticks(x)"
   ]
  },
  {
   "cell_type": "code",
   "execution_count": 143,
   "metadata": {
    "colab": {
     "base_uri": "https://localhost:8080/"
    },
    "executionInfo": {
     "elapsed": 18032,
     "status": "ok",
     "timestamp": 1672373963039,
     "user": {
      "displayName": "学生1935084t",
      "userId": "12227631716568337195"
     },
     "user_tz": -540
    },
    "id": "oJ68gat-iEIg",
    "outputId": "76a62b80-aed9-427a-c95c-3d5bc5be9a37"
   },
   "outputs": [
    {
     "name": "stdout",
     "output_type": "stream",
     "text": [
      "rec_errors\n",
      "[0.8494674964820329, 0.8091155932996459, 0.7981031389296822, 0.7921048049986346, 0.7877168852027634, 0.7842515556381819, 0.7816063062370291, 0.7797073704267794, 0.7783357189137314, 0.7773557779512552, 0.7766521996296618, 0.7761419304015953, 0.7757642660554215, 0.7754763265359695, 0.7752421345048658, 0.7750406994859459, 0.7748577990043327, 0.7746791118115177, 0.7744794537272951, 0.774231538744684, 0.7739191922180411, 0.7734603902444003, 0.7728865480843405, 0.7723422350683528, 0.7718780943470304, 0.7714537780802788, 0.7710521670505383, 0.7706663746560476, 0.7702691781631712, 0.7698733590161645, 0.7695050959754607, 0.7691314801236281, 0.7687456299667519, 0.7683436090295392, 0.7678190097350902, 0.7671989974152136, 0.7666566377485647, 0.7661020359498725, 0.7654376966680699, 0.7648111898921746, 0.7640697114972526, 0.76338190133216, 0.7627469328807024, 0.7621930069182784, 0.7616106065695755, 0.7610529120217934, 0.7604417147280378, 0.759867116507816, 0.7594496893431456, 0.7590557461543967, 0.7585578593692861, 0.7582488268959013, 0.7580581793722844, 0.7577841138098782, 0.7575481489189513, 0.7572424405698727, 0.7571022885051821, 0.7568747013007222, 0.7567170022643145, 0.7565814266399131, 0.7563443566245289, 0.7560138898332444, 0.7559068861037016, 0.7558405020593838, 0.7557478063527945, 0.7556616245095256, 0.7555624706561416, 0.7554813976807518, 0.7553565393751819, 0.7551496628188619, 0.7550305012078065, 0.7549689169407475, 0.7548944404180677, 0.7547426429140638, 0.7546470596133708, 0.7544136520079034, 0.7542718044301284, 0.7542294280939694, 0.7541596286805591, 0.7539176454243982, 0.7537624786056429, 0.753704220362732, 0.7536506258452779, 0.75348051553569, 0.7533025647846864, 0.7532297159375523, 0.7530478395485961, 0.7529003410242476, 0.7528208473407156, 0.752782953106134, 0.7527316883899665, 0.7526594051560039, 0.7526171339383528, 0.7525007570995215, 0.7523783790342395, 0.7521767576710735, 0.7520369131736907, 0.7519600269502893, 0.7518817495693726, 0.7517810974079445, 0.7516963714954518, 0.7516402929462856]\n",
      "rec_errors\n",
      "[0.8289899031702772, 0.7923354543208467, 0.7876440814183537, 0.7860618793380358, 0.7850331413757806, 0.7840427945164189, 0.7830274889073101, 0.7818990166862159, 0.7805295975024135, 0.7793215016623488, 0.7781095097913248, 0.776870636115456, 0.7756325249414439, 0.7743963991471177, 0.7732013941645437, 0.7720020932929487, 0.7708751970762476, 0.7698021223757925, 0.7687434074428328, 0.7674716806077017, 0.7664049900841964, 0.7651618670311003, 0.7637263430960414, 0.7626990204385639, 0.7616802188992055, 0.7602921205692383, 0.7584790312147285, 0.756583997331153, 0.7554340977229955, 0.7549054046833056, 0.7544263820477413, 0.7539457671368773, 0.7535489643673595, 0.7531896696531013, 0.7528781340848484, 0.752526137183566, 0.7522875562591563, 0.7518631283996959, 0.7515832050293707, 0.751304974929425, 0.7511711927706036, 0.7510401092197216, 0.7509424093195859, 0.7508276420240405, 0.7507225078866806, 0.7505933288350314, 0.7504467269459937, 0.750192727046429, 0.7499398659605458, 0.7496955164468763, 0.74944578396692, 0.7491911385737715, 0.7488833567118912, 0.7485226942199373, 0.7480599105168065, 0.7474460612733097, 0.746664698504125, 0.7458312947088841, 0.7449349354701309, 0.7439950520185198, 0.7432148337090149, 0.7426106415857902, 0.742166567574036, 0.7416910812936499, 0.7413708908391268, 0.7409998501203231, 0.7406792845199973, 0.7404083931476053, 0.7401881142661375, 0.7399751881147129, 0.7398354056053607, 0.7397573753375342, 0.7397147375650012, 0.7396501235217534, 0.739610101091624, 0.7395859362640664, 0.7393653273720531, 0.7392867029878402, 0.7391489962989828, 0.7391076935576911, 0.7390191988524036, 0.7390034055073839, 0.7389885828315187, 0.7389283694885672, 0.7388362337946467, 0.7388044038448764, 0.7385962461416046, 0.7385254556158468, 0.7384785630912165, 0.7384644367443082, 0.7383949243135696, 0.738362151171105, 0.7383345109935713, 0.7382547298415949, 0.7382406523993449, 0.7382171001355627, 0.7382038893331471, 0.7381762688341605, 0.7381431733188576, 0.7380984232708309, 0.7380819314675441, 0.7380563639027604]\n"
     ]
    }
   ],
   "source": [
    "tt0,u0=ntd(tensor_0,rank_list)\n",
    "tt0=np.zeros((4,4,4))\n",
    "tt0[0,0,0]=1\n",
    "tt0[1,1,1]=1\n",
    "tt0[2,2,2]=1\n",
    "tt0[3,3,3]=1\n",
    "\n",
    "a0,b0=non_negative_tucker_core(tensor_0,rank_list,tt0)\n",
    "a1,b1=non_negative_tucker_core(tensor_2,rank_list,tt0)"
   ]
  },
  {
   "cell_type": "code",
   "execution_count": 144,
   "metadata": {
    "colab": {
     "base_uri": "https://localhost:8080/",
     "height": 665
    },
    "executionInfo": {
     "elapsed": 1411,
     "status": "ok",
     "timestamp": 1672373964429,
     "user": {
      "displayName": "学生1935084t",
      "userId": "12227631716568337195"
     },
     "user_tz": -540
    },
    "id": "9c1Z5U5di54s",
    "outputId": "2829d4a5-cff2-4828-eb35-69ac99275292"
   },
   "outputs": [
    {
     "name": "stdout",
     "output_type": "stream",
     "text": [
      "01\n",
      "誤差\n",
      "01\n",
      "158.22150025799408\n"
     ]
    },
    {
     "data": {
      "image/png": "[encoded data removed]",
      "text/plain": [
       "<Figure size 720x720 with 2 Axes>"
      ]
     },
     "metadata": {
      "needs_background": "light"
     },
     "output_type": "display_data"
    }
   ],
   "source": [
    "a=spaceRowHeatDifOut(b0,b1)"
   ]
  },
  {
   "cell_type": "markdown",
   "metadata": {
    "id": "mh6BWD_k9ySS"
   },
   "source": [
    "このこのテンソル分解後の要素をもう一度テンソルに再構成して、時間軸の要素だけのテンソルを作り、それを比較するというのはどう？"
   ]
  },
  {
   "cell_type": "code",
   "execution_count": null,
   "metadata": {
    "executionInfo": {
     "elapsed": 45,
     "status": "ok",
     "timestamp": 1672373964430,
     "user": {
      "displayName": "学生1935084t",
      "userId": "12227631716568337195"
     },
     "user_tz": -540
    },
    "id": "fKLJgrxJ9x-z"
   },
   "outputs": [],
   "source": []
  },
  {
   "cell_type": "code",
   "execution_count": 145,
   "metadata": {
    "colab": {
     "base_uri": "https://localhost:8080/",
     "height": 35
    },
    "executionInfo": {
     "elapsed": 45,
     "status": "ok",
     "timestamp": 1672373964431,
     "user": {
      "displayName": "学生1935084t",
      "userId": "12227631716568337195"
     },
     "user_tz": -540
    },
    "id": "lh0IZIT-lHgy",
    "outputId": "10f0a4bb-e9e2-4345-a5bd-475bd3d06b08"
   },
   "outputs": [
    {
     "data": {
      "text/plain": [
       "'\\nnp.set_printoptions(threshold=np.inf)\\nprint(a)\\n'"
      ]
     },
     "execution_count": 145,
     "metadata": {},
     "output_type": "execute_result"
    }
   ],
   "source": [
    "\"\"\"\n",
    "np.set_printoptions(threshold=np.inf)\n",
    "print(a)\n",
    "\"\"\""
   ]
  },
  {
   "cell_type": "code",
   "execution_count": 146,
   "metadata": {
    "executionInfo": {
     "elapsed": 43,
     "status": "ok",
     "timestamp": 1672373964431,
     "user": {
      "displayName": "学生1935084t",
      "userId": "12227631716568337195"
     },
     "user_tz": -540
    },
    "id": "pgTclbsyjBMP"
   },
   "outputs": [],
   "source": [
    "#print(a[:,0].shape)"
   ]
  },
  {
   "cell_type": "code",
   "execution_count": 147,
   "metadata": {
    "executionInfo": {
     "elapsed": 44,
     "status": "ok",
     "timestamp": 1672373964432,
     "user": {
      "displayName": "学生1935084t",
      "userId": "12227631716568337195"
     },
     "user_tz": -540
    },
    "id": "2sv96aWujPdY"
   },
   "outputs": [],
   "source": [
    "#a=a[:,:]"
   ]
  },
  {
   "cell_type": "code",
   "execution_count": 148,
   "metadata": {
    "colab": {
     "base_uri": "https://localhost:8080/",
     "height": 70
    },
    "executionInfo": {
     "elapsed": 43,
     "status": "ok",
     "timestamp": 1672373964432,
     "user": {
      "displayName": "学生1935084t",
      "userId": "12227631716568337195"
     },
     "user_tz": -540
    },
    "id": "zVnOndxaxCHG",
    "outputId": "8fecfb6e-2f84-4aef-831f-0be32fe26ba0"
   },
   "outputs": [
    {
     "data": {
      "text/plain": [
       "'\\ndef spaceRowHeatDifOutn(t0,t1):\\n  plt.figure(figsize=(1*10,1*10))\\n  a=t0\\n  b=t1\\n  ab=abs(a-b)\\n\\n  print(\"01\")\\n  sns.heatmap(ab,vmin=0, vmax=0.5)\\n\\n  print(\"誤差\")\\n  print(\"01\")\\n  print(ab.sum())\\n  return ab\\n'"
      ]
     },
     "execution_count": 148,
     "metadata": {},
     "output_type": "execute_result"
    }
   ],
   "source": [
    "\"\"\"\n",
    "def spaceRowHeatDifOutn(t0,t1):\n",
    "  plt.figure(figsize=(1*10,1*10))\n",
    "  a=t0\n",
    "  b=t1\n",
    "  ab=abs(a-b)\n",
    "\n",
    "  print(\"01\")\n",
    "  sns.heatmap(ab,vmin=0, vmax=0.5)\n",
    "\n",
    "  print(\"誤差\")\n",
    "  print(\"01\")\n",
    "  print(ab.sum())\n",
    "  return ab\n",
    "\"\"\""
   ]
  },
  {
   "cell_type": "code",
   "execution_count": 149,
   "metadata": {
    "executionInfo": {
     "elapsed": 43,
     "status": "ok",
     "timestamp": 1672373964433,
     "user": {
      "displayName": "学生1935084t",
      "userId": "12227631716568337195"
     },
     "user_tz": -540
    },
    "id": "GHK8qOa4jYVT"
   },
   "outputs": [],
   "source": [
    "#print(a.shape)"
   ]
  },
  {
   "cell_type": "code",
   "execution_count": 150,
   "metadata": {
    "colab": {
     "base_uri": "https://localhost:8080/",
     "height": 122
    },
    "executionInfo": {
     "elapsed": 44,
     "status": "ok",
     "timestamp": 1672373964434,
     "user": {
      "displayName": "学生1935084t",
      "userId": "12227631716568337195"
     },
     "user_tz": -540
    },
    "id": "RFFREXSqizpL",
    "outputId": "5ac9e8f0-9a82-4fc7-bc53-70f6f5313577"
   },
   "outputs": [
    {
     "data": {
      "text/plain": [
       "\"\\na=spaceRowHeatDifOut(b0,b1)\\ny=np.argsort(a[:,3]*(10**20),kind='mergesort')\\nb0n=b0[1][:,:]\\nb1n=b1[1][:,:]\\nb0n=b0n[y,:]\\nb1n=b1n[y,:]\\na=spaceRowHeatDifOutn(b0n,b1n)\\ny=np.argsort(a[:,2]*(10**20),kind='mergesort')\\nb0n=b0n[y,:]\\nb1n=b1n[y,:]\\na=spaceRowHeatDifOutn(b0n,b1n)\\ny=np.argsort(a[:,1]*(10**20),kind='mergesort')\\nb0n=b0n[y,:]\\nb1n=b1n[y,:]\\na=spaceRowHeatDifOutn(b0n,b1n)\\ny=np.argsort(a[:,0]*(10**20),kind='mergesort')\\nb0n=b0n[y,:]\\nb1n=b1n[y,:]\\na=spaceRowHeatDifOutn(b0n,b1n)\\n\""
      ]
     },
     "execution_count": 150,
     "metadata": {},
     "output_type": "execute_result"
    }
   ],
   "source": [
    "\"\"\"\n",
    "a=spaceRowHeatDifOut(b0,b1)\n",
    "y=np.argsort(a[:,3]*(10**20),kind='mergesort')\n",
    "b0n=b0[1][:,:]\n",
    "b1n=b1[1][:,:]\n",
    "b0n=b0n[y,:]\n",
    "b1n=b1n[y,:]\n",
    "a=spaceRowHeatDifOutn(b0n,b1n)\n",
    "y=np.argsort(a[:,2]*(10**20),kind='mergesort')\n",
    "b0n=b0n[y,:]\n",
    "b1n=b1n[y,:]\n",
    "a=spaceRowHeatDifOutn(b0n,b1n)\n",
    "y=np.argsort(a[:,1]*(10**20),kind='mergesort')\n",
    "b0n=b0n[y,:]\n",
    "b1n=b1n[y,:]\n",
    "a=spaceRowHeatDifOutn(b0n,b1n)\n",
    "y=np.argsort(a[:,0]*(10**20),kind='mergesort')\n",
    "b0n=b0n[y,:]\n",
    "b1n=b1n[y,:]\n",
    "a=spaceRowHeatDifOutn(b0n,b1n)\n",
    "\"\"\""
   ]
  },
  {
   "cell_type": "code",
   "execution_count": 151,
   "metadata": {
    "colab": {
     "base_uri": "https://localhost:8080/",
     "height": 87
    },
    "executionInfo": {
     "elapsed": 43,
     "status": "ok",
     "timestamp": 1672373964434,
     "user": {
      "displayName": "学生1935084t",
      "userId": "12227631716568337195"
     },
     "user_tz": -540
    },
    "id": "AA-fmO3TjhaC",
    "outputId": "9b7dbf72-0107-4f70-c594-4fce3ecc9037"
   },
   "outputs": [
    {
     "data": {
      "text/plain": [
       "'\\ntensor_0 = df_cluster0.values.reshape(-1, 864, 4)\\n#print(tensor_0[1,0,0])\\ntensor_1 = df_cluster1.values.reshape(-1, 864, 4)\\n#print(tensor_1[1,0,0])\\ntensor_2 = df_cluster2.values.reshape(-1, 864, 4)\\n#print(tensor_2[1,0,0])\\ntensor_all = df_clusterall.values.reshape(-1, 864, 4)\\n#print(tensor_2[1,0,0])\\n'"
      ]
     },
     "execution_count": 151,
     "metadata": {},
     "output_type": "execute_result"
    }
   ],
   "source": [
    "#元データ\n",
    "\"\"\"\n",
    "tensor_0 = df_cluster0.values.reshape(-1, 864, 4)\n",
    "#print(tensor_0[1,0,0])\n",
    "tensor_1 = df_cluster1.values.reshape(-1, 864, 4)\n",
    "#print(tensor_1[1,0,0])\n",
    "tensor_2 = df_cluster2.values.reshape(-1, 864, 4)\n",
    "#print(tensor_2[1,0,0])\n",
    "tensor_all = df_clusterall.values.reshape(-1, 864, 4)\n",
    "#print(tensor_2[1,0,0])\n",
    "\"\"\""
   ]
  },
  {
   "cell_type": "code",
   "execution_count": 152,
   "metadata": {
    "colab": {
     "base_uri": "https://localhost:8080/",
     "height": 35
    },
    "executionInfo": {
     "elapsed": 43,
     "status": "ok",
     "timestamp": 1672373964435,
     "user": {
      "displayName": "学生1935084t",
      "userId": "12227631716568337195"
     },
     "user_tz": -540
    },
    "id": "n5qh5SVuK2Ja",
    "outputId": "d1036f4a-e193-4dcf-cb77-ae6bb6bc39c7"
   },
   "outputs": [
    {
     "data": {
      "text/plain": [
       "'\\nleft=range(864)\\nheight1=a[:,1]\\np1 = plt.plot(left, height1, linewidth=2)\\n'"
      ]
     },
     "execution_count": 152,
     "metadata": {},
     "output_type": "execute_result"
    }
   ],
   "source": [
    "\"\"\"\n",
    "left=range(864)\n",
    "height1=a[:,1]\n",
    "p1 = plt.plot(left, height1, linewidth=2)\n",
    "\"\"\""
   ]
  },
  {
   "cell_type": "markdown",
   "metadata": {
    "id": "RzBwykhKLMjB"
   },
   "source": [
    "並び替えがうまくいっていない→多分うまくいった"
   ]
  },
  {
   "cell_type": "code",
   "execution_count": 153,
   "metadata": {
    "colab": {
     "base_uri": "https://localhost:8080/",
     "height": 35
    },
    "executionInfo": {
     "elapsed": 43,
     "status": "ok",
     "timestamp": 1672373964436,
     "user": {
      "displayName": "学生1935084t",
      "userId": "12227631716568337195"
     },
     "user_tz": -540
    },
    "id": "sim1FgwwmMt2",
    "outputId": "5b050990-f08b-4202-df3e-d7ff4b990a06"
   },
   "outputs": [
    {
     "data": {
      "text/plain": [
       "'\\nt0=tensor_0\\nt1=tensor_2\\n#print(t0[:,0,:])\\n'"
      ]
     },
     "execution_count": 153,
     "metadata": {},
     "output_type": "execute_result"
    }
   ],
   "source": [
    "\"\"\"\n",
    "t0=tensor_0\n",
    "t1=tensor_2\n",
    "#print(t0[:,0,:])\n",
    "\"\"\""
   ]
  },
  {
   "cell_type": "code",
   "execution_count": 154,
   "metadata": {
    "colab": {
     "base_uri": "https://localhost:8080/",
     "height": 35
    },
    "executionInfo": {
     "elapsed": 43,
     "status": "ok",
     "timestamp": 1672373964437,
     "user": {
      "displayName": "学生1935084t",
      "userId": "12227631716568337195"
     },
     "user_tz": -540
    },
    "id": "ybe5J7HUwLRh",
    "outputId": "e18e13af-0735-4850-8c2b-2ff12cc12d26"
   },
   "outputs": [
    {
     "data": {
      "text/plain": [
       "'\\nb0n=b0[1][:,:]\\nb1n=b1[1][:,:]\\nb0n=b0n[y,:]\\nb1n=b1n[y,:]\\n'"
      ]
     },
     "execution_count": 154,
     "metadata": {},
     "output_type": "execute_result"
    }
   ],
   "source": [
    "\"\"\"\n",
    "b0n=b0[1][:,:]\n",
    "b1n=b1[1][:,:]\n",
    "b0n=b0n[y,:]\n",
    "b1n=b1n[y,:]\n",
    "\"\"\""
   ]
  },
  {
   "cell_type": "code",
   "execution_count": 155,
   "metadata": {
    "executionInfo": {
     "elapsed": 42,
     "status": "ok",
     "timestamp": 1672373964438,
     "user": {
      "displayName": "学生1935084t",
      "userId": "12227631716568337195"
     },
     "user_tz": -540
    },
    "id": "WqI6b_71wGZT"
   },
   "outputs": [],
   "source": [
    "#spaceRowHeatDifOutn(b0n,b1n)"
   ]
  },
  {
   "cell_type": "code",
   "execution_count": 156,
   "metadata": {
    "colab": {
     "base_uri": "https://localhost:8080/",
     "height": 35
    },
    "executionInfo": {
     "elapsed": 42,
     "status": "ok",
     "timestamp": 1672373964438,
     "user": {
      "displayName": "学生1935084t",
      "userId": "12227631716568337195"
     },
     "user_tz": -540
    },
    "id": "wAEc14Yw570F",
    "outputId": "4b475b85-c817-41c0-e05b-eee8f50c7897"
   },
   "outputs": [
    {
     "data": {
      "text/plain": [
       "'\\ny1=np.argsort(a[:,1]*(10**20))\\n'"
      ]
     },
     "execution_count": 156,
     "metadata": {},
     "output_type": "execute_result"
    }
   ],
   "source": [
    "\"\"\"\n",
    "y1=np.argsort(a[:,1]*(10**20))\n",
    "\"\"\""
   ]
  },
  {
   "cell_type": "code",
   "execution_count": 157,
   "metadata": {
    "colab": {
     "base_uri": "https://localhost:8080/",
     "height": 35
    },
    "executionInfo": {
     "elapsed": 41,
     "status": "ok",
     "timestamp": 1672373964439,
     "user": {
      "displayName": "学生1935084t",
      "userId": "12227631716568337195"
     },
     "user_tz": -540
    },
    "id": "0xsGgm-G6ABv",
    "outputId": "6190f0e1-ddbd-47a0-81be-77e2a22b79ea"
   },
   "outputs": [
    {
     "data": {
      "text/plain": [
       "'\\nb0n=b0n[y1,:]\\nb1n=b1n[y1,:]\\n'"
      ]
     },
     "execution_count": 157,
     "metadata": {},
     "output_type": "execute_result"
    }
   ],
   "source": [
    "\"\"\"\n",
    "b0n=b0n[y1,:]\n",
    "b1n=b1n[y1,:]\n",
    "\"\"\""
   ]
  },
  {
   "cell_type": "code",
   "execution_count": 158,
   "metadata": {
    "executionInfo": {
     "elapsed": 41,
     "status": "ok",
     "timestamp": 1672373964440,
     "user": {
      "displayName": "学生1935084t",
      "userId": "12227631716568337195"
     },
     "user_tz": -540
    },
    "id": "kxflFtyO6FS2"
   },
   "outputs": [],
   "source": [
    "\n",
    "#spaceRowHeatDifOutn(b0n,b1n)"
   ]
  },
  {
   "cell_type": "code",
   "execution_count": 159,
   "metadata": {
    "colab": {
     "base_uri": "https://localhost:8080/",
     "height": 35
    },
    "executionInfo": {
     "elapsed": 41,
     "status": "ok",
     "timestamp": 1672373964440,
     "user": {
      "displayName": "学生1935084t",
      "userId": "12227631716568337195"
     },
     "user_tz": -540
    },
    "id": "2KmZt7cEKgRG",
    "outputId": "ae88a6d3-5d24-4dfc-f55b-1a42329cffa7"
   },
   "outputs": [
    {
     "data": {
      "text/plain": [
       "'\\nt0=tensor_0[:,y,:]\\nt1=tensor_2[:,y,:]\\n'"
      ]
     },
     "execution_count": 159,
     "metadata": {},
     "output_type": "execute_result"
    }
   ],
   "source": [
    "\"\"\"\n",
    "t0=tensor_0[:,y,:]\n",
    "t1=tensor_2[:,y,:]\n",
    "\"\"\""
   ]
  },
  {
   "cell_type": "code",
   "execution_count": 160,
   "metadata": {
    "executionInfo": {
     "elapsed": 41,
     "status": "ok",
     "timestamp": 1672373964441,
     "user": {
      "displayName": "学生1935084t",
      "userId": "12227631716568337195"
     },
     "user_tz": -540
    },
    "id": "eAmbseDAnYqW"
   },
   "outputs": [],
   "source": [
    "#t0[0,0,3]"
   ]
  },
  {
   "cell_type": "code",
   "execution_count": 161,
   "metadata": {
    "executionInfo": {
     "elapsed": 40,
     "status": "ok",
     "timestamp": 1672373964441,
     "user": {
      "displayName": "学生1935084t",
      "userId": "12227631716568337195"
     },
     "user_tz": -540
    },
    "id": "bMLu6jbUnpri"
   },
   "outputs": [],
   "source": [
    "#print(t1[:,863,:].shape)"
   ]
  },
  {
   "cell_type": "code",
   "execution_count": 162,
   "metadata": {
    "colab": {
     "base_uri": "https://localhost:8080/",
     "height": 104
    },
    "executionInfo": {
     "elapsed": 41,
     "status": "ok",
     "timestamp": 1672373964442,
     "user": {
      "displayName": "学生1935084t",
      "userId": "12227631716568337195"
     },
     "user_tz": -540
    },
    "id": "-Q6b9UgDqQrs",
    "outputId": "ca84ddc1-8222-4d63-d365-b7af01230367"
   },
   "outputs": [
    {
     "data": {
      "text/plain": [
       "'\\nleft=range(117)\\nheight1=t1[:,pt,0]\\nheight2=t1[:,pt,1]\\nheight3=t1[:,pt,2]\\nheight4=t1[:,pt,3]\\nplt.subplot(1,2,2)\\np1 = plt.plot(left, height1, linewidth=2)\\np2 = plt.plot(left, height2, linewidth=2)\\np3 = plt.plot(left, height3, linewidth=2)\\np4 = plt.plot(left, height4, linewidth=2)\\nplt.legend((p1[0], p2[0],p3[0], p4[0]), (\"Class 1\", \"Class 2\",\"Class 3\", \"Class 4\"), loc=4)\\n'"
      ]
     },
     "execution_count": 162,
     "metadata": {},
     "output_type": "execute_result"
    }
   ],
   "source": [
    "\"\"\"\n",
    "left=range(221)\n",
    "cnt=0\n",
    "for pt in range(859,863):\n",
    "  plt.figure(figsize=(2*10,2*10))\n",
    "  height1=t0[:,pt,0]\n",
    "  height2=t0[:,pt,1]\n",
    "  height3=t0[:,pt,2]\n",
    "  height4=t0[:,pt,3]\n",
    "  cnt=cnt+1\n",
    "  plt.subplot(4,1,cnt)\n",
    "  p1 = plt.plot(left, height1, linewidth=2)\n",
    "  p2 = plt.plot(left, height2, linewidth=2)\n",
    "  p3 = plt.plot(left, height3, linewidth=2)\n",
    "  p4 = plt.plot(left, height4, linewidth=2)\n",
    "  plt.legend((p1[0], p2[0],p3[0], p4[0]), (\"Class 1\", \"Class 2\",\"Class 3\", \"Class 4\"), loc=4)\n",
    "\n",
    "\"\"\"\n",
    "\"\"\"\n",
    "left=range(117)\n",
    "height1=t1[:,pt,0]\n",
    "height2=t1[:,pt,1]\n",
    "height3=t1[:,pt,2]\n",
    "height4=t1[:,pt,3]\n",
    "plt.subplot(1,2,2)\n",
    "p1 = plt.plot(left, height1, linewidth=2)\n",
    "p2 = plt.plot(left, height2, linewidth=2)\n",
    "p3 = plt.plot(left, height3, linewidth=2)\n",
    "p4 = plt.plot(left, height4, linewidth=2)\n",
    "plt.legend((p1[0], p2[0],p3[0], p4[0]), (\"Class 1\", \"Class 2\",\"Class 3\", \"Class 4\"), loc=4)\n",
    "\"\"\"\n"
   ]
  },
  {
   "cell_type": "code",
   "execution_count": 163,
   "metadata": {
    "colab": {
     "base_uri": "https://localhost:8080/",
     "height": 122
    },
    "executionInfo": {
     "elapsed": 40,
     "status": "ok",
     "timestamp": 1672373964442,
     "user": {
      "displayName": "学生1935084t",
      "userId": "12227631716568337195"
     },
     "user_tz": -540
    },
    "id": "iosm3p053dbi",
    "outputId": "407ec661-2af7-43e1-db6c-1d857a2ed804"
   },
   "outputs": [
    {
     "data": {
      "text/plain": [
       "'\\nleft=range(117)\\ncnt=0\\nfor pt in range(0,4):\\n  plt.figure(figsize=(2*10,2*10))\\n  cnt=cnt+1\\n  plt.subplot(4,1,cnt)\\n  height1=t1[:,pt,0]\\n  height2=t1[:,pt,1]\\n  height3=t1[:,pt,2]\\n  height4=t1[:,pt,3]\\n  p1 = plt.plot(left, height1, linewidth=2)\\n  p2 = plt.plot(left, height2, linewidth=2)\\n  p3 = plt.plot(left, height3, linewidth=2)\\n  p4 = plt.plot(left, height4, linewidth=2)\\n  plt.legend((p1[0], p2[0],p3[0], p4[0]), (\"Class 1\", \"Class 2\",\"Class 3\", \"Class 4\"), loc=4)\\n  '"
      ]
     },
     "execution_count": 163,
     "metadata": {},
     "output_type": "execute_result"
    }
   ],
   "source": [
    "\"\"\"\n",
    "left=range(117)\n",
    "cnt=0\n",
    "for pt in range(0,4):\n",
    "  plt.figure(figsize=(2*10,2*10))\n",
    "  cnt=cnt+1\n",
    "  plt.subplot(4,1,cnt)\n",
    "  height1=t1[:,pt,0]\n",
    "  height2=t1[:,pt,1]\n",
    "  height3=t1[:,pt,2]\n",
    "  height4=t1[:,pt,3]\n",
    "  p1 = plt.plot(left, height1, linewidth=2)\n",
    "  p2 = plt.plot(left, height2, linewidth=2)\n",
    "  p3 = plt.plot(left, height3, linewidth=2)\n",
    "  p4 = plt.plot(left, height4, linewidth=2)\n",
    "  plt.legend((p1[0], p2[0],p3[0], p4[0]), (\"Class 1\", \"Class 2\",\"Class 3\", \"Class 4\"), loc=4)\n",
    "  \"\"\""
   ]
  },
  {
   "cell_type": "code",
   "execution_count": 164,
   "metadata": {
    "colab": {
     "base_uri": "https://localhost:8080/",
     "height": 87
    },
    "executionInfo": {
     "elapsed": 40,
     "status": "ok",
     "timestamp": 1672373964443,
     "user": {
      "displayName": "学生1935084t",
      "userId": "12227631716568337195"
     },
     "user_tz": -540
    },
    "id": "fZnYJJ_KC9yP",
    "outputId": "33587dc0-8436-4e13-ff95-ef93816ca793"
   },
   "outputs": [
    {
     "data": {
      "text/plain": [
       "'\\ncnt=0\\nplt.figure(figsize=(2*10,2*10))\\nfor pt in range(859,863):\\n  cnt=cnt+1\\n  plt.subplot(2,2,cnt)\\n  left=t0[:,pt,0]\\n  height=t0[:,pt,1]\\n  p1 = plt.scatter(left, height, linewidth=2)\\n  left=t1[:,pt,0]\\n  height=t1[:,pt,1]\\n  p2 = plt.scatter(left, height, linewidth=2)\\n  '"
      ]
     },
     "execution_count": 164,
     "metadata": {},
     "output_type": "execute_result"
    }
   ],
   "source": [
    "\"\"\"\n",
    "cnt=0\n",
    "plt.figure(figsize=(2*10,2*10))\n",
    "for pt in range(859,863):\n",
    "  cnt=cnt+1\n",
    "  plt.subplot(2,2,cnt)\n",
    "  left=t0[:,pt,0]\n",
    "  height=t0[:,pt,1]\n",
    "  p1 = plt.scatter(left, height, linewidth=2)\n",
    "  left=t1[:,pt,0]\n",
    "  height=t1[:,pt,1]\n",
    "  p2 = plt.scatter(left, height, linewidth=2)\n",
    "  \"\"\""
   ]
  },
  {
   "cell_type": "code",
   "execution_count": 165,
   "metadata": {
    "colab": {
     "base_uri": "https://localhost:8080/",
     "height": 87
    },
    "executionInfo": {
     "elapsed": 38,
     "status": "ok",
     "timestamp": 1672373965090,
     "user": {
      "displayName": "学生1935084t",
      "userId": "12227631716568337195"
     },
     "user_tz": -540
    },
    "id": "NyHf32a4D34A",
    "outputId": "5cb267df-cd06-4da9-eeff-2392954283f0"
   },
   "outputs": [
    {
     "data": {
      "text/plain": [
       "'\\ncnt=0\\nplt.figure(figsize=(2*10,2*10))\\nfor pt in range(0,4):\\n  cnt=cnt+1\\n  plt.subplot(2,2,cnt)\\n  left=t0[:,pt,2]\\n  height=t0[:,pt,1]\\n  p1 = plt.scatter(left, height, linewidth=2)\\n  left=t1[:,pt,2]\\n  height=t1[:,pt,1]\\n  p2 = plt.scatter(left, height, linewidth=2)\\n  '"
      ]
     },
     "execution_count": 165,
     "metadata": {},
     "output_type": "execute_result"
    }
   ],
   "source": [
    "\"\"\"\n",
    "cnt=0\n",
    "plt.figure(figsize=(2*10,2*10))\n",
    "for pt in range(0,4):\n",
    "  cnt=cnt+1\n",
    "  plt.subplot(2,2,cnt)\n",
    "  left=t0[:,pt,2]\n",
    "  height=t0[:,pt,1]\n",
    "  p1 = plt.scatter(left, height, linewidth=2)\n",
    "  left=t1[:,pt,2]\n",
    "  height=t1[:,pt,1]\n",
    "  p2 = plt.scatter(left, height, linewidth=2)\n",
    "  \"\"\""
   ]
  },
  {
   "cell_type": "code",
   "execution_count": 166,
   "metadata": {
    "colab": {
     "base_uri": "https://localhost:8080/",
     "height": 87
    },
    "executionInfo": {
     "elapsed": 37,
     "status": "ok",
     "timestamp": 1672373965090,
     "user": {
      "displayName": "学生1935084t",
      "userId": "12227631716568337195"
     },
     "user_tz": -540
    },
    "id": "3pcFGWl4D4a_",
    "outputId": "7fcd0797-bbaa-46d9-e622-f4d470f1580d"
   },
   "outputs": [
    {
     "data": {
      "text/plain": [
       "'\\ncnt=0\\nplt.figure(figsize=(2*10,2*10))\\nfor pt in range(859,863):\\n  cnt=cnt+1\\n  plt.subplot(2,2,cnt)\\n  left=t0[:,pt,0]\\n  height=t0[:,pt,3]\\n  p1 = plt.scatter(left, height, linewidth=2)\\n  left=t1[:,pt,0]\\n  height=t1[:,pt,3]\\n  p2 = plt.scatter(left, height, linewidth=2)\\n  '"
      ]
     },
     "execution_count": 166,
     "metadata": {},
     "output_type": "execute_result"
    }
   ],
   "source": [
    "\"\"\"\n",
    "cnt=0\n",
    "plt.figure(figsize=(2*10,2*10))\n",
    "for pt in range(859,863):\n",
    "  cnt=cnt+1\n",
    "  plt.subplot(2,2,cnt)\n",
    "  left=t0[:,pt,0]\n",
    "  height=t0[:,pt,3]\n",
    "  p1 = plt.scatter(left, height, linewidth=2)\n",
    "  left=t1[:,pt,0]\n",
    "  height=t1[:,pt,3]\n",
    "  p2 = plt.scatter(left, height, linewidth=2)\n",
    "  \"\"\""
   ]
  },
  {
   "cell_type": "code",
   "execution_count": 167,
   "metadata": {
    "colab": {
     "base_uri": "https://localhost:8080/",
     "height": 87
    },
    "executionInfo": {
     "elapsed": 37,
     "status": "ok",
     "timestamp": 1672373965091,
     "user": {
      "displayName": "学生1935084t",
      "userId": "12227631716568337195"
     },
     "user_tz": -540
    },
    "id": "-o8MbWDPEU2L",
    "outputId": "ce6efa1d-c25d-43b0-860d-974b4b208c2b"
   },
   "outputs": [
    {
     "data": {
      "text/plain": [
       "'\\ncnt=0\\nplt.figure(figsize=(2*10,2*10))\\nfor pt in range(859,863):\\n  cnt=cnt+1\\n  plt.subplot(2,2,cnt)\\n  left=t0[:,pt,0]\\n  height=t0[:,pt,3]\\n  p1 = plt.scatter(left, height, linewidth=2)\\n  left=t1[:,pt,0]\\n  height=t1[:,pt,3]\\n  p2 = plt.scatter(left, height, linewidth=2)\\n  '"
      ]
     },
     "execution_count": 167,
     "metadata": {},
     "output_type": "execute_result"
    }
   ],
   "source": [
    "\"\"\"\n",
    "cnt=0\n",
    "plt.figure(figsize=(2*10,2*10))\n",
    "for pt in range(859,863):\n",
    "  cnt=cnt+1\n",
    "  plt.subplot(2,2,cnt)\n",
    "  left=t0[:,pt,0]\n",
    "  height=t0[:,pt,3]\n",
    "  p1 = plt.scatter(left, height, linewidth=2)\n",
    "  left=t1[:,pt,0]\n",
    "  height=t1[:,pt,3]\n",
    "  p2 = plt.scatter(left, height, linewidth=2)\n",
    "  \"\"\""
   ]
  },
  {
   "cell_type": "code",
   "execution_count": 168,
   "metadata": {
    "colab": {
     "base_uri": "https://localhost:8080/",
     "height": 104
    },
    "executionInfo": {
     "elapsed": 37,
     "status": "ok",
     "timestamp": 1672373965092,
     "user": {
      "displayName": "学生1935084t",
      "userId": "12227631716568337195"
     },
     "user_tz": -540
    },
    "id": "qduD7rIaEpz2",
    "outputId": "3d5c6317-7c4b-4368-8599-d934b853b2df"
   },
   "outputs": [
    {
     "data": {
      "text/plain": [
       "'\\ncnt=0\\nplt.figure(figsize=(2*10,2*10))\\npt=863\\nfor n in range(0,4):\\n  for m in range(0,4):\\n    if n>=m: continue\\n    cnt=cnt+1\\n    plt.subplot(3,2,cnt)\\n    left=t0[:,pt,n]\\n    height=t0[:,pt,m]\\n    plt.xlim(-3,3)\\n    plt.ylim(-3,3)\\n    p1 = plt.scatter(left, height, linewidth=2)\\n    left=t1[:,pt,n]\\n    height=t1[:,pt,m]\\n    p2 = plt.scatter(left, height, linewidth=2)\\n    plt.title(str(n)+str(m))\\n'"
      ]
     },
     "execution_count": 168,
     "metadata": {},
     "output_type": "execute_result"
    }
   ],
   "source": [
    "\"\"\"\n",
    "cnt=0\n",
    "plt.figure(figsize=(2*10,2*10))\n",
    "pt=863\n",
    "for n in range(0,4):\n",
    "  for m in range(0,4):\n",
    "    if n>=m: continue\n",
    "    cnt=cnt+1\n",
    "    plt.subplot(3,2,cnt)\n",
    "    left=t0[:,pt,n]\n",
    "    height=t0[:,pt,m]\n",
    "    plt.xlim(-3,3)\n",
    "    plt.ylim(-3,3)\n",
    "    p1 = plt.scatter(left, height, linewidth=2)\n",
    "    left=t1[:,pt,n]\n",
    "    height=t1[:,pt,m]\n",
    "    p2 = plt.scatter(left, height, linewidth=2)\n",
    "    plt.title(str(n)+str(m))\n",
    "\"\"\""
   ]
  },
  {
   "cell_type": "code",
   "execution_count": 169,
   "metadata": {
    "colab": {
     "base_uri": "https://localhost:8080/",
     "height": 104
    },
    "executionInfo": {
     "elapsed": 35,
     "status": "ok",
     "timestamp": 1672373965092,
     "user": {
      "displayName": "学生1935084t",
      "userId": "12227631716568337195"
     },
     "user_tz": -540
    },
    "id": "Zcq6CeJqHL7A",
    "outputId": "5cb29999-aa13-49e7-934b-5940c6486f15"
   },
   "outputs": [
    {
     "data": {
      "text/plain": [
       "'\\ncnt=0\\nplt.figure(figsize=(2*10,2*10))\\npt=1\\nfor n in range(0,4):\\n  for m in range(0,4):\\n    if n>=m: continue\\n    cnt=cnt+1\\n    plt.subplot(3,2,cnt)\\n    left=t0[:,pt,n]\\n    height=t0[:,pt,m]\\n    plt.xlim(-3,3)\\n    plt.ylim(-3,3)\\n    p1 = plt.scatter(left, height, linewidth=2)\\n    left=t1[:,pt,n]\\n    height=t1[:,pt,m]\\n    p2 = plt.scatter(left, height, linewidth=2)\\n    plt.title(str(n)+str(m))\\n'"
      ]
     },
     "execution_count": 169,
     "metadata": {},
     "output_type": "execute_result"
    }
   ],
   "source": [
    "\"\"\"\n",
    "cnt=0\n",
    "plt.figure(figsize=(2*10,2*10))\n",
    "pt=1\n",
    "for n in range(0,4):\n",
    "  for m in range(0,4):\n",
    "    if n>=m: continue\n",
    "    cnt=cnt+1\n",
    "    plt.subplot(3,2,cnt)\n",
    "    left=t0[:,pt,n]\n",
    "    height=t0[:,pt,m]\n",
    "    plt.xlim(-3,3)\n",
    "    plt.ylim(-3,3)\n",
    "    p1 = plt.scatter(left, height, linewidth=2)\n",
    "    left=t1[:,pt,n]\n",
    "    height=t1[:,pt,m]\n",
    "    p2 = plt.scatter(left, height, linewidth=2)\n",
    "    plt.title(str(n)+str(m))\n",
    "\"\"\""
   ]
  },
  {
   "cell_type": "code",
   "execution_count": 170,
   "metadata": {
    "colab": {
     "base_uri": "https://localhost:8080/",
     "height": 87
    },
    "executionInfo": {
     "elapsed": 34,
     "status": "ok",
     "timestamp": 1672373965092,
     "user": {
      "displayName": "学生1935084t",
      "userId": "12227631716568337195"
     },
     "user_tz": -540
    },
    "id": "p0Db8lV-er9a",
    "outputId": "50109eb9-9b6d-45e5-c240-6931c2534c7d"
   },
   "outputs": [
    {
     "data": {
      "text/plain": [
       "'\\npt=863\\nprint(0)\\ndist = np.linalg.norm(t1[:117,pt,0]-t0[:117,pt,0])\\nprint(dist)\\nprint(1)\\ndist = np.linalg.norm(t1[:117,pt,1]-t0[:117,pt,1])\\nprint(dist)\\nprint(2)\\ndist = np.linalg.norm(t1[:117,pt,2]-t0[:117,pt,2])\\nprint(dist)\\nprint(3)\\ndist = np.linalg.norm(t1[:117,pt,3]-t0[:117,pt,3])\\nprint(dist)\\n'"
      ]
     },
     "execution_count": 170,
     "metadata": {},
     "output_type": "execute_result"
    }
   ],
   "source": [
    "\"\"\"\n",
    "pt=863\n",
    "print(0)\n",
    "dist = np.linalg.norm(t1[:117,pt,0]-t0[:117,pt,0])\n",
    "print(dist)\n",
    "print(1)\n",
    "dist = np.linalg.norm(t1[:117,pt,1]-t0[:117,pt,1])\n",
    "print(dist)\n",
    "print(2)\n",
    "dist = np.linalg.norm(t1[:117,pt,2]-t0[:117,pt,2])\n",
    "print(dist)\n",
    "print(3)\n",
    "dist = np.linalg.norm(t1[:117,pt,3]-t0[:117,pt,3])\n",
    "print(dist)\n",
    "\"\"\""
   ]
  },
  {
   "cell_type": "code",
   "execution_count": 171,
   "metadata": {
    "colab": {
     "base_uri": "https://localhost:8080/",
     "height": 87
    },
    "executionInfo": {
     "elapsed": 36,
     "status": "ok",
     "timestamp": 1672373965094,
     "user": {
      "displayName": "学生1935084t",
      "userId": "12227631716568337195"
     },
     "user_tz": -540
    },
    "id": "1TevP83si6Ql",
    "outputId": "6b9f207f-64cb-4f86-d9bc-0032e0d25f05"
   },
   "outputs": [
    {
     "data": {
      "text/plain": [
       "'\\npt=0\\nprint(0)\\ndist = np.linalg.norm(t1[:117,pt,0]-t0[:117,pt,0])\\nprint(dist)\\nprint(1)\\ndist = np.linalg.norm(t1[:117,pt,1]-t0[:117,pt,1])\\nprint(dist)\\nprint(2)\\ndist = np.linalg.norm(t1[:117,pt,2]-t0[:117,pt,2])\\nprint(dist)\\nprint(3)\\ndist = np.linalg.norm(t1[:117,pt,3]-t0[:117,pt,3])\\nprint(dist)\\n'"
      ]
     },
     "execution_count": 171,
     "metadata": {},
     "output_type": "execute_result"
    }
   ],
   "source": [
    "\"\"\"\n",
    "pt=0\n",
    "print(0)\n",
    "dist = np.linalg.norm(t1[:117,pt,0]-t0[:117,pt,0])\n",
    "print(dist)\n",
    "print(1)\n",
    "dist = np.linalg.norm(t1[:117,pt,1]-t0[:117,pt,1])\n",
    "print(dist)\n",
    "print(2)\n",
    "dist = np.linalg.norm(t1[:117,pt,2]-t0[:117,pt,2])\n",
    "print(dist)\n",
    "print(3)\n",
    "dist = np.linalg.norm(t1[:117,pt,3]-t0[:117,pt,3])\n",
    "print(dist)\n",
    "\"\"\""
   ]
  },
  {
   "cell_type": "code",
   "execution_count": 172,
   "metadata": {
    "colab": {
     "base_uri": "https://localhost:8080/",
     "height": 52
    },
    "executionInfo": {
     "elapsed": 35,
     "status": "ok",
     "timestamp": 1672373965095,
     "user": {
      "displayName": "学生1935084t",
      "userId": "12227631716568337195"
     },
     "user_tz": -540
    },
    "id": "Wso6MW8Em4E-",
    "outputId": "3e1a72e7-05af-40df-a32e-788f526e21ac"
   },
   "outputs": [
    {
     "data": {
      "text/plain": [
       "'\\nfor pt in range(864):\\n  print(pt)\\n  dist = np.linalg.norm(t1[:117,pt,:]-t0[:117,pt,:])\\n  print(dist)\\n'"
      ]
     },
     "execution_count": 172,
     "metadata": {},
     "output_type": "execute_result"
    }
   ],
   "source": [
    "\"\"\"\n",
    "for pt in range(864):\n",
    "  print(pt)\n",
    "  dist = np.linalg.norm(t1[:117,pt,:]-t0[:117,pt,:])\n",
    "  print(dist)\n",
    "\"\"\""
   ]
  },
  {
   "cell_type": "markdown",
   "metadata": {
    "id": "W0xaExijLsfb"
   },
   "source": [
    "違いが大きいほうが散らばりが大きいのが見てわかる、これを類似度図るからのその変数の組み合わせから何が原因となっているのか探る、テンソルコアの書き換え"
   ]
  },
  {
   "cell_type": "markdown",
   "metadata": {
    "id": "YjJG7hoRckx8"
   },
   "source": [
    "再度12のところでグループ分けするのもありかも"
   ]
  },
  {
   "cell_type": "markdown",
   "metadata": {
    "id": "3ZpW2dXjcr9E"
   },
   "source": [
    "今はラックだけの要素を用いて比較しているが、他の要素を使うべきやと思う"
   ]
  },
  {
   "cell_type": "code",
   "execution_count": 173,
   "metadata": {
    "colab": {
     "base_uri": "https://localhost:8080/",
     "height": 191
    },
    "executionInfo": {
     "elapsed": 34,
     "status": "ok",
     "timestamp": 1672373965095,
     "user": {
      "displayName": "学生1935084t",
      "userId": "12227631716568337195"
     },
     "user_tz": -540
    },
    "id": "u8MSTcxqw2bU",
    "outputId": "b822766b-ce44-44ed-99dc-7ae70d6e4070"
   },
   "outputs": [
    {
     "data": {
      "text/plain": [
       "'\\npt=863\\nplt.figure(figsize=(2*10,2*10))\\nleft=range(221)\\nheight1=t0[:,pt,0]\\nheight2=t0[:,pt,1]\\nheight3=t0[:,pt,2]\\nheight4=t0[:,pt,3]\\nplt.subplot(1,2,1)\\np1 = plt.plot(left, height1, linewidth=2)\\np2 = plt.plot(left, height2, linewidth=2)\\np3 = plt.plot(left, height3, linewidth=2)\\np4 = plt.plot(left, height4, linewidth=2)\\nplt.legend((p1[0], p2[0],p3[0], p4[0]), (\"Class 1\", \"Class 2\",\"Class 3\", \"Class 4\"), loc=4)\\nleft=range(117)\\nheight1=t1[:,pt,0]\\nheight2=t1[:,pt,1]\\nheight3=t1[:,pt,2]\\nheight4=t1[:,pt,3]\\nplt.subplot(1,2,2)\\np1 = plt.plot(left, height1, linewidth=2)\\np2 = plt.plot(left, height2, linewidth=2)\\np3 = plt.plot(left, height3, linewidth=2)\\np4 = plt.plot(left, height4, linewidth=2)\\nplt.legend((p1[0], p2[0],p3[0], p4[0]), (\"Class 1\", \"Class 2\",\"Class 3\", \"Class 4\"), loc=4)\\n'"
      ]
     },
     "execution_count": 173,
     "metadata": {},
     "output_type": "execute_result"
    }
   ],
   "source": [
    "\"\"\"\n",
    "pt=863\n",
    "plt.figure(figsize=(2*10,2*10))\n",
    "left=range(221)\n",
    "height1=t0[:,pt,0]\n",
    "height2=t0[:,pt,1]\n",
    "height3=t0[:,pt,2]\n",
    "height4=t0[:,pt,3]\n",
    "plt.subplot(1,2,1)\n",
    "p1 = plt.plot(left, height1, linewidth=2)\n",
    "p2 = plt.plot(left, height2, linewidth=2)\n",
    "p3 = plt.plot(left, height3, linewidth=2)\n",
    "p4 = plt.plot(left, height4, linewidth=2)\n",
    "plt.legend((p1[0], p2[0],p3[0], p4[0]), (\"Class 1\", \"Class 2\",\"Class 3\", \"Class 4\"), loc=4)\n",
    "left=range(117)\n",
    "height1=t1[:,pt,0]\n",
    "height2=t1[:,pt,1]\n",
    "height3=t1[:,pt,2]\n",
    "height4=t1[:,pt,3]\n",
    "plt.subplot(1,2,2)\n",
    "p1 = plt.plot(left, height1, linewidth=2)\n",
    "p2 = plt.plot(left, height2, linewidth=2)\n",
    "p3 = plt.plot(left, height3, linewidth=2)\n",
    "p4 = plt.plot(left, height4, linewidth=2)\n",
    "plt.legend((p1[0], p2[0],p3[0], p4[0]), (\"Class 1\", \"Class 2\",\"Class 3\", \"Class 4\"), loc=4)\n",
    "\"\"\""
   ]
  },
  {
   "cell_type": "markdown",
   "metadata": {
    "id": "i-ljt9zOyGJ-"
   },
   "source": [
    "ここからもう一度テンソルに戻って、一個の要素を固定したり、影響力が大きいところの実際の数値の確認"
   ]
  },
  {
   "cell_type": "markdown",
   "metadata": {
    "id": "DzvxjFbMTnav"
   },
   "source": [
    "## 要素の削除と再テンソル化"
   ]
  },
  {
   "cell_type": "code",
   "execution_count": 174,
   "metadata": {
    "executionInfo": {
     "elapsed": 34,
     "status": "ok",
     "timestamp": 1672373965096,
     "user": {
      "displayName": "学生1935084t",
      "userId": "12227631716568337195"
     },
     "user_tz": -540
    },
    "id": "4OQ-XFe-TsCM"
   },
   "outputs": [],
   "source": [
    "#axis=0,奥行,axis=1,行、axis=2,列\n",
    "def spaceDelete(t,n):\n",
    "  np.delete(t,n,axis=1)\n",
    "\n",
    "#axis=0,奥行,axis=1,行、axis=2,列\n",
    "def timeDelete(t,n):\n",
    "  np.delete(t,n,axis=2)\n",
    "\n",
    "def measureDelete(t,n):\n",
    "  np.delete(t,n,axis=0)"
   ]
  },
  {
   "cell_type": "code",
   "execution_count": 175,
   "metadata": {
    "executionInfo": {
     "elapsed": 34,
     "status": "ok",
     "timestamp": 1672373965096,
     "user": {
      "displayName": "学生1935084t",
      "userId": "12227631716568337195"
     },
     "user_tz": -540
    },
    "id": "1RgngoSKVRW_"
   },
   "outputs": [],
   "source": [
    "#multidelete\n",
    "#axis=0,奥行,axis=1,行、axis=2,列\n",
    "def spaceMultiDelete(n):\n",
    "  t0=np.delete(tensor_0,n,axis=1)\n",
    "  t1=np.delete(tensor_1,n,axis=1)\n",
    "  t2=np.delete(tensor_2,n,axis=1)\n",
    "  t3=np.delete(tensor_all,n,axis=1)\n",
    "  return t0,t1,t2,t3"
   ]
  },
  {
   "cell_type": "code",
   "execution_count": 176,
   "metadata": {
    "executionInfo": {
     "elapsed": 35,
     "status": "ok",
     "timestamp": 1672373965097,
     "user": {
      "displayName": "学生1935084t",
      "userId": "12227631716568337195"
     },
     "user_tz": -540
    },
    "id": "fXza8p-ITkaP"
   },
   "outputs": [],
   "source": [
    "nt0,nt1,nt2,nt3=spaceMultiDelete(153)"
   ]
  },
  {
   "cell_type": "code",
   "execution_count": 177,
   "metadata": {
    "executionInfo": {
     "elapsed": 34,
     "status": "ok",
     "timestamp": 1672373965097,
     "user": {
      "displayName": "学生1935084t",
      "userId": "12227631716568337195"
     },
     "user_tz": -540
    },
    "id": "LaJhZ5c3DMOF"
   },
   "outputs": [],
   "source": [
    "#plotFream(nt0,nt1,nt2,nt3,rank_list)"
   ]
  },
  {
   "cell_type": "markdown",
   "metadata": {
    "id": "-rRNf0npEaUk"
   },
   "source": [
    "空間軸方向でも、umapなどでテンソルを作る"
   ]
  },
  {
   "cell_type": "code",
   "execution_count": 178,
   "metadata": {
    "executionInfo": {
     "elapsed": 35,
     "status": "ok",
     "timestamp": 1672373965098,
     "user": {
      "displayName": "学生1935084t",
      "userId": "12227631716568337195"
     },
     "user_tz": -540
    },
    "id": "mHO4qh2_P-E-"
   },
   "outputs": [],
   "source": [
    "def plotData(pltdata):\n",
    "  plt.figure(figsize=(12, 12))\n",
    "  plt.scatter(pltdata[:,0], pltdata[:,1], s=3)\n",
    "  plt.colorbar()\n",
    "  plt.grid()\n",
    "  plt.show()"
   ]
  },
  {
   "cell_type": "code",
   "execution_count": 179,
   "metadata": {
    "colab": {
     "base_uri": "https://localhost:8080/"
    },
    "executionInfo": {
     "elapsed": 7494,
     "status": "ok",
     "timestamp": 1672373972558,
     "user": {
      "displayName": "学生1935084t",
      "userId": "12227631716568337195"
     },
     "user_tz": -540
    },
    "id": "QPJnmXs0PwxL",
    "outputId": "6c4bc378-d3d7-49a3-d4a4-74ff39026083"
   },
   "outputs": [
    {
     "name": "stdout",
     "output_type": "stream",
     "text": [
      "Collecting umap-learn\n",
      "  Downloading umap-learn-0.5.3.tar.gz (88 kB)\n",
      "Requirement already satisfied: numpy>=1.17 in c:\\users\\cocon\\anaconda3\\lib\\site-packages (from umap-learn) (1.18.5)\n",
      "Requirement already satisfied: scikit-learn>=0.22 in c:\\users\\cocon\\anaconda3\\lib\\site-packages (from umap-learn) (0.23.1)\n",
      "Requirement already satisfied: scipy>=1.0 in c:\\users\\cocon\\anaconda3\\lib\\site-packages (from umap-learn) (1.5.0)\n",
      "Requirement already satisfied: numba>=0.49 in c:\\users\\cocon\\anaconda3\\lib\\site-packages (from umap-learn) (0.50.1)\n",
      "Collecting pynndescent>=0.5\n",
      "  Downloading pynndescent-0.5.8.tar.gz (1.1 MB)\n",
      "Requirement already satisfied: tqdm in c:\\users\\cocon\\anaconda3\\lib\\site-packages (from umap-learn) (4.47.0)\n",
      "Requirement already satisfied: threadpoolctl>=2.0.0 in c:\\users\\cocon\\anaconda3\\lib\\site-packages (from scikit-learn>=0.22->umap-learn) (2.1.0)\n",
      "Requirement already satisfied: joblib>=0.11 in c:\\users\\cocon\\anaconda3\\lib\\site-packages (from scikit-learn>=0.22->umap-learn) (0.16.0)\n",
      "Requirement already satisfied: llvmlite<0.34,>=0.33.0.dev0 in c:\\users\\cocon\\anaconda3\\lib\\site-packages (from numba>=0.49->umap-learn) (0.33.0+1.g022ab0f)\n",
      "Requirement already satisfied: setuptools in c:\\users\\cocon\\anaconda3\\lib\\site-packages (from numba>=0.49->umap-learn) (49.2.0.post20200714)\n",
      "Building wheels for collected packages: umap-learn, pynndescent\n",
      "  Building wheel for umap-learn (setup.py): started\n",
      "  Building wheel for umap-learn (setup.py): finished with status 'done'\n",
      "  Created wheel for umap-learn: filename=umap_learn-0.5.3-py3-none-any.whl size=82826 sha256=79aad48c0d95262ec8ba8db54778af537eb8878c673d278c73273483633dd9d8\n",
      "  Stored in directory: c:\\users\\cocon\\appdata\\local\\pip\\cache\\wheels\\a9\\3a\\67\\06a8950e053725912e6a8c42c4a3a241410f6487b8402542ea\n",
      "  Building wheel for pynndescent (setup.py): started\n",
      "  Building wheel for pynndescent (setup.py): finished with status 'done'\n",
      "  Created wheel for pynndescent: filename=pynndescent-0.5.8-py3-none-any.whl size=55501 sha256=0079b55874d32a164a5a9a5674bea5b810662c3a11c63b3b99b5cdedc123e6e8\n",
      "  Stored in directory: c:\\users\\cocon\\appdata\\local\\pip\\cache\\wheels\\1c\\63\\3a\\29954bca1a27ba100ed8c27973a78cb71b43dc67aed62e80c3\n",
      "Successfully built umap-learn pynndescent\n",
      "Installing collected packages: pynndescent, umap-learn\n",
      "Successfully installed pynndescent-0.5.8 umap-learn-0.5.3\n"
     ]
    },
    {
     "name": "stderr",
     "output_type": "stream",
     "text": [
      "ERROR: pynndescent 0.5.8 has requirement numba>=0.51.2, but you'll have numba 0.50.1 which is incompatible.\n"
     ]
    }
   ],
   "source": [
    "!pip3 install umap-learn"
   ]
  },
  {
   "cell_type": "code",
   "execution_count": 180,
   "metadata": {
    "executionInfo": {
     "elapsed": 32668,
     "status": "ok",
     "timestamp": 1672374005219,
     "user": {
      "displayName": "学生1935084t",
      "userId": "12227631716568337195"
     },
     "user_tz": -540
    },
    "id": "iWsBJZHxPz5Y"
   },
   "outputs": [
    {
     "ename": "ModuleNotFoundError",
     "evalue": "No module named 'numba.experimental.structref'",
     "output_type": "error",
     "traceback": [
      "\u001b[1;31m---------------------------------------------------------------------------\u001b[0m",
      "\u001b[1;31mModuleNotFoundError\u001b[0m                       Traceback (most recent call last)",
      "\u001b[1;32m<ipython-input-180-eb4054f04455>\u001b[0m in \u001b[0;36m<module>\u001b[1;34m\u001b[0m\n\u001b[1;32m----> 1\u001b[1;33m \u001b[1;32mimport\u001b[0m \u001b[0mumap\u001b[0m\u001b[1;33m\u001b[0m\u001b[1;33m\u001b[0m\u001b[0m\n\u001b[0m\u001b[0;32m      2\u001b[0m \u001b[1;32mfrom\u001b[0m \u001b[0mscipy\u001b[0m\u001b[1;33m.\u001b[0m\u001b[0msparse\u001b[0m\u001b[1;33m.\u001b[0m\u001b[0mcsgraph\u001b[0m \u001b[1;32mimport\u001b[0m \u001b[0mconnected_components\u001b[0m\u001b[1;33m\u001b[0m\u001b[1;33m\u001b[0m\u001b[0m\n\u001b[0;32m      3\u001b[0m \u001b[1;31m# 公式GitHubには書いてあるのですが、↑を書かないとエラーが出てしまいます。\u001b[0m\u001b[1;33m\u001b[0m\u001b[1;33m\u001b[0m\u001b[1;33m\u001b[0m\u001b[0m\n",
      "\u001b[1;32m~\\anaconda3\\lib\\site-packages\\umap\\__init__.py\u001b[0m in \u001b[0;36m<module>\u001b[1;34m\u001b[0m\n\u001b[0;32m      1\u001b[0m \u001b[1;32mfrom\u001b[0m \u001b[0mwarnings\u001b[0m \u001b[1;32mimport\u001b[0m \u001b[0mwarn\u001b[0m\u001b[1;33m,\u001b[0m \u001b[0mcatch_warnings\u001b[0m\u001b[1;33m,\u001b[0m \u001b[0msimplefilter\u001b[0m\u001b[1;33m\u001b[0m\u001b[1;33m\u001b[0m\u001b[0m\n\u001b[1;32m----> 2\u001b[1;33m \u001b[1;32mfrom\u001b[0m \u001b[1;33m.\u001b[0m\u001b[0mumap_\u001b[0m \u001b[1;32mimport\u001b[0m \u001b[0mUMAP\u001b[0m\u001b[1;33m\u001b[0m\u001b[1;33m\u001b[0m\u001b[0m\n\u001b[0m\u001b[0;32m      3\u001b[0m \u001b[1;33m\u001b[0m\u001b[0m\n\u001b[0;32m      4\u001b[0m \u001b[1;32mtry\u001b[0m\u001b[1;33m:\u001b[0m\u001b[1;33m\u001b[0m\u001b[1;33m\u001b[0m\u001b[0m\n\u001b[0;32m      5\u001b[0m     \u001b[1;32mwith\u001b[0m \u001b[0mcatch_warnings\u001b[0m\u001b[1;33m(\u001b[0m\u001b[1;33m)\u001b[0m\u001b[1;33m:\u001b[0m\u001b[1;33m\u001b[0m\u001b[1;33m\u001b[0m\u001b[0m\n",
      "\u001b[1;32m~\\anaconda3\\lib\\site-packages\\umap\\umap_.py\u001b[0m in \u001b[0;36m<module>\u001b[1;34m\u001b[0m\n\u001b[0;32m     45\u001b[0m )\n\u001b[0;32m     46\u001b[0m \u001b[1;33m\u001b[0m\u001b[0m\n\u001b[1;32m---> 47\u001b[1;33m \u001b[1;32mfrom\u001b[0m \u001b[0mpynndescent\u001b[0m \u001b[1;32mimport\u001b[0m \u001b[0mNNDescent\u001b[0m\u001b[1;33m\u001b[0m\u001b[1;33m\u001b[0m\u001b[0m\n\u001b[0m\u001b[0;32m     48\u001b[0m \u001b[1;32mfrom\u001b[0m \u001b[0mpynndescent\u001b[0m\u001b[1;33m.\u001b[0m\u001b[0mdistances\u001b[0m \u001b[1;32mimport\u001b[0m \u001b[0mnamed_distances\u001b[0m \u001b[1;32mas\u001b[0m \u001b[0mpynn_named_distances\u001b[0m\u001b[1;33m\u001b[0m\u001b[1;33m\u001b[0m\u001b[0m\n\u001b[0;32m     49\u001b[0m \u001b[1;32mfrom\u001b[0m \u001b[0mpynndescent\u001b[0m\u001b[1;33m.\u001b[0m\u001b[0msparse\u001b[0m \u001b[1;32mimport\u001b[0m \u001b[0msparse_named_distances\u001b[0m \u001b[1;32mas\u001b[0m \u001b[0mpynn_sparse_named_distances\u001b[0m\u001b[1;33m\u001b[0m\u001b[1;33m\u001b[0m\u001b[0m\n",
      "\u001b[1;32m~\\anaconda3\\lib\\site-packages\\pynndescent\\__init__.py\u001b[0m in \u001b[0;36m<module>\u001b[1;34m\u001b[0m\n\u001b[0;32m      3\u001b[0m \u001b[1;32mimport\u001b[0m \u001b[0mnumba\u001b[0m\u001b[1;33m\u001b[0m\u001b[1;33m\u001b[0m\u001b[0m\n\u001b[0;32m      4\u001b[0m \u001b[1;33m\u001b[0m\u001b[0m\n\u001b[1;32m----> 5\u001b[1;33m \u001b[1;32mfrom\u001b[0m \u001b[1;33m.\u001b[0m\u001b[0mpynndescent_\u001b[0m \u001b[1;32mimport\u001b[0m \u001b[0mNNDescent\u001b[0m\u001b[1;33m,\u001b[0m \u001b[0mPyNNDescentTransformer\u001b[0m\u001b[1;33m\u001b[0m\u001b[1;33m\u001b[0m\u001b[0m\n\u001b[0m\u001b[0;32m      6\u001b[0m \u001b[1;33m\u001b[0m\u001b[0m\n\u001b[0;32m      7\u001b[0m \u001b[1;32mif\u001b[0m \u001b[0msys\u001b[0m\u001b[1;33m.\u001b[0m\u001b[0mversion_info\u001b[0m\u001b[1;33m[\u001b[0m\u001b[1;33m:\u001b[0m\u001b[1;36m2\u001b[0m\u001b[1;33m]\u001b[0m \u001b[1;33m>=\u001b[0m \u001b[1;33m(\u001b[0m\u001b[1;36m3\u001b[0m\u001b[1;33m,\u001b[0m \u001b[1;36m8\u001b[0m\u001b[1;33m)\u001b[0m\u001b[1;33m:\u001b[0m\u001b[1;33m\u001b[0m\u001b[1;33m\u001b[0m\u001b[0m\n",
      "\u001b[1;32m~\\anaconda3\\lib\\site-packages\\pynndescent\\pynndescent_.py\u001b[0m in \u001b[0;36m<module>\u001b[1;34m\u001b[0m\n\u001b[0;32m     20\u001b[0m \u001b[1;32mimport\u001b[0m \u001b[0mheapq\u001b[0m\u001b[1;33m\u001b[0m\u001b[1;33m\u001b[0m\u001b[0m\n\u001b[0;32m     21\u001b[0m \u001b[1;33m\u001b[0m\u001b[0m\n\u001b[1;32m---> 22\u001b[1;33m \u001b[1;32mimport\u001b[0m \u001b[0mpynndescent\u001b[0m\u001b[1;33m.\u001b[0m\u001b[0msparse\u001b[0m \u001b[1;32mas\u001b[0m \u001b[0msparse\u001b[0m\u001b[1;33m\u001b[0m\u001b[1;33m\u001b[0m\u001b[0m\n\u001b[0m\u001b[0;32m     23\u001b[0m \u001b[1;32mimport\u001b[0m \u001b[0mpynndescent\u001b[0m\u001b[1;33m.\u001b[0m\u001b[0msparse_nndescent\u001b[0m \u001b[1;32mas\u001b[0m \u001b[0msparse_nnd\u001b[0m\u001b[1;33m\u001b[0m\u001b[1;33m\u001b[0m\u001b[0m\n\u001b[0;32m     24\u001b[0m \u001b[1;32mimport\u001b[0m \u001b[0mpynndescent\u001b[0m\u001b[1;33m.\u001b[0m\u001b[0mdistances\u001b[0m \u001b[1;32mas\u001b[0m \u001b[0mpynnd_dist\u001b[0m\u001b[1;33m\u001b[0m\u001b[1;33m\u001b[0m\u001b[0m\n",
      "\u001b[1;32m~\\anaconda3\\lib\\site-packages\\pynndescent\\sparse.py\u001b[0m in \u001b[0;36m<module>\u001b[1;34m\u001b[0m\n\u001b[0;32m      8\u001b[0m \u001b[1;32mimport\u001b[0m \u001b[0mnumba\u001b[0m\u001b[1;33m\u001b[0m\u001b[1;33m\u001b[0m\u001b[0m\n\u001b[0;32m      9\u001b[0m \u001b[1;33m\u001b[0m\u001b[0m\n\u001b[1;32m---> 10\u001b[1;33m \u001b[1;32mfrom\u001b[0m \u001b[0mpynndescent\u001b[0m\u001b[1;33m.\u001b[0m\u001b[0mutils\u001b[0m \u001b[1;32mimport\u001b[0m \u001b[0mnorm\u001b[0m\u001b[1;33m,\u001b[0m \u001b[0mtau_rand\u001b[0m\u001b[1;33m\u001b[0m\u001b[1;33m\u001b[0m\u001b[0m\n\u001b[0m\u001b[0;32m     11\u001b[0m from pynndescent.distances import (\n\u001b[0;32m     12\u001b[0m     \u001b[0mkantorovich\u001b[0m\u001b[1;33m,\u001b[0m\u001b[1;33m\u001b[0m\u001b[1;33m\u001b[0m\u001b[0m\n",
      "\u001b[1;32m~\\anaconda3\\lib\\site-packages\\pynndescent\\utils.py\u001b[0m in \u001b[0;36m<module>\u001b[1;34m\u001b[0m\n\u001b[0;32m      7\u001b[0m \u001b[1;32mimport\u001b[0m \u001b[0mnumba\u001b[0m\u001b[1;33m\u001b[0m\u001b[1;33m\u001b[0m\u001b[0m\n\u001b[0;32m      8\u001b[0m \u001b[1;32mfrom\u001b[0m \u001b[0mnumba\u001b[0m\u001b[1;33m.\u001b[0m\u001b[0mcore\u001b[0m \u001b[1;32mimport\u001b[0m \u001b[0mtypes\u001b[0m\u001b[1;33m\u001b[0m\u001b[1;33m\u001b[0m\u001b[0m\n\u001b[1;32m----> 9\u001b[1;33m \u001b[1;32mimport\u001b[0m \u001b[0mnumba\u001b[0m\u001b[1;33m.\u001b[0m\u001b[0mexperimental\u001b[0m\u001b[1;33m.\u001b[0m\u001b[0mstructref\u001b[0m \u001b[1;32mas\u001b[0m \u001b[0mstructref\u001b[0m\u001b[1;33m\u001b[0m\u001b[1;33m\u001b[0m\u001b[0m\n\u001b[0m\u001b[0;32m     10\u001b[0m \u001b[1;32mimport\u001b[0m \u001b[0mnumpy\u001b[0m \u001b[1;32mas\u001b[0m \u001b[0mnp\u001b[0m\u001b[1;33m\u001b[0m\u001b[1;33m\u001b[0m\u001b[0m\n\u001b[0;32m     11\u001b[0m \u001b[1;33m\u001b[0m\u001b[0m\n",
      "\u001b[1;31mModuleNotFoundError\u001b[0m: No module named 'numba.experimental.structref'"
     ]
    }
   ],
   "source": [
    "import umap\n",
    "from scipy.sparse.csgraph import connected_components\n",
    "# 公式GitHubには書いてあるのですが、↑を書かないとエラーが出てしまいます。"
   ]
  },
  {
   "cell_type": "code",
   "execution_count": null,
   "metadata": {
    "colab": {
     "base_uri": "https://localhost:8080/"
    },
    "executionInfo": {
     "elapsed": 45744,
     "status": "ok",
     "timestamp": 1672374050943,
     "user": {
      "displayName": "学生1935084t",
      "userId": "12227631716568337195"
     },
     "user_tz": -540
    },
    "id": "KBKL6zolZquM",
    "outputId": "d8dc179a-f68d-4c38-b3dd-08fca8f72bb9"
   },
   "outputs": [],
   "source": [
    "tt0,u0=ntd(tensor_0,rank_list)\n",
    "a0,b0=non_negative_tucker_core(tensor_0,rank_list,tt0)\n",
    "a1,b1=non_negative_tucker_core(tensor_1,rank_list,tt0)\n",
    "a2,b2=non_negative_tucker_core(tensor_2,rank_list,tt0)\n",
    "a3,b3=non_negative_tucker_core(tensor_all,rank_list,tt0)"
   ]
  },
  {
   "cell_type": "code",
   "execution_count": null,
   "metadata": {
    "executionInfo": {
     "elapsed": 25,
     "status": "ok",
     "timestamp": 1672374050943,
     "user": {
      "displayName": "学生1935084t",
      "userId": "12227631716568337195"
     },
     "user_tz": -540
    },
    "id": "W8hXhYfHYb67"
   },
   "outputs": [],
   "source": [
    "#k=tensor_all.shape"
   ]
  },
  {
   "cell_type": "code",
   "execution_count": null,
   "metadata": {
    "executionInfo": {
     "elapsed": 24,
     "status": "ok",
     "timestamp": 1672374050944,
     "user": {
      "displayName": "学生1935084t",
      "userId": "12227631716568337195"
     },
     "user_tz": -540
    },
    "id": "_aVPu_RwYUTr"
   },
   "outputs": [],
   "source": [
    "#ten1=tensor_all.transpose(0,2,1).reshape(k[2]*k[1],k[0])"
   ]
  },
  {
   "cell_type": "code",
   "execution_count": null,
   "metadata": {
    "executionInfo": {
     "elapsed": 23,
     "status": "ok",
     "timestamp": 1672374050944,
     "user": {
      "displayName": "学生1935084t",
      "userId": "12227631716568337195"
     },
     "user_tz": -540
    },
    "id": "DXdTyHtcYfCP"
   },
   "outputs": [],
   "source": [
    "#print(ten1.T.shape)"
   ]
  },
  {
   "cell_type": "code",
   "execution_count": null,
   "metadata": {
    "colab": {
     "base_uri": "https://localhost:8080/"
    },
    "executionInfo": {
     "elapsed": 22,
     "status": "ok",
     "timestamp": 1672374050944,
     "user": {
      "displayName": "学生1935084t",
      "userId": "12227631716568337195"
     },
     "user_tz": -540
    },
    "id": "gPDRJCr9ciha",
    "outputId": "1474f837-16e9-4c67-ae97-e0a51d1d3d6c"
   },
   "outputs": [],
   "source": [
    "distance=np.linalg.norm(b0[1]-b3[1])\n",
    "print(distance)"
   ]
  },
  {
   "cell_type": "code",
   "execution_count": null,
   "metadata": {
    "colab": {
     "base_uri": "https://localhost:8080/"
    },
    "executionInfo": {
     "elapsed": 11510,
     "status": "ok",
     "timestamp": 1672374062433,
     "user": {
      "displayName": "学生1935084t",
      "userId": "12227631716568337195"
     },
     "user_tz": -540
    },
    "id": "1_n_sjEkP2fr",
    "outputId": "1ff3013e-4d43-4469-adbf-3cf1c33c86ff"
   },
   "outputs": [],
   "source": [
    "%time res_umap = umap.UMAP().fit_transform(b1[0])\n",
    "print(res_umap.shape)"
   ]
  },
  {
   "cell_type": "code",
   "execution_count": null,
   "metadata": {
    "colab": {
     "base_uri": "https://localhost:8080/",
     "height": 676
    },
    "executionInfo": {
     "elapsed": 28,
     "status": "ok",
     "timestamp": 1672374062433,
     "user": {
      "displayName": "学生1935084t",
      "userId": "12227631716568337195"
     },
     "user_tz": -540
    },
    "id": "we-6t5UeP5oj",
    "outputId": "9a0035db-6fab-417b-f23b-7737eb506d5f"
   },
   "outputs": [],
   "source": [
    "plotData(res_umap)"
   ]
  },
  {
   "cell_type": "markdown",
   "metadata": {
    "id": "lzy0xKaDe5mz"
   },
   "source": [
    "https://qiita.com/khigashi02/items/17f69da4851c71d8a0dc\n",
    "\n",
    "インタラクティブな可視化"
   ]
  },
  {
   "cell_type": "markdown",
   "metadata": {
    "id": "OfoIr_KNYYmf"
   },
   "source": [
    "https://www.jstage.jst.go.jp/article/tjsai/30/6/30_30-6_JWEIN-E/_pdf/-char/ja\n",
    "\n",
    "この論文を隅まで読む"
   ]
  },
  {
   "cell_type": "markdown",
   "metadata": {
    "id": "SCyG1MM985nW"
   },
   "source": [
    "## bokeh"
   ]
  }
 ],
 "metadata": {
  "colab": {
   "authorship_tag": "ABX9TyMyOkSX2cULebgTn0PRv05Q",
   "collapsed_sections": [
    "t70W9uqz-6bF",
    "ht2gMM-r_b_M",
    "SCyG1MM985nW"
   ],
   "mount_file_id": "1k7T6N0YT8v7rpDOTOinJS8F84JIMHCkr",
   "provenance": []
  },
  "gpuClass": "standard",
  "kernelspec": {
   "display_name": "Python 3",
   "language": "python",
   "name": "python3"
  },
  "language_info": {
   "codemirror_mode": {
    "name": "ipython",
    "version": 3
   },
   "file_extension": ".py",
   "mimetype": "text/x-python",
   "name": "python",
   "nbconvert_exporter": "python",
   "pygments_lexer": "ipython3",
   "version": "3.8.3"
  }
 },
 "nbformat": 4,
 "nbformat_minor": 4
}

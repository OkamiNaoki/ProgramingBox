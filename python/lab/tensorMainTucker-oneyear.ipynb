{
 "cells": [
  {
   "cell_type": "markdown",
   "metadata": {
    "id": "CcNpO7QE4Ntm"
   },
   "source": [
    "目的　テンソル同士の比較、比較することで、そのテンソルの構成している要素を知る。何が原因となって、その特徴量を出しているのか"
   ]
  },
  {
   "cell_type": "markdown",
   "metadata": {
    "id": "pI6_ePj97SGU"
   },
   "source": [
    "https://www.jstage.jst.go.jp/article/journalcpij/53/3/53_1320/_pdf/-char/ja\n",
    "\n",
    "タッカー分解のコアテンソル、因子の扱い全てある\n",
    "\n",
    "コアテンソルを一旦一緒にするのではなく、それぞれでどの要素が影響しているのかしっかり見極める必要がある、それぞれの特徴行列の数値からどの要素が影響しているのかこの論文を対象に調べる必要がある。"
   ]
  },
  {
   "cell_type": "markdown",
   "metadata": {},
   "source": [
    "voilaではクラスタリングすることでより精度を高めるということをしていたが、これの目的は、クラスタリング後、比較することで異常を見つけ出すというのが目的、"
   ]
  },
  {
   "cell_type": "markdown",
   "metadata": {
    "id": "rj1iRSsDKiQa"
   },
   "source": [
    "卒論完成目標\n",
    "\n",
    "1、テンソル分解をする（今のところ、コアテンソルが対角要素となっているCP分解を用いてただテンソル分解をする。\n",
    "\n",
    "２、テンソル分解後の空間軸のコンポーネントを見て、そこの差をとり、空間軸、４つのコンポーネント、4テンソルのそれぞれの差をとり６個、差分テンソルを作る、これが（８６４、４、６）のテンソルになる（テンソルオールは入れなくていいかも）\n",
    "\n",
    "３、上のテンソルをタッカー分解することでコアテンソル、空間軸コンポーネントを見ることで差分のつまり、テンソルに差をつけている部分の場所を把握することができる、今のところ順調\n",
    "\n",
    "４、これを時間軸でもやりたいが、差をとるという事ができるのかという点で最初のテンソル分解をタッカー分解に変えて、時間軸の方も探索するというのもありかもしれない、\n",
    "\n",
    "終わり、どの場所で差がついているか分かれば、そこから一個前の軸に戻り、また同様に、どの部分が大事かを探索することで、元データに戻り、最終的に、実際の数値の差として知る事ができる\n"
   ]
  },
  {
   "cell_type": "markdown",
   "metadata": {
    "id": "ds4lbuSB-VhN"
   },
   "source": [
    "# データ処理"
   ]
  },
  {
   "cell_type": "markdown",
   "metadata": {
    "id": "c5Gwo3WJ-eTs"
   },
   "source": [
    "## import"
   ]
  },
  {
   "cell_type": "code",
   "execution_count": 1,
   "metadata": {
    "executionInfo": {
     "elapsed": 1331,
     "status": "ok",
     "timestamp": 1672373822107,
     "user": {
      "displayName": "学生1935084t",
      "userId": "12227631716568337195"
     },
     "user_tz": -540
    },
    "id": "JaME2DYs9ZdD"
   },
   "outputs": [],
   "source": [
    "import pandas as pd\n",
    "import numpy as np\n",
    "from sklearn import preprocessing"
   ]
  },
  {
   "cell_type": "markdown",
   "metadata": {
    "id": "HSGOOks6-hoB"
   },
   "source": [
    "## データ処理"
   ]
  },
  {
   "cell_type": "code",
   "execution_count": 2,
   "metadata": {},
   "outputs": [],
   "source": [
    "#CP分解をするとき1\n",
    "cp=0"
   ]
  },
  {
   "cell_type": "code",
   "execution_count": 3,
   "metadata": {
    "executionInfo": {
     "elapsed": 2442,
     "status": "ok",
     "timestamp": 1672373824547,
     "user": {
      "displayName": "学生1935084t",
      "userId": "12227631716568337195"
     },
     "user_tz": -540
    },
    "id": "TtbnvOrQ-QhU"
   },
   "outputs": [],
   "source": [
    "#データ読み込み\n",
    "df_cluster0 = pd.read_csv('./df_cluster0.csv') # 学習データの読み込み\n",
    "df_cluster1 = pd.read_csv('./df_cluster1.csv') # 検証データの読み込み\n",
    "df_cluster2 = pd.read_csv('./df_cluster2.csv') # 提出用サンプルデータの読み込み\n",
    "df_clusterall = pd.read_csv('./df_origin.csv') # 提出用サンプルデータの読み込み"
   ]
  },
  {
   "cell_type": "code",
   "execution_count": 4,
   "metadata": {},
   "outputs": [],
   "source": [
    "#df_failure=df_cluster0[['MEM_failure']]"
   ]
  },
  {
   "cell_type": "code",
   "execution_count": 5,
   "metadata": {
    "colab": {
     "base_uri": "https://localhost:8080/",
     "height": 70
    },
    "executionInfo": {
     "elapsed": 14,
     "status": "ok",
     "timestamp": 1672373824548,
     "user": {
      "displayName": "学生1935084t",
      "userId": "12227631716568337195"
     },
     "user_tz": -540
    },
    "id": "pT6ygNG4-pcm",
    "outputId": "0800f881-9940-461f-cd49-434bba7607af"
   },
   "outputs": [
    {
     "data": {
      "text/plain": [
       "\"\\ndf_cluster0 = df_cluster0[['CPU', 'Water']]\\ndf_cluster1 = df_cluster1[['CPU', 'Water']]\\ndf_cluster2 = df_cluster2[[ 'CPU', 'Water']]\\ndf_clusterall = df_clusterall[[ 'CPU', 'Water']]\\n\""
      ]
     },
     "execution_count": 5,
     "metadata": {},
     "output_type": "execute_result"
    }
   ],
   "source": [
    "#データ削除\n",
    "df_cluster0 = df_cluster0[['AirIn','AirOut', 'CPU', 'Water']]\n",
    "df_cluster1 = df_cluster1[['AirIn','AirOut', 'CPU', 'Water']]\n",
    "df_cluster2 = df_cluster2[['AirIn','AirOut', 'CPU', 'Water']]\n",
    "df_clusterall = df_clusterall[['AirIn','AirOut', 'CPU', 'Water']]\n",
    "\"\"\"\n",
    "df_cluster0 = df_cluster0[['CPU', 'Water']]\n",
    "df_cluster1 = df_cluster1[['CPU', 'Water']]\n",
    "df_cluster2 = df_cluster2[[ 'CPU', 'Water']]\n",
    "df_clusterall = df_clusterall[[ 'CPU', 'Water']]\n",
    "\"\"\""
   ]
  },
  {
   "cell_type": "code",
   "execution_count": 6,
   "metadata": {
    "colab": {
     "base_uri": "https://localhost:8080/"
    },
    "executionInfo": {
     "elapsed": 479,
     "status": "ok",
     "timestamp": 1672373825017,
     "user": {
      "displayName": "学生1935084t",
      "userId": "12227631716568337195"
     },
     "user_tz": -540
    },
    "id": "exIAshxh1786",
    "outputId": "24f6703c-05fe-4421-fc53-ed54ee3fa1cb"
   },
   "outputs": [
    {
     "name": "stdout",
     "output_type": "stream",
     "text": [
      "        AirIn  AirOut    CPU  Water\n",
      "0       19.36   22.09  15.96  15.55\n",
      "1       19.55   21.76  15.89  16.01\n",
      "2       18.53   22.20  15.92  15.36\n",
      "3       19.07   21.45  15.84  15.27\n",
      "4       18.46   22.17  16.07  15.07\n",
      "...       ...     ...    ...    ...\n",
      "190939  19.25   24.84  17.78  15.77\n",
      "190940  19.68   23.48  17.45  15.80\n",
      "190941  19.40   24.45  17.57  15.63\n",
      "190942  20.69   24.27  17.45  15.99\n",
      "190943  19.41   25.45  17.78  15.55\n",
      "\n",
      "[190944 rows x 4 columns]\n"
     ]
    }
   ],
   "source": [
    "print(df_cluster0)"
   ]
  },
  {
   "cell_type": "code",
   "execution_count": 7,
   "metadata": {
    "colab": {
     "base_uri": "https://localhost:8080/",
     "height": 52
    },
    "executionInfo": {
     "elapsed": 14,
     "status": "ok",
     "timestamp": 1672373825017,
     "user": {
      "displayName": "学生1935084t",
      "userId": "12227631716568337195"
     },
     "user_tz": -540
    },
    "id": "OIp-BqvE-rZE",
    "outputId": "988a3e23-228d-44a8-d381-da6ec6370218"
   },
   "outputs": [],
   "source": [
    "\n",
    "df_cluster0_sc = preprocessing.scale(df_cluster0, axis=0)\n",
    "df_cluster1_sc = preprocessing.scale(df_cluster1, axis=0)\n",
    "df_cluster2_sc = preprocessing.scale(df_cluster2, axis=0)\n",
    "df_clusterall_sc = preprocessing.scale(df_clusterall, axis=0)\n",
    "\n",
    "\n",
    "df_cluster0 = df_cluster0.values\n",
    "df_cluster1 = df_cluster1.values\n",
    "df_cluster2 = df_cluster2.values\n",
    "df_clusterall = df_clusterall.values\n"
   ]
  },
  {
   "cell_type": "code",
   "execution_count": 8,
   "metadata": {
    "executionInfo": {
     "elapsed": 11,
     "status": "ok",
     "timestamp": 1672373825018,
     "user": {
      "displayName": "学生1935084t",
      "userId": "12227631716568337195"
     },
     "user_tz": -540
    },
    "id": "iG2mBQ4v-taQ"
   },
   "outputs": [],
   "source": [
    "#テンソル化\n",
    "\n",
    "ttensor_0 = df_cluster0.reshape(-1, 864, 4)\n",
    "#print(tensor_0[1,0,0])\n",
    "ttensor_1 = df_cluster1.reshape(-1, 864, 4)\n",
    "#print(tensor_1[1,0,0])\n",
    "ttensor_2 = df_cluster2.reshape(-1, 864, 4)\n",
    "#print(tensor_2[1,0,0])\n",
    "ttensor_all = df_clusterall.reshape(-1, 864, 4)\n",
    "#print(tensor_2[1,0,0])\n",
    "\n",
    "tensor_0 = df_cluster0_sc.reshape(-1, 864, 4)\n",
    "#print(tensor_0[1,0,0])\n",
    "tensor_1 = df_cluster1_sc.reshape(-1, 864, 4)\n",
    "#print(tensor_1[1,0,0])\n",
    "tensor_2 = df_cluster2_sc.reshape(-1, 864, 4)\n",
    "#print(tensor_2[1,0,0])\n",
    "tensor_all = df_clusterall_sc.reshape(-1, 864, 4)\n",
    "#print(tensor_2[1,0,0])"
   ]
  },
  {
   "cell_type": "code",
   "execution_count": 9,
   "metadata": {
    "colab": {
     "base_uri": "https://localhost:8080/",
     "height": 35
    },
    "executionInfo": {
     "elapsed": 10,
     "status": "ok",
     "timestamp": 1672373825018,
     "user": {
      "displayName": "学生1935084t",
      "userId": "12227631716568337195"
     },
     "user_tz": -540
    },
    "id": "Hu_SfMP_SOFx",
    "outputId": "6bc814b4-7797-400b-e009-7a2464f9a1f3"
   },
   "outputs": [
    {
     "data": {
      "text/plain": [
       "'\\ntensor_0=np.delete(tensor_0,0,axis=1)\\nprint(tensor_0.shape)\\n'"
      ]
     },
     "execution_count": 9,
     "metadata": {},
     "output_type": "execute_result"
    }
   ],
   "source": [
    "#axis=0,奥行,axis=1,行、axis=2,列\n",
    "\"\"\"\n",
    "tensor_0=np.delete(tensor_0,0,axis=1)\n",
    "print(tensor_0.shape)\n",
    "\"\"\""
   ]
  },
  {
   "cell_type": "code",
   "execution_count": 10,
   "metadata": {},
   "outputs": [
    {
     "name": "stdout",
     "output_type": "stream",
     "text": [
      "-0.6892550793704376\n",
      "-0.8957643528630549\n"
     ]
    }
   ],
   "source": [
    "print(tensor_2[0,0,0])\n",
    "print(tensor_all[0,0,0])\n"
   ]
  },
  {
   "cell_type": "code",
   "execution_count": 11,
   "metadata": {},
   "outputs": [],
   "source": [
    "#tensor_failure =df_failure.values.reshape(-1, 864)"
   ]
  },
  {
   "cell_type": "code",
   "execution_count": 12,
   "metadata": {},
   "outputs": [],
   "source": [
    "#print(np.where(tensor_failure == 1))"
   ]
  },
  {
   "cell_type": "markdown",
   "metadata": {
    "id": "Ks_basza-2XR"
   },
   "source": [
    "# テンソル分解"
   ]
  },
  {
   "cell_type": "markdown",
   "metadata": {
    "id": "t70W9uqz-6bF"
   },
   "source": [
    "## import"
   ]
  },
  {
   "cell_type": "code",
   "execution_count": 13,
   "metadata": {
    "colab": {
     "base_uri": "https://localhost:8080/"
    },
    "executionInfo": {
     "elapsed": 9950,
     "status": "ok",
     "timestamp": 1672373834959,
     "user": {
      "displayName": "学生1935084t",
      "userId": "12227631716568337195"
     },
     "user_tz": -540
    },
    "id": "PJY7H-4W-6DW",
    "outputId": "187b3687-56be-4467-883a-18d1e10b68d0"
   },
   "outputs": [
    {
     "name": "stdout",
     "output_type": "stream",
     "text": [
      "Requirement already up-to-date: tensorly in c:\\users\\cocon\\anaconda3\\lib\\site-packages (0.8.0)\n",
      "Requirement already satisfied, skipping upgrade: scipy in c:\\users\\cocon\\anaconda3\\lib\\site-packages (from tensorly) (1.5.0)\n",
      "Requirement already satisfied, skipping upgrade: numpy in c:\\users\\cocon\\anaconda3\\lib\\site-packages (from tensorly) (1.18.5)\n"
     ]
    }
   ],
   "source": [
    "!pip install -U tensorly"
   ]
  },
  {
   "cell_type": "code",
   "execution_count": 14,
   "metadata": {
    "executionInfo": {
     "elapsed": 7,
     "status": "ok",
     "timestamp": 1672373834960,
     "user": {
      "displayName": "学生1935084t",
      "userId": "12227631716568337195"
     },
     "user_tz": -540
    },
    "id": "Gusl0k_y-_6z"
   },
   "outputs": [],
   "source": [
    "import tensorly as tl\n",
    "import numpy as np\n",
    "from tensorly.decomposition import tucker\n",
    "from matplotlib import pyplot as plt\n",
    "from tensorly.base import unfold\n",
    "from tensorly.tenalg import multi_mode_dot, mode_dot\n",
    "from tensorly.tucker_tensor import tucker_to_tensor, TuckerTensor, validate_tucker_rank, tucker_normalize\n",
    "from tensorly.decomposition import non_negative_parafac, non_negative_tucker"
   ]
  },
  {
   "cell_type": "markdown",
   "metadata": {
    "id": "ht2gMM-r_b_M"
   },
   "source": [
    "## テンソル分解"
   ]
  },
  {
   "cell_type": "code",
   "execution_count": 15,
   "metadata": {
    "executionInfo": {
     "elapsed": 583,
     "status": "ok",
     "timestamp": 1672373835537,
     "user": {
      "displayName": "学生1935084t",
      "userId": "12227631716568337195"
     },
     "user_tz": -540
    },
    "id": "UsraaUhZ_T6y"
   },
   "outputs": [],
   "source": [
    "def non_negative_tucker_core(tensor, rank,mcore, n_iter_max=1000, init='svd', tol=10e-6,\n",
    "                        random_state=None, verbose=False, return_errors=False,\n",
    "                        normalize_factors=False):\n",
    "    \"\"\"Non-negative Tucker decomposition\n",
    "\n",
    "        Iterative multiplicative update, see [2]_\n",
    "\n",
    "    Parameters\n",
    "    ----------\n",
    "    tensor : ``ndarray``\n",
    "    rank : None, int or int list\n",
    "        size of the core tensor, ``(len(ranks) == tensor.ndim)``\n",
    "        if int, the same rank is used for all modes\n",
    "    n_iter_max : int\n",
    "        maximum number of iteration\n",
    "    init : {'svd', 'random'}\n",
    "    random_state : {None, int, np.random.RandomState}\n",
    "    verbose : int , optional\n",
    "        level of verbosity\n",
    "    ranks : None or int list\n",
    "    size of the core tensor\n",
    "    normalize_factors : if True, aggregates the core which will contain the norms of the factors.\n",
    "\n",
    "    Returns\n",
    "    -------\n",
    "    core : ndarray\n",
    "            positive core of the Tucker decomposition\n",
    "            has shape `ranks`\n",
    "    factors : ndarray list\n",
    "            list of factors of the CP decomposition\n",
    "            element `i` is of shape ``(tensor.shape[i], rank)``\n",
    "\n",
    "    References\n",
    "    ----------\n",
    "    .. [2] Yong-Deok Kim and Seungjin Choi,\n",
    "       \"Non-negative tucker decomposition\",\n",
    "       IEEE Conference on Computer Vision and Pattern Recognition s(CVPR),\n",
    "       pp 1-8, 2007\n",
    "    \"\"\"\n",
    "    rank = validate_tucker_rank(tl.shape(tensor), rank=rank)\n",
    "\n",
    "    epsilon = 10e-12\n",
    "\n",
    "    # Initialisation\n",
    "    if init == 'svd':\n",
    "        core, factors = tucker(tensor, rank)\n",
    "        nn_factors = [tl.abs(f) for f in factors]\n",
    "        nn_core = tl.abs(core)\n",
    "    else:\n",
    "        rng = tl.check_random_state(random_state)\n",
    "        core = tl.tensor(rng.random_sample(rank) + 0.01, **tl.context(tensor))  # Check this\n",
    "        factors = [tl.tensor(rng.random_sample(s), **tl.context(tensor)) for s in zip(tl.shape(tensor), rank)]\n",
    "        nn_factors = [tl.abs(f) for f in factors]\n",
    "        nn_core = tl.abs(core)\n",
    "\n",
    "    norm_tensor = tl.norm(tensor, 2)\n",
    "    rec_errors = []\n",
    "    nn_core=tl.abs(mcore)#\n",
    "    for iteration in range(n_iter_max):\n",
    "        for mode in range(tl.ndim(tensor)):\n",
    "            B = tucker_to_tensor((nn_core, nn_factors), skip_factor=mode)\n",
    "            B = tl.transpose(unfold(B, mode))\n",
    "\n",
    "            numerator = tl.dot(unfold(tensor, mode), B)\n",
    "            numerator = tl.clip(numerator, a_min=epsilon, a_max=None)\n",
    "            denominator = tl.dot(nn_factors[mode], tl.dot(tl.transpose(B), B))\n",
    "            denominator = tl.clip(denominator, a_min=epsilon, a_max=None)\n",
    "            nn_factors[mode] *= numerator / denominator\n",
    "\n",
    "        numerator = tucker_to_tensor((tensor, nn_factors), transpose_factors=True)\n",
    "        numerator = tl.clip(numerator, a_min=epsilon, a_max=None)\n",
    "        for i, f in enumerate(nn_factors):\n",
    "            if i:\n",
    "                denominator = mode_dot(denominator, tl.dot(tl.transpose(f), f), i)\n",
    "            else:\n",
    "                denominator = mode_dot(nn_core, tl.dot(tl.transpose(f), f), i)\n",
    "        denominator = tl.clip(denominator, a_min=epsilon, a_max=None)\n",
    "        #nn_core *= numerator / denominator\n",
    "\n",
    "        rec_error = tl.norm(tensor - tucker_to_tensor((nn_core, nn_factors)), 2) / norm_tensor\n",
    "        rec_errors.append(rec_error)\n",
    "        if iteration > 1 and verbose:\n",
    "            print('reconstruction error={}, variation={}.'.format(\n",
    "                rec_errors[-1], rec_errors[-2] - rec_errors[-1]))\n",
    "\n",
    "        if iteration > 100 and abs(rec_errors[-2] - rec_errors[-1]) < tol:\n",
    "            if verbose:\n",
    "                print('converged in {} iterations.'.format(iteration))\n",
    "            break\n",
    "        if normalize_factors:\n",
    "            nn_core, nn_factors = tucker_normalize((nn_core, nn_factors))\n",
    "    tensor = TuckerTensor((nn_core, nn_factors))\n",
    "    if return_errors:\n",
    "        return tensor, rec_errors\n",
    "    else:\n",
    "        print(\"rec_errors\")\n",
    "        print(rec_errors)\n",
    "        return tensor\n"
   ]
  },
  {
   "cell_type": "code",
   "execution_count": 16,
   "metadata": {
    "executionInfo": {
     "elapsed": 10,
     "status": "ok",
     "timestamp": 1672373835538,
     "user": {
      "displayName": "学生1935084t",
      "userId": "12227631716568337195"
     },
     "user_tz": -540
    },
    "id": "fLXANqhAGT1l"
   },
   "outputs": [],
   "source": [
    "def ntd(tensor,rank_list):\n",
    "  return non_negative_tucker(tensor, rank_list, tol=1.0e-10, n_iter_max=100)"
   ]
  },
  {
   "cell_type": "markdown",
   "metadata": {
    "id": "Uppp086L_j91"
   },
   "source": [
    "## プロット"
   ]
  },
  {
   "cell_type": "code",
   "execution_count": 17,
   "metadata": {
    "executionInfo": {
     "elapsed": 10,
     "status": "ok",
     "timestamp": 1672373835538,
     "user": {
      "displayName": "学生1935084t",
      "userId": "12227631716568337195"
     },
     "user_tz": -540
    },
    "id": "w-mS2KFpAMpv"
   },
   "outputs": [],
   "source": [
    "import seaborn as sns\n",
    "import matplotlib.pyplot as plt"
   ]
  },
  {
   "cell_type": "code",
   "execution_count": 18,
   "metadata": {
    "executionInfo": {
     "elapsed": 10,
     "status": "ok",
     "timestamp": 1672373835539,
     "user": {
      "displayName": "学生1935084t",
      "userId": "12227631716568337195"
     },
     "user_tz": -540
    },
    "id": "KOdI5urr_rSF"
   },
   "outputs": [],
   "source": [
    "def heatfacpltracwiden(t0,t1,t2,t3,m,n):\n",
    "  plt.figure(figsize=(1*10,1*10))\n",
    "  a=t0[1][:,m].T.reshape(36,24)\n",
    "  b=t1[1][:,m].T.reshape(36,24)\n",
    "  c=t2[1][:,m].T.reshape(36,24)\n",
    "  d=t3[1][:,m].T.reshape(36,24)\n",
    "  plt.subplot(n,4,m*4+1)\n",
    "  sns.heatmap(a,vmin=0, vmax=1)\n",
    "  plt.subplot(n,4,m*4+2)\n",
    "  sns.heatmap(b,vmin=0, vmax=1)\n",
    "  plt.subplot(n,4,m*4+3)\n",
    "  sns.heatmap(c,vmin=0, vmax=1)\n",
    "  plt.subplot(n,4,m*4+4)\n",
    "  sns.heatmap(d,vmin=0, vmax=1)"
   ]
  },
  {
   "cell_type": "code",
   "execution_count": 19,
   "metadata": {
    "executionInfo": {
     "elapsed": 9,
     "status": "ok",
     "timestamp": 1672373835539,
     "user": {
      "displayName": "学生1935084t",
      "userId": "12227631716568337195"
     },
     "user_tz": -540
    },
    "id": "pHlcT85Qkhe9"
   },
   "outputs": [],
   "source": [
    "def heattimeplt(t0,t1,t2,t3):\n",
    "  plt.figure(figsize=(1*10,1*10))\n",
    "  plt.subplot(1,4,1)\n",
    "  sns.heatmap(t0[0][:,:])\n",
    "  plt.subplot(1,4,2)\n",
    "  sns.heatmap(t1[0][:,:])\n",
    "  plt.subplot(1,4,3)\n",
    "  sns.heatmap(t2[0][:,:])\n",
    "  plt.subplot(1,4,4)\n",
    "  sns.heatmap(t3[0][:,:])"
   ]
  },
  {
   "cell_type": "markdown",
   "metadata": {
    "id": "Yc5nouG4abZb"
   },
   "source": [
    "特徴ベクトルをひとつめは5以下二つ目は10以下などできないか？"
   ]
  },
  {
   "cell_type": "markdown",
   "metadata": {
    "id": "nFNLHsrsh9ND"
   },
   "source": [
    "実験で様々な分析が出来るように、棒グラフなどいろいろ入れたい"
   ]
  },
  {
   "cell_type": "markdown",
   "metadata": {
    "id": "hpye6TEirNPq"
   },
   "source": [
    "データフレーム実装\n",
    "\n",
    "空間軸ヒートマップ〇\n",
    "\n",
    "時間軸ヒートマップ〇\n",
    "\n",
    "時間軸線グラフ〇\n",
    "\n",
    "測定軸ヒートマップと棒グラフ〇\n",
    "\n",
    "コアテンソルヒートマップもしくは、数値 〇\n",
    "\n",
    "元データの値を選択からの表示\n",
    "\n",
    "個別逆テンソル復元をし、元データの特徴を比較"
   ]
  },
  {
   "cell_type": "markdown",
   "metadata": {
    "id": "1yIUr_Gfj9ce"
   },
   "source": [
    "##データフレーム関数"
   ]
  },
  {
   "cell_type": "code",
   "execution_count": 20,
   "metadata": {
    "executionInfo": {
     "elapsed": 7,
     "status": "ok",
     "timestamp": 1672373835539,
     "user": {
      "displayName": "学生1935084t",
      "userId": "12227631716568337195"
     },
     "user_tz": -540
    },
    "id": "bEv3fmyR9-Ov"
   },
   "outputs": [],
   "source": [
    "def spaceHeatPlot(b0,b1,b2,b3,rl):\n",
    "  for num in range(0,rl[1]):\n",
    "    heatfacpltracwiden(b0,b1,b2,b3,num,rl[1])"
   ]
  },
  {
   "cell_type": "code",
   "execution_count": 21,
   "metadata": {
    "executionInfo": {
     "elapsed": 8,
     "status": "ok",
     "timestamp": 1672373835540,
     "user": {
      "displayName": "学生1935084t",
      "userId": "12227631716568337195"
     },
     "user_tz": -540
    },
    "id": "MtM9Aw2e-4is"
   },
   "outputs": [],
   "source": [
    "def timeHeatPlot(b0,b1,b2,b3,rl):\n",
    "  heattimeplt(b0,b1,b2,b3)"
   ]
  },
  {
   "cell_type": "code",
   "execution_count": 22,
   "metadata": {
    "executionInfo": {
     "elapsed": 7,
     "status": "ok",
     "timestamp": 1672373835540,
     "user": {
      "displayName": "学生1935084t",
      "userId": "12227631716568337195"
     },
     "user_tz": -540
    },
    "id": "Xza6TIGhZdvS"
   },
   "outputs": [],
   "source": [
    "def timeLinePlot(b0,b1,b2,b3,rl):\n",
    "  n=rl[0]\n",
    "  plt.figure(figsize=(1*10,1*10))\n",
    "\n",
    "  sns.relplot(data=b0[0][:,:], kind='line')\n",
    "  sns.relplot(data=b1[0][:,:], kind='line')\n",
    "  sns.relplot(data=b2[0][:,:], kind='line')\n",
    "  sns.relplot(data=b3[0][:,:], kind='line')"
   ]
  },
  {
   "cell_type": "code",
   "execution_count": 23,
   "metadata": {
    "executionInfo": {
     "elapsed": 8,
     "status": "ok",
     "timestamp": 1672373835541,
     "user": {
      "displayName": "学生1935084t",
      "userId": "12227631716568337195"
     },
     "user_tz": -540
    },
    "id": "CjJD_y4w-P7R"
   },
   "outputs": [],
   "source": [
    "def measureHeatPlot(b0,b1,b2,b3,rl):\n",
    "  plt.figure(figsize=(1*10,1*10))\n",
    "  plt.subplot(1,4,1)\n",
    "  sns.heatmap(b0[2][:,:])\n",
    "  plt.subplot(1,4,2)\n",
    "  sns.heatmap(b1[2][:,:])\n",
    "  plt.subplot(1,4,3)\n",
    "  sns.heatmap(b2[2][:,:])\n",
    "  plt.subplot(1,4,4)\n",
    "  sns.heatmap(b3[2][:,:])"
   ]
  },
  {
   "cell_type": "code",
   "execution_count": 24,
   "metadata": {
    "executionInfo": {
     "elapsed": 10,
     "status": "ok",
     "timestamp": 1672373835874,
     "user": {
      "displayName": "学生1935084t",
      "userId": "12227631716568337195"
     },
     "user_tz": -540
    },
    "id": "NBqYCybg-gWu"
   },
   "outputs": [],
   "source": [
    "def measureBarPlot(b0,b1,b2,b3,rl):\n",
    "  plt.figure(figsize=(1*10,1*10))\n",
    "  plt.subplot(1,4,1)\n",
    "  sns.barplot(data=b0[2])\n",
    "  plt.subplot(1,4,2)\n",
    "  sns.barplot(data=b1[2])\n",
    "  plt.subplot(1,4,3)\n",
    "  sns.barplot(data=b2[2])\n",
    "  plt.subplot(1,4,4)\n",
    "  sns.barplot(data=b3[2])"
   ]
  },
  {
   "cell_type": "code",
   "execution_count": 25,
   "metadata": {
    "executionInfo": {
     "elapsed": 9,
     "status": "ok",
     "timestamp": 1672373835874,
     "user": {
      "displayName": "学生1935084t",
      "userId": "12227631716568337195"
     },
     "user_tz": -540
    },
    "id": "n6seKbVtDsns"
   },
   "outputs": [],
   "source": [
    "def coreHeatMap(a0,a1,a2,a3,rl):\n",
    "  n=rl[2]\n",
    "  for m in range(0,rl[2]):\n",
    "    #heatfacpltracwiden(b0,b1,b2,b3,num,rl[1])\n",
    "    plt.figure(figsize=(n*10,n*10))\n",
    "    plt.subplot(n,4,m*4+1)\n",
    "    sns.heatmap(a0[:,:,m],vmin=0, vmax=1)\n",
    "    plt.subplot(n,4,m*4+2)\n",
    "    sns.heatmap(a1[:,:,m],vmin=0, vmax=1)\n",
    "    plt.subplot(n,4,m*4+3)\n",
    "    sns.heatmap(a2[:,:,m],vmin=0, vmax=1)\n",
    "    plt.subplot(n,4,m*4+4)\n",
    "    sns.heatmap(a3[:,:,m],vmin=0, vmax=1)"
   ]
  },
  {
   "cell_type": "code",
   "execution_count": 26,
   "metadata": {
    "executionInfo": {
     "elapsed": 9,
     "status": "ok",
     "timestamp": 1672373835875,
     "user": {
      "displayName": "学生1935084t",
      "userId": "12227631716568337195"
     },
     "user_tz": -540
    },
    "id": "xA4hfIjOLoyl"
   },
   "outputs": [],
   "source": [
    "def allPlot(a,b,rl):\n",
    "  plt.subplot(2,3,1)\n",
    "  sns.heatmap(b[0][:,:])\n",
    "  plt.subplot(2,3,2)\n",
    "  sns.heatmap(b[1][:,:])\n",
    "  plt.subplot(2,3,3)\n",
    "  sns.heatmap(b[2][:,:])\n",
    "  for m in range(0,rl[2]):\n",
    "    plt.subplot(2,3,m+4)\n",
    "    sns.heatmap(a[:,:,m])"
   ]
  },
  {
   "cell_type": "code",
   "execution_count": 27,
   "metadata": {
    "executionInfo": {
     "elapsed": 8,
     "status": "ok",
     "timestamp": 1672373835875,
     "user": {
      "displayName": "学生1935084t",
      "userId": "12227631716568337195"
     },
     "user_tz": -540
    },
    "id": "JNNPJqNw9LFQ"
   },
   "outputs": [],
   "source": [
    "def spaceHeatDif(t0,t1,t2,t3,m,n):\n",
    "  plt.figure(figsize=(n*10,n*10))\n",
    "  a=t0[1][:,m].T.reshape(36,24)\n",
    "  b=t1[1][:,m].T.reshape(36,24)\n",
    "  c=t2[1][:,m].T.reshape(36,24)\n",
    "  d=t3[1][:,m].T.reshape(36,24)\n",
    "  ab=abs(a-b)\n",
    "  ac=abs(a-c)\n",
    "  bc=abs(b-c)\n",
    "  ad=abs(a-d)\n",
    "  bd=abs(b-d)\n",
    "  cd=abs(c-d)\n",
    "\n",
    "  plt.subplot(n,6,m*6+1)\n",
    "  print(\"01\")\n",
    "  sns.heatmap(ab,vmin=0, vmax=1)\n",
    "  plt.subplot(n,6,m*6+2)\n",
    "  print(\"02\")\n",
    "  sns.heatmap(ac,vmin=0, vmax=1)\n",
    "  plt.subplot(n,6,m*6+3)\n",
    "  print(\"12\")\n",
    "  sns.heatmap(bc,vmin=0, vmax=1)\n",
    "  plt.subplot(n,6,m*6+4)\n",
    "  print(\"0a\")\n",
    "  sns.heatmap(ad,vmin=0, vmax=1)\n",
    "  plt.subplot(n,6,m*6+5)\n",
    "  print(\"1a\")\n",
    "  sns.heatmap(bd,vmin=0, vmax=1)\n",
    "  plt.subplot(n,6,m*6+6)\n",
    "  print(\"2a\")\n",
    "  sns.heatmap(cd,vmin=0, vmax=1)\n",
    "  print(\"誤差\")\n",
    "  print(\"01\")\n",
    "  print(ab.sum())\n",
    "  print(\"02\")\n",
    "  print(ac.sum())\n",
    "  print(\"12\")\n",
    "  print(bc.sum())\n",
    "  print(\"0a\")\n",
    "  print(ad.sum())\n",
    "  print(\"1a\")\n",
    "  print(bd.sum())\n",
    "  print(\"2a\")\n",
    "  print(cd.sum()) "
   ]
  },
  {
   "cell_type": "code",
   "execution_count": 28,
   "metadata": {
    "executionInfo": {
     "elapsed": 9,
     "status": "ok",
     "timestamp": 1672373835876,
     "user": {
      "displayName": "学生1935084t",
      "userId": "12227631716568337195"
     },
     "user_tz": -540
    },
    "id": "f2D28HB4B1H7"
   },
   "outputs": [],
   "source": [
    "def spaceRowHeatDif(t0,t1,t2,t3):\n",
    "  plt.figure(figsize=(1*10,1*10))\n",
    "  a=t0[1][:,:]\n",
    "  b=t1[1][:,:]\n",
    "  c=t2[1][:,:]\n",
    "  d=t3[1][:,:]\n",
    "  ab=abs(a-b)\n",
    "  ac=abs(a-c)\n",
    "  bc=abs(b-c)\n",
    "  ad=abs(a-d)\n",
    "  bd=abs(b-d)\n",
    "  cd=abs(c-d)\n",
    "\n",
    "  plt.subplot(1,6,1)\n",
    "  print(\"01\")\n",
    "  sns.heatmap(ab,vmin=0, vmax=1)\n",
    "  plt.subplot(1,6,2)\n",
    "  print(\"02\")\n",
    "  sns.heatmap(ac,vmin=0, vmax=1)\n",
    "  plt.subplot(1,6,3)\n",
    "  print(\"12\")\n",
    "  sns.heatmap(bc,vmin=0, vmax=1)\n",
    "  plt.subplot(1,6,4)\n",
    "  print(\"0a\")\n",
    "  sns.heatmap(ad,vmin=0, vmax=1)\n",
    "  plt.subplot(1,6,5)\n",
    "  print(\"1a\")\n",
    "  sns.heatmap(bd,vmin=0, vmax=1)\n",
    "  plt.subplot(1,6,6)\n",
    "  print(\"2a\")\n",
    "  sns.heatmap(cd,vmin=0, vmax=1)\n",
    "  print(\"誤差\")\n",
    "  print(\"01\")\n",
    "  print(ab.sum())\n",
    "  print(\"02\")\n",
    "  print(ac.sum())\n",
    "  print(\"12\")\n",
    "  print(bc.sum())\n",
    "  print(\"0a\")\n",
    "  print(ad.sum())\n",
    "  print(\"1a\")\n",
    "  print(bd.sum())\n",
    "  print(\"2a\")\n",
    "  print(cd.sum()) "
   ]
  },
  {
   "cell_type": "code",
   "execution_count": 29,
   "metadata": {
    "executionInfo": {
     "elapsed": 8,
     "status": "ok",
     "timestamp": 1672373835876,
     "user": {
      "displayName": "学生1935084t",
      "userId": "12227631716568337195"
     },
     "user_tz": -540
    },
    "id": "mBn3XNiciOZJ"
   },
   "outputs": [],
   "source": [
    "def plotFream(t0,t1,t2,t3,rl):\n",
    "  tt0,u0=ntd(t0,rl)\n",
    "  a0,b0=non_negative_tucker_core(t0,rl,tt0)\n",
    "  a1,b1=non_negative_tucker_core(t1,rl,tt0)\n",
    "  a2,b2=non_negative_tucker_core(t2,rl,tt0)\n",
    "  a3,b3=non_negative_tucker_core(t3,rl,tt0)\n",
    "    \n",
    "  #spaceHeatPlot(b0,b1,b2,b3,rl)\n",
    "\n",
    "  #plt.subplot(2,1,1)\n",
    "  plt.subplot2grid((2, 2), (0, 0), colspan=2)\n",
    "  spaceHeatPlot(b0,b1,b2,b3,rl)\n",
    "  plt.title(\"spaceHeatPlot\")\n",
    "  #plt.subplot(2,1,2)\n",
    "  plt.subplot2grid((2, 2), (1, 0), colspan=2)\n",
    "  timeHeatPlot(b0,b1,b2,b3,rl)\n",
    "  plt.title(\"timeHeatPlot\")\n",
    "  \"\"\"\n",
    "  timeLinePlot(b0,b1,b2,b3,rl)\n",
    "  plt.title(\"timeLinePlot\")\n",
    "  measureHeatPlot(b0,b1,b2,b3,rl)\n",
    "  plt.title(\"measureHeatPlot\")\n",
    "  measureBarPlot(b0,b1,b2,b3,rl)  \n",
    "  plt.title(\"measureBarPlot\")\n",
    "  coreHeatMap(a0,a1,a2,a3,rl)\n",
    "  plt.title(\"coreHeatMap\")\n",
    "  allPlot(a0,b0,rl)\n",
    "  plt.title(\"allPlot\")\n",
    "  \n",
    "  \"\"\"\n",
    "  \"\"\"\n",
    "  n=rl[1]\n",
    "  for m in range(0,rl[1]):\n",
    "    spaceHeatDif(b0,b1,b2,b3,m,n)\n",
    "  \"\"\"\n",
    "  #spaceRowHeatDif(b0,b1,b2,b3)"
   ]
  },
  {
   "cell_type": "markdown",
   "metadata": {
    "id": "hdGNXcOH_oxE"
   },
   "source": [
    "## 実験"
   ]
  },
  {
   "cell_type": "markdown",
   "metadata": {
    "id": "tuduxthQevlZ"
   },
   "source": [
    "変数の固定　測定値の固定をすることでの、時間軸と空間軸の比較、ラック毎の差を見た後、その差を生み出している原因の特定のための元データを戻って比較"
   ]
  },
  {
   "cell_type": "code",
   "execution_count": 30,
   "metadata": {
    "executionInfo": {
     "elapsed": 7,
     "status": "ok",
     "timestamp": 1672373835876,
     "user": {
      "displayName": "学生1935084t",
      "userId": "12227631716568337195"
     },
     "user_tz": -540
    },
    "id": "zd_aRRSQGV_7"
   },
   "outputs": [],
   "source": [
    "rl1=4\n",
    "rl2=4\n",
    "rl3=4\n",
    "rank_list=[rl1,rl2,rl3]"
   ]
  },
  {
   "cell_type": "code",
   "execution_count": 31,
   "metadata": {
    "executionInfo": {
     "elapsed": 8,
     "status": "ok",
     "timestamp": 1672373835877,
     "user": {
      "displayName": "学生1935084t",
      "userId": "12227631716568337195"
     },
     "user_tz": -540
    },
    "id": "Ev9WS14KjJbV"
   },
   "outputs": [],
   "source": [
    "#plotFream(tensor_0,tensor_1,tensor_2,tensor_all,rank_list)"
   ]
  },
  {
   "cell_type": "markdown",
   "metadata": {
    "id": "z71U506jfaBk"
   },
   "source": [
    "01の820番くらいが差が生まれているからその部分を比較するため、元データの比較と並び替えが必要"
   ]
  },
  {
   "cell_type": "code",
   "execution_count": 32,
   "metadata": {
    "colab": {
     "base_uri": "https://localhost:8080/"
    },
    "executionInfo": {
     "elapsed": 41210,
     "status": "ok",
     "timestamp": 1672373877080,
     "user": {
      "displayName": "学生1935084t",
      "userId": "12227631716568337195"
     },
     "user_tz": -540
    },
    "id": "pzWP3PC0_Wwn",
    "outputId": "5d7bf73e-f397-4a5c-fd82-3910d880a856"
   },
   "outputs": [
    {
     "name": "stdout",
     "output_type": "stream",
     "text": [
      "rec_errors\n",
      "[0.8954197573114948, 0.8462580616129972, 0.8409660219415832, 0.8369751630599485, 0.8320384443872736, 0.8264182310254241, 0.8212543336034518, 0.8170416700339767, 0.8138430390480762, 0.8114013131176405, 0.8094692966599593, 0.8078763697464496, 0.8065212966317482, 0.8053472343340141, 0.8043178289807149, 0.803393592822316, 0.8025458052956053, 0.8017583804509247, 0.8010203613898381, 0.8003199249188034, 0.7996549184597989, 0.7990173011553601, 0.7984075502891228, 0.7978221349975193, 0.7972609663905984, 0.7967218182549655, 0.7962024774890821, 0.7956983431925927, 0.7952089636514875, 0.794743930735038, 0.7943021766806125, 0.7938692969634157, 0.793447785816197, 0.7930556066174155, 0.7926790787773567, 0.7923138442781151, 0.7919613286561538, 0.7916230560021236, 0.7912936387778086, 0.7909655224607823, 0.7906444612706076, 0.7903342552195922, 0.790019401547562, 0.7896942189645416, 0.7893952679420775, 0.7891216792577824, 0.7888647698530313, 0.7886300086578252, 0.7884147739031376, 0.7882094713664345, 0.7880073110886321, 0.7878187720166111, 0.7876489021086399, 0.7874923628320666, 0.7873461211202384, 0.7872082861894121, 0.787077310129486, 0.7869499935412042, 0.786810789781223, 0.7866307738822156, 0.7864855541452629, 0.7863521250683726, 0.7862304009596223, 0.786120007591869, 0.786018862690506, 0.7859335348806273, 0.7858551538315512, 0.7857804448019582, 0.7857071931784608, 0.7856343328540459, 0.7855617231316306, 0.7854863335628544, 0.7854179431837005, 0.7853616608209135, 0.7853119944630338, 0.7852681903500245, 0.7852267917153404, 0.785189180545415, 0.7851561646918622, 0.7851257405490578, 0.7850975548659952, 0.7850706382384754, 0.7850414517658457, 0.7850130028431976, 0.7849891014758047, 0.7849644421092749, 0.7849346591360685, 0.7848943855925359, 0.7848425068781267, 0.7847843060179668, 0.7847234044827995, 0.7846709351559183, 0.7846333647601635, 0.7846063016892045, 0.7845855767984165, 0.784568449857711, 0.7845528096555738, 0.7845363036111235, 0.7845157149134336, 0.7844889243883136, 0.7844602659522135, 0.784436646892121, 0.7844187593379116, 0.7844044011233294, 0.7843919327126221, 0.7843801515428825, 0.7843670490433017, 0.7843510497532804, 0.7843376684750224, 0.7843274614791217, 0.784318156960879]\n",
      "rec_errors\n",
      "[0.909584636507366, 0.8349967684976475, 0.8238805514962083, 0.8153325026245797, 0.8088758807637368, 0.8039585173589143, 0.800091883659713, 0.7970221527766355, 0.79454009628612, 0.7924579368007518, 0.7906648383060176, 0.7891092108685978, 0.7877594792315994, 0.7865903201424055, 0.7855760726207351, 0.7846904215227484, 0.7839152114034618, 0.7832382179953001, 0.782645815186282, 0.7821234629971907, 0.7816573423602958, 0.7812356653655306, 0.7808496900061336, 0.7804939252579746, 0.7801647599041464, 0.7798607639922915, 0.7795802048019232, 0.7793199429508567, 0.7790771449262756, 0.7788491642850746, 0.7786337293718064, 0.778429145261914, 0.778234230375607, 0.7780476879149173, 0.777862644508686, 0.7776825227349071, 0.7775183195901484, 0.7773608885456954, 0.7772089648550145, 0.7770618985423997, 0.7769193478948198, 0.7767812243711697, 0.7766475373726881, 0.7765182042675197, 0.7763929460266897, 0.7762713206696711, 0.776152853038183, 0.776037183807818, 0.7759241824249672, 0.7758139741568428, 0.775706769711289, 0.7756023877485098, 0.7754995623621518, 0.775395241285337, 0.7752850257791168, 0.7751686723841084, 0.7750558686784544, 0.774953984202273, 0.7748603326093765, 0.7747703062562925, 0.7746800600655276, 0.7745851902950258, 0.774481027282232, 0.7743684346568622, 0.7742588456756417, 0.7741619698542122, 0.774076466216232, 0.773997795296049, 0.773923056778761, 0.7738507970471202, 0.7737802770234358, 0.7737110852989455, 0.7736429646947565, 0.773575736595182, 0.7735092786017633, 0.7734435213786417, 0.7733784173279464, 0.7733138366589225, 0.7732493729856287, 0.77318411455067, 0.773116754705334, 0.7730473903912802, 0.7729786786814832, 0.7729134832398313, 0.7728529912162888, 0.7727966235460115, 0.7727432068549519, 0.7726918367493912, 0.7726419896527726, 0.7725933895571808, 0.7725458904195311, 0.7724994097559792, 0.7724538962387177, 0.7724093144831554, 0.7723656379163562, 0.772322845231026, 0.7722809183725253, 0.772239841120386, 0.7721995977909963, 0.7721601717116775, 0.7721215429817914, 0.7720836845592604, 0.7720465546003312, 0.7720100805366773, 0.7719741262884613, 0.7719384246284334, 0.7719024521226995, 0.771865252488173, 0.7718254080991331, 0.7717818478771299, 0.7717359277807724, 0.7716918248031358, 0.7716524374572499, 0.7716172803342375, 0.7715847918697843, 0.771553915502795, 0.7715241618345593, 0.7714953514754213, 0.771467431422523, 0.7714403733634125, 0.7714141195082813, 0.7713885516236046, 0.7713634691893729, 0.7713385744101802, 0.7713134935188185, 0.7712879132365719, 0.7712618907223016, 0.7712361074980014, 0.7712115456238644, 0.7711887411081846, 0.7711675663183056, 0.7711476188221286, 0.771128552748774, 0.7711101523998243, 0.7710922946553149, 0.7710749061218998, 0.7710579386593536, 0.7710413575846896, 0.771025135529688, 0.7710092488402216, 0.7709936754687469, 0.7709783938598926, 0.7709633824887577, 0.7709486198440979, 0.770934084778234, 0.7709197571728958, 0.7709056189563345, 0.7708916554341776, 0.7708778568616447, 0.7708642200926451, 0.7708507500492984, 0.7708374606664602, 0.7708243748992103, 0.7708115233915497, 0.770798941590307, 0.7707866655062439, 0.7707747268297112, 0.7707631480520584, 0.7707519337156866, 0.7707410082063927, 0.7707296271214921, 0.7707132670009177, 0.770694118519746, 0.7706826281874496, 0.7706729568592984]\n",
      "rec_errors\n",
      "[0.8915775679783695, 0.8451789119613138, 0.8363038626045178, 0.8286151830476493, 0.8198969206859213, 0.8126597688795243, 0.807460797459526, 0.8037705065910135, 0.8010148686643661, 0.7988293945608314, 0.7970139594132626, 0.7954614087414219, 0.7941125811087004, 0.7929325838945163, 0.791891591557503, 0.7909808715470029, 0.7901804980339366, 0.7894750958174995, 0.7888505822611072, 0.7882937657536012, 0.7877928304622518, 0.787337911028469, 0.7869213846906341, 0.7865378495081754, 0.7861836401343061, 0.7858560408099119, 0.7855526006544191, 0.7852708461910372, 0.7850083726947714, 0.784763004415603, 0.7845329261503631, 0.7843166148511646, 0.7841126436969935, 0.7839195704310772, 0.7837359703039743, 0.7835605723222686, 0.7833924830169611, 0.7832312259237153, 0.7830721726313579, 0.7829236138644743, 0.7827810537114275, 0.7826442113308075, 0.7825129975178371, 0.7823875411361892, 0.7822681002060126, 0.7821549192279904, 0.78204808700133, 0.7819474359690226, 0.781852502970293, 0.781762566934154, 0.7816767633734707, 0.78159430574402, 0.7815147681941869, 0.7814381903648825, 0.7813648171352263, 0.7812946849253186, 0.7812276781233971, 0.7811639905145586, 0.7811032416909293, 0.7810449913457752, 0.7809889908321745, 0.7809350676445195, 0.780883070883128, 0.7808328472348204, 0.7807842383002435, 0.7807370907965127, 0.7806912695969883, 0.7806466625439696, 0.7806031717996985, 0.7805603556153698, 0.780513530499211, 0.7804725013752505, 0.7804328263263789, 0.7803939233362551, 0.7803555987731499, 0.7803175131565623, 0.7802791029778905, 0.7802396749301308, 0.7801996547533231, 0.7801616368421168, 0.7801262129102897, 0.780091869152618, 0.7800574967517532, 0.780022165216944, 0.7799847139659131, 0.7799440308834837, 0.7799004220590576, 0.7798567169767504, 0.7798160549292862, 0.7797790051172083, 0.779744410967731, 0.7797111352639895, 0.7796785132030803, 0.7796462169799718, 0.7796140995632104, 0.7795821093942202, 0.779550251663289, 0.7795185708156117, 0.7794871392907348, 0.7794560447168657, 0.7794253727630719, 0.7793951896634491, 0.7793655284881692, 0.7793363819474862, 0.7793076994836647, 0.7792793964039876, 0.779251346581602, 0.7792233878150321, 0.7791953199773596, 0.7791669174929692, 0.7791379793567769, 0.7791084419607118, 0.7790785225884748, 0.7790487480272223, 0.7790197321677335, 0.7789918503086689, 0.7789651303766278, 0.7789393958883386, 0.7789144418914964, 0.7788901173156385, 0.7788663328379015, 0.7788430427166246, 0.778820225920018, 0.7787978731538764, 0.7787759793980096, 0.7787545402389877, 0.7787335505302719, 0.7787130042959367, 0.7786928950762503, 0.7786732161613855, 0.7786539604356748, 0.778635119804187, 0.7786166841372766, 0.778598641825711, 0.778580978650136, 0.7785636784782295, 0.7785467239061787, 0.778530097065818, 0.7785137804938382, 0.7784977580542739, 0.7784820149686739, 0.7784665380935125, 0.7784513158786982, 0.778436338249316, 0.7784215964400532, 0.7784070828319322, 0.77839279070902, 0.778378714384616, 0.7783648491724718, 0.7783511910309013, 0.77833773608308, 0.7783244796056809, 0.7783114145724093, 0.7782985299779969, 0.7782858093361282, 0.7782732297323042, 0.7782607616548388, 0.778248369656811, 0.7782360138063751, 0.7782236525368601, 0.7782112465568135, 0.7781987649930007, 0.7781861935972103, 0.7781735439927272, 0.7781608611492324, 0.7781482244893345, 0.778135738525605, 0.7781235132746461, 0.7781116414060115, 0.778100181567049, 0.778089153858885, 0.7780785461490333, 0.7780683258045127, 0.7780584512990767]\n",
      "rec_errors\n",
      "[0.9070661341943478, 0.8597946585957059, 0.8575839481497272, 0.8563375918495075, 0.8544561771589735, 0.8517192279543389, 0.848365494957889, 0.8449333456481869, 0.8419386694254901, 0.8395824679171375, 0.8378780249981356, 0.8366578935063042, 0.8357637828573616, 0.8350876105163213, 0.8345481656994139, 0.8340877202952622, 0.8337085691128984, 0.8333700636186359, 0.833057677409017, 0.8327611806265796, 0.8324723236918884, 0.8321858199405062, 0.8318968164809566, 0.8316013501490856, 0.8312963215357504, 0.8309788598716257, 0.830646289750469, 0.8302960736734999, 0.8299267113349108, 0.8295372052649411, 0.8291262646023984, 0.8286941428929087, 0.828240903049709, 0.8277685652906986, 0.8272782014174599, 0.8267723481328485, 0.826254497087335, 0.8257280210157154, 0.8251961406701046, 0.8246629646606327, 0.8241275226932572, 0.8235940391992524, 0.8230520541032714, 0.822515977423716, 0.8219958517292185, 0.8214922627617824, 0.8209982179710565, 0.8205068986614618, 0.8200226094571064, 0.8194851019347485, 0.8190062113139175, 0.8184918158292736, 0.8179711950339547, 0.8175117071260075, 0.8170575221946189, 0.8166016687666707, 0.816069588589058, 0.8156092715042595, 0.8152142511615774, 0.8148531231151978, 0.8145262801072566, 0.8142231318602798, 0.8139482365374904, 0.8136967008510381, 0.8134671339350081, 0.8132573787755716, 0.8130627461240897, 0.8128827382380592, 0.8127180600900394, 0.812569656739236, 0.8124352809782136, 0.812312703751003, 0.8121983301060439, 0.8120882392248457, 0.8119819337468962, 0.8118855201704422, 0.8118024028214791, 0.8117283579355807, 0.8116513428793655, 0.8115769659837672, 0.8115186432687528, 0.8114642544877434, 0.8114117183611254, 0.8113592356394845, 0.8113076029603884, 0.8112608350626195, 0.8112193390427893, 0.8111808914032855, 0.8111443813266408, 0.8111094410480026, 0.8110758422959692, 0.8110435730519682, 0.8110130131137175, 0.8109840814658046, 0.8109562411207585, 0.8109288673562046, 0.8109010575868646, 0.8108714387364763, 0.8108384222595937, 0.8108016912075452, 0.8107642093104098, 0.8107303663592401, 0.8107009934167613, 0.8106733439632311, 0.8106435792926223, 0.81060689335387, 0.8105577294438114, 0.810491868217933, 0.8104097709814336, 0.8103151428641492, 0.8102029753586203, 0.8100683091951141, 0.8098993366847519, 0.8096998225493318, 0.8094853165593912, 0.8092765971328574, 0.8090928470154902, 0.80894382146165, 0.8088259422822061, 0.8087306913710203, 0.8086528772128334, 0.8085902710411947, 0.8085412622400321, 0.8085028752428784, 0.8084712193355816, 0.8084433080282433, 0.8084175072321869, 0.8083930441576174, 0.8083695806511954, 0.8083469317962454, 0.8083249891644938, 0.8083036752742228, 0.8082829256700147, 0.808262671278934, 0.8082427927032407, 0.8082230737167507, 0.8082036339282059, 0.8081849293465793, 0.8081667582285318, 0.8081489669016304, 0.8081315257782041, 0.8081144293111033, 0.8080976783405135, 0.8080812770032335, 0.8080652313938584, 0.8080495484398315, 0.8080342348238824, 0.8080192959244882, 0.8080047347905037, 0.8079905512348902, 0.8079767411822756, 0.8079632963971302, 0.8079502046545631, 0.8079374503247454, 0.8079250152619366, 0.8079128798453843, 0.8079010240182122, 0.8078894282021879, 0.8078780740137835, 0.8078669447541243, 0.8078560256820295, 0.807845304101945, 0.8078347693085609, 0.8078244124310375, 0.8078142262158897, 0.807804204781646, 0.8077943433720014]\n",
      "8.755730499999999\n"
     ]
    }
   ],
   "source": [
    "if cp==0:\n",
    "    tt0,u0=ntd(tensor_0,rank_list)\n",
    "    tt1,u1=ntd(tensor_1,rank_list)\n",
    "    tt2,u2=ntd(tensor_2,rank_list)\n",
    "    tt3,u3=ntd(tensor_all,rank_list)\n",
    "    tt0=(tt0+tt1+tt2+tt3)\n",
    "    tt0=tt0/4\n",
    "\n",
    "if cp==1:\n",
    "    tt0=np.zeros((rl1,rl2,rl3))\n",
    "    tt0[0,0,0]=1\n",
    "    tt0[1,1,1]=1\n",
    "    tt0[2,2,2]=1\n",
    "    tt0[3,3,3]=1\n",
    "\n",
    "import time\n",
    " \n",
    "# 開始\n",
    "start_time = time.perf_counter()\n",
    " \n",
    "# ダミー処理\n",
    "a0,b0=non_negative_tucker_core(tensor_0,rank_list,tt0)\n",
    "a1,b1=non_negative_tucker_core(tensor_1,rank_list,tt0)\n",
    "a2,b2=non_negative_tucker_core(tensor_2,rank_list,tt0)\n",
    "# 修了\n",
    "end_time = time.perf_counter()\n",
    " \n",
    "# 経過時間を出力(秒)\n",
    "elapsed_time0 = end_time - start_time\n",
    "\n",
    "\n",
    "# 開始\n",
    "start_time = time.perf_counter()\n",
    " \n",
    "# ダミー処理\n",
    "a3,b3=non_negative_tucker_core(tensor_all,rank_list,tt0)\n",
    "# 修了\n",
    "end_time = time.perf_counter()\n",
    " \n",
    "# 経過時間を出力(秒)\n",
    "elapsed_time1 = end_time - start_time\n",
    "print(elapsed_time1)"
   ]
  },
  {
   "cell_type": "code",
   "execution_count": 33,
   "metadata": {},
   "outputs": [
    {
     "name": "stdout",
     "output_type": "stream",
     "text": [
      "6.782525800000002\n",
      "8.755730499999999\n"
     ]
    }
   ],
   "source": [
    "print(elapsed_time0)\n",
    "print(elapsed_time1)"
   ]
  },
  {
   "cell_type": "code",
   "execution_count": 34,
   "metadata": {},
   "outputs": [],
   "source": [
    "c1=np.zeros((rl1*rl2*rl3))\n",
    "c2=np.zeros((rl1*rl2*rl3))\n",
    "c3=np.zeros((rl1*rl2*rl3))\n",
    "c4=np.zeros((rl1*rl2*rl3))\n",
    "count=0\n",
    "mem=[]\n",
    "for i in range(0,rl1):\n",
    "  for j in range(0,rl2):\n",
    "    for k in range(0,rl3):\n",
    "      mem.append(str(i)+str(j)+str(k))\n",
    "      c1[count]=a0[i,j,k]\n",
    "      c2[count]=a1[i,j,k]\n",
    "      c3[count]=a2[i,j,k]\n",
    "      c4[count]=a3[i,j,k] \n",
    "      count=count+1\n"
   ]
  },
  {
   "cell_type": "code",
   "execution_count": 35,
   "metadata": {
    "executionInfo": {
     "elapsed": 22,
     "status": "ok",
     "timestamp": 1672373877081,
     "user": {
      "displayName": "学生1935084t",
      "userId": "12227631716568337195"
     },
     "user_tz": -540
    },
    "id": "NLnEVye1gkZH"
   },
   "outputs": [],
   "source": [
    "def spaceRowHeatDifOut(t0,t1):\n",
    "  plt.figure(figsize=(1*10,1*10))\n",
    "  a=t0[1][:,:]\n",
    "  b=t1[1][:,:]\n",
    "  ab=abs(a-b)\n",
    "\n",
    "  print(\"01\")\n",
    "  sns.heatmap(ab,vmin=0, vmax=1)\n",
    "\n",
    "  print(\"誤差\")\n",
    "  print(\"01\")\n",
    "  print(ab.sum())\n",
    "  return ab"
   ]
  },
  {
   "cell_type": "code",
   "execution_count": 36,
   "metadata": {},
   "outputs": [
    {
     "name": "stdout",
     "output_type": "stream",
     "text": [
      "[1.64420047e-01 0.00000000e+00 2.15441984e-30 2.39563270e+00]\n"
     ]
    }
   ],
   "source": [
    "print(b2[2][:,0])"
   ]
  },
  {
   "cell_type": "code",
   "execution_count": 37,
   "metadata": {},
   "outputs": [
    {
     "name": "stdout",
     "output_type": "stream",
     "text": [
      "[4.90604162e+00 1.52693024e-73 6.15064169e-28 2.82196690e-07]\n"
     ]
    }
   ],
   "source": [
    "#軸の無理やり調整用、そのうち違う風にする\n",
    "b2[1]=b2[1][:,[2,0,1,3]]\n",
    "b2[2]=b2[2][:,[1,3,0,2]]\n",
    "\n",
    "print(b2[2][:,1])"
   ]
  },
  {
   "cell_type": "code",
   "execution_count": 38,
   "metadata": {
    "colab": {
     "base_uri": "https://localhost:8080/",
     "height": 1000
    },
    "executionInfo": {
     "elapsed": 6387,
     "status": "ok",
     "timestamp": 1672373883448,
     "user": {
      "displayName": "学生1935084t",
      "userId": "12227631716568337195"
     },
     "user_tz": -540
    },
    "id": "6Yi-5keU_9X0",
    "outputId": "7abaeef7-5467-451a-97d4-78bd3435d7ac"
   },
   "outputs": [
    {
     "name": "stdout",
     "output_type": "stream",
     "text": [
      "01\n",
      "誤差\n",
      "01\n",
      "350.8419386561312\n",
      "01\n",
      "誤差\n",
      "01\n",
      "336.3823760022959\n",
      "01\n",
      "誤差\n",
      "01\n",
      "240.4821113081423\n",
      "01\n",
      "誤差\n",
      "01\n",
      "211.50232817729494\n",
      "01\n",
      "誤差\n",
      "01\n",
      "191.4975605374722\n",
      "01\n",
      "誤差\n",
      "01\n",
      "188.7019097085923\n"
     ]
    },
    {
     "data": {
      "image/png": "[encoded data removed]",
      "text/plain": [
       "<Figure size 720x720 with 2 Axes>"
      ]
     },
     "metadata": {
      "needs_background": "light"
     },
     "output_type": "display_data"
    },
    {
     "data": {
      "image/png": "[encoded data removed]",
      "text/plain": [
       "<Figure size 720x720 with 2 Axes>"
      ]
     },
     "metadata": {
      "needs_background": "light"
     },
     "output_type": "display_data"
    },
    {
     "data": {
      "image/png": "[encoded data removed]",
      "text/plain": [
       "<Figure size 720x720 with 2 Axes>"
      ]
     },
     "metadata": {
      "needs_background": "light"
     },
     "output_type": "display_data"
    },
    {
     "data": {
      "image/png": "[encoded data removed]",
      "text/plain": [
       "<Figure size 720x720 with 2 Axes>"
      ]
     },
     "metadata": {
      "needs_background": "light"
     },
     "output_type": "display_data"
    },
    {
     "data": {
      "image/png": "[encoded data removed]",
      "text/plain": [
       "<Figure size 720x720 with 2 Axes>"
      ]
     },
     "metadata": {
      "needs_background": "light"
     },
     "output_type": "display_data"
    },
    {
     "data": {
      "image/png": "[encoded data removed]",
      "text/plain": [
       "<Figure size 720x720 with 2 Axes>"
      ]
     },
     "metadata": {
      "needs_background": "light"
     },
     "output_type": "display_data"
    }
   ],
   "source": [
    "a1=spaceRowHeatDifOut(b0,b1)\n",
    "a2=spaceRowHeatDifOut(b0,b2)\n",
    "a3=spaceRowHeatDifOut(b0,b3)\n",
    "a4=spaceRowHeatDifOut(b1,b2)\n",
    "a5=spaceRowHeatDifOut(b1,b3)\n",
    "a6=spaceRowHeatDifOut(b2,b3)"
   ]
  },
  {
   "cell_type": "code",
   "execution_count": 39,
   "metadata": {
    "colab": {
     "base_uri": "https://localhost:8080/"
    },
    "executionInfo": {
     "elapsed": 16,
     "status": "ok",
     "timestamp": 1672373883449,
     "user": {
      "displayName": "学生1935084t",
      "userId": "12227631716568337195"
     },
     "user_tz": -540
    },
    "id": "jSFaHvXMAYuy",
    "outputId": "f127370a-bf25-4faf-d667-d24d7097f628"
   },
   "outputs": [
    {
     "data": {
      "text/plain": [
       "'\\n# 二次元配列を3次元方向に結合\\ndiff_array_3d = np.stack([a1,a2,a3,a4,a5,a6], axis=2)\\n# 形状確認\\ndiff_array_3d.shape\\n'"
      ]
     },
     "execution_count": 39,
     "metadata": {},
     "output_type": "execute_result"
    }
   ],
   "source": [
    "\"\"\"\n",
    "# 二次元配列を3次元方向に結合\n",
    "diff_array_3d = np.stack([a1,a2,a3,a4,a5,a6], axis=2)\n",
    "# 形状確認\n",
    "diff_array_3d.shape\n",
    "\"\"\""
   ]
  },
  {
   "cell_type": "code",
   "execution_count": 40,
   "metadata": {
    "executionInfo": {
     "elapsed": 506,
     "status": "ok",
     "timestamp": 1672373883947,
     "user": {
      "displayName": "学生1935084t",
      "userId": "12227631716568337195"
     },
     "user_tz": -540
    },
    "id": "xEhUy18nA-7m"
   },
   "outputs": [],
   "source": [
    "#cda3,uda3=ntd(diff_array_3d,rank_list)"
   ]
  },
  {
   "cell_type": "code",
   "execution_count": 41,
   "metadata": {
    "colab": {
     "base_uri": "https://localhost:8080/",
     "height": 282
    },
    "executionInfo": {
     "elapsed": 483,
     "status": "ok",
     "timestamp": 1672373884419,
     "user": {
      "displayName": "学生1935084t",
      "userId": "12227631716568337195"
     },
     "user_tz": -540
    },
    "id": "uYW2eDkZBz5B",
    "outputId": "79e0ca07-b3f5-43c0-8856-5dc02dc03851"
   },
   "outputs": [
    {
     "data": {
      "text/plain": [
       "'\\nd=uda3[0][:,0].T.reshape(36,24).T\\n#sns.heatmap(d,vmin=0, vmax=1)\\nsns.heatmap(d)\\n'"
      ]
     },
     "execution_count": 41,
     "metadata": {},
     "output_type": "execute_result"
    }
   ],
   "source": [
    "\"\"\"\n",
    "d=uda3[0][:,0].T.reshape(36,24).T\n",
    "#sns.heatmap(d,vmin=0, vmax=1)\n",
    "sns.heatmap(d)\n",
    "\"\"\""
   ]
  },
  {
   "cell_type": "code",
   "execution_count": 42,
   "metadata": {
    "colab": {
     "base_uri": "https://localhost:8080/",
     "height": 265
    },
    "executionInfo": {
     "elapsed": 408,
     "status": "ok",
     "timestamp": 1672373884823,
     "user": {
      "displayName": "学生1935084t",
      "userId": "12227631716568337195"
     },
     "user_tz": -540
    },
    "id": "FgsnmS-zCjqm",
    "outputId": "373b0488-18a9-4413-dfbc-ec0c1ba53cbb"
   },
   "outputs": [
    {
     "data": {
      "text/plain": [
       "'\\nleft=range(6)\\nheight1=uda3[2][:,1]\\np1 = plt.bar(left, height1, linewidth=2)\\n'"
      ]
     },
     "execution_count": 42,
     "metadata": {},
     "output_type": "execute_result"
    }
   ],
   "source": [
    "\"\"\"\n",
    "left=range(6)\n",
    "height1=uda3[2][:,1]\n",
    "p1 = plt.bar(left, height1, linewidth=2)\n",
    "\"\"\""
   ]
  },
  {
   "cell_type": "code",
   "execution_count": 43,
   "metadata": {
    "colab": {
     "base_uri": "https://localhost:8080/",
     "height": 330
    },
    "executionInfo": {
     "elapsed": 2515,
     "status": "ok",
     "timestamp": 1672373887334,
     "user": {
      "displayName": "学生1935084t",
      "userId": "12227631716568337195"
     },
     "user_tz": -540
    },
    "id": "nTx4DLu_GHxk",
    "outputId": "c709df0b-52f5-4322-b24e-f5f729792a7f"
   },
   "outputs": [
    {
     "data": {
      "text/plain": [
       "'\\nc=np.zeros((64))\\ncount=0\\nmem=[]\\nfor i in range(0,4):\\n  for j in range(0,4):\\n    for k in range(0,4):\\n      mem.append(str(i)+str(j)+str(k))\\n      c[count]=cda3[i,j,k]\\n      count=count+1\\n\\nplt.figure(figsize=(4*10,2*10))\\nleft=range(64)\\nheight1=c\\nplt.xticks(left, mem)\\np1 = plt.bar(left, height1, linewidth=2)\\n'"
      ]
     },
     "execution_count": 43,
     "metadata": {},
     "output_type": "execute_result"
    }
   ],
   "source": [
    "\"\"\"\n",
    "c=np.zeros((64))\n",
    "count=0\n",
    "mem=[]\n",
    "for i in range(0,4):\n",
    "  for j in range(0,4):\n",
    "    for k in range(0,4):\n",
    "      mem.append(str(i)+str(j)+str(k))\n",
    "      c[count]=cda3[i,j,k]\n",
    "      count=count+1\n",
    "\n",
    "plt.figure(figsize=(4*10,2*10))\n",
    "left=range(64)\n",
    "height1=c\n",
    "plt.xticks(left, mem)\n",
    "p1 = plt.bar(left, height1, linewidth=2)\n",
    "\"\"\""
   ]
  },
  {
   "cell_type": "markdown",
   "metadata": {
    "id": "BudiSrewWcg_"
   },
   "source": [
    "上のコアテンソルのグラフから、他の軸の因子ごとの特徴を作っているところをうまく探していき、どこが大事か見ていく"
   ]
  },
  {
   "cell_type": "markdown",
   "metadata": {
    "id": "g9v1VZ0wWotb"
   },
   "source": [
    "\n",
    "000,122,011この３つが上から3番までこの３つから調査をしていく"
   ]
  },
  {
   "cell_type": "code",
   "execution_count": 44,
   "metadata": {
    "colab": {
     "base_uri": "https://localhost:8080/",
     "height": 704
    },
    "executionInfo": {
     "elapsed": 16206,
     "status": "ok",
     "timestamp": 1672373903537,
     "user": {
      "displayName": "学生1935084t",
      "userId": "12227631716568337195"
     },
     "user_tz": -540
    },
    "id": "GnVoNaAxDeTK",
    "outputId": "51ba8b28-71c9-4110-b019-e1618ed06620"
   },
   "outputs": [
    {
     "data": {
      "text/plain": [
       "'\\nleft=range(864)\\nplt.figure(figsize=(4*10,2*10))\\nheight1=uda3[0][:,0]\\nheight2=uda3[0][:,1]\\nheight3=uda3[0][:,2]\\nheight4=uda3[0][:,3]\\nplt.subplot(1,2,2)\\np1 = plt.bar(left, height1, linewidth=2)\\np2 = plt.bar(left, height2, linewidth=2)\\np3 = plt.bar(left, height3, linewidth=2)\\np4 = plt.bar(left, height4, linewidth=2)\\nplt.legend((p1[0], p2[0],p3[0], p4[0]), (\"Class 1\", \"Class 2\",\"Class 3\", \"Class 4\"), loc=4)\\n'"
      ]
     },
     "execution_count": 44,
     "metadata": {},
     "output_type": "execute_result"
    }
   ],
   "source": [
    "\"\"\"\n",
    "left=range(864)\n",
    "plt.figure(figsize=(4*10,2*10))\n",
    "height1=uda3[0][:,0]\n",
    "height2=uda3[0][:,1]\n",
    "height3=uda3[0][:,2]\n",
    "height4=uda3[0][:,3]\n",
    "plt.subplot(1,2,2)\n",
    "p1 = plt.bar(left, height1, linewidth=2)\n",
    "p2 = plt.bar(left, height2, linewidth=2)\n",
    "p3 = plt.bar(left, height3, linewidth=2)\n",
    "p4 = plt.bar(left, height4, linewidth=2)\n",
    "plt.legend((p1[0], p2[0],p3[0], p4[0]), (\"Class 1\", \"Class 2\",\"Class 3\", \"Class 4\"), loc=4)\n",
    "\"\"\""
   ]
  },
  {
   "cell_type": "code",
   "execution_count": 45,
   "metadata": {
    "colab": {
     "base_uri": "https://localhost:8080/"
    },
    "executionInfo": {
     "elapsed": 22,
     "status": "ok",
     "timestamp": 1672373903538,
     "user": {
      "displayName": "学生1935084t",
      "userId": "12227631716568337195"
     },
     "user_tz": -540
    },
    "id": "OhXFgMSfbO4s",
    "outputId": "ffef35f2-6c8c-4687-962c-4c46ff443e48"
   },
   "outputs": [
    {
     "data": {
      "text/plain": [
       "'\\nmax_index = np.argmax(uda3[0][:,3])\\nprint(max_index)\\n'"
      ]
     },
     "execution_count": 45,
     "metadata": {},
     "output_type": "execute_result"
    }
   ],
   "source": [
    "\"\"\"\n",
    "max_index = np.argmax(uda3[0][:,3])\n",
    "print(max_index)\n",
    "\"\"\""
   ]
  },
  {
   "cell_type": "markdown",
   "metadata": {
    "id": "ApUavKV5aLXD"
   },
   "source": [
    "第一因子は２７３ 第二因子は551、第３因子565、第４因子410となっている。"
   ]
  },
  {
   "cell_type": "markdown",
   "metadata": {
    "id": "oT7ug2UzXACc"
   },
   "source": [
    "空間軸に関しては量が多すぎるため、要素ごとで上から見ていく"
   ]
  },
  {
   "cell_type": "code",
   "execution_count": 46,
   "metadata": {
    "colab": {
     "base_uri": "https://localhost:8080/",
     "height": 346
    },
    "executionInfo": {
     "elapsed": 1392,
     "status": "ok",
     "timestamp": 1672373904920,
     "user": {
      "displayName": "学生1935084t",
      "userId": "12227631716568337195"
     },
     "user_tz": -540
    },
    "id": "3jtLdNBnW0cU",
    "outputId": "d2a6376d-19ca-43a6-80b1-98438bb3b1dc"
   },
   "outputs": [
    {
     "data": {
      "text/plain": [
       "'\\nplt.figure(figsize=(4*10,2*10))\\n \\n# 各系列のデータを用意\\nheight1=uda3[1][:,0]\\nheight2=uda3[1][:,1]\\nheight3=uda3[1][:,2]\\nheight4=uda3[1][:,3]\\ndata = [height1, height2,height3,height4]\\n\\nx = np.arange(len(height1))\\n\\nlabels = [\"1\", \"2\", \"3\", \"4\"]\\n# マージンを設定\\nmargin = 0.2  #0 <margin< 1\\ntotoal_width = 1 - margin\\n \\n# 棒グラフをプロット\\nfor i, h in enumerate(data):\\n  pos = x - totoal_width *( 1- (2*i+1)/len(data) )/2\\n  plt.bar(pos, h, width = totoal_width/len(data))\\n \\n# ラベルの設定\\nplt.xticks(x, labels)\\nplt.legend((p1[0], p2[0],p3[0], p4[0]), (\"Class 1\", \"Class 2\",\"Class 3\", \"Class 4\"), loc=4)\\n'"
      ]
     },
     "execution_count": 46,
     "metadata": {},
     "output_type": "execute_result"
    }
   ],
   "source": [
    "\"\"\"\n",
    "plt.figure(figsize=(4*10,2*10))\n",
    " \n",
    "# 各系列のデータを用意\n",
    "height1=uda3[1][:,0]\n",
    "height2=uda3[1][:,1]\n",
    "height3=uda3[1][:,2]\n",
    "height4=uda3[1][:,3]\n",
    "data = [height1, height2,height3,height4]\n",
    "\n",
    "x = np.arange(len(height1))\n",
    "\n",
    "labels = [\"1\", \"2\", \"3\", \"4\"]\n",
    "# マージンを設定\n",
    "margin = 0.2  #0 <margin< 1\n",
    "totoal_width = 1 - margin\n",
    " \n",
    "# 棒グラフをプロット\n",
    "for i, h in enumerate(data):\n",
    "  pos = x - totoal_width *( 1- (2*i+1)/len(data) )/2\n",
    "  plt.bar(pos, h, width = totoal_width/len(data))\n",
    " \n",
    "# ラベルの設定\n",
    "plt.xticks(x, labels)\n",
    "plt.legend((p1[0], p2[0],p3[0], p4[0]), (\"Class 1\", \"Class 2\",\"Class 3\", \"Class 4\"), loc=4)\n",
    "\"\"\""
   ]
  },
  {
   "cell_type": "markdown",
   "metadata": {
    "id": "4kOdRwr-bWBs"
   },
   "source": [
    "因子のテンソル分解の結果より、重要なのは第一因子は2,第二因子は3、第三因子は4、第四因子は1が大事としっかり分かれている。"
   ]
  },
  {
   "cell_type": "code",
   "execution_count": 47,
   "metadata": {
    "colab": {
     "base_uri": "https://localhost:8080/",
     "height": 346
    },
    "executionInfo": {
     "elapsed": 1872,
     "status": "ok",
     "timestamp": 1672373906789,
     "user": {
      "displayName": "学生1935084t",
      "userId": "12227631716568337195"
     },
     "user_tz": -540
    },
    "id": "SHt3EVYvbxkt",
    "outputId": "3977e3f5-6122-4421-99bc-e7a9c02b6d93"
   },
   "outputs": [
    {
     "data": {
      "text/plain": [
       "'\\nplt.figure(figsize=(4*10,2*10))\\n \\n# 各系列のデータを用意\\nheight1=uda3[2][:,0]\\nheight2=uda3[2][:,1]\\nheight3=uda3[2][:,2]\\nheight4=uda3[2][:,3]\\ndata = [height1, height2,height3,height4]\\n\\nx = np.arange(len(height1))\\n\\nlabels = [\"01\", \"02\", \"03\", \"12\",\"13\",\"23\"]\\n# マージンを設定\\nmargin = 0.2  #0 <margin< 1\\ntotoal_width = 1 - margin\\n \\n# 棒グラフをプロット\\nfor i, h in enumerate(data):\\n  pos = x - totoal_width *( 1- (2*i+1)/len(data) )/2\\n  plt.bar(pos, h, width = totoal_width/len(data))\\n \\n# ラベルの設定\\nplt.xticks(x, labels)\\nplt.legend((p1[0], p2[0],p3[0], p4[0]), (\"Class 1\", \"Class 2\",\"Class 3\", \"Class 4\"), loc=4)\\n'"
      ]
     },
     "execution_count": 47,
     "metadata": {},
     "output_type": "execute_result"
    }
   ],
   "source": [
    "\"\"\"\n",
    "plt.figure(figsize=(4*10,2*10))\n",
    " \n",
    "# 各系列のデータを用意\n",
    "height1=uda3[2][:,0]\n",
    "height2=uda3[2][:,1]\n",
    "height3=uda3[2][:,2]\n",
    "height4=uda3[2][:,3]\n",
    "data = [height1, height2,height3,height4]\n",
    "\n",
    "x = np.arange(len(height1))\n",
    "\n",
    "labels = [\"01\", \"02\", \"03\", \"12\",\"13\",\"23\"]\n",
    "# マージンを設定\n",
    "margin = 0.2  #0 <margin< 1\n",
    "totoal_width = 1 - margin\n",
    " \n",
    "# 棒グラフをプロット\n",
    "for i, h in enumerate(data):\n",
    "  pos = x - totoal_width *( 1- (2*i+1)/len(data) )/2\n",
    "  plt.bar(pos, h, width = totoal_width/len(data))\n",
    " \n",
    "# ラベルの設定\n",
    "plt.xticks(x, labels)\n",
    "plt.legend((p1[0], p2[0],p3[0], p4[0]), (\"Class 1\", \"Class 2\",\"Class 3\", \"Class 4\"), loc=4)\n",
    "\"\"\""
   ]
  },
  {
   "cell_type": "markdown",
   "metadata": {
    "id": "EYnfE0Vbcft0"
   },
   "source": [
    "第一因子は03、13,第二因子は12,第三因子は23,02、第四因子は01が大事となっている。"
   ]
  },
  {
   "cell_type": "markdown",
   "metadata": {
    "id": "l0Pjns7GdEqY"
   },
   "source": [
    "この後は空間の方も見て、コアテンソルと比較しながらどこが大事か見て、一個前のテンソルに戻り、次に時間軸と空間軸を見ながら、元データに戻り、分析する必要がある。"
   ]
  },
  {
   "cell_type": "markdown",
   "metadata": {
    "id": "ZtFHTnnpWlls"
   },
   "source": [
    "できるだけ絞るために一個前に戻った際に時間軸のデータを削減し、よりはっきりと違いがわかる部分を探し当てる必要がある。"
   ]
  },
  {
   "cell_type": "markdown",
   "metadata": {
    "id": "FWJtBitfZbwz"
   },
   "source": [
    "差をとった軸は第一因子は03、13,第二因子は12,第三因子は23,02、第四因子は01\n",
    "\n",
    "因子の軸、第一因子は2,第二因子は3、第三因子は4、第四因子は1\n",
    "\n",
    "空間軸は第一因子は２７３ 第二因子は551、第３因子565、第４因子410となっている。\n",
    "\n",
    "コアテンソルは000,122,011　軸順は1番目空間軸、2番目因子軸、3番目差軸\n",
    "\n"
   ]
  },
  {
   "cell_type": "markdown",
   "metadata": {
    "id": "2ypinXFjdJLi"
   },
   "source": [
    "よって上より空間軸273、因子2の差03にとても大きな差がある。\n",
    "次は、テンソル０、3のテンソル分解を行なって差だけでなく、範囲を縮めていく"
   ]
  },
  {
   "cell_type": "code",
   "execution_count": 48,
   "metadata": {},
   "outputs": [],
   "source": [
    "mem=[]\n",
    "for i in range(0,rl1):\n",
    "  for j in range(0,rl2):\n",
    "    for k in range(0,rl3):\n",
    "      mem.append(str(i)+str(j)+str(k))\n"
   ]
  },
  {
   "cell_type": "code",
   "execution_count": 49,
   "metadata": {},
   "outputs": [
    {
     "name": "stdout",
     "output_type": "stream",
     "text": [
      "64\n",
      "<class 'str'>\n"
     ]
    }
   ],
   "source": [
    "print(len(mem))\n",
    "print(type(mem[1]))"
   ]
  },
  {
   "cell_type": "code",
   "execution_count": 50,
   "metadata": {},
   "outputs": [
    {
     "name": "stdout",
     "output_type": "stream",
     "text": [
      "(864, 4)\n"
     ]
    }
   ],
   "source": [
    "print(b1[1].shape)"
   ]
  },
  {
   "cell_type": "markdown",
   "metadata": {},
   "source": [
    "上のプログラム後は、実データの方の可視化を行う、できれば、範囲を指定して、ヒートマップも載せる\n",
    "ヒートマップは要らないから、どちらかと言ったら先に、表示した二つのテンソルから重要な事が起きている部分を探索できるように選択した部分のデータ化が必要な気がする。"
   ]
  },
  {
   "cell_type": "markdown",
   "metadata": {},
   "source": [
    "上のボケからデータで比べたいところ、をゲットしたのでそこのヒートマッププロット、元データに戻っての折れ線プロットまでしたい。"
   ]
  },
  {
   "cell_type": "code",
   "execution_count": 51,
   "metadata": {},
   "outputs": [
    {
     "name": "stderr",
     "output_type": "stream",
     "text": [
      "BokehUserWarning: ColumnDataSource's columns must be of the same length. Current lengths: ('x', 3), ('y', 0)\n",
      "BokehUserWarning: ColumnDataSource's columns must be of the same length. Current lengths: ('x', 3), ('y', 0)\n",
      "BokehUserWarning: ColumnDataSource's columns must be of the same length. Current lengths: ('x', 3), ('y', 0)\n",
      "BokehUserWarning: ColumnDataSource's columns must be of the same length. Current lengths: ('x', 64), ('y', 0)\n",
      "BokehUserWarning: ColumnDataSource's columns must be of the same length. Current lengths: ('x', 864), ('y', 0)\n",
      "BokehUserWarning: ColumnDataSource's columns must be of the same length. Current lengths: ('x', 4), ('y', 0)\n",
      "BokehUserWarning: ColumnDataSource's columns must be of the same length. Current lengths: ('x', 864), ('y', 0)\n",
      "BokehUserWarning: ColumnDataSource's columns must be of the same length. Current lengths: ('x', 4), ('y', 0)\n",
      "BokehUserWarning: ColumnDataSource's columns must be of the same length. Current lengths: ('x', 864), ('y', 0)\n",
      "BokehUserWarning: ColumnDataSource's columns must be of the same length. Current lengths: ('x', 4), ('y', 0)\n"
     ]
    }
   ],
   "source": [
    "import numpy as np\n",
    "\n",
    "from bokeh.layouts import column, row\n",
    "from bokeh.models import ColumnDataSource, CustomJS, Slider, Select, HoverTool\n",
    "from bokeh.plotting import figure, show\n",
    "from bokeh.layouts import gridplot\n",
    "\n",
    "TOOLS = \"box_select,help,reset\"\n",
    "\n",
    "\n",
    "\n",
    "\n",
    "u4=range(6)\n",
    "source4 = ColumnDataSource(data={'0' : a1[:,0],'1' : a2[:,0],'2' : a3[:,0],'3' : a4[:,0],'4' : a5[:,0],'5' : a6[:,0],'6' : a1[:,1],'7' : a2[:,1],'8' : a3[:,1],'9' : a4[:,1],'10' : a5[:,1],'11' : a6[:,1],'12' : a1[:,2],'13' : a2[:,2],'14' : a3[:,2],'15' : a4[:,2],'16' : a5[:,2],'17' : a6[:,2],'18' : a1[:,3],'19' : a2[:,3],'20' : a3[:,3],'21' : a4[:,3],'22' : a5[:,3],'23' : a6[:,3]})\n",
    "\n",
    "source5 = ColumnDataSource(data={'0' : c1,'1' : c2,'2' : c3,'3' : c4})\n",
    "\n",
    "#u6=range(len(b0[0][:,0]))\n",
    "source60 = ColumnDataSource(data={'0' : b0[0][:,0],'1' : b0[0][:,1],'2' : b0[0][:,2],'3' : b0[0][:,3]})\n",
    "source61 = ColumnDataSource(data={'0' : b1[0][:,0],'1' : b1[0][:,1],'2' : b1[0][:,2],'3' : b1[0][:,3]})\n",
    "source62 = ColumnDataSource(data={'0' : b2[0][:,0],'1' : b2[0][:,1],'2' : b2[0][:,2],'3' : b2[0][:,3]})\n",
    "source63 = ColumnDataSource(data={'0' : b3[0][:,0],'1' : b3[0][:,1],'2' : b3[0][:,2],'3' : b3[0][:,3]})\n",
    "\n",
    "\n",
    "u7=range(len(b0[1][:,0]))\n",
    "source70 = ColumnDataSource(data={'0' : b0[1][:,0],'1' : b0[1][:,1],'2' : b0[1][:,2],'3' : b0[1][:,3]})\n",
    "source71 = ColumnDataSource(data={'0' : b1[1][:,0],'1' : b1[1][:,1],'2' : b1[1][:,2],'3' : b1[1][:,3]})\n",
    "source72 = ColumnDataSource(data={'0' : b2[1][:,0],'1' : b2[1][:,1],'2' : b2[1][:,2],'3' : b2[1][:,3]})\n",
    "source73 = ColumnDataSource(data={'0' : b3[1][:,0],'1' : b3[1][:,1],'2' : b3[1][:,2],'3' : b3[1][:,3]})\n",
    "\n",
    "u8=range(len(b0[2][:,0]))\n",
    "source80 = ColumnDataSource(data={'0' : b0[2][:,0],'1' : b0[2][:,1],'2' : b0[2][:,2],'3' : b0[2][:,3]})\n",
    "source81 = ColumnDataSource(data={'0' : b1[2][:,0],'1' : b1[2][:,1],'2' : b1[2][:,2],'3' : b1[2][:,3]})\n",
    "source82 = ColumnDataSource(data={'0' : b2[2][:,0],'1' : b2[2][:,1],'2' : b2[2][:,2],'3' : b2[2][:,3]})\n",
    "source83 = ColumnDataSource(data={'0' : b3[2][:,0],'1' : b3[2][:,1],'2' : b3[2][:,2],'3' : b3[2][:,3]})\n",
    "\n",
    "\n",
    "\n",
    "\n",
    "l1=range(len(tensor_0[0,:,0]))\n",
    "d1 = {str(s): tensor_0[:,s,0] for s in l1}\n",
    "sourceT1=ColumnDataSource(data=d1)\n",
    "\n",
    "d2 = {str(s): tensor_1[:,s,0] for s in l1}\n",
    "sourceT2=ColumnDataSource(data=d2)\n",
    "\n",
    "d3 = {str(s): tensor_2[:,s,0] for s in l1}\n",
    "sourceT3=ColumnDataSource(data=d3)\n",
    "\n",
    "d4 = {str(s): tensor_all[:,s,0] for s in l1}\n",
    "sourceT4=ColumnDataSource(data=d4)\n",
    "\n",
    "\n",
    "s1 = ColumnDataSource(data=dict(x=u1, y=[]))\n",
    "p1 = figure(width=400, height=400,title=\"core1\", tools=TOOLS)\n",
    "p1.vbar(x='x', top='y', source=s1, alpha=0.6)\n",
    "\n",
    "\n",
    "\n",
    "s2 = ColumnDataSource(data=dict(x=u2, y=[]))\n",
    "p2 = figure(width=400, height=400,title=\"core2\", tools=TOOLS)\n",
    "p2.vbar('x', 1,'y', source=s2, alpha=0.6)\n",
    "\n",
    "s3 = ColumnDataSource(data=dict(x=u3, y=[]))\n",
    "p3 = figure(width=400, height=400, title=\"core3\", tools=TOOLS)\n",
    "p3.vbar('x',1, 'y', source=s3, alpha=0.6)\n",
    "\n",
    "v4=np.zeros(len(u4))\n",
    "s4 = ColumnDataSource(data=dict(x=u4, y=v4))\n",
    "p4 = figure(width=200, height=300, title=\"Difference\", tools=TOOLS)\n",
    "p4.vbar('x',1,'y', source=s4,color=\"#808080\")\n",
    "\n",
    "p4.toolbar.logo = None\n",
    "p4.toolbar_location = None\n",
    "\n",
    "s7 = ColumnDataSource(data=dict(x=mem, y=c1))\n",
    "p5 = figure(x_range=mem,width=1200, height=300, title=\"MainCore\", tools=TOOLS,\n",
    "              background_fill_color=\"#fafafa\")\n",
    "p5.vbar('x',1, 'y', source=s7,color=\"#696969\")\n",
    "\n",
    "p5.toolbar.logo = None\n",
    "p5.toolbar_location = None\n",
    "\n",
    "hover_tool = HoverTool(\n",
    "    tooltips=[\n",
    "        (\"name\", '@x')\n",
    "    ],\n",
    "    formatters={\n",
    "        \"time\": \"datetime\",\n",
    "\n",
    "    },\n",
    "    mode='vline'\n",
    ")\n",
    "\n",
    "p5.tools.append(hover_tool)\n",
    "\n",
    "s8 = ColumnDataSource(data=dict(x=mem, y=[]))\n",
    "p6 = figure(x_range=mem,width=1000, height=400, title=\"core\", tools=TOOLS,\n",
    "              background_fill_color=\"#fafafa\")\n",
    "p6.vbar('x',1, 'y', source=s8)\n",
    "    \n",
    "s5 = ColumnDataSource(data=dict(x=[], y=[]))\n",
    "s5.data[\"x\"].append(0)\n",
    "s6 = ColumnDataSource(data=dict(x=[], y=[]))\n",
    "s6.data[\"x\"].append(0)\n",
    "\n",
    "s5inds = ColumnDataSource(data=dict(x=[], y=[]))\n",
    "s5inds.data[\"x\"].append(0)\n",
    "\n",
    "s9 = ColumnDataSource(data=dict(x=[], y=[]))\n",
    "p9 = figure(width=200, height=150,title=\"FirstTensorTime\", tools=TOOLS)\n",
    "p9.vbar('x',1, 'y', source=s9,color=\"#517fe6\")\n",
    "\n",
    "p9.tools.append(hover_tool)\n",
    "\n",
    "p9.toolbar.logo = None\n",
    "p9.toolbar_location = None\n",
    "\n",
    "s10 = ColumnDataSource(data=dict(x=u7, y=[]))\n",
    "p10 = figure(width=300, height=150,title=\"FirstTensorSpace\", tools=TOOLS)\n",
    "p10.vbar('x', 1,'y', source=s10,color=\"#93dc6f\")\n",
    "\n",
    "p10.tools.append(hover_tool)\n",
    "\n",
    "p10.toolbar.logo = None\n",
    "p10.toolbar_location = None\n",
    "\n",
    "s11 = ColumnDataSource(data=dict(x=u8, y=[]))\n",
    "p11 = figure(width=200, height=150, title=\"FirstTensorMeasure\", tools=TOOLS)\n",
    "p11.vbar('x',1, 'y', source=s11,color=\"#f4949f\")\n",
    "\n",
    "p11.tools.append(hover_tool)\n",
    "\n",
    "p11.toolbar.logo = None\n",
    "p11.toolbar_location = None\n",
    "\n",
    "s12 = ColumnDataSource(data=dict(x=[], y=[]))\n",
    "p12 = figure(width=200, height=150,title=\"SecondTensorTime\", tools=TOOLS)\n",
    "p12.vbar('x',1,'y', source=s12,color=\"#517fe6\")\n",
    "\n",
    "p12.tools.append(hover_tool)\n",
    "\n",
    "\n",
    "p12.toolbar.logo = None\n",
    "p12.toolbar_location = None\n",
    "\n",
    "s13 = ColumnDataSource(data=dict(x=u7, y=[]))\n",
    "p13 = figure(width=300, height=150,title=\"SecondTensorSpace\", tools=TOOLS)\n",
    "p13.vbar('x', 1,'y', source=s13,color=\"#93dc6f\")\n",
    "\n",
    "p13.tools.append(hover_tool)\n",
    "\n",
    "p13.toolbar.logo = None\n",
    "p13.toolbar_location = None\n",
    "\n",
    "s14 = ColumnDataSource(data=dict(x=u8, y=[]))\n",
    "p14 = figure(width=200, height=150, title=\"SecondTensorMeasure\", tools=TOOLS,background_fill_color=\"#fafafa\")\n",
    "p14.vbar('x',1, 'y', source=s14,color=\"#f4949f\")\n",
    "\n",
    "p14.tools.append(hover_tool)\n",
    "\n",
    "p14.toolbar.logo = None\n",
    "p14.toolbar_location = None\n",
    "\n",
    "sdt = ColumnDataSource(data=dict(x=[], y=[]))\n",
    "pdt = figure(width=200, height=300,title=\"DifferenceTensorTime\", tools=TOOLS)\n",
    "pdt.vbar('x',1,'y', source=sdt,color=\"#1845aa\")\n",
    "\n",
    "pdt.tools.append(hover_tool)\n",
    "\n",
    "pdt.toolbar.logo = None\n",
    "pdt.toolbar_location = None\n",
    "\n",
    "sds = ColumnDataSource(data=dict(x=u7, y=[]))\n",
    "pds = figure(width=300, height=300,title=\"DifferenceTensorSpace\", tools=TOOLS)\n",
    "pds.vbar('x', 1,'y', source=sds,color=\"#53a22a\")\n",
    "\n",
    "pds.tools.append(hover_tool)\n",
    "pds.toolbar.logo = None\n",
    "pds.toolbar_location = None\n",
    "\n",
    "sdm = ColumnDataSource(data=dict(x=u8, y=[]))\n",
    "pdm = figure(width=200, height=300, title=\"DifferenceTensorMeasure\", tools=TOOLS)\n",
    "pdm.vbar('x',1, 'y', source=sdm,color=\"#f25a6b\")\n",
    "\n",
    "pdm.tools.append(hover_tool)\n",
    "\n",
    "pdm.toolbar.logo = None\n",
    "pdm.toolbar_location = None\n",
    "\n",
    "s15=ColumnDataSource(data=dict(time=[], space=[],measure=[]))\n",
    "\n",
    "s16=ColumnDataSource(data=dict(time=[], space=[],measure=[]))\n",
    "    \n",
    "s9.selected.js_on_change('indices', CustomJS(args=dict(s=s9,s1=s15), code=\"\"\"\n",
    "        const inds = s.selected.indices;\n",
    "        const d12 = s1.data;\n",
    "        \n",
    "        d12['time'] = [];\n",
    "        for (let i = 0; i < inds.length; i++) {\n",
    "            d12['time'].push(inds[i]);\n",
    "        }\n",
    "        console.log(s1.data['time'])\n",
    "        s1.change.emit();\n",
    "\n",
    "\"\"\"))\n",
    "\n",
    "\n",
    "\n",
    "s10.selected.js_on_change('indices', CustomJS(args=dict(s=s10,s1=s15), code=\"\"\"\n",
    "        const inds = s.selected.indices;\n",
    "        const d12 = s1.data;\n",
    "        \n",
    "        d12['space'] = [];\n",
    "        for (let i = 0; i < inds.length; i++) {\n",
    "            d12['space'].push(inds[i]);\n",
    "        }\n",
    "        console.log(s1.data['space'])\n",
    "        s1.change.emit();\n",
    "\n",
    "\"\"\"))\n",
    "\n",
    "s11.selected.js_on_change('indices', CustomJS(args=dict(s=s11,s1=s15), code=\"\"\"\n",
    "        const inds = s.selected.indices;\n",
    "        const d12 = s1.data;\n",
    "        \n",
    "        d12['measure'] = [];\n",
    "        for (let i = 0; i < inds.length; i++) {\n",
    "            d12['measure'].push(inds[i]);\n",
    "        }\n",
    "        console.log(s1.data['measure'])\n",
    "        s1.change.emit();\n",
    "\n",
    "\"\"\"))\n",
    "\n",
    "s12.selected.js_on_change('indices', CustomJS(args=dict(s=s12,s1=s16), code=\"\"\"\n",
    "        const inds = s.selected.indices;\n",
    "        const d12 = s1.data;\n",
    "        \n",
    "        d12['time'] = [];\n",
    "        for (let i = 0; i < inds.length; i++) {\n",
    "            d12['time'].push(inds[i]);\n",
    "        }\n",
    "        console.log(s1.data['time'])\n",
    "        s1.change.emit();\n",
    "\n",
    "\"\"\"))\n",
    "\n",
    "s13.selected.js_on_change('indices', CustomJS(args=dict(s=s13,s1=s16), code=\"\"\"\n",
    "        const inds = s.selected.indices;\n",
    "        const d12 = s1.data;\n",
    "        \n",
    "        d12['space'] = [];\n",
    "        for (let i = 0; i < inds.length; i++) {\n",
    "            d12['space'].push(inds[i]);\n",
    "        }\n",
    "        console.log(s1.data['space'])\n",
    "        s1.change.emit();\n",
    "\n",
    "\"\"\"))\n",
    "\n",
    "s14.selected.js_on_change('indices', CustomJS(args=dict(s=s14,s1=s16), code=\"\"\"\n",
    "        const inds = s.selected.indices;\n",
    "        const d12 = s1.data;\n",
    "        \n",
    "        d12['measure'] = [];\n",
    "        for (let i = 0; i < inds.length; i++) {\n",
    "            d12['measure'].push(inds[i]);\n",
    "        }\n",
    "        console.log(s1.data['measure'])\n",
    "        s1.change.emit();\n",
    "\n",
    "\"\"\"))\n",
    "\n",
    "sdt.selected.js_on_change('indices', CustomJS(args=dict(s=sdt), code=\"\"\"\n",
    "        const inds = s.selected.indices;\n",
    "\n",
    "        console.log(inds);\n",
    "\n",
    "\"\"\"))\n",
    "\n",
    "sds.selected.js_on_change('indices', CustomJS(args=dict(s=sds), code=\"\"\"\n",
    "        const inds = s.selected.indices;\n",
    "\n",
    "        console.log(inds);\n",
    "\n",
    "\"\"\"))\n",
    "\n",
    "sdm.selected.js_on_change('indices', CustomJS(args=dict(s=sdm), code=\"\"\"\n",
    "        const inds = s.selected.indices;\n",
    "\n",
    "        console.log(inds);\n",
    "\n",
    "\"\"\"))\n",
    "\n",
    "\n",
    "s7.selected.js_on_change('indices', CustomJS(args=dict(s=s7,s5inds=s5inds,s4=s4,source4=source4,m=mem,s1=s9,source60=source60,source61=source61,source62=source62,source63=source63,s2=s10,source70=source70,source71=source71,source72=source72,source73=source73,s3=s11,source80=source80,source81=source81,source82=source82,source83=source83,s5=s5,sds=sds,sdt=sdt,sdm=sdm), code=\"\"\"\n",
    "        const inds = s.selected.indices;\n",
    "        const S5inds=s5inds.data;\n",
    "        S5inds[\"x\"][0]=inds[0];\n",
    "        s5inds.change.emit();\n",
    "        const d = s.data;\n",
    "        console.log(parseInt(Number(m[inds[0]])/100));\n",
    "        console.log(parseInt((Number(m[inds[0]])/10)%10));\n",
    "        console.log(Number(m[inds[0]])%10);\n",
    "        \n",
    "        const A1=parseInt(Number(m[inds[0]])/100);\n",
    "        const d60 = source60.data;\n",
    "        const d61 = source61.data;\n",
    "        const d62 = source62.data;\n",
    "        const d63 = source63.data;\n",
    "        \n",
    "        const d12 = s1.data;\n",
    "        d12['x']=[];\n",
    "        d12['y'] = [];\n",
    "        \n",
    "        \n",
    "        const ddt = sdt.data;\n",
    "        ddt['x']=[];\n",
    "        ddt['y'] = [];\n",
    "        \n",
    "        \n",
    "        const A2=parseInt((Number(m[inds[0]])/10)%10);\n",
    "        const d70 = source70.data;\n",
    "        const d71 = source71.data;\n",
    "        const d72 = source72.data;\n",
    "        const d73 = source73.data;\n",
    "\n",
    "        const d22 = s2.data;\n",
    "        d22['y'] = [];\n",
    "        \n",
    "        const dds = sds.data;\n",
    "        dds['y'] = [];\n",
    "        \n",
    "        const A3=parseInt(Number(m[inds[0]])%10);\n",
    "        const d80 = source80.data;\n",
    "        const d81 = source81.data;\n",
    "        const d82 = source82.data;\n",
    "        const d83 = source83.data;\n",
    "        \n",
    "        const d32 = s3.data;\n",
    "        d32['y'] = [];\n",
    "        \n",
    "        const ddm = sdm.data;\n",
    "        ddm['y'] = [];\n",
    "        \n",
    "        let q=0;\n",
    "        let r=0;\n",
    "        \n",
    "        const S5=s5.data;\n",
    "        console.log(S5['x'][0]);\n",
    "        switch(S5['x'][0]){\n",
    "            case 0:\n",
    "                q=0;\n",
    "                r=1;\n",
    "                console.log(S5['x'][0]);\n",
    "                for (let i = 0; i < d60[A1].length; i++) {\n",
    "                    d12['x'].push(i);\n",
    "                    d12['y'].push(d60[A1][i]);\n",
    "                }\n",
    "                for (let i = 0; i < d22['x'].length; i++) {\n",
    "                    d22['y'].push(d70[A2][i]);\n",
    "                }\n",
    "                for (let i = 0; i < d32['x'].length; i++) {\n",
    "                    d32['y'].push(d80[A3][i]);\n",
    "                }\n",
    "                for (let i = 0; i < Math.min(d60[A1].length,d61[A1].length); i++) {\n",
    "                    ddt['x'].push(i);\n",
    "                    ddt['y'].push(d60[A1][i]-d61[A1][i]);\n",
    "                }\n",
    "                for (let i = 0; i < dds['x'].length; i++) {\n",
    "                    dds['y'].push(d70[A2][i]-d71[A2][i]);\n",
    "                }\n",
    "                for (let i = 0; i < ddm['x'].length; i++) {\n",
    "                    ddm['y'].push(d80[A3][i]-d81[A3][i]);\n",
    "                }\n",
    "                break;\n",
    "            case 1:\n",
    "                q=0;\n",
    "                r=2;\n",
    "                for (let i = 0; i < d60[A1].length; i++) {\n",
    "                    d12['x'].push(i);\n",
    "                    d12['y'].push(d60[A1][i]);\n",
    "                }\n",
    "                for (let i = 0; i < d22['x'].length; i++) {\n",
    "                    d22['y'].push(d70[A2][i]);\n",
    "                }\n",
    "                for (let i = 0; i < d32['x'].length; i++) {\n",
    "                    d32['y'].push(d80[A3][i]);\n",
    "                }\n",
    "                for (let i = 0; i < Math.min(d60[A1].length,d62[A1].length); i++) {\n",
    "                    ddt['x'].push(i);\n",
    "                    ddt['y'].push(d60[A1][i]-d62[A1][i]);\n",
    "                }\n",
    "                for (let i = 0; i < dds['x'].length; i++) {\n",
    "                    dds['y'].push(d70[A2][i]-d72[A2][i]);\n",
    "                }\n",
    "                for (let i = 0; i < ddm['x'].length; i++) {\n",
    "                    ddm['y'].push(d80[A3][i]-d82[A3][i]);\n",
    "                }\n",
    "                break;\n",
    "            case 2:\n",
    "                q=0;\n",
    "                r=3;\n",
    "                for (let i = 0; i < d60[A1].length; i++) {\n",
    "                    d12['x'].push(i);\n",
    "                    d12['y'].push(d60[A1][i]);\n",
    "                }\n",
    "                for (let i = 0; i < d22['x'].length; i++) {\n",
    "                    d22['y'].push(d70[A2][i]);\n",
    "                }\n",
    "                for (let i = 0; i < d32['x'].length; i++) {\n",
    "                    d32['y'].push(d80[A3][i]);\n",
    "                }\n",
    "                for (let i = 0; i < Math.min(d60[A1].length,d63[A1].length); i++) {\n",
    "                    ddt['x'].push(i);\n",
    "                    ddt['y'].push(d60[A1][i]-d63[A1][i]);\n",
    "                }\n",
    "                for (let i = 0; i < dds['x'].length; i++) {\n",
    "                    dds['y'].push(d70[A2][i]-d73[A2][i]);\n",
    "                }\n",
    "                for (let i = 0; i < ddm['x'].length; i++) {\n",
    "                    ddm['y'].push(d80[A3][i]-d83[A3][i]);\n",
    "                }\n",
    "                break;\n",
    "            case 3:\n",
    "                q=1;\n",
    "                r=2;\n",
    "                for (let i = 0; i < d61[A1].length; i++) {\n",
    "                    d12['x'].push(i);\n",
    "                    d12['y'].push(d61[A1][i]);\n",
    "                }\n",
    "                for (let i = 0; i < d22['x'].length; i++) {\n",
    "                    d22['y'].push(d71[A2][i]);\n",
    "                }\n",
    "                for (let i = 0; i < d32['x'].length; i++) {\n",
    "                    d32['y'].push(d81[A3][i]);\n",
    "                }\n",
    "                for (let i = 0; i < Math.min(d61[A1].length,d62[A1].length); i++) {\n",
    "                    ddt['x'].push(i);\n",
    "                    ddt['y'].push(d61[A1][i]-d62[A1][i]);\n",
    "                }\n",
    "                for (let i = 0; i < dds['x'].length; i++) {\n",
    "                    dds['y'].push(d71[A2][i]-d72[A2][i]);\n",
    "                }\n",
    "                for (let i = 0; i < ddm['x'].length; i++) {\n",
    "                    ddm['y'].push(d81[A3][i]-d82[A3][i]);\n",
    "                }\n",
    "                break;\n",
    "            case 4:\n",
    "                q=1;\n",
    "                r=3;\n",
    "                for (let i = 0; i < d61[A1].length; i++) {\n",
    "                    d12['x'].push(i);\n",
    "                    d12['y'].push(d61[A1][i]);\n",
    "                }\n",
    "                for (let i = 0; i < d22['x'].length; i++) {\n",
    "                    d22['y'].push(d71[A2][i]);\n",
    "                }\n",
    "                for (let i = 0; i < d32['x'].length; i++) {\n",
    "                    d32['y'].push(d81[A3][i]);\n",
    "                }\n",
    "                for (let i = 0; i < Math.min(d61[A1].length,d63[A1].length); i++) {\n",
    "                    ddt['x'].push(i);\n",
    "                    ddt['y'].push(d61[A1][i]-d63[A1][i]);\n",
    "                }\n",
    "                for (let i = 0; i < dds['x'].length; i++) {\n",
    "                    dds['y'].push(d71[A2][i]-d73[A2][i]);\n",
    "                }\n",
    "                for (let i = 0; i < ddm['x'].length; i++) {\n",
    "                    ddm['y'].push(d81[A3][i]-d83[A3][i]);\n",
    "                }\n",
    "                break;\n",
    "            case 5:\n",
    "                q=2;\n",
    "                r=3;\n",
    "                for (let i = 0; i < d62[A1].length; i++) {\n",
    "                    d12['x'].push(i);\n",
    "                    d12['y'].push(d62[A1][i]);\n",
    "                }\n",
    "                for (let i = 0; i < d22['x'].length; i++) {\n",
    "                    d22['y'].push(d72[A2][i]);\n",
    "                }\n",
    "                for (let i = 0; i < d32['x'].length; i++) {\n",
    "                    d32['y'].push(d82[A3][i]);\n",
    "                }\n",
    "                for (let i = 0; i < Math.min(d62[A1].length,d63[A1].length); i++) {\n",
    "                    ddt['x'].push(i);\n",
    "                    ddt['y'].push(d62[A1][i]-d63[A1][i]);\n",
    "                }\n",
    "                for (let i = 0; i < dds['x'].length; i++) {\n",
    "                    dds['y'].push(d72[A2][i]-d73[A2][i]);\n",
    "                }\n",
    "                for (let i = 0; i < ddm['x'].length; i++) {\n",
    "                    ddm['y'].push(d82[A3][i]-d83[A3][i]);\n",
    "                }\n",
    "                break;\n",
    "            default:\n",
    "                console.log('hi');\n",
    "                break;\n",
    "                   \n",
    "        }\n",
    "\n",
    "        s1.change.emit();\n",
    "        s2.change.emit();\n",
    "        s3.change.emit();\n",
    "        sds.change.emit();\n",
    "        sdt.change.emit();\n",
    "        sdm.change.emit();\n",
    "        \n",
    "        const d41=source4.data;\n",
    "        const d42=s4.data;\n",
    "        d42['y'][0]=0;\n",
    "        d42['y'][1]=0;\n",
    "        d42['y'][2]=0;\n",
    "        d42['y'][3]=0;\n",
    "        d42['y'][4]=0;\n",
    "        d42['y'][5]=0;\n",
    "        const p=6*A2;\n",
    "        for (let i = 0; i < d41[p].length; i++) {\n",
    "            d42['y'][0]=d42['y'][0]+d41[p][i]*d41[p][i];\n",
    "            d42['y'][1]=d42['y'][1]+d41[p+1][i]*d41[p+1][i];\n",
    "            d42['y'][2]=d42['y'][2]+d41[p+2][i]*d41[p+2][i];\n",
    "            d42['y'][3]=d42['y'][3]+d41[p+3][i]*d41[p+3][i];\n",
    "            d42['y'][4]=d42['y'][4]+d41[p+4][i]*d41[p+4][i];\n",
    "            d42['y'][5]=d42['y'][5]+d41[p+5][i]*d41[p+5][i];\n",
    "            \n",
    "        }\n",
    "        Math.sqrt(d42['y'][0]);\n",
    "        Math.sqrt(d42['y'][1]);\n",
    "        Math.sqrt(d42['y'][2]);\n",
    "        Math.sqrt(d42['y'][3]);\n",
    "        Math.sqrt(d42['y'][4]);\n",
    "        Math.sqrt(d42['y'][5]);\n",
    "        s4.change.emit();\n",
    "\n",
    "\n",
    "\n",
    "\"\"\"))\n",
    "\n",
    "s7.selected.js_on_change('indices', CustomJS(args=dict(s=s7,m=mem,s1=s12,source60=source60,source61=source61,source62=source62,source63=source63,s2=s13,source70=source70,source71=source71,source72=source72,source73=source73,s3=s14,source80=source80,source81=source81,source82=source82,source83=source83,s5=s5), code=\"\"\"\n",
    "        const inds = s.selected.indices;\n",
    "        const d = s.data;\n",
    "        console.log(parseInt(Number(m[inds[0]])/100));\n",
    "        console.log(parseInt((Number(m[inds[0]])/10)%10));\n",
    "        console.log(Number(m[inds[0]])%10);\n",
    "        \n",
    "        const A1=parseInt(Number(m[inds[0]])/100);\n",
    "        const d60 = source60.data;\n",
    "        const d61 = source61.data;\n",
    "        const d62 = source62.data;\n",
    "        const d63 = source63.data;\n",
    "        \n",
    "        const d12 = s1.data;\n",
    "        d12['x']=[];\n",
    "        d12['y'] = [];\n",
    "        \n",
    "        \n",
    "        \n",
    "        \n",
    "        \n",
    "        const A2=parseInt((Number(m[inds[0]])/10)%10);\n",
    "        const d70 = source70.data;\n",
    "        const d71 = source71.data;\n",
    "        const d72 = source72.data;\n",
    "        const d73 = source73.data;\n",
    "\n",
    "        const d22 = s2.data;\n",
    "        d22['y'] = [];\n",
    "        \n",
    "        \n",
    "        \n",
    "        const A3=parseInt(Number(m[inds[0]])%10);\n",
    "        const d80 = source80.data;\n",
    "        const d81 = source81.data;\n",
    "        const d82 = source82.data;\n",
    "        const d83 = source83.data;\n",
    "        \n",
    "        const d32 = s3.data;\n",
    "        d32['y'] = [];\n",
    "        \n",
    "        let q=0;\n",
    "        let r=0;\n",
    "        \n",
    "        const S5=s5.data;\n",
    "        console.log(S5['x'][0]);\n",
    "        switch(S5['x'][0]){\n",
    "            case 0:\n",
    "                q=0;\n",
    "                r=1;\n",
    "                console.log(S5['x'][0]);\n",
    "                for (let i = 0; i < d61[A1].length; i++) {\n",
    "                    d12['x'].push(i);\n",
    "                    d12['y'].push(d61[A1][i]);\n",
    "                }\n",
    "                for (let i = 0; i < d22['x'].length; i++) {\n",
    "                    d22['y'].push(d71[A2][i]);\n",
    "                }\n",
    "                for (let i = 0; i < d32['x'].length; i++) {\n",
    "                    d32['y'].push(d81[A3][i]);\n",
    "                }\n",
    "                break;\n",
    "            case 1:\n",
    "                q=0;\n",
    "                r=2;\n",
    "                for (let i = 0; i < d62[A1].length; i++) {\n",
    "                    d12['x'].push(i);\n",
    "                    d12['y'].push(d62[A1][i]);\n",
    "                }\n",
    "                for (let i = 0; i < d22['x'].length; i++) {\n",
    "                    d22['y'].push(d72[A2][i]);\n",
    "                }\n",
    "                for (let i = 0; i < d32['x'].length; i++) {\n",
    "                    d32['y'].push(d82[A3][i]);\n",
    "                }\n",
    "                break;\n",
    "            case 2:\n",
    "                q=0;\n",
    "                r=3;\n",
    "                for (let i = 0; i < d63[A1].length; i++) {\n",
    "                    d12['x'].push(i);\n",
    "                    d12['y'].push(d63[A1][i]);\n",
    "                }\n",
    "                for (let i = 0; i < d22['x'].length; i++) {\n",
    "                    d22['y'].push(d73[A2][i]);\n",
    "                }\n",
    "                for (let i = 0; i < d32['x'].length; i++) {\n",
    "                    d32['y'].push(d83[A3][i]);\n",
    "                }\n",
    "                break;\n",
    "            case 3:\n",
    "                q=1;\n",
    "                r=2;\n",
    "                for (let i = 0; i < d62[A1].length; i++) {\n",
    "                    d12['x'].push(i);\n",
    "                    d12['y'].push(d62[A1][i]);\n",
    "                }\n",
    "                for (let i = 0; i < d22['x'].length; i++) {\n",
    "                    d22['y'].push(d72[A2][i]);\n",
    "                }\n",
    "                for (let i = 0; i < d32['x'].length; i++) {\n",
    "                    d32['y'].push(d82[A3][i]);\n",
    "                }\n",
    "                break;\n",
    "            case 4:\n",
    "                q=1;\n",
    "                r=3;\n",
    "                for (let i = 0; i < d63[A1].length; i++) {\n",
    "                    d12['x'].push(i);\n",
    "                    d12['y'].push(d63[A1][i]);\n",
    "                }\n",
    "                for (let i = 0; i < d22['x'].length; i++) {\n",
    "                    d22['y'].push(d73[A2][i]);\n",
    "                }\n",
    "                for (let i = 0; i < d32['x'].length; i++) {\n",
    "                    d32['y'].push(d83[A3][i]);\n",
    "                }\n",
    "                break;\n",
    "            case 5:\n",
    "                q=2;\n",
    "                r=3;\n",
    "                for (let i = 0; i < d63[A1].length; i++) {\n",
    "                    d12['x'].push(i);\n",
    "                    d12['y'].push(d63[A1][i]);\n",
    "                }\n",
    "                for (let i = 0; i < d22['x'].length; i++) {\n",
    "                    d22['y'].push(d73[A2][i]);\n",
    "                }\n",
    "                for (let i = 0; i < d32['x'].length; i++) {\n",
    "                    d32['y'].push(d83[A3][i]);\n",
    "                }\n",
    "                break;\n",
    "            default:\n",
    "                console.log('hi');\n",
    "                break;\n",
    "                   \n",
    "        }\n",
    "\n",
    "        s1.change.emit();\n",
    "        s2.change.emit();\n",
    "        s3.change.emit();\n",
    "        \n",
    "\n",
    "\n",
    "\n",
    "\"\"\"))\n",
    "\n",
    "s3.selected.js_on_change('indices', CustomJS(args=dict(s=s3,s4=s4,s5=s5,s6=s6,source4=source4,s7=s7,source5=source5,s8=s8), code=\"\"\"\n",
    "        const inds = s.selected.indices;\n",
    "        const d = s.data;\n",
    "        const S5=s5.data;\n",
    "        S5['x'][0]=inds[0];\n",
    "        const S6=s6.data;\n",
    "        const d41=source4.data;\n",
    "        const d42=s4.data;\n",
    "        const p=S5['x'][0]+6*S6['x'][0];\n",
    "        for (let i = 0; i < d42['x'].length; i++) {\n",
    "            if(d42['y'][i]>0){\n",
    "                d42['y'][i]=d41[p][i];\n",
    "            }\n",
    "        }\n",
    "        console.log(p);        \n",
    "        s5.change.emit();\n",
    "        s4.change.emit();\n",
    "        \n",
    "        const S7=s7.data;\n",
    "        const S8=s8.data;\n",
    "        const d5=source5.data;\n",
    "        const q=0;\n",
    "        const r=0;\n",
    "        \n",
    "        console.log(S5['x'][0]);\n",
    "        switch(S5['x'][0]){\n",
    "            case '0':\n",
    "                q=0;\n",
    "                r=1;\n",
    "                break;\n",
    "            case '1':\n",
    "                q=0;\n",
    "                r=2;\n",
    "                break;\n",
    "            case '2':\n",
    "                q=0;\n",
    "                r=3;\n",
    "                break;\n",
    "            case '3':\n",
    "                q=1;\n",
    "                r=2;\n",
    "                break;\n",
    "            case '4':\n",
    "                q=1;\n",
    "                r=3;\n",
    "                break;\n",
    "            case '5':\n",
    "                q=2;\n",
    "                r=3;\n",
    "                break;\n",
    "            default:\n",
    "                break;\n",
    "                   \n",
    "        }\n",
    "        \n",
    "        for (let i = 0; i < S7['x'].length; i++) {\n",
    "            S7['y'][i]=d5[q][i];\n",
    "            S8['y'][i]=d5[r][i];\n",
    "        }\n",
    "        s7.change.emit();\n",
    "        s8.change.emit();\n",
    "\n",
    "\"\"\"))\n",
    "\n",
    "s1.selected.js_on_change('indices', CustomJS(args=dict(s=s1,source4=source4,s4=s4,s5=s5,s6=s6), code=\"\"\"\n",
    "        const inds = s.selected.indices;\n",
    "        const d = s.data;\n",
    "        console.log(inds);\n",
    "        const d41=source4.data;\n",
    "        const d42=s4.data;\n",
    "        const S6=s6.data;\n",
    "        const S5=s5.data;\n",
    "        for (let i = 0; i < d42['x'].length; i++) {\n",
    "            d42['y'][i]=0;\n",
    "        }\n",
    "        const p=S5['x'][0]+6*S6['x'][0];\n",
    "        console.log(p);\n",
    "        for (let i = 0; i < inds.length; i++) {\n",
    "            d42['y'][inds[i]]=d41[p][inds[i]];\n",
    "            console.log(inds.length);\n",
    "        }\n",
    "        \n",
    "        console.log(d42['y']);\n",
    "        s4.change.emit();\n",
    "\"\"\"))\n",
    "s2.selected.js_on_change('indices', CustomJS(args=dict(s=s2,s4=s4,s5=s5,s6=s6,source4=source4), code=\"\"\"\n",
    "        const inds = s.selected.indices;\n",
    "        const d = s.data;\n",
    "        const S6=s6.data;\n",
    "        S6['x'][0]=inds[0];\n",
    "        const d41=source4.data;\n",
    "        const d42=s4.data;\n",
    "        const S5=s5.data;\n",
    "        const p=S5['x'][0]+6*S6['x'][0];\n",
    "        console.log(p);\n",
    "        for (let i = 0; i < d42['x'].length; i++) {\n",
    "            if(d42['y'][i]>0){\n",
    "                d42['y'][i]=d41[p][i];\n",
    "            }\n",
    "        }\n",
    "        console.log(S5['x'][0]);        \n",
    "        s4.change.emit();\n",
    "        s6.change.emit();\n",
    "        \n",
    "\"\"\"))\n",
    "\n",
    "s4.selected.js_on_change('indices', CustomJS(args=dict(s=s4,s5=s5,s5inds=s5inds,source4=source4,m=mem,s1=s9,source60=source60,source61=source61,source62=source62,source63=source63,s2=s10,source70=source70,source71=source71,source72=source72,source73=source73,s3=s11,source80=source80,source81=source81,source82=source82,source83=source83,sds=sds,sdm=sdm,sdt=sdt), code=\"\"\"\n",
    "\n",
    "        const in4 = s.selected.indices;\n",
    "        const S5=s5.data;\n",
    "        S5['x'][0]=in4[0];\n",
    "        s5.change.emit();\n",
    "        \n",
    "        const inds=s5inds.data;\n",
    "        const d = s.data;\n",
    "        console.log(parseInt(Number(m[inds['x'][0]])/100));\n",
    "        console.log(parseInt((Number(m[inds['x'][0]])/10)%10));\n",
    "        console.log(parseInt(Number(m[inds['x'][0]])%10));\n",
    "        \n",
    "        const A1=parseInt(Number(m[inds['x'][0]])/100);\n",
    "        const d60 = source60.data;\n",
    "        const d61 = source61.data;\n",
    "        const d62 = source62.data;\n",
    "        const d63 = source63.data;\n",
    "        \n",
    "        const d12 = s1.data;\n",
    "        d12['x']=[];\n",
    "        d12['y'] = [];\n",
    "        \n",
    "        const ddt = sdt.data;\n",
    "        ddt['x']=[];\n",
    "        ddt['y'] = [];\n",
    "        \n",
    "        \n",
    "        \n",
    "        const A2=parseInt((Number(m[inds['x'][0]])/10)%10);\n",
    "        const d70 = source70.data;\n",
    "        const d71 = source71.data;\n",
    "        const d72 = source72.data;\n",
    "        const d73 = source73.data;\n",
    "\n",
    "        const d22 = s2.data;\n",
    "        d22['y'] = [];\n",
    "        \n",
    "        const dds = sds.data;\n",
    "        dds['y'] = [];\n",
    "        \n",
    "        \n",
    "        \n",
    "        const A3=parseInt(Number(m[inds['x'][0]])%10);\n",
    "        const d80 = source80.data;\n",
    "        const d81 = source81.data;\n",
    "        const d82 = source82.data;\n",
    "        const d83 = source83.data;\n",
    "        \n",
    "        const d32 = s3.data;\n",
    "        d32['y'] = [];\n",
    "        \n",
    "        const ddm = sdm.data;\n",
    "        ddm['y'] = [];\n",
    "        \n",
    "        \n",
    "        let q=0;\n",
    "        let r=0;\n",
    "        \n",
    "        console.log(S5['x'][0]);\n",
    "        switch(S5['x'][0]){\n",
    "            case 0:\n",
    "                q=0;\n",
    "                r=1;\n",
    "                console.log(S5['x'][0]);\n",
    "                for (let i = 0; i < d60[A1].length; i++) {\n",
    "                    d12['x'].push(i);\n",
    "                    d12['y'].push(d60[A1][i]);\n",
    "                }\n",
    "                for (let i = 0; i < d22['x'].length; i++) {\n",
    "                    d22['y'].push(d70[A2][i]);\n",
    "                }\n",
    "                for (let i = 0; i < d32['x'].length; i++) {\n",
    "                    d32['y'].push(d80[A3][i]);\n",
    "                }\n",
    "                for (let i = 0; i < dds['x'].length; i++) {\n",
    "                    dds['y'].push(d70[A2][i]-d71[A2][i]);\n",
    "                }\n",
    "                for (let i = 0; i < Math.min(d60[A1].length,d61[A1].length); i++) {\n",
    "                    ddt['x'].push(i);\n",
    "                    ddt['y'].push(d60[A1][i]-d61[A1][i]);\n",
    "                }\n",
    "                for (let i = 0; i < ddm['x'].length; i++) {\n",
    "                    ddm['y'].push(d80[A3][i]-d81[A3][i]);\n",
    "                }\n",
    "                break;\n",
    "            case 1:\n",
    "                q=0;\n",
    "                r=2;\n",
    "                for (let i = 0; i < d60[A1].length; i++) {\n",
    "                    d12['x'].push(i);\n",
    "                    d12['y'].push(d60[A1][i]);\n",
    "                }\n",
    "                for (let i = 0; i < d22['x'].length; i++) {\n",
    "                    d22['y'].push(d70[A2][i]);\n",
    "                }\n",
    "                for (let i = 0; i < d32['x'].length; i++) {\n",
    "                    d32['y'].push(d80[A3][i]);\n",
    "                }\n",
    "                for (let i = 0; i < dds['x'].length; i++) {\n",
    "                    dds['y'].push(d70[A2][i]-d72[A2][i]);\n",
    "                }\n",
    "                for (let i = 0; i < Math.min(d60[A1].length,d62[A1].length); i++) {\n",
    "                    ddt['x'].push(i);\n",
    "                    ddt['y'].push(d60[A1][i]-d62[A1][i]);\n",
    "                }\n",
    "                for (let i = 0; i < ddm['x'].length; i++) {\n",
    "                    ddm['y'].push(d80[A3][i]-d82[A3][i]);\n",
    "                }\n",
    "                break;\n",
    "            case 2:\n",
    "                q=0;\n",
    "                r=3;\n",
    "                for (let i = 0; i < d60[A1].length; i++) {\n",
    "                    d12['x'].push(i);\n",
    "                    d12['y'].push(d60[A1][i]);\n",
    "                }\n",
    "                for (let i = 0; i < d22['x'].length; i++) {\n",
    "                    d22['y'].push(d70[A2][i]);\n",
    "                }\n",
    "                for (let i = 0; i < d32['x'].length; i++) {\n",
    "                    d32['y'].push(d80[A3][i]);\n",
    "                }\n",
    "                for (let i = 0; i < dds['x'].length; i++) {\n",
    "                    dds['y'].push(d70[A2][i]-d73[A2][i]);\n",
    "                }\n",
    "                for (let i = 0; i < Math.min(d60[A1].length,d63[A1].length); i++) {\n",
    "                    ddt['x'].push(i);\n",
    "                    ddt['y'].push(d60[A1][i]-d63[A1][i]);\n",
    "                }\n",
    "                \n",
    "                for (let i = 0; i < ddm['x'].length; i++) {\n",
    "                    ddm['y'].push(d80[A3][i]-d83[A3][i]);\n",
    "                }\n",
    "                break;\n",
    "            case 3:\n",
    "                q=1;\n",
    "                r=2;\n",
    "                for (let i = 0; i < d61[A1].length; i++) {\n",
    "                    d12['x'].push(i);\n",
    "                    d12['y'].push(d61[A1][i]);\n",
    "                }\n",
    "                for (let i = 0; i < d22['x'].length; i++) {\n",
    "                    d22['y'].push(d71[A2][i]);\n",
    "                }\n",
    "                for (let i = 0; i < d32['x'].length; i++) {\n",
    "                    d32['y'].push(d81[A3][i]);\n",
    "                }\n",
    "                for (let i = 0; i < dds['x'].length; i++) {\n",
    "                    dds['y'].push(d71[A2][i]-d72[A2][i]);\n",
    "                }\n",
    "                for (let i = 0; i < Math.min(d61[A1].length,d62[A1].length); i++) {\n",
    "                    ddt['x'].push(i);\n",
    "                    ddt['y'].push(d61[A1][i]-d62[A1][i]);\n",
    "                }\n",
    "                for (let i = 0; i < ddm['x'].length; i++) {\n",
    "                    ddm['y'].push(d81[A3][i]-d82[A3][i]);\n",
    "                }\n",
    "                break;\n",
    "            case 4:\n",
    "                q=1;\n",
    "                r=3;\n",
    "                for (let i = 0; i < d61[A1].length; i++) {\n",
    "                    d12['x'].push(i);\n",
    "                    d12['y'].push(d61[A1][i]);\n",
    "                }\n",
    "                for (let i = 0; i < d22['x'].length; i++) {\n",
    "                    d22['y'].push(d71[A2][i]);\n",
    "                }\n",
    "                for (let i = 0; i < d32['x'].length; i++) {\n",
    "                    d32['y'].push(d81[A3][i]);\n",
    "                }\n",
    "                for (let i = 0; i < dds['x'].length; i++) {\n",
    "                    dds['y'].push(d71[A2][i]-d73[A2][i]);\n",
    "                }\n",
    "                for (let i = 0; i < Math.min(d61[A1].length,d63[A1].length); i++) {\n",
    "                    ddt['x'].push(i);\n",
    "                    ddt['y'].push(d61[A1][i]-d63[A1][i]);\n",
    "                }\n",
    "                for (let i = 0; i < ddm['x'].length; i++) {\n",
    "                    ddm['y'].push(d81[A3][i]-d83[A3][i]);\n",
    "                }\n",
    "                break;\n",
    "            case 5:\n",
    "                q=2;\n",
    "                r=3;\n",
    "                for (let i = 0; i < d62[A1].length; i++) {\n",
    "                    d12['x'].push(i);\n",
    "                    d12['y'].push(d62[A1][i]);\n",
    "                }\n",
    "                for (let i = 0; i < d22['x'].length; i++) {\n",
    "                    d22['y'].push(d72[A2][i]);\n",
    "                }\n",
    "                for (let i = 0; i < d32['x'].length; i++) {\n",
    "                    d32['y'].push(d82[A3][i]);\n",
    "                }\n",
    "                for (let i = 0; i < dds['x'].length; i++) {\n",
    "                    dds['y'].push(d72[A2][i]-d73[A2][i]);\n",
    "                }\n",
    "                for (let i = 0; i < Math.min(d62[A1].length,d63[A1].length); i++) {\n",
    "                    ddt['x'].push(i);\n",
    "                    ddt['y'].push(d62[A1][i]-d63[A1][i]);\n",
    "                }\n",
    "                \n",
    "                for (let i = 0; i < ddm['x'].length; i++) {\n",
    "                    ddm['y'].push(d82[A3][i]-d83[A3][i]);\n",
    "                }\n",
    "                break;\n",
    "                \n",
    "            default:\n",
    "                console.log('hi');\n",
    "                break;\n",
    "                   \n",
    "        }\n",
    "\n",
    "        s1.change.emit();\n",
    "        s2.change.emit();\n",
    "        s3.change.emit();\n",
    "        \n",
    "        sds.change.emit();\n",
    "        sdt.change.emit();\n",
    "        sdm.change.emit();\n",
    "\"\"\"))\n",
    "\n",
    "s4.selected.js_on_change('indices', CustomJS(args=dict(s=s4,s5=s5,s5inds=s5inds,m=mem,s1=s12,source60=source60,source61=source61,source62=source62,source63=source63,s2=s13,source70=source70,source71=source71,source72=source72,source73=source73,s3=s14,source80=source80,source81=source81,source82=source82,source83=source83), code=\"\"\"\n",
    "        const in4 = s.selected.indices;\n",
    "        const S5=s5.data;\n",
    "        S5['x'][0]=in4[0];\n",
    "        s5.change.emit();\n",
    "        \n",
    "        const inds = s5inds.data;\n",
    "        const d = s.data;\n",
    "        \n",
    "        console.log('000');\n",
    "        console.log(m[inds['x'][0]]);\n",
    "        console.log(parseInt(Number(m[inds['x'][0]])/100));\n",
    "        console.log(parseInt((Number(m[inds['x'][0]])/10)%10));\n",
    "        console.log(parseInt(Number(m[inds['x'][0]])%10));\n",
    "        \n",
    "        const A1=parseInt(Number(m[inds['x'][0]])/100);\n",
    "        const d60 = source60.data;\n",
    "        const d61 = source61.data;\n",
    "        const d62 = source62.data;\n",
    "        const d63 = source63.data;\n",
    "        \n",
    "        const d12 = s1.data;\n",
    "        d12['x']=[];\n",
    "        d12['y'] = [];\n",
    "        \n",
    "        \n",
    "        \n",
    "        \n",
    "        \n",
    "        const A2=parseInt((Number(m[inds['x'][0]])/10)%10);\n",
    "        const d70 = source70.data;\n",
    "        const d71 = source71.data;\n",
    "        const d72 = source72.data;\n",
    "        const d73 = source73.data;\n",
    "\n",
    "        const d22 = s2.data;\n",
    "        d22['y'] = [];\n",
    "        \n",
    "        \n",
    "        \n",
    "        const A3=parseInt(Number(m[inds['x'][0]])%10);\n",
    "        const d80 = source80.data;\n",
    "        const d81 = source81.data;\n",
    "        const d82 = source82.data;\n",
    "        const d83 = source83.data;\n",
    "        \n",
    "        const d32 = s3.data;\n",
    "        d32['y'] = [];\n",
    "        \n",
    "        let q=0;\n",
    "        let r=0;\n",
    "        \n",
    "        console.log(S5['x'][0]);\n",
    "        switch(S5['x'][0]){\n",
    "            case 0:\n",
    "                q=0;\n",
    "                r=1;\n",
    "                console.log(S5['x'][0]);\n",
    "                for (let i = 0; i < d61[A1].length; i++) {\n",
    "                    d12['x'].push(i);\n",
    "                    d12['y'].push(d61[A1][i]);\n",
    "                }\n",
    "                for (let i = 0; i < d22['x'].length; i++) {\n",
    "                    d22['y'].push(d71[A2][i]);\n",
    "                }\n",
    "                for (let i = 0; i < d32['x'].length; i++) {\n",
    "                    d32['y'].push(d81[A3][i]);\n",
    "                }\n",
    "                break;\n",
    "            case 1:\n",
    "                q=0;\n",
    "                r=2;\n",
    "                for (let i = 0; i < d62[A1].length; i++) {\n",
    "                    d12['x'].push(i);\n",
    "                    d12['y'].push(d62[A1][i]);\n",
    "                }\n",
    "                for (let i = 0; i < d22['x'].length; i++) {\n",
    "                    d22['y'].push(d72[A2][i]);\n",
    "                }\n",
    "                for (let i = 0; i < d32['x'].length; i++) {\n",
    "                    d32['y'].push(d82[A3][i]);\n",
    "                }\n",
    "                break;\n",
    "            case 2:\n",
    "                q=0;\n",
    "                r=3;\n",
    "                for (let i = 0; i < d63[A1].length; i++) {\n",
    "                    d12['x'].push(i);\n",
    "                    d12['y'].push(d63[A1][i]);\n",
    "                }\n",
    "                for (let i = 0; i < d22['x'].length; i++) {\n",
    "                    d22['y'].push(d73[A2][i]);\n",
    "                }\n",
    "                for (let i = 0; i < d32['x'].length; i++) {\n",
    "                    d32['y'].push(d83[A3][i]);\n",
    "                }\n",
    "                break;\n",
    "            case 3:\n",
    "                q=1;\n",
    "                r=2;\n",
    "                for (let i = 0; i < d62[A1].length; i++) {\n",
    "                    d12['x'].push(i);\n",
    "                    d12['y'].push(d62[A1][i]);\n",
    "                }\n",
    "                for (let i = 0; i < d22['x'].length; i++) {\n",
    "                    d22['y'].push(d72[A2][i]);\n",
    "                }\n",
    "                for (let i = 0; i < d32['x'].length; i++) {\n",
    "                    d32['y'].push(d82[A3][i]);\n",
    "                }\n",
    "                break;\n",
    "            case 4:\n",
    "                q=1;\n",
    "                r=3;\n",
    "                for (let i = 0; i < d63[A1].length; i++) {\n",
    "                    d12['x'].push(i);\n",
    "                    d12['y'].push(d63[A1][i]);\n",
    "                }\n",
    "                for (let i = 0; i < d22['x'].length; i++) {\n",
    "                    d22['y'].push(d73[A2][i]);\n",
    "                }\n",
    "                for (let i = 0; i < d32['x'].length; i++) {\n",
    "                    d32['y'].push(d83[A3][i]);\n",
    "                }\n",
    "                break;\n",
    "            case 5:\n",
    "                q=2;\n",
    "                r=3;\n",
    "                for (let i = 0; i < d63[A1].length; i++) {\n",
    "                    d12['x'].push(i);\n",
    "                    d12['y'].push(d63[A1][i]);\n",
    "                }\n",
    "                for (let i = 0; i < d22['x'].length; i++) {\n",
    "                    d22['y'].push(d73[A2][i]);\n",
    "                }\n",
    "                for (let i = 0; i < d32['x'].length; i++) {\n",
    "                    d32['y'].push(d83[A3][i]);\n",
    "                }\n",
    "                break;\n",
    "            default:\n",
    "                console.log('hi');\n",
    "                break;\n",
    "                   \n",
    "        }\n",
    "        console.log('qr');\n",
    "        console.log(q);\n",
    "        console.log(r);\n",
    "        s1.change.emit();\n",
    "        s2.change.emit();\n",
    "        s3.change.emit();\n",
    "        \n",
    "\n",
    "\n",
    "\n",
    "\"\"\"))\n",
    "\n",
    "#show(gridplot([[p5,p9,p10,p11],[p4,p12,p13,p14]]))\n",
    "show(column(row(p5,p4),row(pdt,column(p9,p12),pds,column(p10,p13),pdm,column(p11,p14))))"
   ]
  },
  {
   "cell_type": "markdown",
   "metadata": {},
   "source": [
    "s4の差のランキングを表示することで選択できるようにする、差をプロット"
   ]
  },
  {
   "cell_type": "markdown",
   "metadata": {
    "id": "oksE80h8lXa0"
   },
   "source": [
    "差分テンソルの結果より、空間軸は一旦置いておいて、因子２なので上のテンソルコアで？1？で関わりが大きそうな所をプロットすることで特徴を知れる。111と213、313って感じの順番"
   ]
  },
  {
   "cell_type": "markdown",
   "metadata": {
    "id": "mh6BWD_k9ySS"
   },
   "source": [
    "このこのテンソル分解後の要素をもう一度テンソルに再構成して、時間軸の要素だけのテンソルを作り、それを比較するというのはどう？"
   ]
  },
  {
   "cell_type": "code",
   "execution_count": null,
   "metadata": {
    "executionInfo": {
     "elapsed": 45,
     "status": "ok",
     "timestamp": 1672373964430,
     "user": {
      "displayName": "学生1935084t",
      "userId": "12227631716568337195"
     },
     "user_tz": -540
    },
    "id": "fKLJgrxJ9x-z"
   },
   "outputs": [],
   "source": []
  },
  {
   "cell_type": "code",
   "execution_count": 52,
   "metadata": {
    "colab": {
     "base_uri": "https://localhost:8080/",
     "height": 35
    },
    "executionInfo": {
     "elapsed": 45,
     "status": "ok",
     "timestamp": 1672373964431,
     "user": {
      "displayName": "学生1935084t",
      "userId": "12227631716568337195"
     },
     "user_tz": -540
    },
    "id": "lh0IZIT-lHgy",
    "outputId": "10f0a4bb-e9e2-4345-a5bd-475bd3d06b08"
   },
   "outputs": [
    {
     "data": {
      "text/plain": [
       "'\\nnp.set_printoptions(threshold=np.inf)\\nprint(a)\\n'"
      ]
     },
     "execution_count": 52,
     "metadata": {},
     "output_type": "execute_result"
    }
   ],
   "source": [
    "\"\"\"\n",
    "np.set_printoptions(threshold=np.inf)\n",
    "print(a)\n",
    "\"\"\""
   ]
  },
  {
   "cell_type": "code",
   "execution_count": 53,
   "metadata": {
    "executionInfo": {
     "elapsed": 43,
     "status": "ok",
     "timestamp": 1672373964431,
     "user": {
      "displayName": "学生1935084t",
      "userId": "12227631716568337195"
     },
     "user_tz": -540
    },
    "id": "pgTclbsyjBMP"
   },
   "outputs": [],
   "source": [
    "#print(a[:,0].shape)"
   ]
  },
  {
   "cell_type": "code",
   "execution_count": 54,
   "metadata": {
    "executionInfo": {
     "elapsed": 44,
     "status": "ok",
     "timestamp": 1672373964432,
     "user": {
      "displayName": "学生1935084t",
      "userId": "12227631716568337195"
     },
     "user_tz": -540
    },
    "id": "2sv96aWujPdY"
   },
   "outputs": [],
   "source": [
    "#a=a[:,:]"
   ]
  },
  {
   "cell_type": "code",
   "execution_count": 55,
   "metadata": {
    "colab": {
     "base_uri": "https://localhost:8080/",
     "height": 70
    },
    "executionInfo": {
     "elapsed": 43,
     "status": "ok",
     "timestamp": 1672373964432,
     "user": {
      "displayName": "学生1935084t",
      "userId": "12227631716568337195"
     },
     "user_tz": -540
    },
    "id": "zVnOndxaxCHG",
    "outputId": "8fecfb6e-2f84-4aef-831f-0be32fe26ba0"
   },
   "outputs": [
    {
     "data": {
      "text/plain": [
       "'\\ndef spaceRowHeatDifOutn(t0,t1):\\n  plt.figure(figsize=(1*10,1*10))\\n  a=t0\\n  b=t1\\n  ab=abs(a-b)\\n\\n  print(\"01\")\\n  sns.heatmap(ab,vmin=0, vmax=0.5)\\n\\n  print(\"誤差\")\\n  print(\"01\")\\n  print(ab.sum())\\n  return ab\\n'"
      ]
     },
     "execution_count": 55,
     "metadata": {},
     "output_type": "execute_result"
    }
   ],
   "source": [
    "\"\"\"\n",
    "def spaceRowHeatDifOutn(t0,t1):\n",
    "  plt.figure(figsize=(1*10,1*10))\n",
    "  a=t0\n",
    "  b=t1\n",
    "  ab=abs(a-b)\n",
    "\n",
    "  print(\"01\")\n",
    "  sns.heatmap(ab,vmin=0, vmax=0.5)\n",
    "\n",
    "  print(\"誤差\")\n",
    "  print(\"01\")\n",
    "  print(ab.sum())\n",
    "  return ab\n",
    "\"\"\""
   ]
  },
  {
   "cell_type": "code",
   "execution_count": 56,
   "metadata": {
    "executionInfo": {
     "elapsed": 43,
     "status": "ok",
     "timestamp": 1672373964433,
     "user": {
      "displayName": "学生1935084t",
      "userId": "12227631716568337195"
     },
     "user_tz": -540
    },
    "id": "GHK8qOa4jYVT"
   },
   "outputs": [],
   "source": [
    "#print(a.shape)"
   ]
  },
  {
   "cell_type": "code",
   "execution_count": 57,
   "metadata": {
    "colab": {
     "base_uri": "https://localhost:8080/",
     "height": 122
    },
    "executionInfo": {
     "elapsed": 44,
     "status": "ok",
     "timestamp": 1672373964434,
     "user": {
      "displayName": "学生1935084t",
      "userId": "12227631716568337195"
     },
     "user_tz": -540
    },
    "id": "RFFREXSqizpL",
    "outputId": "5ac9e8f0-9a82-4fc7-bc53-70f6f5313577"
   },
   "outputs": [
    {
     "data": {
      "text/plain": [
       "\"\\na=spaceRowHeatDifOut(b0,b1)\\ny=np.argsort(a[:,3]*(10**20),kind='mergesort')\\nb0n=b0[1][:,:]\\nb1n=b1[1][:,:]\\nb0n=b0n[y,:]\\nb1n=b1n[y,:]\\na=spaceRowHeatDifOutn(b0n,b1n)\\ny=np.argsort(a[:,2]*(10**20),kind='mergesort')\\nb0n=b0n[y,:]\\nb1n=b1n[y,:]\\na=spaceRowHeatDifOutn(b0n,b1n)\\ny=np.argsort(a[:,1]*(10**20),kind='mergesort')\\nb0n=b0n[y,:]\\nb1n=b1n[y,:]\\na=spaceRowHeatDifOutn(b0n,b1n)\\ny=np.argsort(a[:,0]*(10**20),kind='mergesort')\\nb0n=b0n[y,:]\\nb1n=b1n[y,:]\\na=spaceRowHeatDifOutn(b0n,b1n)\\n\""
      ]
     },
     "execution_count": 57,
     "metadata": {},
     "output_type": "execute_result"
    }
   ],
   "source": [
    "\"\"\"\n",
    "a=spaceRowHeatDifOut(b0,b1)\n",
    "y=np.argsort(a[:,3]*(10**20),kind='mergesort')\n",
    "b0n=b0[1][:,:]\n",
    "b1n=b1[1][:,:]\n",
    "b0n=b0n[y,:]\n",
    "b1n=b1n[y,:]\n",
    "a=spaceRowHeatDifOutn(b0n,b1n)\n",
    "y=np.argsort(a[:,2]*(10**20),kind='mergesort')\n",
    "b0n=b0n[y,:]\n",
    "b1n=b1n[y,:]\n",
    "a=spaceRowHeatDifOutn(b0n,b1n)\n",
    "y=np.argsort(a[:,1]*(10**20),kind='mergesort')\n",
    "b0n=b0n[y,:]\n",
    "b1n=b1n[y,:]\n",
    "a=spaceRowHeatDifOutn(b0n,b1n)\n",
    "y=np.argsort(a[:,0]*(10**20),kind='mergesort')\n",
    "b0n=b0n[y,:]\n",
    "b1n=b1n[y,:]\n",
    "a=spaceRowHeatDifOutn(b0n,b1n)\n",
    "\"\"\""
   ]
  },
  {
   "cell_type": "code",
   "execution_count": 58,
   "metadata": {
    "colab": {
     "base_uri": "https://localhost:8080/",
     "height": 87
    },
    "executionInfo": {
     "elapsed": 43,
     "status": "ok",
     "timestamp": 1672373964434,
     "user": {
      "displayName": "学生1935084t",
      "userId": "12227631716568337195"
     },
     "user_tz": -540
    },
    "id": "AA-fmO3TjhaC",
    "outputId": "9b7dbf72-0107-4f70-c594-4fce3ecc9037"
   },
   "outputs": [
    {
     "data": {
      "text/plain": [
       "'\\ntensor_0 = df_cluster0.values.reshape(-1, 864, 4)\\n#print(tensor_0[1,0,0])\\ntensor_1 = df_cluster1.values.reshape(-1, 864, 4)\\n#print(tensor_1[1,0,0])\\ntensor_2 = df_cluster2.values.reshape(-1, 864, 4)\\n#print(tensor_2[1,0,0])\\ntensor_all = df_clusterall.values.reshape(-1, 864, 4)\\n#print(tensor_2[1,0,0])\\n'"
      ]
     },
     "execution_count": 58,
     "metadata": {},
     "output_type": "execute_result"
    }
   ],
   "source": [
    "#元データ\n",
    "\"\"\"\n",
    "tensor_0 = df_cluster0.values.reshape(-1, 864, 4)\n",
    "#print(tensor_0[1,0,0])\n",
    "tensor_1 = df_cluster1.values.reshape(-1, 864, 4)\n",
    "#print(tensor_1[1,0,0])\n",
    "tensor_2 = df_cluster2.values.reshape(-1, 864, 4)\n",
    "#print(tensor_2[1,0,0])\n",
    "tensor_all = df_clusterall.values.reshape(-1, 864, 4)\n",
    "#print(tensor_2[1,0,0])\n",
    "\"\"\""
   ]
  },
  {
   "cell_type": "code",
   "execution_count": 59,
   "metadata": {
    "colab": {
     "base_uri": "https://localhost:8080/",
     "height": 35
    },
    "executionInfo": {
     "elapsed": 43,
     "status": "ok",
     "timestamp": 1672373964435,
     "user": {
      "displayName": "学生1935084t",
      "userId": "12227631716568337195"
     },
     "user_tz": -540
    },
    "id": "n5qh5SVuK2Ja",
    "outputId": "d1036f4a-e193-4dcf-cb77-ae6bb6bc39c7"
   },
   "outputs": [
    {
     "data": {
      "text/plain": [
       "'\\nleft=range(864)\\nheight1=a[:,1]\\np1 = plt.plot(left, height1, linewidth=2)\\n'"
      ]
     },
     "execution_count": 59,
     "metadata": {},
     "output_type": "execute_result"
    }
   ],
   "source": [
    "\"\"\"\n",
    "left=range(864)\n",
    "height1=a[:,1]\n",
    "p1 = plt.plot(left, height1, linewidth=2)\n",
    "\"\"\""
   ]
  },
  {
   "cell_type": "markdown",
   "metadata": {
    "id": "RzBwykhKLMjB"
   },
   "source": [
    "並び替えがうまくいっていない→多分うまくいった"
   ]
  },
  {
   "cell_type": "code",
   "execution_count": 60,
   "metadata": {
    "colab": {
     "base_uri": "https://localhost:8080/",
     "height": 35
    },
    "executionInfo": {
     "elapsed": 43,
     "status": "ok",
     "timestamp": 1672373964436,
     "user": {
      "displayName": "学生1935084t",
      "userId": "12227631716568337195"
     },
     "user_tz": -540
    },
    "id": "sim1FgwwmMt2",
    "outputId": "5b050990-f08b-4202-df3e-d7ff4b990a06"
   },
   "outputs": [
    {
     "data": {
      "text/plain": [
       "'\\nt0=tensor_0\\nt1=tensor_2\\n#print(t0[:,0,:])\\n'"
      ]
     },
     "execution_count": 60,
     "metadata": {},
     "output_type": "execute_result"
    }
   ],
   "source": [
    "\"\"\"\n",
    "t0=tensor_0\n",
    "t1=tensor_2\n",
    "#print(t0[:,0,:])\n",
    "\"\"\""
   ]
  },
  {
   "cell_type": "code",
   "execution_count": 61,
   "metadata": {
    "colab": {
     "base_uri": "https://localhost:8080/",
     "height": 35
    },
    "executionInfo": {
     "elapsed": 43,
     "status": "ok",
     "timestamp": 1672373964437,
     "user": {
      "displayName": "学生1935084t",
      "userId": "12227631716568337195"
     },
     "user_tz": -540
    },
    "id": "ybe5J7HUwLRh",
    "outputId": "e18e13af-0735-4850-8c2b-2ff12cc12d26"
   },
   "outputs": [
    {
     "data": {
      "text/plain": [
       "'\\nb0n=b0[1][:,:]\\nb1n=b1[1][:,:]\\nb0n=b0n[y,:]\\nb1n=b1n[y,:]\\n'"
      ]
     },
     "execution_count": 61,
     "metadata": {},
     "output_type": "execute_result"
    }
   ],
   "source": [
    "\"\"\"\n",
    "b0n=b0[1][:,:]\n",
    "b1n=b1[1][:,:]\n",
    "b0n=b0n[y,:]\n",
    "b1n=b1n[y,:]\n",
    "\"\"\""
   ]
  },
  {
   "cell_type": "code",
   "execution_count": 62,
   "metadata": {
    "executionInfo": {
     "elapsed": 42,
     "status": "ok",
     "timestamp": 1672373964438,
     "user": {
      "displayName": "学生1935084t",
      "userId": "12227631716568337195"
     },
     "user_tz": -540
    },
    "id": "WqI6b_71wGZT"
   },
   "outputs": [],
   "source": [
    "#spaceRowHeatDifOutn(b0n,b1n)"
   ]
  },
  {
   "cell_type": "code",
   "execution_count": 63,
   "metadata": {
    "colab": {
     "base_uri": "https://localhost:8080/",
     "height": 35
    },
    "executionInfo": {
     "elapsed": 42,
     "status": "ok",
     "timestamp": 1672373964438,
     "user": {
      "displayName": "学生1935084t",
      "userId": "12227631716568337195"
     },
     "user_tz": -540
    },
    "id": "wAEc14Yw570F",
    "outputId": "4b475b85-c817-41c0-e05b-eee8f50c7897"
   },
   "outputs": [
    {
     "data": {
      "text/plain": [
       "'\\ny1=np.argsort(a[:,1]*(10**20))\\n'"
      ]
     },
     "execution_count": 63,
     "metadata": {},
     "output_type": "execute_result"
    }
   ],
   "source": [
    "\"\"\"\n",
    "y1=np.argsort(a[:,1]*(10**20))\n",
    "\"\"\""
   ]
  },
  {
   "cell_type": "code",
   "execution_count": 64,
   "metadata": {
    "colab": {
     "base_uri": "https://localhost:8080/",
     "height": 35
    },
    "executionInfo": {
     "elapsed": 41,
     "status": "ok",
     "timestamp": 1672373964439,
     "user": {
      "displayName": "学生1935084t",
      "userId": "12227631716568337195"
     },
     "user_tz": -540
    },
    "id": "0xsGgm-G6ABv",
    "outputId": "6190f0e1-ddbd-47a0-81be-77e2a22b79ea"
   },
   "outputs": [
    {
     "data": {
      "text/plain": [
       "'\\nb0n=b0n[y1,:]\\nb1n=b1n[y1,:]\\n'"
      ]
     },
     "execution_count": 64,
     "metadata": {},
     "output_type": "execute_result"
    }
   ],
   "source": [
    "\"\"\"\n",
    "b0n=b0n[y1,:]\n",
    "b1n=b1n[y1,:]\n",
    "\"\"\""
   ]
  },
  {
   "cell_type": "code",
   "execution_count": 65,
   "metadata": {
    "executionInfo": {
     "elapsed": 41,
     "status": "ok",
     "timestamp": 1672373964440,
     "user": {
      "displayName": "学生1935084t",
      "userId": "12227631716568337195"
     },
     "user_tz": -540
    },
    "id": "kxflFtyO6FS2"
   },
   "outputs": [],
   "source": [
    "\n",
    "#spaceRowHeatDifOutn(b0n,b1n)"
   ]
  },
  {
   "cell_type": "code",
   "execution_count": 66,
   "metadata": {
    "colab": {
     "base_uri": "https://localhost:8080/",
     "height": 35
    },
    "executionInfo": {
     "elapsed": 41,
     "status": "ok",
     "timestamp": 1672373964440,
     "user": {
      "displayName": "学生1935084t",
      "userId": "12227631716568337195"
     },
     "user_tz": -540
    },
    "id": "2KmZt7cEKgRG",
    "outputId": "ae88a6d3-5d24-4dfc-f55b-1a42329cffa7"
   },
   "outputs": [
    {
     "data": {
      "text/plain": [
       "'\\nt0=tensor_0[:,y,:]\\nt1=tensor_2[:,y,:]\\n'"
      ]
     },
     "execution_count": 66,
     "metadata": {},
     "output_type": "execute_result"
    }
   ],
   "source": [
    "\"\"\"\n",
    "t0=tensor_0[:,y,:]\n",
    "t1=tensor_2[:,y,:]\n",
    "\"\"\""
   ]
  },
  {
   "cell_type": "code",
   "execution_count": 67,
   "metadata": {
    "executionInfo": {
     "elapsed": 41,
     "status": "ok",
     "timestamp": 1672373964441,
     "user": {
      "displayName": "学生1935084t",
      "userId": "12227631716568337195"
     },
     "user_tz": -540
    },
    "id": "eAmbseDAnYqW"
   },
   "outputs": [],
   "source": [
    "#t0[0,0,3]"
   ]
  },
  {
   "cell_type": "code",
   "execution_count": 68,
   "metadata": {
    "executionInfo": {
     "elapsed": 40,
     "status": "ok",
     "timestamp": 1672373964441,
     "user": {
      "displayName": "学生1935084t",
      "userId": "12227631716568337195"
     },
     "user_tz": -540
    },
    "id": "bMLu6jbUnpri"
   },
   "outputs": [],
   "source": [
    "#print(t1[:,863,:].shape)"
   ]
  },
  {
   "cell_type": "code",
   "execution_count": 69,
   "metadata": {
    "colab": {
     "base_uri": "https://localhost:8080/",
     "height": 104
    },
    "executionInfo": {
     "elapsed": 41,
     "status": "ok",
     "timestamp": 1672373964442,
     "user": {
      "displayName": "学生1935084t",
      "userId": "12227631716568337195"
     },
     "user_tz": -540
    },
    "id": "-Q6b9UgDqQrs",
    "outputId": "ca84ddc1-8222-4d63-d365-b7af01230367"
   },
   "outputs": [
    {
     "data": {
      "text/plain": [
       "'\\nleft=range(117)\\nheight1=t1[:,pt,0]\\nheight2=t1[:,pt,1]\\nheight3=t1[:,pt,2]\\nheight4=t1[:,pt,3]\\nplt.subplot(1,2,2)\\np1 = plt.plot(left, height1, linewidth=2)\\np2 = plt.plot(left, height2, linewidth=2)\\np3 = plt.plot(left, height3, linewidth=2)\\np4 = plt.plot(left, height4, linewidth=2)\\nplt.legend((p1[0], p2[0],p3[0], p4[0]), (\"Class 1\", \"Class 2\",\"Class 3\", \"Class 4\"), loc=4)\\n'"
      ]
     },
     "execution_count": 69,
     "metadata": {},
     "output_type": "execute_result"
    }
   ],
   "source": [
    "\"\"\"\n",
    "left=range(221)\n",
    "cnt=0\n",
    "for pt in range(859,863):\n",
    "  plt.figure(figsize=(2*10,2*10))\n",
    "  height1=t0[:,pt,0]\n",
    "  height2=t0[:,pt,1]\n",
    "  height3=t0[:,pt,2]\n",
    "  height4=t0[:,pt,3]\n",
    "  cnt=cnt+1\n",
    "  plt.subplot(4,1,cnt)\n",
    "  p1 = plt.plot(left, height1, linewidth=2)\n",
    "  p2 = plt.plot(left, height2, linewidth=2)\n",
    "  p3 = plt.plot(left, height3, linewidth=2)\n",
    "  p4 = plt.plot(left, height4, linewidth=2)\n",
    "  plt.legend((p1[0], p2[0],p3[0], p4[0]), (\"Class 1\", \"Class 2\",\"Class 3\", \"Class 4\"), loc=4)\n",
    "\n",
    "\"\"\"\n",
    "\"\"\"\n",
    "left=range(117)\n",
    "height1=t1[:,pt,0]\n",
    "height2=t1[:,pt,1]\n",
    "height3=t1[:,pt,2]\n",
    "height4=t1[:,pt,3]\n",
    "plt.subplot(1,2,2)\n",
    "p1 = plt.plot(left, height1, linewidth=2)\n",
    "p2 = plt.plot(left, height2, linewidth=2)\n",
    "p3 = plt.plot(left, height3, linewidth=2)\n",
    "p4 = plt.plot(left, height4, linewidth=2)\n",
    "plt.legend((p1[0], p2[0],p3[0], p4[0]), (\"Class 1\", \"Class 2\",\"Class 3\", \"Class 4\"), loc=4)\n",
    "\"\"\"\n"
   ]
  },
  {
   "cell_type": "code",
   "execution_count": null,
   "metadata": {},
   "outputs": [
    {
     "name": "stdout",
     "output_type": "stream",
     "text": [
      "tensor\n"
     ]
    }
   ],
   "source": [
    "#テンソル元データの探索1\n",
    "\n",
    "\n",
    "print(\"tensor\")\n",
    "t=input()\n",
    "if t==\"0\":\n",
    "    t1=ttensor_0\n",
    "    t2=ttensor_1\n",
    "elif t==\"1\":\n",
    "    t1=ttensor_0\n",
    "    t2=ttensor_2\n",
    "elif t==\"2\":\n",
    "    t1=ttensor_0\n",
    "    t2=ttensor_all\n",
    "elif t==\"3\":\n",
    "    t1=ttensor_1\n",
    "    t2=ttensor_2\n",
    "elif t==\"4\":\n",
    "    t1=ttensor_1\n",
    "    t2=ttensor_all\n",
    "elif t==\"5\":\n",
    "    t1=ttensor_2\n",
    "    t2=ttensor_all\n",
    "\n",
    "height1=[]\n",
    "height2=[]\n",
    "height3=[]\n",
    "height4=[]\n",
    "print(\"time\")\n",
    "\n",
    "time=list(map(int, input().split(\",\")))\n",
    "left=range(len(time))\n",
    "\n",
    "print(\"space\")\n",
    "sel=list(map(int, input().split(\",\")))\n",
    "\n",
    "plt.figure(figsize=(2*10,2*10))\n",
    "plt.subplot(2,1,1)\n",
    "cnt=0\n",
    "h1a=0\n",
    "h2a=0\n",
    "h3a=0\n",
    "h4a=0\n",
    "\n",
    "for pt in sel:\n",
    "    height1=[]\n",
    "    height2=[]\n",
    "    height3=[]\n",
    "    height4=[]\n",
    "    cnt=cnt+1\n",
    "    for tt in time:\n",
    "        height1.append(t1[tt,int(pt),0])\n",
    "        height2.append(t1[tt,int(pt),1])\n",
    "        height3.append(t1[tt,int(pt),2])\n",
    "        height4.append(t1[tt,int(pt),3])\n",
    "        \n",
    "    p1 = plt.scatter(left, height1, color=\"b\")\n",
    "    p2 = plt.scatter(left, height2, color=\"g\")\n",
    "    p3 = plt.scatter(left, height3, color=\"r\")\n",
    "    p4 = plt.scatter(left, height4, color=\"y\")\n",
    "    h1a=h1a+np.average(height1)\n",
    "    h2a=h2a+np.average(height2)\n",
    "    h3a=h3a+np.average(height3)\n",
    "    h4a=h4a+np.average(height4)\n",
    "\n",
    "h1a=h1a/cnt\n",
    "h2a=h2a/cnt\n",
    "h3a=h3a/cnt\n",
    "h4a=h4a/cnt\n",
    "print(\"tensor1\")\n",
    "print(\"Average AirIn\")\n",
    "print(h1a)\n",
    "print(\"Average AirOut\")\n",
    "print(h2a) \n",
    "print(\"Average CPU\")\n",
    "print(h3a) \n",
    "print(\"Average Water\")\n",
    "print(h4a)  \n",
    "height1=[]\n",
    "height2=[]\n",
    "height3=[]\n",
    "height4=[]\n",
    "h1a=0\n",
    "h2a=0\n",
    "h3a=0\n",
    "h4a=0\n",
    "\n",
    "plt.figure(figsize=(2*10,2*10))\n",
    "plt.subplot(2,1,1)\n",
    "cnt=0\n",
    "for pt in sel:\n",
    "    height1=[]\n",
    "    height2=[]\n",
    "    height3=[]\n",
    "    height4=[]\n",
    "    cnt=cnt+1\n",
    "    for tt in time:\n",
    "        height1.append(t2[tt,int(pt),0])\n",
    "        height2.append(t2[tt,int(pt),1])\n",
    "        height3.append(t2[tt,int(pt),2])\n",
    "        height4.append(t2[tt,int(pt),3])\n",
    "        \n",
    "    p1 = plt.scatter(left, height1, color=\"b\")\n",
    "    p2 = plt.scatter(left, height2, color=\"g\")\n",
    "    p3 = plt.scatter(left, height3, color=\"r\")\n",
    "    p4 = plt.scatter(left, height4, color=\"y\")\n",
    "    h1a=h1a+np.average(height1)\n",
    "    h2a=h2a+np.average(height2)\n",
    "    h3a=h3a+np.average(height3)\n",
    "    h4a=h4a+np.average(height4)\n",
    "\n",
    "h1a=h1a/cnt\n",
    "h2a=h2a/cnt\n",
    "h3a=h3a/cnt\n",
    "h4a=h4a/cnt\n",
    "print(\"tensor2\")\n",
    "print(\"Average AirIn\")\n",
    "print(h1a)\n",
    "print(\"Average AirOut\")\n",
    "print(h2a) \n",
    "print(\"Average CPU\")\n",
    "print(h3a) \n",
    "print(\"Average Water\")\n",
    "print(h4a) "
   ]
  },
  {
   "cell_type": "code",
   "execution_count": null,
   "metadata": {
    "colab": {
     "base_uri": "https://localhost:8080/",
     "height": 122
    },
    "executionInfo": {
     "elapsed": 40,
     "status": "ok",
     "timestamp": 1672373964442,
     "user": {
      "displayName": "学生1935084t",
      "userId": "12227631716568337195"
     },
     "user_tz": -540
    },
    "id": "iosm3p053dbi",
    "outputId": "407ec661-2af7-43e1-db6c-1d857a2ed804"
   },
   "outputs": [],
   "source": [
    "#元データの探索\n",
    "print(\"因子数\")\n",
    "q=input()\n",
    "#print(\"tensor\")\n",
    "#t=input()\n",
    "if t==\"0\":\n",
    "    bb1=b0[1][:,int(q)]\n",
    "    bb2=b1[1][:,int(q)]    \n",
    "elif t==\"1\":\n",
    "    bb1=b0[1][:,int(q)]\n",
    "    bb2=b2[1][:,int(q)]\n",
    "elif t==\"2\":\n",
    "    bb1=b0[1][:,int(q)]\n",
    "    bb2=b3[1][:,int(q)]\n",
    "elif t==\"3\":\n",
    "    bb1=b1[1][:,int(q)]\n",
    "    bb2=b2[1][:,int(q)]\n",
    "elif t==\"4\":\n",
    "    bb1=b1[1][:,int(q)]\n",
    "    bb2=b3[1][:,int(q)]\n",
    "elif t==\"5\":\n",
    "    bb1=b2[1][:,int(q)]\n",
    "    bb2=b3[1][:,int(q)]\n",
    "    \n",
    "    \n",
    "\"\"\"\n",
    "print(\"因子数\")\n",
    "q=input()\n",
    "print(\"tensor\")\n",
    "t=input()\n",
    "if t==\"0\":\n",
    "    bb2=b0[1][:,int(q)]\n",
    "elif t==\"1\":\n",
    "\n",
    "elif t==\"2\":\n",
    "    bb2=b2[1][:,int(q)]\n",
    "elif t==\"3\":\n",
    "    bb2=b3[1][:,int(q)]\n",
    "\"\"\"\n",
    "\n",
    "\n",
    "#print(\"space\")\n",
    "#sel=list(map(int, input().split(\",\")))\n",
    "\n",
    "#print(\"一つ目\")\n",
    "tx1=np.zeros(864)\n",
    "for i in sel:\n",
    "    tx1[i]=bb1[i]\n",
    "    #print(tx1[i])\n",
    "#print(\"２つ目\")\n",
    "tx2=np.zeros(864)\n",
    "for i in sel:\n",
    "    tx2[i]=bb2[i]\n",
    "    #print(tx2[i])\n",
    "\n",
    "plt.figure(figsize=(144,24))\n",
    "plt.subplot(1,4,1)\n",
    "d1=tx1.T.reshape(36,24).T\n",
    "#sns.heatmap(d,vmin=0, vmax=1)\n",
    "sns.heatmap(d1)\n",
    "plt.subplot(1,4,2)\n",
    "d2=tx2.T.reshape(36,24).T\n",
    "#sns.heatmap(d,vmin=0, vmax=1)\n",
    "sns.heatmap(d2)\n",
    "plt.subplot(1,4,3)\n",
    "d3=(tx1-tx2).T.reshape(36,24).T\n",
    "sns.heatmap(d3,vmin=0)\n",
    "plt.subplot(1,4,4)\n",
    "d4=(tx2-tx1).T.reshape(36,24).T\n",
    "sns.heatmap(d4,vmin=0)\n",
    "#sns.heatmap(d3)\n"
   ]
  },
  {
   "cell_type": "code",
   "execution_count": null,
   "metadata": {},
   "outputs": [],
   "source": [
    "#元のデータ（正規化なし）\n",
    "#print(\"tensor\")\n",
    "#t=input()\n",
    "print(\"測定値コンポーネント\")\n",
    "q2=int(input())\n",
    "if t==\"0\":\n",
    "    t1=ttensor_0[:,:,q2]\n",
    "    t2=ttensor_1[:,:,q2]\n",
    "elif t==\"1\":\n",
    "    t1=ttensor_0[:,:,q2]\n",
    "    t2=ttensor_2[:,:,q2]\n",
    "elif t==\"2\":\n",
    "    t1=ttensor_0[:,:,q2]\n",
    "    t2=ttensor_all[:,:,q2]\n",
    "elif t==\"3\":\n",
    "    t1=ttensor_1[:,:,q2]\n",
    "    t2=ttensor_2[:,:,q2]\n",
    "elif t==\"4\":\n",
    "    t1=ttensor_1[:,:,q2]\n",
    "    t2=ttensor_all[:,:,q2]\n",
    "elif t==\"5\":\n",
    "    t1=ttensor_2[:,:,q2]\n",
    "    t2=ttensor_all[:,:,q2]\n",
    "    \n",
    "\n",
    "#print(\"space\")\n",
    "#sel=list(map(int, input().split(\",\")))\n",
    "\n",
    "#print(\"time\")\n",
    "#tim=list(map(int, input().split(\",\")))\n",
    "\n",
    "\n",
    "#print(\"一つ目\")\n",
    "tx1=np.zeros(864)\n",
    "cnt=0\n",
    "for i in sel:\n",
    "    cnt=0\n",
    "    for j in time:\n",
    "        cnt=cnt+1\n",
    "        tx1[i]=tx1[i]+t1[j,i]\n",
    "    tx1[i]=tx1[i]/cnt\n",
    "\n",
    "#print(\"２つ目\")\n",
    "tx2=np.zeros(864)\n",
    "cnt=0\n",
    "for i in sel:\n",
    "    cnt=0\n",
    "    for j in time:\n",
    "        cnt=cnt+1\n",
    "        tx2[i]=tx2[i]+t2[j,i]\n",
    "    tx2[i]=tx2[i]/cnt\n",
    "    #print(tx2[i])\n",
    "\n",
    "mask = np.zeros((24,36))\n",
    "mask[np.where(d1==0)] = True\n",
    "\n",
    "plt.figure(figsize=(144,24))\n",
    "plt.subplot(1,4,1)\n",
    "d1=tx1.T.reshape(36,24).T\n",
    "#sns.heatmap(d,vmin=0, vmax=1)\n",
    "mask = np.zeros((24,36))\n",
    "mask[np.where(d1==0)] = True\n",
    "sns.heatmap(d1,mask=mask,linewidths=0.1,linecolor='black')\n",
    "plt.subplot(1,4,2)\n",
    "d2=tx2.T.reshape(36,24).T\n",
    "#sns.heatmap(d,vmin=0, vmax=1)\n",
    "mask = np.zeros((24,36))\n",
    "mask[np.where(d2==0)] = True\n",
    "sns.heatmap(d2,mask=mask,linewidths=0.1,linecolor='black')\n",
    "plt.subplot(1,4,3)\n",
    "d3=(tx1-tx2).T.reshape(36,24).T\n",
    "mask = np.zeros((24,36))\n",
    "mask[np.where(d2==0)] = True\n",
    "sns.heatmap(d3,mask=mask,linewidths=0.1,linecolor='black',vmin=0)\n",
    "#sns.heatmap(d3)\n",
    "plt.subplot(1,4,4)\n",
    "d4=(tx2-tx1).T.reshape(36,24).T\n",
    "mask = np.zeros((24,36))\n",
    "mask[np.where(d2==0)] = True\n",
    "sns.heatmap(d4,mask=mask,linewidths=0.1,linecolor='black',vmin=0)"
   ]
  },
  {
   "cell_type": "code",
   "execution_count": null,
   "metadata": {},
   "outputs": [],
   "source": [
    "#テンソル元データの探索1\n",
    "\n",
    "\n",
    "print(\"tensor\")\n",
    "t=\"1\"\n",
    "if t==\"0\":\n",
    "    t1=ttensor_0\n",
    "    t2=ttensor_1\n",
    "elif t==\"1\":\n",
    "    t1=ttensor_0\n",
    "    t2=ttensor_2\n",
    "elif t==\"2\":\n",
    "    t1=ttensor_0\n",
    "    t2=ttensor_all\n",
    "elif t==\"3\":\n",
    "    t1=ttensor_1\n",
    "    t2=ttensor_2\n",
    "elif t==\"4\":\n",
    "    t1=ttensor_1\n",
    "    t2=ttensor_all\n",
    "elif t==\"5\":\n",
    "    t1=ttensor_2\n",
    "    t2=ttensor_all\n",
    "\n",
    "height1=[]\n",
    "height2=[]\n",
    "height3=[]\n",
    "height4=[]\n",
    "\"\"\"\n",
    "print(\"time\")\n",
    "\n",
    "time=list(map(int, input().split(\",\")))\n",
    "left=range(len(time))\n",
    "\n",
    "print(\"space\")\n",
    "sel=list(map(int, input().split(\",\")))\n",
    "\n",
    "\"\"\"\n",
    "    \n",
    "height1=[]\n",
    "height2=[]\n",
    "height3=[]\n",
    "height4=[]\n",
    "\n",
    "\n",
    "plt.figure(figsize=(2*10,2*10))\n",
    "plt.subplot(2,1,1)\n",
    "cnt=0\n",
    "for pt in sel:\n",
    "    height1=[]\n",
    "    height2=[]\n",
    "    height3=[]\n",
    "    height4=[]\n",
    "    cnt=cnt+1\n",
    "    for tt in time:\n",
    "        height1.append(t1[tt,int(pt),0])\n",
    "        height2.append(t1[tt,int(pt),1])\n",
    "        height3.append(t1[tt,int(pt),2])\n",
    "        height4.append(t1[tt,int(pt),3])\n",
    "        \n",
    "    p1 = plt.scatter(left, height1, color=\"b\")\n",
    "    p2 = plt.scatter(left, height2, color=\"g\")\n",
    "    p3 = plt.scatter(left, height3, color=\"r\")\n",
    "    p4 = plt.scatter(left, height4, color=\"y\")\n",
    "\n",
    "    \n",
    "height1=[]\n",
    "height2=[]\n",
    "height3=[]\n",
    "height4=[]\n",
    "\n",
    "plt.figure(figsize=(2*10,2*10))\n",
    "plt.subplot(2,1,1)\n",
    "cnt=0\n",
    "for pt in sel:\n",
    "    height1=[]\n",
    "    height2=[]\n",
    "    height3=[]\n",
    "    height4=[]\n",
    "    cnt=cnt+1\n",
    "    for tt in time:\n",
    "        height1.append(t2[tt,int(pt),0])\n",
    "        height2.append(t2[tt,int(pt),1])\n",
    "        height3.append(t2[tt,int(pt),2])\n",
    "        height4.append(t2[tt,int(pt),3])\n",
    "        \n",
    "    p1 = plt.scatter(left, height1, color=\"b\")\n",
    "    p2 = plt.scatter(left, height2, color=\"g\")\n",
    "    p3 = plt.scatter(left, height3, color=\"r\")\n",
    "    p4 = plt.scatter(left, height4, color=\"y\")"
   ]
  },
  {
   "cell_type": "code",
   "execution_count": null,
   "metadata": {},
   "outputs": [],
   "source": [
    "#元データの探索\n",
    "#print(\"因子数\")\n",
    "#q=input()\n",
    "#print(\"tensor\")\n",
    "#t=input()\n",
    "if t==\"0\":\n",
    "    bb1=b0[1][:,int(q)]\n",
    "    bb2=b1[1][:,int(q)]    \n",
    "elif t==\"1\":\n",
    "    bb1=b0[1][:,int(q)]\n",
    "    bb2=b2[1][:,int(q)]\n",
    "elif t==\"2\":\n",
    "    bb1=b0[1][:,int(q)]\n",
    "    bb2=b3[1][:,int(q)]\n",
    "elif t==\"3\":\n",
    "    bb1=b1[1][:,int(q)]\n",
    "    bb2=b2[1][:,int(q)]\n",
    "elif t==\"4\":\n",
    "    bb1=b1[1][:,int(q)]\n",
    "    bb2=b3[1][:,int(q)]\n",
    "elif t==\"5\":\n",
    "    bb1=b2[1][:,int(q)]\n",
    "    bb2=b3[1][:,int(q)]\n",
    "    \n",
    "    \n",
    "\"\"\"\n",
    "print(\"因子数\")\n",
    "q=input()\n",
    "print(\"tensor\")\n",
    "t=input()\n",
    "if t==\"0\":\n",
    "    bb2=b0[1][:,int(q)]\n",
    "elif t==\"1\":\n",
    "\n",
    "elif t==\"2\":\n",
    "    bb2=b2[1][:,int(q)]\n",
    "elif t==\"3\":\n",
    "    bb2=b3[1][:,int(q)]\n",
    "\"\"\"\n",
    "\n",
    "\n",
    "#print(\"space\")\n",
    "#sel=list(map(int, input().split(\",\")))\n",
    "\n",
    "#print(\"一つ目\")\n",
    "tx1=np.zeros(864)\n",
    "for i in sel:\n",
    "    tx1[i]=bb1[i]\n",
    "    #print(tx1[i])\n",
    "#print(\"２つ目\")\n",
    "tx2=np.zeros(864)\n",
    "for i in sel:\n",
    "    tx2[i]=bb2[i]\n",
    "    #print(tx2[i])\n",
    "\n",
    "plt.figure(figsize=(108,24))\n",
    "plt.subplot(1,3,1)\n",
    "d1=tx1.T.reshape(36,24).T\n",
    "#sns.heatmap(d,vmin=0, vmax=1)\n",
    "sns.heatmap(d1)\n",
    "plt.subplot(1,3,2)\n",
    "d2=tx2.T.reshape(36,24).T\n",
    "#sns.heatmap(d,vmin=0, vmax=1)\n",
    "sns.heatmap(d2)\n",
    "plt.subplot(1,3,3)\n",
    "d3=(tx1-tx2).T.reshape(36,24).T\n",
    "sns.heatmap(d3,vmin=0)\n",
    "#sns.heatmap(d3)\n"
   ]
  },
  {
   "cell_type": "code",
   "execution_count": null,
   "metadata": {},
   "outputs": [],
   "source": [
    "#元のデータ（正規化なし）\n",
    "#print(\"tensor\")\n",
    "#t=input()\n",
    "#print(\"測定値コンポーネント\")\n",
    "#q2=int(input())\n",
    "if t==\"0\":\n",
    "    t1=ttensor_0[:,:,q2]\n",
    "    t2=ttensor_1[:,:,q2]\n",
    "elif t==\"1\":\n",
    "    t1=ttensor_0[:,:,q2]\n",
    "    t2=ttensor_2[:,:,q2]\n",
    "elif t==\"2\":\n",
    "    t1=ttensor_0[:,:,q2]\n",
    "    t2=ttensor_all[:,:,q2]\n",
    "elif t==\"3\":\n",
    "    t1=ttensor_1[:,:,q2]\n",
    "    t2=ttensor_2[:,:,q2]\n",
    "elif t==\"4\":\n",
    "    t1=ttensor_1[:,:,q2]\n",
    "    t2=ttensor_all[:,:,q2]\n",
    "elif t==\"5\":\n",
    "    t1=ttensor_2[:,:,q2]\n",
    "    t2=ttensor_all[:,:,q2]\n",
    "    \n",
    "\n",
    "#print(\"space\")\n",
    "#sel=list(map(int, input().split(\",\")))\n",
    "\n",
    "#print(\"time\")\n",
    "#tim=list(map(int, input().split(\",\")))\n",
    "\n",
    "\n",
    "#print(\"一つ目\")\n",
    "tx1=np.zeros(864)\n",
    "cnt=0\n",
    "for i in sel:\n",
    "    cnt=0\n",
    "    for j in time:\n",
    "        cnt=cnt+1\n",
    "        tx1[i]=tx1[i]+t1[j,i]\n",
    "    tx1[i]=tx1[i]/cnt\n",
    "\n",
    "#print(\"２つ目\")\n",
    "tx2=np.zeros(864)\n",
    "cnt=0\n",
    "for i in sel:\n",
    "    cnt=0\n",
    "    for j in time:\n",
    "        cnt=cnt+1\n",
    "        tx2[i]=tx2[i]+t2[j,i]\n",
    "    tx2[i]=tx2[i]/cnt\n",
    "    #print(tx2[i])\n",
    "\n",
    "mask = np.zeros((24,36))\n",
    "mask[np.where(d1==0)] = True\n",
    "\n",
    "plt.figure(figsize=(108,24))\n",
    "plt.subplot(1,3,1)\n",
    "d1=tx1.T.reshape(36,24).T\n",
    "#sns.heatmap(d,vmin=0, vmax=1)\n",
    "mask = np.zeros((24,36))\n",
    "mask[np.where(d1==0)] = True\n",
    "sns.heatmap(d1,mask=mask,linewidths=0.1,linecolor='black')\n",
    "plt.subplot(1,3,2)\n",
    "d2=tx2.T.reshape(36,24).T\n",
    "#sns.heatmap(d,vmin=0, vmax=1)\n",
    "mask = np.zeros((24,36))\n",
    "mask[np.where(d2==0)] = True\n",
    "sns.heatmap(d2,mask=mask,linewidths=0.1,linecolor='black')\n",
    "plt.subplot(1,3,3)\n",
    "d3=(tx1-tx2).T.reshape(36,24).T\n",
    "mask = np.zeros((24,36))\n",
    "mask[np.where(d2==0)] = True\n",
    "sns.heatmap(d3,mask=mask,linewidths=0.1,linecolor='black',vmin=0)\n",
    "#sns.heatmap(d3)\n"
   ]
  },
  {
   "cell_type": "code",
   "execution_count": null,
   "metadata": {},
   "outputs": [],
   "source": [
    "#テンソル元データの探索1\n",
    "\n",
    "\n",
    "print(\"tensor\")\n",
    "t=\"2\"\n",
    "if t==\"0\":\n",
    "    t1=ttensor_0\n",
    "    t2=ttensor_1\n",
    "elif t==\"1\":\n",
    "    t1=ttensor_0\n",
    "    t2=ttensor_2\n",
    "elif t==\"2\":\n",
    "    t1=ttensor_0\n",
    "    t2=ttensor_all\n",
    "elif t==\"3\":\n",
    "    t1=ttensor_1\n",
    "    t2=ttensor_2\n",
    "elif t==\"4\":\n",
    "    t1=ttensor_1\n",
    "    t2=ttensor_all\n",
    "elif t==\"5\":\n",
    "    t1=ttensor_2\n",
    "    t2=ttensor_all\n",
    "\n",
    "height1=[]\n",
    "height2=[]\n",
    "height3=[]\n",
    "height4=[]\n",
    "\"\"\"\n",
    "print(\"time\")\n",
    "\n",
    "time=list(map(int, input().split(\",\")))\n",
    "left=range(len(time))\n",
    "\n",
    "print(\"space\")\n",
    "sel=list(map(int, input().split(\",\")))\n",
    "\n",
    "\"\"\"\n",
    "    \n",
    "height1=[]\n",
    "height2=[]\n",
    "height3=[]\n",
    "height4=[]\n",
    "\n",
    "\n",
    "plt.figure(figsize=(2*10,2*10))\n",
    "plt.subplot(2,1,1)\n",
    "cnt=0\n",
    "for pt in sel:\n",
    "    height1=[]\n",
    "    height2=[]\n",
    "    height3=[]\n",
    "    height4=[]\n",
    "    cnt=cnt+1\n",
    "    for tt in time:\n",
    "        height1.append(t1[tt,int(pt),0])\n",
    "        height2.append(t1[tt,int(pt),1])\n",
    "        height3.append(t1[tt,int(pt),2])\n",
    "        height4.append(t1[tt,int(pt),3])\n",
    "        \n",
    "    p1 = plt.scatter(left, height1, color=\"b\")\n",
    "    p2 = plt.scatter(left, height2, color=\"g\")\n",
    "    p3 = plt.scatter(left, height3, color=\"r\")\n",
    "    p4 = plt.scatter(left, height4, color=\"y\")\n",
    "    \n",
    "    \n",
    "    \n",
    "height1=[]\n",
    "height2=[]\n",
    "height3=[]\n",
    "height4=[]\n",
    "\n",
    "plt.figure(figsize=(2*10,2*10))\n",
    "plt.subplot(2,1,1)\n",
    "cnt=0\n",
    "for pt in sel:\n",
    "    height1=[]\n",
    "    height2=[]\n",
    "    height3=[]\n",
    "    height4=[]\n",
    "    cnt=cnt+1\n",
    "    for tt in time:\n",
    "        height1.append(t2[tt,int(pt),0])\n",
    "        height2.append(t2[tt,int(pt),1])\n",
    "        height3.append(t2[tt,int(pt),2])\n",
    "        height4.append(t2[tt,int(pt),3])\n",
    "        \n",
    "    p1 = plt.scatter(left, height1, color=\"b\")\n",
    "    p2 = plt.scatter(left, height2, color=\"g\")\n",
    "    p3 = plt.scatter(left, height3, color=\"r\")\n",
    "    p4 = plt.scatter(left, height4, color=\"y\")\n",
    "    "
   ]
  },
  {
   "cell_type": "code",
   "execution_count": null,
   "metadata": {},
   "outputs": [],
   "source": [
    "#元データの探索\n",
    "#print(\"因子数\")\n",
    "#q=input()\n",
    "#print(\"tensor\")\n",
    "#t=input()\n",
    "if t==\"0\":\n",
    "    bb1=b0[1][:,int(q)]\n",
    "    bb2=b1[1][:,int(q)]    \n",
    "elif t==\"1\":\n",
    "    bb1=b0[1][:,int(q)]\n",
    "    bb2=b2[1][:,int(q)]\n",
    "elif t==\"2\":\n",
    "    bb1=b0[1][:,int(q)]\n",
    "    bb2=b3[1][:,int(q)]\n",
    "elif t==\"3\":\n",
    "    bb1=b1[1][:,int(q)]\n",
    "    bb2=b2[1][:,int(q)]\n",
    "elif t==\"4\":\n",
    "    bb1=b1[1][:,int(q)]\n",
    "    bb2=b3[1][:,int(q)]\n",
    "elif t==\"5\":\n",
    "    bb1=b2[1][:,int(q)]\n",
    "    bb2=b3[1][:,int(q)]\n",
    "    \n",
    "    \n",
    "\"\"\"\n",
    "print(\"因子数\")\n",
    "q=input()\n",
    "print(\"tensor\")\n",
    "t=input()\n",
    "if t==\"0\":\n",
    "    bb2=b0[1][:,int(q)]\n",
    "elif t==\"1\":\n",
    "\n",
    "elif t==\"2\":\n",
    "    bb2=b2[1][:,int(q)]\n",
    "elif t==\"3\":\n",
    "    bb2=b3[1][:,int(q)]\n",
    "\"\"\"\n",
    "\n",
    "\n",
    "#print(\"space\")\n",
    "#sel=list(map(int, input().split(\",\")))\n",
    "\n",
    "#print(\"一つ目\")\n",
    "tx1=np.zeros(864)\n",
    "for i in sel:\n",
    "    tx1[i]=bb1[i]\n",
    "    #print(tx1[i])\n",
    "#print(\"２つ目\")\n",
    "tx2=np.zeros(864)\n",
    "for i in sel:\n",
    "    tx2[i]=bb2[i]\n",
    "    #print(tx2[i])\n",
    "\n",
    "plt.figure(figsize=(108,24))\n",
    "plt.subplot(1,3,1)\n",
    "d1=tx1.T.reshape(36,24).T\n",
    "#sns.heatmap(d,vmin=0, vmax=1)\n",
    "sns.heatmap(d1)\n",
    "plt.subplot(1,3,2)\n",
    "d2=tx2.T.reshape(36,24).T\n",
    "#sns.heatmap(d,vmin=0, vmax=1)\n",
    "sns.heatmap(d2)\n",
    "plt.subplot(1,3,3)\n",
    "d3=(tx1-tx2).T.reshape(36,24).T\n",
    "sns.heatmap(d3,vmin=0)\n",
    "#sns.heatmap(d3)\n"
   ]
  },
  {
   "cell_type": "code",
   "execution_count": null,
   "metadata": {},
   "outputs": [],
   "source": [
    "#元のデータ（正規化なし）\n",
    "#print(\"tensor\")\n",
    "#t=input()\n",
    "#print(\"測定値コンポーネント\")\n",
    "#q2=int(input())\n",
    "if t==\"0\":\n",
    "    t1=ttensor_0[:,:,q2]\n",
    "    t2=ttensor_1[:,:,q2]\n",
    "elif t==\"1\":\n",
    "    t1=ttensor_0[:,:,q2]\n",
    "    t2=ttensor_2[:,:,q2]\n",
    "elif t==\"2\":\n",
    "    t1=ttensor_0[:,:,q2]\n",
    "    t2=ttensor_all[:,:,q2]\n",
    "elif t==\"3\":\n",
    "    t1=ttensor_1[:,:,q2]\n",
    "    t2=ttensor_2[:,:,q2]\n",
    "elif t==\"4\":\n",
    "    t1=ttensor_1[:,:,q2]\n",
    "    t2=ttensor_all[:,:,q2]\n",
    "elif t==\"5\":\n",
    "    t1=ttensor_2[:,:,q2]\n",
    "    t2=ttensor_all[:,:,q2]\n",
    "    \n",
    "\n",
    "#print(\"space\")\n",
    "#sel=list(map(int, input().split(\",\")))\n",
    "\n",
    "#print(\"time\")\n",
    "#tim=list(map(int, input().split(\",\")))\n",
    "\n",
    "\n",
    "#print(\"一つ目\")\n",
    "tx1=np.zeros(864)\n",
    "cnt=0\n",
    "for i in sel:\n",
    "    cnt=0\n",
    "    for j in time:\n",
    "        cnt=cnt+1\n",
    "        tx1[i]=tx1[i]+t1[j,i]\n",
    "    tx1[i]=tx1[i]/cnt\n",
    "\n",
    "#print(\"２つ目\")\n",
    "tx2=np.zeros(864)\n",
    "cnt=0\n",
    "for i in sel:\n",
    "    cnt=0\n",
    "    for j in time:\n",
    "        cnt=cnt+1\n",
    "        tx2[i]=tx2[i]+t2[j,i]\n",
    "    tx2[i]=tx2[i]/cnt\n",
    "    #print(tx2[i])\n",
    "\n",
    "mask = np.zeros((24,36))\n",
    "mask[np.where(d1==0)] = True\n",
    "\n",
    "plt.figure(figsize=(108,24))\n",
    "plt.subplot(1,3,1)\n",
    "d1=tx1.T.reshape(36,24).T\n",
    "#sns.heatmap(d,vmin=0, vmax=1)\n",
    "mask = np.zeros((24,36))\n",
    "mask[np.where(d1==0)] = True\n",
    "sns.heatmap(d1,mask=mask,linewidths=0.1,linecolor='black')\n",
    "plt.subplot(1,3,2)\n",
    "d2=tx2.T.reshape(36,24).T\n",
    "#sns.heatmap(d,vmin=0, vmax=1)\n",
    "mask = np.zeros((24,36))\n",
    "mask[np.where(d2==0)] = True\n",
    "sns.heatmap(d2,mask=mask,linewidths=0.1,linecolor='black')\n",
    "plt.subplot(1,3,3)\n",
    "d3=(tx1-tx2).T.reshape(36,24).T\n",
    "mask = np.zeros((24,36))\n",
    "mask[np.where(d2==0)] = True\n",
    "sns.heatmap(d3,mask=mask,linewidths=0.1,linecolor='black',vmin=0)\n",
    "#sns.heatmap(d3)\n"
   ]
  },
  {
   "cell_type": "markdown",
   "metadata": {},
   "source": [
    "違う問題が出てきた。比較として成り立っていないかもしれない\n",
    "比較として成り立たせるためには、空間軸で比べるには、測定値の軸の特徴行列の値を合わせる必要がある気がする。\n",
    "測定値軸の値を合わせないと、測定値でどこが大事かで、結構値が変わるかもしれん\n",
    "→そのためのbokehプロットで値を合わせに行き比較することができる。"
   ]
  },
  {
   "cell_type": "code",
   "execution_count": null,
   "metadata": {},
   "outputs": [],
   "source": [
    "print(ttensor_0[:,:,1])"
   ]
  },
  {
   "cell_type": "code",
   "execution_count": null,
   "metadata": {},
   "outputs": [],
   "source": [
    "#元のデータ（正規化なし）\n",
    "print(\"tensor\")\n",
    "t=input()\n",
    "print(\"因子数\")\n",
    "q=int(input())\n",
    "if t==\"0\":\n",
    "    t1=ttensor_0[:,:,q]\n",
    "    t2=ttensor_1[:,:,q]\n",
    "elif t==\"1\":\n",
    "    t1=ttensor_0[:,:,q]\n",
    "    t2=ttensor_2[:,:,q]\n",
    "elif t==\"2\":\n",
    "    t1=ttensor_0[:,:,q]\n",
    "    t2=ttensor_all[:,:,q]\n",
    "elif t==\"3\":\n",
    "    t1=ttensor_1[:,:,q]\n",
    "    t2=ttensor_2[:,:,q]\n",
    "elif t==\"4\":\n",
    "    t1=ttensor_1[:,:,q]\n",
    "    t2=ttensor_all[:,:,q]\n",
    "elif t==\"5\":\n",
    "    t1=ttensor_2[:,:,q]\n",
    "    t2=ttensor_all[:,:,q]\n",
    "    \n",
    "\n",
    "print(\"space\")\n",
    "sel=list(map(int, input().split(\",\")))\n",
    "\n",
    "print(\"time\")\n",
    "tim=list(map(int, input().split(\",\")))\n",
    "\n",
    "\n",
    "#print(\"一つ目\")\n",
    "tx1=np.zeros(864)\n",
    "cnt=0\n",
    "for i in sel:\n",
    "    cnt=0\n",
    "    for j in tim:\n",
    "        cnt=cnt+1\n",
    "        tx1[i]=tx1[i]+t1[j,i]\n",
    "    tx1[i]=tx1[i]/cnt\n",
    "\n",
    "#print(\"２つ目\")\n",
    "tx2=np.zeros(864)\n",
    "cnt=0\n",
    "for i in sel:\n",
    "    cnt=0\n",
    "    for j in tim:\n",
    "        cnt=cnt+1\n",
    "        tx2[i]=tx2[i]+t2[j,i]\n",
    "    tx2[i]=tx2[i]/cnt\n",
    "    #print(tx2[i])\n",
    "\n",
    "mask = np.zeros((24,36))\n",
    "mask[np.where(d1==0)] = True\n",
    "\n",
    "plt.figure(figsize=(108,24))\n",
    "plt.subplot(1,3,1)\n",
    "d1=tx1.T.reshape(36,24).T\n",
    "#sns.heatmap(d,vmin=0, vmax=1)\n",
    "mask = np.zeros((24,36))\n",
    "mask[np.where(d1==0)] = True\n",
    "sns.heatmap(d1,mask=mask,linewidths=0.1,linecolor='black')\n",
    "plt.subplot(1,3,2)\n",
    "d2=tx2.T.reshape(36,24).T\n",
    "#sns.heatmap(d,vmin=0, vmax=1)\n",
    "mask = np.zeros((24,36))\n",
    "mask[np.where(d2==0)] = True\n",
    "sns.heatmap(d2,mask=mask,linewidths=0.1,linecolor='black')\n",
    "plt.subplot(1,3,3)\n",
    "d3=(tx1-tx2).T.reshape(36,24).T\n",
    "mask = np.zeros((24,36))\n",
    "mask[np.where(d2==0)] = True\n",
    "sns.heatmap(d3,mask=mask,linewidths=0.1,linecolor='black')\n",
    "#sns.heatmap(d3)\n"
   ]
  },
  {
   "cell_type": "code",
   "execution_count": null,
   "metadata": {},
   "outputs": [],
   "source": [
    "#元のデータ（正規化あり）\n",
    "print(\"tensor組み合わせ\")\n",
    "t=input()\n",
    "print(\"因子数\")\n",
    "q=int(input())\n",
    "if t==\"0\":\n",
    "    t1=tensor_0[:,:,q]\n",
    "    t2=tensor_1[:,:,q]\n",
    "elif t==\"1\":\n",
    "    t1=tensor_0[:,:,q]\n",
    "    t2=tensor_2[:,:,q]\n",
    "elif t==\"2\":\n",
    "    t1=tensor_0[:,:,q]\n",
    "    t2=tensor_all[:,:,q]\n",
    "elif t==\"3\":\n",
    "    t1=tensor_1[:,:,q]\n",
    "    t2=tensor_2[:,:,q]\n",
    "elif t==\"4\":\n",
    "    t1=tensor_1[:,:,q]\n",
    "    t2=tensor_all[:,:,q]\n",
    "elif t==\"5\":\n",
    "    t1=tensor_2[:,:,q]\n",
    "    t2=tensor_all[:,:,q]\n",
    "    \n",
    "\n",
    "print(\"space\")\n",
    "sel=list(map(int, input().split(\",\")))\n",
    "\n",
    "print(\"time\")\n",
    "tim=list(map(int, input().split(\",\")))\n",
    "\n",
    "\n",
    "#print(\"一つ目\")\n",
    "tx1=np.zeros(864)\n",
    "cnt=0\n",
    "for i in sel:\n",
    "    cnt=0\n",
    "    for j in tim:\n",
    "        cnt=cnt+1\n",
    "        tx1[i]=tx1[i]+t1[j,i]\n",
    "    tx1[i]=tx1[i]/cnt\n",
    "\n",
    "#print(\"２つ目\")\n",
    "tx2=np.zeros(864)\n",
    "cnt=0\n",
    "for i in sel:\n",
    "    cnt=0\n",
    "    for j in tim:\n",
    "        cnt=cnt+1\n",
    "        tx2[i]=tx2[i]+t2[j,i]\n",
    "    tx2[i]=tx2[i]/cnt\n",
    "    #print(tx2[i])\n",
    "\n",
    "mask = np.zeros((24,36))\n",
    "mask[np.where(d1==0)] = True\n",
    "\n",
    "plt.figure(figsize=(108,24))\n",
    "plt.subplot(1,3,1)\n",
    "d1=tx1.T.reshape(36,24).T\n",
    "#sns.heatmap(d,vmin=0, vmax=1)\n",
    "mask = np.zeros((24,36))\n",
    "mask[np.where(d1==0)] = True\n",
    "sns.heatmap(d1,mask=mask,linewidths=0.1,linecolor='black')\n",
    "plt.subplot(1,3,2)\n",
    "d2=tx2.T.reshape(36,24).T\n",
    "#sns.heatmap(d,vmin=0, vmax=1)\n",
    "mask = np.zeros((24,36))\n",
    "mask[np.where(d2==0)] = True\n",
    "sns.heatmap(d2,mask=mask,linewidths=0.1,linecolor='black')\n",
    "plt.subplot(1,3,3)\n",
    "d3=(tx1-tx2).T.reshape(36,24).T\n",
    "mask = np.zeros((24,36))\n",
    "mask[np.where(d2==0)] = True\n",
    "sns.heatmap(d3,mask=mask,linewidths=0.1,linecolor='black')\n",
    "#sns.heatmap(d3)\n"
   ]
  },
  {
   "cell_type": "code",
   "execution_count": null,
   "metadata": {
    "colab": {
     "base_uri": "https://localhost:8080/",
     "height": 87
    },
    "executionInfo": {
     "elapsed": 40,
     "status": "ok",
     "timestamp": 1672373964443,
     "user": {
      "displayName": "学生1935084t",
      "userId": "12227631716568337195"
     },
     "user_tz": -540
    },
    "id": "fZnYJJ_KC9yP",
    "outputId": "33587dc0-8436-4e13-ff95-ef93816ca793"
   },
   "outputs": [],
   "source": [
    "\"\"\"\n",
    "cnt=0\n",
    "plt.figure(figsize=(2*10,2*10))\n",
    "for pt in range(859,863):\n",
    "  cnt=cnt+1\n",
    "  plt.subplot(2,2,cnt)\n",
    "  left=t0[:,pt,0]\n",
    "  height=t0[:,pt,1]\n",
    "  p1 = plt.scatter(left, height, linewidth=2)\n",
    "  left=t1[:,pt,0]\n",
    "  height=t1[:,pt,1]\n",
    "  p2 = plt.scatter(left, height, linewidth=2)\n",
    "  \"\"\""
   ]
  },
  {
   "cell_type": "code",
   "execution_count": null,
   "metadata": {
    "colab": {
     "base_uri": "https://localhost:8080/",
     "height": 87
    },
    "executionInfo": {
     "elapsed": 38,
     "status": "ok",
     "timestamp": 1672373965090,
     "user": {
      "displayName": "学生1935084t",
      "userId": "12227631716568337195"
     },
     "user_tz": -540
    },
    "id": "NyHf32a4D34A",
    "outputId": "5cb267df-cd06-4da9-eeff-2392954283f0"
   },
   "outputs": [],
   "source": [
    "\"\"\"\n",
    "cnt=0\n",
    "plt.figure(figsize=(2*10,2*10))\n",
    "for pt in range(0,4):\n",
    "  cnt=cnt+1\n",
    "  plt.subplot(2,2,cnt)\n",
    "  left=t0[:,pt,2]\n",
    "  height=t0[:,pt,1]\n",
    "  p1 = plt.scatter(left, height, linewidth=2)\n",
    "  left=t1[:,pt,2]\n",
    "  height=t1[:,pt,1]\n",
    "  p2 = plt.scatter(left, height, linewidth=2)\n",
    "  \"\"\""
   ]
  },
  {
   "cell_type": "code",
   "execution_count": null,
   "metadata": {
    "colab": {
     "base_uri": "https://localhost:8080/",
     "height": 87
    },
    "executionInfo": {
     "elapsed": 37,
     "status": "ok",
     "timestamp": 1672373965090,
     "user": {
      "displayName": "学生1935084t",
      "userId": "12227631716568337195"
     },
     "user_tz": -540
    },
    "id": "3pcFGWl4D4a_",
    "outputId": "7fcd0797-bbaa-46d9-e622-f4d470f1580d"
   },
   "outputs": [],
   "source": [
    "\"\"\"\n",
    "cnt=0\n",
    "plt.figure(figsize=(2*10,2*10))\n",
    "for pt in range(859,863):\n",
    "  cnt=cnt+1\n",
    "  plt.subplot(2,2,cnt)\n",
    "  left=t0[:,pt,0]\n",
    "  height=t0[:,pt,3]\n",
    "  p1 = plt.scatter(left, height, linewidth=2)\n",
    "  left=t1[:,pt,0]\n",
    "  height=t1[:,pt,3]\n",
    "  p2 = plt.scatter(left, height, linewidth=2)\n",
    "  \"\"\""
   ]
  },
  {
   "cell_type": "code",
   "execution_count": null,
   "metadata": {
    "colab": {
     "base_uri": "https://localhost:8080/",
     "height": 87
    },
    "executionInfo": {
     "elapsed": 37,
     "status": "ok",
     "timestamp": 1672373965091,
     "user": {
      "displayName": "学生1935084t",
      "userId": "12227631716568337195"
     },
     "user_tz": -540
    },
    "id": "-o8MbWDPEU2L",
    "outputId": "ce6efa1d-c25d-43b0-860d-974b4b208c2b"
   },
   "outputs": [],
   "source": [
    "\"\"\"\n",
    "cnt=0\n",
    "plt.figure(figsize=(2*10,2*10))\n",
    "for pt in range(859,863):\n",
    "  cnt=cnt+1\n",
    "  plt.subplot(2,2,cnt)\n",
    "  left=t0[:,pt,0]\n",
    "  height=t0[:,pt,3]\n",
    "  p1 = plt.scatter(left, height, linewidth=2)\n",
    "  left=t1[:,pt,0]\n",
    "  height=t1[:,pt,3]\n",
    "  p2 = plt.scatter(left, height, linewidth=2)\n",
    "  \"\"\""
   ]
  },
  {
   "cell_type": "code",
   "execution_count": null,
   "metadata": {
    "colab": {
     "base_uri": "https://localhost:8080/",
     "height": 104
    },
    "executionInfo": {
     "elapsed": 37,
     "status": "ok",
     "timestamp": 1672373965092,
     "user": {
      "displayName": "学生1935084t",
      "userId": "12227631716568337195"
     },
     "user_tz": -540
    },
    "id": "qduD7rIaEpz2",
    "outputId": "3d5c6317-7c4b-4368-8599-d934b853b2df"
   },
   "outputs": [],
   "source": [
    "\"\"\"\n",
    "cnt=0\n",
    "plt.figure(figsize=(2*10,2*10))\n",
    "pt=863\n",
    "for n in range(0,4):\n",
    "  for m in range(0,4):\n",
    "    if n>=m: continue\n",
    "    cnt=cnt+1\n",
    "    plt.subplot(3,2,cnt)\n",
    "    left=t0[:,pt,n]\n",
    "    height=t0[:,pt,m]\n",
    "    plt.xlim(-3,3)\n",
    "    plt.ylim(-3,3)\n",
    "    p1 = plt.scatter(left, height, linewidth=2)\n",
    "    left=t1[:,pt,n]\n",
    "    height=t1[:,pt,m]\n",
    "    p2 = plt.scatter(left, height, linewidth=2)\n",
    "    plt.title(str(n)+str(m))\n",
    "\"\"\""
   ]
  },
  {
   "cell_type": "code",
   "execution_count": null,
   "metadata": {
    "colab": {
     "base_uri": "https://localhost:8080/",
     "height": 104
    },
    "executionInfo": {
     "elapsed": 35,
     "status": "ok",
     "timestamp": 1672373965092,
     "user": {
      "displayName": "学生1935084t",
      "userId": "12227631716568337195"
     },
     "user_tz": -540
    },
    "id": "Zcq6CeJqHL7A",
    "outputId": "5cb29999-aa13-49e7-934b-5940c6486f15"
   },
   "outputs": [],
   "source": [
    "\"\"\"\n",
    "cnt=0\n",
    "plt.figure(figsize=(2*10,2*10))\n",
    "pt=1\n",
    "for n in range(0,4):\n",
    "  for m in range(0,4):\n",
    "    if n>=m: continue\n",
    "    cnt=cnt+1\n",
    "    plt.subplot(3,2,cnt)\n",
    "    left=t0[:,pt,n]\n",
    "    height=t0[:,pt,m]\n",
    "    plt.xlim(-3,3)\n",
    "    plt.ylim(-3,3)\n",
    "    p1 = plt.scatter(left, height, linewidth=2)\n",
    "    left=t1[:,pt,n]\n",
    "    height=t1[:,pt,m]\n",
    "    p2 = plt.scatter(left, height, linewidth=2)\n",
    "    plt.title(str(n)+str(m))\n",
    "\"\"\""
   ]
  },
  {
   "cell_type": "code",
   "execution_count": null,
   "metadata": {
    "colab": {
     "base_uri": "https://localhost:8080/",
     "height": 87
    },
    "executionInfo": {
     "elapsed": 34,
     "status": "ok",
     "timestamp": 1672373965092,
     "user": {
      "displayName": "学生1935084t",
      "userId": "12227631716568337195"
     },
     "user_tz": -540
    },
    "id": "p0Db8lV-er9a",
    "outputId": "50109eb9-9b6d-45e5-c240-6931c2534c7d"
   },
   "outputs": [],
   "source": [
    "\"\"\"\n",
    "pt=863\n",
    "print(0)\n",
    "dist = np.linalg.norm(t1[:117,pt,0]-t0[:117,pt,0])\n",
    "print(dist)\n",
    "print(1)\n",
    "dist = np.linalg.norm(t1[:117,pt,1]-t0[:117,pt,1])\n",
    "print(dist)\n",
    "print(2)\n",
    "dist = np.linalg.norm(t1[:117,pt,2]-t0[:117,pt,2])\n",
    "print(dist)\n",
    "print(3)\n",
    "dist = np.linalg.norm(t1[:117,pt,3]-t0[:117,pt,3])\n",
    "print(dist)\n",
    "\"\"\""
   ]
  },
  {
   "cell_type": "code",
   "execution_count": null,
   "metadata": {
    "colab": {
     "base_uri": "https://localhost:8080/",
     "height": 87
    },
    "executionInfo": {
     "elapsed": 36,
     "status": "ok",
     "timestamp": 1672373965094,
     "user": {
      "displayName": "学生1935084t",
      "userId": "12227631716568337195"
     },
     "user_tz": -540
    },
    "id": "1TevP83si6Ql",
    "outputId": "6b9f207f-64cb-4f86-d9bc-0032e0d25f05"
   },
   "outputs": [],
   "source": [
    "\"\"\"\n",
    "pt=0\n",
    "print(0)\n",
    "dist = np.linalg.norm(t1[:117,pt,0]-t0[:117,pt,0])\n",
    "print(dist)\n",
    "print(1)\n",
    "dist = np.linalg.norm(t1[:117,pt,1]-t0[:117,pt,1])\n",
    "print(dist)\n",
    "print(2)\n",
    "dist = np.linalg.norm(t1[:117,pt,2]-t0[:117,pt,2])\n",
    "print(dist)\n",
    "print(3)\n",
    "dist = np.linalg.norm(t1[:117,pt,3]-t0[:117,pt,3])\n",
    "print(dist)\n",
    "\"\"\""
   ]
  },
  {
   "cell_type": "code",
   "execution_count": null,
   "metadata": {
    "colab": {
     "base_uri": "https://localhost:8080/",
     "height": 52
    },
    "executionInfo": {
     "elapsed": 35,
     "status": "ok",
     "timestamp": 1672373965095,
     "user": {
      "displayName": "学生1935084t",
      "userId": "12227631716568337195"
     },
     "user_tz": -540
    },
    "id": "Wso6MW8Em4E-",
    "outputId": "3e1a72e7-05af-40df-a32e-788f526e21ac"
   },
   "outputs": [],
   "source": [
    "\"\"\"\n",
    "for pt in range(864):\n",
    "  print(pt)\n",
    "  dist = np.linalg.norm(t1[:117,pt,:]-t0[:117,pt,:])\n",
    "  print(dist)\n",
    "\"\"\""
   ]
  },
  {
   "cell_type": "markdown",
   "metadata": {
    "id": "W0xaExijLsfb"
   },
   "source": [
    "違いが大きいほうが散らばりが大きいのが見てわかる、これを類似度図るからのその変数の組み合わせから何が原因となっているのか探る、テンソルコアの書き換え"
   ]
  },
  {
   "cell_type": "markdown",
   "metadata": {
    "id": "YjJG7hoRckx8"
   },
   "source": [
    "再度12のところでグループ分けするのもありかも"
   ]
  },
  {
   "cell_type": "markdown",
   "metadata": {
    "id": "3ZpW2dXjcr9E"
   },
   "source": [
    "今はラックだけの要素を用いて比較しているが、他の要素を使うべきやと思う"
   ]
  },
  {
   "cell_type": "code",
   "execution_count": null,
   "metadata": {
    "colab": {
     "base_uri": "https://localhost:8080/",
     "height": 191
    },
    "executionInfo": {
     "elapsed": 34,
     "status": "ok",
     "timestamp": 1672373965095,
     "user": {
      "displayName": "学生1935084t",
      "userId": "12227631716568337195"
     },
     "user_tz": -540
    },
    "id": "u8MSTcxqw2bU",
    "outputId": "b822766b-ce44-44ed-99dc-7ae70d6e4070"
   },
   "outputs": [],
   "source": [
    "\"\"\"\n",
    "pt=863\n",
    "plt.figure(figsize=(2*10,2*10))\n",
    "left=range(221)\n",
    "height1=t0[:,pt,0]\n",
    "height2=t0[:,pt,1]\n",
    "height3=t0[:,pt,2]\n",
    "height4=t0[:,pt,3]\n",
    "plt.subplot(1,2,1)\n",
    "p1 = plt.plot(left, height1, linewidth=2)\n",
    "p2 = plt.plot(left, height2, linewidth=2)\n",
    "p3 = plt.plot(left, height3, linewidth=2)\n",
    "p4 = plt.plot(left, height4, linewidth=2)\n",
    "plt.legend((p1[0], p2[0],p3[0], p4[0]), (\"Class 1\", \"Class 2\",\"Class 3\", \"Class 4\"), loc=4)\n",
    "left=range(117)\n",
    "height1=t1[:,pt,0]\n",
    "height2=t1[:,pt,1]\n",
    "height3=t1[:,pt,2]\n",
    "height4=t1[:,pt,3]\n",
    "plt.subplot(1,2,2)\n",
    "p1 = plt.plot(left, height1, linewidth=2)\n",
    "p2 = plt.plot(left, height2, linewidth=2)\n",
    "p3 = plt.plot(left, height3, linewidth=2)\n",
    "p4 = plt.plot(left, height4, linewidth=2)\n",
    "plt.legend((p1[0], p2[0],p3[0], p4[0]), (\"Class 1\", \"Class 2\",\"Class 3\", \"Class 4\"), loc=4)\n",
    "\"\"\""
   ]
  },
  {
   "cell_type": "markdown",
   "metadata": {
    "id": "i-ljt9zOyGJ-"
   },
   "source": [
    "ここからもう一度テンソルに戻って、一個の要素を固定したり、影響力が大きいところの実際の数値の確認"
   ]
  },
  {
   "cell_type": "markdown",
   "metadata": {
    "id": "DzvxjFbMTnav"
   },
   "source": [
    "## 要素の削除と再テンソル化"
   ]
  },
  {
   "cell_type": "code",
   "execution_count": null,
   "metadata": {
    "executionInfo": {
     "elapsed": 34,
     "status": "ok",
     "timestamp": 1672373965096,
     "user": {
      "displayName": "学生1935084t",
      "userId": "12227631716568337195"
     },
     "user_tz": -540
    },
    "id": "4OQ-XFe-TsCM"
   },
   "outputs": [],
   "source": [
    "\"\"\"\n",
    "#axis=0,奥行,axis=1,行、axis=2,列\n",
    "def spaceDelete(t,n):\n",
    "  np.delete(t,n,axis=1)\n",
    "\n",
    "#axis=0,奥行,axis=1,行、axis=2,列\n",
    "def timeDelete(t,n):\n",
    "  np.delete(t,n,axis=2)\n",
    "\n",
    "def measureDelete(t,n):\n",
    "  np.delete(t,n,axis=0)\n",
    "\n",
    "\"\"\"\n"
   ]
  },
  {
   "cell_type": "code",
   "execution_count": null,
   "metadata": {
    "executionInfo": {
     "elapsed": 34,
     "status": "ok",
     "timestamp": 1672373965096,
     "user": {
      "displayName": "学生1935084t",
      "userId": "12227631716568337195"
     },
     "user_tz": -540
    },
    "id": "1RgngoSKVRW_"
   },
   "outputs": [],
   "source": [
    "\n",
    "\"\"\"\n",
    "#multidelete\n",
    "#axis=0,奥行,axis=1,行、axis=2,列\n",
    "def spaceMultiDelete(n):\n",
    "  t0=np.delete(tensor_0,n,axis=1)\n",
    "  t1=np.delete(tensor_1,n,axis=1)\n",
    "  t2=np.delete(tensor_2,n,axis=1)\n",
    "  t3=np.delete(tensor_all,n,axis=1)\n",
    "  return t0,t1,t2,t3\n",
    "\"\"\"\n"
   ]
  },
  {
   "cell_type": "code",
   "execution_count": null,
   "metadata": {
    "executionInfo": {
     "elapsed": 35,
     "status": "ok",
     "timestamp": 1672373965097,
     "user": {
      "displayName": "学生1935084t",
      "userId": "12227631716568337195"
     },
     "user_tz": -540
    },
    "id": "fXza8p-ITkaP"
   },
   "outputs": [],
   "source": [
    "#nt0,nt1,nt2,nt3=spaceMultiDelete(153)"
   ]
  },
  {
   "cell_type": "code",
   "execution_count": null,
   "metadata": {
    "executionInfo": {
     "elapsed": 34,
     "status": "ok",
     "timestamp": 1672373965097,
     "user": {
      "displayName": "学生1935084t",
      "userId": "12227631716568337195"
     },
     "user_tz": -540
    },
    "id": "LaJhZ5c3DMOF"
   },
   "outputs": [],
   "source": [
    "#plotFream(nt0,nt1,nt2,nt3,rank_list)"
   ]
  },
  {
   "cell_type": "markdown",
   "metadata": {
    "id": "-rRNf0npEaUk"
   },
   "source": [
    "空間軸方向でも、umapなどでテンソルを作る"
   ]
  },
  {
   "cell_type": "code",
   "execution_count": null,
   "metadata": {
    "executionInfo": {
     "elapsed": 35,
     "status": "ok",
     "timestamp": 1672373965098,
     "user": {
      "displayName": "学生1935084t",
      "userId": "12227631716568337195"
     },
     "user_tz": -540
    },
    "id": "mHO4qh2_P-E-"
   },
   "outputs": [],
   "source": [
    "\"\"\"\n",
    "def plotData(pltdata):\n",
    "  plt.figure(figsize=(12, 12))\n",
    "  plt.scatter(pltdata[:,0], pltdata[:,1], s=3)\n",
    "  plt.colorbar()\n",
    "  plt.grid()\n",
    "  plt.show()\n",
    "\"\"\"\n"
   ]
  },
  {
   "cell_type": "code",
   "execution_count": null,
   "metadata": {
    "colab": {
     "base_uri": "https://localhost:8080/"
    },
    "executionInfo": {
     "elapsed": 7494,
     "status": "ok",
     "timestamp": 1672373972558,
     "user": {
      "displayName": "学生1935084t",
      "userId": "12227631716568337195"
     },
     "user_tz": -540
    },
    "id": "QPJnmXs0PwxL",
    "outputId": "6c4bc378-d3d7-49a3-d4a4-74ff39026083"
   },
   "outputs": [],
   "source": [
    "!pip3 install umap-learn"
   ]
  },
  {
   "cell_type": "code",
   "execution_count": null,
   "metadata": {
    "executionInfo": {
     "elapsed": 32668,
     "status": "ok",
     "timestamp": 1672374005219,
     "user": {
      "displayName": "学生1935084t",
      "userId": "12227631716568337195"
     },
     "user_tz": -540
    },
    "id": "iWsBJZHxPz5Y"
   },
   "outputs": [],
   "source": [
    "\"\"\"\n",
    "import umap\n",
    "from scipy.sparse.csgraph import connected_components\n",
    "# 公式GitHubには書いてあるのですが、↑を書かないとエラーが出てしまいます。\n",
    "\"\"\"\n",
    "\n"
   ]
  },
  {
   "cell_type": "code",
   "execution_count": null,
   "metadata": {
    "colab": {
     "base_uri": "https://localhost:8080/"
    },
    "executionInfo": {
     "elapsed": 45744,
     "status": "ok",
     "timestamp": 1672374050943,
     "user": {
      "displayName": "学生1935084t",
      "userId": "12227631716568337195"
     },
     "user_tz": -540
    },
    "id": "KBKL6zolZquM",
    "outputId": "d8dc179a-f68d-4c38-b3dd-08fca8f72bb9"
   },
   "outputs": [],
   "source": [
    "\"\"\"\n",
    "\n",
    "tt0,u0=ntd(tensor_0,rank_list)\n",
    "a0,b0=non_negative_tucker_core(tensor_0,rank_list,tt0)\n",
    "a1,b1=non_negative_tucker_core(tensor_1,rank_list,tt0)\n",
    "a2,b2=non_negative_tucker_core(tensor_2,rank_list,tt0)\n",
    "a3,b3=non_negative_tucker_core(tensor_all,rank_list,tt0)\n",
    "\n",
    "\"\"\"\n",
    "\n"
   ]
  },
  {
   "cell_type": "code",
   "execution_count": null,
   "metadata": {
    "executionInfo": {
     "elapsed": 25,
     "status": "ok",
     "timestamp": 1672374050943,
     "user": {
      "displayName": "学生1935084t",
      "userId": "12227631716568337195"
     },
     "user_tz": -540
    },
    "id": "W8hXhYfHYb67"
   },
   "outputs": [],
   "source": [
    "#k=tensor_all.shape"
   ]
  },
  {
   "cell_type": "code",
   "execution_count": null,
   "metadata": {
    "executionInfo": {
     "elapsed": 24,
     "status": "ok",
     "timestamp": 1672374050944,
     "user": {
      "displayName": "学生1935084t",
      "userId": "12227631716568337195"
     },
     "user_tz": -540
    },
    "id": "_aVPu_RwYUTr"
   },
   "outputs": [],
   "source": [
    "#ten1=tensor_all.transpose(0,2,1).reshape(k[2]*k[1],k[0])"
   ]
  },
  {
   "cell_type": "code",
   "execution_count": null,
   "metadata": {
    "executionInfo": {
     "elapsed": 23,
     "status": "ok",
     "timestamp": 1672374050944,
     "user": {
      "displayName": "学生1935084t",
      "userId": "12227631716568337195"
     },
     "user_tz": -540
    },
    "id": "DXdTyHtcYfCP"
   },
   "outputs": [],
   "source": [
    "#print(ten1.T.shape)"
   ]
  },
  {
   "cell_type": "code",
   "execution_count": null,
   "metadata": {
    "colab": {
     "base_uri": "https://localhost:8080/"
    },
    "executionInfo": {
     "elapsed": 22,
     "status": "ok",
     "timestamp": 1672374050944,
     "user": {
      "displayName": "学生1935084t",
      "userId": "12227631716568337195"
     },
     "user_tz": -540
    },
    "id": "gPDRJCr9ciha",
    "outputId": "1474f837-16e9-4c67-ae97-e0a51d1d3d6c"
   },
   "outputs": [],
   "source": [
    "#distance=np.linalg.norm(b0[1]-b3[1])\n",
    "#print(distance)"
   ]
  },
  {
   "cell_type": "code",
   "execution_count": null,
   "metadata": {
    "colab": {
     "base_uri": "https://localhost:8080/"
    },
    "executionInfo": {
     "elapsed": 11510,
     "status": "ok",
     "timestamp": 1672374062433,
     "user": {
      "displayName": "学生1935084t",
      "userId": "12227631716568337195"
     },
     "user_tz": -540
    },
    "id": "1_n_sjEkP2fr",
    "outputId": "1ff3013e-4d43-4469-adbf-3cf1c33c86ff"
   },
   "outputs": [],
   "source": [
    "#%time res_umap = umap.UMAP().fit_transform(b1[0])\n",
    "#print(res_umap.shape)"
   ]
  },
  {
   "cell_type": "code",
   "execution_count": null,
   "metadata": {
    "colab": {
     "base_uri": "https://localhost:8080/",
     "height": 676
    },
    "executionInfo": {
     "elapsed": 28,
     "status": "ok",
     "timestamp": 1672374062433,
     "user": {
      "displayName": "学生1935084t",
      "userId": "12227631716568337195"
     },
     "user_tz": -540
    },
    "id": "we-6t5UeP5oj",
    "outputId": "9a0035db-6fab-417b-f23b-7737eb506d5f"
   },
   "outputs": [],
   "source": [
    "#plotData(res_umap)"
   ]
  },
  {
   "cell_type": "markdown",
   "metadata": {
    "id": "lzy0xKaDe5mz"
   },
   "source": [
    "https://qiita.com/khigashi02/items/17f69da4851c71d8a0dc\n",
    "\n",
    "インタラクティブな可視化"
   ]
  },
  {
   "cell_type": "markdown",
   "metadata": {
    "id": "OfoIr_KNYYmf"
   },
   "source": [
    "https://www.jstage.jst.go.jp/article/tjsai/30/6/30_30-6_JWEIN-E/_pdf/-char/ja\n",
    "\n",
    "この論文を隅まで読む"
   ]
  },
  {
   "cell_type": "markdown",
   "metadata": {
    "id": "SCyG1MM985nW"
   },
   "source": [
    "## bokeh"
   ]
  },
  {
   "cell_type": "code",
   "execution_count": null,
   "metadata": {},
   "outputs": [],
   "source": []
  },
  {
   "cell_type": "code",
   "execution_count": null,
   "metadata": {},
   "outputs": [],
   "source": []
  },
  {
   "cell_type": "code",
   "execution_count": null,
   "metadata": {},
   "outputs": [],
   "source": []
  }
 ],
 "metadata": {
  "colab": {
   "authorship_tag": "ABX9TyMyOkSX2cULebgTn0PRv05Q",
   "collapsed_sections": [
    "t70W9uqz-6bF",
    "ht2gMM-r_b_M",
    "SCyG1MM985nW"
   ],
   "mount_file_id": "1k7T6N0YT8v7rpDOTOinJS8F84JIMHCkr",
   "provenance": []
  },
  "gpuClass": "standard",
  "kernelspec": {
   "display_name": "Python 3",
   "language": "python",
   "name": "python3"
  },
  "language_info": {
   "codemirror_mode": {
    "name": "ipython",
    "version": 3
   },
   "file_extension": ".py",
   "mimetype": "text/x-python",
   "name": "python",
   "nbconvert_exporter": "python",
   "pygments_lexer": "ipython3",
   "version": "3.8.3"
  }
 },
 "nbformat": 4,
 "nbformat_minor": 4
}

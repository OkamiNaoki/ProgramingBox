{
 "cells": [
  {
   "cell_type": "markdown",
   "metadata": {
    "id": "n2Y2W3dz-RlW"
   },
   "source": [
    "# テンソル分解"
   ]
  },
  {
   "cell_type": "markdown",
   "metadata": {
    "id": "CcNpO7QE4Ntm"
   },
   "source": [
    "目的　テンソル同士の比較、比較することで、そのテンソルの構成している要素を知る。何が原因となって、その特徴量を出しているのか"
   ]
  },
  {
   "cell_type": "markdown",
   "metadata": {
    "id": "pI6_ePj97SGU"
   },
   "source": [
    "https://www.jstage.jst.go.jp/article/journalcpij/53/3/53_1320/_pdf/-char/ja\n",
    "\n",
    "タッカー分解のコアテンソル、因子の扱い全てある\n",
    "\n",
    "コアテンソルを一旦一緒にするのではなく、それぞれでどの要素が影響しているのかしっかり見極める必要がある、それぞれの特徴行列の数値からどの要素が影響しているのかこの論文を対象に調べる必要がある。"
   ]
  },
  {
   "cell_type": "markdown",
   "metadata": {},
   "source": [
    "voilaではクラスタリングすることでより精度を高めるということをしていたが、これの目的は、クラスタリング後、比較することで異常を見つけ出すというのが目的、"
   ]
  },
  {
   "cell_type": "markdown",
   "metadata": {
    "id": "rj1iRSsDKiQa"
   },
   "source": [
    "卒論完成目標\n",
    "\n",
    "1、テンソル分解をする（今のところ、コアテンソルが対角要素となっているCP分解を用いてただテンソル分解をする。\n",
    "\n",
    "２、テンソル分解後の空間軸のコンポーネントを見て、そこの差をとり、空間軸、４つのコンポーネント、4テンソルのそれぞれの差をとり６個、差分テンソルを作る、これが（８６４、４、６）のテンソルになる（テンソルオールは入れなくていいかも）\n",
    "\n",
    "３、上のテンソルをタッカー分解することでコアテンソル、空間軸コンポーネントを見ることで差分のつまり、テンソルに差をつけている部分の場所を把握することができる、今のところ順調\n",
    "\n",
    "４、これを時間軸でもやりたいが、差をとるという事ができるのかという点で最初のテンソル分解をタッカー分解に変えて、時間軸の方も探索するというのもありかもしれない、\n",
    "\n",
    "終わり、どの場所で差がついているか分かれば、そこから一個前の軸に戻り、また同様に、どの部分が大事かを探索することで、元データに戻り、最終的に、実際の数値の差として知る事ができる\n"
   ]
  },
  {
   "cell_type": "markdown",
   "metadata": {
    "id": "ds4lbuSB-VhN"
   },
   "source": [
    "# データ処理"
   ]
  },
  {
   "cell_type": "markdown",
   "metadata": {
    "id": "c5Gwo3WJ-eTs"
   },
   "source": [
    "## import"
   ]
  },
  {
   "cell_type": "code",
   "execution_count": 1,
   "metadata": {
    "executionInfo": {
     "elapsed": 1331,
     "status": "ok",
     "timestamp": 1672373822107,
     "user": {
      "displayName": "学生1935084t",
      "userId": "12227631716568337195"
     },
     "user_tz": -540
    },
    "id": "JaME2DYs9ZdD"
   },
   "outputs": [],
   "source": [
    "import pandas as pd\n",
    "import numpy as np\n",
    "from sklearn import preprocessing"
   ]
  },
  {
   "cell_type": "markdown",
   "metadata": {
    "id": "HSGOOks6-hoB"
   },
   "source": [
    "## データ処理"
   ]
  },
  {
   "cell_type": "code",
   "execution_count": 2,
   "metadata": {},
   "outputs": [],
   "source": [
    "#CP分解をするとき1\n",
    "cp=0"
   ]
  },
  {
   "cell_type": "code",
   "execution_count": 3,
   "metadata": {
    "executionInfo": {
     "elapsed": 2442,
     "status": "ok",
     "timestamp": 1672373824547,
     "user": {
      "displayName": "学生1935084t",
      "userId": "12227631716568337195"
     },
     "user_tz": -540
    },
    "id": "TtbnvOrQ-QhU"
   },
   "outputs": [],
   "source": [
    "#データ読み込み\n",
    "df_cluster0 = pd.read_csv('./2014_drop.csv') # 学習データの読み込み\n",
    "df_cluster1 = pd.read_csv('./2015_drop.csv') # 検証データの読み込み\n",
    "df_cluster2 = pd.read_csv('./RackEnv_201604-201703.csv') # 提出用サンプルデータの読み込み\n",
    "#df_clusterall = pd.read_csv('./RackEnv_201404-201703.csv') # 提出用サンプルデータの読み込み\n",
    "df_cluster0['time'] = pd.to_datetime(df_cluster0['time'])\n",
    "df_cluster1['time'] = pd.to_datetime(df_cluster1['time'])\n",
    "df_cluster2['time'] = pd.to_datetime(df_cluster2['time'].astype(str))\n",
    "df_cluster0=df_cluster0.sort_values(['time','space'])\n",
    "df_cluster1=df_cluster1.sort_values(['time','space'])\n",
    "df_cluster2=df_cluster2.sort_values(['time','space'])"
   ]
  },
  {
   "cell_type": "code",
   "execution_count": 4,
   "metadata": {},
   "outputs": [
    {
     "name": "stdout",
     "output_type": "stream",
     "text": [
      "             time  space  AirIn  AirOut    CPU  Water\n",
      "0      2014-04-01      1  19.84   24.13  16.83  15.65\n",
      "1      2014-04-01      2  25.04   24.55  16.72  16.42\n",
      "2      2014-04-01      4  20.62   24.80  16.89  16.28\n",
      "3      2014-04-01      5  19.85   25.00  17.16  15.60\n",
      "4      2014-04-01      6  23.21   24.66  16.80  15.11\n",
      "...           ...    ...    ...     ...    ...    ...\n",
      "307579 2015-03-31   1075  20.09   24.30  17.42  15.55\n",
      "307580 2015-03-31   1076  19.96   25.19  17.57  15.58\n",
      "307581 2015-03-31   1077  20.14   24.66  17.50  14.94\n",
      "307582 2015-03-31   1079  24.25   24.32  17.70  16.21\n",
      "307583 2015-03-31   1080  19.41   25.45  17.78  15.55\n",
      "\n",
      "[307584 rows x 6 columns]\n"
     ]
    }
   ],
   "source": [
    "print(df_cluster0)"
   ]
  },
  {
   "cell_type": "code",
   "execution_count": 5,
   "metadata": {},
   "outputs": [],
   "source": [
    "#df_failure=df_cluster0[['MEM_failure']]"
   ]
  },
  {
   "cell_type": "code",
   "execution_count": 6,
   "metadata": {
    "colab": {
     "base_uri": "https://localhost:8080/",
     "height": 70
    },
    "executionInfo": {
     "elapsed": 14,
     "status": "ok",
     "timestamp": 1672373824548,
     "user": {
      "displayName": "学生1935084t",
      "userId": "12227631716568337195"
     },
     "user_tz": -540
    },
    "id": "pT6ygNG4-pcm",
    "outputId": "0800f881-9940-461f-cd49-434bba7607af"
   },
   "outputs": [
    {
     "data": {
      "text/plain": [
       "\"\\ndf_cluster0 = df_cluster0[['CPU', 'Water']]\\ndf_cluster1 = df_cluster1[['CPU', 'Water']]\\ndf_cluster2 = df_cluster2[[ 'CPU', 'Water']]\\ndf_clusterall = df_clusterall[[ 'CPU', 'Water']]\\n\""
      ]
     },
     "execution_count": 6,
     "metadata": {},
     "output_type": "execute_result"
    }
   ],
   "source": [
    "#データ削除\n",
    "df_cluster0 = df_cluster0[['AirIn','AirOut', 'CPU', 'Water']]\n",
    "df_cluster1 = df_cluster1[['AirIn','AirOut', 'CPU', 'Water']]\n",
    "df_cluster2 = df_cluster2[['AirIn','AirOut', 'CPU', 'Water']]\n",
    "#df_clusterall = df_clusterall[['AirIn','AirOut', 'CPU', 'Water']]\n",
    "\"\"\"\n",
    "df_cluster0 = df_cluster0[['CPU', 'Water']]\n",
    "df_cluster1 = df_cluster1[['CPU', 'Water']]\n",
    "df_cluster2 = df_cluster2[[ 'CPU', 'Water']]\n",
    "df_clusterall = df_clusterall[[ 'CPU', 'Water']]\n",
    "\"\"\""
   ]
  },
  {
   "cell_type": "code",
   "execution_count": 7,
   "metadata": {
    "colab": {
     "base_uri": "https://localhost:8080/"
    },
    "executionInfo": {
     "elapsed": 479,
     "status": "ok",
     "timestamp": 1672373825017,
     "user": {
      "displayName": "学生1935084t",
      "userId": "12227631716568337195"
     },
     "user_tz": -540
    },
    "id": "exIAshxh1786",
    "outputId": "24f6703c-05fe-4421-fc53-ed54ee3fa1cb"
   },
   "outputs": [
    {
     "name": "stdout",
     "output_type": "stream",
     "text": [
      "        AirIn  AirOut    CPU  Water\n",
      "0       19.84   24.13  16.83  15.65\n",
      "1       25.04   24.55  16.72  16.42\n",
      "2       20.62   24.80  16.89  16.28\n",
      "3       19.85   25.00  17.16  15.60\n",
      "4       23.21   24.66  16.80  15.11\n",
      "...       ...     ...    ...    ...\n",
      "307579  20.09   24.30  17.42  15.55\n",
      "307580  19.96   25.19  17.57  15.58\n",
      "307581  20.14   24.66  17.50  14.94\n",
      "307582  24.25   24.32  17.70  16.21\n",
      "307583  19.41   25.45  17.78  15.55\n",
      "\n",
      "[307584 rows x 4 columns]\n"
     ]
    }
   ],
   "source": [
    "print(df_cluster0)"
   ]
  },
  {
   "cell_type": "code",
   "execution_count": 8,
   "metadata": {
    "colab": {
     "base_uri": "https://localhost:8080/",
     "height": 52
    },
    "executionInfo": {
     "elapsed": 14,
     "status": "ok",
     "timestamp": 1672373825017,
     "user": {
      "displayName": "学生1935084t",
      "userId": "12227631716568337195"
     },
     "user_tz": -540
    },
    "id": "OIp-BqvE-rZE",
    "outputId": "988a3e23-228d-44a8-d381-da6ec6370218"
   },
   "outputs": [],
   "source": [
    "\n",
    "df_cluster0_sc = preprocessing.scale(df_cluster0, axis=0)\n",
    "df_cluster1_sc = preprocessing.scale(df_cluster1, axis=0)\n",
    "df_cluster2_sc = preprocessing.scale(df_cluster2, axis=0)\n",
    "#df_clusterall_sc = preprocessing.scale(df_clusterall, axis=0)\n",
    "\n",
    "\n",
    "df_cluster0 = df_cluster0.values\n",
    "df_cluster1 = df_cluster1.values\n",
    "df_cluster2 = df_cluster2.values\n",
    "#df_clusterall = df_clusterall.values\n"
   ]
  },
  {
   "cell_type": "code",
   "execution_count": 9,
   "metadata": {
    "executionInfo": {
     "elapsed": 11,
     "status": "ok",
     "timestamp": 1672373825018,
     "user": {
      "displayName": "学生1935084t",
      "userId": "12227631716568337195"
     },
     "user_tz": -540
    },
    "id": "iG2mBQ4v-taQ"
   },
   "outputs": [],
   "source": [
    "#テンソル化\n",
    "\n",
    "ttensor_0 = df_cluster0.reshape(-1, 864, 4)\n",
    "#print(tensor_0[1,0,0])\n",
    "ttensor_1 = df_cluster1.reshape(-1, 864, 4)\n",
    "#print(tensor_1[1,0,0])\n",
    "ttensor_2 = df_cluster2.reshape(-1, 864, 4)\n",
    "#print(tensor_2[1,0,0])\n",
    "#ttensor_all = df_clusterall.reshape(-1, 864, 4)\n",
    "ttensor_all=(ttensor_0+ttensor_1+ttensor_2)/3\n",
    "#print(tensor_2[1,0,0])\n",
    "\n",
    "tensor_0 = df_cluster0_sc.reshape(-1, 864, 4)\n",
    "#print(tensor_0[1,0,0])\n",
    "tensor_1 = df_cluster1_sc.reshape(-1, 864, 4)\n",
    "#print(tensor_1[1,0,0])\n",
    "tensor_2 = df_cluster2_sc.reshape(-1, 864, 4)\n",
    "#print(tensor_2[1,0,0])\n",
    "tensor_all=(tensor_0+tensor_1+tensor_2)/3\n",
    "#print(tensor_2[1,0,0])"
   ]
  },
  {
   "cell_type": "code",
   "execution_count": 10,
   "metadata": {
    "colab": {
     "base_uri": "https://localhost:8080/",
     "height": 35
    },
    "executionInfo": {
     "elapsed": 10,
     "status": "ok",
     "timestamp": 1672373825018,
     "user": {
      "displayName": "学生1935084t",
      "userId": "12227631716568337195"
     },
     "user_tz": -540
    },
    "id": "Hu_SfMP_SOFx",
    "outputId": "6bc814b4-7797-400b-e009-7a2464f9a1f3"
   },
   "outputs": [
    {
     "data": {
      "text/plain": [
       "'\\ntensor_0=np.delete(tensor_0,0,axis=1)\\nprint(tensor_0.shape)\\n'"
      ]
     },
     "execution_count": 10,
     "metadata": {},
     "output_type": "execute_result"
    }
   ],
   "source": [
    "#axis=0,奥行,axis=1,行、axis=2,列\n",
    "\"\"\"\n",
    "tensor_0=np.delete(tensor_0,0,axis=1)\n",
    "print(tensor_0.shape)\n",
    "\"\"\""
   ]
  },
  {
   "cell_type": "code",
   "execution_count": 11,
   "metadata": {},
   "outputs": [
    {
     "name": "stdout",
     "output_type": "stream",
     "text": [
      "(356, 864, 4)\n",
      "(356, 864, 4)\n"
     ]
    }
   ],
   "source": [
    "tensor_all=(tensor_0+tensor_1+tensor_2)/3\n",
    "print(tensor_0.shape)\n",
    "print(tensor_all.shape)\n"
   ]
  },
  {
   "cell_type": "code",
   "execution_count": 12,
   "metadata": {},
   "outputs": [],
   "source": [
    "#tensor_failure =df_failure.values.reshape(-1, 864)"
   ]
  },
  {
   "cell_type": "code",
   "execution_count": 13,
   "metadata": {},
   "outputs": [],
   "source": [
    "#print(np.where(tensor_failure == 1))"
   ]
  },
  {
   "cell_type": "markdown",
   "metadata": {
    "id": "Ks_basza-2XR"
   },
   "source": [
    "# テンソル分解"
   ]
  },
  {
   "cell_type": "markdown",
   "metadata": {
    "id": "t70W9uqz-6bF"
   },
   "source": [
    "## import"
   ]
  },
  {
   "cell_type": "code",
   "execution_count": 14,
   "metadata": {
    "colab": {
     "base_uri": "https://localhost:8080/"
    },
    "executionInfo": {
     "elapsed": 9950,
     "status": "ok",
     "timestamp": 1672373834959,
     "user": {
      "displayName": "学生1935084t",
      "userId": "12227631716568337195"
     },
     "user_tz": -540
    },
    "id": "PJY7H-4W-6DW",
    "outputId": "187b3687-56be-4467-883a-18d1e10b68d0"
   },
   "outputs": [
    {
     "name": "stdout",
     "output_type": "stream",
     "text": [
      "Requirement already up-to-date: tensorly in c:\\users\\cocon\\anaconda3\\lib\\site-packages (0.8.0)\n",
      "Requirement already satisfied, skipping upgrade: scipy in c:\\users\\cocon\\anaconda3\\lib\\site-packages (from tensorly) (1.5.0)\n",
      "Requirement already satisfied, skipping upgrade: numpy in c:\\users\\cocon\\anaconda3\\lib\\site-packages (from tensorly) (1.18.5)\n"
     ]
    }
   ],
   "source": [
    "!pip install -U tensorly"
   ]
  },
  {
   "cell_type": "code",
   "execution_count": 15,
   "metadata": {
    "executionInfo": {
     "elapsed": 7,
     "status": "ok",
     "timestamp": 1672373834960,
     "user": {
      "displayName": "学生1935084t",
      "userId": "12227631716568337195"
     },
     "user_tz": -540
    },
    "id": "Gusl0k_y-_6z"
   },
   "outputs": [],
   "source": [
    "import tensorly as tl\n",
    "import numpy as np\n",
    "from tensorly.decomposition import tucker\n",
    "from matplotlib import pyplot as plt\n",
    "from tensorly.base import unfold\n",
    "from tensorly.tenalg import multi_mode_dot, mode_dot\n",
    "from tensorly.tucker_tensor import tucker_to_tensor, TuckerTensor, validate_tucker_rank, tucker_normalize\n",
    "from tensorly.decomposition import non_negative_parafac, non_negative_tucker"
   ]
  },
  {
   "cell_type": "markdown",
   "metadata": {
    "id": "ht2gMM-r_b_M"
   },
   "source": [
    "## テンソル分解"
   ]
  },
  {
   "cell_type": "code",
   "execution_count": 16,
   "metadata": {
    "executionInfo": {
     "elapsed": 583,
     "status": "ok",
     "timestamp": 1672373835537,
     "user": {
      "displayName": "学生1935084t",
      "userId": "12227631716568337195"
     },
     "user_tz": -540
    },
    "id": "UsraaUhZ_T6y"
   },
   "outputs": [],
   "source": [
    "def non_negative_tucker_core(tensor, rank,mcore,mfactors, n_iter_max=1000, init='svd', tol=10e-6,\n",
    "                        random_state=None, verbose=False, return_errors=False,\n",
    "                        normalize_factors=False):\n",
    "    \"\"\"Non-negative Tucker decomposition\n",
    "\n",
    "        Iterative multiplicative update, see [2]_\n",
    "\n",
    "    Parameters\n",
    "    ----------\n",
    "    tensor : ``ndarray``\n",
    "    rank : None, int or int list\n",
    "        size of the core tensor, ``(len(ranks) == tensor.ndim)``\n",
    "        if int, the same rank is used for all modes\n",
    "    n_iter_max : int\n",
    "        maximum number of iteration\n",
    "    init : {'svd', 'random'}\n",
    "    random_state : {None, int, np.random.RandomState}\n",
    "    verbose : int , optional\n",
    "        level of verbosity\n",
    "    ranks : None or int list\n",
    "    size of the core tensor\n",
    "    normalize_factors : if True, aggregates the core which will contain the norms of the factors.\n",
    "\n",
    "    Returns\n",
    "    -------\n",
    "    core : ndarray\n",
    "            positive core of the Tucker decomposition\n",
    "            has shape `ranks`\n",
    "    factors : ndarray list\n",
    "            list of factors of the CP decomposition\n",
    "            element `i` is of shape ``(tensor.shape[i], rank)``\n",
    "\n",
    "    References\n",
    "    ----------\n",
    "    .. [2] Yong-Deok Kim and Seungjin Choi,\n",
    "       \"Non-negative tucker decomposition\",\n",
    "       IEEE Conference on Computer Vision and Pattern Recognition s(CVPR),\n",
    "       pp 1-8, 2007\n",
    "    \"\"\"\n",
    "    rank = validate_tucker_rank(tl.shape(tensor), rank=rank)\n",
    "\n",
    "    epsilon = 10e-12\n",
    "\n",
    "    # Initialisation\n",
    "    if init == 'svd':\n",
    "        core, factors = tucker(tensor, rank)\n",
    "        nn_factors = [tl.abs(f) for f in factors]\n",
    "        nn_core = tl.abs(core)\n",
    "    else:\n",
    "        rng = tl.check_random_state(random_state)\n",
    "        core = tl.tensor(rng.random_sample(rank) + 0.01, **tl.context(tensor))  # Check this\n",
    "        factors = [tl.tensor(rng.random_sample(s), **tl.context(tensor)) for s in zip(tl.shape(tensor), rank)]\n",
    "        nn_factors = [tl.abs(f) for f in factors]\n",
    "        nn_core = tl.abs(core)\n",
    "\n",
    "    norm_tensor = tl.norm(tensor, 2)\n",
    "    rec_errors = []\n",
    "    nn_core=tl.abs(mcore)#\n",
    "    #nn_factors[2]=mfactors[2] #\n",
    "    for iteration in range(n_iter_max):\n",
    "        for mode in range(tl.ndim(tensor)):\n",
    "            B = tucker_to_tensor((nn_core, nn_factors), skip_factor=mode)\n",
    "            B = tl.transpose(unfold(B, mode))\n",
    "\n",
    "            numerator = tl.dot(unfold(tensor, mode), B)\n",
    "            numerator = tl.clip(numerator, a_min=epsilon, a_max=None)\n",
    "            denominator = tl.dot(nn_factors[mode], tl.dot(tl.transpose(B), B))\n",
    "            denominator = tl.clip(denominator, a_min=epsilon, a_max=None)\n",
    "            nn_factors[mode] *= numerator / denominator\n",
    "\n",
    "        numerator = tucker_to_tensor((tensor, nn_factors), transpose_factors=True)\n",
    "        numerator = tl.clip(numerator, a_min=epsilon, a_max=None)\n",
    "        for i, f in enumerate(nn_factors):\n",
    "            if i:\n",
    "                denominator = mode_dot(denominator, tl.dot(tl.transpose(f), f), i)\n",
    "            else:\n",
    "                denominator = mode_dot(nn_core, tl.dot(tl.transpose(f), f), i)\n",
    "        denominator = tl.clip(denominator, a_min=epsilon, a_max=None)\n",
    "        #nn_core *= numerator / denominator\n",
    "\n",
    "        rec_error = tl.norm(tensor - tucker_to_tensor((nn_core, nn_factors)), 2) / norm_tensor\n",
    "        rec_errors.append(rec_error)\n",
    "        if iteration > 1 and verbose:\n",
    "            print('reconstruction error={}, variation={}.'.format(\n",
    "                rec_errors[-1], rec_errors[-2] - rec_errors[-1]))\n",
    "\n",
    "        if iteration > 100 and abs(rec_errors[-2] - rec_errors[-1]) < tol:\n",
    "            if verbose:\n",
    "                print('converged in {} iterations.'.format(iteration))\n",
    "            break\n",
    "        if normalize_factors:\n",
    "            nn_core, nn_factors = tucker_normalize((nn_core, nn_factors))\n",
    "    tensor = TuckerTensor((nn_core, nn_factors))\n",
    "    if return_errors:\n",
    "        return tensor, rec_errors\n",
    "    else:\n",
    "        print(\"rec_errors\")\n",
    "        print(rec_errors)\n",
    "        return tensor\n"
   ]
  },
  {
   "cell_type": "code",
   "execution_count": 17,
   "metadata": {
    "executionInfo": {
     "elapsed": 10,
     "status": "ok",
     "timestamp": 1672373835538,
     "user": {
      "displayName": "学生1935084t",
      "userId": "12227631716568337195"
     },
     "user_tz": -540
    },
    "id": "fLXANqhAGT1l"
   },
   "outputs": [],
   "source": [
    "def ntd(tensor,rank_list):\n",
    "  return non_negative_tucker(tensor, rank_list, tol=1.0e-10, n_iter_max=100)"
   ]
  },
  {
   "cell_type": "markdown",
   "metadata": {
    "id": "Uppp086L_j91"
   },
   "source": [
    "## プロット"
   ]
  },
  {
   "cell_type": "code",
   "execution_count": 18,
   "metadata": {
    "executionInfo": {
     "elapsed": 10,
     "status": "ok",
     "timestamp": 1672373835538,
     "user": {
      "displayName": "学生1935084t",
      "userId": "12227631716568337195"
     },
     "user_tz": -540
    },
    "id": "w-mS2KFpAMpv"
   },
   "outputs": [],
   "source": [
    "import seaborn as sns\n",
    "import matplotlib.pyplot as plt"
   ]
  },
  {
   "cell_type": "code",
   "execution_count": 19,
   "metadata": {
    "executionInfo": {
     "elapsed": 10,
     "status": "ok",
     "timestamp": 1672373835539,
     "user": {
      "displayName": "学生1935084t",
      "userId": "12227631716568337195"
     },
     "user_tz": -540
    },
    "id": "KOdI5urr_rSF"
   },
   "outputs": [],
   "source": [
    "def heatfacpltracwiden(t0,t1,t2,t3,m,n):\n",
    "  plt.figure(figsize=(1*10,1*10))\n",
    "  a=t0[1][:,m].T.reshape(36,24)\n",
    "  b=t1[1][:,m].T.reshape(36,24)\n",
    "  c=t2[1][:,m].T.reshape(36,24)\n",
    "  d=t3[1][:,m].T.reshape(36,24)\n",
    "  plt.subplot(n,4,m*4+1)\n",
    "  sns.heatmap(a,vmin=0, vmax=1)\n",
    "  plt.subplot(n,4,m*4+2)\n",
    "  sns.heatmap(b,vmin=0, vmax=1)\n",
    "  plt.subplot(n,4,m*4+3)\n",
    "  sns.heatmap(c,vmin=0, vmax=1)\n",
    "  plt.subplot(n,4,m*4+4)\n",
    "  sns.heatmap(d,vmin=0, vmax=1)"
   ]
  },
  {
   "cell_type": "code",
   "execution_count": 20,
   "metadata": {
    "executionInfo": {
     "elapsed": 9,
     "status": "ok",
     "timestamp": 1672373835539,
     "user": {
      "displayName": "学生1935084t",
      "userId": "12227631716568337195"
     },
     "user_tz": -540
    },
    "id": "pHlcT85Qkhe9"
   },
   "outputs": [],
   "source": [
    "def heattimeplt(t0,t1,t2,t3):\n",
    "  plt.figure(figsize=(1*10,1*10))\n",
    "  plt.subplot(1,4,1)\n",
    "  sns.heatmap(t0[0][:,:])\n",
    "  plt.subplot(1,4,2)\n",
    "  sns.heatmap(t1[0][:,:])\n",
    "  plt.subplot(1,4,3)\n",
    "  sns.heatmap(t2[0][:,:])\n",
    "  plt.subplot(1,4,4)\n",
    "  sns.heatmap(t3[0][:,:])"
   ]
  },
  {
   "cell_type": "markdown",
   "metadata": {
    "id": "Yc5nouG4abZb"
   },
   "source": [
    "特徴ベクトルをひとつめは5以下二つ目は10以下などできないか？"
   ]
  },
  {
   "cell_type": "markdown",
   "metadata": {
    "id": "nFNLHsrsh9ND"
   },
   "source": [
    "実験で様々な分析が出来るように、棒グラフなどいろいろ入れたい"
   ]
  },
  {
   "cell_type": "markdown",
   "metadata": {
    "id": "hpye6TEirNPq"
   },
   "source": [
    "データフレーム実装\n",
    "\n",
    "空間軸ヒートマップ〇\n",
    "\n",
    "時間軸ヒートマップ〇\n",
    "\n",
    "時間軸線グラフ〇\n",
    "\n",
    "測定軸ヒートマップと棒グラフ〇\n",
    "\n",
    "コアテンソルヒートマップもしくは、数値 〇\n",
    "\n",
    "元データの値を選択からの表示\n",
    "\n",
    "個別逆テンソル復元をし、元データの特徴を比較"
   ]
  },
  {
   "cell_type": "markdown",
   "metadata": {
    "id": "1yIUr_Gfj9ce"
   },
   "source": [
    "##データフレーム関数"
   ]
  },
  {
   "cell_type": "code",
   "execution_count": 21,
   "metadata": {
    "executionInfo": {
     "elapsed": 7,
     "status": "ok",
     "timestamp": 1672373835539,
     "user": {
      "displayName": "学生1935084t",
      "userId": "12227631716568337195"
     },
     "user_tz": -540
    },
    "id": "bEv3fmyR9-Ov"
   },
   "outputs": [],
   "source": [
    "def spaceHeatPlot(b0,b1,b2,b3,rl):\n",
    "  for num in range(0,rl[1]):\n",
    "    heatfacpltracwiden(b0,b1,b2,b3,num,rl[1])"
   ]
  },
  {
   "cell_type": "code",
   "execution_count": 22,
   "metadata": {
    "executionInfo": {
     "elapsed": 8,
     "status": "ok",
     "timestamp": 1672373835540,
     "user": {
      "displayName": "学生1935084t",
      "userId": "12227631716568337195"
     },
     "user_tz": -540
    },
    "id": "MtM9Aw2e-4is"
   },
   "outputs": [],
   "source": [
    "def timeHeatPlot(b0,b1,b2,b3,rl):\n",
    "  heattimeplt(b0,b1,b2,b3)"
   ]
  },
  {
   "cell_type": "code",
   "execution_count": 23,
   "metadata": {
    "executionInfo": {
     "elapsed": 7,
     "status": "ok",
     "timestamp": 1672373835540,
     "user": {
      "displayName": "学生1935084t",
      "userId": "12227631716568337195"
     },
     "user_tz": -540
    },
    "id": "Xza6TIGhZdvS"
   },
   "outputs": [],
   "source": [
    "def timeLinePlot(b0,b1,b2,b3,rl):\n",
    "  n=rl[0]\n",
    "  plt.figure(figsize=(1*10,1*10))\n",
    "\n",
    "  sns.relplot(data=b0[0][:,:], kind='line')\n",
    "  sns.relplot(data=b1[0][:,:], kind='line')\n",
    "  sns.relplot(data=b2[0][:,:], kind='line')\n",
    "  sns.relplot(data=b3[0][:,:], kind='line')"
   ]
  },
  {
   "cell_type": "code",
   "execution_count": 24,
   "metadata": {
    "executionInfo": {
     "elapsed": 8,
     "status": "ok",
     "timestamp": 1672373835541,
     "user": {
      "displayName": "学生1935084t",
      "userId": "12227631716568337195"
     },
     "user_tz": -540
    },
    "id": "CjJD_y4w-P7R"
   },
   "outputs": [],
   "source": [
    "def measureHeatPlot(b0,b1,b2,b3,rl):\n",
    "  plt.figure(figsize=(1*10,1*10))\n",
    "  plt.subplot(1,4,1)\n",
    "  sns.heatmap(b0[2][:,:])\n",
    "  plt.subplot(1,4,2)\n",
    "  sns.heatmap(b1[2][:,:])\n",
    "  plt.subplot(1,4,3)\n",
    "  sns.heatmap(b2[2][:,:])\n",
    "  plt.subplot(1,4,4)\n",
    "  sns.heatmap(b3[2][:,:])"
   ]
  },
  {
   "cell_type": "code",
   "execution_count": 25,
   "metadata": {
    "executionInfo": {
     "elapsed": 10,
     "status": "ok",
     "timestamp": 1672373835874,
     "user": {
      "displayName": "学生1935084t",
      "userId": "12227631716568337195"
     },
     "user_tz": -540
    },
    "id": "NBqYCybg-gWu"
   },
   "outputs": [],
   "source": [
    "def measureBarPlot(b0,b1,b2,b3,rl):\n",
    "  plt.figure(figsize=(1*10,1*10))\n",
    "  plt.subplot(1,4,1)\n",
    "  sns.barplot(data=b0[2])\n",
    "  plt.subplot(1,4,2)\n",
    "  sns.barplot(data=b1[2])\n",
    "  plt.subplot(1,4,3)\n",
    "  sns.barplot(data=b2[2])\n",
    "  plt.subplot(1,4,4)\n",
    "  sns.barplot(data=b3[2])"
   ]
  },
  {
   "cell_type": "code",
   "execution_count": 26,
   "metadata": {
    "executionInfo": {
     "elapsed": 9,
     "status": "ok",
     "timestamp": 1672373835874,
     "user": {
      "displayName": "学生1935084t",
      "userId": "12227631716568337195"
     },
     "user_tz": -540
    },
    "id": "n6seKbVtDsns"
   },
   "outputs": [],
   "source": [
    "def coreHeatMap(a0,a1,a2,a3,rl):\n",
    "  n=rl[2]\n",
    "  for m in range(0,rl[2]):\n",
    "    #heatfacpltracwiden(b0,b1,b2,b3,num,rl[1])\n",
    "    plt.figure(figsize=(n*10,n*10))\n",
    "    plt.subplot(n,4,m*4+1)\n",
    "    sns.heatmap(a0[:,:,m],vmin=0, vmax=1)\n",
    "    plt.subplot(n,4,m*4+2)\n",
    "    sns.heatmap(a1[:,:,m],vmin=0, vmax=1)\n",
    "    plt.subplot(n,4,m*4+3)\n",
    "    sns.heatmap(a2[:,:,m],vmin=0, vmax=1)\n",
    "    plt.subplot(n,4,m*4+4)\n",
    "    sns.heatmap(a3[:,:,m],vmin=0, vmax=1)"
   ]
  },
  {
   "cell_type": "code",
   "execution_count": 27,
   "metadata": {
    "executionInfo": {
     "elapsed": 9,
     "status": "ok",
     "timestamp": 1672373835875,
     "user": {
      "displayName": "学生1935084t",
      "userId": "12227631716568337195"
     },
     "user_tz": -540
    },
    "id": "xA4hfIjOLoyl"
   },
   "outputs": [],
   "source": [
    "def allPlot(a,b,rl):\n",
    "  plt.subplot(2,3,1)\n",
    "  sns.heatmap(b[0][:,:])\n",
    "  plt.subplot(2,3,2)\n",
    "  sns.heatmap(b[1][:,:])\n",
    "  plt.subplot(2,3,3)\n",
    "  sns.heatmap(b[2][:,:])\n",
    "  for m in range(0,rl[2]):\n",
    "    plt.subplot(2,3,m+4)\n",
    "    sns.heatmap(a[:,:,m])"
   ]
  },
  {
   "cell_type": "code",
   "execution_count": 28,
   "metadata": {
    "executionInfo": {
     "elapsed": 8,
     "status": "ok",
     "timestamp": 1672373835875,
     "user": {
      "displayName": "学生1935084t",
      "userId": "12227631716568337195"
     },
     "user_tz": -540
    },
    "id": "JNNPJqNw9LFQ"
   },
   "outputs": [],
   "source": [
    "def spaceHeatDif(t0,t1,t2,t3,m,n):\n",
    "  plt.figure(figsize=(n*10,n*10))\n",
    "  a=t0[1][:,m].T.reshape(36,24)\n",
    "  b=t1[1][:,m].T.reshape(36,24)\n",
    "  c=t2[1][:,m].T.reshape(36,24)\n",
    "  d=t3[1][:,m].T.reshape(36,24)\n",
    "  ab=abs(a-b)\n",
    "  ac=abs(a-c)\n",
    "  bc=abs(b-c)\n",
    "  ad=abs(a-d)\n",
    "  bd=abs(b-d)\n",
    "  cd=abs(c-d)\n",
    "\n",
    "  plt.subplot(n,6,m*6+1)\n",
    "  print(\"01\")\n",
    "  sns.heatmap(ab,vmin=0, vmax=1)\n",
    "  plt.subplot(n,6,m*6+2)\n",
    "  print(\"02\")\n",
    "  sns.heatmap(ac,vmin=0, vmax=1)\n",
    "  plt.subplot(n,6,m*6+3)\n",
    "  print(\"12\")\n",
    "  sns.heatmap(bc,vmin=0, vmax=1)\n",
    "  plt.subplot(n,6,m*6+4)\n",
    "  print(\"0a\")\n",
    "  sns.heatmap(ad,vmin=0, vmax=1)\n",
    "  plt.subplot(n,6,m*6+5)\n",
    "  print(\"1a\")\n",
    "  sns.heatmap(bd,vmin=0, vmax=1)\n",
    "  plt.subplot(n,6,m*6+6)\n",
    "  print(\"2a\")\n",
    "  sns.heatmap(cd,vmin=0, vmax=1)\n",
    "  print(\"誤差\")\n",
    "  print(\"01\")\n",
    "  print(ab.sum())\n",
    "  print(\"02\")\n",
    "  print(ac.sum())\n",
    "  print(\"12\")\n",
    "  print(bc.sum())\n",
    "  print(\"0a\")\n",
    "  print(ad.sum())\n",
    "  print(\"1a\")\n",
    "  print(bd.sum())\n",
    "  print(\"2a\")\n",
    "  print(cd.sum()) "
   ]
  },
  {
   "cell_type": "code",
   "execution_count": 29,
   "metadata": {
    "executionInfo": {
     "elapsed": 9,
     "status": "ok",
     "timestamp": 1672373835876,
     "user": {
      "displayName": "学生1935084t",
      "userId": "12227631716568337195"
     },
     "user_tz": -540
    },
    "id": "f2D28HB4B1H7"
   },
   "outputs": [],
   "source": [
    "def spaceRowHeatDif(t0,t1,t2,t3):\n",
    "  plt.figure(figsize=(1*10,1*10))\n",
    "  a=t0[1][:,:]\n",
    "  b=t1[1][:,:]\n",
    "  c=t2[1][:,:]\n",
    "  d=t3[1][:,:]\n",
    "  ab=abs(a-b)\n",
    "  ac=abs(a-c)\n",
    "  bc=abs(b-c)\n",
    "  ad=abs(a-d)\n",
    "  bd=abs(b-d)\n",
    "  cd=abs(c-d)\n",
    "\n",
    "  plt.subplot(1,6,1)\n",
    "  print(\"01\")\n",
    "  sns.heatmap(ab,vmin=0, vmax=1)\n",
    "  plt.subplot(1,6,2)\n",
    "  print(\"02\")\n",
    "  sns.heatmap(ac,vmin=0, vmax=1)\n",
    "  plt.subplot(1,6,3)\n",
    "  print(\"12\")\n",
    "  sns.heatmap(bc,vmin=0, vmax=1)\n",
    "  plt.subplot(1,6,4)\n",
    "  print(\"0a\")\n",
    "  sns.heatmap(ad,vmin=0, vmax=1)\n",
    "  plt.subplot(1,6,5)\n",
    "  print(\"1a\")\n",
    "  sns.heatmap(bd,vmin=0, vmax=1)\n",
    "  plt.subplot(1,6,6)\n",
    "  print(\"2a\")\n",
    "  sns.heatmap(cd,vmin=0, vmax=1)\n",
    "  print(\"誤差\")\n",
    "  print(\"01\")\n",
    "  print(ab.sum())\n",
    "  print(\"02\")\n",
    "  print(ac.sum())\n",
    "  print(\"12\")\n",
    "  print(bc.sum())\n",
    "  print(\"0a\")\n",
    "  print(ad.sum())\n",
    "  print(\"1a\")\n",
    "  print(bd.sum())\n",
    "  print(\"2a\")\n",
    "  print(cd.sum()) "
   ]
  },
  {
   "cell_type": "code",
   "execution_count": 30,
   "metadata": {
    "executionInfo": {
     "elapsed": 8,
     "status": "ok",
     "timestamp": 1672373835876,
     "user": {
      "displayName": "学生1935084t",
      "userId": "12227631716568337195"
     },
     "user_tz": -540
    },
    "id": "mBn3XNiciOZJ"
   },
   "outputs": [],
   "source": [
    "def plotFream(t0,t1,t2,t3,rl):\n",
    "  tt0,u0=ntd(t0,rl)\n",
    "  a0,b0=non_negative_tucker_core(t0,rl,tt0)\n",
    "  a1,b1=non_negative_tucker_core(t1,rl,tt0)\n",
    "  a2,b2=non_negative_tucker_core(t2,rl,tt0)\n",
    "  a3,b3=non_negative_tucker_core(t3,rl,tt0)\n",
    "    \n",
    "  #spaceHeatPlot(b0,b1,b2,b3,rl)\n",
    "\n",
    "  #plt.subplot(2,1,1)\n",
    "  plt.subplot2grid((2, 2), (0, 0), colspan=2)\n",
    "  spaceHeatPlot(b0,b1,b2,b3,rl)\n",
    "  plt.title(\"spaceHeatPlot\")\n",
    "  #plt.subplot(2,1,2)\n",
    "  plt.subplot2grid((2, 2), (1, 0), colspan=2)\n",
    "  timeHeatPlot(b0,b1,b2,b3,rl)\n",
    "  plt.title(\"timeHeatPlot\")\n",
    "  \"\"\"\n",
    "  timeLinePlot(b0,b1,b2,b3,rl)\n",
    "  plt.title(\"timeLinePlot\")\n",
    "  measureHeatPlot(b0,b1,b2,b3,rl)\n",
    "  plt.title(\"measureHeatPlot\")\n",
    "  measureBarPlot(b0,b1,b2,b3,rl)  \n",
    "  plt.title(\"measureBarPlot\")\n",
    "  coreHeatMap(a0,a1,a2,a3,rl)\n",
    "  plt.title(\"coreHeatMap\")\n",
    "  allPlot(a0,b0,rl)\n",
    "  plt.title(\"allPlot\")\n",
    "  \n",
    "  \"\"\"\n",
    "  \"\"\"\n",
    "  n=rl[1]\n",
    "  for m in range(0,rl[1]):\n",
    "    spaceHeatDif(b0,b1,b2,b3,m,n)\n",
    "  \"\"\"\n",
    "  #spaceRowHeatDif(b0,b1,b2,b3)"
   ]
  },
  {
   "cell_type": "markdown",
   "metadata": {
    "id": "hdGNXcOH_oxE"
   },
   "source": [
    "## 実験"
   ]
  },
  {
   "cell_type": "markdown",
   "metadata": {
    "id": "tuduxthQevlZ"
   },
   "source": [
    "変数の固定　測定値の固定をすることでの、時間軸と空間軸の比較、ラック毎の差を見た後、その差を生み出している原因の特定のための元データを戻って比較"
   ]
  },
  {
   "cell_type": "code",
   "execution_count": 31,
   "metadata": {
    "executionInfo": {
     "elapsed": 7,
     "status": "ok",
     "timestamp": 1672373835876,
     "user": {
      "displayName": "学生1935084t",
      "userId": "12227631716568337195"
     },
     "user_tz": -540
    },
    "id": "zd_aRRSQGV_7"
   },
   "outputs": [],
   "source": [
    "rl1=4\n",
    "rl2=4\n",
    "rl3=4\n",
    "rank_list=[rl1,rl2,rl3]"
   ]
  },
  {
   "cell_type": "code",
   "execution_count": 32,
   "metadata": {
    "executionInfo": {
     "elapsed": 8,
     "status": "ok",
     "timestamp": 1672373835877,
     "user": {
      "displayName": "学生1935084t",
      "userId": "12227631716568337195"
     },
     "user_tz": -540
    },
    "id": "Ev9WS14KjJbV"
   },
   "outputs": [],
   "source": [
    "#plotFream(tensor_0,tensor_1,tensor_2,tensor_all,rank_list)"
   ]
  },
  {
   "cell_type": "markdown",
   "metadata": {
    "id": "z71U506jfaBk"
   },
   "source": [
    "01の820番くらいが差が生まれているからその部分を比較するため、元データの比較と並び替えが必要"
   ]
  },
  {
   "cell_type": "code",
   "execution_count": 33,
   "metadata": {
    "colab": {
     "base_uri": "https://localhost:8080/"
    },
    "executionInfo": {
     "elapsed": 41210,
     "status": "ok",
     "timestamp": 1672373877080,
     "user": {
      "displayName": "学生1935084t",
      "userId": "12227631716568337195"
     },
     "user_tz": -540
    },
    "id": "pzWP3PC0_Wwn",
    "outputId": "5d7bf73e-f397-4a5c-fd82-3910d880a856"
   },
   "outputs": [
    {
     "name": "stdout",
     "output_type": "stream",
     "text": [
      "rec_errors\n",
      "[0.8779594360361989, 0.8187325640218133, 0.809128653772364, 0.805542389964626, 0.8036894062572868, 0.8025526933284076, 0.8017671134903486, 0.8011804642813551, 0.8007133575260181, 0.800318401837944, 0.7999641136662715, 0.7996264205127035, 0.7992866121120267, 0.7989295268920643, 0.798543371356007, 0.7981192972098972, 0.7976509791583555, 0.7971356051568601, 0.7965743934980976, 0.7959722262290561, 0.7953383144221048, 0.7946832537906489, 0.7940190532683808, 0.7933571900271589, 0.7927072967553722, 0.7920766351501811, 0.7914695514852936, 0.7908877724844557, 0.7903308890852512, 0.7897968606594808, 0.7892826492768027, 0.7887846755730402, 0.7882991671778004, 0.7878221956287772, 0.7873493559834239, 0.7868760355144874, 0.7863976948186543, 0.7859096126437077, 0.7854074600328628, 0.7848877276791918, 0.7843468133740099, 0.7837840213091313, 0.7831915655144407, 0.7825633058052666, 0.7819146579858239, 0.7812563626568099, 0.7805795507655382, 0.7798821614820572, 0.779172212318061, 0.7784594819315004, 0.7777484788876168, 0.7770406823754124, 0.7763446707172864, 0.775672942778421, 0.775029282449554, 0.7744097238611722, 0.7738179375985945, 0.7732630945277063, 0.7727398899257593, 0.7722385787596493, 0.7717522234164763, 0.7712710016805064, 0.7707883864186216, 0.7703462910072839, 0.7699120007750441, 0.7695116228101843, 0.7691390297495555, 0.7687878269881164, 0.7684485536178823, 0.7681101194743123, 0.7677732933531802, 0.7674441173269656, 0.767118603307042, 0.7668006147632028, 0.7664978792715902, 0.7662088683670998, 0.7659178271834449, 0.7656478865223845, 0.7653945883216766, 0.7651485049071881, 0.7649047723528867, 0.7646656340481219, 0.7644373771248754, 0.764211585198759, 0.7639830822337994, 0.7637826143940581, 0.7635984670908222, 0.7634257772823244, 0.7632568100425561, 0.7630966707960761, 0.7629394204982864, 0.7627825333576157, 0.7626231151409398, 0.7624618284020865, 0.762317227219705, 0.7621918819586351, 0.7620747140607731, 0.7619606604968839, 0.7618468526074815, 0.7617346317482637, 0.7616294383109673, 0.7615310678206995, 0.7614355878265778, 0.7613411732281484, 0.761249332958184, 0.7611618301764475, 0.7610779224111586, 0.7609963769440252, 0.7609169870419173, 0.7608401632034418, 0.7607660391442815, 0.7606940749552743, 0.7606235806593656, 0.7605544974899685, 0.7604874162094883, 0.7604225816199366, 0.7603592574104932, 0.7602963841068007, 0.7602336170857924, 0.7601716919289727, 0.7601115245734719, 0.7600528772287063, 0.7599942315779232, 0.7599339783035622, 0.7598721148076102, 0.7598099814493208, 0.7597489126632436, 0.7596907690917626, 0.7596368886042602, 0.7595869950860004, 0.7595400657648183, 0.7594952150965908, 0.7594517512416631, 0.7594089810783893, 0.7593661381436317, 0.7593224851951048, 0.7592770919935342, 0.7592284101001084, 0.7591758135085012, 0.7591222863259004, 0.7590723041762772, 0.7590266103704717, 0.7589836055016255, 0.7589423622601675, 0.7589026102677368, 0.7588641868157964, 0.7588268640983208, 0.7587902239350791, 0.7587536970697407, 0.7587167571080764, 0.7586790624675575, 0.7586404857822314, 0.758601038915448, 0.7585606266594483, 0.7585184356433339, 0.7584718435018607, 0.7584163105190581, 0.7583534415430484, 0.7582974315743183, 0.758251540075425, 0.7582093951083944, 0.7581679991681566, 0.7581263406018629, 0.7580838845618947, 0.7580403252727528, 0.7579955911367571, 0.7579498646663927, 0.7579035391617729, 0.7578570847551392, 0.7578108834786297, 0.7577651305216494, 0.7577198241250392, 0.7576747612770033, 0.7576294371335988, 0.7575829024614277, 0.7575342183985057, 0.7574845612757587, 0.7574380306762194, 0.7573966914294774, 0.7573590476973107, 0.7573235350306645, 0.7572894444283266, 0.7572564204240636, 0.7572241127057374, 0.7571920818475262, 0.7571598494791077, 0.7571269597708578, 0.7570930357249545, 0.7570578408063593, 0.7570212448763695, 0.7569829625529029, 0.7569425621126477, 0.7569005600300494, 0.7568591220312808, 0.7568197393687348, 0.7567819297664115, 0.7567449443236289, 0.7567085055037944, 0.7566725740817408, 0.7566371659294571, 0.7566022966844598, 0.7565679708202786, 0.7565341819866741, 0.7565009156047301, 0.7564681499336171, 0.7564358519750826, 0.7564039631845678, 0.7563723672715272, 0.7563408354961515, 0.7563089961156613, 0.7562765600488536, 0.7562440356149811, 0.7562127951797428, 0.7561834285512808, 0.7561553855992934, 0.7561281207889163, 0.7561014251462695, 0.7560752668096413, 0.7560496424057839, 0.7560244838278198, 0.7559996526344416, 0.7559750129057405, 0.7559505156889229, 0.755926223104297, 0.7559021847443634, 0.7558780973565525, 0.7558531502093856, 0.7558282671670411, 0.7558055232698159, 0.7557839246585133, 0.7557628056376355, 0.7557419838825965, 0.7557209945078562, 0.7556986865835785, 0.7556765107739625, 0.7556569512567373, 0.755638409139953, 0.7556202838092712, 0.755602472835493, 0.7555849225172472, 0.7555675903250768, 0.7555504428119458, 0.7555334547017702, 0.7555166077011629, 0.7554998894670764, 0.7554832927570273, 0.7554668146913935, 0.755450455814202, 0.7554342189200303, 0.7554181078392205, 0.7554021265344358, 0.7553862789758607, 0.7553705701515495, 0.7553550080416989, 0.7553396050903524, 0.7553243765124408, 0.7553093341698125, 0.7552944794266705, 0.755279801035941, 0.7552652799022034, 0.7552508966461314, 0.7552366373504191, 0.7552224960642301, 0.7552084748230762, 0.7551945821658766, 0.7551808306992449, 0.7551672339477861, 0.7551538028134394, 0.755140542647519, 0.7551274513386659, 0.7551145217169262, 0.7551017505667281, 0.7550891536811851, 0.7550767765046298, 0.7550646821573733, 0.7550529139984677, 0.7550414630437926, 0.7550302703163628, 0.755019253463259, 0.7550083279084445, 0.7549974099157868, 0.7549864009992932, 0.7549751365054471, 0.7549632162690342, 0.7549494712277885, 0.7549308711302224, 0.7549042509965435, 0.7548773858199782, 0.7548592367361733, 0.7548449901881429, 0.7548313804429936, 0.7548179910236571, 0.7548049197294234, 0.7547922749974788, 0.7547801018771895, 0.7547683798591461, 0.7547570433468357, 0.754746007280273, 0.7547351871119425, 0.7547245095345889, 0.7547139156562709, 0.7547033602521575, 0.7546928102385042, 0.7546822439015437, 0.7546716504591977, 0.7546610281845468, 0.7546503801084854, 0.7546397093656838, 0.7546290180596169, 0.7546183108341737, 0.7546075999477718, 0.7545969076091997, 0.7545862637738905, 0.754575700390398, 0.754565244554241, 0.7545549131532158, 0.7545447106684997, 0.7545346303111357, 0.7545246573973314]\n",
      "rec_errors\n",
      "[0.8832907526288725, 0.8060572381436489, 0.7928787262087834, 0.7882073243446666, 0.7859032602102154, 0.7844430337361097, 0.7833226913578767, 0.7823139470319747, 0.7812817833983061, 0.7801312583813677, 0.7787966720636178, 0.7772523957787948, 0.7755258721079188, 0.7736870288244607, 0.771823036826921, 0.7700094171744245, 0.7682963916634913, 0.7667155076693213, 0.7652907275665277, 0.7640325180952386, 0.7629315304487981, 0.7619702794745143, 0.7611347020806458, 0.7604099129582568, 0.7597761573823596, 0.7592119621233088, 0.7586980707830027, 0.7582201074743096, 0.757770652061994, 0.7573472351939236, 0.7569458458418549, 0.7565603126498944, 0.756185066463529, 0.7558162584563702, 0.7554513782436458, 0.7550886084336204, 0.7547262658810474, 0.754362889446351, 0.7539970071034595, 0.7536271502040323, 0.753251611768015, 0.75286806165157, 0.7524729773738257, 0.7520616672912567, 0.751630945798395, 0.7511808684176813, 0.7507030507632386, 0.7502233487460845, 0.7497482943766935, 0.7492844784437098, 0.7488216700085615, 0.7483458966700403, 0.7478452798901991, 0.7473316740816526, 0.7468421781837576, 0.7463764787203854, 0.7459208536552047, 0.7454632068325788, 0.7450112931783641, 0.7445711866253572, 0.7441363504448384, 0.7437051628180188, 0.743272979297857, 0.7428451705060701, 0.7424419440454718, 0.7420647149965808, 0.7417040337746371, 0.741352194583055, 0.741006163138453, 0.7406753283976002, 0.7403607119553125, 0.7400606305040162, 0.7397701660449199, 0.7394823462239737, 0.7392063355940739, 0.738936457533321, 0.7386679943419016, 0.7383978335910427, 0.7381336584779986, 0.7378895048453397, 0.7376526368215297, 0.7374306855672871, 0.737211629643073, 0.7369930282625652, 0.7367808343180475, 0.7365850835538283, 0.7364069488081083, 0.7362418014062598, 0.7360861867147919, 0.7359380638529057, 0.735796351106845, 0.7356604329112908, 0.7355297682069026, 0.7353999146946599, 0.7352783817583681, 0.7351606899376477, 0.7350463720139779, 0.7349311368599061, 0.7348224211038545, 0.7347157449404796, 0.7346099446880335, 0.7345071167242363, 0.7344089423929273, 0.7343139309839166, 0.7342216727300794, 0.7341253440419679, 0.7340157964918108, 0.7339303840813527, 0.7338481173823027, 0.7337677585107807, 0.7336891288175885, 0.7336121372447104, 0.7335367528200695, 0.7334629598417809, 0.733390700760426, 0.7333198359108263, 0.7332501455748301, 0.7331814025710532, 0.73311351475304, 0.7330466232817415, 0.7329809663205914, 0.7329165906323579, 0.7328532522505042, 0.732790512673987, 0.7327278137183008, 0.7326645400604623, 0.7326001232108978, 0.7325342544492988, 0.7324671392838549, 0.7323996452828891, 0.7323331534465604, 0.7322690874773369, 0.7322082978497925, 0.7321507412734105, 0.7320957792464162, 0.7320426533399086, 0.7319907364714626, 0.7319395995310252, 0.7318889986159045, 0.7318388416008743, 0.7317891585671007, 0.7317400638678532, 0.7316916839190734, 0.7316440679253234, 0.7315971474712784, 0.7315507761432573, 0.7315048039254728, 0.7314591255376335, 0.7314136533856623, 0.7313680520835966, 0.7313207236894467, 0.7312701911508788, 0.7312226346345941, 0.7311771083733051, 0.7311314073089447, 0.7310853894835884, 0.7310389637802763, 0.7309917921382932, 0.7309434709519473, 0.7308937267508363, 0.7308424704545375, 0.7307897692655286, 0.7307357820983685, 0.7306806862085412, 0.7306246343205258, 0.7305677655400952, 0.7305102516291022, 0.7304523338041411, 0.7303943127185717, 0.7303364883893968, 0.7302790861336572, 0.7302222154625267, 0.7301658786593169, 0.7301100090508956, 0.7300545110272945, 0.7299992873518015, 0.7299442551711001, 0.7298893581099856, 0.7298345686127251, 0.7297798804881666, 0.7297253300799834, 0.7296710485865926, 0.7296172833040769, 0.7295643621282855, 0.7295126290564641, 0.7294623806005607, 0.7294138171911357, 0.7293670185722124, 0.729321947715822, 0.7292784743787186, 0.729236403293719, 0.7291954997974984, 0.7291555145979675, 0.7291162102426432, 0.7290773881199557, 0.7290389119580053, 0.7290007230762466, 0.7289628431531621, 0.7289253619797269, 0.7288884114065715, 0.7288521310772866, 0.7288166333661132, 0.728781973982773, 0.7287481333606662, 0.728715012376917, 0.7286824423542382, 0.7286502029913663, 0.7286180340206398, 0.728585622132956, 0.7285525721963796, 0.7285185176012864, 0.7284836665513921, 0.7284490877406483, 0.7284153980047375, 0.7283822141145827, 0.7283491418046983, 0.7283160820189272, 0.7282830737986041, 0.7282502025915163, 0.7282175778854761, 0.7281853261264275, 0.7281535731588924, 0.7281224110839585, 0.7280918646574779, 0.7280618582875471, 0.7280318550858298, 0.728000388994413, 0.7279708027879082, 0.7279395125148764, 0.7279055841560328, 0.7278778879156504, 0.7278522706539047, 0.7278277189923374, 0.7278041639444097, 0.7277815260070271, 0.7277597120070022, 0.7277386252676137, 0.7277181671571686, 0.7276982342807724, 0.7276787140039377, 0.7276594797338037, 0.7276403892794275, 0.727621294714029, 0.7276020781949618, 0.7275827222993513, 0.7275633825247991, 0.7275443694088813, 0.7275259861148491, 0.7275083498781465, 0.7274913782125033, 0.7274749100618412, 0.7274588087242119, 0.7274429898743386, 0.7274274087595877, 0.7274120420153646, 0.7273968758254201, 0.7273819000198212, 0.7273671055451523, 0.7273524835149844, 0.727338024925442, 0.7273237206642834, 0.7273095616374005, 0.7272955389122123, 0.7272816438141744, 0.7272678679552582, 0.7272542032189038, 0.727240641748468, 0.7272271759695447, 0.7272137986340022, 0.7272005028350454, 0.7271872819258438, 0.727174129272965, 0.7271610377758827, 0.7271479990966819, 0.7271350026592469, 0.7271220349472315, 0.7271090808808358, 0.727096130937982, 0.7270831966960724, 0.7270703255770181, 0.7270575890079262, 0.7270450390932541, 0.7270326813530322, 0.7270204926231737, 0.7270084496112472, 0.7269965390272957, 0.7269847547103224, 0.7269730927994251, 0.7269615485933812, 0.7269501149282203, 0.7269387814884717, 0.7269275349096388, 0.7269163599604757, 0.7269052423387599, 0.7268941734401494, 0.7268831564510041, 0.7268722111497699, 0.7268613731043582, 0.7268506843506534, 0.7268401785379766, 0.7268298692044012, 0.7268197483296102, 0.726809794047513]\n",
      "rec_errors\n",
      "[0.9025727454716685, 0.83756853283131, 0.8261642217345844, 0.8209382660969141, 0.8182660494982807, 0.8164341504141623, 0.8148889733370585, 0.8134286781945865, 0.8119860407015093, 0.8105470541948286, 0.8091250355402021, 0.8077432960905166, 0.8064216796788749, 0.8051706081652227, 0.8039965374227868, 0.8029041694850128, 0.8018888798557701, 0.8009381538481382, 0.8000450057142728, 0.799200700427072, 0.7983410974746081, 0.7975163885781824, 0.7968478100211152, 0.7962295485614064, 0.7956794848394678, 0.7951714947166526, 0.7946987633521462, 0.7942563165803709, 0.7938383021111364, 0.7934326641918091, 0.7930061660304603, 0.7924553008806589, 0.7916890304052414, 0.7909234475583062, 0.7899926212461141, 0.7888050595997205, 0.7876484169357402, 0.7866984984049179, 0.7859806285688397, 0.7854123452107636, 0.7849124706632579, 0.784458381915459, 0.7841012583045831, 0.7838171156762039, 0.7836045424473937, 0.783391826559421, 0.7832018665736251, 0.78303737634624, 0.7828856427486469, 0.7827418563535125, 0.7826031610033409, 0.7824684474719, 0.782335942610283, 0.7822058579092726, 0.78207869806889, 0.7819527735930012, 0.7818300474207787, 0.7817097624218062, 0.7815910833297767, 0.7814720410351598, 0.7812986470240153, 0.7811903500453085, 0.7810869294388756, 0.7809877634768263, 0.7808864506161916, 0.78079180948975, 0.7806802179831062, 0.7805632629374045, 0.7804737708851174, 0.7803859152254029, 0.7803027732156488, 0.7802217563569412, 0.7801035891822697, 0.7800191660650401, 0.7799367557836634, 0.7798537877684906, 0.779772382989006, 0.7796936996259914, 0.7795771120181485, 0.7795008956195936, 0.7794252186546323, 0.7793498841521135, 0.7792746932298984, 0.7791990312677513, 0.7791211089402863, 0.7790432026089268, 0.7789678326022323, 0.7788942295712921, 0.7788221941308794, 0.7787421748123962, 0.7786706934063445, 0.7785996510673893, 0.778530516804555, 0.7784621789436604, 0.7783936403268823, 0.7783244786961039, 0.7782545234914442, 0.7781866479656419, 0.7781177362620529, 0.7780500307349646, 0.7779820587276999, 0.7779043518359581, 0.7778358691016724, 0.7777669296476003, 0.7776976030867904, 0.77762824155035, 0.777558996980394, 0.7774895748466638, 0.7774196017471973, 0.7773488173356637, 0.7772771451035755, 0.7771942719788919, 0.777121977818399, 0.7770501579278174, 0.7769789432648976, 0.7769083009511452, 0.7768381792978166, 0.7767682444511652, 0.7766983568010716, 0.7766290715475124, 0.7765598777699513, 0.7764898775816429, 0.7764184579819048, 0.7763459167326947, 0.7762735429693965, 0.7762017312162457, 0.7761295087296222, 0.7760562368596742, 0.7759823238571448, 0.77590883580011, 0.775836398673702, 0.7757649094447184, 0.7756938782043824, 0.775622466722297, 0.7755512698515491, 0.7754804404445504, 0.7754092223140462, 0.7753374521600931, 0.7752651274490346, 0.7751922842303557, 0.7751186790523865, 0.7750433694477222, 0.7749649960047916, 0.7748852061784873, 0.7748083443631009, 0.7747335631041073, 0.7746590947714035, 0.7745844110117103, 0.7745093938722158, 0.7744339735738047, 0.7743580581319572, 0.7742816394331936, 0.7742049172201557, 0.7741280325025944, 0.7740504622848723, 0.7739705418911119, 0.7738873071542569, 0.7738049576716745, 0.7737276420133399, 0.773654307326394, 0.7735831545889832, 0.7735135937752498, 0.7734453235837025, 0.7733779831148869, 0.7733111079116501, 0.7732442169426162, 0.7731769667003586, 0.77310918548114, 0.7730406511038209, 0.7729712095283034, 0.7729014269383463, 0.772832518554354, 0.7727650641141992, 0.7726985349882043, 0.7726319634729509, 0.7725645474632713, 0.7724958857028336, 0.7724262268875444, 0.7723565235113287, 0.7722875576360383, 0.7722190242339267, 0.7721498997575681, 0.7720791304513867, 0.7720058053242101, 0.7719290021733254, 0.7718475911622189, 0.7717601517248218, 0.7716650767797759, 0.7715608515703647, 0.7714464213629293, 0.7713215056382235, 0.7711864682981111, 0.7710414746161155, 0.7708858394345368, 0.7707184738622763, 0.7705387521240303, 0.770347074677448, 0.7701449354709471, 0.7699344839164203, 0.7697174875540361, 0.7694947365216567, 0.7692695631974212, 0.7690467916222057, 0.7688257039820294, 0.7686059763633663, 0.7683890189661877, 0.7681767106036248, 0.7679708252570727, 0.7677729214780743, 0.7675845111862946, 0.7674070227129939, 0.7672413983203432, 0.7670878458507723, 0.7669459155912693, 0.7668145487639194, 0.7666912900495038, 0.766564314967834, 0.766441503042201, 0.7663357517438271, 0.7662330668317504, 0.7661314673335746, 0.7660307210362847, 0.7659316806337892, 0.7658349585950106, 0.7657402507113087, 0.7656310934731343, 0.765466418022195, 0.7653770952855374, 0.7652947186314545, 0.7652162148910046, 0.7651413225240569, 0.7650706111480559, 0.7650051878153743, 0.7649456762048013, 0.7648914484483664, 0.7648408608458895, 0.7647922147445072, 0.7647452898275761, 0.7647017402055611, 0.7646618064926682, 0.7646240782607076, 0.7645875875255682, 0.7645519497745661, 0.764516845894129, 0.7644814314270074, 0.764443752460085, 0.7644007059911158, 0.7643529231438158, 0.7643103363636369, 0.7642761638541253, 0.7642455146671191, 0.7642152385983677, 0.7641823344447194, 0.7641418962447795, 0.7640921761797057, 0.7640467528214925, 0.7640152186052642, 0.763990506297216, 0.7639674659449933, 0.7639445968745548, 0.7639214936135232, 0.763898234628692, 0.763875059556597, 0.7638520437509763, 0.7638291704922625, 0.763806422066563, 0.7637837655368875, 0.763761242773336, 0.763739061998279, 0.7637174302017309, 0.7636963592414101, 0.7636757972932313, 0.7636556692698532, 0.7636357057127499, 0.763615520048441, 0.7635949403101344, 0.7635742849669711, 0.763554190598482, 0.7635349925528557, 0.7635164406283985, 0.7634979637629691, 0.7634788706212843, 0.7634583082429652, 0.7634353147249259, 0.7634094628464017, 0.7633821694503257, 0.7633562516767124, 0.7633325848872154, 0.7633097368195433, 0.7632861775196357, 0.7632609374255019, 0.7632336437777574, 0.763204789729672, 0.7631756972084139, 0.7631478780986479, 0.7631222767880066, 0.763099084952063, 0.7630780798131871, 0.7630588827811894, 0.7630410177052104, 0.7630240288978, 0.7630075940673143, 0.7629915210327791, 0.7629757024922335, 0.7629600955120883, 0.7629447032447527, 0.7629295011080479, 0.7629143487829383, 0.7628990002664893, 0.7628832311885734, 0.7628670515901375, 0.7628508578275531, 0.7628352188399861, 0.7628203494703494, 0.7628060047024712, 0.7627920653297651, 0.7627787799421436, 0.7627662004341607, 0.7627540808783986, 0.7627422276574568, 0.7627305652317304, 0.7627190685999515, 0.7627077241232384, 0.762696515528229, 0.7626854172514707, 0.7626743893782234, 0.7626633782431497, 0.7626523391841721, 0.7626412948859266, 0.7626303809047577, 0.7626197618856944, 0.7626094788074061, 0.7625994476270015, 0.7625895616811125]\n",
      "rec_errors\n",
      "[0.8360630631622791, 0.7705767295575051, 0.7563282914231851, 0.7490860900655956, 0.7453630819683785, 0.7430296909315237, 0.7412676366877642, 0.7397758748518911, 0.7384304342405574, 0.7371749339541208, 0.7359992901243706, 0.73489674786859, 0.7338626527329313, 0.732890973956516, 0.7319727822162877, 0.7310958296715468, 0.7302471218204805, 0.7294136288039014, 0.7285820236197347, 0.7277458498279116, 0.7269045219615845, 0.7260575098215908, 0.7252066691515681, 0.7243531916823664, 0.7234985128547632, 0.722645232643707, 0.721797494569363, 0.720957851952435, 0.7201330848886606, 0.7193296440599423, 0.7185600444718135, 0.7178155308421676, 0.7170860899788536, 0.7163812431983766, 0.7157166889955098, 0.7150841538675478, 0.7144770688794926, 0.7138915017450291, 0.7133189884129004, 0.7127417612458095, 0.7121868330882537, 0.7116432369581761, 0.7110904903324019, 0.7105467649121349, 0.7100313016937813, 0.7095325461716343, 0.7090209568749039, 0.7085586672169347, 0.7080691085544134, 0.7076280149060359, 0.7072025592262393, 0.7067963576507272, 0.7064075972662699, 0.7060333489190471, 0.7056696728970507, 0.7053125992935944, 0.7049583662364021, 0.7046057692608791, 0.7042554261206091, 0.7039013187249916, 0.7035390013679376, 0.7031959607273758, 0.7028557697257226, 0.7025196069464625, 0.7021872193386333, 0.7018583838107684, 0.7015331957806914, 0.70121060911559, 0.700890091092089, 0.7005354177765148, 0.7002186074123294, 0.69990443529649, 0.699591189406475, 0.6992688465051813, 0.6989614805583281, 0.6986521775979183, 0.698334774693985, 0.6979750768182795, 0.69766665753964, 0.6973477088971041, 0.6970549709085461, 0.6967580489507663, 0.6964725871416486, 0.6961720093451877, 0.6959099128298236, 0.6956467355111178, 0.6953357248452853, 0.6950023181026673, 0.6946412236975047, 0.6942929034318727, 0.6939707511720402, 0.6936082927641861, 0.6933248462570282, 0.6930694502508195, 0.6928328363249394, 0.6926016668361494, 0.692365716876668, 0.6921264715367502, 0.6918990465860949, 0.6916913146623009, 0.69149995240174, 0.6913161421061553, 0.6911415476733619, 0.6909726453800575, 0.6908079644077766, 0.6906281555189272, 0.6904546548285836, 0.6903056796865642, 0.6901589205772635, 0.6899372155957393, 0.6897893450902068, 0.6896480113724652, 0.6894707740544933, 0.689265112959668, 0.6891092559917381, 0.6889768111976242, 0.6888525919050985, 0.688731094595492, 0.6886094340122496, 0.6884889394000516, 0.6883721374267221, 0.6882577975981589, 0.6881265253113827, 0.6879440139208512, 0.6878135595658048, 0.6877189659644765, 0.6876301912257707, 0.6875451052311213, 0.6874624552747676, 0.6873831918780309, 0.6873075575584352, 0.6872254145927186, 0.6871330709062263, 0.6870238892788041, 0.6869260743028902, 0.6868556501371178, 0.6867880025835458, 0.686721717658474, 0.6866561351010134, 0.6865902079089853, 0.6865234918316394, 0.6864589429108829, 0.6863966234626151, 0.6863335536256379, 0.6862674932853733, 0.686199182137525, 0.6861324251140021, 0.6860690590100894, 0.6860080428566742, 0.6859488350723789, 0.6858917502614204, 0.6858364484070214, 0.6857820856894141, 0.6857277576395228, 0.685672935235501, 0.6856162395888563, 0.6855556715306427, 0.6854970829751628, 0.6854373325484698, 0.6853767316932685, 0.6853140544683605, 0.6852350080841866, 0.6851828025504326, 0.6851316564533942, 0.6850815702901744, 0.6850323479531822, 0.6849838205140555, 0.6849354615274686, 0.6848860340149887, 0.6848312053063225, 0.6847196135279695, 0.6845771415907566, 0.6845043892618868, 0.6844365778333982, 0.6843756478323628, 0.6843192598477486, 0.6842654753100879, 0.6842137445503095, 0.684083626421626, 0.6840326495919377, 0.683982092624629, 0.683932328164381, 0.6838834710780054, 0.6838351262856317, 0.6837861551552569, 0.6837108701954466, 0.6836231630305782, 0.6835755513149231, 0.6835302759795583, 0.6834864589995098, 0.683443448204935, 0.6834009002672833, 0.6833587487325133, 0.6833169712686175, 0.6832754273268162, 0.6832339576319142, 0.6831925281076333, 0.683151144708511, 0.6831097160021213, 0.6830683554853473, 0.6830274323268195, 0.682986122723183, 0.6829314205168531, 0.6828890924719846, 0.6828459570468411, 0.682800460130927, 0.6827531558712554, 0.6827061071975645, 0.6826593346683933, 0.6826119708468343, 0.6825638819261179, 0.6825152156341263, 0.6824660825260775, 0.6824164127844478, 0.6823657348127796, 0.6823135034280655, 0.6822611525119552, 0.6822111004962208, 0.6821629325612864, 0.6821158695943303, 0.6820699009034648, 0.6820252684366824, 0.6819821045566944, 0.6819401960121654, 0.6818991395787265, 0.681858864925069, 0.681819991908653, 0.681782999538251, 0.6817476193755709, 0.6817135337282995, 0.6816806849160816, 0.6816491072176488, 0.6816187680957653, 0.6815895239911408, 0.6815612083317368, 0.6815338082001791, 0.6815075152168758, 0.6814824168168258, 0.6814581302063739, 0.68143373292415, 0.6814077861669003, 0.6813791233489179, 0.6813490665856116, 0.6813155654787119, 0.6812783958481535, 0.6812549929610029, 0.6812340027869969, 0.6812129847368062, 0.681192114593346, 0.6811719533251771, 0.6811525914051715, 0.6811336713824123, 0.681114904339011, 0.6810953681191951, 0.6810638726251562, 0.6809446177581123, 0.6808262665290019, 0.68079998270959, 0.6807770112586846, 0.6807507037860696, 0.6807212966965484, 0.6806928929136218, 0.6806690449786444, 0.6806488070872319, 0.6806301201940865, 0.680611993560231, 0.6805940920137266, 0.6805758412519987, 0.6805514046888945, 0.6804939674229808, 0.6804535204496854, 0.6804355183235599, 0.6804186179168572, 0.6804019803036081, 0.680385518601362, 0.6803691490941162, 0.6803529098604468, 0.6803369830462399, 0.6803212861111837, 0.680305730338106, 0.680290268418423, 0.6802748148065944, 0.6802591623162713, 0.6802433154763063, 0.6802273577225765, 0.6802112445900115, 0.6801954014330878, 0.6801801385411467, 0.6801653399140151, 0.6801508087282208, 0.6801364595968423, 0.6801222759757972, 0.6801082620068682, 0.6800944253719776, 0.6800807729812441, 0.6800673100954675, 0.68005404020099, 0.680040964950416, 0.6800280839088848, 0.680015392303752, 0.6800028293044492, 0.6799890450366457, 0.6799673069645998, 0.679953556356277, 0.6799416978165654, 0.6799300220809761, 0.6799184800174347, 0.6799070321263622, 0.6798956340209241, 0.6798842442685206, 0.6798728429556278, 0.6798614560147129, 0.6798501558997707, 0.6798390120903157, 0.6798280305329018, 0.6798171485746748, 0.6798062737533636, 0.6797953146567897, 0.6797841994072465, 0.6797729142533877, 0.6797615674293824, 0.6797503690960126, 0.6797394474249042, 0.6797287574814157, 0.6797181920307166, 0.6797076671602775, 0.6796971301715196, 0.679686553624293, 0.6796759422599892, 0.6796653437243089, 0.6796548346201942, 0.6796444769368654, 0.6796342883466051, 0.679624252801012, 0.6796143457006725]\n",
      "17.553710199999998\n"
     ]
    }
   ],
   "source": [
    "if cp==0:\n",
    "    tt0,u0=ntd(tensor_0,rank_list)\n",
    "    tt1,u1=ntd(tensor_1,rank_list)\n",
    "    tt2,u2=ntd(tensor_2,rank_list)\n",
    "    tt3,u3=ntd(tensor_all,rank_list)\n",
    "    \"\"\"\n",
    "    tt0=(tt0+tt1+tt2+tt3)\n",
    "    tt0=tt0/4    \n",
    "    \"\"\"\n",
    "    \n",
    "    tt0=(tt0+tt1)\n",
    "    tt0=tt0/2\n",
    "\n",
    "if cp==1:\n",
    "    tt0=np.zeros((rl1,rl2,rl3))\n",
    "    tt0[0,0,0]=1\n",
    "    tt0[1,1,1]=1\n",
    "    tt0[2,2,2]=1\n",
    "    tt0[3,3,3]=1\n",
    "\n",
    "import time\n",
    " \n",
    "# 開始\n",
    "start_time = time.perf_counter()\n",
    " \n",
    "# ダミー処理\n",
    "u0[2][0,0]=20\n",
    "a0,b0=non_negative_tucker_core(tensor_0,rank_list,tt0,u0)\n",
    "a1,b1=non_negative_tucker_core(tensor_1,rank_list,tt0,b0)\n",
    "a2,b2=non_negative_tucker_core(tensor_2,rank_list,tt0,b0)\n",
    "# 修了\n",
    "end_time = time.perf_counter()\n",
    " \n",
    "# 経過時間を出力(秒)\n",
    "elapsed_time0 = end_time - start_time\n",
    "\n",
    "\n",
    "# 開始\n",
    "start_time = time.perf_counter()\n",
    " \n",
    "# ダミー処理\n",
    "a3,b3=non_negative_tucker_core(tensor_all,rank_list,tt0,b0)\n",
    "# 修了\n",
    "end_time = time.perf_counter()\n",
    " \n",
    "# 経過時間を出力(秒)\n",
    "elapsed_time1 = end_time - start_time\n",
    "print(elapsed_time1)"
   ]
  },
  {
   "cell_type": "code",
   "execution_count": 34,
   "metadata": {},
   "outputs": [
    {
     "name": "stdout",
     "output_type": "stream",
     "text": [
      "48.500767100000004\n",
      "17.553710199999998\n"
     ]
    }
   ],
   "source": [
    "print(elapsed_time0)\n",
    "print(elapsed_time1)"
   ]
  },
  {
   "cell_type": "code",
   "execution_count": 35,
   "metadata": {},
   "outputs": [],
   "source": [
    "c1=np.zeros((rl1*rl2*rl3))\n",
    "c2=np.zeros((rl1*rl2*rl3))\n",
    "c3=np.zeros((rl1*rl2*rl3))\n",
    "c4=np.zeros((rl1*rl2*rl3))\n",
    "count=0\n",
    "mem=[]\n",
    "for i in range(0,rl1):\n",
    "  for j in range(0,rl2):\n",
    "    for k in range(0,rl3):\n",
    "      mem.append(str(i)+str(j)+str(k))\n",
    "      c1[count]=a0[i,j,k]\n",
    "      c2[count]=a1[i,j,k]\n",
    "      c3[count]=a2[i,j,k]\n",
    "      c4[count]=a3[i,j,k] \n",
    "      count=count+1\n"
   ]
  },
  {
   "cell_type": "code",
   "execution_count": 36,
   "metadata": {
    "executionInfo": {
     "elapsed": 22,
     "status": "ok",
     "timestamp": 1672373877081,
     "user": {
      "displayName": "学生1935084t",
      "userId": "12227631716568337195"
     },
     "user_tz": -540
    },
    "id": "NLnEVye1gkZH"
   },
   "outputs": [],
   "source": [
    "def spaceRowHeatDifOut(t0,t1):\n",
    "  plt.figure(figsize=(1*10,1*10))\n",
    "  a=t0[1][:,:]\n",
    "  b=t1[1][:,:]\n",
    "  ab=abs(a-b)\n",
    "\n",
    "  print(\"01\")\n",
    "  sns.heatmap(ab,vmin=0, vmax=1)\n",
    "\n",
    "  print(\"誤差\")\n",
    "  print(\"01\")\n",
    "  print(ab.sum())\n",
    "  return ab"
   ]
  },
  {
   "cell_type": "code",
   "execution_count": 37,
   "metadata": {},
   "outputs": [
    {
     "name": "stdout",
     "output_type": "stream",
     "text": [
      "[8.89621786e+000 1.64081341e-296 4.26494040e-103 3.46324074e-008]\n"
     ]
    }
   ],
   "source": [
    "print(b2[2][:,0])"
   ]
  },
  {
   "cell_type": "code",
   "execution_count": null,
   "metadata": {},
   "outputs": [],
   "source": []
  },
  {
   "cell_type": "code",
   "execution_count": 38,
   "metadata": {
    "colab": {
     "base_uri": "https://localhost:8080/",
     "height": 1000
    },
    "executionInfo": {
     "elapsed": 6387,
     "status": "ok",
     "timestamp": 1672373883448,
     "user": {
      "displayName": "学生1935084t",
      "userId": "12227631716568337195"
     },
     "user_tz": -540
    },
    "id": "6Yi-5keU_9X0",
    "outputId": "7abaeef7-5467-451a-97d4-78bd3435d7ac"
   },
   "outputs": [
    {
     "name": "stdout",
     "output_type": "stream",
     "text": [
      "01\n",
      "誤差\n",
      "01\n",
      "903.4652886506381\n",
      "01\n",
      "誤差\n",
      "01\n",
      "1565.8850641347926\n",
      "01\n",
      "誤差\n",
      "01\n",
      "4276.155809790038\n",
      "01\n",
      "誤差\n",
      "01\n",
      "953.4515799534379\n",
      "01\n",
      "誤差\n",
      "01\n",
      "3771.110264613705\n",
      "01\n",
      "誤差\n",
      "01\n",
      "3165.239468372014\n"
     ]
    },
    {
     "data": {
      "image/png": "[encoded data removed]",
      "text/plain": [
       "<Figure size 720x720 with 2 Axes>"
      ]
     },
     "metadata": {
      "needs_background": "light"
     },
     "output_type": "display_data"
    },
    {
     "data": {
      "image/png": "[encoded data removed]",
      "text/plain": [
       "<Figure size 720x720 with 2 Axes>"
      ]
     },
     "metadata": {
      "needs_background": "light"
     },
     "output_type": "display_data"
    },
    {
     "data": {
      "image/png": "[encoded data removed]",
      "text/plain": [
       "<Figure size 720x720 with 2 Axes>"
      ]
     },
     "metadata": {
      "needs_background": "light"
     },
     "output_type": "display_data"
    },
    {
     "data": {
      "image/png": "[encoded data removed]",
      "text/plain": [
       "<Figure size 720x720 with 2 Axes>"
      ]
     },
     "metadata": {
      "needs_background": "light"
     },
     "output_type": "display_data"
    },
    {
     "data": {
      "image/png": "[encoded data removed]",
      "text/plain": [
       "<Figure size 720x720 with 2 Axes>"
      ]
     },
     "metadata": {
      "needs_background": "light"
     },
     "output_type": "display_data"
    },
    {
     "data": {
      "image/png": "[encoded data removed]",
      "text/plain": [
       "<Figure size 720x720 with 2 Axes>"
      ]
     },
     "metadata": {
      "needs_background": "light"
     },
     "output_type": "display_data"
    }
   ],
   "source": [
    "a1=spaceRowHeatDifOut(b0,b1)\n",
    "a2=spaceRowHeatDifOut(b0,b2)\n",
    "a3=spaceRowHeatDifOut(b0,b3)\n",
    "a4=spaceRowHeatDifOut(b1,b2)\n",
    "a5=spaceRowHeatDifOut(b1,b3)\n",
    "a6=spaceRowHeatDifOut(b2,b3)"
   ]
  },
  {
   "cell_type": "code",
   "execution_count": 39,
   "metadata": {
    "colab": {
     "base_uri": "https://localhost:8080/"
    },
    "executionInfo": {
     "elapsed": 16,
     "status": "ok",
     "timestamp": 1672373883449,
     "user": {
      "displayName": "学生1935084t",
      "userId": "12227631716568337195"
     },
     "user_tz": -540
    },
    "id": "jSFaHvXMAYuy",
    "outputId": "f127370a-bf25-4faf-d667-d24d7097f628"
   },
   "outputs": [
    {
     "data": {
      "text/plain": [
       "'\\n# 二次元配列を3次元方向に結合\\ndiff_array_3d = np.stack([a1,a2,a3,a4,a5,a6], axis=2)\\n# 形状確認\\ndiff_array_3d.shape\\n'"
      ]
     },
     "execution_count": 39,
     "metadata": {},
     "output_type": "execute_result"
    }
   ],
   "source": [
    "\"\"\"\n",
    "# 二次元配列を3次元方向に結合\n",
    "diff_array_3d = np.stack([a1,a2,a3,a4,a5,a6], axis=2)\n",
    "# 形状確認\n",
    "diff_array_3d.shape\n",
    "\"\"\""
   ]
  },
  {
   "cell_type": "code",
   "execution_count": 40,
   "metadata": {
    "executionInfo": {
     "elapsed": 506,
     "status": "ok",
     "timestamp": 1672373883947,
     "user": {
      "displayName": "学生1935084t",
      "userId": "12227631716568337195"
     },
     "user_tz": -540
    },
    "id": "xEhUy18nA-7m"
   },
   "outputs": [],
   "source": [
    "#cda3,uda3=ntd(diff_array_3d,rank_list)"
   ]
  },
  {
   "cell_type": "code",
   "execution_count": 41,
   "metadata": {
    "colab": {
     "base_uri": "https://localhost:8080/",
     "height": 282
    },
    "executionInfo": {
     "elapsed": 483,
     "status": "ok",
     "timestamp": 1672373884419,
     "user": {
      "displayName": "学生1935084t",
      "userId": "12227631716568337195"
     },
     "user_tz": -540
    },
    "id": "uYW2eDkZBz5B",
    "outputId": "79e0ca07-b3f5-43c0-8856-5dc02dc03851"
   },
   "outputs": [
    {
     "data": {
      "text/plain": [
       "'\\nd=uda3[0][:,0].T.reshape(36,24).T\\n#sns.heatmap(d,vmin=0, vmax=1)\\nsns.heatmap(d)\\n'"
      ]
     },
     "execution_count": 41,
     "metadata": {},
     "output_type": "execute_result"
    }
   ],
   "source": [
    "\"\"\"\n",
    "d=uda3[0][:,0].T.reshape(36,24).T\n",
    "#sns.heatmap(d,vmin=0, vmax=1)\n",
    "sns.heatmap(d)\n",
    "\"\"\""
   ]
  },
  {
   "cell_type": "code",
   "execution_count": 42,
   "metadata": {
    "colab": {
     "base_uri": "https://localhost:8080/",
     "height": 265
    },
    "executionInfo": {
     "elapsed": 408,
     "status": "ok",
     "timestamp": 1672373884823,
     "user": {
      "displayName": "学生1935084t",
      "userId": "12227631716568337195"
     },
     "user_tz": -540
    },
    "id": "FgsnmS-zCjqm",
    "outputId": "373b0488-18a9-4413-dfbc-ec0c1ba53cbb"
   },
   "outputs": [
    {
     "data": {
      "text/plain": [
       "'\\nleft=range(6)\\nheight1=uda3[2][:,1]\\np1 = plt.bar(left, height1, linewidth=2)\\n'"
      ]
     },
     "execution_count": 42,
     "metadata": {},
     "output_type": "execute_result"
    }
   ],
   "source": [
    "\"\"\"\n",
    "left=range(6)\n",
    "height1=uda3[2][:,1]\n",
    "p1 = plt.bar(left, height1, linewidth=2)\n",
    "\"\"\""
   ]
  },
  {
   "cell_type": "code",
   "execution_count": 43,
   "metadata": {
    "colab": {
     "base_uri": "https://localhost:8080/",
     "height": 330
    },
    "executionInfo": {
     "elapsed": 2515,
     "status": "ok",
     "timestamp": 1672373887334,
     "user": {
      "displayName": "学生1935084t",
      "userId": "12227631716568337195"
     },
     "user_tz": -540
    },
    "id": "nTx4DLu_GHxk",
    "outputId": "c709df0b-52f5-4322-b24e-f5f729792a7f"
   },
   "outputs": [
    {
     "data": {
      "text/plain": [
       "'\\nc=np.zeros((64))\\ncount=0\\nmem=[]\\nfor i in range(0,4):\\n  for j in range(0,4):\\n    for k in range(0,4):\\n      mem.append(str(i)+str(j)+str(k))\\n      c[count]=cda3[i,j,k]\\n      count=count+1\\n\\nplt.figure(figsize=(4*10,2*10))\\nleft=range(64)\\nheight1=c\\nplt.xticks(left, mem)\\np1 = plt.bar(left, height1, linewidth=2)\\n'"
      ]
     },
     "execution_count": 43,
     "metadata": {},
     "output_type": "execute_result"
    }
   ],
   "source": [
    "\"\"\"\n",
    "c=np.zeros((64))\n",
    "count=0\n",
    "mem=[]\n",
    "for i in range(0,4):\n",
    "  for j in range(0,4):\n",
    "    for k in range(0,4):\n",
    "      mem.append(str(i)+str(j)+str(k))\n",
    "      c[count]=cda3[i,j,k]\n",
    "      count=count+1\n",
    "\n",
    "plt.figure(figsize=(4*10,2*10))\n",
    "left=range(64)\n",
    "height1=c\n",
    "plt.xticks(left, mem)\n",
    "p1 = plt.bar(left, height1, linewidth=2)\n",
    "\"\"\""
   ]
  },
  {
   "cell_type": "markdown",
   "metadata": {
    "id": "BudiSrewWcg_"
   },
   "source": [
    "上のコアテンソルのグラフから、他の軸の因子ごとの特徴を作っているところをうまく探していき、どこが大事か見ていく"
   ]
  },
  {
   "cell_type": "markdown",
   "metadata": {
    "id": "g9v1VZ0wWotb"
   },
   "source": [
    "\n",
    "000,122,011この３つが上から3番までこの３つから調査をしていく"
   ]
  },
  {
   "cell_type": "code",
   "execution_count": 44,
   "metadata": {
    "colab": {
     "base_uri": "https://localhost:8080/",
     "height": 704
    },
    "executionInfo": {
     "elapsed": 16206,
     "status": "ok",
     "timestamp": 1672373903537,
     "user": {
      "displayName": "学生1935084t",
      "userId": "12227631716568337195"
     },
     "user_tz": -540
    },
    "id": "GnVoNaAxDeTK",
    "outputId": "51ba8b28-71c9-4110-b019-e1618ed06620"
   },
   "outputs": [
    {
     "data": {
      "text/plain": [
       "'\\nleft=range(864)\\nplt.figure(figsize=(4*10,2*10))\\nheight1=uda3[0][:,0]\\nheight2=uda3[0][:,1]\\nheight3=uda3[0][:,2]\\nheight4=uda3[0][:,3]\\nplt.subplot(1,2,2)\\np1 = plt.bar(left, height1, linewidth=2)\\np2 = plt.bar(left, height2, linewidth=2)\\np3 = plt.bar(left, height3, linewidth=2)\\np4 = plt.bar(left, height4, linewidth=2)\\nplt.legend((p1[0], p2[0],p3[0], p4[0]), (\"Class 1\", \"Class 2\",\"Class 3\", \"Class 4\"), loc=4)\\n'"
      ]
     },
     "execution_count": 44,
     "metadata": {},
     "output_type": "execute_result"
    }
   ],
   "source": [
    "\"\"\"\n",
    "left=range(864)\n",
    "plt.figure(figsize=(4*10,2*10))\n",
    "height1=uda3[0][:,0]\n",
    "height2=uda3[0][:,1]\n",
    "height3=uda3[0][:,2]\n",
    "height4=uda3[0][:,3]\n",
    "plt.subplot(1,2,2)\n",
    "p1 = plt.bar(left, height1, linewidth=2)\n",
    "p2 = plt.bar(left, height2, linewidth=2)\n",
    "p3 = plt.bar(left, height3, linewidth=2)\n",
    "p4 = plt.bar(left, height4, linewidth=2)\n",
    "plt.legend((p1[0], p2[0],p3[0], p4[0]), (\"Class 1\", \"Class 2\",\"Class 3\", \"Class 4\"), loc=4)\n",
    "\"\"\""
   ]
  },
  {
   "cell_type": "code",
   "execution_count": 45,
   "metadata": {
    "colab": {
     "base_uri": "https://localhost:8080/"
    },
    "executionInfo": {
     "elapsed": 22,
     "status": "ok",
     "timestamp": 1672373903538,
     "user": {
      "displayName": "学生1935084t",
      "userId": "12227631716568337195"
     },
     "user_tz": -540
    },
    "id": "OhXFgMSfbO4s",
    "outputId": "ffef35f2-6c8c-4687-962c-4c46ff443e48"
   },
   "outputs": [
    {
     "data": {
      "text/plain": [
       "'\\nmax_index = np.argmax(uda3[0][:,3])\\nprint(max_index)\\n'"
      ]
     },
     "execution_count": 45,
     "metadata": {},
     "output_type": "execute_result"
    }
   ],
   "source": [
    "\"\"\"\n",
    "max_index = np.argmax(uda3[0][:,3])\n",
    "print(max_index)\n",
    "\"\"\""
   ]
  },
  {
   "cell_type": "markdown",
   "metadata": {
    "id": "ApUavKV5aLXD"
   },
   "source": [
    "第一因子は２７３ 第二因子は551、第３因子565、第４因子410となっている。"
   ]
  },
  {
   "cell_type": "markdown",
   "metadata": {
    "id": "oT7ug2UzXACc"
   },
   "source": [
    "空間軸に関しては量が多すぎるため、要素ごとで上から見ていく"
   ]
  },
  {
   "cell_type": "code",
   "execution_count": 46,
   "metadata": {
    "colab": {
     "base_uri": "https://localhost:8080/",
     "height": 346
    },
    "executionInfo": {
     "elapsed": 1392,
     "status": "ok",
     "timestamp": 1672373904920,
     "user": {
      "displayName": "学生1935084t",
      "userId": "12227631716568337195"
     },
     "user_tz": -540
    },
    "id": "3jtLdNBnW0cU",
    "outputId": "d2a6376d-19ca-43a6-80b1-98438bb3b1dc"
   },
   "outputs": [
    {
     "data": {
      "text/plain": [
       "'\\nplt.figure(figsize=(4*10,2*10))\\n \\n# 各系列のデータを用意\\nheight1=uda3[1][:,0]\\nheight2=uda3[1][:,1]\\nheight3=uda3[1][:,2]\\nheight4=uda3[1][:,3]\\ndata = [height1, height2,height3,height4]\\n\\nx = np.arange(len(height1))\\n\\nlabels = [\"1\", \"2\", \"3\", \"4\"]\\n# マージンを設定\\nmargin = 0.2  #0 <margin< 1\\ntotoal_width = 1 - margin\\n \\n# 棒グラフをプロット\\nfor i, h in enumerate(data):\\n  pos = x - totoal_width *( 1- (2*i+1)/len(data) )/2\\n  plt.bar(pos, h, width = totoal_width/len(data))\\n \\n# ラベルの設定\\nplt.xticks(x, labels)\\nplt.legend((p1[0], p2[0],p3[0], p4[0]), (\"Class 1\", \"Class 2\",\"Class 3\", \"Class 4\"), loc=4)\\n'"
      ]
     },
     "execution_count": 46,
     "metadata": {},
     "output_type": "execute_result"
    }
   ],
   "source": [
    "\"\"\"\n",
    "plt.figure(figsize=(4*10,2*10))\n",
    " \n",
    "# 各系列のデータを用意\n",
    "height1=uda3[1][:,0]\n",
    "height2=uda3[1][:,1]\n",
    "height3=uda3[1][:,2]\n",
    "height4=uda3[1][:,3]\n",
    "data = [height1, height2,height3,height4]\n",
    "\n",
    "x = np.arange(len(height1))\n",
    "\n",
    "labels = [\"1\", \"2\", \"3\", \"4\"]\n",
    "# マージンを設定\n",
    "margin = 0.2  #0 <margin< 1\n",
    "totoal_width = 1 - margin\n",
    " \n",
    "# 棒グラフをプロット\n",
    "for i, h in enumerate(data):\n",
    "  pos = x - totoal_width *( 1- (2*i+1)/len(data) )/2\n",
    "  plt.bar(pos, h, width = totoal_width/len(data))\n",
    " \n",
    "# ラベルの設定\n",
    "plt.xticks(x, labels)\n",
    "plt.legend((p1[0], p2[0],p3[0], p4[0]), (\"Class 1\", \"Class 2\",\"Class 3\", \"Class 4\"), loc=4)\n",
    "\"\"\""
   ]
  },
  {
   "cell_type": "markdown",
   "metadata": {
    "id": "4kOdRwr-bWBs"
   },
   "source": [
    "因子のテンソル分解の結果より、重要なのは第一因子は2,第二因子は3、第三因子は4、第四因子は1が大事としっかり分かれている。"
   ]
  },
  {
   "cell_type": "code",
   "execution_count": 47,
   "metadata": {
    "colab": {
     "base_uri": "https://localhost:8080/",
     "height": 346
    },
    "executionInfo": {
     "elapsed": 1872,
     "status": "ok",
     "timestamp": 1672373906789,
     "user": {
      "displayName": "学生1935084t",
      "userId": "12227631716568337195"
     },
     "user_tz": -540
    },
    "id": "SHt3EVYvbxkt",
    "outputId": "3977e3f5-6122-4421-99bc-e7a9c02b6d93"
   },
   "outputs": [
    {
     "data": {
      "text/plain": [
       "'\\nplt.figure(figsize=(4*10,2*10))\\n \\n# 各系列のデータを用意\\nheight1=uda3[2][:,0]\\nheight2=uda3[2][:,1]\\nheight3=uda3[2][:,2]\\nheight4=uda3[2][:,3]\\ndata = [height1, height2,height3,height4]\\n\\nx = np.arange(len(height1))\\n\\nlabels = [\"01\", \"02\", \"03\", \"12\",\"13\",\"23\"]\\n# マージンを設定\\nmargin = 0.2  #0 <margin< 1\\ntotoal_width = 1 - margin\\n \\n# 棒グラフをプロット\\nfor i, h in enumerate(data):\\n  pos = x - totoal_width *( 1- (2*i+1)/len(data) )/2\\n  plt.bar(pos, h, width = totoal_width/len(data))\\n \\n# ラベルの設定\\nplt.xticks(x, labels)\\nplt.legend((p1[0], p2[0],p3[0], p4[0]), (\"Class 1\", \"Class 2\",\"Class 3\", \"Class 4\"), loc=4)\\n'"
      ]
     },
     "execution_count": 47,
     "metadata": {},
     "output_type": "execute_result"
    }
   ],
   "source": [
    "\"\"\"\n",
    "plt.figure(figsize=(4*10,2*10))\n",
    " \n",
    "# 各系列のデータを用意\n",
    "height1=uda3[2][:,0]\n",
    "height2=uda3[2][:,1]\n",
    "height3=uda3[2][:,2]\n",
    "height4=uda3[2][:,3]\n",
    "data = [height1, height2,height3,height4]\n",
    "\n",
    "x = np.arange(len(height1))\n",
    "\n",
    "labels = [\"01\", \"02\", \"03\", \"12\",\"13\",\"23\"]\n",
    "# マージンを設定\n",
    "margin = 0.2  #0 <margin< 1\n",
    "totoal_width = 1 - margin\n",
    " \n",
    "# 棒グラフをプロット\n",
    "for i, h in enumerate(data):\n",
    "  pos = x - totoal_width *( 1- (2*i+1)/len(data) )/2\n",
    "  plt.bar(pos, h, width = totoal_width/len(data))\n",
    " \n",
    "# ラベルの設定\n",
    "plt.xticks(x, labels)\n",
    "plt.legend((p1[0], p2[0],p3[0], p4[0]), (\"Class 1\", \"Class 2\",\"Class 3\", \"Class 4\"), loc=4)\n",
    "\"\"\""
   ]
  },
  {
   "cell_type": "markdown",
   "metadata": {
    "id": "EYnfE0Vbcft0"
   },
   "source": [
    "第一因子は03、13,第二因子は12,第三因子は23,02、第四因子は01が大事となっている。"
   ]
  },
  {
   "cell_type": "markdown",
   "metadata": {
    "id": "l0Pjns7GdEqY"
   },
   "source": [
    "この後は空間の方も見て、コアテンソルと比較しながらどこが大事か見て、一個前のテンソルに戻り、次に時間軸と空間軸を見ながら、元データに戻り、分析する必要がある。"
   ]
  },
  {
   "cell_type": "markdown",
   "metadata": {
    "id": "ZtFHTnnpWlls"
   },
   "source": [
    "できるだけ絞るために一個前に戻った際に時間軸のデータを削減し、よりはっきりと違いがわかる部分を探し当てる必要がある。"
   ]
  },
  {
   "cell_type": "markdown",
   "metadata": {
    "id": "FWJtBitfZbwz"
   },
   "source": [
    "差をとった軸は第一因子は03、13,第二因子は12,第三因子は23,02、第四因子は01\n",
    "\n",
    "因子の軸、第一因子は2,第二因子は3、第三因子は4、第四因子は1\n",
    "\n",
    "空間軸は第一因子は２７３ 第二因子は551、第３因子565、第４因子410となっている。\n",
    "\n",
    "コアテンソルは000,122,011　軸順は1番目空間軸、2番目因子軸、3番目差軸\n",
    "\n"
   ]
  },
  {
   "cell_type": "markdown",
   "metadata": {
    "id": "2ypinXFjdJLi"
   },
   "source": [
    "よって上より空間軸273、因子2の差03にとても大きな差がある。\n",
    "次は、テンソル０、3のテンソル分解を行なって差だけでなく、範囲を縮めていく"
   ]
  },
  {
   "cell_type": "code",
   "execution_count": 48,
   "metadata": {},
   "outputs": [],
   "source": [
    "mem=[]\n",
    "for i in range(0,rl1):\n",
    "  for j in range(0,rl2):\n",
    "    for k in range(0,rl3):\n",
    "      mem.append(str(i)+str(j)+str(k))\n"
   ]
  },
  {
   "cell_type": "code",
   "execution_count": 49,
   "metadata": {},
   "outputs": [
    {
     "name": "stdout",
     "output_type": "stream",
     "text": [
      "64\n",
      "<class 'str'>\n"
     ]
    }
   ],
   "source": [
    "print(len(mem))\n",
    "print(type(mem[1]))"
   ]
  },
  {
   "cell_type": "code",
   "execution_count": 50,
   "metadata": {},
   "outputs": [
    {
     "name": "stdout",
     "output_type": "stream",
     "text": [
      "(864, 4)\n"
     ]
    }
   ],
   "source": [
    "print(b1[1].shape)"
   ]
  },
  {
   "cell_type": "markdown",
   "metadata": {},
   "source": [
    "上のプログラム後は、実データの方の可視化を行う、できれば、範囲を指定して、ヒートマップも載せる\n",
    "ヒートマップは要らないから、どちらかと言ったら先に、表示した二つのテンソルから重要な事が起きている部分を探索できるように選択した部分のデータ化が必要な気がする。"
   ]
  },
  {
   "cell_type": "markdown",
   "metadata": {},
   "source": [
    "上のボケからデータで比べたいところ、をゲットしたのでそこのヒートマッププロット、元データに戻っての折れ線プロットまでしたい。"
   ]
  },
  {
   "cell_type": "code",
   "execution_count": 51,
   "metadata": {},
   "outputs": [
    {
     "name": "stderr",
     "output_type": "stream",
     "text": [
      "BokehUserWarning: ColumnDataSource's columns must be of the same length. Current lengths: ('x', 3), ('y', 0)\n",
      "BokehUserWarning: ColumnDataSource's columns must be of the same length. Current lengths: ('x', 3), ('y', 0)\n",
      "BokehUserWarning: ColumnDataSource's columns must be of the same length. Current lengths: ('x', 3), ('y', 0)\n",
      "BokehUserWarning: ColumnDataSource's columns must be of the same length. Current lengths: ('x', 64), ('y', 0)\n",
      "BokehUserWarning: ColumnDataSource's columns must be of the same length. Current lengths: ('x', 864), ('y', 0)\n",
      "BokehUserWarning: ColumnDataSource's columns must be of the same length. Current lengths: ('x', 4), ('y', 0)\n",
      "BokehUserWarning: ColumnDataSource's columns must be of the same length. Current lengths: ('x', 864), ('y', 0)\n",
      "BokehUserWarning: ColumnDataSource's columns must be of the same length. Current lengths: ('x', 4), ('y', 0)\n",
      "BokehUserWarning: ColumnDataSource's columns must be of the same length. Current lengths: ('x', 864), ('y', 0)\n",
      "BokehUserWarning: ColumnDataSource's columns must be of the same length. Current lengths: ('x', 4), ('y', 0)\n"
     ]
    }
   ],
   "source": [
    "import numpy as np\n",
    "\n",
    "from bokeh.layouts import column, row\n",
    "from bokeh.models import ColumnDataSource, CustomJS, Slider, Select, HoverTool\n",
    "from bokeh.plotting import figure, show\n",
    "from bokeh.layouts import gridplot\n",
    "\n",
    "TOOLS = \"box_select,help,reset\"\n",
    "\n",
    "\n",
    "\n",
    "\n",
    "u4=range(6)\n",
    "source4 = ColumnDataSource(data={'0' : a1[:,0],'1' : a2[:,0],'2' : a3[:,0],'3' : a4[:,0],'4' : a5[:,0],'5' : a6[:,0],'6' : a1[:,1],'7' : a2[:,1],'8' : a3[:,1],'9' : a4[:,1],'10' : a5[:,1],'11' : a6[:,1],'12' : a1[:,2],'13' : a2[:,2],'14' : a3[:,2],'15' : a4[:,2],'16' : a5[:,2],'17' : a6[:,2],'18' : a1[:,3],'19' : a2[:,3],'20' : a3[:,3],'21' : a4[:,3],'22' : a5[:,3],'23' : a6[:,3]})\n",
    "\n",
    "source5 = ColumnDataSource(data={'0' : c1,'1' : c2,'2' : c3,'3' : c4})\n",
    "\n",
    "#u6=range(len(b0[0][:,0]))\n",
    "source60 = ColumnDataSource(data={'0' : b0[0][:,0],'1' : b0[0][:,1],'2' : b0[0][:,2],'3' : b0[0][:,3]})\n",
    "source61 = ColumnDataSource(data={'0' : b1[0][:,0],'1' : b1[0][:,1],'2' : b1[0][:,2],'3' : b1[0][:,3]})\n",
    "source62 = ColumnDataSource(data={'0' : b2[0][:,0],'1' : b2[0][:,1],'2' : b2[0][:,2],'3' : b2[0][:,3]})\n",
    "source63 = ColumnDataSource(data={'0' : b3[0][:,0],'1' : b3[0][:,1],'2' : b3[0][:,2],'3' : b3[0][:,3]})\n",
    "\n",
    "\n",
    "u7=range(len(b0[1][:,0]))\n",
    "source70 = ColumnDataSource(data={'0' : b0[1][:,0],'1' : b0[1][:,1],'2' : b0[1][:,2],'3' : b0[1][:,3]})\n",
    "source71 = ColumnDataSource(data={'0' : b1[1][:,0],'1' : b1[1][:,1],'2' : b1[1][:,2],'3' : b1[1][:,3]})\n",
    "source72 = ColumnDataSource(data={'0' : b2[1][:,0],'1' : b2[1][:,1],'2' : b2[1][:,2],'3' : b2[1][:,3]})\n",
    "source73 = ColumnDataSource(data={'0' : b3[1][:,0],'1' : b3[1][:,1],'2' : b3[1][:,2],'3' : b3[1][:,3]})\n",
    "\n",
    "u8=range(len(b0[2][:,0]))\n",
    "source80 = ColumnDataSource(data={'0' : b0[2][:,0],'1' : b0[2][:,1],'2' : b0[2][:,2],'3' : b0[2][:,3]})\n",
    "source81 = ColumnDataSource(data={'0' : b1[2][:,0],'1' : b1[2][:,1],'2' : b1[2][:,2],'3' : b1[2][:,3]})\n",
    "source82 = ColumnDataSource(data={'0' : b2[2][:,0],'1' : b2[2][:,1],'2' : b2[2][:,2],'3' : b2[2][:,3]})\n",
    "source83 = ColumnDataSource(data={'0' : b3[2][:,0],'1' : b3[2][:,1],'2' : b3[2][:,2],'3' : b3[2][:,3]})\n",
    "\n",
    "\n",
    "\n",
    "\n",
    "l1=range(len(tensor_0[0,:,0]))\n",
    "d1 = {str(s): tensor_0[:,s,0] for s in l1}\n",
    "sourceT1=ColumnDataSource(data=d1)\n",
    "\n",
    "d2 = {str(s): tensor_1[:,s,0] for s in l1}\n",
    "sourceT2=ColumnDataSource(data=d2)\n",
    "\n",
    "d3 = {str(s): tensor_2[:,s,0] for s in l1}\n",
    "sourceT3=ColumnDataSource(data=d3)\n",
    "\n",
    "d4 = {str(s): tensor_all[:,s,0] for s in l1}\n",
    "sourceT4=ColumnDataSource(data=d4)\n",
    "\n",
    "\n",
    "s1 = ColumnDataSource(data=dict(x=u1, y=[]))\n",
    "p1 = figure(width=400, height=400,title=\"core1\", tools=TOOLS)\n",
    "p1.vbar(x='x', top='y', source=s1, alpha=0.6)\n",
    "\n",
    "\n",
    "\n",
    "s2 = ColumnDataSource(data=dict(x=u2, y=[]))\n",
    "p2 = figure(width=400, height=400,title=\"core2\", tools=TOOLS)\n",
    "p2.vbar('x', 1,'y', source=s2, alpha=0.6)\n",
    "\n",
    "s3 = ColumnDataSource(data=dict(x=u3, y=[]))\n",
    "p3 = figure(width=400, height=400, title=\"core3\", tools=TOOLS)\n",
    "p3.vbar('x',1, 'y', source=s3, alpha=0.6)\n",
    "\n",
    "v4=np.zeros(len(u4))\n",
    "s4 = ColumnDataSource(data=dict(x=u4, y=v4))\n",
    "p4 = figure(width=200, height=300, title=\"Difference\", tools=TOOLS)\n",
    "p4.vbar('x',1,'y', source=s4,color=\"#808080\")\n",
    "\n",
    "p4.axis.visible = False\n",
    "p4.grid.grid_line_color = None\n",
    "\n",
    "\n",
    "p4.toolbar.logo = None\n",
    "p4.toolbar_location = None\n",
    "\n",
    "s7 = ColumnDataSource(data=dict(x=mem, y=c1))\n",
    "p5 = figure(x_range=mem,width=1200, height=300, title=\"MainCore\", tools=TOOLS,\n",
    "              background_fill_color=\"#fafafa\")\n",
    "p5.vbar('x',1, 'y', source=s7,color=\"#696969\")\n",
    "p5.axis.visible = False\n",
    "p5.grid.grid_line_color = None\n",
    "p5.toolbar.logo = None\n",
    "p5.toolbar_location = None\n",
    "\n",
    "hover_tool = HoverTool(\n",
    "    tooltips=[\n",
    "        (\"name\", '@x')\n",
    "    ],\n",
    "    formatters={\n",
    "        \"time\": \"datetime\",\n",
    "\n",
    "    },\n",
    "    mode='vline'\n",
    ")\n",
    "\n",
    "p5.tools.append(hover_tool)\n",
    "\n",
    "s8 = ColumnDataSource(data=dict(x=mem, y=[]))\n",
    "p6 = figure(x_range=mem,width=1000, height=400, title=\"core\", tools=TOOLS,\n",
    "              background_fill_color=\"#fafafa\")\n",
    "p6.vbar('x',1, 'y', source=s8)\n",
    "    \n",
    "s5 = ColumnDataSource(data=dict(x=[], y=[]))\n",
    "s5.data[\"x\"].append(0)\n",
    "s6 = ColumnDataSource(data=dict(x=[], y=[]))\n",
    "s6.data[\"x\"].append(0)\n",
    "\n",
    "s5inds = ColumnDataSource(data=dict(x=[], y=[]))\n",
    "s5inds.data[\"x\"].append(0)\n",
    "\n",
    "s9 = ColumnDataSource(data=dict(x=[], y=[]))\n",
    "p9 = figure(width=200, height=150,title=\"FirstTensorTime\", tools=TOOLS)\n",
    "p9.vbar('x',1, 'y', source=s9,color=\"#517fe6\")\n",
    "\n",
    "p9.tools.append(hover_tool)\n",
    "p9.axis.visible = False\n",
    "p9.grid.grid_line_color = None\n",
    "\n",
    "p9.toolbar.logo = None\n",
    "p9.toolbar_location = None\n",
    "\n",
    "s10 = ColumnDataSource(data=dict(x=u7, y=[]))\n",
    "p10 = figure(width=300, height=150,title=\"FirstTensorSpace\", tools=TOOLS)\n",
    "p10.vbar('x', 1,'y', source=s10,color=\"#93dc6f\")\n",
    "\n",
    "p10.tools.append(hover_tool)\n",
    "p10.axis.visible = False\n",
    "p10.grid.grid_line_color = None\n",
    "p10.toolbar.logo = None\n",
    "p10.toolbar_location = None\n",
    "\n",
    "s11 = ColumnDataSource(data=dict(x=u8, y=[]))\n",
    "p11 = figure(width=200, height=150, title=\"FirstTensorMeasure\", tools=TOOLS)\n",
    "p11.vbar('x',1, 'y', source=s11,color=\"#f4949f\")\n",
    "\n",
    "p11.tools.append(hover_tool)\n",
    "p11.axis.visible = False\n",
    "p11.grid.grid_line_color = None\n",
    "\n",
    "p11.toolbar.logo = None\n",
    "p11.toolbar_location = None\n",
    "\n",
    "s12 = ColumnDataSource(data=dict(x=[], y=[]))\n",
    "p12 = figure(width=200, height=150,title=\"SecondTensorTime\", tools=TOOLS)\n",
    "p12.vbar('x',1,'y', source=s12,color=\"#517fe6\")\n",
    "\n",
    "p12.tools.append(hover_tool)\n",
    "\n",
    "p12.axis.visible = False\n",
    "p12.grid.grid_line_color = None\n",
    "p12.toolbar.logo = None\n",
    "p12.toolbar_location = None\n",
    "\n",
    "s13 = ColumnDataSource(data=dict(x=u7, y=[]))\n",
    "p13 = figure(width=300, height=150,title=\"SecondTensorSpace\", tools=TOOLS)\n",
    "p13.vbar('x', 1,'y', source=s13,color=\"#93dc6f\")\n",
    "\n",
    "p13.tools.append(hover_tool)\n",
    "p13.axis.visible = False\n",
    "p13.grid.grid_line_color = None\n",
    "\n",
    "p13.toolbar.logo = None\n",
    "p13.toolbar_location = None\n",
    "\n",
    "s14 = ColumnDataSource(data=dict(x=u8, y=[]))\n",
    "p14 = figure(width=200, height=150, title=\"SecondTensorMeasure\", tools=TOOLS,background_fill_color=\"#fafafa\")\n",
    "p14.vbar('x',1, 'y', source=s14,color=\"#f4949f\")\n",
    "\n",
    "p14.tools.append(hover_tool)\n",
    "p14.axis.visible = False\n",
    "p14.grid.grid_line_color = None\n",
    "p14.toolbar.logo = None\n",
    "p14.toolbar_location = None\n",
    "\n",
    "sdt = ColumnDataSource(data=dict(x=[], y=[]))\n",
    "pdt = figure(width=200, height=300,title=\"DifferenceTensorTime\", tools=TOOLS)\n",
    "pdt.vbar('x',1,'y', source=sdt,color=\"#1845aa\")\n",
    "\n",
    "pdt.tools.append(hover_tool)\n",
    "pdt.axis.visible = False\n",
    "pdt.grid.grid_line_color = None\n",
    "\n",
    "pdt.toolbar.logo = None\n",
    "pdt.toolbar_location = None\n",
    "\n",
    "sds = ColumnDataSource(data=dict(x=u7, y=[]))\n",
    "pds = figure(width=300, height=300,title=\"DifferenceTensorSpace\", tools=TOOLS)\n",
    "pds.vbar('x', 1,'y', source=sds,color=\"#53a22a\")\n",
    "pds.axis.visible = False\n",
    "pds.grid.grid_line_color = None\n",
    "pds.tools.append(hover_tool)\n",
    "pds.toolbar.logo = None\n",
    "pds.toolbar_location = None\n",
    "\n",
    "sdm = ColumnDataSource(data=dict(x=u8, y=[]))\n",
    "pdm = figure(width=200, height=300, title=\"DifferenceTensorMeasure\", tools=TOOLS)\n",
    "pdm.vbar('x',1, 'y', source=sdm,color=\"#f25a6b\")\n",
    "\n",
    "pdm.tools.append(hover_tool)\n",
    "pdm.axis.visible = False\n",
    "pdm.grid.grid_line_color = None\n",
    "pdm.toolbar.logo = None\n",
    "pdm.toolbar_location = None\n",
    "\n",
    "s15=ColumnDataSource(data=dict(time=[], space=[],measure=[]))\n",
    "\n",
    "s16=ColumnDataSource(data=dict(time=[], space=[],measure=[]))\n",
    "    \n",
    "s9.selected.js_on_change('indices', CustomJS(args=dict(s=s9,s1=s15), code=\"\"\"\n",
    "        const inds = s.selected.indices;\n",
    "        const d12 = s1.data;\n",
    "        \n",
    "        d12['time'] = [];\n",
    "        for (let i = 0; i < inds.length; i++) {\n",
    "            d12['time'].push(inds[i]);\n",
    "        }\n",
    "        console.log(s1.data['time'])\n",
    "        s1.change.emit();\n",
    "\n",
    "\"\"\"))\n",
    "\n",
    "\n",
    "\n",
    "s10.selected.js_on_change('indices', CustomJS(args=dict(s=s10,s1=s15), code=\"\"\"\n",
    "        const inds = s.selected.indices;\n",
    "        const d12 = s1.data;\n",
    "        \n",
    "        d12['space'] = [];\n",
    "        for (let i = 0; i < inds.length; i++) {\n",
    "            d12['space'].push(inds[i]);\n",
    "        }\n",
    "        console.log(s1.data['space'])\n",
    "        s1.change.emit();\n",
    "\n",
    "\"\"\"))\n",
    "\n",
    "s11.selected.js_on_change('indices', CustomJS(args=dict(s=s11,s1=s15), code=\"\"\"\n",
    "        const inds = s.selected.indices;\n",
    "        const d12 = s1.data;\n",
    "        \n",
    "        d12['measure'] = [];\n",
    "        for (let i = 0; i < inds.length; i++) {\n",
    "            d12['measure'].push(inds[i]);\n",
    "        }\n",
    "        console.log(s1.data['measure'])\n",
    "        s1.change.emit();\n",
    "\n",
    "\"\"\"))\n",
    "\n",
    "s12.selected.js_on_change('indices', CustomJS(args=dict(s=s12,s1=s16), code=\"\"\"\n",
    "        const inds = s.selected.indices;\n",
    "        const d12 = s1.data;\n",
    "        \n",
    "        d12['time'] = [];\n",
    "        for (let i = 0; i < inds.length; i++) {\n",
    "            d12['time'].push(inds[i]);\n",
    "        }\n",
    "        console.log(s1.data['time'])\n",
    "        s1.change.emit();\n",
    "\n",
    "\"\"\"))\n",
    "\n",
    "s13.selected.js_on_change('indices', CustomJS(args=dict(s=s13,s1=s16), code=\"\"\"\n",
    "        const inds = s.selected.indices;\n",
    "        const d12 = s1.data;\n",
    "        \n",
    "        d12['space'] = [];\n",
    "        for (let i = 0; i < inds.length; i++) {\n",
    "            d12['space'].push(inds[i]);\n",
    "        }\n",
    "        console.log(s1.data['space'])\n",
    "        s1.change.emit();\n",
    "\n",
    "\"\"\"))\n",
    "\n",
    "s14.selected.js_on_change('indices', CustomJS(args=dict(s=s14,s1=s16), code=\"\"\"\n",
    "        const inds = s.selected.indices;\n",
    "        const d12 = s1.data;\n",
    "        \n",
    "        d12['measure'] = [];\n",
    "        for (let i = 0; i < inds.length; i++) {\n",
    "            d12['measure'].push(inds[i]);\n",
    "        }\n",
    "        console.log(s1.data['measure'])\n",
    "        s1.change.emit();\n",
    "\n",
    "\"\"\"))\n",
    "\n",
    "sdt.selected.js_on_change('indices', CustomJS(args=dict(s=sdt), code=\"\"\"\n",
    "        const inds = s.selected.indices;\n",
    "\n",
    "        console.log(inds);\n",
    "\n",
    "\"\"\"))\n",
    "\n",
    "sds.selected.js_on_change('indices', CustomJS(args=dict(s=sds), code=\"\"\"\n",
    "        const inds = s.selected.indices;\n",
    "\n",
    "        console.log(inds);\n",
    "\n",
    "\"\"\"))\n",
    "\n",
    "sdm.selected.js_on_change('indices', CustomJS(args=dict(s=sdm), code=\"\"\"\n",
    "        const inds = s.selected.indices;\n",
    "\n",
    "        console.log(inds);\n",
    "\n",
    "\"\"\"))\n",
    "\n",
    "\n",
    "s7.selected.js_on_change('indices', CustomJS(args=dict(s=s7,s5inds=s5inds,s4=s4,source4=source4,m=mem,s1=s9,source60=source60,source61=source61,source62=source62,source63=source63,s2=s10,source70=source70,source71=source71,source72=source72,source73=source73,s3=s11,source80=source80,source81=source81,source82=source82,source83=source83,s5=s5,sds=sds,sdt=sdt,sdm=sdm), code=\"\"\"\n",
    "        const inds = s.selected.indices;\n",
    "        const S5inds=s5inds.data;\n",
    "        S5inds[\"x\"][0]=inds[0];\n",
    "        s5inds.change.emit();\n",
    "        const d = s.data;\n",
    "        console.log(parseInt(Number(m[inds[0]])/100));\n",
    "        console.log(parseInt((Number(m[inds[0]])/10)%10));\n",
    "        console.log(Number(m[inds[0]])%10);\n",
    "        \n",
    "        const A1=parseInt(Number(m[inds[0]])/100);\n",
    "        const d60 = source60.data;\n",
    "        const d61 = source61.data;\n",
    "        const d62 = source62.data;\n",
    "        const d63 = source63.data;\n",
    "        \n",
    "        const d12 = s1.data;\n",
    "        d12['x']=[];\n",
    "        d12['y'] = [];\n",
    "        \n",
    "        \n",
    "        const ddt = sdt.data;\n",
    "        ddt['x']=[];\n",
    "        ddt['y'] = [];\n",
    "        \n",
    "        \n",
    "        const A2=parseInt((Number(m[inds[0]])/10)%10);\n",
    "        const d70 = source70.data;\n",
    "        const d71 = source71.data;\n",
    "        const d72 = source72.data;\n",
    "        const d73 = source73.data;\n",
    "\n",
    "        const d22 = s2.data;\n",
    "        d22['y'] = [];\n",
    "        \n",
    "        const dds = sds.data;\n",
    "        dds['y'] = [];\n",
    "        \n",
    "        const A3=parseInt(Number(m[inds[0]])%10);\n",
    "        const d80 = source80.data;\n",
    "        const d81 = source81.data;\n",
    "        const d82 = source82.data;\n",
    "        const d83 = source83.data;\n",
    "        \n",
    "        const d32 = s3.data;\n",
    "        d32['y'] = [];\n",
    "        \n",
    "        const ddm = sdm.data;\n",
    "        ddm['y'] = [];\n",
    "        \n",
    "        let q=0;\n",
    "        let r=0;\n",
    "        \n",
    "        const S5=s5.data;\n",
    "        console.log(S5['x'][0]);\n",
    "        switch(S5['x'][0]){\n",
    "            case 0:\n",
    "                q=0;\n",
    "                r=1;\n",
    "                console.log(S5['x'][0]);\n",
    "                for (let i = 0; i < d60[A1].length; i++) {\n",
    "                    d12['x'].push(i);\n",
    "                    d12['y'].push(d60[A1][i]);\n",
    "                }\n",
    "                for (let i = 0; i < d22['x'].length; i++) {\n",
    "                    d22['y'].push(d70[A2][i]);\n",
    "                }\n",
    "                for (let i = 0; i < d32['x'].length; i++) {\n",
    "                    d32['y'].push(d80[A3][i]);\n",
    "                }\n",
    "                for (let i = 0; i < Math.min(d60[A1].length,d61[A1].length); i++) {\n",
    "                    ddt['x'].push(i);\n",
    "                    ddt['y'].push(d60[A1][i]-d61[A1][i]);\n",
    "                }\n",
    "                for (let i = 0; i < dds['x'].length; i++) {\n",
    "                    dds['y'].push(d70[A2][i]-d71[A2][i]);\n",
    "                }\n",
    "                for (let i = 0; i < ddm['x'].length; i++) {\n",
    "                    ddm['y'].push(d80[A3][i]-d81[A3][i]);\n",
    "                }\n",
    "                break;\n",
    "            case 1:\n",
    "                q=0;\n",
    "                r=2;\n",
    "                for (let i = 0; i < d60[A1].length; i++) {\n",
    "                    d12['x'].push(i);\n",
    "                    d12['y'].push(d60[A1][i]);\n",
    "                }\n",
    "                for (let i = 0; i < d22['x'].length; i++) {\n",
    "                    d22['y'].push(d70[A2][i]);\n",
    "                }\n",
    "                for (let i = 0; i < d32['x'].length; i++) {\n",
    "                    d32['y'].push(d80[A3][i]);\n",
    "                }\n",
    "                for (let i = 0; i < Math.min(d60[A1].length,d62[A1].length); i++) {\n",
    "                    ddt['x'].push(i);\n",
    "                    ddt['y'].push(d60[A1][i]-d62[A1][i]);\n",
    "                }\n",
    "                for (let i = 0; i < dds['x'].length; i++) {\n",
    "                    dds['y'].push(d70[A2][i]-d72[A2][i]);\n",
    "                }\n",
    "                for (let i = 0; i < ddm['x'].length; i++) {\n",
    "                    ddm['y'].push(d80[A3][i]-d82[A3][i]);\n",
    "                }\n",
    "                break;\n",
    "            case 2:\n",
    "                q=0;\n",
    "                r=3;\n",
    "                for (let i = 0; i < d60[A1].length; i++) {\n",
    "                    d12['x'].push(i);\n",
    "                    d12['y'].push(d60[A1][i]);\n",
    "                }\n",
    "                for (let i = 0; i < d22['x'].length; i++) {\n",
    "                    d22['y'].push(d70[A2][i]);\n",
    "                }\n",
    "                for (let i = 0; i < d32['x'].length; i++) {\n",
    "                    d32['y'].push(d80[A3][i]);\n",
    "                }\n",
    "                for (let i = 0; i < Math.min(d60[A1].length,d63[A1].length); i++) {\n",
    "                    ddt['x'].push(i);\n",
    "                    ddt['y'].push(d60[A1][i]-d63[A1][i]);\n",
    "                }\n",
    "                for (let i = 0; i < dds['x'].length; i++) {\n",
    "                    dds['y'].push(d70[A2][i]-d73[A2][i]);\n",
    "                }\n",
    "                for (let i = 0; i < ddm['x'].length; i++) {\n",
    "                    ddm['y'].push(d80[A3][i]-d83[A3][i]);\n",
    "                }\n",
    "                break;\n",
    "            case 3:\n",
    "                q=1;\n",
    "                r=2;\n",
    "                for (let i = 0; i < d61[A1].length; i++) {\n",
    "                    d12['x'].push(i);\n",
    "                    d12['y'].push(d61[A1][i]);\n",
    "                }\n",
    "                for (let i = 0; i < d22['x'].length; i++) {\n",
    "                    d22['y'].push(d71[A2][i]);\n",
    "                }\n",
    "                for (let i = 0; i < d32['x'].length; i++) {\n",
    "                    d32['y'].push(d81[A3][i]);\n",
    "                }\n",
    "                for (let i = 0; i < Math.min(d61[A1].length,d62[A1].length); i++) {\n",
    "                    ddt['x'].push(i);\n",
    "                    ddt['y'].push(d61[A1][i]-d62[A1][i]);\n",
    "                }\n",
    "                for (let i = 0; i < dds['x'].length; i++) {\n",
    "                    dds['y'].push(d71[A2][i]-d72[A2][i]);\n",
    "                }\n",
    "                for (let i = 0; i < ddm['x'].length; i++) {\n",
    "                    ddm['y'].push(d81[A3][i]-d82[A3][i]);\n",
    "                }\n",
    "                break;\n",
    "            case 4:\n",
    "                q=1;\n",
    "                r=3;\n",
    "                for (let i = 0; i < d61[A1].length; i++) {\n",
    "                    d12['x'].push(i);\n",
    "                    d12['y'].push(d61[A1][i]);\n",
    "                }\n",
    "                for (let i = 0; i < d22['x'].length; i++) {\n",
    "                    d22['y'].push(d71[A2][i]);\n",
    "                }\n",
    "                for (let i = 0; i < d32['x'].length; i++) {\n",
    "                    d32['y'].push(d81[A3][i]);\n",
    "                }\n",
    "                for (let i = 0; i < Math.min(d61[A1].length,d63[A1].length); i++) {\n",
    "                    ddt['x'].push(i);\n",
    "                    ddt['y'].push(d61[A1][i]-d63[A1][i]);\n",
    "                }\n",
    "                for (let i = 0; i < dds['x'].length; i++) {\n",
    "                    dds['y'].push(d71[A2][i]-d73[A2][i]);\n",
    "                }\n",
    "                for (let i = 0; i < ddm['x'].length; i++) {\n",
    "                    ddm['y'].push(d81[A3][i]-d83[A3][i]);\n",
    "                }\n",
    "                break;\n",
    "            case 5:\n",
    "                q=2;\n",
    "                r=3;\n",
    "                for (let i = 0; i < d62[A1].length; i++) {\n",
    "                    d12['x'].push(i);\n",
    "                    d12['y'].push(d62[A1][i]);\n",
    "                }\n",
    "                for (let i = 0; i < d22['x'].length; i++) {\n",
    "                    d22['y'].push(d72[A2][i]);\n",
    "                }\n",
    "                for (let i = 0; i < d32['x'].length; i++) {\n",
    "                    d32['y'].push(d82[A3][i]);\n",
    "                }\n",
    "                for (let i = 0; i < Math.min(d62[A1].length,d63[A1].length); i++) {\n",
    "                    ddt['x'].push(i);\n",
    "                    ddt['y'].push(d62[A1][i]-d63[A1][i]);\n",
    "                }\n",
    "                for (let i = 0; i < dds['x'].length; i++) {\n",
    "                    dds['y'].push(d72[A2][i]-d73[A2][i]);\n",
    "                }\n",
    "                for (let i = 0; i < ddm['x'].length; i++) {\n",
    "                    ddm['y'].push(d82[A3][i]-d83[A3][i]);\n",
    "                }\n",
    "                break;\n",
    "            default:\n",
    "                console.log('hi');\n",
    "                break;\n",
    "                   \n",
    "        }\n",
    "\n",
    "        s1.change.emit();\n",
    "        s2.change.emit();\n",
    "        s3.change.emit();\n",
    "        sds.change.emit();\n",
    "        sdt.change.emit();\n",
    "        sdm.change.emit();\n",
    "        \n",
    "        const d41=source4.data;\n",
    "        const d42=s4.data;\n",
    "        d42['y'][0]=0;\n",
    "        d42['y'][1]=0;\n",
    "        d42['y'][2]=0;\n",
    "        d42['y'][3]=0;\n",
    "        d42['y'][4]=0;\n",
    "        d42['y'][5]=0;\n",
    "        const p=6*A2;\n",
    "        for (let i = 0; i < d41[p].length; i++) {\n",
    "            d42['y'][0]=d42['y'][0]+d41[p][i]*d41[p][i];\n",
    "            d42['y'][1]=d42['y'][1]+d41[p+1][i]*d41[p+1][i];\n",
    "            d42['y'][2]=d42['y'][2]+d41[p+2][i]*d41[p+2][i];\n",
    "            d42['y'][3]=d42['y'][3]+d41[p+3][i]*d41[p+3][i];\n",
    "            d42['y'][4]=d42['y'][4]+d41[p+4][i]*d41[p+4][i];\n",
    "            d42['y'][5]=d42['y'][5]+d41[p+5][i]*d41[p+5][i];\n",
    "            \n",
    "        }\n",
    "        Math.sqrt(d42['y'][0]);\n",
    "        Math.sqrt(d42['y'][1]);\n",
    "        Math.sqrt(d42['y'][2]);\n",
    "        Math.sqrt(d42['y'][3]);\n",
    "        Math.sqrt(d42['y'][4]);\n",
    "        Math.sqrt(d42['y'][5]);\n",
    "        s4.change.emit();\n",
    "\n",
    "\n",
    "\n",
    "\"\"\"))\n",
    "\n",
    "s7.selected.js_on_change('indices', CustomJS(args=dict(s=s7,m=mem,s1=s12,source60=source60,source61=source61,source62=source62,source63=source63,s2=s13,source70=source70,source71=source71,source72=source72,source73=source73,s3=s14,source80=source80,source81=source81,source82=source82,source83=source83,s5=s5), code=\"\"\"\n",
    "        const inds = s.selected.indices;\n",
    "        const d = s.data;\n",
    "        console.log(parseInt(Number(m[inds[0]])/100));\n",
    "        console.log(parseInt((Number(m[inds[0]])/10)%10));\n",
    "        console.log(Number(m[inds[0]])%10);\n",
    "        \n",
    "        const A1=parseInt(Number(m[inds[0]])/100);\n",
    "        const d60 = source60.data;\n",
    "        const d61 = source61.data;\n",
    "        const d62 = source62.data;\n",
    "        const d63 = source63.data;\n",
    "        \n",
    "        const d12 = s1.data;\n",
    "        d12['x']=[];\n",
    "        d12['y'] = [];\n",
    "        \n",
    "        \n",
    "        \n",
    "        \n",
    "        \n",
    "        const A2=parseInt((Number(m[inds[0]])/10)%10);\n",
    "        const d70 = source70.data;\n",
    "        const d71 = source71.data;\n",
    "        const d72 = source72.data;\n",
    "        const d73 = source73.data;\n",
    "\n",
    "        const d22 = s2.data;\n",
    "        d22['y'] = [];\n",
    "        \n",
    "        \n",
    "        \n",
    "        const A3=parseInt(Number(m[inds[0]])%10);\n",
    "        const d80 = source80.data;\n",
    "        const d81 = source81.data;\n",
    "        const d82 = source82.data;\n",
    "        const d83 = source83.data;\n",
    "        \n",
    "        const d32 = s3.data;\n",
    "        d32['y'] = [];\n",
    "        \n",
    "        let q=0;\n",
    "        let r=0;\n",
    "        \n",
    "        const S5=s5.data;\n",
    "        console.log(S5['x'][0]);\n",
    "        switch(S5['x'][0]){\n",
    "            case 0:\n",
    "                q=0;\n",
    "                r=1;\n",
    "                console.log(S5['x'][0]);\n",
    "                for (let i = 0; i < d61[A1].length; i++) {\n",
    "                    d12['x'].push(i);\n",
    "                    d12['y'].push(d61[A1][i]);\n",
    "                }\n",
    "                for (let i = 0; i < d22['x'].length; i++) {\n",
    "                    d22['y'].push(d71[A2][i]);\n",
    "                }\n",
    "                for (let i = 0; i < d32['x'].length; i++) {\n",
    "                    d32['y'].push(d81[A3][i]);\n",
    "                }\n",
    "                break;\n",
    "            case 1:\n",
    "                q=0;\n",
    "                r=2;\n",
    "                for (let i = 0; i < d62[A1].length; i++) {\n",
    "                    d12['x'].push(i);\n",
    "                    d12['y'].push(d62[A1][i]);\n",
    "                }\n",
    "                for (let i = 0; i < d22['x'].length; i++) {\n",
    "                    d22['y'].push(d72[A2][i]);\n",
    "                }\n",
    "                for (let i = 0; i < d32['x'].length; i++) {\n",
    "                    d32['y'].push(d82[A3][i]);\n",
    "                }\n",
    "                break;\n",
    "            case 2:\n",
    "                q=0;\n",
    "                r=3;\n",
    "                for (let i = 0; i < d63[A1].length; i++) {\n",
    "                    d12['x'].push(i);\n",
    "                    d12['y'].push(d63[A1][i]);\n",
    "                }\n",
    "                for (let i = 0; i < d22['x'].length; i++) {\n",
    "                    d22['y'].push(d73[A2][i]);\n",
    "                }\n",
    "                for (let i = 0; i < d32['x'].length; i++) {\n",
    "                    d32['y'].push(d83[A3][i]);\n",
    "                }\n",
    "                break;\n",
    "            case 3:\n",
    "                q=1;\n",
    "                r=2;\n",
    "                for (let i = 0; i < d62[A1].length; i++) {\n",
    "                    d12['x'].push(i);\n",
    "                    d12['y'].push(d62[A1][i]);\n",
    "                }\n",
    "                for (let i = 0; i < d22['x'].length; i++) {\n",
    "                    d22['y'].push(d72[A2][i]);\n",
    "                }\n",
    "                for (let i = 0; i < d32['x'].length; i++) {\n",
    "                    d32['y'].push(d82[A3][i]);\n",
    "                }\n",
    "                break;\n",
    "            case 4:\n",
    "                q=1;\n",
    "                r=3;\n",
    "                for (let i = 0; i < d63[A1].length; i++) {\n",
    "                    d12['x'].push(i);\n",
    "                    d12['y'].push(d63[A1][i]);\n",
    "                }\n",
    "                for (let i = 0; i < d22['x'].length; i++) {\n",
    "                    d22['y'].push(d73[A2][i]);\n",
    "                }\n",
    "                for (let i = 0; i < d32['x'].length; i++) {\n",
    "                    d32['y'].push(d83[A3][i]);\n",
    "                }\n",
    "                break;\n",
    "            case 5:\n",
    "                q=2;\n",
    "                r=3;\n",
    "                for (let i = 0; i < d63[A1].length; i++) {\n",
    "                    d12['x'].push(i);\n",
    "                    d12['y'].push(d63[A1][i]);\n",
    "                }\n",
    "                for (let i = 0; i < d22['x'].length; i++) {\n",
    "                    d22['y'].push(d73[A2][i]);\n",
    "                }\n",
    "                for (let i = 0; i < d32['x'].length; i++) {\n",
    "                    d32['y'].push(d83[A3][i]);\n",
    "                }\n",
    "                break;\n",
    "            default:\n",
    "                console.log('hi');\n",
    "                break;\n",
    "                   \n",
    "        }\n",
    "\n",
    "        s1.change.emit();\n",
    "        s2.change.emit();\n",
    "        s3.change.emit();\n",
    "        \n",
    "\n",
    "\n",
    "\n",
    "\"\"\"))\n",
    "\n",
    "s3.selected.js_on_change('indices', CustomJS(args=dict(s=s3,s4=s4,s5=s5,s6=s6,source4=source4,s7=s7,source5=source5,s8=s8), code=\"\"\"\n",
    "        const inds = s.selected.indices;\n",
    "        const d = s.data;\n",
    "        const S5=s5.data;\n",
    "        S5['x'][0]=inds[0];\n",
    "        const S6=s6.data;\n",
    "        const d41=source4.data;\n",
    "        const d42=s4.data;\n",
    "        const p=S5['x'][0]+6*S6['x'][0];\n",
    "        for (let i = 0; i < d42['x'].length; i++) {\n",
    "            if(d42['y'][i]>0){\n",
    "                d42['y'][i]=d41[p][i];\n",
    "            }\n",
    "        }\n",
    "        console.log(p);        \n",
    "        s5.change.emit();\n",
    "        s4.change.emit();\n",
    "        \n",
    "        const S7=s7.data;\n",
    "        const S8=s8.data;\n",
    "        const d5=source5.data;\n",
    "        const q=0;\n",
    "        const r=0;\n",
    "        \n",
    "        console.log(S5['x'][0]);\n",
    "        switch(S5['x'][0]){\n",
    "            case '0':\n",
    "                q=0;\n",
    "                r=1;\n",
    "                break;\n",
    "            case '1':\n",
    "                q=0;\n",
    "                r=2;\n",
    "                break;\n",
    "            case '2':\n",
    "                q=0;\n",
    "                r=3;\n",
    "                break;\n",
    "            case '3':\n",
    "                q=1;\n",
    "                r=2;\n",
    "                break;\n",
    "            case '4':\n",
    "                q=1;\n",
    "                r=3;\n",
    "                break;\n",
    "            case '5':\n",
    "                q=2;\n",
    "                r=3;\n",
    "                break;\n",
    "            default:\n",
    "                break;\n",
    "                   \n",
    "        }\n",
    "        \n",
    "        for (let i = 0; i < S7['x'].length; i++) {\n",
    "            S7['y'][i]=d5[q][i];\n",
    "            S8['y'][i]=d5[r][i];\n",
    "        }\n",
    "        s7.change.emit();\n",
    "        s8.change.emit();\n",
    "\n",
    "\"\"\"))\n",
    "\n",
    "s1.selected.js_on_change('indices', CustomJS(args=dict(s=s1,source4=source4,s4=s4,s5=s5,s6=s6), code=\"\"\"\n",
    "        const inds = s.selected.indices;\n",
    "        const d = s.data;\n",
    "        console.log(inds);\n",
    "        const d41=source4.data;\n",
    "        const d42=s4.data;\n",
    "        const S6=s6.data;\n",
    "        const S5=s5.data;\n",
    "        for (let i = 0; i < d42['x'].length; i++) {\n",
    "            d42['y'][i]=0;\n",
    "        }\n",
    "        const p=S5['x'][0]+6*S6['x'][0];\n",
    "        console.log(p);\n",
    "        for (let i = 0; i < inds.length; i++) {\n",
    "            d42['y'][inds[i]]=d41[p][inds[i]];\n",
    "            console.log(inds.length);\n",
    "        }\n",
    "        \n",
    "        console.log(d42['y']);\n",
    "        s4.change.emit();\n",
    "\"\"\"))\n",
    "s2.selected.js_on_change('indices', CustomJS(args=dict(s=s2,s4=s4,s5=s5,s6=s6,source4=source4), code=\"\"\"\n",
    "        const inds = s.selected.indices;\n",
    "        const d = s.data;\n",
    "        const S6=s6.data;\n",
    "        S6['x'][0]=inds[0];\n",
    "        const d41=source4.data;\n",
    "        const d42=s4.data;\n",
    "        const S5=s5.data;\n",
    "        const p=S5['x'][0]+6*S6['x'][0];\n",
    "        console.log(p);\n",
    "        for (let i = 0; i < d42['x'].length; i++) {\n",
    "            if(d42['y'][i]>0){\n",
    "                d42['y'][i]=d41[p][i];\n",
    "            }\n",
    "        }\n",
    "        console.log(S5['x'][0]);        \n",
    "        s4.change.emit();\n",
    "        s6.change.emit();\n",
    "        \n",
    "\"\"\"))\n",
    "\n",
    "s4.selected.js_on_change('indices', CustomJS(args=dict(s=s4,s5=s5,s5inds=s5inds,source4=source4,m=mem,s1=s9,source60=source60,source61=source61,source62=source62,source63=source63,s2=s10,source70=source70,source71=source71,source72=source72,source73=source73,s3=s11,source80=source80,source81=source81,source82=source82,source83=source83,sds=sds,sdm=sdm,sdt=sdt), code=\"\"\"\n",
    "\n",
    "        const in4 = s.selected.indices;\n",
    "        const S5=s5.data;\n",
    "        S5['x'][0]=in4[0];\n",
    "        s5.change.emit();\n",
    "        \n",
    "        const inds=s5inds.data;\n",
    "        const d = s.data;\n",
    "        console.log(parseInt(Number(m[inds['x'][0]])/100));\n",
    "        console.log(parseInt((Number(m[inds['x'][0]])/10)%10));\n",
    "        console.log(parseInt(Number(m[inds['x'][0]])%10));\n",
    "        \n",
    "        const A1=parseInt(Number(m[inds['x'][0]])/100);\n",
    "        const d60 = source60.data;\n",
    "        const d61 = source61.data;\n",
    "        const d62 = source62.data;\n",
    "        const d63 = source63.data;\n",
    "        \n",
    "        const d12 = s1.data;\n",
    "        d12['x']=[];\n",
    "        d12['y'] = [];\n",
    "        \n",
    "        const ddt = sdt.data;\n",
    "        ddt['x']=[];\n",
    "        ddt['y'] = [];\n",
    "        \n",
    "        \n",
    "        \n",
    "        const A2=parseInt((Number(m[inds['x'][0]])/10)%10);\n",
    "        const d70 = source70.data;\n",
    "        const d71 = source71.data;\n",
    "        const d72 = source72.data;\n",
    "        const d73 = source73.data;\n",
    "\n",
    "        const d22 = s2.data;\n",
    "        d22['y'] = [];\n",
    "        \n",
    "        const dds = sds.data;\n",
    "        dds['y'] = [];\n",
    "        \n",
    "        \n",
    "        \n",
    "        const A3=parseInt(Number(m[inds['x'][0]])%10);\n",
    "        const d80 = source80.data;\n",
    "        const d81 = source81.data;\n",
    "        const d82 = source82.data;\n",
    "        const d83 = source83.data;\n",
    "        \n",
    "        const d32 = s3.data;\n",
    "        d32['y'] = [];\n",
    "        \n",
    "        const ddm = sdm.data;\n",
    "        ddm['y'] = [];\n",
    "        \n",
    "        \n",
    "        let q=0;\n",
    "        let r=0;\n",
    "        \n",
    "        console.log(S5['x'][0]);\n",
    "        switch(S5['x'][0]){\n",
    "            case 0:\n",
    "                q=0;\n",
    "                r=1;\n",
    "                console.log(S5['x'][0]);\n",
    "                for (let i = 0; i < d60[A1].length; i++) {\n",
    "                    d12['x'].push(i);\n",
    "                    d12['y'].push(d60[A1][i]);\n",
    "                }\n",
    "                for (let i = 0; i < d22['x'].length; i++) {\n",
    "                    d22['y'].push(d70[A2][i]);\n",
    "                }\n",
    "                for (let i = 0; i < d32['x'].length; i++) {\n",
    "                    d32['y'].push(d80[A3][i]);\n",
    "                }\n",
    "                for (let i = 0; i < dds['x'].length; i++) {\n",
    "                    dds['y'].push(d70[A2][i]-d71[A2][i]);\n",
    "                }\n",
    "                for (let i = 0; i < Math.min(d60[A1].length,d61[A1].length); i++) {\n",
    "                    ddt['x'].push(i);\n",
    "                    ddt['y'].push(d60[A1][i]-d61[A1][i]);\n",
    "                }\n",
    "                for (let i = 0; i < ddm['x'].length; i++) {\n",
    "                    ddm['y'].push(d80[A3][i]-d81[A3][i]);\n",
    "                }\n",
    "                break;\n",
    "            case 1:\n",
    "                q=0;\n",
    "                r=2;\n",
    "                for (let i = 0; i < d60[A1].length; i++) {\n",
    "                    d12['x'].push(i);\n",
    "                    d12['y'].push(d60[A1][i]);\n",
    "                }\n",
    "                for (let i = 0; i < d22['x'].length; i++) {\n",
    "                    d22['y'].push(d70[A2][i]);\n",
    "                }\n",
    "                for (let i = 0; i < d32['x'].length; i++) {\n",
    "                    d32['y'].push(d80[A3][i]);\n",
    "                }\n",
    "                for (let i = 0; i < dds['x'].length; i++) {\n",
    "                    dds['y'].push(d70[A2][i]-d72[A2][i]);\n",
    "                }\n",
    "                for (let i = 0; i < Math.min(d60[A1].length,d62[A1].length); i++) {\n",
    "                    ddt['x'].push(i);\n",
    "                    ddt['y'].push(d60[A1][i]-d62[A1][i]);\n",
    "                }\n",
    "                for (let i = 0; i < ddm['x'].length; i++) {\n",
    "                    ddm['y'].push(d80[A3][i]-d82[A3][i]);\n",
    "                }\n",
    "                break;\n",
    "            case 2:\n",
    "                q=0;\n",
    "                r=3;\n",
    "                for (let i = 0; i < d60[A1].length; i++) {\n",
    "                    d12['x'].push(i);\n",
    "                    d12['y'].push(d60[A1][i]);\n",
    "                }\n",
    "                for (let i = 0; i < d22['x'].length; i++) {\n",
    "                    d22['y'].push(d70[A2][i]);\n",
    "                }\n",
    "                for (let i = 0; i < d32['x'].length; i++) {\n",
    "                    d32['y'].push(d80[A3][i]);\n",
    "                }\n",
    "                for (let i = 0; i < dds['x'].length; i++) {\n",
    "                    dds['y'].push(d70[A2][i]-d73[A2][i]);\n",
    "                }\n",
    "                for (let i = 0; i < Math.min(d60[A1].length,d63[A1].length); i++) {\n",
    "                    ddt['x'].push(i);\n",
    "                    ddt['y'].push(d60[A1][i]-d63[A1][i]);\n",
    "                }\n",
    "                \n",
    "                for (let i = 0; i < ddm['x'].length; i++) {\n",
    "                    ddm['y'].push(d80[A3][i]-d83[A3][i]);\n",
    "                }\n",
    "                break;\n",
    "            case 3:\n",
    "                q=1;\n",
    "                r=2;\n",
    "                for (let i = 0; i < d61[A1].length; i++) {\n",
    "                    d12['x'].push(i);\n",
    "                    d12['y'].push(d61[A1][i]);\n",
    "                }\n",
    "                for (let i = 0; i < d22['x'].length; i++) {\n",
    "                    d22['y'].push(d71[A2][i]);\n",
    "                }\n",
    "                for (let i = 0; i < d32['x'].length; i++) {\n",
    "                    d32['y'].push(d81[A3][i]);\n",
    "                }\n",
    "                for (let i = 0; i < dds['x'].length; i++) {\n",
    "                    dds['y'].push(d71[A2][i]-d72[A2][i]);\n",
    "                }\n",
    "                for (let i = 0; i < Math.min(d61[A1].length,d62[A1].length); i++) {\n",
    "                    ddt['x'].push(i);\n",
    "                    ddt['y'].push(d61[A1][i]-d62[A1][i]);\n",
    "                }\n",
    "                for (let i = 0; i < ddm['x'].length; i++) {\n",
    "                    ddm['y'].push(d81[A3][i]-d82[A3][i]);\n",
    "                }\n",
    "                break;\n",
    "            case 4:\n",
    "                q=1;\n",
    "                r=3;\n",
    "                for (let i = 0; i < d61[A1].length; i++) {\n",
    "                    d12['x'].push(i);\n",
    "                    d12['y'].push(d61[A1][i]);\n",
    "                }\n",
    "                for (let i = 0; i < d22['x'].length; i++) {\n",
    "                    d22['y'].push(d71[A2][i]);\n",
    "                }\n",
    "                for (let i = 0; i < d32['x'].length; i++) {\n",
    "                    d32['y'].push(d81[A3][i]);\n",
    "                }\n",
    "                for (let i = 0; i < dds['x'].length; i++) {\n",
    "                    dds['y'].push(d71[A2][i]-d73[A2][i]);\n",
    "                }\n",
    "                for (let i = 0; i < Math.min(d61[A1].length,d63[A1].length); i++) {\n",
    "                    ddt['x'].push(i);\n",
    "                    ddt['y'].push(d61[A1][i]-d63[A1][i]);\n",
    "                }\n",
    "                for (let i = 0; i < ddm['x'].length; i++) {\n",
    "                    ddm['y'].push(d81[A3][i]-d83[A3][i]);\n",
    "                }\n",
    "                break;\n",
    "            case 5:\n",
    "                q=2;\n",
    "                r=3;\n",
    "                for (let i = 0; i < d62[A1].length; i++) {\n",
    "                    d12['x'].push(i);\n",
    "                    d12['y'].push(d62[A1][i]);\n",
    "                }\n",
    "                for (let i = 0; i < d22['x'].length; i++) {\n",
    "                    d22['y'].push(d72[A2][i]);\n",
    "                }\n",
    "                for (let i = 0; i < d32['x'].length; i++) {\n",
    "                    d32['y'].push(d82[A3][i]);\n",
    "                }\n",
    "                for (let i = 0; i < dds['x'].length; i++) {\n",
    "                    dds['y'].push(d72[A2][i]-d73[A2][i]);\n",
    "                }\n",
    "                for (let i = 0; i < Math.min(d62[A1].length,d63[A1].length); i++) {\n",
    "                    ddt['x'].push(i);\n",
    "                    ddt['y'].push(d62[A1][i]-d63[A1][i]);\n",
    "                }\n",
    "                \n",
    "                for (let i = 0; i < ddm['x'].length; i++) {\n",
    "                    ddm['y'].push(d82[A3][i]-d83[A3][i]);\n",
    "                }\n",
    "                break;\n",
    "                \n",
    "            default:\n",
    "                console.log('hi');\n",
    "                break;\n",
    "                   \n",
    "        }\n",
    "\n",
    "        s1.change.emit();\n",
    "        s2.change.emit();\n",
    "        s3.change.emit();\n",
    "        \n",
    "        sds.change.emit();\n",
    "        sdt.change.emit();\n",
    "        sdm.change.emit();\n",
    "\"\"\"))\n",
    "\n",
    "s4.selected.js_on_change('indices', CustomJS(args=dict(s=s4,s5=s5,s5inds=s5inds,m=mem,s1=s12,source60=source60,source61=source61,source62=source62,source63=source63,s2=s13,source70=source70,source71=source71,source72=source72,source73=source73,s3=s14,source80=source80,source81=source81,source82=source82,source83=source83), code=\"\"\"\n",
    "        const in4 = s.selected.indices;\n",
    "        const S5=s5.data;\n",
    "        S5['x'][0]=in4[0];\n",
    "        s5.change.emit();\n",
    "        \n",
    "        const inds = s5inds.data;\n",
    "        const d = s.data;\n",
    "        \n",
    "        console.log('000');\n",
    "        console.log(m[inds['x'][0]]);\n",
    "        console.log(parseInt(Number(m[inds['x'][0]])/100));\n",
    "        console.log(parseInt((Number(m[inds['x'][0]])/10)%10));\n",
    "        console.log(parseInt(Number(m[inds['x'][0]])%10));\n",
    "        \n",
    "        const A1=parseInt(Number(m[inds['x'][0]])/100);\n",
    "        const d60 = source60.data;\n",
    "        const d61 = source61.data;\n",
    "        const d62 = source62.data;\n",
    "        const d63 = source63.data;\n",
    "        \n",
    "        const d12 = s1.data;\n",
    "        d12['x']=[];\n",
    "        d12['y'] = [];\n",
    "        \n",
    "        \n",
    "        \n",
    "        \n",
    "        \n",
    "        const A2=parseInt((Number(m[inds['x'][0]])/10)%10);\n",
    "        const d70 = source70.data;\n",
    "        const d71 = source71.data;\n",
    "        const d72 = source72.data;\n",
    "        const d73 = source73.data;\n",
    "\n",
    "        const d22 = s2.data;\n",
    "        d22['y'] = [];\n",
    "        \n",
    "        \n",
    "        \n",
    "        const A3=parseInt(Number(m[inds['x'][0]])%10);\n",
    "        const d80 = source80.data;\n",
    "        const d81 = source81.data;\n",
    "        const d82 = source82.data;\n",
    "        const d83 = source83.data;\n",
    "        \n",
    "        const d32 = s3.data;\n",
    "        d32['y'] = [];\n",
    "        \n",
    "        let q=0;\n",
    "        let r=0;\n",
    "        \n",
    "        console.log(S5['x'][0]);\n",
    "        switch(S5['x'][0]){\n",
    "            case 0:\n",
    "                q=0;\n",
    "                r=1;\n",
    "                console.log(S5['x'][0]);\n",
    "                for (let i = 0; i < d61[A1].length; i++) {\n",
    "                    d12['x'].push(i);\n",
    "                    d12['y'].push(d61[A1][i]);\n",
    "                }\n",
    "                for (let i = 0; i < d22['x'].length; i++) {\n",
    "                    d22['y'].push(d71[A2][i]);\n",
    "                }\n",
    "                for (let i = 0; i < d32['x'].length; i++) {\n",
    "                    d32['y'].push(d81[A3][i]);\n",
    "                }\n",
    "                break;\n",
    "            case 1:\n",
    "                q=0;\n",
    "                r=2;\n",
    "                for (let i = 0; i < d62[A1].length; i++) {\n",
    "                    d12['x'].push(i);\n",
    "                    d12['y'].push(d62[A1][i]);\n",
    "                }\n",
    "                for (let i = 0; i < d22['x'].length; i++) {\n",
    "                    d22['y'].push(d72[A2][i]);\n",
    "                }\n",
    "                for (let i = 0; i < d32['x'].length; i++) {\n",
    "                    d32['y'].push(d82[A3][i]);\n",
    "                }\n",
    "                break;\n",
    "            case 2:\n",
    "                q=0;\n",
    "                r=3;\n",
    "                for (let i = 0; i < d63[A1].length; i++) {\n",
    "                    d12['x'].push(i);\n",
    "                    d12['y'].push(d63[A1][i]);\n",
    "                }\n",
    "                for (let i = 0; i < d22['x'].length; i++) {\n",
    "                    d22['y'].push(d73[A2][i]);\n",
    "                }\n",
    "                for (let i = 0; i < d32['x'].length; i++) {\n",
    "                    d32['y'].push(d83[A3][i]);\n",
    "                }\n",
    "                break;\n",
    "            case 3:\n",
    "                q=1;\n",
    "                r=2;\n",
    "                for (let i = 0; i < d62[A1].length; i++) {\n",
    "                    d12['x'].push(i);\n",
    "                    d12['y'].push(d62[A1][i]);\n",
    "                }\n",
    "                for (let i = 0; i < d22['x'].length; i++) {\n",
    "                    d22['y'].push(d72[A2][i]);\n",
    "                }\n",
    "                for (let i = 0; i < d32['x'].length; i++) {\n",
    "                    d32['y'].push(d82[A3][i]);\n",
    "                }\n",
    "                break;\n",
    "            case 4:\n",
    "                q=1;\n",
    "                r=3;\n",
    "                for (let i = 0; i < d63[A1].length; i++) {\n",
    "                    d12['x'].push(i);\n",
    "                    d12['y'].push(d63[A1][i]);\n",
    "                }\n",
    "                for (let i = 0; i < d22['x'].length; i++) {\n",
    "                    d22['y'].push(d73[A2][i]);\n",
    "                }\n",
    "                for (let i = 0; i < d32['x'].length; i++) {\n",
    "                    d32['y'].push(d83[A3][i]);\n",
    "                }\n",
    "                break;\n",
    "            case 5:\n",
    "                q=2;\n",
    "                r=3;\n",
    "                for (let i = 0; i < d63[A1].length; i++) {\n",
    "                    d12['x'].push(i);\n",
    "                    d12['y'].push(d63[A1][i]);\n",
    "                }\n",
    "                for (let i = 0; i < d22['x'].length; i++) {\n",
    "                    d22['y'].push(d73[A2][i]);\n",
    "                }\n",
    "                for (let i = 0; i < d32['x'].length; i++) {\n",
    "                    d32['y'].push(d83[A3][i]);\n",
    "                }\n",
    "                break;\n",
    "            default:\n",
    "                console.log('hi');\n",
    "                break;\n",
    "                   \n",
    "        }\n",
    "        console.log('qr');\n",
    "        console.log(q);\n",
    "        console.log(r);\n",
    "        s1.change.emit();\n",
    "        s2.change.emit();\n",
    "        s3.change.emit();\n",
    "        \n",
    "\n",
    "\n",
    "\n",
    "\"\"\"))\n",
    "\n",
    "#show(gridplot([[p5,p9,p10,p11],[p4,p12,p13,p14]]))\n",
    "show(column(row(p5,p4),row(pdt,column(p9,p12),pds,column(p10,p13),pdm,column(p11,p14))))"
   ]
  },
  {
   "cell_type": "markdown",
   "metadata": {},
   "source": [
    "s4の差のランキングを表示することで選択できるようにする、差をプロット"
   ]
  },
  {
   "cell_type": "markdown",
   "metadata": {
    "id": "oksE80h8lXa0"
   },
   "source": [
    "差分テンソルの結果より、空間軸は一旦置いておいて、因子２なので上のテンソルコアで？1？で関わりが大きそうな所をプロットすることで特徴を知れる。111と213、313って感じの順番"
   ]
  },
  {
   "cell_type": "markdown",
   "metadata": {
    "id": "mh6BWD_k9ySS"
   },
   "source": [
    "このこのテンソル分解後の要素をもう一度テンソルに再構成して、時間軸の要素だけのテンソルを作り、それを比較するというのはどう？"
   ]
  },
  {
   "cell_type": "code",
   "execution_count": null,
   "metadata": {
    "executionInfo": {
     "elapsed": 45,
     "status": "ok",
     "timestamp": 1672373964430,
     "user": {
      "displayName": "学生1935084t",
      "userId": "12227631716568337195"
     },
     "user_tz": -540
    },
    "id": "fKLJgrxJ9x-z"
   },
   "outputs": [],
   "source": []
  },
  {
   "cell_type": "code",
   "execution_count": 52,
   "metadata": {
    "colab": {
     "base_uri": "https://localhost:8080/",
     "height": 35
    },
    "executionInfo": {
     "elapsed": 45,
     "status": "ok",
     "timestamp": 1672373964431,
     "user": {
      "displayName": "学生1935084t",
      "userId": "12227631716568337195"
     },
     "user_tz": -540
    },
    "id": "lh0IZIT-lHgy",
    "outputId": "10f0a4bb-e9e2-4345-a5bd-475bd3d06b08"
   },
   "outputs": [
    {
     "data": {
      "text/plain": [
       "'\\nnp.set_printoptions(threshold=np.inf)\\nprint(a)\\n'"
      ]
     },
     "execution_count": 52,
     "metadata": {},
     "output_type": "execute_result"
    }
   ],
   "source": [
    "\"\"\"\n",
    "np.set_printoptions(threshold=np.inf)\n",
    "print(a)\n",
    "\"\"\""
   ]
  },
  {
   "cell_type": "code",
   "execution_count": 53,
   "metadata": {
    "executionInfo": {
     "elapsed": 43,
     "status": "ok",
     "timestamp": 1672373964431,
     "user": {
      "displayName": "学生1935084t",
      "userId": "12227631716568337195"
     },
     "user_tz": -540
    },
    "id": "pgTclbsyjBMP"
   },
   "outputs": [],
   "source": [
    "#print(a[:,0].shape)"
   ]
  },
  {
   "cell_type": "code",
   "execution_count": 54,
   "metadata": {
    "executionInfo": {
     "elapsed": 44,
     "status": "ok",
     "timestamp": 1672373964432,
     "user": {
      "displayName": "学生1935084t",
      "userId": "12227631716568337195"
     },
     "user_tz": -540
    },
    "id": "2sv96aWujPdY"
   },
   "outputs": [],
   "source": [
    "#a=a[:,:]"
   ]
  },
  {
   "cell_type": "code",
   "execution_count": 55,
   "metadata": {
    "colab": {
     "base_uri": "https://localhost:8080/",
     "height": 70
    },
    "executionInfo": {
     "elapsed": 43,
     "status": "ok",
     "timestamp": 1672373964432,
     "user": {
      "displayName": "学生1935084t",
      "userId": "12227631716568337195"
     },
     "user_tz": -540
    },
    "id": "zVnOndxaxCHG",
    "outputId": "8fecfb6e-2f84-4aef-831f-0be32fe26ba0"
   },
   "outputs": [
    {
     "data": {
      "text/plain": [
       "'\\ndef spaceRowHeatDifOutn(t0,t1):\\n  plt.figure(figsize=(1*10,1*10))\\n  a=t0\\n  b=t1\\n  ab=abs(a-b)\\n\\n  print(\"01\")\\n  sns.heatmap(ab,vmin=0, vmax=0.5)\\n\\n  print(\"誤差\")\\n  print(\"01\")\\n  print(ab.sum())\\n  return ab\\n'"
      ]
     },
     "execution_count": 55,
     "metadata": {},
     "output_type": "execute_result"
    }
   ],
   "source": [
    "\"\"\"\n",
    "def spaceRowHeatDifOutn(t0,t1):\n",
    "  plt.figure(figsize=(1*10,1*10))\n",
    "  a=t0\n",
    "  b=t1\n",
    "  ab=abs(a-b)\n",
    "\n",
    "  print(\"01\")\n",
    "  sns.heatmap(ab,vmin=0, vmax=0.5)\n",
    "\n",
    "  print(\"誤差\")\n",
    "  print(\"01\")\n",
    "  print(ab.sum())\n",
    "  return ab\n",
    "\"\"\""
   ]
  },
  {
   "cell_type": "code",
   "execution_count": 56,
   "metadata": {
    "executionInfo": {
     "elapsed": 43,
     "status": "ok",
     "timestamp": 1672373964433,
     "user": {
      "displayName": "学生1935084t",
      "userId": "12227631716568337195"
     },
     "user_tz": -540
    },
    "id": "GHK8qOa4jYVT"
   },
   "outputs": [],
   "source": [
    "#print(a.shape)"
   ]
  },
  {
   "cell_type": "code",
   "execution_count": 57,
   "metadata": {
    "colab": {
     "base_uri": "https://localhost:8080/",
     "height": 122
    },
    "executionInfo": {
     "elapsed": 44,
     "status": "ok",
     "timestamp": 1672373964434,
     "user": {
      "displayName": "学生1935084t",
      "userId": "12227631716568337195"
     },
     "user_tz": -540
    },
    "id": "RFFREXSqizpL",
    "outputId": "5ac9e8f0-9a82-4fc7-bc53-70f6f5313577"
   },
   "outputs": [
    {
     "data": {
      "text/plain": [
       "\"\\na=spaceRowHeatDifOut(b0,b1)\\ny=np.argsort(a[:,3]*(10**20),kind='mergesort')\\nb0n=b0[1][:,:]\\nb1n=b1[1][:,:]\\nb0n=b0n[y,:]\\nb1n=b1n[y,:]\\na=spaceRowHeatDifOutn(b0n,b1n)\\ny=np.argsort(a[:,2]*(10**20),kind='mergesort')\\nb0n=b0n[y,:]\\nb1n=b1n[y,:]\\na=spaceRowHeatDifOutn(b0n,b1n)\\ny=np.argsort(a[:,1]*(10**20),kind='mergesort')\\nb0n=b0n[y,:]\\nb1n=b1n[y,:]\\na=spaceRowHeatDifOutn(b0n,b1n)\\ny=np.argsort(a[:,0]*(10**20),kind='mergesort')\\nb0n=b0n[y,:]\\nb1n=b1n[y,:]\\na=spaceRowHeatDifOutn(b0n,b1n)\\n\""
      ]
     },
     "execution_count": 57,
     "metadata": {},
     "output_type": "execute_result"
    }
   ],
   "source": [
    "\"\"\"\n",
    "a=spaceRowHeatDifOut(b0,b1)\n",
    "y=np.argsort(a[:,3]*(10**20),kind='mergesort')\n",
    "b0n=b0[1][:,:]\n",
    "b1n=b1[1][:,:]\n",
    "b0n=b0n[y,:]\n",
    "b1n=b1n[y,:]\n",
    "a=spaceRowHeatDifOutn(b0n,b1n)\n",
    "y=np.argsort(a[:,2]*(10**20),kind='mergesort')\n",
    "b0n=b0n[y,:]\n",
    "b1n=b1n[y,:]\n",
    "a=spaceRowHeatDifOutn(b0n,b1n)\n",
    "y=np.argsort(a[:,1]*(10**20),kind='mergesort')\n",
    "b0n=b0n[y,:]\n",
    "b1n=b1n[y,:]\n",
    "a=spaceRowHeatDifOutn(b0n,b1n)\n",
    "y=np.argsort(a[:,0]*(10**20),kind='mergesort')\n",
    "b0n=b0n[y,:]\n",
    "b1n=b1n[y,:]\n",
    "a=spaceRowHeatDifOutn(b0n,b1n)\n",
    "\"\"\""
   ]
  },
  {
   "cell_type": "code",
   "execution_count": 58,
   "metadata": {
    "colab": {
     "base_uri": "https://localhost:8080/",
     "height": 87
    },
    "executionInfo": {
     "elapsed": 43,
     "status": "ok",
     "timestamp": 1672373964434,
     "user": {
      "displayName": "学生1935084t",
      "userId": "12227631716568337195"
     },
     "user_tz": -540
    },
    "id": "AA-fmO3TjhaC",
    "outputId": "9b7dbf72-0107-4f70-c594-4fce3ecc9037"
   },
   "outputs": [
    {
     "data": {
      "text/plain": [
       "'\\ntensor_0 = df_cluster0.values.reshape(-1, 864, 4)\\n#print(tensor_0[1,0,0])\\ntensor_1 = df_cluster1.values.reshape(-1, 864, 4)\\n#print(tensor_1[1,0,0])\\ntensor_2 = df_cluster2.values.reshape(-1, 864, 4)\\n#print(tensor_2[1,0,0])\\ntensor_all = df_clusterall.values.reshape(-1, 864, 4)\\n#print(tensor_2[1,0,0])\\n'"
      ]
     },
     "execution_count": 58,
     "metadata": {},
     "output_type": "execute_result"
    }
   ],
   "source": [
    "#元データ\n",
    "\"\"\"\n",
    "tensor_0 = df_cluster0.values.reshape(-1, 864, 4)\n",
    "#print(tensor_0[1,0,0])\n",
    "tensor_1 = df_cluster1.values.reshape(-1, 864, 4)\n",
    "#print(tensor_1[1,0,0])\n",
    "tensor_2 = df_cluster2.values.reshape(-1, 864, 4)\n",
    "#print(tensor_2[1,0,0])\n",
    "tensor_all = df_clusterall.values.reshape(-1, 864, 4)\n",
    "#print(tensor_2[1,0,0])\n",
    "\"\"\""
   ]
  },
  {
   "cell_type": "code",
   "execution_count": 59,
   "metadata": {
    "colab": {
     "base_uri": "https://localhost:8080/",
     "height": 35
    },
    "executionInfo": {
     "elapsed": 43,
     "status": "ok",
     "timestamp": 1672373964435,
     "user": {
      "displayName": "学生1935084t",
      "userId": "12227631716568337195"
     },
     "user_tz": -540
    },
    "id": "n5qh5SVuK2Ja",
    "outputId": "d1036f4a-e193-4dcf-cb77-ae6bb6bc39c7"
   },
   "outputs": [
    {
     "data": {
      "text/plain": [
       "'\\nleft=range(864)\\nheight1=a[:,1]\\np1 = plt.plot(left, height1, linewidth=2)\\n'"
      ]
     },
     "execution_count": 59,
     "metadata": {},
     "output_type": "execute_result"
    }
   ],
   "source": [
    "\"\"\"\n",
    "left=range(864)\n",
    "height1=a[:,1]\n",
    "p1 = plt.plot(left, height1, linewidth=2)\n",
    "\"\"\""
   ]
  },
  {
   "cell_type": "markdown",
   "metadata": {
    "id": "RzBwykhKLMjB"
   },
   "source": [
    "並び替えがうまくいっていない→多分うまくいった"
   ]
  },
  {
   "cell_type": "code",
   "execution_count": 60,
   "metadata": {
    "colab": {
     "base_uri": "https://localhost:8080/",
     "height": 35
    },
    "executionInfo": {
     "elapsed": 43,
     "status": "ok",
     "timestamp": 1672373964436,
     "user": {
      "displayName": "学生1935084t",
      "userId": "12227631716568337195"
     },
     "user_tz": -540
    },
    "id": "sim1FgwwmMt2",
    "outputId": "5b050990-f08b-4202-df3e-d7ff4b990a06"
   },
   "outputs": [
    {
     "data": {
      "text/plain": [
       "'\\nt0=tensor_0\\nt1=tensor_2\\n#print(t0[:,0,:])\\n'"
      ]
     },
     "execution_count": 60,
     "metadata": {},
     "output_type": "execute_result"
    }
   ],
   "source": [
    "\"\"\"\n",
    "t0=tensor_0\n",
    "t1=tensor_2\n",
    "#print(t0[:,0,:])\n",
    "\"\"\""
   ]
  },
  {
   "cell_type": "code",
   "execution_count": 61,
   "metadata": {
    "colab": {
     "base_uri": "https://localhost:8080/",
     "height": 35
    },
    "executionInfo": {
     "elapsed": 43,
     "status": "ok",
     "timestamp": 1672373964437,
     "user": {
      "displayName": "学生1935084t",
      "userId": "12227631716568337195"
     },
     "user_tz": -540
    },
    "id": "ybe5J7HUwLRh",
    "outputId": "e18e13af-0735-4850-8c2b-2ff12cc12d26"
   },
   "outputs": [
    {
     "data": {
      "text/plain": [
       "'\\nb0n=b0[1][:,:]\\nb1n=b1[1][:,:]\\nb0n=b0n[y,:]\\nb1n=b1n[y,:]\\n'"
      ]
     },
     "execution_count": 61,
     "metadata": {},
     "output_type": "execute_result"
    }
   ],
   "source": [
    "\"\"\"\n",
    "b0n=b0[1][:,:]\n",
    "b1n=b1[1][:,:]\n",
    "b0n=b0n[y,:]\n",
    "b1n=b1n[y,:]\n",
    "\"\"\""
   ]
  },
  {
   "cell_type": "code",
   "execution_count": 62,
   "metadata": {
    "executionInfo": {
     "elapsed": 42,
     "status": "ok",
     "timestamp": 1672373964438,
     "user": {
      "displayName": "学生1935084t",
      "userId": "12227631716568337195"
     },
     "user_tz": -540
    },
    "id": "WqI6b_71wGZT"
   },
   "outputs": [],
   "source": [
    "#spaceRowHeatDifOutn(b0n,b1n)"
   ]
  },
  {
   "cell_type": "code",
   "execution_count": 63,
   "metadata": {
    "colab": {
     "base_uri": "https://localhost:8080/",
     "height": 35
    },
    "executionInfo": {
     "elapsed": 42,
     "status": "ok",
     "timestamp": 1672373964438,
     "user": {
      "displayName": "学生1935084t",
      "userId": "12227631716568337195"
     },
     "user_tz": -540
    },
    "id": "wAEc14Yw570F",
    "outputId": "4b475b85-c817-41c0-e05b-eee8f50c7897"
   },
   "outputs": [
    {
     "data": {
      "text/plain": [
       "'\\ny1=np.argsort(a[:,1]*(10**20))\\n'"
      ]
     },
     "execution_count": 63,
     "metadata": {},
     "output_type": "execute_result"
    }
   ],
   "source": [
    "\"\"\"\n",
    "y1=np.argsort(a[:,1]*(10**20))\n",
    "\"\"\""
   ]
  },
  {
   "cell_type": "code",
   "execution_count": 64,
   "metadata": {
    "colab": {
     "base_uri": "https://localhost:8080/",
     "height": 35
    },
    "executionInfo": {
     "elapsed": 41,
     "status": "ok",
     "timestamp": 1672373964439,
     "user": {
      "displayName": "学生1935084t",
      "userId": "12227631716568337195"
     },
     "user_tz": -540
    },
    "id": "0xsGgm-G6ABv",
    "outputId": "6190f0e1-ddbd-47a0-81be-77e2a22b79ea"
   },
   "outputs": [
    {
     "data": {
      "text/plain": [
       "'\\nb0n=b0n[y1,:]\\nb1n=b1n[y1,:]\\n'"
      ]
     },
     "execution_count": 64,
     "metadata": {},
     "output_type": "execute_result"
    }
   ],
   "source": [
    "\"\"\"\n",
    "b0n=b0n[y1,:]\n",
    "b1n=b1n[y1,:]\n",
    "\"\"\""
   ]
  },
  {
   "cell_type": "code",
   "execution_count": 65,
   "metadata": {
    "executionInfo": {
     "elapsed": 41,
     "status": "ok",
     "timestamp": 1672373964440,
     "user": {
      "displayName": "学生1935084t",
      "userId": "12227631716568337195"
     },
     "user_tz": -540
    },
    "id": "kxflFtyO6FS2"
   },
   "outputs": [],
   "source": [
    "\n",
    "#spaceRowHeatDifOutn(b0n,b1n)"
   ]
  },
  {
   "cell_type": "code",
   "execution_count": 66,
   "metadata": {
    "colab": {
     "base_uri": "https://localhost:8080/",
     "height": 35
    },
    "executionInfo": {
     "elapsed": 41,
     "status": "ok",
     "timestamp": 1672373964440,
     "user": {
      "displayName": "学生1935084t",
      "userId": "12227631716568337195"
     },
     "user_tz": -540
    },
    "id": "2KmZt7cEKgRG",
    "outputId": "ae88a6d3-5d24-4dfc-f55b-1a42329cffa7"
   },
   "outputs": [
    {
     "data": {
      "text/plain": [
       "'\\nt0=tensor_0[:,y,:]\\nt1=tensor_2[:,y,:]\\n'"
      ]
     },
     "execution_count": 66,
     "metadata": {},
     "output_type": "execute_result"
    }
   ],
   "source": [
    "\"\"\"\n",
    "t0=tensor_0[:,y,:]\n",
    "t1=tensor_2[:,y,:]\n",
    "\"\"\""
   ]
  },
  {
   "cell_type": "code",
   "execution_count": 67,
   "metadata": {
    "executionInfo": {
     "elapsed": 41,
     "status": "ok",
     "timestamp": 1672373964441,
     "user": {
      "displayName": "学生1935084t",
      "userId": "12227631716568337195"
     },
     "user_tz": -540
    },
    "id": "eAmbseDAnYqW"
   },
   "outputs": [],
   "source": [
    "#t0[0,0,3]"
   ]
  },
  {
   "cell_type": "code",
   "execution_count": 68,
   "metadata": {
    "executionInfo": {
     "elapsed": 40,
     "status": "ok",
     "timestamp": 1672373964441,
     "user": {
      "displayName": "学生1935084t",
      "userId": "12227631716568337195"
     },
     "user_tz": -540
    },
    "id": "bMLu6jbUnpri"
   },
   "outputs": [],
   "source": [
    "#print(t1[:,863,:].shape)"
   ]
  },
  {
   "cell_type": "code",
   "execution_count": 69,
   "metadata": {
    "colab": {
     "base_uri": "https://localhost:8080/",
     "height": 104
    },
    "executionInfo": {
     "elapsed": 41,
     "status": "ok",
     "timestamp": 1672373964442,
     "user": {
      "displayName": "学生1935084t",
      "userId": "12227631716568337195"
     },
     "user_tz": -540
    },
    "id": "-Q6b9UgDqQrs",
    "outputId": "ca84ddc1-8222-4d63-d365-b7af01230367"
   },
   "outputs": [
    {
     "data": {
      "text/plain": [
       "'\\nleft=range(117)\\nheight1=t1[:,pt,0]\\nheight2=t1[:,pt,1]\\nheight3=t1[:,pt,2]\\nheight4=t1[:,pt,3]\\nplt.subplot(1,2,2)\\np1 = plt.plot(left, height1, linewidth=2)\\np2 = plt.plot(left, height2, linewidth=2)\\np3 = plt.plot(left, height3, linewidth=2)\\np4 = plt.plot(left, height4, linewidth=2)\\nplt.legend((p1[0], p2[0],p3[0], p4[0]), (\"Class 1\", \"Class 2\",\"Class 3\", \"Class 4\"), loc=4)\\n'"
      ]
     },
     "execution_count": 69,
     "metadata": {},
     "output_type": "execute_result"
    }
   ],
   "source": [
    "\"\"\"\n",
    "left=range(221)\n",
    "cnt=0\n",
    "for pt in range(859,863):\n",
    "  plt.figure(figsize=(2*10,2*10))\n",
    "  height1=t0[:,pt,0]\n",
    "  height2=t0[:,pt,1]\n",
    "  height3=t0[:,pt,2]\n",
    "  height4=t0[:,pt,3]\n",
    "  cnt=cnt+1\n",
    "  plt.subplot(4,1,cnt)\n",
    "  p1 = plt.plot(left, height1, linewidth=2)\n",
    "  p2 = plt.plot(left, height2, linewidth=2)\n",
    "  p3 = plt.plot(left, height3, linewidth=2)\n",
    "  p4 = plt.plot(left, height4, linewidth=2)\n",
    "  plt.legend((p1[0], p2[0],p3[0], p4[0]), (\"Class 1\", \"Class 2\",\"Class 3\", \"Class 4\"), loc=4)\n",
    "\n",
    "\"\"\"\n",
    "\"\"\"\n",
    "left=range(117)\n",
    "height1=t1[:,pt,0]\n",
    "height2=t1[:,pt,1]\n",
    "height3=t1[:,pt,2]\n",
    "height4=t1[:,pt,3]\n",
    "plt.subplot(1,2,2)\n",
    "p1 = plt.plot(left, height1, linewidth=2)\n",
    "p2 = plt.plot(left, height2, linewidth=2)\n",
    "p3 = plt.plot(left, height3, linewidth=2)\n",
    "p4 = plt.plot(left, height4, linewidth=2)\n",
    "plt.legend((p1[0], p2[0],p3[0], p4[0]), (\"Class 1\", \"Class 2\",\"Class 3\", \"Class 4\"), loc=4)\n",
    "\"\"\"\n"
   ]
  },
  {
   "cell_type": "code",
   "execution_count": null,
   "metadata": {},
   "outputs": [
    {
     "name": "stdout",
     "output_type": "stream",
     "text": [
      "tensor\n"
     ]
    }
   ],
   "source": [
    "#テンソル元データの探索1\n",
    "\n",
    "\n",
    "print(\"tensor\")\n",
    "t=input()\n",
    "if t==\"0\":\n",
    "    t1=tensor_0\n",
    "    t2=tensor_1\n",
    "elif t==\"1\":\n",
    "    t1=ttensor_0\n",
    "    t2=ttensor_2\n",
    "elif t==\"2\":\n",
    "    t1=ttensor_0\n",
    "    t2=ttensor_all\n",
    "elif t==\"3\":\n",
    "    t1=ttensor_1\n",
    "    t2=ttensor_2\n",
    "elif t==\"4\":\n",
    "    t1=ttensor_1\n",
    "    t2=ttensor_all\n",
    "elif t==\"5\":\n",
    "    t1=ttensor_2\n",
    "    t2=ttensor_all\n",
    "\n",
    "height1=[]\n",
    "height2=[]\n",
    "height3=[]\n",
    "height4=[]\n",
    "print(\"time\")\n",
    "\n",
    "time=list(map(int, input().split(\",\")))\n",
    "left=range(len(time))\n",
    "\n",
    "print(\"space\")\n",
    "sel=list(map(int, input().split(\",\")))\n",
    "\n",
    "plt.figure(figsize=(2*10,2*10))\n",
    "plt.subplot(2,1,1)\n",
    "cnt=0\n",
    "h1a=0\n",
    "h2a=0\n",
    "h3a=0\n",
    "h4a=0\n",
    "\n",
    "for pt in sel:\n",
    "    height1=[]\n",
    "    height2=[]\n",
    "    height3=[]\n",
    "    height4=[]\n",
    "    cnt=cnt+1\n",
    "    for tt in time:\n",
    "        height1.append(t1[tt,int(pt),0])\n",
    "        height2.append(t1[tt,int(pt),1])\n",
    "        height3.append(t1[tt,int(pt),2])\n",
    "        height4.append(t1[tt,int(pt),3])\n",
    "        \n",
    "    p1 = plt.scatter(left, height1, color=\"b\")\n",
    "    p2 = plt.scatter(left, height2, color=\"g\")\n",
    "    p3 = plt.scatter(left, height3, color=\"r\")\n",
    "    p4 = plt.scatter(left, height4, color=\"y\")\n",
    "    h1a=h1a+np.average(height1)\n",
    "    h2a=h2a+np.average(height2)\n",
    "    h3a=h3a+np.average(height3)\n",
    "    h4a=h4a+np.average(height4)\n",
    "\n",
    "h1a=h1a/cnt\n",
    "h2a=h2a/cnt\n",
    "h3a=h3a/cnt\n",
    "h4a=h4a/cnt\n",
    "print(\"tensor1\")\n",
    "print(\"Average AirIn\")\n",
    "print(h1a)\n",
    "print(\"Average AirOut\")\n",
    "print(h2a) \n",
    "print(\"Average CPU\")\n",
    "print(h3a) \n",
    "print(\"Average Water\")\n",
    "print(h4a)  \n",
    "height1=[]\n",
    "height2=[]\n",
    "height3=[]\n",
    "height4=[]\n",
    "h1a=0\n",
    "h2a=0\n",
    "h3a=0\n",
    "h4a=0\n",
    "\n",
    "plt.figure(figsize=(2*10,2*10))\n",
    "plt.subplot(2,1,1)\n",
    "cnt=0\n",
    "for pt in sel:\n",
    "    height1=[]\n",
    "    height2=[]\n",
    "    height3=[]\n",
    "    height4=[]\n",
    "    cnt=cnt+1\n",
    "    for tt in time:\n",
    "        height1.append(t2[tt,int(pt),0])\n",
    "        height2.append(t2[tt,int(pt),1])\n",
    "        height3.append(t2[tt,int(pt),2])\n",
    "        height4.append(t2[tt,int(pt),3])\n",
    "        \n",
    "    p1 = plt.scatter(left, height1, color=\"b\")\n",
    "    p2 = plt.scatter(left, height2, color=\"g\")\n",
    "    p3 = plt.scatter(left, height3, color=\"r\")\n",
    "    p4 = plt.scatter(left, height4, color=\"y\")\n",
    "    h1a=h1a+np.average(height1)\n",
    "    h2a=h2a+np.average(height2)\n",
    "    h3a=h3a+np.average(height3)\n",
    "    h4a=h4a+np.average(height4)\n",
    "\n",
    "h1a=h1a/cnt\n",
    "h2a=h2a/cnt\n",
    "h3a=h3a/cnt\n",
    "h4a=h4a/cnt\n",
    "print(\"tensor2\")\n",
    "print(\"Average AirIn\")\n",
    "print(h1a)\n",
    "print(\"Average AirOut\")\n",
    "print(h2a) \n",
    "print(\"Average CPU\")\n",
    "print(h3a) \n",
    "print(\"Average Water\")\n",
    "print(h4a) "
   ]
  },
  {
   "cell_type": "code",
   "execution_count": null,
   "metadata": {
    "colab": {
     "base_uri": "https://localhost:8080/",
     "height": 122
    },
    "executionInfo": {
     "elapsed": 40,
     "status": "ok",
     "timestamp": 1672373964442,
     "user": {
      "displayName": "学生1935084t",
      "userId": "12227631716568337195"
     },
     "user_tz": -540
    },
    "id": "iosm3p053dbi",
    "outputId": "407ec661-2af7-43e1-db6c-1d857a2ed804"
   },
   "outputs": [],
   "source": [
    "#元データの探索\n",
    "print(\"因子数\")\n",
    "q=input()\n",
    "#print(\"tensor\")\n",
    "#t=input()\n",
    "if t==\"0\":\n",
    "    bb1=b0[1][:,int(q)]\n",
    "    bb2=b1[1][:,int(q)]    \n",
    "elif t==\"1\":\n",
    "    bb1=b0[1][:,int(q)]\n",
    "    bb2=b2[1][:,int(q)]\n",
    "elif t==\"2\":\n",
    "    bb1=b0[1][:,int(q)]\n",
    "    bb2=b3[1][:,int(q)]\n",
    "elif t==\"3\":\n",
    "    bb1=b1[1][:,int(q)]\n",
    "    bb2=b2[1][:,int(q)]\n",
    "elif t==\"4\":\n",
    "    bb1=b1[1][:,int(q)]\n",
    "    bb2=b3[1][:,int(q)]\n",
    "elif t==\"5\":\n",
    "    bb1=b2[1][:,int(q)]\n",
    "    bb2=b3[1][:,int(q)]\n",
    "    \n",
    "    \n",
    "\"\"\"\n",
    "print(\"因子数\")\n",
    "q=input()\n",
    "print(\"tensor\")\n",
    "t=input()\n",
    "if t==\"0\":\n",
    "    bb2=b0[1][:,int(q)]\n",
    "elif t==\"1\":\n",
    "\n",
    "elif t==\"2\":\n",
    "    bb2=b2[1][:,int(q)]\n",
    "elif t==\"3\":\n",
    "    bb2=b3[1][:,int(q)]\n",
    "\"\"\"\n",
    "\n",
    "\n",
    "#print(\"space\")\n",
    "#sel=list(map(int, input().split(\",\")))\n",
    "\n",
    "#print(\"一つ目\")\n",
    "tx1=np.zeros(864)\n",
    "for i in sel:\n",
    "    tx1[i]=bb1[i]\n",
    "    #print(tx1[i])\n",
    "#print(\"２つ目\")\n",
    "tx2=np.zeros(864)\n",
    "for i in sel:\n",
    "    tx2[i]=bb2[i]\n",
    "    #print(tx2[i])\n",
    "\n",
    "plt.figure(figsize=(144,24))\n",
    "plt.subplot(1,4,1)\n",
    "d1=tx1.reshape(24,36).T\n",
    "#sns.heatmap(d,vmin=0, vmax=1)\n",
    "sns.heatmap(d1)\n",
    "plt.subplot(1,4,2)\n",
    "d2=tx2.reshape(24,36).T\n",
    "#sns.heatmap(d,vmin=0, vmax=1)\n",
    "sns.heatmap(d2)\n",
    "plt.subplot(1,4,3)\n",
    "d3=(tx1-tx2).reshape(24,36).T\n",
    "sns.heatmap(d3,cmap=\"RdBu_r\",center=0)\n",
    "plt.subplot(1,4,4)\n",
    "d4=(tx2-tx1).reshape(24,36).T\n",
    "sns.heatmap(d4,vmin=0,cmap=\"RdBu_r\",center=0)\n",
    "#sns.heatmap(d3)\n"
   ]
  },
  {
   "cell_type": "code",
   "execution_count": null,
   "metadata": {},
   "outputs": [],
   "source": [
    "#元のデータ（正規化なし）\n",
    "#print(\"tensor\")\n",
    "#t=input()\n",
    "print(\"測定値コンポーネント\")\n",
    "q2=int(input())\n",
    "if t==\"0\":\n",
    "    t1=tensor_0[:,:,q2]\n",
    "    t2=tensor_1[:,:,q2]\n",
    "elif t==\"1\":\n",
    "    t1=ttensor_0[:,:,q2]\n",
    "    t2=ttensor_2[:,:,q2]\n",
    "elif t==\"2\":\n",
    "    t1=ttensor_0[:,:,q2]\n",
    "    t2=ttensor_all[:,:,q2]\n",
    "elif t==\"3\":\n",
    "    t1=ttensor_1[:,:,q2]\n",
    "    t2=ttensor_2[:,:,q2]\n",
    "elif t==\"4\":\n",
    "    t1=ttensor_1[:,:,q2]\n",
    "    t2=ttensor_all[:,:,q2]\n",
    "elif t==\"5\":\n",
    "    t1=ttensor_2[:,:,q2]\n",
    "    t2=ttensor_all[:,:,q2]\n",
    "    \n",
    "\n",
    "#print(\"space\")\n",
    "#sel=list(map(int, input().split(\",\")))\n",
    "\n",
    "#print(\"time\")\n",
    "#tim=list(map(int, input().split(\",\")))\n",
    "\n",
    "\n",
    "#print(\"一つ目\")\n",
    "tx1=np.zeros(864)\n",
    "cnt=0\n",
    "for i in sel:\n",
    "    cnt=0\n",
    "    for j in time:\n",
    "        cnt=cnt+1\n",
    "        tx1[i]=tx1[i]+t1[j,i]\n",
    "    tx1[i]=tx1[i]/cnt\n",
    "\n",
    "#print(\"２つ目\")\n",
    "tx2=np.zeros(864)\n",
    "cnt=0\n",
    "for i in sel:\n",
    "    cnt=0\n",
    "    for j in time:\n",
    "        cnt=cnt+1\n",
    "        tx2[i]=tx2[i]+t2[j,i]\n",
    "    tx2[i]=tx2[i]/cnt\n",
    "    #print(tx2[i])\n",
    "\n",
    "mask = np.zeros((24,36)).T\n",
    "mask[np.where(d1==0)] = True\n",
    "\n",
    "plt.figure(figsize=(24*2,36*2))\n",
    "plt.subplot(2,2,1)\n",
    "d1=tx1.reshape(24,36).T\n",
    "#sns.heatmap(d,vmin=0, vmax=1)\n",
    "mask = np.zeros((24,36)).T\n",
    "mask[np.where(d1==0)] = True\n",
    "sns.heatmap(d1,mask=mask)\n",
    "plt.subplot(2,2,2)\n",
    "d2=tx2.reshape(24,36).T\n",
    "#sns.heatmap(d,vmin=0, vmax=1)\n",
    "mask = np.zeros((24,36)).T\n",
    "mask[np.where(d2==0)] = True\n",
    "sns.heatmap(d2,mask=mask)\n",
    "plt.subplot(2,2,3)\n",
    "d3=(tx1-tx2).reshape(24,36).T\n",
    "mask = np.zeros((24,36)).T\n",
    "mask[np.where(d2==0)] = True\n",
    "sns.heatmap(d3,mask=mask,cmap=\"RdBu_r\",center=0,linewidths=2,linecolor='black',xticklabels=False,yticklabels=False)\n",
    "#sns.heatmap(d3)\n",
    "plt.subplot(2,2,4)\n",
    "d4=(tx2-tx1).reshape(24,36).T\n",
    "mask = np.zeros((24,36)).T\n",
    "mask[np.where(d2==0)] = True\n",
    "sns.heatmap(d4,mask=mask,cmap=\"RdBu_r\",center=0)"
   ]
  },
  {
   "cell_type": "code",
   "execution_count": null,
   "metadata": {},
   "outputs": [],
   "source": [
    "#テンソル元データの探索1\n",
    "\n",
    "\n",
    "print(\"tensor\")\n",
    "t=\"1\"\n",
    "if t==\"0\":\n",
    "    t1=ttensor_0\n",
    "    t2=ttensor_1\n",
    "elif t==\"1\":\n",
    "    t1=ttensor_0\n",
    "    t2=ttensor_2\n",
    "elif t==\"2\":\n",
    "    t1=ttensor_0\n",
    "    t2=ttensor_all\n",
    "elif t==\"3\":\n",
    "    t1=ttensor_1\n",
    "    t2=ttensor_2\n",
    "elif t==\"4\":\n",
    "    t1=ttensor_1\n",
    "    t2=ttensor_all\n",
    "elif t==\"5\":\n",
    "    t1=ttensor_2\n",
    "    t2=ttensor_all\n",
    "\n",
    "height1=[]\n",
    "height2=[]\n",
    "height3=[]\n",
    "height4=[]\n",
    "\"\"\"\n",
    "print(\"time\")\n",
    "\n",
    "time=list(map(int, input().split(\",\")))\n",
    "left=range(len(time))\n",
    "\n",
    "print(\"space\")\n",
    "sel=list(map(int, input().split(\",\")))\n",
    "\n",
    "\"\"\"\n",
    "    \n",
    "height1=[]\n",
    "height2=[]\n",
    "height3=[]\n",
    "height4=[]\n",
    "\n",
    "\n",
    "plt.figure(figsize=(2*10,2*10))\n",
    "plt.subplot(2,1,1)\n",
    "cnt=0\n",
    "for pt in sel:\n",
    "    height1=[]\n",
    "    height2=[]\n",
    "    height3=[]\n",
    "    height4=[]\n",
    "    cnt=cnt+1\n",
    "    for tt in time:\n",
    "        height1.append(t1[tt,int(pt),0])\n",
    "        height2.append(t1[tt,int(pt),1])\n",
    "        height3.append(t1[tt,int(pt),2])\n",
    "        height4.append(t1[tt,int(pt),3])\n",
    "        \n",
    "    p1 = plt.scatter(left, height1, color=\"b\")\n",
    "    p2 = plt.scatter(left, height2, color=\"g\")\n",
    "    p3 = plt.scatter(left, height3, color=\"r\")\n",
    "    p4 = plt.scatter(left, height4, color=\"y\")\n",
    "\n",
    "    \n",
    "height1=[]\n",
    "height2=[]\n",
    "height3=[]\n",
    "height4=[]\n",
    "\n",
    "plt.figure(figsize=(2*10,2*10))\n",
    "plt.subplot(2,1,1)\n",
    "cnt=0\n",
    "for pt in sel:\n",
    "    height1=[]\n",
    "    height2=[]\n",
    "    height3=[]\n",
    "    height4=[]\n",
    "    cnt=cnt+1\n",
    "    for tt in time:\n",
    "        height1.append(t2[tt,int(pt),0])\n",
    "        height2.append(t2[tt,int(pt),1])\n",
    "        height3.append(t2[tt,int(pt),2])\n",
    "        height4.append(t2[tt,int(pt),3])\n",
    "        \n",
    "    p1 = plt.scatter(left, height1, color=\"b\")\n",
    "    p2 = plt.scatter(left, height2, color=\"g\")\n",
    "    p3 = plt.scatter(left, height3, color=\"r\")\n",
    "    p4 = plt.scatter(left, height4, color=\"y\")"
   ]
  },
  {
   "cell_type": "code",
   "execution_count": null,
   "metadata": {},
   "outputs": [],
   "source": [
    "#元データの探索\n",
    "#print(\"因子数\")\n",
    "#q=input()\n",
    "#print(\"tensor\")\n",
    "#t=input()\n",
    "if t==\"0\":\n",
    "    bb1=b0[1][:,int(q)]\n",
    "    bb2=b1[1][:,int(q)]    \n",
    "elif t==\"1\":\n",
    "    bb1=b0[1][:,int(q)]\n",
    "    bb2=b2[1][:,int(q)]\n",
    "elif t==\"2\":\n",
    "    bb1=b0[1][:,int(q)]\n",
    "    bb2=b3[1][:,int(q)]\n",
    "elif t==\"3\":\n",
    "    bb1=b1[1][:,int(q)]\n",
    "    bb2=b2[1][:,int(q)]\n",
    "elif t==\"4\":\n",
    "    bb1=b1[1][:,int(q)]\n",
    "    bb2=b3[1][:,int(q)]\n",
    "elif t==\"5\":\n",
    "    bb1=b2[1][:,int(q)]\n",
    "    bb2=b3[1][:,int(q)]\n",
    "    \n",
    "    \n",
    "\"\"\"\n",
    "print(\"因子数\")\n",
    "q=input()\n",
    "print(\"tensor\")\n",
    "t=input()\n",
    "if t==\"0\":\n",
    "    bb2=b0[1][:,int(q)]\n",
    "elif t==\"1\":\n",
    "\n",
    "elif t==\"2\":\n",
    "    bb2=b2[1][:,int(q)]\n",
    "elif t==\"3\":\n",
    "    bb2=b3[1][:,int(q)]\n",
    "\"\"\"\n",
    "\n",
    "\n",
    "#print(\"space\")\n",
    "#sel=list(map(int, input().split(\",\")))\n",
    "\n",
    "#print(\"一つ目\")\n",
    "tx1=np.zeros(864)\n",
    "for i in sel:\n",
    "    tx1[i]=bb1[i]\n",
    "    #print(tx1[i])\n",
    "#print(\"２つ目\")\n",
    "tx2=np.zeros(864)\n",
    "for i in sel:\n",
    "    tx2[i]=bb2[i]\n",
    "    #print(tx2[i])\n",
    "\n",
    "plt.figure(figsize=(108,24))\n",
    "plt.subplot(1,3,1)\n",
    "d1=tx1.T.reshape(36,24).T\n",
    "#sns.heatmap(d,vmin=0, vmax=1)\n",
    "sns.heatmap(d1)\n",
    "plt.subplot(1,3,2)\n",
    "d2=tx2.T.reshape(36,24).T\n",
    "#sns.heatmap(d,vmin=0, vmax=1)\n",
    "sns.heatmap(d2)\n",
    "plt.subplot(1,3,3)\n",
    "d3=(tx1-tx2).T.reshape(36,24).T\n",
    "sns.heatmap(d3,vmin=0)\n",
    "#sns.heatmap(d3)\n"
   ]
  },
  {
   "cell_type": "code",
   "execution_count": null,
   "metadata": {},
   "outputs": [],
   "source": [
    "#元のデータ（正規化なし）\n",
    "#print(\"tensor\")\n",
    "#t=input()\n",
    "#print(\"測定値コンポーネント\")\n",
    "#q2=int(input())\n",
    "if t==\"0\":\n",
    "    t1=ttensor_0[:,:,q2]\n",
    "    t2=ttensor_1[:,:,q2]\n",
    "elif t==\"1\":\n",
    "    t1=ttensor_0[:,:,q2]\n",
    "    t2=ttensor_2[:,:,q2]\n",
    "elif t==\"2\":\n",
    "    t1=ttensor_0[:,:,q2]\n",
    "    t2=ttensor_all[:,:,q2]\n",
    "elif t==\"3\":\n",
    "    t1=ttensor_1[:,:,q2]\n",
    "    t2=ttensor_2[:,:,q2]\n",
    "elif t==\"4\":\n",
    "    t1=ttensor_1[:,:,q2]\n",
    "    t2=ttensor_all[:,:,q2]\n",
    "elif t==\"5\":\n",
    "    t1=ttensor_2[:,:,q2]\n",
    "    t2=ttensor_all[:,:,q2]\n",
    "    \n",
    "\n",
    "#print(\"space\")\n",
    "#sel=list(map(int, input().split(\",\")))\n",
    "\n",
    "#print(\"time\")\n",
    "#tim=list(map(int, input().split(\",\")))\n",
    "\n",
    "\n",
    "#print(\"一つ目\")\n",
    "tx1=np.zeros(864)\n",
    "cnt=0\n",
    "for i in sel:\n",
    "    cnt=0\n",
    "    for j in time:\n",
    "        cnt=cnt+1\n",
    "        tx1[i]=tx1[i]+t1[j,i]\n",
    "    tx1[i]=tx1[i]/cnt\n",
    "\n",
    "#print(\"２つ目\")\n",
    "tx2=np.zeros(864)\n",
    "cnt=0\n",
    "for i in sel:\n",
    "    cnt=0\n",
    "    for j in time:\n",
    "        cnt=cnt+1\n",
    "        tx2[i]=tx2[i]+t2[j,i]\n",
    "    tx2[i]=tx2[i]/cnt\n",
    "    #print(tx2[i])\n",
    "\n",
    "mask = np.zeros((24,36))\n",
    "mask[np.where(d1==0)] = True\n",
    "\n",
    "plt.figure(figsize=(108,24))\n",
    "plt.subplot(1,3,1)\n",
    "d1=tx1.T.reshape(36,24).T\n",
    "#sns.heatmap(d,vmin=0, vmax=1)\n",
    "mask = np.zeros((24,36))\n",
    "mask[np.where(d1==0)] = True\n",
    "sns.heatmap(d1,mask=mask,linewidths=0.1,linecolor='black')\n",
    "plt.subplot(1,3,2)\n",
    "d2=tx2.T.reshape(36,24).T\n",
    "#sns.heatmap(d,vmin=0, vmax=1)\n",
    "mask = np.zeros((24,36))\n",
    "mask[np.where(d2==0)] = True\n",
    "sns.heatmap(d2,mask=mask,linewidths=0.1,linecolor='black')\n",
    "plt.subplot(1,3,3)\n",
    "d3=(tx1-tx2).T.reshape(36,24).T\n",
    "mask = np.zeros((24,36))\n",
    "mask[np.where(d2==0)] = True\n",
    "sns.heatmap(d3,mask=mask,linewidths=0.1,linecolor='black',vmin=0)\n",
    "#sns.heatmap(d3)\n"
   ]
  },
  {
   "cell_type": "code",
   "execution_count": null,
   "metadata": {},
   "outputs": [],
   "source": [
    "#テンソル元データの探索1\n",
    "\n",
    "\n",
    "print(\"tensor\")\n",
    "t=\"2\"\n",
    "if t==\"0\":\n",
    "    t1=ttensor_0\n",
    "    t2=ttensor_1\n",
    "elif t==\"1\":\n",
    "    t1=ttensor_0\n",
    "    t2=ttensor_2\n",
    "elif t==\"2\":\n",
    "    t1=ttensor_0\n",
    "    t2=ttensor_all\n",
    "elif t==\"3\":\n",
    "    t1=ttensor_1\n",
    "    t2=ttensor_2\n",
    "elif t==\"4\":\n",
    "    t1=ttensor_1\n",
    "    t2=ttensor_all\n",
    "elif t==\"5\":\n",
    "    t1=ttensor_2\n",
    "    t2=ttensor_all\n",
    "\n",
    "height1=[]\n",
    "height2=[]\n",
    "height3=[]\n",
    "height4=[]\n",
    "\"\"\"\n",
    "print(\"time\")\n",
    "\n",
    "time=list(map(int, input().split(\",\")))\n",
    "left=range(len(time))\n",
    "\n",
    "print(\"space\")\n",
    "sel=list(map(int, input().split(\",\")))\n",
    "\n",
    "\"\"\"\n",
    "    \n",
    "height1=[]\n",
    "height2=[]\n",
    "height3=[]\n",
    "height4=[]\n",
    "\n",
    "\n",
    "plt.figure(figsize=(2*10,2*10))\n",
    "plt.subplot(2,1,1)\n",
    "cnt=0\n",
    "for pt in sel:\n",
    "    height1=[]\n",
    "    height2=[]\n",
    "    height3=[]\n",
    "    height4=[]\n",
    "    cnt=cnt+1\n",
    "    for tt in time:\n",
    "        height1.append(t1[tt,int(pt),0])\n",
    "        height2.append(t1[tt,int(pt),1])\n",
    "        height3.append(t1[tt,int(pt),2])\n",
    "        height4.append(t1[tt,int(pt),3])\n",
    "        \n",
    "    p1 = plt.scatter(left, height1, color=\"b\")\n",
    "    p2 = plt.scatter(left, height2, color=\"g\")\n",
    "    p3 = plt.scatter(left, height3, color=\"r\")\n",
    "    p4 = plt.scatter(left, height4, color=\"y\")\n",
    "    \n",
    "    \n",
    "    \n",
    "height1=[]\n",
    "height2=[]\n",
    "height3=[]\n",
    "height4=[]\n",
    "\n",
    "plt.figure(figsize=(2*10,2*10))\n",
    "plt.subplot(2,1,1)\n",
    "cnt=0\n",
    "for pt in sel:\n",
    "    height1=[]\n",
    "    height2=[]\n",
    "    height3=[]\n",
    "    height4=[]\n",
    "    cnt=cnt+1\n",
    "    for tt in time:\n",
    "        height1.append(t2[tt,int(pt),0])\n",
    "        height2.append(t2[tt,int(pt),1])\n",
    "        height3.append(t2[tt,int(pt),2])\n",
    "        height4.append(t2[tt,int(pt),3])\n",
    "        \n",
    "    p1 = plt.scatter(left, height1, color=\"b\")\n",
    "    p2 = plt.scatter(left, height2, color=\"g\")\n",
    "    p3 = plt.scatter(left, height3, color=\"r\")\n",
    "    p4 = plt.scatter(left, height4, color=\"y\")\n",
    "    "
   ]
  },
  {
   "cell_type": "code",
   "execution_count": null,
   "metadata": {},
   "outputs": [],
   "source": [
    "#元データの探索\n",
    "#print(\"因子数\")\n",
    "#q=input()\n",
    "#print(\"tensor\")\n",
    "#t=input()\n",
    "if t==\"0\":\n",
    "    bb1=b0[1][:,int(q)]\n",
    "    bb2=b1[1][:,int(q)]    \n",
    "elif t==\"1\":\n",
    "    bb1=b0[1][:,int(q)]\n",
    "    bb2=b2[1][:,int(q)]\n",
    "elif t==\"2\":\n",
    "    bb1=b0[1][:,int(q)]\n",
    "    bb2=b3[1][:,int(q)]\n",
    "elif t==\"3\":\n",
    "    bb1=b1[1][:,int(q)]\n",
    "    bb2=b2[1][:,int(q)]\n",
    "elif t==\"4\":\n",
    "    bb1=b1[1][:,int(q)]\n",
    "    bb2=b3[1][:,int(q)]\n",
    "elif t==\"5\":\n",
    "    bb1=b2[1][:,int(q)]\n",
    "    bb2=b3[1][:,int(q)]\n",
    "    \n",
    "    \n",
    "\"\"\"\n",
    "print(\"因子数\")\n",
    "q=input()\n",
    "print(\"tensor\")\n",
    "t=input()\n",
    "if t==\"0\":\n",
    "    bb2=b0[1][:,int(q)]\n",
    "elif t==\"1\":\n",
    "\n",
    "elif t==\"2\":\n",
    "    bb2=b2[1][:,int(q)]\n",
    "elif t==\"3\":\n",
    "    bb2=b3[1][:,int(q)]\n",
    "\"\"\"\n",
    "\n",
    "\n",
    "#print(\"space\")\n",
    "#sel=list(map(int, input().split(\",\")))\n",
    "\n",
    "#print(\"一つ目\")\n",
    "tx1=np.zeros(864)\n",
    "for i in sel:\n",
    "    tx1[i]=bb1[i]\n",
    "    #print(tx1[i])\n",
    "#print(\"２つ目\")\n",
    "tx2=np.zeros(864)\n",
    "for i in sel:\n",
    "    tx2[i]=bb2[i]\n",
    "    #print(tx2[i])\n",
    "\n",
    "plt.figure(figsize=(108,24))\n",
    "plt.subplot(1,3,1)\n",
    "d1=tx1.T.reshape(36,24).T\n",
    "#sns.heatmap(d,vmin=0, vmax=1)\n",
    "sns.heatmap(d1)\n",
    "plt.subplot(1,3,2)\n",
    "d2=tx2.T.reshape(36,24).T\n",
    "#sns.heatmap(d,vmin=0, vmax=1)\n",
    "sns.heatmap(d2)\n",
    "plt.subplot(1,3,3)\n",
    "d3=(tx1-tx2).T.reshape(36,24).T\n",
    "sns.heatmap(d3,vmin=0)\n",
    "#sns.heatmap(d3)\n"
   ]
  },
  {
   "cell_type": "code",
   "execution_count": null,
   "metadata": {},
   "outputs": [],
   "source": [
    "#元のデータ（正規化なし）\n",
    "#print(\"tensor\")\n",
    "#t=input()\n",
    "#print(\"測定値コンポーネント\")\n",
    "#q2=int(input())\n",
    "if t==\"0\":\n",
    "    t1=ttensor_0[:,:,q2]\n",
    "    t2=ttensor_1[:,:,q2]\n",
    "elif t==\"1\":\n",
    "    t1=ttensor_0[:,:,q2]\n",
    "    t2=ttensor_2[:,:,q2]\n",
    "elif t==\"2\":\n",
    "    t1=ttensor_0[:,:,q2]\n",
    "    t2=ttensor_all[:,:,q2]\n",
    "elif t==\"3\":\n",
    "    t1=ttensor_1[:,:,q2]\n",
    "    t2=ttensor_2[:,:,q2]\n",
    "elif t==\"4\":\n",
    "    t1=ttensor_1[:,:,q2]\n",
    "    t2=ttensor_all[:,:,q2]\n",
    "elif t==\"5\":\n",
    "    t1=ttensor_2[:,:,q2]\n",
    "    t2=ttensor_all[:,:,q2]\n",
    "    \n",
    "\n",
    "#print(\"space\")\n",
    "#sel=list(map(int, input().split(\",\")))\n",
    "\n",
    "#print(\"time\")\n",
    "#tim=list(map(int, input().split(\",\")))\n",
    "\n",
    "\n",
    "#print(\"一つ目\")\n",
    "tx1=np.zeros(864)\n",
    "cnt=0\n",
    "for i in sel:\n",
    "    cnt=0\n",
    "    for j in time:\n",
    "        cnt=cnt+1\n",
    "        tx1[i]=tx1[i]+t1[j,i]\n",
    "    tx1[i]=tx1[i]/cnt\n",
    "\n",
    "#print(\"２つ目\")\n",
    "tx2=np.zeros(864)\n",
    "cnt=0\n",
    "for i in sel:\n",
    "    cnt=0\n",
    "    for j in time:\n",
    "        cnt=cnt+1\n",
    "        tx2[i]=tx2[i]+t2[j,i]\n",
    "    tx2[i]=tx2[i]/cnt\n",
    "    #print(tx2[i])\n",
    "\n",
    "mask = np.zeros((24,36))\n",
    "mask[np.where(d1==0)] = True\n",
    "\n",
    "plt.figure(figsize=(108,24))\n",
    "plt.subplot(1,3,1)\n",
    "d1=tx1.T.reshape(36,24).T\n",
    "#sns.heatmap(d,vmin=0, vmax=1)\n",
    "mask = np.zeros((24,36))\n",
    "mask[np.where(d1==0)] = True\n",
    "sns.heatmap(d1,mask=mask,linewidths=0.1,linecolor='black')\n",
    "plt.subplot(1,3,2)\n",
    "d2=tx2.T.reshape(36,24).T\n",
    "#sns.heatmap(d,vmin=0, vmax=1)\n",
    "mask = np.zeros((24,36))\n",
    "mask[np.where(d2==0)] = True\n",
    "sns.heatmap(d2,mask=mask,linewidths=0.1,linecolor='black')\n",
    "plt.subplot(1,3,3)\n",
    "d3=(tx1-tx2).T.reshape(36,24).T\n",
    "mask = np.zeros((24,36))\n",
    "mask[np.where(d2==0)] = True\n",
    "sns.heatmap(d3,mask=mask,linewidths=0.1,linecolor='black',vmin=0)\n",
    "#sns.heatmap(d3)\n"
   ]
  },
  {
   "cell_type": "markdown",
   "metadata": {},
   "source": [
    "違う問題が出てきた。比較として成り立っていないかもしれない\n",
    "比較として成り立たせるためには、空間軸で比べるには、測定値の軸の特徴行列の値を合わせる必要がある気がする。\n",
    "測定値軸の値を合わせないと、測定値でどこが大事かで、結構値が変わるかもしれん\n",
    "→そのためのbokehプロットで値を合わせに行き比較することができる。"
   ]
  },
  {
   "cell_type": "code",
   "execution_count": null,
   "metadata": {},
   "outputs": [],
   "source": [
    "print(ttensor_0[:,:,1])"
   ]
  },
  {
   "cell_type": "code",
   "execution_count": null,
   "metadata": {},
   "outputs": [],
   "source": [
    "#元のデータ（正規化なし）\n",
    "print(\"tensor\")\n",
    "t=input()\n",
    "print(\"因子数\")\n",
    "q=int(input())\n",
    "if t==\"0\":\n",
    "    t1=ttensor_0[:,:,q]\n",
    "    t2=ttensor_1[:,:,q]\n",
    "elif t==\"1\":\n",
    "    t1=ttensor_0[:,:,q]\n",
    "    t2=ttensor_2[:,:,q]\n",
    "elif t==\"2\":\n",
    "    t1=ttensor_0[:,:,q]\n",
    "    t2=ttensor_all[:,:,q]\n",
    "elif t==\"3\":\n",
    "    t1=ttensor_1[:,:,q]\n",
    "    t2=ttensor_2[:,:,q]\n",
    "elif t==\"4\":\n",
    "    t1=ttensor_1[:,:,q]\n",
    "    t2=ttensor_all[:,:,q]\n",
    "elif t==\"5\":\n",
    "    t1=ttensor_2[:,:,q]\n",
    "    t2=ttensor_all[:,:,q]\n",
    "    \n",
    "\n",
    "print(\"space\")\n",
    "sel=list(map(int, input().split(\",\")))\n",
    "\n",
    "print(\"time\")\n",
    "tim=list(map(int, input().split(\",\")))\n",
    "\n",
    "\n",
    "#print(\"一つ目\")\n",
    "tx1=np.zeros(864)\n",
    "cnt=0\n",
    "for i in sel:\n",
    "    cnt=0\n",
    "    for j in tim:\n",
    "        cnt=cnt+1\n",
    "        tx1[i]=tx1[i]+t1[j,i]\n",
    "    tx1[i]=tx1[i]/cnt\n",
    "\n",
    "#print(\"２つ目\")\n",
    "tx2=np.zeros(864)\n",
    "cnt=0\n",
    "for i in sel:\n",
    "    cnt=0\n",
    "    for j in tim:\n",
    "        cnt=cnt+1\n",
    "        tx2[i]=tx2[i]+t2[j,i]\n",
    "    tx2[i]=tx2[i]/cnt\n",
    "    #print(tx2[i])\n",
    "\n",
    "mask = np.zeros((24,36))\n",
    "mask[np.where(d1==0)] = True\n",
    "\n",
    "plt.figure(figsize=(108,24))\n",
    "plt.subplot(1,3,1)\n",
    "d1=tx1.T.reshape(36,24).T\n",
    "#sns.heatmap(d,vmin=0, vmax=1)\n",
    "mask = np.zeros((24,36))\n",
    "mask[np.where(d1==0)] = True\n",
    "sns.heatmap(d1,mask=mask,linewidths=0.1,linecolor='black')\n",
    "plt.subplot(1,3,2)\n",
    "d2=tx2.T.reshape(36,24).T\n",
    "#sns.heatmap(d,vmin=0, vmax=1)\n",
    "mask = np.zeros((24,36))\n",
    "mask[np.where(d2==0)] = True\n",
    "sns.heatmap(d2,mask=mask,linewidths=0.1,linecolor='black')\n",
    "plt.subplot(1,3,3)\n",
    "d3=(tx1-tx2).T.reshape(36,24).T\n",
    "mask = np.zeros((24,36))\n",
    "mask[np.where(d2==0)] = True\n",
    "sns.heatmap(d3,mask=mask,linewidths=0.1,linecolor='black')\n",
    "#sns.heatmap(d3)\n"
   ]
  },
  {
   "cell_type": "code",
   "execution_count": null,
   "metadata": {},
   "outputs": [],
   "source": [
    "#元のデータ（正規化あり）\n",
    "print(\"tensor組み合わせ\")\n",
    "t=input()\n",
    "print(\"因子数\")\n",
    "q=int(input())\n",
    "if t==\"0\":\n",
    "    t1=tensor_0[:,:,q]\n",
    "    t2=tensor_1[:,:,q]\n",
    "elif t==\"1\":\n",
    "    t1=tensor_0[:,:,q]\n",
    "    t2=tensor_2[:,:,q]\n",
    "elif t==\"2\":\n",
    "    t1=tensor_0[:,:,q]\n",
    "    t2=tensor_all[:,:,q]\n",
    "elif t==\"3\":\n",
    "    t1=tensor_1[:,:,q]\n",
    "    t2=tensor_2[:,:,q]\n",
    "elif t==\"4\":\n",
    "    t1=tensor_1[:,:,q]\n",
    "    t2=tensor_all[:,:,q]\n",
    "elif t==\"5\":\n",
    "    t1=tensor_2[:,:,q]\n",
    "    t2=tensor_all[:,:,q]\n",
    "    \n",
    "\n",
    "print(\"space\")\n",
    "sel=list(map(int, input().split(\",\")))\n",
    "\n",
    "print(\"time\")\n",
    "tim=list(map(int, input().split(\",\")))\n",
    "\n",
    "\n",
    "#print(\"一つ目\")\n",
    "tx1=np.zeros(864)\n",
    "cnt=0\n",
    "for i in sel:\n",
    "    cnt=0\n",
    "    for j in tim:\n",
    "        cnt=cnt+1\n",
    "        tx1[i]=tx1[i]+t1[j,i]\n",
    "    tx1[i]=tx1[i]/cnt\n",
    "\n",
    "#print(\"２つ目\")\n",
    "tx2=np.zeros(864)\n",
    "cnt=0\n",
    "for i in sel:\n",
    "    cnt=0\n",
    "    for j in tim:\n",
    "        cnt=cnt+1\n",
    "        tx2[i]=tx2[i]+t2[j,i]\n",
    "    tx2[i]=tx2[i]/cnt\n",
    "    #print(tx2[i])\n",
    "\n",
    "mask = np.zeros((24,36))\n",
    "mask[np.where(d1==0)] = True\n",
    "\n",
    "plt.figure(figsize=(108,24))\n",
    "plt.subplot(1,3,1)\n",
    "d1=tx1.T.reshape(36,24).T\n",
    "#sns.heatmap(d,vmin=0, vmax=1)\n",
    "mask = np.zeros((24,36))\n",
    "mask[np.where(d1==0)] = True\n",
    "sns.heatmap(d1,mask=mask,linewidths=0.1,linecolor='black')\n",
    "plt.subplot(1,3,2)\n",
    "d2=tx2.T.reshape(36,24).T\n",
    "#sns.heatmap(d,vmin=0, vmax=1)\n",
    "mask = np.zeros((24,36))\n",
    "mask[np.where(d2==0)] = True\n",
    "sns.heatmap(d2,mask=mask,linewidths=0.1,linecolor='black')\n",
    "plt.subplot(1,3,3)\n",
    "d3=(tx1-tx2).T.reshape(36,24).T\n",
    "mask = np.zeros((24,36))\n",
    "mask[np.where(d2==0)] = True\n",
    "sns.heatmap(d3,mask=mask,linewidths=0.1,linecolor='black')\n",
    "#sns.heatmap(d3)\n"
   ]
  },
  {
   "cell_type": "code",
   "execution_count": null,
   "metadata": {
    "colab": {
     "base_uri": "https://localhost:8080/",
     "height": 87
    },
    "executionInfo": {
     "elapsed": 40,
     "status": "ok",
     "timestamp": 1672373964443,
     "user": {
      "displayName": "学生1935084t",
      "userId": "12227631716568337195"
     },
     "user_tz": -540
    },
    "id": "fZnYJJ_KC9yP",
    "outputId": "33587dc0-8436-4e13-ff95-ef93816ca793"
   },
   "outputs": [],
   "source": [
    "\"\"\"\n",
    "cnt=0\n",
    "plt.figure(figsize=(2*10,2*10))\n",
    "for pt in range(859,863):\n",
    "  cnt=cnt+1\n",
    "  plt.subplot(2,2,cnt)\n",
    "  left=t0[:,pt,0]\n",
    "  height=t0[:,pt,1]\n",
    "  p1 = plt.scatter(left, height, linewidth=2)\n",
    "  left=t1[:,pt,0]\n",
    "  height=t1[:,pt,1]\n",
    "  p2 = plt.scatter(left, height, linewidth=2)\n",
    "  \"\"\""
   ]
  },
  {
   "cell_type": "code",
   "execution_count": null,
   "metadata": {
    "colab": {
     "base_uri": "https://localhost:8080/",
     "height": 87
    },
    "executionInfo": {
     "elapsed": 38,
     "status": "ok",
     "timestamp": 1672373965090,
     "user": {
      "displayName": "学生1935084t",
      "userId": "12227631716568337195"
     },
     "user_tz": -540
    },
    "id": "NyHf32a4D34A",
    "outputId": "5cb267df-cd06-4da9-eeff-2392954283f0"
   },
   "outputs": [],
   "source": [
    "\"\"\"\n",
    "cnt=0\n",
    "plt.figure(figsize=(2*10,2*10))\n",
    "for pt in range(0,4):\n",
    "  cnt=cnt+1\n",
    "  plt.subplot(2,2,cnt)\n",
    "  left=t0[:,pt,2]\n",
    "  height=t0[:,pt,1]\n",
    "  p1 = plt.scatter(left, height, linewidth=2)\n",
    "  left=t1[:,pt,2]\n",
    "  height=t1[:,pt,1]\n",
    "  p2 = plt.scatter(left, height, linewidth=2)\n",
    "  \"\"\""
   ]
  },
  {
   "cell_type": "code",
   "execution_count": null,
   "metadata": {
    "colab": {
     "base_uri": "https://localhost:8080/",
     "height": 87
    },
    "executionInfo": {
     "elapsed": 37,
     "status": "ok",
     "timestamp": 1672373965090,
     "user": {
      "displayName": "学生1935084t",
      "userId": "12227631716568337195"
     },
     "user_tz": -540
    },
    "id": "3pcFGWl4D4a_",
    "outputId": "7fcd0797-bbaa-46d9-e622-f4d470f1580d"
   },
   "outputs": [],
   "source": [
    "\"\"\"\n",
    "cnt=0\n",
    "plt.figure(figsize=(2*10,2*10))\n",
    "for pt in range(859,863):\n",
    "  cnt=cnt+1\n",
    "  plt.subplot(2,2,cnt)\n",
    "  left=t0[:,pt,0]\n",
    "  height=t0[:,pt,3]\n",
    "  p1 = plt.scatter(left, height, linewidth=2)\n",
    "  left=t1[:,pt,0]\n",
    "  height=t1[:,pt,3]\n",
    "  p2 = plt.scatter(left, height, linewidth=2)\n",
    "  \"\"\""
   ]
  },
  {
   "cell_type": "code",
   "execution_count": null,
   "metadata": {
    "colab": {
     "base_uri": "https://localhost:8080/",
     "height": 87
    },
    "executionInfo": {
     "elapsed": 37,
     "status": "ok",
     "timestamp": 1672373965091,
     "user": {
      "displayName": "学生1935084t",
      "userId": "12227631716568337195"
     },
     "user_tz": -540
    },
    "id": "-o8MbWDPEU2L",
    "outputId": "ce6efa1d-c25d-43b0-860d-974b4b208c2b"
   },
   "outputs": [],
   "source": [
    "\"\"\"\n",
    "cnt=0\n",
    "plt.figure(figsize=(2*10,2*10))\n",
    "for pt in range(859,863):\n",
    "  cnt=cnt+1\n",
    "  plt.subplot(2,2,cnt)\n",
    "  left=t0[:,pt,0]\n",
    "  height=t0[:,pt,3]\n",
    "  p1 = plt.scatter(left, height, linewidth=2)\n",
    "  left=t1[:,pt,0]\n",
    "  height=t1[:,pt,3]\n",
    "  p2 = plt.scatter(left, height, linewidth=2)\n",
    "  \"\"\""
   ]
  },
  {
   "cell_type": "code",
   "execution_count": null,
   "metadata": {
    "colab": {
     "base_uri": "https://localhost:8080/",
     "height": 104
    },
    "executionInfo": {
     "elapsed": 37,
     "status": "ok",
     "timestamp": 1672373965092,
     "user": {
      "displayName": "学生1935084t",
      "userId": "12227631716568337195"
     },
     "user_tz": -540
    },
    "id": "qduD7rIaEpz2",
    "outputId": "3d5c6317-7c4b-4368-8599-d934b853b2df"
   },
   "outputs": [],
   "source": [
    "\"\"\"\n",
    "cnt=0\n",
    "plt.figure(figsize=(2*10,2*10))\n",
    "pt=863\n",
    "for n in range(0,4):\n",
    "  for m in range(0,4):\n",
    "    if n>=m: continue\n",
    "    cnt=cnt+1\n",
    "    plt.subplot(3,2,cnt)\n",
    "    left=t0[:,pt,n]\n",
    "    height=t0[:,pt,m]\n",
    "    plt.xlim(-3,3)\n",
    "    plt.ylim(-3,3)\n",
    "    p1 = plt.scatter(left, height, linewidth=2)\n",
    "    left=t1[:,pt,n]\n",
    "    height=t1[:,pt,m]\n",
    "    p2 = plt.scatter(left, height, linewidth=2)\n",
    "    plt.title(str(n)+str(m))\n",
    "\"\"\""
   ]
  },
  {
   "cell_type": "code",
   "execution_count": null,
   "metadata": {
    "colab": {
     "base_uri": "https://localhost:8080/",
     "height": 104
    },
    "executionInfo": {
     "elapsed": 35,
     "status": "ok",
     "timestamp": 1672373965092,
     "user": {
      "displayName": "学生1935084t",
      "userId": "12227631716568337195"
     },
     "user_tz": -540
    },
    "id": "Zcq6CeJqHL7A",
    "outputId": "5cb29999-aa13-49e7-934b-5940c6486f15"
   },
   "outputs": [],
   "source": [
    "\"\"\"\n",
    "cnt=0\n",
    "plt.figure(figsize=(2*10,2*10))\n",
    "pt=1\n",
    "for n in range(0,4):\n",
    "  for m in range(0,4):\n",
    "    if n>=m: continue\n",
    "    cnt=cnt+1\n",
    "    plt.subplot(3,2,cnt)\n",
    "    left=t0[:,pt,n]\n",
    "    height=t0[:,pt,m]\n",
    "    plt.xlim(-3,3)\n",
    "    plt.ylim(-3,3)\n",
    "    p1 = plt.scatter(left, height, linewidth=2)\n",
    "    left=t1[:,pt,n]\n",
    "    height=t1[:,pt,m]\n",
    "    p2 = plt.scatter(left, height, linewidth=2)\n",
    "    plt.title(str(n)+str(m))\n",
    "\"\"\""
   ]
  },
  {
   "cell_type": "code",
   "execution_count": null,
   "metadata": {
    "colab": {
     "base_uri": "https://localhost:8080/",
     "height": 87
    },
    "executionInfo": {
     "elapsed": 34,
     "status": "ok",
     "timestamp": 1672373965092,
     "user": {
      "displayName": "学生1935084t",
      "userId": "12227631716568337195"
     },
     "user_tz": -540
    },
    "id": "p0Db8lV-er9a",
    "outputId": "50109eb9-9b6d-45e5-c240-6931c2534c7d"
   },
   "outputs": [],
   "source": [
    "\"\"\"\n",
    "pt=863\n",
    "print(0)\n",
    "dist = np.linalg.norm(t1[:117,pt,0]-t0[:117,pt,0])\n",
    "print(dist)\n",
    "print(1)\n",
    "dist = np.linalg.norm(t1[:117,pt,1]-t0[:117,pt,1])\n",
    "print(dist)\n",
    "print(2)\n",
    "dist = np.linalg.norm(t1[:117,pt,2]-t0[:117,pt,2])\n",
    "print(dist)\n",
    "print(3)\n",
    "dist = np.linalg.norm(t1[:117,pt,3]-t0[:117,pt,3])\n",
    "print(dist)\n",
    "\"\"\""
   ]
  },
  {
   "cell_type": "code",
   "execution_count": null,
   "metadata": {
    "colab": {
     "base_uri": "https://localhost:8080/",
     "height": 87
    },
    "executionInfo": {
     "elapsed": 36,
     "status": "ok",
     "timestamp": 1672373965094,
     "user": {
      "displayName": "学生1935084t",
      "userId": "12227631716568337195"
     },
     "user_tz": -540
    },
    "id": "1TevP83si6Ql",
    "outputId": "6b9f207f-64cb-4f86-d9bc-0032e0d25f05"
   },
   "outputs": [],
   "source": [
    "\"\"\"\n",
    "pt=0\n",
    "print(0)\n",
    "dist = np.linalg.norm(t1[:117,pt,0]-t0[:117,pt,0])\n",
    "print(dist)\n",
    "print(1)\n",
    "dist = np.linalg.norm(t1[:117,pt,1]-t0[:117,pt,1])\n",
    "print(dist)\n",
    "print(2)\n",
    "dist = np.linalg.norm(t1[:117,pt,2]-t0[:117,pt,2])\n",
    "print(dist)\n",
    "print(3)\n",
    "dist = np.linalg.norm(t1[:117,pt,3]-t0[:117,pt,3])\n",
    "print(dist)\n",
    "\"\"\""
   ]
  },
  {
   "cell_type": "code",
   "execution_count": null,
   "metadata": {
    "colab": {
     "base_uri": "https://localhost:8080/",
     "height": 52
    },
    "executionInfo": {
     "elapsed": 35,
     "status": "ok",
     "timestamp": 1672373965095,
     "user": {
      "displayName": "学生1935084t",
      "userId": "12227631716568337195"
     },
     "user_tz": -540
    },
    "id": "Wso6MW8Em4E-",
    "outputId": "3e1a72e7-05af-40df-a32e-788f526e21ac"
   },
   "outputs": [],
   "source": [
    "\"\"\"\n",
    "for pt in range(864):\n",
    "  print(pt)\n",
    "  dist = np.linalg.norm(t1[:117,pt,:]-t0[:117,pt,:])\n",
    "  print(dist)\n",
    "\"\"\""
   ]
  },
  {
   "cell_type": "markdown",
   "metadata": {
    "id": "W0xaExijLsfb"
   },
   "source": [
    "違いが大きいほうが散らばりが大きいのが見てわかる、これを類似度図るからのその変数の組み合わせから何が原因となっているのか探る、テンソルコアの書き換え"
   ]
  },
  {
   "cell_type": "markdown",
   "metadata": {
    "id": "YjJG7hoRckx8"
   },
   "source": [
    "再度12のところでグループ分けするのもありかも"
   ]
  },
  {
   "cell_type": "markdown",
   "metadata": {
    "id": "3ZpW2dXjcr9E"
   },
   "source": [
    "今はラックだけの要素を用いて比較しているが、他の要素を使うべきやと思う"
   ]
  },
  {
   "cell_type": "code",
   "execution_count": null,
   "metadata": {
    "colab": {
     "base_uri": "https://localhost:8080/",
     "height": 191
    },
    "executionInfo": {
     "elapsed": 34,
     "status": "ok",
     "timestamp": 1672373965095,
     "user": {
      "displayName": "学生1935084t",
      "userId": "12227631716568337195"
     },
     "user_tz": -540
    },
    "id": "u8MSTcxqw2bU",
    "outputId": "b822766b-ce44-44ed-99dc-7ae70d6e4070"
   },
   "outputs": [],
   "source": [
    "\"\"\"\n",
    "pt=863\n",
    "plt.figure(figsize=(2*10,2*10))\n",
    "left=range(221)\n",
    "height1=t0[:,pt,0]\n",
    "height2=t0[:,pt,1]\n",
    "height3=t0[:,pt,2]\n",
    "height4=t0[:,pt,3]\n",
    "plt.subplot(1,2,1)\n",
    "p1 = plt.plot(left, height1, linewidth=2)\n",
    "p2 = plt.plot(left, height2, linewidth=2)\n",
    "p3 = plt.plot(left, height3, linewidth=2)\n",
    "p4 = plt.plot(left, height4, linewidth=2)\n",
    "plt.legend((p1[0], p2[0],p3[0], p4[0]), (\"Class 1\", \"Class 2\",\"Class 3\", \"Class 4\"), loc=4)\n",
    "left=range(117)\n",
    "height1=t1[:,pt,0]\n",
    "height2=t1[:,pt,1]\n",
    "height3=t1[:,pt,2]\n",
    "height4=t1[:,pt,3]\n",
    "plt.subplot(1,2,2)\n",
    "p1 = plt.plot(left, height1, linewidth=2)\n",
    "p2 = plt.plot(left, height2, linewidth=2)\n",
    "p3 = plt.plot(left, height3, linewidth=2)\n",
    "p4 = plt.plot(left, height4, linewidth=2)\n",
    "plt.legend((p1[0], p2[0],p3[0], p4[0]), (\"Class 1\", \"Class 2\",\"Class 3\", \"Class 4\"), loc=4)\n",
    "\"\"\""
   ]
  },
  {
   "cell_type": "markdown",
   "metadata": {
    "id": "i-ljt9zOyGJ-"
   },
   "source": [
    "ここからもう一度テンソルに戻って、一個の要素を固定したり、影響力が大きいところの実際の数値の確認"
   ]
  },
  {
   "cell_type": "markdown",
   "metadata": {
    "id": "DzvxjFbMTnav"
   },
   "source": [
    "## 要素の削除と再テンソル化"
   ]
  },
  {
   "cell_type": "code",
   "execution_count": null,
   "metadata": {
    "executionInfo": {
     "elapsed": 34,
     "status": "ok",
     "timestamp": 1672373965096,
     "user": {
      "displayName": "学生1935084t",
      "userId": "12227631716568337195"
     },
     "user_tz": -540
    },
    "id": "4OQ-XFe-TsCM"
   },
   "outputs": [],
   "source": [
    "\"\"\"\n",
    "#axis=0,奥行,axis=1,行、axis=2,列\n",
    "def spaceDelete(t,n):\n",
    "  np.delete(t,n,axis=1)\n",
    "\n",
    "#axis=0,奥行,axis=1,行、axis=2,列\n",
    "def timeDelete(t,n):\n",
    "  np.delete(t,n,axis=2)\n",
    "\n",
    "def measureDelete(t,n):\n",
    "  np.delete(t,n,axis=0)\n",
    "\n",
    "\"\"\"\n"
   ]
  },
  {
   "cell_type": "code",
   "execution_count": null,
   "metadata": {
    "executionInfo": {
     "elapsed": 34,
     "status": "ok",
     "timestamp": 1672373965096,
     "user": {
      "displayName": "学生1935084t",
      "userId": "12227631716568337195"
     },
     "user_tz": -540
    },
    "id": "1RgngoSKVRW_"
   },
   "outputs": [],
   "source": [
    "\n",
    "\"\"\"\n",
    "#multidelete\n",
    "#axis=0,奥行,axis=1,行、axis=2,列\n",
    "def spaceMultiDelete(n):\n",
    "  t0=np.delete(tensor_0,n,axis=1)\n",
    "  t1=np.delete(tensor_1,n,axis=1)\n",
    "  t2=np.delete(tensor_2,n,axis=1)\n",
    "  t3=np.delete(tensor_all,n,axis=1)\n",
    "  return t0,t1,t2,t3\n",
    "\"\"\"\n"
   ]
  },
  {
   "cell_type": "code",
   "execution_count": null,
   "metadata": {
    "executionInfo": {
     "elapsed": 35,
     "status": "ok",
     "timestamp": 1672373965097,
     "user": {
      "displayName": "学生1935084t",
      "userId": "12227631716568337195"
     },
     "user_tz": -540
    },
    "id": "fXza8p-ITkaP"
   },
   "outputs": [],
   "source": [
    "#nt0,nt1,nt2,nt3=spaceMultiDelete(153)"
   ]
  },
  {
   "cell_type": "code",
   "execution_count": null,
   "metadata": {
    "executionInfo": {
     "elapsed": 34,
     "status": "ok",
     "timestamp": 1672373965097,
     "user": {
      "displayName": "学生1935084t",
      "userId": "12227631716568337195"
     },
     "user_tz": -540
    },
    "id": "LaJhZ5c3DMOF"
   },
   "outputs": [],
   "source": [
    "#plotFream(nt0,nt1,nt2,nt3,rank_list)"
   ]
  },
  {
   "cell_type": "markdown",
   "metadata": {
    "id": "-rRNf0npEaUk"
   },
   "source": [
    "空間軸方向でも、umapなどでテンソルを作る"
   ]
  },
  {
   "cell_type": "code",
   "execution_count": null,
   "metadata": {
    "executionInfo": {
     "elapsed": 35,
     "status": "ok",
     "timestamp": 1672373965098,
     "user": {
      "displayName": "学生1935084t",
      "userId": "12227631716568337195"
     },
     "user_tz": -540
    },
    "id": "mHO4qh2_P-E-"
   },
   "outputs": [],
   "source": [
    "\"\"\"\n",
    "def plotData(pltdata):\n",
    "  plt.figure(figsize=(12, 12))\n",
    "  plt.scatter(pltdata[:,0], pltdata[:,1], s=3)\n",
    "  plt.colorbar()\n",
    "  plt.grid()\n",
    "  plt.show()\n",
    "\"\"\"\n"
   ]
  },
  {
   "cell_type": "code",
   "execution_count": null,
   "metadata": {
    "colab": {
     "base_uri": "https://localhost:8080/"
    },
    "executionInfo": {
     "elapsed": 7494,
     "status": "ok",
     "timestamp": 1672373972558,
     "user": {
      "displayName": "学生1935084t",
      "userId": "12227631716568337195"
     },
     "user_tz": -540
    },
    "id": "QPJnmXs0PwxL",
    "outputId": "6c4bc378-d3d7-49a3-d4a4-74ff39026083"
   },
   "outputs": [],
   "source": [
    "!pip3 install umap-learn"
   ]
  },
  {
   "cell_type": "code",
   "execution_count": null,
   "metadata": {
    "executionInfo": {
     "elapsed": 32668,
     "status": "ok",
     "timestamp": 1672374005219,
     "user": {
      "displayName": "学生1935084t",
      "userId": "12227631716568337195"
     },
     "user_tz": -540
    },
    "id": "iWsBJZHxPz5Y"
   },
   "outputs": [],
   "source": [
    "\"\"\"\n",
    "import umap\n",
    "from scipy.sparse.csgraph import connected_components\n",
    "# 公式GitHubには書いてあるのですが、↑を書かないとエラーが出てしまいます。\n",
    "\"\"\"\n",
    "\n"
   ]
  },
  {
   "cell_type": "code",
   "execution_count": null,
   "metadata": {
    "colab": {
     "base_uri": "https://localhost:8080/"
    },
    "executionInfo": {
     "elapsed": 45744,
     "status": "ok",
     "timestamp": 1672374050943,
     "user": {
      "displayName": "学生1935084t",
      "userId": "12227631716568337195"
     },
     "user_tz": -540
    },
    "id": "KBKL6zolZquM",
    "outputId": "d8dc179a-f68d-4c38-b3dd-08fca8f72bb9"
   },
   "outputs": [],
   "source": [
    "\"\"\"\n",
    "\n",
    "tt0,u0=ntd(tensor_0,rank_list)\n",
    "a0,b0=non_negative_tucker_core(tensor_0,rank_list,tt0)\n",
    "a1,b1=non_negative_tucker_core(tensor_1,rank_list,tt0)\n",
    "a2,b2=non_negative_tucker_core(tensor_2,rank_list,tt0)\n",
    "a3,b3=non_negative_tucker_core(tensor_all,rank_list,tt0)\n",
    "\n",
    "\"\"\"\n",
    "\n"
   ]
  },
  {
   "cell_type": "code",
   "execution_count": null,
   "metadata": {
    "executionInfo": {
     "elapsed": 25,
     "status": "ok",
     "timestamp": 1672374050943,
     "user": {
      "displayName": "学生1935084t",
      "userId": "12227631716568337195"
     },
     "user_tz": -540
    },
    "id": "W8hXhYfHYb67"
   },
   "outputs": [],
   "source": [
    "#k=tensor_all.shape"
   ]
  },
  {
   "cell_type": "code",
   "execution_count": null,
   "metadata": {
    "executionInfo": {
     "elapsed": 24,
     "status": "ok",
     "timestamp": 1672374050944,
     "user": {
      "displayName": "学生1935084t",
      "userId": "12227631716568337195"
     },
     "user_tz": -540
    },
    "id": "_aVPu_RwYUTr"
   },
   "outputs": [],
   "source": [
    "#ten1=tensor_all.transpose(0,2,1).reshape(k[2]*k[1],k[0])"
   ]
  },
  {
   "cell_type": "code",
   "execution_count": null,
   "metadata": {
    "executionInfo": {
     "elapsed": 23,
     "status": "ok",
     "timestamp": 1672374050944,
     "user": {
      "displayName": "学生1935084t",
      "userId": "12227631716568337195"
     },
     "user_tz": -540
    },
    "id": "DXdTyHtcYfCP"
   },
   "outputs": [],
   "source": [
    "#print(ten1.T.shape)"
   ]
  },
  {
   "cell_type": "code",
   "execution_count": null,
   "metadata": {
    "colab": {
     "base_uri": "https://localhost:8080/"
    },
    "executionInfo": {
     "elapsed": 22,
     "status": "ok",
     "timestamp": 1672374050944,
     "user": {
      "displayName": "学生1935084t",
      "userId": "12227631716568337195"
     },
     "user_tz": -540
    },
    "id": "gPDRJCr9ciha",
    "outputId": "1474f837-16e9-4c67-ae97-e0a51d1d3d6c"
   },
   "outputs": [],
   "source": [
    "#distance=np.linalg.norm(b0[1]-b3[1])\n",
    "#print(distance)"
   ]
  },
  {
   "cell_type": "code",
   "execution_count": null,
   "metadata": {
    "colab": {
     "base_uri": "https://localhost:8080/"
    },
    "executionInfo": {
     "elapsed": 11510,
     "status": "ok",
     "timestamp": 1672374062433,
     "user": {
      "displayName": "学生1935084t",
      "userId": "12227631716568337195"
     },
     "user_tz": -540
    },
    "id": "1_n_sjEkP2fr",
    "outputId": "1ff3013e-4d43-4469-adbf-3cf1c33c86ff"
   },
   "outputs": [],
   "source": [
    "#%time res_umap = umap.UMAP().fit_transform(b1[0])\n",
    "#print(res_umap.shape)"
   ]
  },
  {
   "cell_type": "code",
   "execution_count": null,
   "metadata": {
    "colab": {
     "base_uri": "https://localhost:8080/",
     "height": 676
    },
    "executionInfo": {
     "elapsed": 28,
     "status": "ok",
     "timestamp": 1672374062433,
     "user": {
      "displayName": "学生1935084t",
      "userId": "12227631716568337195"
     },
     "user_tz": -540
    },
    "id": "we-6t5UeP5oj",
    "outputId": "9a0035db-6fab-417b-f23b-7737eb506d5f"
   },
   "outputs": [],
   "source": [
    "#plotData(res_umap)"
   ]
  },
  {
   "cell_type": "markdown",
   "metadata": {
    "id": "lzy0xKaDe5mz"
   },
   "source": [
    "https://qiita.com/khigashi02/items/17f69da4851c71d8a0dc\n",
    "\n",
    "インタラクティブな可視化"
   ]
  },
  {
   "cell_type": "markdown",
   "metadata": {
    "id": "OfoIr_KNYYmf"
   },
   "source": [
    "https://www.jstage.jst.go.jp/article/tjsai/30/6/30_30-6_JWEIN-E/_pdf/-char/ja\n",
    "\n",
    "この論文を隅まで読む"
   ]
  },
  {
   "cell_type": "markdown",
   "metadata": {
    "id": "SCyG1MM985nW"
   },
   "source": [
    "## bokeh"
   ]
  },
  {
   "cell_type": "code",
   "execution_count": null,
   "metadata": {},
   "outputs": [],
   "source": []
  },
  {
   "cell_type": "code",
   "execution_count": null,
   "metadata": {},
   "outputs": [],
   "source": []
  },
  {
   "cell_type": "code",
   "execution_count": null,
   "metadata": {},
   "outputs": [],
   "source": []
  }
 ],
 "metadata": {
  "colab": {
   "authorship_tag": "ABX9TyMyOkSX2cULebgTn0PRv05Q",
   "collapsed_sections": [
    "t70W9uqz-6bF",
    "ht2gMM-r_b_M",
    "SCyG1MM985nW"
   ],
   "mount_file_id": "1k7T6N0YT8v7rpDOTOinJS8F84JIMHCkr",
   "provenance": []
  },
  "gpuClass": "standard",
  "kernelspec": {
   "display_name": "Python 3",
   "language": "python",
   "name": "python3"
  },
  "language_info": {
   "codemirror_mode": {
    "name": "ipython",
    "version": 3
   },
   "file_extension": ".py",
   "mimetype": "text/x-python",
   "name": "python",
   "nbconvert_exporter": "python",
   "pygments_lexer": "ipython3",
   "version": "3.8.3"
  }
 },
 "nbformat": 4,
 "nbformat_minor": 4
}

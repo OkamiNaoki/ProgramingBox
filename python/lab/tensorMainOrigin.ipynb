{
 "cells": [
  {
   "cell_type": "markdown",
   "metadata": {
    "id": "n2Y2W3dz-RlW"
   },
   "source": [
    "# テンソル分解"
   ]
  },
  {
   "cell_type": "markdown",
   "metadata": {
    "id": "CcNpO7QE4Ntm"
   },
   "source": [
    "目的　テンソル同士の比較、比較することで、そのテンソルの構成している要素を知る。何が原因となって、その特徴量を出しているのか"
   ]
  },
  {
   "cell_type": "markdown",
   "metadata": {
    "id": "pI6_ePj97SGU"
   },
   "source": [
    "https://www.jstage.jst.go.jp/article/journalcpij/53/3/53_1320/_pdf/-char/ja\n",
    "\n",
    "タッカー分解のコアテンソル、因子の扱い全てある\n",
    "\n",
    "コアテンソルを一旦一緒にするのではなく、それぞれでどの要素が影響しているのかしっかり見極める必要がある、それぞれの特徴行列の数値からどの要素が影響しているのかこの論文を対象に調べる必要がある。"
   ]
  },
  {
   "cell_type": "markdown",
   "metadata": {},
   "source": [
    "voilaではクラスタリングすることでより精度を高めるということをしていたが、これの目的は、クラスタリング後、比較することで異常を見つけ出すというのが目的、"
   ]
  },
  {
   "cell_type": "markdown",
   "metadata": {
    "id": "rj1iRSsDKiQa"
   },
   "source": [
    "卒論完成目標\n",
    "\n",
    "1、テンソル分解をする（今のところ、コアテンソルが対角要素となっているCP分解を用いてただテンソル分解をする。\n",
    "\n",
    "２、テンソル分解後の空間軸のコンポーネントを見て、そこの差をとり、空間軸、４つのコンポーネント、4テンソルのそれぞれの差をとり６個、差分テンソルを作る、これが（８６４、４、６）のテンソルになる（テンソルオールは入れなくていいかも）\n",
    "\n",
    "３、上のテンソルをタッカー分解することでコアテンソル、空間軸コンポーネントを見ることで差分のつまり、テンソルに差をつけている部分の場所を把握することができる、今のところ順調\n",
    "\n",
    "４、これを時間軸でもやりたいが、差をとるという事ができるのかという点で最初のテンソル分解をタッカー分解に変えて、時間軸の方も探索するというのもありかもしれない、\n",
    "\n",
    "終わり、どの場所で差がついているか分かれば、そこから一個前の軸に戻り、また同様に、どの部分が大事かを探索することで、元データに戻り、最終的に、実際の数値の差として知る事ができる\n",
    "\n",
    "３までの実装が済めば卒論までいけると思うから、次は、４、5でプラスアルファって感じになると思う"
   ]
  },
  {
   "cell_type": "markdown",
   "metadata": {
    "id": "ds4lbuSB-VhN"
   },
   "source": [
    "# データ処理"
   ]
  },
  {
   "cell_type": "markdown",
   "metadata": {
    "id": "c5Gwo3WJ-eTs"
   },
   "source": [
    "## import"
   ]
  },
  {
   "cell_type": "code",
   "execution_count": 1,
   "metadata": {
    "executionInfo": {
     "elapsed": 1331,
     "status": "ok",
     "timestamp": 1672373822107,
     "user": {
      "displayName": "学生1935084t",
      "userId": "12227631716568337195"
     },
     "user_tz": -540
    },
    "id": "JaME2DYs9ZdD"
   },
   "outputs": [],
   "source": [
    "import pandas as pd\n",
    "import numpy as np\n",
    "from sklearn import preprocessing"
   ]
  },
  {
   "cell_type": "markdown",
   "metadata": {
    "id": "HSGOOks6-hoB"
   },
   "source": [
    "## データ処理"
   ]
  },
  {
   "cell_type": "code",
   "execution_count": 2,
   "metadata": {
    "executionInfo": {
     "elapsed": 2442,
     "status": "ok",
     "timestamp": 1672373824547,
     "user": {
      "displayName": "学生1935084t",
      "userId": "12227631716568337195"
     },
     "user_tz": -540
    },
    "id": "TtbnvOrQ-QhU"
   },
   "outputs": [],
   "source": [
    "#データ読み込み\n",
    "df_cluster0 = pd.read_csv('./df_cluster0.csv') # 学習データの読み込み\n",
    "df_cluster1 = pd.read_csv('./df_cluster1.csv') # 検証データの読み込み\n",
    "df_cluster2 = pd.read_csv('./df_cluster2.csv') # 提出用サンプルデータの読み込み\n",
    "df_clusterall = pd.read_csv('./df_origin.csv') # 提出用サンプルデータの読み込み"
   ]
  },
  {
   "cell_type": "code",
   "execution_count": 3,
   "metadata": {
    "colab": {
     "base_uri": "https://localhost:8080/",
     "height": 70
    },
    "executionInfo": {
     "elapsed": 14,
     "status": "ok",
     "timestamp": 1672373824548,
     "user": {
      "displayName": "学生1935084t",
      "userId": "12227631716568337195"
     },
     "user_tz": -540
    },
    "id": "pT6ygNG4-pcm",
    "outputId": "0800f881-9940-461f-cd49-434bba7607af"
   },
   "outputs": [
    {
     "data": {
      "text/plain": [
       "\"\\ndf_cluster0 = df_cluster0[['CPU', 'Water']]\\ndf_cluster1 = df_cluster1[['CPU', 'Water']]\\ndf_cluster2 = df_cluster2[[ 'CPU', 'Water']]\\ndf_clusterall = df_clusterall[[ 'CPU', 'Water']]\\n\""
      ]
     },
     "execution_count": 3,
     "metadata": {},
     "output_type": "execute_result"
    }
   ],
   "source": [
    "#データ削除\n",
    "df_cluster0 = df_cluster0[['AirIn','AirOut', 'CPU', 'Water']]\n",
    "df_cluster1 = df_cluster1[['AirIn','AirOut', 'CPU', 'Water']]\n",
    "df_cluster2 = df_cluster2[['AirIn','AirOut', 'CPU', 'Water']]\n",
    "df_clusterall = df_clusterall[['AirIn','AirOut', 'CPU', 'Water']]\n",
    "\"\"\"\n",
    "df_cluster0 = df_cluster0[['CPU', 'Water']]\n",
    "df_cluster1 = df_cluster1[['CPU', 'Water']]\n",
    "df_cluster2 = df_cluster2[[ 'CPU', 'Water']]\n",
    "df_clusterall = df_clusterall[[ 'CPU', 'Water']]\n",
    "\"\"\""
   ]
  },
  {
   "cell_type": "code",
   "execution_count": 4,
   "metadata": {
    "colab": {
     "base_uri": "https://localhost:8080/"
    },
    "executionInfo": {
     "elapsed": 479,
     "status": "ok",
     "timestamp": 1672373825017,
     "user": {
      "displayName": "学生1935084t",
      "userId": "12227631716568337195"
     },
     "user_tz": -540
    },
    "id": "exIAshxh1786",
    "outputId": "24f6703c-05fe-4421-fc53-ed54ee3fa1cb"
   },
   "outputs": [
    {
     "name": "stdout",
     "output_type": "stream",
     "text": [
      "        AirIn  AirOut    CPU  Water\n",
      "0       19.36   22.09  15.96  15.55\n",
      "1       19.55   21.76  15.89  16.01\n",
      "2       18.53   22.20  15.92  15.36\n",
      "3       19.07   21.45  15.84  15.27\n",
      "4       18.46   22.17  16.07  15.07\n",
      "...       ...     ...    ...    ...\n",
      "190939  19.25   24.84  17.78  15.77\n",
      "190940  19.68   23.48  17.45  15.80\n",
      "190941  19.40   24.45  17.57  15.63\n",
      "190942  20.69   24.27  17.45  15.99\n",
      "190943  19.41   25.45  17.78  15.55\n",
      "\n",
      "[190944 rows x 4 columns]\n"
     ]
    }
   ],
   "source": [
    "print(df_cluster0)"
   ]
  },
  {
   "cell_type": "code",
   "execution_count": 5,
   "metadata": {
    "colab": {
     "base_uri": "https://localhost:8080/",
     "height": 52
    },
    "executionInfo": {
     "elapsed": 14,
     "status": "ok",
     "timestamp": 1672373825017,
     "user": {
      "displayName": "学生1935084t",
      "userId": "12227631716568337195"
     },
     "user_tz": -540
    },
    "id": "OIp-BqvE-rZE",
    "outputId": "988a3e23-228d-44a8-d381-da6ec6370218"
   },
   "outputs": [
    {
     "data": {
      "text/plain": [
       "'\\ndf_cluster0_sc = df_cluster0.values\\ndf_cluster1_sc = df_cluster1.values\\ndf_cluster2_sc = df_cluster2.values\\ndf_clusterall_sc = df_clusterall.values\\n'"
      ]
     },
     "execution_count": 5,
     "metadata": {},
     "output_type": "execute_result"
    }
   ],
   "source": [
    "\n",
    "df_cluster0_sc = preprocessing.scale(df_cluster0, axis=0)\n",
    "df_cluster1_sc = preprocessing.scale(df_cluster1, axis=0)\n",
    "df_cluster2_sc = preprocessing.scale(df_cluster2, axis=0)\n",
    "df_clusterall_sc = preprocessing.scale(df_clusterall, axis=0)\n",
    "\"\"\"\n",
    "df_cluster0_sc = df_cluster0.values\n",
    "df_cluster1_sc = df_cluster1.values\n",
    "df_cluster2_sc = df_cluster2.values\n",
    "df_clusterall_sc = df_clusterall.values\n",
    "\"\"\""
   ]
  },
  {
   "cell_type": "code",
   "execution_count": 6,
   "metadata": {
    "executionInfo": {
     "elapsed": 11,
     "status": "ok",
     "timestamp": 1672373825018,
     "user": {
      "displayName": "学生1935084t",
      "userId": "12227631716568337195"
     },
     "user_tz": -540
    },
    "id": "iG2mBQ4v-taQ"
   },
   "outputs": [],
   "source": [
    "#テンソル化\n",
    "\"\"\"\n",
    "tensor_0 = df_cluster0_sc.reshape(-1, 864, 4)\n",
    "#print(tensor_0[1,0,0])\n",
    "tensor_1 = df_cluster1_sc.reshape(-1, 864, 4)\n",
    "#print(tensor_1[1,0,0])\n",
    "tensor_2 = df_cluster2_sc.reshape(-1, 864, 4)\n",
    "#print(tensor_2[1,0,0])\n",
    "tensor_all = df_clusterall_sc.reshape(-1, 864, 4)\n",
    "#print(tensor_2[1,0,0])\n",
    "\"\"\"\n",
    "tensor_0 = df_cluster0_sc.reshape(-1, 864, 4)\n",
    "#print(tensor_0[1,0,0])\n",
    "tensor_1 = df_cluster1_sc.reshape(-1, 864, 4)\n",
    "#print(tensor_1[1,0,0])\n",
    "tensor_2 = df_cluster2_sc.reshape(-1, 864, 4)\n",
    "#print(tensor_2[1,0,0])\n",
    "tensor_all = df_clusterall_sc.reshape(-1, 864, 4)\n",
    "#print(tensor_2[1,0,0])"
   ]
  },
  {
   "cell_type": "code",
   "execution_count": 7,
   "metadata": {
    "colab": {
     "base_uri": "https://localhost:8080/",
     "height": 35
    },
    "executionInfo": {
     "elapsed": 10,
     "status": "ok",
     "timestamp": 1672373825018,
     "user": {
      "displayName": "学生1935084t",
      "userId": "12227631716568337195"
     },
     "user_tz": -540
    },
    "id": "Hu_SfMP_SOFx",
    "outputId": "6bc814b4-7797-400b-e009-7a2464f9a1f3"
   },
   "outputs": [
    {
     "data": {
      "text/plain": [
       "'\\ntensor_0=np.delete(tensor_0,0,axis=1)\\nprint(tensor_0.shape)\\n'"
      ]
     },
     "execution_count": 7,
     "metadata": {},
     "output_type": "execute_result"
    }
   ],
   "source": [
    "#axis=0,奥行,axis=1,行、axis=2,列\n",
    "\"\"\"\n",
    "tensor_0=np.delete(tensor_0,0,axis=1)\n",
    "print(tensor_0.shape)\n",
    "\"\"\""
   ]
  },
  {
   "cell_type": "markdown",
   "metadata": {
    "id": "Ks_basza-2XR"
   },
   "source": [
    "# テンソル分解"
   ]
  },
  {
   "cell_type": "markdown",
   "metadata": {
    "id": "t70W9uqz-6bF"
   },
   "source": [
    "## import"
   ]
  },
  {
   "cell_type": "code",
   "execution_count": 8,
   "metadata": {
    "colab": {
     "base_uri": "https://localhost:8080/"
    },
    "executionInfo": {
     "elapsed": 9950,
     "status": "ok",
     "timestamp": 1672373834959,
     "user": {
      "displayName": "学生1935084t",
      "userId": "12227631716568337195"
     },
     "user_tz": -540
    },
    "id": "PJY7H-4W-6DW",
    "outputId": "187b3687-56be-4467-883a-18d1e10b68d0"
   },
   "outputs": [
    {
     "name": "stdout",
     "output_type": "stream",
     "text": [
      "Requirement already satisfied: tensorly in /Users/okami/opt/anaconda3/lib/python3.9/site-packages (0.8.0)\n",
      "Requirement already satisfied: scipy in /Users/okami/opt/anaconda3/lib/python3.9/site-packages (from tensorly) (1.9.1)\n",
      "Requirement already satisfied: numpy in /Users/okami/opt/anaconda3/lib/python3.9/site-packages (from tensorly) (1.21.5)\n"
     ]
    }
   ],
   "source": [
    "!pip install -U tensorly"
   ]
  },
  {
   "cell_type": "code",
   "execution_count": 9,
   "metadata": {
    "executionInfo": {
     "elapsed": 7,
     "status": "ok",
     "timestamp": 1672373834960,
     "user": {
      "displayName": "学生1935084t",
      "userId": "12227631716568337195"
     },
     "user_tz": -540
    },
    "id": "Gusl0k_y-_6z"
   },
   "outputs": [],
   "source": [
    "import tensorly as tl\n",
    "import numpy as np\n",
    "from tensorly.decomposition import tucker\n",
    "from matplotlib import pyplot as plt\n",
    "from tensorly.base import unfold\n",
    "from tensorly.tenalg import multi_mode_dot, mode_dot\n",
    "from tensorly.tucker_tensor import tucker_to_tensor, TuckerTensor, validate_tucker_rank, tucker_normalize\n",
    "from tensorly.decomposition import non_negative_parafac, non_negative_tucker"
   ]
  },
  {
   "cell_type": "markdown",
   "metadata": {
    "id": "ht2gMM-r_b_M"
   },
   "source": [
    "## テンソル分解"
   ]
  },
  {
   "cell_type": "code",
   "execution_count": 10,
   "metadata": {
    "executionInfo": {
     "elapsed": 583,
     "status": "ok",
     "timestamp": 1672373835537,
     "user": {
      "displayName": "学生1935084t",
      "userId": "12227631716568337195"
     },
     "user_tz": -540
    },
    "id": "UsraaUhZ_T6y"
   },
   "outputs": [],
   "source": [
    "def non_negative_tucker_core(tensor, rank,mcore, n_iter_max=1000, init='svd', tol=10e-5,\n",
    "                        random_state=None, verbose=False, return_errors=False,\n",
    "                        normalize_factors=False):\n",
    "    \"\"\"Non-negative Tucker decomposition\n",
    "\n",
    "        Iterative multiplicative update, see [2]_\n",
    "\n",
    "    Parameters\n",
    "    ----------\n",
    "    tensor : ``ndarray``\n",
    "    rank : None, int or int list\n",
    "        size of the core tensor, ``(len(ranks) == tensor.ndim)``\n",
    "        if int, the same rank is used for all modes\n",
    "    n_iter_max : int\n",
    "        maximum number of iteration\n",
    "    init : {'svd', 'random'}\n",
    "    random_state : {None, int, np.random.RandomState}\n",
    "    verbose : int , optional\n",
    "        level of verbosity\n",
    "    ranks : None or int list\n",
    "    size of the core tensor\n",
    "    normalize_factors : if True, aggregates the core which will contain the norms of the factors.\n",
    "\n",
    "    Returns\n",
    "    -------\n",
    "    core : ndarray\n",
    "            positive core of the Tucker decomposition\n",
    "            has shape `ranks`\n",
    "    factors : ndarray list\n",
    "            list of factors of the CP decomposition\n",
    "            element `i` is of shape ``(tensor.shape[i], rank)``\n",
    "\n",
    "    References\n",
    "    ----------\n",
    "    .. [2] Yong-Deok Kim and Seungjin Choi,\n",
    "       \"Non-negative tucker decomposition\",\n",
    "       IEEE Conference on Computer Vision and Pattern Recognition s(CVPR),\n",
    "       pp 1-8, 2007\n",
    "    \"\"\"\n",
    "    rank = validate_tucker_rank(tl.shape(tensor), rank=rank)\n",
    "\n",
    "    epsilon = 10e-12\n",
    "\n",
    "    # Initialisation\n",
    "    if init == 'svd':\n",
    "        core, factors = tucker(tensor, rank)\n",
    "        nn_factors = [tl.abs(f) for f in factors]\n",
    "        nn_core = tl.abs(core)\n",
    "    else:\n",
    "        rng = tl.check_random_state(random_state)\n",
    "        core = tl.tensor(rng.random_sample(rank) + 0.01, **tl.context(tensor))  # Check this\n",
    "        factors = [tl.tensor(rng.random_sample(s), **tl.context(tensor)) for s in zip(tl.shape(tensor), rank)]\n",
    "        nn_factors = [tl.abs(f) for f in factors]\n",
    "        nn_core = tl.abs(core)\n",
    "\n",
    "    norm_tensor = tl.norm(tensor, 2)\n",
    "    rec_errors = []\n",
    "    nn_core=tl.abs(mcore)#\n",
    "    for iteration in range(n_iter_max):\n",
    "        for mode in range(tl.ndim(tensor)):\n",
    "            B = tucker_to_tensor((nn_core, nn_factors), skip_factor=mode)\n",
    "            B = tl.transpose(unfold(B, mode))\n",
    "\n",
    "            numerator = tl.dot(unfold(tensor, mode), B)\n",
    "            numerator = tl.clip(numerator, a_min=epsilon, a_max=None)\n",
    "            denominator = tl.dot(nn_factors[mode], tl.dot(tl.transpose(B), B))\n",
    "            denominator = tl.clip(denominator, a_min=epsilon, a_max=None)\n",
    "            nn_factors[mode] *= numerator / denominator\n",
    "\n",
    "        numerator = tucker_to_tensor((tensor, nn_factors), transpose_factors=True)\n",
    "        numerator = tl.clip(numerator, a_min=epsilon, a_max=None)\n",
    "        for i, f in enumerate(nn_factors):\n",
    "            if i:\n",
    "                denominator = mode_dot(denominator, tl.dot(tl.transpose(f), f), i)\n",
    "            else:\n",
    "                denominator = mode_dot(nn_core, tl.dot(tl.transpose(f), f), i)\n",
    "        denominator = tl.clip(denominator, a_min=epsilon, a_max=None)\n",
    "        #nn_core *= numerator / denominator\n",
    "\n",
    "        rec_error = tl.norm(tensor - tucker_to_tensor((nn_core, nn_factors)), 2) / norm_tensor\n",
    "        rec_errors.append(rec_error)\n",
    "        if iteration > 1 and verbose:\n",
    "            print('reconstruction error={}, variation={}.'.format(\n",
    "                rec_errors[-1], rec_errors[-2] - rec_errors[-1]))\n",
    "\n",
    "        if iteration > 100 and abs(rec_errors[-2] - rec_errors[-1]) < tol:\n",
    "            if verbose:\n",
    "                print('converged in {} iterations.'.format(iteration))\n",
    "            break\n",
    "        if normalize_factors:\n",
    "            nn_core, nn_factors = tucker_normalize((nn_core, nn_factors))\n",
    "    tensor = TuckerTensor((nn_core, nn_factors))\n",
    "    if return_errors:\n",
    "        return tensor, rec_errors\n",
    "    else:\n",
    "        print(\"rec_errors\")\n",
    "        print(rec_errors)\n",
    "        return tensor\n"
   ]
  },
  {
   "cell_type": "code",
   "execution_count": 11,
   "metadata": {
    "executionInfo": {
     "elapsed": 10,
     "status": "ok",
     "timestamp": 1672373835538,
     "user": {
      "displayName": "学生1935084t",
      "userId": "12227631716568337195"
     },
     "user_tz": -540
    },
    "id": "fLXANqhAGT1l"
   },
   "outputs": [],
   "source": [
    "def ntd(tensor,rank_list):\n",
    "  return non_negative_tucker(tensor, rank_list, tol=1.0e-10, n_iter_max=100)"
   ]
  },
  {
   "cell_type": "markdown",
   "metadata": {
    "id": "Uppp086L_j91"
   },
   "source": [
    "## プロット"
   ]
  },
  {
   "cell_type": "code",
   "execution_count": 12,
   "metadata": {
    "executionInfo": {
     "elapsed": 10,
     "status": "ok",
     "timestamp": 1672373835538,
     "user": {
      "displayName": "学生1935084t",
      "userId": "12227631716568337195"
     },
     "user_tz": -540
    },
    "id": "w-mS2KFpAMpv"
   },
   "outputs": [],
   "source": [
    "import seaborn as sns\n",
    "import matplotlib.pyplot as plt"
   ]
  },
  {
   "cell_type": "code",
   "execution_count": 13,
   "metadata": {
    "executionInfo": {
     "elapsed": 10,
     "status": "ok",
     "timestamp": 1672373835539,
     "user": {
      "displayName": "学生1935084t",
      "userId": "12227631716568337195"
     },
     "user_tz": -540
    },
    "id": "KOdI5urr_rSF"
   },
   "outputs": [],
   "source": [
    "def heatfacpltracwiden(t0,t1,t2,t3,m,n):\n",
    "  plt.figure(figsize=(1*10,1*10))\n",
    "  a=t0[1][:,m].T.reshape(36,24)\n",
    "  b=t1[1][:,m].T.reshape(36,24)\n",
    "  c=t2[1][:,m].T.reshape(36,24)\n",
    "  d=t3[1][:,m].T.reshape(36,24)\n",
    "  plt.subplot(n,4,m*4+1)\n",
    "  sns.heatmap(a,vmin=0, vmax=1)\n",
    "  plt.subplot(n,4,m*4+2)\n",
    "  sns.heatmap(b,vmin=0, vmax=1)\n",
    "  plt.subplot(n,4,m*4+3)\n",
    "  sns.heatmap(c,vmin=0, vmax=1)\n",
    "  plt.subplot(n,4,m*4+4)\n",
    "  sns.heatmap(d,vmin=0, vmax=1)"
   ]
  },
  {
   "cell_type": "code",
   "execution_count": 14,
   "metadata": {
    "executionInfo": {
     "elapsed": 9,
     "status": "ok",
     "timestamp": 1672373835539,
     "user": {
      "displayName": "学生1935084t",
      "userId": "12227631716568337195"
     },
     "user_tz": -540
    },
    "id": "pHlcT85Qkhe9"
   },
   "outputs": [],
   "source": [
    "def heattimeplt(t0,t1,t2,t3):\n",
    "  plt.figure(figsize=(1*10,1*10))\n",
    "  plt.subplot(1,4,1)\n",
    "  sns.heatmap(t0[0][:,:])\n",
    "  plt.subplot(1,4,2)\n",
    "  sns.heatmap(t1[0][:,:])\n",
    "  plt.subplot(1,4,3)\n",
    "  sns.heatmap(t2[0][:,:])\n",
    "  plt.subplot(1,4,4)\n",
    "  sns.heatmap(t3[0][:,:])"
   ]
  },
  {
   "cell_type": "markdown",
   "metadata": {
    "id": "Yc5nouG4abZb"
   },
   "source": [
    "特徴ベクトルをひとつめは5以下二つ目は10以下などできないか？"
   ]
  },
  {
   "cell_type": "markdown",
   "metadata": {
    "id": "nFNLHsrsh9ND"
   },
   "source": [
    "実験で様々な分析が出来るように、棒グラフなどいろいろ入れたい"
   ]
  },
  {
   "cell_type": "markdown",
   "metadata": {
    "id": "hpye6TEirNPq"
   },
   "source": [
    "データフレーム実装\n",
    "\n",
    "空間軸ヒートマップ〇\n",
    "\n",
    "時間軸ヒートマップ〇\n",
    "\n",
    "時間軸線グラフ〇\n",
    "\n",
    "測定軸ヒートマップと棒グラフ〇\n",
    "\n",
    "コアテンソルヒートマップもしくは、数値 〇\n",
    "\n",
    "元データの値を選択からの表示\n",
    "\n",
    "個別逆テンソル復元をし、元データの特徴を比較"
   ]
  },
  {
   "cell_type": "markdown",
   "metadata": {
    "id": "1yIUr_Gfj9ce"
   },
   "source": [
    "##データフレーム関数"
   ]
  },
  {
   "cell_type": "code",
   "execution_count": 15,
   "metadata": {
    "executionInfo": {
     "elapsed": 7,
     "status": "ok",
     "timestamp": 1672373835539,
     "user": {
      "displayName": "学生1935084t",
      "userId": "12227631716568337195"
     },
     "user_tz": -540
    },
    "id": "bEv3fmyR9-Ov"
   },
   "outputs": [],
   "source": [
    "def spaceHeatPlot(b0,b1,b2,b3,rl):\n",
    "  for num in range(0,rl[1]):\n",
    "    heatfacpltracwiden(b0,b1,b2,b3,num,rl[1])"
   ]
  },
  {
   "cell_type": "code",
   "execution_count": 16,
   "metadata": {
    "executionInfo": {
     "elapsed": 8,
     "status": "ok",
     "timestamp": 1672373835540,
     "user": {
      "displayName": "学生1935084t",
      "userId": "12227631716568337195"
     },
     "user_tz": -540
    },
    "id": "MtM9Aw2e-4is"
   },
   "outputs": [],
   "source": [
    "def timeHeatPlot(b0,b1,b2,b3,rl):\n",
    "  heattimeplt(b0,b1,b2,b3)"
   ]
  },
  {
   "cell_type": "code",
   "execution_count": 17,
   "metadata": {
    "executionInfo": {
     "elapsed": 7,
     "status": "ok",
     "timestamp": 1672373835540,
     "user": {
      "displayName": "学生1935084t",
      "userId": "12227631716568337195"
     },
     "user_tz": -540
    },
    "id": "Xza6TIGhZdvS"
   },
   "outputs": [],
   "source": [
    "def timeLinePlot(b0,b1,b2,b3,rl):\n",
    "  n=rl[0]\n",
    "  plt.figure(figsize=(1*10,1*10))\n",
    "\n",
    "  sns.relplot(data=b0[0][:,:], kind='line')\n",
    "  sns.relplot(data=b1[0][:,:], kind='line')\n",
    "  sns.relplot(data=b2[0][:,:], kind='line')\n",
    "  sns.relplot(data=b3[0][:,:], kind='line')"
   ]
  },
  {
   "cell_type": "code",
   "execution_count": 18,
   "metadata": {
    "executionInfo": {
     "elapsed": 8,
     "status": "ok",
     "timestamp": 1672373835541,
     "user": {
      "displayName": "学生1935084t",
      "userId": "12227631716568337195"
     },
     "user_tz": -540
    },
    "id": "CjJD_y4w-P7R"
   },
   "outputs": [],
   "source": [
    "def measureHeatPlot(b0,b1,b2,b3,rl):\n",
    "  plt.figure(figsize=(1*10,1*10))\n",
    "  plt.subplot(1,4,1)\n",
    "  sns.heatmap(b0[2][:,:])\n",
    "  plt.subplot(1,4,2)\n",
    "  sns.heatmap(b1[2][:,:])\n",
    "  plt.subplot(1,4,3)\n",
    "  sns.heatmap(b2[2][:,:])\n",
    "  plt.subplot(1,4,4)\n",
    "  sns.heatmap(b3[2][:,:])"
   ]
  },
  {
   "cell_type": "code",
   "execution_count": 19,
   "metadata": {
    "executionInfo": {
     "elapsed": 10,
     "status": "ok",
     "timestamp": 1672373835874,
     "user": {
      "displayName": "学生1935084t",
      "userId": "12227631716568337195"
     },
     "user_tz": -540
    },
    "id": "NBqYCybg-gWu"
   },
   "outputs": [],
   "source": [
    "def measureBarPlot(b0,b1,b2,b3,rl):\n",
    "  plt.figure(figsize=(1*10,1*10))\n",
    "  plt.subplot(1,4,1)\n",
    "  sns.barplot(data=b0[2])\n",
    "  plt.subplot(1,4,2)\n",
    "  sns.barplot(data=b1[2])\n",
    "  plt.subplot(1,4,3)\n",
    "  sns.barplot(data=b2[2])\n",
    "  plt.subplot(1,4,4)\n",
    "  sns.barplot(data=b3[2])"
   ]
  },
  {
   "cell_type": "code",
   "execution_count": 20,
   "metadata": {
    "executionInfo": {
     "elapsed": 9,
     "status": "ok",
     "timestamp": 1672373835874,
     "user": {
      "displayName": "学生1935084t",
      "userId": "12227631716568337195"
     },
     "user_tz": -540
    },
    "id": "n6seKbVtDsns"
   },
   "outputs": [],
   "source": [
    "def coreHeatMap(a0,a1,a2,a3,rl):\n",
    "  n=rl[2]\n",
    "  for m in range(0,rl[2]):\n",
    "    #heatfacpltracwiden(b0,b1,b2,b3,num,rl[1])\n",
    "    plt.figure(figsize=(n*10,n*10))\n",
    "    plt.subplot(n,4,m*4+1)\n",
    "    sns.heatmap(a0[:,:,m],vmin=0, vmax=1)\n",
    "    plt.subplot(n,4,m*4+2)\n",
    "    sns.heatmap(a1[:,:,m],vmin=0, vmax=1)\n",
    "    plt.subplot(n,4,m*4+3)\n",
    "    sns.heatmap(a2[:,:,m],vmin=0, vmax=1)\n",
    "    plt.subplot(n,4,m*4+4)\n",
    "    sns.heatmap(a3[:,:,m],vmin=0, vmax=1)"
   ]
  },
  {
   "cell_type": "code",
   "execution_count": 21,
   "metadata": {
    "executionInfo": {
     "elapsed": 9,
     "status": "ok",
     "timestamp": 1672373835875,
     "user": {
      "displayName": "学生1935084t",
      "userId": "12227631716568337195"
     },
     "user_tz": -540
    },
    "id": "xA4hfIjOLoyl"
   },
   "outputs": [],
   "source": [
    "def allPlot(a,b,rl):\n",
    "  plt.subplot(2,3,1)\n",
    "  sns.heatmap(b[0][:,:])\n",
    "  plt.subplot(2,3,2)\n",
    "  sns.heatmap(b[1][:,:])\n",
    "  plt.subplot(2,3,3)\n",
    "  sns.heatmap(b[2][:,:])\n",
    "  for m in range(0,rl[2]):\n",
    "    plt.subplot(2,3,m+4)\n",
    "    sns.heatmap(a[:,:,m])"
   ]
  },
  {
   "cell_type": "code",
   "execution_count": 22,
   "metadata": {
    "executionInfo": {
     "elapsed": 8,
     "status": "ok",
     "timestamp": 1672373835875,
     "user": {
      "displayName": "学生1935084t",
      "userId": "12227631716568337195"
     },
     "user_tz": -540
    },
    "id": "JNNPJqNw9LFQ"
   },
   "outputs": [],
   "source": [
    "def spaceHeatDif(t0,t1,t2,t3,m,n):\n",
    "  plt.figure(figsize=(n*10,n*10))\n",
    "  a=t0[1][:,m].T.reshape(36,24)\n",
    "  b=t1[1][:,m].T.reshape(36,24)\n",
    "  c=t2[1][:,m].T.reshape(36,24)\n",
    "  d=t3[1][:,m].T.reshape(36,24)\n",
    "  ab=abs(a-b)\n",
    "  ac=abs(a-c)\n",
    "  bc=abs(b-c)\n",
    "  ad=abs(a-d)\n",
    "  bd=abs(b-d)\n",
    "  cd=abs(c-d)\n",
    "\n",
    "  plt.subplot(n,6,m*6+1)\n",
    "  print(\"01\")\n",
    "  sns.heatmap(ab,vmin=0, vmax=1)\n",
    "  plt.subplot(n,6,m*6+2)\n",
    "  print(\"02\")\n",
    "  sns.heatmap(ac,vmin=0, vmax=1)\n",
    "  plt.subplot(n,6,m*6+3)\n",
    "  print(\"12\")\n",
    "  sns.heatmap(bc,vmin=0, vmax=1)\n",
    "  plt.subplot(n,6,m*6+4)\n",
    "  print(\"0a\")\n",
    "  sns.heatmap(ad,vmin=0, vmax=1)\n",
    "  plt.subplot(n,6,m*6+5)\n",
    "  print(\"1a\")\n",
    "  sns.heatmap(bd,vmin=0, vmax=1)\n",
    "  plt.subplot(n,6,m*6+6)\n",
    "  print(\"2a\")\n",
    "  sns.heatmap(cd,vmin=0, vmax=1)\n",
    "  print(\"誤差\")\n",
    "  print(\"01\")\n",
    "  print(ab.sum())\n",
    "  print(\"02\")\n",
    "  print(ac.sum())\n",
    "  print(\"12\")\n",
    "  print(bc.sum())\n",
    "  print(\"0a\")\n",
    "  print(ad.sum())\n",
    "  print(\"1a\")\n",
    "  print(bd.sum())\n",
    "  print(\"2a\")\n",
    "  print(cd.sum()) "
   ]
  },
  {
   "cell_type": "code",
   "execution_count": 23,
   "metadata": {
    "executionInfo": {
     "elapsed": 9,
     "status": "ok",
     "timestamp": 1672373835876,
     "user": {
      "displayName": "学生1935084t",
      "userId": "12227631716568337195"
     },
     "user_tz": -540
    },
    "id": "f2D28HB4B1H7"
   },
   "outputs": [],
   "source": [
    "def spaceRowHeatDif(t0,t1,t2,t3):\n",
    "  plt.figure(figsize=(1*10,1*10))\n",
    "  a=t0[1][:,:]\n",
    "  b=t1[1][:,:]\n",
    "  c=t2[1][:,:]\n",
    "  d=t3[1][:,:]\n",
    "  ab=abs(a-b)\n",
    "  ac=abs(a-c)\n",
    "  bc=abs(b-c)\n",
    "  ad=abs(a-d)\n",
    "  bd=abs(b-d)\n",
    "  cd=abs(c-d)\n",
    "\n",
    "  plt.subplot(1,6,1)\n",
    "  print(\"01\")\n",
    "  sns.heatmap(ab,vmin=0, vmax=1)\n",
    "  plt.subplot(1,6,2)\n",
    "  print(\"02\")\n",
    "  sns.heatmap(ac,vmin=0, vmax=1)\n",
    "  plt.subplot(1,6,3)\n",
    "  print(\"12\")\n",
    "  sns.heatmap(bc,vmin=0, vmax=1)\n",
    "  plt.subplot(1,6,4)\n",
    "  print(\"0a\")\n",
    "  sns.heatmap(ad,vmin=0, vmax=1)\n",
    "  plt.subplot(1,6,5)\n",
    "  print(\"1a\")\n",
    "  sns.heatmap(bd,vmin=0, vmax=1)\n",
    "  plt.subplot(1,6,6)\n",
    "  print(\"2a\")\n",
    "  sns.heatmap(cd,vmin=0, vmax=1)\n",
    "  print(\"誤差\")\n",
    "  print(\"01\")\n",
    "  print(ab.sum())\n",
    "  print(\"02\")\n",
    "  print(ac.sum())\n",
    "  print(\"12\")\n",
    "  print(bc.sum())\n",
    "  print(\"0a\")\n",
    "  print(ad.sum())\n",
    "  print(\"1a\")\n",
    "  print(bd.sum())\n",
    "  print(\"2a\")\n",
    "  print(cd.sum()) "
   ]
  },
  {
   "cell_type": "code",
   "execution_count": 24,
   "metadata": {
    "executionInfo": {
     "elapsed": 8,
     "status": "ok",
     "timestamp": 1672373835876,
     "user": {
      "displayName": "学生1935084t",
      "userId": "12227631716568337195"
     },
     "user_tz": -540
    },
    "id": "mBn3XNiciOZJ"
   },
   "outputs": [],
   "source": [
    "def plotFream(t0,t1,t2,t3,rl):\n",
    "  tt0,u0=ntd(t0,rl)\n",
    "  a0,b0=non_negative_tucker_core(t0,rl,tt0)\n",
    "  a1,b1=non_negative_tucker_core(t1,rl,tt0)\n",
    "  a2,b2=non_negative_tucker_core(t2,rl,tt0)\n",
    "  a3,b3=non_negative_tucker_core(t3,rl,tt0)\n",
    "    \n",
    "  #spaceHeatPlot(b0,b1,b2,b3,rl)\n",
    "\n",
    "  #plt.subplot(2,1,1)\n",
    "  plt.subplot2grid((2, 2), (0, 0), colspan=2)\n",
    "  spaceHeatPlot(b0,b1,b2,b3,rl)\n",
    "  plt.title(\"spaceHeatPlot\")\n",
    "  #plt.subplot(2,1,2)\n",
    "  plt.subplot2grid((2, 2), (1, 0), colspan=2)\n",
    "  timeHeatPlot(b0,b1,b2,b3,rl)\n",
    "  plt.title(\"timeHeatPlot\")\n",
    "  \"\"\"\n",
    "  timeLinePlot(b0,b1,b2,b3,rl)\n",
    "  plt.title(\"timeLinePlot\")\n",
    "  measureHeatPlot(b0,b1,b2,b3,rl)\n",
    "  plt.title(\"measureHeatPlot\")\n",
    "  measureBarPlot(b0,b1,b2,b3,rl)  \n",
    "  plt.title(\"measureBarPlot\")\n",
    "  coreHeatMap(a0,a1,a2,a3,rl)\n",
    "  plt.title(\"coreHeatMap\")\n",
    "  allPlot(a0,b0,rl)\n",
    "  plt.title(\"allPlot\")\n",
    "  \n",
    "  \"\"\"\n",
    "  \"\"\"\n",
    "  n=rl[1]\n",
    "  for m in range(0,rl[1]):\n",
    "    spaceHeatDif(b0,b1,b2,b3,m,n)\n",
    "  \"\"\"\n",
    "  #spaceRowHeatDif(b0,b1,b2,b3)"
   ]
  },
  {
   "cell_type": "markdown",
   "metadata": {
    "id": "hdGNXcOH_oxE"
   },
   "source": [
    "## 実験"
   ]
  },
  {
   "cell_type": "markdown",
   "metadata": {
    "id": "tuduxthQevlZ"
   },
   "source": [
    "変数の固定　測定値の固定をすることでの、時間軸と空間軸の比較、ラック毎の差を見た後、その差を生み出している原因の特定のための元データを戻って比較"
   ]
  },
  {
   "cell_type": "code",
   "execution_count": 25,
   "metadata": {
    "executionInfo": {
     "elapsed": 7,
     "status": "ok",
     "timestamp": 1672373835876,
     "user": {
      "displayName": "学生1935084t",
      "userId": "12227631716568337195"
     },
     "user_tz": -540
    },
    "id": "zd_aRRSQGV_7"
   },
   "outputs": [],
   "source": [
    "rank_list=[4,4,4]\n",
    "#rank_list=[10,10,2]"
   ]
  },
  {
   "cell_type": "code",
   "execution_count": 26,
   "metadata": {
    "executionInfo": {
     "elapsed": 8,
     "status": "ok",
     "timestamp": 1672373835877,
     "user": {
      "displayName": "学生1935084t",
      "userId": "12227631716568337195"
     },
     "user_tz": -540
    },
    "id": "Ev9WS14KjJbV"
   },
   "outputs": [],
   "source": [
    "#plotFream(tensor_0,tensor_1,tensor_2,tensor_all,rank_list)"
   ]
  },
  {
   "cell_type": "markdown",
   "metadata": {
    "id": "z71U506jfaBk"
   },
   "source": [
    "01の820番くらいが差が生まれているからその部分を比較するため、元データの比較と並び替えが必要"
   ]
  },
  {
   "cell_type": "code",
   "execution_count": 27,
   "metadata": {
    "colab": {
     "base_uri": "https://localhost:8080/"
    },
    "executionInfo": {
     "elapsed": 41210,
     "status": "ok",
     "timestamp": 1672373877080,
     "user": {
      "displayName": "学生1935084t",
      "userId": "12227631716568337195"
     },
     "user_tz": -540
    },
    "id": "pzWP3PC0_Wwn",
    "outputId": "5d7bf73e-f397-4a5c-fd82-3910d880a856"
   },
   "outputs": [
    {
     "name": "stdout",
     "output_type": "stream",
     "text": [
      "rec_errors\n",
      "[0.849467496482033, 0.8091155932996459, 0.7981031389296822, 0.7921048049986346, 0.7877168852027634, 0.7842515556381822, 0.7816063062370291, 0.7797073704267794, 0.7783357189137314, 0.7773557779512551, 0.7766521996296614, 0.7761419304015948, 0.775764266055421, 0.7754763265359694, 0.7752421345048658, 0.775040699485946, 0.7748577990043328, 0.7746791118115178, 0.7744794537272955, 0.7742315387446843, 0.7739191922180416, 0.7734603902444008, 0.772886548084341, 0.7723422350683534, 0.771878094347031, 0.7714537780802792, 0.7710521670505385, 0.7706663746560477, 0.7702691781631715, 0.7698733590161648, 0.7695050959754608, 0.7691314801236282, 0.7687456299667522, 0.7683436090295397, 0.7678190097350909, 0.767198997415214, 0.7666566377485653, 0.7661020359498734, 0.7654376966680703, 0.7648111898921752, 0.7640697114972531, 0.7633819013321607, 0.762746932880703, 0.7621930069182791, 0.7616106065695757, 0.7610529120217938, 0.760441714728038, 0.7598671165078164, 0.759449689343146, 0.7590557461543973, 0.7585578593692865, 0.7582488268959019, 0.7580581793722847, 0.7577841138098785, 0.7575481489189521, 0.757242440569873, 0.7571022885051824, 0.7568747013007227, 0.7567170022643147, 0.7565814266399135, 0.756344356624529, 0.7560138898332446, 0.7559068861037016, 0.7558405020593839, 0.7557478063527945, 0.7556616245095258, 0.7555624706561419, 0.7554813976807523, 0.7553565393751824, 0.755149662818862, 0.7550305012078067, 0.7549689169407477, 0.7548944404180681, 0.7547426429140638, 0.7546470596133711, 0.7544136520079036, 0.7542718044301284, 0.7542294280939696, 0.7541596286805591, 0.7539176454243985, 0.7537624786056432, 0.7537042203627322, 0.7536506258452779, 0.7534805155356906, 0.7533025647846865, 0.7532297159375526, 0.7530478395485964, 0.7529003410242482, 0.752820847340716, 0.7527829531061341, 0.7527316883899667, 0.7526594051560039, 0.752617133938353, 0.7525007570995216, 0.7523783790342398, 0.7521767576710742, 0.752036913173691, 0.7519600269502896, 0.7518817495693728, 0.7517810974079445, 0.7516963714954519, 0.7516402929462858]\n",
      "rec_errors\n",
      "[0.80991752810755, 0.7849405189115186, 0.7790771849176782, 0.7749442560945033, 0.7721022818480578, 0.7700655723028049, 0.7655090869392108, 0.7604130763630825, 0.7573796334586964, 0.7542314331554482, 0.7513098019755854, 0.7491280185168738, 0.747255373308718, 0.7446870392635563, 0.7421620517016813, 0.7396243737348447, 0.7376030566284323, 0.735850331500954, 0.7350833130957888, 0.7347651131557631, 0.7344987624341329, 0.7342635732842003, 0.7341021294940506, 0.7339130765951152, 0.7338104050356022, 0.733642235667713, 0.7335391990835262, 0.733481431330618, 0.7334372359721879, 0.7333946293179335, 0.7333470727897122, 0.7333146965820422, 0.7332616125393775, 0.7332141075124647, 0.7331784446172367, 0.7331563285507635, 0.7331298711560291, 0.7331022038698586, 0.733080916451286, 0.7330587944490595, 0.7330332365105247, 0.7330136434541592, 0.732994617372198, 0.7329756082560372, 0.7329475598184468, 0.732923757893093, 0.7329035328270582, 0.7328832302493189, 0.732862570277287, 0.7328420758723473, 0.7328156620919976, 0.7327932978527661, 0.7327724093561744, 0.7327476012284294, 0.7327264542582747, 0.7327047925453363, 0.7326839600551451, 0.7326627563332161, 0.732642276663511, 0.7326219871704053, 0.7326018971574846, 0.7325820520917578, 0.7325612186372399, 0.7325392390889292, 0.7325199981882853, 0.7324993251771778, 0.7324807488007888, 0.7324625469166879, 0.7324446306088249, 0.7324269045679562, 0.732409290004089, 0.7323917615605966, 0.732374387928317, 0.7323573337745124, 0.7323407911877117, 0.7323248837026667, 0.732309629369678, 0.7322949726866014, 0.7322808527618038, 0.7322672161818741, 0.7322540215806722, 0.732239984053518, 0.7322274464747223, 0.7322152767090575, 0.7322034662616203, 0.7321920022578805, 0.7321808741359991, 0.7321700715525405, 0.7321595842144187, 0.7321494017100395, 0.7321395132217675, 0.7321299069128094, 0.7321205643071618, 0.7321114700952419, 0.7321025953735164, 0.7320938912617277, 0.7320848922191489, 0.7320761234423595, 0.7320668765350193, 0.7320564726598782, 0.7320437684572931, 0.732025483204109]\n",
      "rec_errors\n",
      "[0.8289899031702767, 0.7923354543208466, 0.7876440814183538, 0.786061879338036, 0.7850331413757808, 0.7840427945164191, 0.7830274889073104, 0.7818990166862163, 0.780529597502414, 0.7793215016623497, 0.7781095097913256, 0.776870636115457, 0.7756325249414452, 0.7743963991471193, 0.7732013941645459, 0.7720020932929518, 0.7708751970762509, 0.7698021223757949, 0.7687434074428349, 0.767471680607704, 0.7664049900841983, 0.7651618670311029, 0.7637263430960439, 0.7626990204385661, 0.761680218899208, 0.7602921205692416, 0.7584790312147329, 0.7565839973311566, 0.7554340977229972, 0.7549054046833069, 0.7544263820477428, 0.7539457671368787, 0.7535489643673605, 0.753189669653103, 0.7528781340848495, 0.7525261371835671, 0.7522875562591573, 0.7518631283996977, 0.7515832050293717, 0.7513049749294258, 0.7511711927706045, 0.7510401092197221, 0.7509424093195866, 0.7508276420240416, 0.7507225078866809, 0.7505933288350316, 0.7504467269459943, 0.7501927270464304, 0.7499398659605463, 0.7496955164468767, 0.7494457839669204, 0.749191138573772, 0.7488833567118915, 0.7485226942199379, 0.7480599105168074, 0.7474460612733108, 0.7466646985041266, 0.7458312947088855, 0.7449349354701328, 0.7439950520185218, 0.7432148337090165, 0.7426106415857915, 0.7421665675740375, 0.7416910812936516, 0.741370890839128, 0.7409998501203245, 0.7406792845199988, 0.7404083931476063, 0.7401881142661406, 0.7399751881147137, 0.7398354056053613, 0.7397573753375344, 0.7397147375650013, 0.7396501235217536, 0.7396101010916242, 0.7395859362640664, 0.739365327372055, 0.7392867029878402, 0.7391489962989845, 0.7391076935576912, 0.7390191988524037, 0.7390034055073839, 0.7389885828315188, 0.7389283694885674, 0.7388362337946468, 0.7388044038448764, 0.7385962461416056, 0.7385254556158471, 0.7384785630912166, 0.7384644367443083, 0.7383949243135701, 0.7383621511711052, 0.7383345109935726, 0.7382547298415949, 0.7382406523993449, 0.7382171001355627, 0.7382038893331472, 0.7381762688341609, 0.7381431733188578, 0.7380984232708309, 0.7380819314675442, 0.7380563639027605]\n",
      "rec_errors\n",
      "[0.8776234636520276, 0.8383265630394354, 0.8266481686719305, 0.8203841674876378, 0.816618529226691, 0.8132853657769112, 0.8101496867752983, 0.807361806912542, 0.8050175319902607, 0.8030688709130572, 0.801615131756024, 0.8007202051837154, 0.8000876659591005, 0.7996249273340004, 0.7992461706815103, 0.7988280500892772, 0.7984001104383408, 0.7980142736754987, 0.7977117753741054, 0.7973827446866413, 0.7970176747265775, 0.7965863306931853, 0.7960415294928709, 0.7952973380074828, 0.7944177833971928, 0.7937672193439296, 0.7933592657500536, 0.7929585532698029, 0.7923099159704039, 0.7911456043693798, 0.7896616121338313, 0.7883633819788066, 0.7875844927629901, 0.7871178535519063, 0.7867744353706406, 0.7865425031742568, 0.7863801734311183, 0.786253839342246, 0.7861379663981247, 0.786040096717746, 0.7859577469697447, 0.7858375377291749, 0.7857516499357716, 0.7856740552810486, 0.7856021670218498, 0.7855461428225642, 0.7854705587850336, 0.7853752871482188, 0.7853015181271171, 0.7852451123221188, 0.7851832800473248, 0.7851360339606496, 0.7850865003301135, 0.7850433915406666, 0.7849876274321427, 0.784944797234614, 0.7849085473861334, 0.7848772563938081, 0.7848474681851177, 0.784815994050558, 0.7847858310420304, 0.7847590350414243, 0.7847347685900079, 0.7847109520943737, 0.7846864181813448, 0.7846587978360025, 0.7846225108394717, 0.7845986525048361, 0.7845473106762471, 0.784519348261445, 0.7844906101407385, 0.7844605088346912, 0.7844340775193438, 0.7843987289172512, 0.7843648115716202, 0.7843375875883385, 0.7843088033618871, 0.7842787470248923, 0.7842498161042445, 0.7842153507401264, 0.7841905239146747, 0.784162564724512, 0.784132779002705, 0.7841108731384147, 0.7840859796400047, 0.7840573510053775, 0.7840141307205934, 0.7839708680185137, 0.7839361160949508, 0.7839164622935134, 0.7838997053940366, 0.7838842327838949, 0.7838692837047255, 0.7838542262986807, 0.7838382974727943, 0.7838170746674121, 0.7837994218461097, 0.7837851033144453, 0.7837662723184939, 0.7837542554905678, 0.7837375589836333, 0.7837234052379191]\n",
      "3.9058273809999946\n"
     ]
    }
   ],
   "source": [
    "#tt0,u0=ntd(tensor_0,rank_list)\n",
    "tt0=np.zeros((4,4,4))\n",
    "tt0[0,0,0]=1\n",
    "tt0[1,1,1]=1\n",
    "tt0[2,2,2]=1\n",
    "tt0[3,3,3]=1\n",
    "\n",
    "import time\n",
    " \n",
    "# 開始\n",
    "start_time = time.perf_counter()\n",
    " \n",
    "# ダミー処理\n",
    "a0,b0=non_negative_tucker_core(tensor_0,rank_list,tt0)\n",
    "a1,b1=non_negative_tucker_core(tensor_1,rank_list,tt0)\n",
    "a2,b2=non_negative_tucker_core(tensor_2,rank_list,tt0)\n",
    "# 修了\n",
    "end_time = time.perf_counter()\n",
    " \n",
    "# 経過時間を出力(秒)\n",
    "elapsed_time0 = end_time - start_time\n",
    "\n",
    "\n",
    "# 開始\n",
    "start_time = time.perf_counter()\n",
    " \n",
    "# ダミー処理\n",
    "a3,b3=non_negative_tucker_core(tensor_all,rank_list,tt0)\n",
    "# 修了\n",
    "end_time = time.perf_counter()\n",
    " \n",
    "# 経過時間を出力(秒)\n",
    "elapsed_time1 = end_time - start_time\n",
    "print(elapsed_time1)"
   ]
  },
  {
   "cell_type": "code",
   "execution_count": 28,
   "metadata": {},
   "outputs": [
    {
     "name": "stdout",
     "output_type": "stream",
     "text": [
      "3.198234139999954\n",
      "3.9058273809999946\n"
     ]
    }
   ],
   "source": [
    "print(elapsed_time0)\n",
    "print(elapsed_time1)"
   ]
  },
  {
   "cell_type": "code",
   "execution_count": 29,
   "metadata": {},
   "outputs": [],
   "source": [
    "c1=np.zeros((64))\n",
    "c2=np.zeros((64))\n",
    "c3=np.zeros((64))\n",
    "c4=np.zeros((64))\n",
    "count=0\n",
    "mem=[]\n",
    "for i in range(0,4):\n",
    "  for j in range(0,4):\n",
    "    for k in range(0,4):\n",
    "      mem.append(str(i)+str(j)+str(k))\n",
    "      c1[count]=a0[i,j,k]\n",
    "      c2[count]=a1[i,j,k]\n",
    "      c3[count]=a2[i,j,k]\n",
    "      c4[count]=a3[i,j,k] \n",
    "      count=count+1\n"
   ]
  },
  {
   "cell_type": "code",
   "execution_count": 30,
   "metadata": {
    "executionInfo": {
     "elapsed": 22,
     "status": "ok",
     "timestamp": 1672373877081,
     "user": {
      "displayName": "学生1935084t",
      "userId": "12227631716568337195"
     },
     "user_tz": -540
    },
    "id": "NLnEVye1gkZH"
   },
   "outputs": [],
   "source": [
    "def spaceRowHeatDifOut(t0,t1):\n",
    "  plt.figure(figsize=(1*10,1*10))\n",
    "  a=t0[1][:,:]\n",
    "  b=t1[1][:,:]\n",
    "  ab=abs(a-b)\n",
    "\n",
    "  print(\"01\")\n",
    "  sns.heatmap(ab,vmin=0, vmax=1)\n",
    "\n",
    "  print(\"誤差\")\n",
    "  print(\"01\")\n",
    "  print(ab.sum())\n",
    "  return ab"
   ]
  },
  {
   "cell_type": "code",
   "execution_count": 31,
   "metadata": {
    "colab": {
     "base_uri": "https://localhost:8080/",
     "height": 1000
    },
    "executionInfo": {
     "elapsed": 6387,
     "status": "ok",
     "timestamp": 1672373883448,
     "user": {
      "displayName": "学生1935084t",
      "userId": "12227631716568337195"
     },
     "user_tz": -540
    },
    "id": "6Yi-5keU_9X0",
    "outputId": "7abaeef7-5467-451a-97d4-78bd3435d7ac"
   },
   "outputs": [
    {
     "name": "stdout",
     "output_type": "stream",
     "text": [
      "01\n",
      "誤差\n",
      "01\n",
      "152.07126447564895\n",
      "01\n",
      "誤差\n",
      "01\n",
      "158.22150025799294\n",
      "01\n",
      "誤差\n",
      "01\n",
      "131.98830727743214\n",
      "01\n",
      "誤差\n",
      "01\n",
      "143.51705136084993\n",
      "01\n",
      "誤差\n",
      "01\n",
      "199.78368399645882\n",
      "01\n",
      "誤差\n",
      "01\n",
      "138.1780012654171\n"
     ]
    },
    {
     "data": {
      "image/png": "[encoded data removed]",
      "text/plain": [
       "<Figure size 1000x1000 with 2 Axes>"
      ]
     },
     "metadata": {},
     "output_type": "display_data"
    },
    {
     "data": {
      "image/png": "[encoded data removed]",
      "text/plain": [
       "<Figure size 1000x1000 with 2 Axes>"
      ]
     },
     "metadata": {},
     "output_type": "display_data"
    },
    {
     "data": {
      "image/png": "[encoded data removed]",
      "text/plain": [
       "<Figure size 1000x1000 with 2 Axes>"
      ]
     },
     "metadata": {},
     "output_type": "display_data"
    },
    {
     "data": {
      "image/png": "[encoded data removed]",
      "text/plain": [
       "<Figure size 1000x1000 with 2 Axes>"
      ]
     },
     "metadata": {},
     "output_type": "display_data"
    },
    {
     "data": {
      "image/png": "[encoded data removed]",
      "text/plain": [
       "<Figure size 1000x1000 with 2 Axes>"
      ]
     },
     "metadata": {},
     "output_type": "display_data"
    },
    {
     "data": {
      "image/png": "[encoded data removed]",
      "text/plain": [
       "<Figure size 1000x1000 with 2 Axes>"
      ]
     },
     "metadata": {},
     "output_type": "display_data"
    }
   ],
   "source": [
    "a1=spaceRowHeatDifOut(b0,b1)\n",
    "a2=spaceRowHeatDifOut(b0,b2)\n",
    "a3=spaceRowHeatDifOut(b0,b3)\n",
    "a4=spaceRowHeatDifOut(b1,b2)\n",
    "a5=spaceRowHeatDifOut(b1,b3)\n",
    "a6=spaceRowHeatDifOut(b2,b3)"
   ]
  },
  {
   "cell_type": "code",
   "execution_count": 32,
   "metadata": {
    "colab": {
     "base_uri": "https://localhost:8080/"
    },
    "executionInfo": {
     "elapsed": 16,
     "status": "ok",
     "timestamp": 1672373883449,
     "user": {
      "displayName": "学生1935084t",
      "userId": "12227631716568337195"
     },
     "user_tz": -540
    },
    "id": "jSFaHvXMAYuy",
    "outputId": "f127370a-bf25-4faf-d667-d24d7097f628"
   },
   "outputs": [
    {
     "data": {
      "text/plain": [
       "(864, 4, 6)"
      ]
     },
     "execution_count": 32,
     "metadata": {},
     "output_type": "execute_result"
    }
   ],
   "source": [
    "# 二次元配列を3次元方向に結合\n",
    "diff_array_3d = np.stack([a1,a2,a3,a4,a5,a6], axis=2)\n",
    "# 形状確認\n",
    "diff_array_3d.shape"
   ]
  },
  {
   "cell_type": "code",
   "execution_count": 33,
   "metadata": {
    "executionInfo": {
     "elapsed": 10,
     "status": "ok",
     "timestamp": 1672373883450,
     "user": {
      "displayName": "学生1935084t",
      "userId": "12227631716568337195"
     },
     "user_tz": -540
    },
    "id": "evOJe9usBKw1"
   },
   "outputs": [],
   "source": [
    "rank_list=[4,4,4]"
   ]
  },
  {
   "cell_type": "code",
   "execution_count": 34,
   "metadata": {
    "executionInfo": {
     "elapsed": 506,
     "status": "ok",
     "timestamp": 1672373883947,
     "user": {
      "displayName": "学生1935084t",
      "userId": "12227631716568337195"
     },
     "user_tz": -540
    },
    "id": "xEhUy18nA-7m"
   },
   "outputs": [],
   "source": [
    "cda3,uda3=ntd(diff_array_3d,rank_list)"
   ]
  },
  {
   "cell_type": "code",
   "execution_count": 35,
   "metadata": {
    "colab": {
     "base_uri": "https://localhost:8080/",
     "height": 282
    },
    "executionInfo": {
     "elapsed": 483,
     "status": "ok",
     "timestamp": 1672373884419,
     "user": {
      "displayName": "学生1935084t",
      "userId": "12227631716568337195"
     },
     "user_tz": -540
    },
    "id": "uYW2eDkZBz5B",
    "outputId": "79e0ca07-b3f5-43c0-8856-5dc02dc03851"
   },
   "outputs": [
    {
     "data": {
      "text/plain": [
       "<AxesSubplot:>"
      ]
     },
     "execution_count": 35,
     "metadata": {},
     "output_type": "execute_result"
    },
    {
     "data": {
      "image/png": "[encoded data removed]",
      "text/plain": [
       "<Figure size 640x480 with 2 Axes>"
      ]
     },
     "metadata": {},
     "output_type": "display_data"
    }
   ],
   "source": [
    "d=uda3[0][:,0].T.reshape(36,24).T\n",
    "#sns.heatmap(d,vmin=0, vmax=1)\n",
    "sns.heatmap(d)"
   ]
  },
  {
   "cell_type": "code",
   "execution_count": 36,
   "metadata": {
    "colab": {
     "base_uri": "https://localhost:8080/",
     "height": 265
    },
    "executionInfo": {
     "elapsed": 408,
     "status": "ok",
     "timestamp": 1672373884823,
     "user": {
      "displayName": "学生1935084t",
      "userId": "12227631716568337195"
     },
     "user_tz": -540
    },
    "id": "FgsnmS-zCjqm",
    "outputId": "373b0488-18a9-4413-dfbc-ec0c1ba53cbb"
   },
   "outputs": [
    {
     "data": {
      "image/png": "[encoded data removed]",
      "text/plain": [
       "<Figure size 640x480 with 1 Axes>"
      ]
     },
     "metadata": {},
     "output_type": "display_data"
    }
   ],
   "source": [
    "left=range(6)\n",
    "height1=uda3[2][:,1]\n",
    "p1 = plt.bar(left, height1, linewidth=2)"
   ]
  },
  {
   "cell_type": "code",
   "execution_count": 37,
   "metadata": {
    "colab": {
     "base_uri": "https://localhost:8080/",
     "height": 330
    },
    "executionInfo": {
     "elapsed": 2515,
     "status": "ok",
     "timestamp": 1672373887334,
     "user": {
      "displayName": "学生1935084t",
      "userId": "12227631716568337195"
     },
     "user_tz": -540
    },
    "id": "nTx4DLu_GHxk",
    "outputId": "c709df0b-52f5-4322-b24e-f5f729792a7f"
   },
   "outputs": [
    {
     "data": {
      "image/png": "[encoded data removed]",
      "text/plain": [
       "<Figure size 4000x2000 with 1 Axes>"
      ]
     },
     "metadata": {},
     "output_type": "display_data"
    }
   ],
   "source": [
    "c=np.zeros((64))\n",
    "count=0\n",
    "mem=[]\n",
    "for i in range(0,4):\n",
    "  for j in range(0,4):\n",
    "    for k in range(0,4):\n",
    "      mem.append(str(i)+str(j)+str(k))\n",
    "      c[count]=cda3[i,j,k]\n",
    "      count=count+1\n",
    "\n",
    "plt.figure(figsize=(4*10,2*10))\n",
    "left=range(64)\n",
    "height1=c\n",
    "plt.xticks(left, mem)\n",
    "p1 = plt.bar(left, height1, linewidth=2)"
   ]
  },
  {
   "cell_type": "markdown",
   "metadata": {
    "id": "BudiSrewWcg_"
   },
   "source": [
    "上のコアテンソルのグラフから、他の軸の因子ごとの特徴を作っているところをうまく探していき、どこが大事か見ていく"
   ]
  },
  {
   "cell_type": "markdown",
   "metadata": {
    "id": "g9v1VZ0wWotb"
   },
   "source": [
    "000,122,011この３つが上から3番までこの３つから調査をしていく"
   ]
  },
  {
   "cell_type": "code",
   "execution_count": 38,
   "metadata": {
    "colab": {
     "base_uri": "https://localhost:8080/",
     "height": 704
    },
    "executionInfo": {
     "elapsed": 16206,
     "status": "ok",
     "timestamp": 1672373903537,
     "user": {
      "displayName": "学生1935084t",
      "userId": "12227631716568337195"
     },
     "user_tz": -540
    },
    "id": "GnVoNaAxDeTK",
    "outputId": "51ba8b28-71c9-4110-b019-e1618ed06620"
   },
   "outputs": [
    {
     "data": {
      "text/plain": [
       "<matplotlib.legend.Legend at 0x7fb9fa8c1640>"
      ]
     },
     "execution_count": 38,
     "metadata": {},
     "output_type": "execute_result"
    },
    {
     "data": {
      "image/png": "[encoded data removed]",
      "text/plain": [
       "<Figure size 4000x2000 with 1 Axes>"
      ]
     },
     "metadata": {},
     "output_type": "display_data"
    }
   ],
   "source": [
    "left=range(864)\n",
    "plt.figure(figsize=(4*10,2*10))\n",
    "height1=uda3[0][:,0]\n",
    "height2=uda3[0][:,1]\n",
    "height3=uda3[0][:,2]\n",
    "height4=uda3[0][:,3]\n",
    "plt.subplot(1,2,2)\n",
    "p1 = plt.bar(left, height1, linewidth=2)\n",
    "p2 = plt.bar(left, height2, linewidth=2)\n",
    "p3 = plt.bar(left, height3, linewidth=2)\n",
    "p4 = plt.bar(left, height4, linewidth=2)\n",
    "plt.legend((p1[0], p2[0],p3[0], p4[0]), (\"Class 1\", \"Class 2\",\"Class 3\", \"Class 4\"), loc=4)"
   ]
  },
  {
   "cell_type": "code",
   "execution_count": 39,
   "metadata": {
    "colab": {
     "base_uri": "https://localhost:8080/"
    },
    "executionInfo": {
     "elapsed": 22,
     "status": "ok",
     "timestamp": 1672373903538,
     "user": {
      "displayName": "学生1935084t",
      "userId": "12227631716568337195"
     },
     "user_tz": -540
    },
    "id": "OhXFgMSfbO4s",
    "outputId": "ffef35f2-6c8c-4687-962c-4c46ff443e48"
   },
   "outputs": [
    {
     "name": "stdout",
     "output_type": "stream",
     "text": [
      "410\n"
     ]
    }
   ],
   "source": [
    "max_index = np.argmax(uda3[0][:,3])\n",
    "print(max_index)"
   ]
  },
  {
   "cell_type": "markdown",
   "metadata": {
    "id": "ApUavKV5aLXD"
   },
   "source": [
    "第一因子は２７３ 第二因子は551、第３因子565、第４因子410となっている。"
   ]
  },
  {
   "cell_type": "markdown",
   "metadata": {
    "id": "oT7ug2UzXACc"
   },
   "source": [
    "空間軸に関しては量が多すぎるため、要素ごとで上から見ていく"
   ]
  },
  {
   "cell_type": "code",
   "execution_count": 40,
   "metadata": {
    "colab": {
     "base_uri": "https://localhost:8080/",
     "height": 346
    },
    "executionInfo": {
     "elapsed": 1392,
     "status": "ok",
     "timestamp": 1672373904920,
     "user": {
      "displayName": "学生1935084t",
      "userId": "12227631716568337195"
     },
     "user_tz": -540
    },
    "id": "3jtLdNBnW0cU",
    "outputId": "d2a6376d-19ca-43a6-80b1-98438bb3b1dc"
   },
   "outputs": [
    {
     "data": {
      "text/plain": [
       "<matplotlib.legend.Legend at 0x7fb9f9a4ae80>"
      ]
     },
     "execution_count": 40,
     "metadata": {},
     "output_type": "execute_result"
    },
    {
     "data": {
      "image/png": "[encoded data removed]",
      "text/plain": [
       "<Figure size 4000x2000 with 1 Axes>"
      ]
     },
     "metadata": {},
     "output_type": "display_data"
    }
   ],
   "source": [
    "plt.figure(figsize=(4*10,2*10))\n",
    " \n",
    "# 各系列のデータを用意\n",
    "height1=uda3[1][:,0]\n",
    "height2=uda3[1][:,1]\n",
    "height3=uda3[1][:,2]\n",
    "height4=uda3[1][:,3]\n",
    "data = [height1, height2,height3,height4]\n",
    "\n",
    "x = np.arange(len(height1))\n",
    "\n",
    "labels = [\"1\", \"2\", \"3\", \"4\"]\n",
    "# マージンを設定\n",
    "margin = 0.2  #0 <margin< 1\n",
    "totoal_width = 1 - margin\n",
    " \n",
    "# 棒グラフをプロット\n",
    "for i, h in enumerate(data):\n",
    "  pos = x - totoal_width *( 1- (2*i+1)/len(data) )/2\n",
    "  plt.bar(pos, h, width = totoal_width/len(data))\n",
    " \n",
    "# ラベルの設定\n",
    "plt.xticks(x, labels)\n",
    "plt.legend((p1[0], p2[0],p3[0], p4[0]), (\"Class 1\", \"Class 2\",\"Class 3\", \"Class 4\"), loc=4)"
   ]
  },
  {
   "cell_type": "markdown",
   "metadata": {
    "id": "4kOdRwr-bWBs"
   },
   "source": [
    "因子のテンソル分解の結果より、重要なのは第一因子は2,第二因子は3、第三因子は4、第四因子は1が大事としっかり分かれている。"
   ]
  },
  {
   "cell_type": "code",
   "execution_count": 41,
   "metadata": {
    "colab": {
     "base_uri": "https://localhost:8080/",
     "height": 346
    },
    "executionInfo": {
     "elapsed": 1872,
     "status": "ok",
     "timestamp": 1672373906789,
     "user": {
      "displayName": "学生1935084t",
      "userId": "12227631716568337195"
     },
     "user_tz": -540
    },
    "id": "SHt3EVYvbxkt",
    "outputId": "3977e3f5-6122-4421-99bc-e7a9c02b6d93"
   },
   "outputs": [
    {
     "data": {
      "text/plain": [
       "<matplotlib.legend.Legend at 0x7fb9fe3732b0>"
      ]
     },
     "execution_count": 41,
     "metadata": {},
     "output_type": "execute_result"
    },
    {
     "data": {
      "image/png": "[encoded data removed]",
      "text/plain": [
       "<Figure size 4000x2000 with 1 Axes>"
      ]
     },
     "metadata": {},
     "output_type": "display_data"
    }
   ],
   "source": [
    "plt.figure(figsize=(4*10,2*10))\n",
    " \n",
    "# 各系列のデータを用意\n",
    "height1=uda3[2][:,0]\n",
    "height2=uda3[2][:,1]\n",
    "height3=uda3[2][:,2]\n",
    "height4=uda3[2][:,3]\n",
    "data = [height1, height2,height3,height4]\n",
    "\n",
    "x = np.arange(len(height1))\n",
    "\n",
    "labels = [\"01\", \"02\", \"03\", \"12\",\"13\",\"23\"]\n",
    "# マージンを設定\n",
    "margin = 0.2  #0 <margin< 1\n",
    "totoal_width = 1 - margin\n",
    " \n",
    "# 棒グラフをプロット\n",
    "for i, h in enumerate(data):\n",
    "  pos = x - totoal_width *( 1- (2*i+1)/len(data) )/2\n",
    "  plt.bar(pos, h, width = totoal_width/len(data))\n",
    " \n",
    "# ラベルの設定\n",
    "plt.xticks(x, labels)\n",
    "plt.legend((p1[0], p2[0],p3[0], p4[0]), (\"Class 1\", \"Class 2\",\"Class 3\", \"Class 4\"), loc=4)"
   ]
  },
  {
   "cell_type": "markdown",
   "metadata": {
    "id": "EYnfE0Vbcft0"
   },
   "source": [
    "第一因子は03、13,第二因子は12,第三因子は23,02、第四因子は01が大事となっている。"
   ]
  },
  {
   "cell_type": "markdown",
   "metadata": {
    "id": "l0Pjns7GdEqY"
   },
   "source": [
    "この後は空間の方も見て、コアテンソルと比較しながらどこが大事か見て、一個前のテンソルに戻り、次に時間軸と空間軸を見ながら、元データに戻り、分析する必要がある。"
   ]
  },
  {
   "cell_type": "markdown",
   "metadata": {
    "id": "ZtFHTnnpWlls"
   },
   "source": [
    "できるだけ絞るために一個前に戻った際に時間軸のデータを削減し、よりはっきりと違いがわかる部分を探し当てる必要がある。"
   ]
  },
  {
   "cell_type": "markdown",
   "metadata": {
    "id": "FWJtBitfZbwz"
   },
   "source": [
    "差をとった軸は第一因子は03、13,第二因子は12,第三因子は23,02、第四因子は01\n",
    "\n",
    "因子の軸、第一因子は2,第二因子は3、第三因子は4、第四因子は1\n",
    "\n",
    "空間軸は第一因子は２７３ 第二因子は551、第３因子565、第４因子410となっている。\n",
    "\n",
    "コアテンソルは000,122,011　軸順は1番目空間軸、2番目因子軸、3番目差軸\n",
    "\n"
   ]
  },
  {
   "cell_type": "markdown",
   "metadata": {
    "id": "2ypinXFjdJLi"
   },
   "source": [
    "よって上より空間軸273、因子2の差03にとても大きな差がある。\n",
    "次は、テンソル０、3のテンソル分解を行なって差だけでなく、範囲を縮めていく"
   ]
  },
  {
   "cell_type": "code",
   "execution_count": 42,
   "metadata": {},
   "outputs": [],
   "source": [
    "c=np.zeros((64))\n",
    "count=0\n",
    "mem=[]\n",
    "for i in range(0,4):\n",
    "  for j in range(0,4):\n",
    "    for k in range(0,4):\n",
    "      mem.append(str(i)+str(j)+str(k))\n",
    "      c[count]=cda3[i,j,k]\n",
    "      count=count+1\n"
   ]
  },
  {
   "cell_type": "code",
   "execution_count": 43,
   "metadata": {},
   "outputs": [
    {
     "name": "stdout",
     "output_type": "stream",
     "text": [
      "64\n",
      "<class 'str'>\n"
     ]
    }
   ],
   "source": [
    "print(len(mem))\n",
    "print(type(mem[1]))"
   ]
  },
  {
   "cell_type": "code",
   "execution_count": 44,
   "metadata": {},
   "outputs": [
    {
     "name": "stdout",
     "output_type": "stream",
     "text": [
      "(864, 4)\n"
     ]
    }
   ],
   "source": [
    "print(b1[1].shape)"
   ]
  },
  {
   "cell_type": "code",
   "execution_count": 45,
   "metadata": {},
   "outputs": [
    {
     "name": "stderr",
     "output_type": "stream",
     "text": [
      "BokehUserWarning: ColumnDataSource's columns must be of the same length. Current lengths: ('x', 864), ('y', 0)\n",
      "BokehUserWarning: ColumnDataSource's columns must be of the same length. Current lengths: ('x', 4), ('y', 0)\n",
      "BokehUserWarning: ColumnDataSource's columns must be of the same length. Current lengths: ('x', 6), ('y', 0)\n",
      "BokehUserWarning: ColumnDataSource's columns must be of the same length. Current lengths: ('x', 64), ('y', 0)\n",
      "BokehUserWarning: ColumnDataSource's columns must be of the same length. Current lengths: ('x', 64), ('y', 0)\n",
      "BokehUserWarning: ColumnDataSource's columns must be of the same length. Current lengths: ('x', 864), ('y', 0)\n",
      "BokehUserWarning: ColumnDataSource's columns must be of the same length. Current lengths: ('x', 4), ('y', 0)\n",
      "BokehUserWarning: ColumnDataSource's columns must be of the same length. Current lengths: ('x', 864), ('y', 0)\n",
      "BokehUserWarning: ColumnDataSource's columns must be of the same length. Current lengths: ('x', 4), ('y', 0)\n",
      "WARNING:bokeh.core.validation.check:W-1000 (MISSING_RENDERERS): Plot has no renderers: Figure(id='1569', ...)\n"
     ]
    }
   ],
   "source": [
    "import numpy as np\n",
    "\n",
    "from bokeh.layouts import column, row\n",
    "from bokeh.models import ColumnDataSource, CustomJS, Slider, Select\n",
    "from bokeh.plotting import figure, show\n",
    "from bokeh.layouts import gridplot\n",
    "\n",
    "TOOLS = \"box_select,lasso_select,help,hover,reset\"\n",
    "\n",
    "\n",
    "source0 = ColumnDataSource(data={'mem' : mem,'height' : c})\n",
    "\n",
    "p0 = figure(x_range=mem,width=1200, height=400, title=\"core\", tools=TOOLS,\n",
    "              background_fill_color=\"#fafafa\")\n",
    "p0.vbar('mem',1, 'height', source=source0)\n",
    "\n",
    "\n",
    "u1=range(len(uda3[0][:,0]))\n",
    "source1 = ColumnDataSource(data={'0' : uda3[0][:,0],'1' : uda3[0][:,1],'2' : uda3[0][:,2],'3' : uda3[0][:,3]})\n",
    "\n",
    "\n",
    "u2=range(len(uda3[1][:,0]))\n",
    "source2 = ColumnDataSource(data={'0' : uda3[1][:,0],'1' : uda3[1][:,1],'2' : uda3[1][:,2],'3' : uda3[1][:,3]})\n",
    "\n",
    "u3=range(len(uda3[2][:,0]))\n",
    "source3 = ColumnDataSource(data={'0' : uda3[2][:,0],'1' : uda3[2][:,1],'2' : uda3[2][:,2],'3' : uda3[2][:,3]})\n",
    "\n",
    "u4=range(len(a1[:,0]))\n",
    "source4 = ColumnDataSource(data={'0' : a1[:,0],'1' : a2[:,0],'2' : a3[:,0],'3' : a4[:,0],'4' : a5[:,0],'5' : a6[:,0],'6' : a1[:,1],'7' : a2[:,1],'8' : a3[:,1],'9' : a4[:,1],'10' : a5[:,1],'11' : a6[:,1],'12' : a1[:,2],'13' : a2[:,2],'14' : a3[:,2],'15' : a4[:,2],'16' : a5[:,2],'17' : a6[:,2],'18' : a1[:,3],'19' : a2[:,3],'20' : a3[:,3],'21' : a4[:,3],'22' : a5[:,3],'23' : a6[:,3]})\n",
    "\n",
    "source5 = ColumnDataSource(data={'0' : c1,'1' : c2,'2' : c3,'3' : c4})\n",
    "\n",
    "#u6=range(len(b0[0][:,0]))\n",
    "source60 = ColumnDataSource(data={'0' : b0[0][:,0],'1' : b0[0][:,1],'2' : b0[0][:,2],'3' : b0[0][:,3]})\n",
    "source61 = ColumnDataSource(data={'0' : b1[0][:,0],'1' : b1[0][:,1],'2' : b1[0][:,2],'3' : b1[0][:,3]})\n",
    "source62 = ColumnDataSource(data={'0' : b2[0][:,0],'1' : b2[0][:,1],'2' : b2[0][:,2],'3' : b2[0][:,3]})\n",
    "source63 = ColumnDataSource(data={'0' : b3[0][:,0],'1' : b3[0][:,1],'2' : b3[0][:,2],'3' : b3[0][:,3]})\n",
    "\n",
    "\n",
    "u7=range(len(b0[1][:,0]))\n",
    "source70 = ColumnDataSource(data={'0' : b0[1][:,0],'1' : b0[1][:,1],'2' : b0[1][:,2],'3' : b0[1][:,3]})\n",
    "source71 = ColumnDataSource(data={'0' : b1[1][:,0],'1' : b1[1][:,1],'2' : b1[1][:,2],'3' : b1[1][:,3]})\n",
    "source72 = ColumnDataSource(data={'0' : b2[1][:,0],'1' : b2[1][:,1],'2' : b2[1][:,2],'3' : b2[1][:,3]})\n",
    "source73 = ColumnDataSource(data={'0' : b3[1][:,0],'1' : b3[1][:,1],'2' : b3[1][:,2],'3' : b3[1][:,3]})\n",
    "\n",
    "u8=range(len(b0[2][:,0]))\n",
    "source80 = ColumnDataSource(data={'0' : b0[2][:,0],'1' : b0[2][:,1],'2' : b0[2][:,2],'3' : b0[2][:,3]})\n",
    "source81 = ColumnDataSource(data={'0' : b1[2][:,0],'1' : b1[2][:,1],'2' : b1[2][:,2],'3' : b1[2][:,3]})\n",
    "source82 = ColumnDataSource(data={'0' : b2[2][:,0],'1' : b2[2][:,1],'2' : b2[2][:,2],'3' : b2[2][:,3]})\n",
    "source83 = ColumnDataSource(data={'0' : b3[2][:,0],'1' : b3[2][:,1],'2' : b3[2][:,2],'3' : b3[2][:,3]})\n",
    "\n",
    "\n",
    "\n",
    "\n",
    "l1=range(len(tensor_0[0,:,0]))\n",
    "d1 = {str(s): tensor_0[:,s,0] for s in l1}\n",
    "sourceT1=ColumnDataSource(data=d1)\n",
    "\n",
    "d2 = {str(s): tensor_1[:,s,0] for s in l1}\n",
    "sourceT2=ColumnDataSource(data=d2)\n",
    "\n",
    "d3 = {str(s): tensor_2[:,s,0] for s in l1}\n",
    "sourceT3=ColumnDataSource(data=d3)\n",
    "\n",
    "d4 = {str(s): tensor_all[:,s,0] for s in l1}\n",
    "sourceT4=ColumnDataSource(data=d4)\n",
    "\n",
    "\n",
    "s1 = ColumnDataSource(data=dict(x=u1, y=[]))\n",
    "p1 = figure(width=400, height=400,title=\"core1\", tools=TOOLS)\n",
    "p1.vbar(x='x', top='y', source=s1, alpha=0.6)\n",
    "\n",
    "\n",
    "\n",
    "s2 = ColumnDataSource(data=dict(x=u2, y=[]))\n",
    "p2 = figure(width=400, height=400,title=\"core2\", tools=TOOLS)\n",
    "p2.vbar('x', 1,'y', source=s2, alpha=0.6)\n",
    "\n",
    "s3 = ColumnDataSource(data=dict(x=u3, y=[]))\n",
    "p3 = figure(width=400, height=400, title=\"core3\", tools=TOOLS)\n",
    "p3.vbar('x',1, 'y', source=s3, alpha=0.6)\n",
    "\n",
    "v4=np.zeros(len(u4))\n",
    "s4 = ColumnDataSource(data=dict(x=u4, y=v4))\n",
    "p4 = figure(width=400, height=400, title=\"hikaku\", tools=TOOLS)\n",
    "p4.vbar(x='x', top='y', source=s4, alpha=0.6)\n",
    "\n",
    "\n",
    "s7 = ColumnDataSource(data=dict(x=mem, y=[]))\n",
    "p5 = figure(x_range=mem,width=1200, height=400, title=\"core\", tools=TOOLS,\n",
    "              background_fill_color=\"#fafafa\")\n",
    "p5.vbar('x',1, 'y', source=s7)\n",
    "\n",
    "s8 = ColumnDataSource(data=dict(x=mem, y=[]))\n",
    "p6 = figure(x_range=mem,width=1200, height=400, title=\"core\", tools=TOOLS,\n",
    "              background_fill_color=\"#fafafa\")\n",
    "p6.vbar('x',1, 'y', source=s8)\n",
    "    \n",
    "s5 = ColumnDataSource(data=dict(x=[], y=[]))\n",
    "s5.data[\"x\"].append(0)\n",
    "s6 = ColumnDataSource(data=dict(x=[], y=[]))\n",
    "s6.data[\"x\"].append(0)\n",
    "\n",
    "\n",
    "s9 = ColumnDataSource(data=dict(x=[], y=[]))\n",
    "p9 = figure(width=400, height=400,title=\"core1\", tools=TOOLS)\n",
    "p9.vbar(x='x', top='y', source=s9, alpha=0.6)\n",
    "\n",
    "\n",
    "\n",
    "s10 = ColumnDataSource(data=dict(x=u7, y=[]))\n",
    "p10 = figure(width=400, height=400,title=\"core2\", tools=TOOLS)\n",
    "p10.vbar('x', 1,'y', source=s10, alpha=0.6)\n",
    "\n",
    "s11 = ColumnDataSource(data=dict(x=u8, y=[]))\n",
    "p11 = figure(width=400, height=400, title=\"core3\", tools=TOOLS)\n",
    "p11.vbar('x',1, 'y', source=s11, alpha=0.6)\n",
    "\n",
    "s12 = ColumnDataSource(data=dict(x=[], y=[]))\n",
    "p12 = figure(width=400, height=400,title=\"core1\", tools=TOOLS)\n",
    "p12.vbar(x='x', top='y', source=s12, alpha=0.6)\n",
    "\n",
    "\n",
    "\n",
    "s13 = ColumnDataSource(data=dict(x=u7, y=[]))\n",
    "p13 = figure(width=400, height=400,title=\"core2\", tools=TOOLS)\n",
    "p13.vbar('x', 1,'y', source=s13, alpha=0.6)\n",
    "\n",
    "s14 = ColumnDataSource(data=dict(x=u8, y=[]))\n",
    "p14 = figure(width=400, height=400, title=\"core3\", tools=TOOLS)\n",
    "p14.vbar('x',1, 'y', source=s14, alpha=0.6)\n",
    "\n",
    "\n",
    "s15=ColumnDataSource(data=dict(time=[], space=[],measure=[]))\n",
    "\n",
    "\n",
    "p16 = figure(width=400, height=400,title=\"core2\", tools=TOOLS)\n",
    "p16.vbar('x',1, 'y', source=s14, alpha=0.6)\n",
    "\n",
    "\n",
    "s15=ColumnDataSource(data=dict(time=[], space=[],measure=[]))\n",
    "p16 = figure(width=400, height=400,title=\"core2\", tools=TOOLS)\n",
    "for nm in s15.data['space']:\n",
    "    u16=range(len(s15.data['time']))\n",
    "    p16.vbar(u16,1,nm, alpha=0.6)\n",
    "\n",
    "s9.selected.js_on_change('indices', CustomJS(args=dict(s=s9,s1=s15), code=\"\"\"\n",
    "        const inds = s.selected.indices;\n",
    "        const d12 = s1.data;\n",
    "        \n",
    "        d12['time'] = [];\n",
    "        for (let i = 0; i < inds.length; i++) {\n",
    "            d12['time'].push(inds[i]);\n",
    "        }\n",
    "        console.log(s1.data['time'])\n",
    "        s1.change.emit();\n",
    "\n",
    "\"\"\"))\n",
    "\n",
    "s10.selected.js_on_change('indices', CustomJS(args=dict(s=s10,s1=s15), code=\"\"\"\n",
    "        const inds = s.selected.indices;\n",
    "        const d12 = s1.data;\n",
    "        \n",
    "        d12['space'] = [];\n",
    "        for (let i = 0; i < inds.length; i++) {\n",
    "            d12['space'].push(inds[i]);\n",
    "        }\n",
    "        console.log(s1.data['time'])\n",
    "        s1.change.emit();\n",
    "\n",
    "\"\"\"))\n",
    "\n",
    "s11.selected.js_on_change('indices', CustomJS(args=dict(s=s11,s1=s15), code=\"\"\"\n",
    "        const inds = s.selected.indices;\n",
    "        const d12 = s1.data;\n",
    "        \n",
    "        d12['measure'] = [];\n",
    "        for (let i = 0; i < inds.length; i++) {\n",
    "            d12['measure'].push(inds[i]);\n",
    "        }\n",
    "        console.log(s1.data['time'])\n",
    "        s1.change.emit();\n",
    "\n",
    "\"\"\"))\n",
    "\n",
    "source0.selected.js_on_change('indices', CustomJS(args=dict(s=source0,m=mem,s1=s1,source1=source1,s2=s2,source2=source2,s3=s3,source3=source3), code=\"\"\"\n",
    "        const inds = s.selected.indices;\n",
    "        const d = s.data;\n",
    "        console.log(parseInt(Number(m[inds[0]])/100));\n",
    "        console.log(parseInt((Number(m[inds[0]])/10)%10));\n",
    "        console.log(Number(m[inds[0]])%10);\n",
    "        \n",
    "        const A1=parseInt(Number(m[inds[0]])/100);\n",
    "        const d11 = source1.data;\n",
    "        const d12 = s1.data;\n",
    "        d12['y'] = [];\n",
    "        for (let i = 0; i < d12['x'].length; i++) {\n",
    "            d12['y'].push(d11[A1][i]);\n",
    "        }\n",
    "        \n",
    "        s1.change.emit();\n",
    "        \n",
    "        const A2=parseInt((Number(m[inds[0]])/10)%10);\n",
    "        const d21 = source2.data;\n",
    "        const d22 = s2.data;\n",
    "        d22['y'] = [];\n",
    "        for (let i = 0; i < d22['x'].length; i++) {\n",
    "            d22['y'].push(d21[A2][i]);\n",
    "        }\n",
    "        s2.change.emit();\n",
    "        \n",
    "        const A3=Number(m[inds[0]])%10;\n",
    "        const d31 = source3.data;\n",
    "        const d32 = s3.data;\n",
    "        d32['y'] = [];\n",
    "        for (let i = 0; i < d32['x'].length; i++) {\n",
    "            d32['y'].push(d31[A3][i]);\n",
    "        }\n",
    "        s3.change.emit();\n",
    "\"\"\"))\n",
    "\n",
    "\n",
    "s7.selected.js_on_change('indices', CustomJS(args=dict(s=s7,m=mem,s1=s9,source60=source60,source61=source61,source62=source62,source63=source63,s2=s10,source70=source70,source71=source71,source72=source72,source73=source73,s3=s11,source80=source80,source81=source81,source82=source82,source83=source83,s5=s5), code=\"\"\"\n",
    "        const inds = s.selected.indices;\n",
    "        const d = s.data;\n",
    "        console.log(parseInt(Number(m[inds[0]])/100));\n",
    "        console.log(parseInt((Number(m[inds[0]])/10)%10));\n",
    "        console.log(Number(m[inds[0]])%10);\n",
    "        \n",
    "        const A1=parseInt(Number(m[inds[0]])/100);\n",
    "        const d60 = source60.data;\n",
    "        const d61 = source61.data;\n",
    "        const d62 = source62.data;\n",
    "        const d63 = source63.data;\n",
    "        \n",
    "        const d12 = s1.data;\n",
    "        d12['x']=[];\n",
    "        d12['y'] = [];\n",
    "        \n",
    "        \n",
    "        \n",
    "        \n",
    "        \n",
    "        const A2=parseInt((Number(m[inds[0]])/10)%10);\n",
    "        const d70 = source70.data;\n",
    "        const d71 = source71.data;\n",
    "        const d72 = source72.data;\n",
    "        const d73 = source73.data;\n",
    "\n",
    "        const d22 = s2.data;\n",
    "        d22['y'] = [];\n",
    "        \n",
    "        \n",
    "        \n",
    "        const A3=Number(m[inds[0]])%10;\n",
    "        const d80 = source80.data;\n",
    "        const d81 = source81.data;\n",
    "        const d82 = source82.data;\n",
    "        const d83 = source83.data;\n",
    "        \n",
    "        const d32 = s3.data;\n",
    "        d32['y'] = [];\n",
    "        \n",
    "        let q=0;\n",
    "        let r=0;\n",
    "        \n",
    "        const S5=s5.data;\n",
    "        console.log(S5['x'][0]);\n",
    "        switch(S5['x'][0]){\n",
    "            case 0:\n",
    "                q=0;\n",
    "                r=1;\n",
    "                console.log(S5['x'][0]);\n",
    "                for (let i = 0; i < d60[A1].length; i++) {\n",
    "                    d12['x'].push(i);\n",
    "                    d12['y'].push(d60[A1][i]);\n",
    "                }\n",
    "                for (let i = 0; i < d22['x'].length; i++) {\n",
    "                    d22['y'].push(d70[A2][i]);\n",
    "                }\n",
    "                for (let i = 0; i < d32['x'].length; i++) {\n",
    "                    d32['y'].push(d80[A3][i]);\n",
    "                }\n",
    "                break;\n",
    "            case 1:\n",
    "                q=0;\n",
    "                r=2;\n",
    "                for (let i = 0; i < d60[A1].length; i++) {\n",
    "                    d12['x'].push(i);\n",
    "                    d12['y'].push(d60[A1][i]);\n",
    "                }\n",
    "                for (let i = 0; i < d22['x'].length; i++) {\n",
    "                    d22['y'].push(d70[A2][i]);\n",
    "                }\n",
    "                for (let i = 0; i < d32['x'].length; i++) {\n",
    "                    d32['y'].push(d80[A3][i]);\n",
    "                }\n",
    "                break;\n",
    "            case 2:\n",
    "                q=0;\n",
    "                r=3;\n",
    "                for (let i = 0; i < d60[A1].length; i++) {\n",
    "                    d12['x'].push(i);\n",
    "                    d12['y'].push(d60[A1][i]);\n",
    "                }\n",
    "                for (let i = 0; i < d22['x'].length; i++) {\n",
    "                    d22['y'].push(d70[A2][i]);\n",
    "                }\n",
    "                for (let i = 0; i < d32['x'].length; i++) {\n",
    "                    d32['y'].push(d80[A3][i]);\n",
    "                }\n",
    "                break;\n",
    "            case 3:\n",
    "                q=1;\n",
    "                r=2;\n",
    "                for (let i = 0; i < d61[A1].length; i++) {\n",
    "                    d12['x'].push(i);\n",
    "                    d12['y'].push(d60[A1][i]);\n",
    "                }\n",
    "                for (let i = 0; i < d22['x'].length; i++) {\n",
    "                    d22['y'].push(d70[A2][i]);\n",
    "                }\n",
    "                for (let i = 0; i < d32['x'].length; i++) {\n",
    "                    d32['y'].push(d80[A3][i]);\n",
    "                }\n",
    "                break;\n",
    "            case 4:\n",
    "                q=1;\n",
    "                r=3;\n",
    "                for (let i = 0; i < d61[A1].length; i++) {\n",
    "                    d12['x'].push(i);\n",
    "                    d12['y'].push(d60[A1][i]);\n",
    "                }\n",
    "                for (let i = 0; i < d22['x'].length; i++) {\n",
    "                    d22['y'].push(d70[A2][i]);\n",
    "                }\n",
    "                for (let i = 0; i < d32['x'].length; i++) {\n",
    "                    d32['y'].push(d80[A3][i]);\n",
    "                }\n",
    "                break;\n",
    "            case 5:\n",
    "                q=2;\n",
    "                r=3;\n",
    "                for (let i = 0; i < d62[A1].length; i++) {\n",
    "                    d12['x'].push(i);\n",
    "                    d12['y'].push(d60[A1][i]);\n",
    "                }\n",
    "                for (let i = 0; i < d22['x'].length; i++) {\n",
    "                    d22['y'].push(d70[A2][i]);\n",
    "                }\n",
    "                for (let i = 0; i < d32['x'].length; i++) {\n",
    "                    d32['y'].push(d80[A3][i]);\n",
    "                }\n",
    "                break;\n",
    "            default:\n",
    "                console.log('hi');\n",
    "                break;\n",
    "                   \n",
    "        }\n",
    "\n",
    "        s1.change.emit();\n",
    "        s2.change.emit();\n",
    "        s3.change.emit();\n",
    "        \n",
    "\n",
    "\n",
    "\n",
    "\n",
    "\"\"\"))\n",
    "\n",
    "s8.selected.js_on_change('indices', CustomJS(args=dict(s=s8,m=mem,s1=s12,source60=source60,source61=source61,source62=source62,source63=source63,s2=s13,source70=source70,source71=source71,source72=source72,source73=source73,s3=s14,source80=source80,source81=source81,source82=source82,source83=source83,s5=s5), code=\"\"\"\n",
    "        const inds = s.selected.indices;\n",
    "        const d = s.data;\n",
    "        console.log(parseInt(Number(m[inds[0]])/100));\n",
    "        console.log(parseInt((Number(m[inds[0]])/10)%10));\n",
    "        console.log(Number(m[inds[0]])%10);\n",
    "        \n",
    "        const A1=parseInt(Number(m[inds[0]])/100);\n",
    "        const d60 = source60.data;\n",
    "        const d61 = source61.data;\n",
    "        const d62 = source62.data;\n",
    "        const d63 = source63.data;\n",
    "        \n",
    "        const d12 = s1.data;\n",
    "        d12['x']=[];\n",
    "        d12['y'] = [];\n",
    "        \n",
    "        \n",
    "        \n",
    "        \n",
    "        \n",
    "        const A2=parseInt((Number(m[inds[0]])/10)%10);\n",
    "        const d70 = source70.data;\n",
    "        const d71 = source71.data;\n",
    "        const d72 = source72.data;\n",
    "        const d73 = source73.data;\n",
    "\n",
    "        const d22 = s2.data;\n",
    "        d22['y'] = [];\n",
    "        \n",
    "        \n",
    "        \n",
    "        const A3=Number(m[inds[0]])%10;\n",
    "        const d80 = source80.data;\n",
    "        const d81 = source81.data;\n",
    "        const d82 = source82.data;\n",
    "        const d83 = source83.data;\n",
    "        \n",
    "        const d32 = s3.data;\n",
    "        d32['y'] = [];\n",
    "        \n",
    "        let q=0;\n",
    "        let r=0;\n",
    "        \n",
    "        const S5=s5.data;\n",
    "        console.log(S5['x'][0]);\n",
    "        switch(S5['x'][0]){\n",
    "            case 0:\n",
    "                q=0;\n",
    "                r=1;\n",
    "                console.log(S5['x'][0]);\n",
    "                for (let i = 0; i < d61[A1].length; i++) {\n",
    "                    d12['x'].push(i);\n",
    "                    d12['y'].push(d61[A1][i]);\n",
    "                }\n",
    "                for (let i = 0; i < d22['x'].length; i++) {\n",
    "                    d22['y'].push(d71[A2][i]);\n",
    "                }\n",
    "                for (let i = 0; i < d32['x'].length; i++) {\n",
    "                    d32['y'].push(d81[A3][i]);\n",
    "                }\n",
    "                break;\n",
    "            case 1:\n",
    "                q=0;\n",
    "                r=2;\n",
    "                for (let i = 0; i < d62[A1].length; i++) {\n",
    "                    d12['x'].push(i);\n",
    "                    d12['y'].push(d62[A1][i]);\n",
    "                }\n",
    "                for (let i = 0; i < d22['x'].length; i++) {\n",
    "                    d22['y'].push(d72[A2][i]);\n",
    "                }\n",
    "                for (let i = 0; i < d32['x'].length; i++) {\n",
    "                    d32['y'].push(d82[A3][i]);\n",
    "                }\n",
    "                break;\n",
    "            case 2:\n",
    "                q=0;\n",
    "                r=3;\n",
    "                for (let i = 0; i < d63[A1].length; i++) {\n",
    "                    d12['x'].push(i);\n",
    "                    d12['y'].push(d63[A1][i]);\n",
    "                }\n",
    "                for (let i = 0; i < d22['x'].length; i++) {\n",
    "                    d22['y'].push(d73[A2][i]);\n",
    "                }\n",
    "                for (let i = 0; i < d32['x'].length; i++) {\n",
    "                    d32['y'].push(d83[A3][i]);\n",
    "                }\n",
    "                break;\n",
    "            case 3:\n",
    "                q=1;\n",
    "                r=2;\n",
    "                for (let i = 0; i < d62[A1].length; i++) {\n",
    "                    d12['x'].push(i);\n",
    "                    d12['y'].push(d62[A1][i]);\n",
    "                }\n",
    "                for (let i = 0; i < d22['x'].length; i++) {\n",
    "                    d22['y'].push(d72[A2][i]);\n",
    "                }\n",
    "                for (let i = 0; i < d32['x'].length; i++) {\n",
    "                    d32['y'].push(d82[A3][i]);\n",
    "                }\n",
    "                break;\n",
    "            case 4:\n",
    "                q=1;\n",
    "                r=3;\n",
    "                for (let i = 0; i < d63[A1].length; i++) {\n",
    "                    d12['x'].push(i);\n",
    "                    d12['y'].push(d63[A1][i]);\n",
    "                }\n",
    "                for (let i = 0; i < d22['x'].length; i++) {\n",
    "                    d22['y'].push(d73[A2][i]);\n",
    "                }\n",
    "                for (let i = 0; i < d32['x'].length; i++) {\n",
    "                    d32['y'].push(d83[A3][i]);\n",
    "                }\n",
    "                break;\n",
    "            case 5:\n",
    "                q=2;\n",
    "                r=3;\n",
    "                for (let i = 0; i < d63[A1].length; i++) {\n",
    "                    d12['x'].push(i);\n",
    "                    d12['y'].push(d63[A1][i]);\n",
    "                }\n",
    "                for (let i = 0; i < d22['x'].length; i++) {\n",
    "                    d22['y'].push(d73[A2][i]);\n",
    "                }\n",
    "                for (let i = 0; i < d32['x'].length; i++) {\n",
    "                    d32['y'].push(d83[A3][i]);\n",
    "                }\n",
    "                break;\n",
    "            default:\n",
    "                console.log('hi');\n",
    "                break;\n",
    "                   \n",
    "        }\n",
    "\n",
    "        s1.change.emit();\n",
    "        s2.change.emit();\n",
    "        s3.change.emit();\n",
    "        \n",
    "\n",
    "\n",
    "\n",
    "\"\"\"))\n",
    "\n",
    "s3.selected.js_on_change('indices', CustomJS(args=dict(s=s3,s4=s4,s5=s5,s6=s6,source4=source4,s7=s7,source5=source5,s8=s8), code=\"\"\"\n",
    "        const inds = s.selected.indices;\n",
    "        const d = s.data;\n",
    "        const S5=s5.data;\n",
    "        S5['x'][0]=inds[0];\n",
    "        const S6=s6.data;\n",
    "        const d41=source4.data;\n",
    "        const d42=s4.data;\n",
    "        const p=S5['x'][0]+6*S6['x'][0];\n",
    "        for (let i = 0; i < d42['x'].length; i++) {\n",
    "            if(d42['y'][i]>0){\n",
    "                d42['y'][i]=d41[p][i];\n",
    "            }\n",
    "        }\n",
    "        console.log(p);        \n",
    "        s5.change.emit();\n",
    "        s4.change.emit();\n",
    "        \n",
    "        const S7=s7.data;\n",
    "        const S8=s8.data;\n",
    "        const d5=source5.data;\n",
    "        const q=0;\n",
    "        const r=0;\n",
    "        \n",
    "        console.log(S5['x'][0]);\n",
    "        switch(S5['x'][0]){\n",
    "            case '0':\n",
    "                q=0;\n",
    "                r=1;\n",
    "                break;\n",
    "            case '1':\n",
    "                q=0;\n",
    "                r=2;\n",
    "                break;\n",
    "            case '2':\n",
    "                q=0;\n",
    "                r=3;\n",
    "                break;\n",
    "            case '3':\n",
    "                q=1;\n",
    "                r=2;\n",
    "                break;\n",
    "            case '4':\n",
    "                q=1;\n",
    "                r=3;\n",
    "                break;\n",
    "            case '5':\n",
    "                q=2;\n",
    "                r=3;\n",
    "                break;\n",
    "            default:\n",
    "                break;\n",
    "                   \n",
    "        }\n",
    "        \n",
    "        for (let i = 0; i < S7['x'].length; i++) {\n",
    "            S7['y'][i]=d5[q][i];\n",
    "            S8['y'][i]=d5[r][i];\n",
    "        }\n",
    "        s7.change.emit();\n",
    "        s8.change.emit();\n",
    "\n",
    "\"\"\"))\n",
    "\n",
    "s1.selected.js_on_change('indices', CustomJS(args=dict(s=s1,source4=source4,s4=s4,s5=s5,s6=s6), code=\"\"\"\n",
    "        const inds = s.selected.indices;\n",
    "        const d = s.data;\n",
    "        console.log(inds);\n",
    "        const d41=source4.data;\n",
    "        const d42=s4.data;\n",
    "        const S6=s6.data;\n",
    "        const S5=s5.data;\n",
    "        for (let i = 0; i < d42['x'].length; i++) {\n",
    "            d42['y'][i]=0;\n",
    "        }\n",
    "        const p=S5['x'][0]+6*S6['x'][0];\n",
    "        console.log(p);\n",
    "        for (let i = 0; i < inds.length; i++) {\n",
    "            d42['y'][inds[i]]=d41[p][inds[i]];\n",
    "            console.log(inds.length);\n",
    "        }\n",
    "        \n",
    "        console.log(d42['y']);\n",
    "        s4.change.emit();\n",
    "\"\"\"))\n",
    "s2.selected.js_on_change('indices', CustomJS(args=dict(s=s2,s4=s4,s5=s5,s6=s6,source4=source4), code=\"\"\"\n",
    "        const inds = s.selected.indices;\n",
    "        const d = s.data;\n",
    "        const S6=s6.data;\n",
    "        S6['x'][0]=inds[0];\n",
    "        const d41=source4.data;\n",
    "        const d42=s4.data;\n",
    "        const S5=s5.data;\n",
    "        const p=S5['x'][0]+6*S6['x'][0];\n",
    "        console.log(p);\n",
    "        for (let i = 0; i < d42['x'].length; i++) {\n",
    "            if(d42['y'][i]>0){\n",
    "                d42['y'][i]=d41[p][i];\n",
    "            }\n",
    "        }\n",
    "        console.log(S5['x'][0]);        \n",
    "        s4.change.emit();\n",
    "        s6.change.emit();\n",
    "        \n",
    "\"\"\"))\n",
    "\n",
    "\n",
    "\n",
    "\n",
    "\n",
    "show(gridplot([[p0,p1,p2,p3,p4],[p5,p9,p10,p11,p16],[p6,p12,p13,p14]]))"
   ]
  },
  {
   "cell_type": "code",
   "execution_count": 46,
   "metadata": {},
   "outputs": [
    {
     "name": "stderr",
     "output_type": "stream",
     "text": [
      "BokehUserWarning: ColumnDataSource's columns must be of the same length. Current lengths: ('x', 864), ('y', 0)\n",
      "BokehUserWarning: ColumnDataSource's columns must be of the same length. Current lengths: ('x', 4), ('y', 0)\n",
      "BokehUserWarning: ColumnDataSource's columns must be of the same length. Current lengths: ('x', 6), ('y', 0)\n",
      "BokehUserWarning: ColumnDataSource's columns must be of the same length. Current lengths: ('x', 64), ('y', 0)\n",
      "BokehUserWarning: ColumnDataSource's columns must be of the same length. Current lengths: ('x', 64), ('y', 0)\n",
      "BokehUserWarning: ColumnDataSource's columns must be of the same length. Current lengths: ('x', 864), ('y', 0)\n",
      "BokehUserWarning: ColumnDataSource's columns must be of the same length. Current lengths: ('x', 4), ('y', 0)\n",
      "BokehUserWarning: ColumnDataSource's columns must be of the same length. Current lengths: ('x', 864), ('y', 0)\n",
      "BokehUserWarning: ColumnDataSource's columns must be of the same length. Current lengths: ('x', 4), ('y', 0)\n"
     ]
    }
   ],
   "source": [
    "import numpy as np\n",
    "\n",
    "from bokeh.layouts import column, row\n",
    "from bokeh.models import ColumnDataSource, CustomJS, Slider, Select\n",
    "from bokeh.plotting import figure, show\n",
    "from bokeh.layouts import gridplot\n",
    "\n",
    "TOOLS = \"box_select,lasso_select,help,hover,reset\"\n",
    "\n",
    "\n",
    "source0 = ColumnDataSource(data={'mem' : mem,'height' : c})\n",
    "\n",
    "p0 = figure(x_range=mem,width=1200, height=400, title=\"core\", tools=TOOLS,\n",
    "              background_fill_color=\"#fafafa\")\n",
    "p0.vbar('mem',1, 'height', source=source0)\n",
    "\n",
    "\n",
    "u1=range(len(uda3[0][:,0]))\n",
    "source1 = ColumnDataSource(data={'0' : uda3[0][:,0],'1' : uda3[0][:,1],'2' : uda3[0][:,2],'3' : uda3[0][:,3]})\n",
    "\n",
    "\n",
    "u2=range(len(uda3[1][:,0]))\n",
    "source2 = ColumnDataSource(data={'0' : uda3[1][:,0],'1' : uda3[1][:,1],'2' : uda3[1][:,2],'3' : uda3[1][:,3]})\n",
    "\n",
    "u3=range(len(uda3[2][:,0]))\n",
    "source3 = ColumnDataSource(data={'0' : uda3[2][:,0],'1' : uda3[2][:,1],'2' : uda3[2][:,2],'3' : uda3[2][:,3]})\n",
    "\n",
    "u4=range(len(a1[:,0]))\n",
    "source4 = ColumnDataSource(data={'0' : a1[:,0],'1' : a2[:,0],'2' : a3[:,0],'3' : a4[:,0],'4' : a5[:,0],'5' : a6[:,0],'6' : a1[:,1],'7' : a2[:,1],'8' : a3[:,1],'9' : a4[:,1],'10' : a5[:,1],'11' : a6[:,1],'12' : a1[:,2],'13' : a2[:,2],'14' : a3[:,2],'15' : a4[:,2],'16' : a5[:,2],'17' : a6[:,2],'18' : a1[:,3],'19' : a2[:,3],'20' : a3[:,3],'21' : a4[:,3],'22' : a5[:,3],'23' : a6[:,3]})\n",
    "\n",
    "source5 = ColumnDataSource(data={'0' : c1,'1' : c2,'2' : c3,'3' : c4})\n",
    "\n",
    "#u6=range(len(b0[0][:,0]))\n",
    "source60 = ColumnDataSource(data={'0' : b0[0][:,0],'1' : b0[0][:,1],'2' : b0[0][:,2],'3' : b0[0][:,3]})\n",
    "source61 = ColumnDataSource(data={'0' : b1[0][:,0],'1' : b1[0][:,1],'2' : b1[0][:,2],'3' : b1[0][:,3]})\n",
    "source62 = ColumnDataSource(data={'0' : b2[0][:,0],'1' : b2[0][:,1],'2' : b2[0][:,2],'3' : b2[0][:,3]})\n",
    "source63 = ColumnDataSource(data={'0' : b3[0][:,0],'1' : b3[0][:,1],'2' : b3[0][:,2],'3' : b3[0][:,3]})\n",
    "\n",
    "\n",
    "u7=range(len(b0[1][:,0]))\n",
    "source70 = ColumnDataSource(data={'0' : b0[1][:,0],'1' : b0[1][:,1],'2' : b0[1][:,2],'3' : b0[1][:,3]})\n",
    "source71 = ColumnDataSource(data={'0' : b1[1][:,0],'1' : b1[1][:,1],'2' : b1[1][:,2],'3' : b1[1][:,3]})\n",
    "source72 = ColumnDataSource(data={'0' : b2[1][:,0],'1' : b2[1][:,1],'2' : b2[1][:,2],'3' : b2[1][:,3]})\n",
    "source73 = ColumnDataSource(data={'0' : b3[1][:,0],'1' : b3[1][:,1],'2' : b3[1][:,2],'3' : b3[1][:,3]})\n",
    "\n",
    "u8=range(len(b0[2][:,0]))\n",
    "source80 = ColumnDataSource(data={'0' : b0[2][:,0],'1' : b0[2][:,1],'2' : b0[2][:,2],'3' : b0[2][:,3]})\n",
    "source81 = ColumnDataSource(data={'0' : b1[2][:,0],'1' : b1[2][:,1],'2' : b1[2][:,2],'3' : b1[2][:,3]})\n",
    "source82 = ColumnDataSource(data={'0' : b2[2][:,0],'1' : b2[2][:,1],'2' : b2[2][:,2],'3' : b2[2][:,3]})\n",
    "source83 = ColumnDataSource(data={'0' : b3[2][:,0],'1' : b3[2][:,1],'2' : b3[2][:,2],'3' : b3[2][:,3]})\n",
    "\n",
    "\n",
    "\n",
    "\n",
    "l1=range(len(tensor_0[0,:,0]))\n",
    "d1 = {str(s): tensor_0[:,s,0] for s in l1}\n",
    "sourceT1=ColumnDataSource(data=d1)\n",
    "\n",
    "d2 = {str(s): tensor_1[:,s,0] for s in l1}\n",
    "sourceT2=ColumnDataSource(data=d2)\n",
    "\n",
    "d3 = {str(s): tensor_2[:,s,0] for s in l1}\n",
    "sourceT3=ColumnDataSource(data=d3)\n",
    "\n",
    "d4 = {str(s): tensor_all[:,s,0] for s in l1}\n",
    "sourceT4=ColumnDataSource(data=d4)\n",
    "\n",
    "\n",
    "s1 = ColumnDataSource(data=dict(x=u1, y=[]))\n",
    "p1 = figure(width=400, height=400,title=\"core1\", tools=TOOLS)\n",
    "p1.vbar(x='x', top='y', source=s1, alpha=0.6)\n",
    "\n",
    "\n",
    "\n",
    "s2 = ColumnDataSource(data=dict(x=u2, y=[]))\n",
    "p2 = figure(width=400, height=400,title=\"core2\", tools=TOOLS)\n",
    "p2.vbar('x', 1,'y', source=s2, alpha=0.6)\n",
    "\n",
    "s3 = ColumnDataSource(data=dict(x=u3, y=[]))\n",
    "p3 = figure(width=400, height=400, title=\"core3\", tools=TOOLS)\n",
    "p3.vbar('x',1, 'y', source=s3, alpha=0.6)\n",
    "\n",
    "v4=np.zeros(len(u4))\n",
    "s4 = ColumnDataSource(data=dict(x=u4, y=v4))\n",
    "p4 = figure(width=400, height=400, title=\"hikaku\", tools=TOOLS)\n",
    "p4.vbar(x='x', top='y', source=s4, alpha=0.6)\n",
    "\n",
    "\n",
    "s7 = ColumnDataSource(data=dict(x=mem, y=[]))\n",
    "p5 = figure(x_range=mem,width=1200, height=400, title=\"core\", tools=TOOLS,\n",
    "              background_fill_color=\"#fafafa\")\n",
    "p5.vbar('x',1, 'y', source=s7)\n",
    "\n",
    "s8 = ColumnDataSource(data=dict(x=mem, y=[]))\n",
    "p6 = figure(x_range=mem,width=1200, height=400, title=\"core\", tools=TOOLS,\n",
    "              background_fill_color=\"#fafafa\")\n",
    "p6.vbar('x',1, 'y', source=s8)\n",
    "    \n",
    "s5 = ColumnDataSource(data=dict(x=[], y=[]))\n",
    "s5.data[\"x\"].append(0)\n",
    "s6 = ColumnDataSource(data=dict(x=[], y=[]))\n",
    "s6.data[\"x\"].append(0)\n",
    "\n",
    "\n",
    "s9 = ColumnDataSource(data=dict(x=[], y=[]))\n",
    "p9 = figure(width=400, height=400,title=\"core1\", tools=TOOLS)\n",
    "p9.vbar(x='x', top='y', source=s9, alpha=0.6)\n",
    "\n",
    "\n",
    "\n",
    "s10 = ColumnDataSource(data=dict(x=u7, y=[]))\n",
    "p10 = figure(width=400, height=400,title=\"core2\", tools=TOOLS)\n",
    "p10.vbar('x', 1,'y', source=s10, alpha=0.6)\n",
    "\n",
    "s11 = ColumnDataSource(data=dict(x=u8, y=[]))\n",
    "p11 = figure(width=400, height=400, title=\"core3\", tools=TOOLS)\n",
    "p11.vbar('x',1, 'y', source=s11, alpha=0.6)\n",
    "\n",
    "s12 = ColumnDataSource(data=dict(x=[], y=[]))\n",
    "p12 = figure(width=400, height=400,title=\"core1\", tools=TOOLS)\n",
    "p12.vbar(x='x', top='y', source=s12, alpha=0.6)\n",
    "\n",
    "\n",
    "\n",
    "s13 = ColumnDataSource(data=dict(x=u7, y=[]))\n",
    "p13 = figure(width=400, height=400,title=\"core2\", tools=TOOLS)\n",
    "p13.vbar('x', 1,'y', source=s13, alpha=0.6)\n",
    "\n",
    "s14 = ColumnDataSource(data=dict(x=u8, y=[]))\n",
    "p14 = figure(width=400, height=400, title=\"core3\", tools=TOOLS)\n",
    "p14.vbar('x',1, 'y', source=s14, alpha=0.6)\n",
    "\n",
    "\n",
    "s15=ColumnDataSource(data=dict(time=[], space=[],measure=[]))\n",
    "\n",
    "s16=ColumnDataSource(data=dict(time=[], space=[],measure=[]))\n",
    "    \n",
    "s9.selected.js_on_change('indices', CustomJS(args=dict(s=s9,s1=s15), code=\"\"\"\n",
    "        const inds = s.selected.indices;\n",
    "        const d12 = s1.data;\n",
    "        \n",
    "        d12['time'] = [];\n",
    "        for (let i = 0; i < inds.length; i++) {\n",
    "            d12['time'].push(inds[i]);\n",
    "        }\n",
    "        console.log(s1.data['time'])\n",
    "        s1.change.emit();\n",
    "\n",
    "\"\"\"))\n",
    "\n",
    "s4.selected.js_on_change('indices', CustomJS(args=dict(s=s4), code=\"\"\"\n",
    "        const inds = s.selected.indices;     \n",
    "        console.log(inds)\n",
    "\n",
    "\"\"\"))\n",
    "\n",
    "\n",
    "s10.selected.js_on_change('indices', CustomJS(args=dict(s=s10,s1=s15), code=\"\"\"\n",
    "        const inds = s.selected.indices;\n",
    "        const d12 = s1.data;\n",
    "        \n",
    "        d12['space'] = [];\n",
    "        for (let i = 0; i < inds.length; i++) {\n",
    "            d12['space'].push(inds[i]);\n",
    "        }\n",
    "        console.log(s1.data['space'])\n",
    "        s1.change.emit();\n",
    "\n",
    "\"\"\"))\n",
    "\n",
    "s11.selected.js_on_change('indices', CustomJS(args=dict(s=s11,s1=s15), code=\"\"\"\n",
    "        const inds = s.selected.indices;\n",
    "        const d12 = s1.data;\n",
    "        \n",
    "        d12['measure'] = [];\n",
    "        for (let i = 0; i < inds.length; i++) {\n",
    "            d12['measure'].push(inds[i]);\n",
    "        }\n",
    "        console.log(s1.data['measure'])\n",
    "        s1.change.emit();\n",
    "\n",
    "\"\"\"))\n",
    "\n",
    "s12.selected.js_on_change('indices', CustomJS(args=dict(s=s12,s1=s16), code=\"\"\"\n",
    "        const inds = s.selected.indices;\n",
    "        const d12 = s1.data;\n",
    "        \n",
    "        d12['time'] = [];\n",
    "        for (let i = 0; i < inds.length; i++) {\n",
    "            d12['time'].push(inds[i]);\n",
    "        }\n",
    "        console.log(s1.data['time'])\n",
    "        s1.change.emit();\n",
    "\n",
    "\"\"\"))\n",
    "\n",
    "s13.selected.js_on_change('indices', CustomJS(args=dict(s=s13,s1=s16), code=\"\"\"\n",
    "        const inds = s.selected.indices;\n",
    "        const d12 = s1.data;\n",
    "        \n",
    "        d12['space'] = [];\n",
    "        for (let i = 0; i < inds.length; i++) {\n",
    "            d12['space'].push(inds[i]);\n",
    "        }\n",
    "        console.log(s1.data['space'])\n",
    "        s1.change.emit();\n",
    "\n",
    "\"\"\"))\n",
    "\n",
    "s14.selected.js_on_change('indices', CustomJS(args=dict(s=s14,s1=s16), code=\"\"\"\n",
    "        const inds = s.selected.indices;\n",
    "        const d12 = s1.data;\n",
    "        \n",
    "        d12['measure'] = [];\n",
    "        for (let i = 0; i < inds.length; i++) {\n",
    "            d12['measure'].push(inds[i]);\n",
    "        }\n",
    "        console.log(s1.data['measure'])\n",
    "        s1.change.emit();\n",
    "\n",
    "\"\"\"))\n",
    "\n",
    "source0.selected.js_on_change('indices', CustomJS(args=dict(s=source0,m=mem,s1=s1,source1=source1,s2=s2,source2=source2,s3=s3,source3=source3), code=\"\"\"\n",
    "        const inds = s.selected.indices;\n",
    "        const d = s.data;\n",
    "        console.log(parseInt(Number(m[inds[0]])/100));\n",
    "        console.log(parseInt((Number(m[inds[0]])/10)%10));\n",
    "        console.log(Number(m[inds[0]])%10);\n",
    "        \n",
    "        const A1=parseInt(Number(m[inds[0]])/100);\n",
    "        const d11 = source1.data;\n",
    "        const d12 = s1.data;\n",
    "        d12['y'] = [];\n",
    "        for (let i = 0; i < d12['x'].length; i++) {\n",
    "            d12['y'].push(d11[A1][i]);\n",
    "        }\n",
    "        \n",
    "        s1.change.emit();\n",
    "        \n",
    "        const A2=parseInt((Number(m[inds[0]])/10)%10);\n",
    "        const d21 = source2.data;\n",
    "        const d22 = s2.data;\n",
    "        d22['y'] = [];\n",
    "        for (let i = 0; i < d22['x'].length; i++) {\n",
    "            d22['y'].push(d21[A2][i]);\n",
    "        }\n",
    "        s2.change.emit();\n",
    "        \n",
    "        const A3=Number(m[inds[0]])%10;\n",
    "        const d31 = source3.data;\n",
    "        const d32 = s3.data;\n",
    "        d32['y'] = [];\n",
    "        for (let i = 0; i < d32['x'].length; i++) {\n",
    "            d32['y'].push(d31[A3][i]);\n",
    "        }\n",
    "        s3.change.emit();\n",
    "\"\"\"))\n",
    "\n",
    "\n",
    "s7.selected.js_on_change('indices', CustomJS(args=dict(s=s7,m=mem,s1=s9,source60=source60,source61=source61,source62=source62,source63=source63,s2=s10,source70=source70,source71=source71,source72=source72,source73=source73,s3=s11,source80=source80,source81=source81,source82=source82,source83=source83,s5=s5), code=\"\"\"\n",
    "        const inds = s.selected.indices;\n",
    "        const d = s.data;\n",
    "        console.log(parseInt(Number(m[inds[0]])/100));\n",
    "        console.log(parseInt((Number(m[inds[0]])/10)%10));\n",
    "        console.log(Number(m[inds[0]])%10);\n",
    "        \n",
    "        const A1=parseInt(Number(m[inds[0]])/100);\n",
    "        const d60 = source60.data;\n",
    "        const d61 = source61.data;\n",
    "        const d62 = source62.data;\n",
    "        const d63 = source63.data;\n",
    "        \n",
    "        const d12 = s1.data;\n",
    "        d12['x']=[];\n",
    "        d12['y'] = [];\n",
    "        \n",
    "        \n",
    "        \n",
    "        \n",
    "        \n",
    "        const A2=parseInt((Number(m[inds[0]])/10)%10);\n",
    "        const d70 = source70.data;\n",
    "        const d71 = source71.data;\n",
    "        const d72 = source72.data;\n",
    "        const d73 = source73.data;\n",
    "\n",
    "        const d22 = s2.data;\n",
    "        d22['y'] = [];\n",
    "        \n",
    "        \n",
    "        \n",
    "        const A3=Number(m[inds[0]])%10;\n",
    "        const d80 = source80.data;\n",
    "        const d81 = source81.data;\n",
    "        const d82 = source82.data;\n",
    "        const d83 = source83.data;\n",
    "        \n",
    "        const d32 = s3.data;\n",
    "        d32['y'] = [];\n",
    "        \n",
    "        let q=0;\n",
    "        let r=0;\n",
    "        \n",
    "        const S5=s5.data;\n",
    "        console.log(S5['x'][0]);\n",
    "        switch(S5['x'][0]){\n",
    "            case 0:\n",
    "                q=0;\n",
    "                r=1;\n",
    "                console.log(S5['x'][0]);\n",
    "                for (let i = 0; i < d60[A1].length; i++) {\n",
    "                    d12['x'].push(i);\n",
    "                    d12['y'].push(d60[A1][i]);\n",
    "                }\n",
    "                for (let i = 0; i < d22['x'].length; i++) {\n",
    "                    d22['y'].push(d70[A2][i]);\n",
    "                }\n",
    "                for (let i = 0; i < d32['x'].length; i++) {\n",
    "                    d32['y'].push(d80[A3][i]);\n",
    "                }\n",
    "                break;\n",
    "            case 1:\n",
    "                q=0;\n",
    "                r=2;\n",
    "                for (let i = 0; i < d60[A1].length; i++) {\n",
    "                    d12['x'].push(i);\n",
    "                    d12['y'].push(d60[A1][i]);\n",
    "                }\n",
    "                for (let i = 0; i < d22['x'].length; i++) {\n",
    "                    d22['y'].push(d70[A2][i]);\n",
    "                }\n",
    "                for (let i = 0; i < d32['x'].length; i++) {\n",
    "                    d32['y'].push(d80[A3][i]);\n",
    "                }\n",
    "                break;\n",
    "            case 2:\n",
    "                q=0;\n",
    "                r=3;\n",
    "                for (let i = 0; i < d60[A1].length; i++) {\n",
    "                    d12['x'].push(i);\n",
    "                    d12['y'].push(d60[A1][i]);\n",
    "                }\n",
    "                for (let i = 0; i < d22['x'].length; i++) {\n",
    "                    d22['y'].push(d70[A2][i]);\n",
    "                }\n",
    "                for (let i = 0; i < d32['x'].length; i++) {\n",
    "                    d32['y'].push(d80[A3][i]);\n",
    "                }\n",
    "                break;\n",
    "            case 3:\n",
    "                q=1;\n",
    "                r=2;\n",
    "                for (let i = 0; i < d61[A1].length; i++) {\n",
    "                    d12['x'].push(i);\n",
    "                    d12['y'].push(d60[A1][i]);\n",
    "                }\n",
    "                for (let i = 0; i < d22['x'].length; i++) {\n",
    "                    d22['y'].push(d70[A2][i]);\n",
    "                }\n",
    "                for (let i = 0; i < d32['x'].length; i++) {\n",
    "                    d32['y'].push(d80[A3][i]);\n",
    "                }\n",
    "                break;\n",
    "            case 4:\n",
    "                q=1;\n",
    "                r=3;\n",
    "                for (let i = 0; i < d61[A1].length; i++) {\n",
    "                    d12['x'].push(i);\n",
    "                    d12['y'].push(d60[A1][i]);\n",
    "                }\n",
    "                for (let i = 0; i < d22['x'].length; i++) {\n",
    "                    d22['y'].push(d70[A2][i]);\n",
    "                }\n",
    "                for (let i = 0; i < d32['x'].length; i++) {\n",
    "                    d32['y'].push(d80[A3][i]);\n",
    "                }\n",
    "                break;\n",
    "            case 5:\n",
    "                q=2;\n",
    "                r=3;\n",
    "                for (let i = 0; i < d62[A1].length; i++) {\n",
    "                    d12['x'].push(i);\n",
    "                    d12['y'].push(d60[A1][i]);\n",
    "                }\n",
    "                for (let i = 0; i < d22['x'].length; i++) {\n",
    "                    d22['y'].push(d70[A2][i]);\n",
    "                }\n",
    "                for (let i = 0; i < d32['x'].length; i++) {\n",
    "                    d32['y'].push(d80[A3][i]);\n",
    "                }\n",
    "                break;\n",
    "            default:\n",
    "                console.log('hi');\n",
    "                break;\n",
    "                   \n",
    "        }\n",
    "\n",
    "        s1.change.emit();\n",
    "        s2.change.emit();\n",
    "        s3.change.emit();\n",
    "        \n",
    "\n",
    "\n",
    "\n",
    "\n",
    "\"\"\"))\n",
    "\n",
    "s8.selected.js_on_change('indices', CustomJS(args=dict(s=s8,m=mem,s1=s12,source60=source60,source61=source61,source62=source62,source63=source63,s2=s13,source70=source70,source71=source71,source72=source72,source73=source73,s3=s14,source80=source80,source81=source81,source82=source82,source83=source83,s5=s5), code=\"\"\"\n",
    "        const inds = s.selected.indices;\n",
    "        const d = s.data;\n",
    "        console.log(parseInt(Number(m[inds[0]])/100));\n",
    "        console.log(parseInt((Number(m[inds[0]])/10)%10));\n",
    "        console.log(Number(m[inds[0]])%10);\n",
    "        \n",
    "        const A1=parseInt(Number(m[inds[0]])/100);\n",
    "        const d60 = source60.data;\n",
    "        const d61 = source61.data;\n",
    "        const d62 = source62.data;\n",
    "        const d63 = source63.data;\n",
    "        \n",
    "        const d12 = s1.data;\n",
    "        d12['x']=[];\n",
    "        d12['y'] = [];\n",
    "        \n",
    "        \n",
    "        \n",
    "        \n",
    "        \n",
    "        const A2=parseInt((Number(m[inds[0]])/10)%10);\n",
    "        const d70 = source70.data;\n",
    "        const d71 = source71.data;\n",
    "        const d72 = source72.data;\n",
    "        const d73 = source73.data;\n",
    "\n",
    "        const d22 = s2.data;\n",
    "        d22['y'] = [];\n",
    "        \n",
    "        \n",
    "        \n",
    "        const A3=Number(m[inds[0]])%10;\n",
    "        const d80 = source80.data;\n",
    "        const d81 = source81.data;\n",
    "        const d82 = source82.data;\n",
    "        const d83 = source83.data;\n",
    "        \n",
    "        const d32 = s3.data;\n",
    "        d32['y'] = [];\n",
    "        \n",
    "        let q=0;\n",
    "        let r=0;\n",
    "        \n",
    "        const S5=s5.data;\n",
    "        console.log(S5['x'][0]);\n",
    "        switch(S5['x'][0]){\n",
    "            case 0:\n",
    "                q=0;\n",
    "                r=1;\n",
    "                console.log(S5['x'][0]);\n",
    "                for (let i = 0; i < d61[A1].length; i++) {\n",
    "                    d12['x'].push(i);\n",
    "                    d12['y'].push(d61[A1][i]);\n",
    "                }\n",
    "                for (let i = 0; i < d22['x'].length; i++) {\n",
    "                    d22['y'].push(d71[A2][i]);\n",
    "                }\n",
    "                for (let i = 0; i < d32['x'].length; i++) {\n",
    "                    d32['y'].push(d81[A3][i]);\n",
    "                }\n",
    "                break;\n",
    "            case 1:\n",
    "                q=0;\n",
    "                r=2;\n",
    "                for (let i = 0; i < d62[A1].length; i++) {\n",
    "                    d12['x'].push(i);\n",
    "                    d12['y'].push(d62[A1][i]);\n",
    "                }\n",
    "                for (let i = 0; i < d22['x'].length; i++) {\n",
    "                    d22['y'].push(d72[A2][i]);\n",
    "                }\n",
    "                for (let i = 0; i < d32['x'].length; i++) {\n",
    "                    d32['y'].push(d82[A3][i]);\n",
    "                }\n",
    "                break;\n",
    "            case 2:\n",
    "                q=0;\n",
    "                r=3;\n",
    "                for (let i = 0; i < d63[A1].length; i++) {\n",
    "                    d12['x'].push(i);\n",
    "                    d12['y'].push(d63[A1][i]);\n",
    "                }\n",
    "                for (let i = 0; i < d22['x'].length; i++) {\n",
    "                    d22['y'].push(d73[A2][i]);\n",
    "                }\n",
    "                for (let i = 0; i < d32['x'].length; i++) {\n",
    "                    d32['y'].push(d83[A3][i]);\n",
    "                }\n",
    "                break;\n",
    "            case 3:\n",
    "                q=1;\n",
    "                r=2;\n",
    "                for (let i = 0; i < d62[A1].length; i++) {\n",
    "                    d12['x'].push(i);\n",
    "                    d12['y'].push(d62[A1][i]);\n",
    "                }\n",
    "                for (let i = 0; i < d22['x'].length; i++) {\n",
    "                    d22['y'].push(d72[A2][i]);\n",
    "                }\n",
    "                for (let i = 0; i < d32['x'].length; i++) {\n",
    "                    d32['y'].push(d82[A3][i]);\n",
    "                }\n",
    "                break;\n",
    "            case 4:\n",
    "                q=1;\n",
    "                r=3;\n",
    "                for (let i = 0; i < d63[A1].length; i++) {\n",
    "                    d12['x'].push(i);\n",
    "                    d12['y'].push(d63[A1][i]);\n",
    "                }\n",
    "                for (let i = 0; i < d22['x'].length; i++) {\n",
    "                    d22['y'].push(d73[A2][i]);\n",
    "                }\n",
    "                for (let i = 0; i < d32['x'].length; i++) {\n",
    "                    d32['y'].push(d83[A3][i]);\n",
    "                }\n",
    "                break;\n",
    "            case 5:\n",
    "                q=2;\n",
    "                r=3;\n",
    "                for (let i = 0; i < d63[A1].length; i++) {\n",
    "                    d12['x'].push(i);\n",
    "                    d12['y'].push(d63[A1][i]);\n",
    "                }\n",
    "                for (let i = 0; i < d22['x'].length; i++) {\n",
    "                    d22['y'].push(d73[A2][i]);\n",
    "                }\n",
    "                for (let i = 0; i < d32['x'].length; i++) {\n",
    "                    d32['y'].push(d83[A3][i]);\n",
    "                }\n",
    "                break;\n",
    "            default:\n",
    "                console.log('hi');\n",
    "                break;\n",
    "                   \n",
    "        }\n",
    "\n",
    "        s1.change.emit();\n",
    "        s2.change.emit();\n",
    "        s3.change.emit();\n",
    "        \n",
    "\n",
    "\n",
    "\n",
    "\"\"\"))\n",
    "\n",
    "s3.selected.js_on_change('indices', CustomJS(args=dict(s=s3,s4=s4,s5=s5,s6=s6,source4=source4,s7=s7,source5=source5,s8=s8), code=\"\"\"\n",
    "        const inds = s.selected.indices;\n",
    "        const d = s.data;\n",
    "        const S5=s5.data;\n",
    "        S5['x'][0]=inds[0];\n",
    "        const S6=s6.data;\n",
    "        const d41=source4.data;\n",
    "        const d42=s4.data;\n",
    "        const p=S5['x'][0]+6*S6['x'][0];\n",
    "        for (let i = 0; i < d42['x'].length; i++) {\n",
    "            if(d42['y'][i]>0){\n",
    "                d42['y'][i]=d41[p][i];\n",
    "            }\n",
    "        }\n",
    "        console.log(p);        \n",
    "        s5.change.emit();\n",
    "        s4.change.emit();\n",
    "        \n",
    "        const S7=s7.data;\n",
    "        const S8=s8.data;\n",
    "        const d5=source5.data;\n",
    "        const q=0;\n",
    "        const r=0;\n",
    "        \n",
    "        console.log(S5['x'][0]);\n",
    "        switch(S5['x'][0]){\n",
    "            case '0':\n",
    "                q=0;\n",
    "                r=1;\n",
    "                break;\n",
    "            case '1':\n",
    "                q=0;\n",
    "                r=2;\n",
    "                break;\n",
    "            case '2':\n",
    "                q=0;\n",
    "                r=3;\n",
    "                break;\n",
    "            case '3':\n",
    "                q=1;\n",
    "                r=2;\n",
    "                break;\n",
    "            case '4':\n",
    "                q=1;\n",
    "                r=3;\n",
    "                break;\n",
    "            case '5':\n",
    "                q=2;\n",
    "                r=3;\n",
    "                break;\n",
    "            default:\n",
    "                break;\n",
    "                   \n",
    "        }\n",
    "        \n",
    "        for (let i = 0; i < S7['x'].length; i++) {\n",
    "            S7['y'][i]=d5[q][i];\n",
    "            S8['y'][i]=d5[r][i];\n",
    "        }\n",
    "        s7.change.emit();\n",
    "        s8.change.emit();\n",
    "\n",
    "\"\"\"))\n",
    "\n",
    "s1.selected.js_on_change('indices', CustomJS(args=dict(s=s1,source4=source4,s4=s4,s5=s5,s6=s6), code=\"\"\"\n",
    "        const inds = s.selected.indices;\n",
    "        const d = s.data;\n",
    "        console.log(inds);\n",
    "        const d41=source4.data;\n",
    "        const d42=s4.data;\n",
    "        const S6=s6.data;\n",
    "        const S5=s5.data;\n",
    "        for (let i = 0; i < d42['x'].length; i++) {\n",
    "            d42['y'][i]=0;\n",
    "        }\n",
    "        const p=S5['x'][0]+6*S6['x'][0];\n",
    "        console.log(p);\n",
    "        for (let i = 0; i < inds.length; i++) {\n",
    "            d42['y'][inds[i]]=d41[p][inds[i]];\n",
    "            console.log(inds.length);\n",
    "        }\n",
    "        \n",
    "        console.log(d42['y']);\n",
    "        s4.change.emit();\n",
    "\"\"\"))\n",
    "s2.selected.js_on_change('indices', CustomJS(args=dict(s=s2,s4=s4,s5=s5,s6=s6,source4=source4), code=\"\"\"\n",
    "        const inds = s.selected.indices;\n",
    "        const d = s.data;\n",
    "        const S6=s6.data;\n",
    "        S6['x'][0]=inds[0];\n",
    "        const d41=source4.data;\n",
    "        const d42=s4.data;\n",
    "        const S5=s5.data;\n",
    "        const p=S5['x'][0]+6*S6['x'][0];\n",
    "        console.log(p);\n",
    "        for (let i = 0; i < d42['x'].length; i++) {\n",
    "            if(d42['y'][i]>0){\n",
    "                d42['y'][i]=d41[p][i];\n",
    "            }\n",
    "        }\n",
    "        console.log(S5['x'][0]);        \n",
    "        s4.change.emit();\n",
    "        s6.change.emit();\n",
    "        \n",
    "\"\"\"))\n",
    "\n",
    "\n",
    "\n",
    "\n",
    "\n",
    "show(gridplot([[p0,p1,p2,p3,p4],[p5,p9,p10,p11],[p6,p12,p13,p14]]))"
   ]
  },
  {
   "cell_type": "markdown",
   "metadata": {},
   "source": [
    "上のプログラム後は、実データの方の可視化を行う、できれば、範囲を指定して、ヒートマップも載せる\n",
    "ヒートマップは要らないから、どちらかと言ったら先に、表示した二つのテンソルから重要な事が起きている部分を探索できるように選択した部分のデータ化が必要な気がする。"
   ]
  },
  {
   "cell_type": "markdown",
   "metadata": {},
   "source": [
    "上のボケからデータで比べたいところ、をゲットしたのでそこのヒートマッププロット、元データに戻っての折れ線プロットまでしたい。"
   ]
  },
  {
   "cell_type": "code",
   "execution_count": 47,
   "metadata": {},
   "outputs": [
    {
     "name": "stdout",
     "output_type": "stream",
     "text": [
      "(221, 864)\n"
     ]
    }
   ],
   "source": [
    "print(tensor_0[:,:,1].shape)"
   ]
  },
  {
   "cell_type": "code",
   "execution_count": 48,
   "metadata": {},
   "outputs": [
    {
     "name": "stdout",
     "output_type": "stream",
     "text": [
      "[5.46798508e-01 0.00000000e+00 5.88549134e-36 1.04782906e+00]\n"
     ]
    }
   ],
   "source": [
    "print(source80.data['0'])"
   ]
  },
  {
   "cell_type": "code",
   "execution_count": 49,
   "metadata": {},
   "outputs": [
    {
     "name": "stdout",
     "output_type": "stream",
     "text": [
      "[]\n"
     ]
    }
   ],
   "source": [
    "print(s15.data['time'])"
   ]
  },
  {
   "cell_type": "code",
   "execution_count": 50,
   "metadata": {},
   "outputs": [
    {
     "name": "stdout",
     "output_type": "stream",
     "text": [
      "(864,)\n"
     ]
    }
   ],
   "source": [
    "print(a1[:,0].shape)"
   ]
  },
  {
   "cell_type": "code",
   "execution_count": 51,
   "metadata": {},
   "outputs": [],
   "source": [
    "\n",
    "u1=range(len(tensor_0[0,:,0]))\n",
    "\n",
    "\n",
    "d = {str(s): tensor_0[:,s,0] for s in u1}\n",
    "\n",
    "c=ColumnDataSource(data=d)"
   ]
  },
  {
   "cell_type": "code",
   "execution_count": 52,
   "metadata": {
    "executionInfo": {
     "elapsed": 16609,
     "status": "ok",
     "timestamp": 1672373923393,
     "user": {
      "displayName": "学生1935084t",
      "userId": "12227631716568337195"
     },
     "user_tz": -540
    },
    "id": "VK9lzwEyfCZs"
   },
   "outputs": [],
   "source": [
    "tt0,u0=ntd(tensor_0,rank_list)\n",
    "tt3,u3=ntd(tensor_all,rank_list)"
   ]
  },
  {
   "cell_type": "code",
   "execution_count": 53,
   "metadata": {
    "colab": {
     "base_uri": "https://localhost:8080/"
    },
    "executionInfo": {
     "elapsed": 8,
     "status": "ok",
     "timestamp": 1672373923394,
     "user": {
      "displayName": "学生1935084t",
      "userId": "12227631716568337195"
     },
     "user_tz": -540
    },
    "id": "g3FZbvtlfaUB",
    "outputId": "14a63d64-7b11-454e-9ae0-95fa0d57bf83"
   },
   "outputs": [
    {
     "name": "stdout",
     "output_type": "stream",
     "text": [
      "0.9148321092578174\n",
      "0.0003667178078289665\n"
     ]
    }
   ],
   "source": [
    "print(u0[1][273,1])\n",
    "print(u3[1][273,1])"
   ]
  },
  {
   "cell_type": "code",
   "execution_count": 54,
   "metadata": {
    "colab": {
     "base_uri": "https://localhost:8080/",
     "height": 329
    },
    "executionInfo": {
     "elapsed": 1361,
     "status": "ok",
     "timestamp": 1672373924750,
     "user": {
      "displayName": "学生1935084t",
      "userId": "12227631716568337195"
     },
     "user_tz": -540
    },
    "id": "xZlMR4g2gLnI",
    "outputId": "cb5e554e-29ad-4645-b138-5920b62eda7e"
   },
   "outputs": [
    {
     "data": {
      "text/plain": [
       "'\\nc=np.zeros((64))\\ncount=0\\nmem=[]\\nfor i in range(0,4):\\n  for j in range(0,4):\\n    for k in range(0,4):\\n      mem.append(str(i)+str(j)+str(k))\\n      c[count]=tt0[i,j,k]\\n      count=count+1\\n\\nplt.figure(figsize=(4*10,2*10))\\nleft=range(64)\\nheight1=c\\nplt.xticks(left, mem)\\np1 = plt.bar(left, height1, linewidth=2)\\n'"
      ]
     },
     "execution_count": 54,
     "metadata": {},
     "output_type": "execute_result"
    }
   ],
   "source": [
    "\"\"\"\n",
    "c=np.zeros((64))\n",
    "count=0\n",
    "mem=[]\n",
    "for i in range(0,4):\n",
    "  for j in range(0,4):\n",
    "    for k in range(0,4):\n",
    "      mem.append(str(i)+str(j)+str(k))\n",
    "      c[count]=tt0[i,j,k]\n",
    "      count=count+1\n",
    "\n",
    "plt.figure(figsize=(4*10,2*10))\n",
    "left=range(64)\n",
    "height1=c\n",
    "plt.xticks(left, mem)\n",
    "p1 = plt.bar(left, height1, linewidth=2)\n",
    "\"\"\""
   ]
  },
  {
   "cell_type": "markdown",
   "metadata": {
    "id": "oksE80h8lXa0"
   },
   "source": [
    "差分テンソルの結果より、空間軸は一旦置いておいて、因子２なので上のテンソルコアで？1？で関わりが大きそうな所をプロットすることで特徴を知れる。111と213、313って感じの順番"
   ]
  },
  {
   "cell_type": "code",
   "execution_count": 55,
   "metadata": {
    "colab": {
     "base_uri": "https://localhost:8080/",
     "height": 348
    },
    "executionInfo": {
     "elapsed": 935,
     "status": "ok",
     "timestamp": 1672373925675,
     "user": {
      "displayName": "学生1935084t",
      "userId": "12227631716568337195"
     },
     "user_tz": -540
    },
    "id": "LOKxOaU4l2jU",
    "outputId": "0a38beb8-547e-4d02-db6c-5070a51e7c2b"
   },
   "outputs": [
    {
     "ename": "TypeError",
     "evalue": "'Figure' object is not subscriptable",
     "output_type": "error",
     "traceback": [
      "\u001b[0;31m---------------------------------------------------------------------------\u001b[0m",
      "\u001b[0;31mTypeError\u001b[0m                                 Traceback (most recent call last)",
      "\u001b[0;32m/var/folders/d4/d62kkbmd4ssgprjjl7ncc33w0000gn/T/ipykernel_5983/59879850.py\u001b[0m in \u001b[0;36m<module>\u001b[0;34m\u001b[0m\n\u001b[1;32m     22\u001b[0m \u001b[0;31m# ラベルの設定\u001b[0m\u001b[0;34m\u001b[0m\u001b[0;34m\u001b[0m\u001b[0m\n\u001b[1;32m     23\u001b[0m \u001b[0mplt\u001b[0m\u001b[0;34m.\u001b[0m\u001b[0mxticks\u001b[0m\u001b[0;34m(\u001b[0m\u001b[0mx\u001b[0m\u001b[0;34m,\u001b[0m \u001b[0mlabels\u001b[0m\u001b[0;34m)\u001b[0m\u001b[0;34m\u001b[0m\u001b[0;34m\u001b[0m\u001b[0m\n\u001b[0;32m---> 24\u001b[0;31m \u001b[0mplt\u001b[0m\u001b[0;34m.\u001b[0m\u001b[0mlegend\u001b[0m\u001b[0;34m(\u001b[0m\u001b[0;34m(\u001b[0m\u001b[0mp1\u001b[0m\u001b[0;34m[\u001b[0m\u001b[0;36m0\u001b[0m\u001b[0;34m]\u001b[0m\u001b[0;34m,\u001b[0m \u001b[0mp2\u001b[0m\u001b[0;34m[\u001b[0m\u001b[0;36m0\u001b[0m\u001b[0;34m]\u001b[0m\u001b[0;34m,\u001b[0m\u001b[0mp3\u001b[0m\u001b[0;34m[\u001b[0m\u001b[0;36m0\u001b[0m\u001b[0;34m]\u001b[0m\u001b[0;34m,\u001b[0m \u001b[0mp4\u001b[0m\u001b[0;34m[\u001b[0m\u001b[0;36m0\u001b[0m\u001b[0;34m]\u001b[0m\u001b[0;34m)\u001b[0m\u001b[0;34m,\u001b[0m \u001b[0;34m(\u001b[0m\u001b[0;34m\"Class 1\"\u001b[0m\u001b[0;34m,\u001b[0m \u001b[0;34m\"Class 2\"\u001b[0m\u001b[0;34m,\u001b[0m\u001b[0;34m\"Class 3\"\u001b[0m\u001b[0;34m,\u001b[0m \u001b[0;34m\"Class 4\"\u001b[0m\u001b[0;34m)\u001b[0m\u001b[0;34m,\u001b[0m \u001b[0mloc\u001b[0m\u001b[0;34m=\u001b[0m\u001b[0;36m4\u001b[0m\u001b[0;34m)\u001b[0m\u001b[0;34m\u001b[0m\u001b[0;34m\u001b[0m\u001b[0m\n\u001b[0m",
      "\u001b[0;31mTypeError\u001b[0m: 'Figure' object is not subscriptable"
     ]
    },
    {
     "data": {
      "image/png": "[encoded data removed]",
      "text/plain": [
       "<Figure size 4000x2000 with 1 Axes>"
      ]
     },
     "metadata": {},
     "output_type": "display_data"
    }
   ],
   "source": [
    "plt.figure(figsize=(4*10,2*10))\n",
    " \n",
    "# 各系列のデータを用意\n",
    "height1=u0[2][:,0]\n",
    "height2=u0[2][:,1]\n",
    "height3=u0[2][:,2]\n",
    "height4=u0[2][:,3]\n",
    "data = [height1, height2,height3,height4]\n",
    "\n",
    "x = np.arange(len(height1))\n",
    "\n",
    "labels = [\"1\", \"2\", \"3\", \"4\"]\n",
    "# マージンを設定\n",
    "margin = 0.2  #0 <margin< 1\n",
    "totoal_width = 1 - margin\n",
    " \n",
    "# 棒グラフをプロット\n",
    "for i, h in enumerate(data):\n",
    "  pos = x - totoal_width *( 1- (2*i+1)/len(data) )/2\n",
    "  plt.bar(pos, h, width = totoal_width/len(data))\n",
    " \n",
    "# ラベルの設定\n",
    "plt.xticks(x, labels)\n",
    "plt.legend((p1[0], p2[0],p3[0], p4[0]), (\"Class 1\", \"Class 2\",\"Class 3\", \"Class 4\"), loc=4)"
   ]
  },
  {
   "cell_type": "code",
   "execution_count": null,
   "metadata": {
    "colab": {
     "base_uri": "https://localhost:8080/",
     "height": 1000
    },
    "executionInfo": {
     "elapsed": 12975,
     "status": "ok",
     "timestamp": 1672373938054,
     "user": {
      "displayName": "学生1935084t",
      "userId": "12227631716568337195"
     },
     "user_tz": -540
    },
    "id": "C5hPM0K-oPH-",
    "outputId": "3ab68f09-1043-49f0-ed4d-f9dc10326e50"
   },
   "outputs": [],
   "source": [
    "left=range(864)\n",
    "plt.figure(figsize=(30*10,2*10))\n",
    "\n",
    "height2=u0[1][:,1]\n",
    "\n",
    "\n",
    "p2 = plt.bar(left, height2, linewidth=2)\n",
    "#x = np.arange(len(height1))\n",
    "\n",
    "# ラベルの設定\n",
    "plt.xticks(left)"
   ]
  },
  {
   "cell_type": "code",
   "execution_count": null,
   "metadata": {
    "colab": {
     "base_uri": "https://localhost:8080/",
     "height": 1000
    },
    "executionInfo": {
     "elapsed": 7000,
     "status": "ok",
     "timestamp": 1672373945026,
     "user": {
      "displayName": "学生1935084t",
      "userId": "12227631716568337195"
     },
     "user_tz": -540
    },
    "id": "i4JH2xnNp03y",
    "outputId": "07433d98-6248-4293-9503-de38660314a5"
   },
   "outputs": [],
   "source": [
    "plt.figure(figsize=(30*10,2*10))\n",
    "\n",
    "height2=u0[0][:,1]\n",
    "x = np.arange(len(height2))\n",
    "\n",
    "p2 = plt.bar(x, height2, linewidth=2)\n",
    "\n",
    "\n",
    "# ラベルの設定\n",
    "plt.xticks(x)"
   ]
  },
  {
   "cell_type": "code",
   "execution_count": null,
   "metadata": {
    "colab": {
     "base_uri": "https://localhost:8080/"
    },
    "executionInfo": {
     "elapsed": 18032,
     "status": "ok",
     "timestamp": 1672373963039,
     "user": {
      "displayName": "学生1935084t",
      "userId": "12227631716568337195"
     },
     "user_tz": -540
    },
    "id": "oJ68gat-iEIg",
    "outputId": "76a62b80-aed9-427a-c95c-3d5bc5be9a37"
   },
   "outputs": [],
   "source": [
    "tt0,u0=ntd(tensor_0,rank_list)\n",
    "tt0=np.zeros((4,4,4))\n",
    "tt0[0,0,0]=1\n",
    "tt0[1,1,1]=1\n",
    "tt0[2,2,2]=1\n",
    "tt0[3,3,3]=1\n",
    "\n",
    "a0,b0=non_negative_tucker_core(tensor_0,rank_list,tt0)\n",
    "a1,b1=non_negative_tucker_core(tensor_2,rank_list,tt0)"
   ]
  },
  {
   "cell_type": "code",
   "execution_count": null,
   "metadata": {
    "colab": {
     "base_uri": "https://localhost:8080/",
     "height": 665
    },
    "executionInfo": {
     "elapsed": 1411,
     "status": "ok",
     "timestamp": 1672373964429,
     "user": {
      "displayName": "学生1935084t",
      "userId": "12227631716568337195"
     },
     "user_tz": -540
    },
    "id": "9c1Z5U5di54s",
    "outputId": "2829d4a5-cff2-4828-eb35-69ac99275292"
   },
   "outputs": [],
   "source": [
    "a=spaceRowHeatDifOut(b0,b1)"
   ]
  },
  {
   "cell_type": "markdown",
   "metadata": {
    "id": "mh6BWD_k9ySS"
   },
   "source": [
    "このこのテンソル分解後の要素をもう一度テンソルに再構成して、時間軸の要素だけのテンソルを作り、それを比較するというのはどう？"
   ]
  },
  {
   "cell_type": "code",
   "execution_count": null,
   "metadata": {
    "executionInfo": {
     "elapsed": 45,
     "status": "ok",
     "timestamp": 1672373964430,
     "user": {
      "displayName": "学生1935084t",
      "userId": "12227631716568337195"
     },
     "user_tz": -540
    },
    "id": "fKLJgrxJ9x-z"
   },
   "outputs": [],
   "source": []
  },
  {
   "cell_type": "code",
   "execution_count": null,
   "metadata": {
    "colab": {
     "base_uri": "https://localhost:8080/",
     "height": 35
    },
    "executionInfo": {
     "elapsed": 45,
     "status": "ok",
     "timestamp": 1672373964431,
     "user": {
      "displayName": "学生1935084t",
      "userId": "12227631716568337195"
     },
     "user_tz": -540
    },
    "id": "lh0IZIT-lHgy",
    "outputId": "10f0a4bb-e9e2-4345-a5bd-475bd3d06b08"
   },
   "outputs": [],
   "source": [
    "\"\"\"\n",
    "np.set_printoptions(threshold=np.inf)\n",
    "print(a)\n",
    "\"\"\""
   ]
  },
  {
   "cell_type": "code",
   "execution_count": null,
   "metadata": {
    "executionInfo": {
     "elapsed": 43,
     "status": "ok",
     "timestamp": 1672373964431,
     "user": {
      "displayName": "学生1935084t",
      "userId": "12227631716568337195"
     },
     "user_tz": -540
    },
    "id": "pgTclbsyjBMP"
   },
   "outputs": [],
   "source": [
    "#print(a[:,0].shape)"
   ]
  },
  {
   "cell_type": "code",
   "execution_count": null,
   "metadata": {
    "executionInfo": {
     "elapsed": 44,
     "status": "ok",
     "timestamp": 1672373964432,
     "user": {
      "displayName": "学生1935084t",
      "userId": "12227631716568337195"
     },
     "user_tz": -540
    },
    "id": "2sv96aWujPdY"
   },
   "outputs": [],
   "source": [
    "#a=a[:,:]"
   ]
  },
  {
   "cell_type": "code",
   "execution_count": null,
   "metadata": {
    "colab": {
     "base_uri": "https://localhost:8080/",
     "height": 70
    },
    "executionInfo": {
     "elapsed": 43,
     "status": "ok",
     "timestamp": 1672373964432,
     "user": {
      "displayName": "学生1935084t",
      "userId": "12227631716568337195"
     },
     "user_tz": -540
    },
    "id": "zVnOndxaxCHG",
    "outputId": "8fecfb6e-2f84-4aef-831f-0be32fe26ba0"
   },
   "outputs": [],
   "source": [
    "\"\"\"\n",
    "def spaceRowHeatDifOutn(t0,t1):\n",
    "  plt.figure(figsize=(1*10,1*10))\n",
    "  a=t0\n",
    "  b=t1\n",
    "  ab=abs(a-b)\n",
    "\n",
    "  print(\"01\")\n",
    "  sns.heatmap(ab,vmin=0, vmax=0.5)\n",
    "\n",
    "  print(\"誤差\")\n",
    "  print(\"01\")\n",
    "  print(ab.sum())\n",
    "  return ab\n",
    "\"\"\""
   ]
  },
  {
   "cell_type": "code",
   "execution_count": null,
   "metadata": {
    "executionInfo": {
     "elapsed": 43,
     "status": "ok",
     "timestamp": 1672373964433,
     "user": {
      "displayName": "学生1935084t",
      "userId": "12227631716568337195"
     },
     "user_tz": -540
    },
    "id": "GHK8qOa4jYVT"
   },
   "outputs": [],
   "source": [
    "#print(a.shape)"
   ]
  },
  {
   "cell_type": "code",
   "execution_count": null,
   "metadata": {
    "colab": {
     "base_uri": "https://localhost:8080/",
     "height": 122
    },
    "executionInfo": {
     "elapsed": 44,
     "status": "ok",
     "timestamp": 1672373964434,
     "user": {
      "displayName": "学生1935084t",
      "userId": "12227631716568337195"
     },
     "user_tz": -540
    },
    "id": "RFFREXSqizpL",
    "outputId": "5ac9e8f0-9a82-4fc7-bc53-70f6f5313577"
   },
   "outputs": [],
   "source": [
    "\"\"\"\n",
    "a=spaceRowHeatDifOut(b0,b1)\n",
    "y=np.argsort(a[:,3]*(10**20),kind='mergesort')\n",
    "b0n=b0[1][:,:]\n",
    "b1n=b1[1][:,:]\n",
    "b0n=b0n[y,:]\n",
    "b1n=b1n[y,:]\n",
    "a=spaceRowHeatDifOutn(b0n,b1n)\n",
    "y=np.argsort(a[:,2]*(10**20),kind='mergesort')\n",
    "b0n=b0n[y,:]\n",
    "b1n=b1n[y,:]\n",
    "a=spaceRowHeatDifOutn(b0n,b1n)\n",
    "y=np.argsort(a[:,1]*(10**20),kind='mergesort')\n",
    "b0n=b0n[y,:]\n",
    "b1n=b1n[y,:]\n",
    "a=spaceRowHeatDifOutn(b0n,b1n)\n",
    "y=np.argsort(a[:,0]*(10**20),kind='mergesort')\n",
    "b0n=b0n[y,:]\n",
    "b1n=b1n[y,:]\n",
    "a=spaceRowHeatDifOutn(b0n,b1n)\n",
    "\"\"\""
   ]
  },
  {
   "cell_type": "code",
   "execution_count": null,
   "metadata": {
    "colab": {
     "base_uri": "https://localhost:8080/",
     "height": 87
    },
    "executionInfo": {
     "elapsed": 43,
     "status": "ok",
     "timestamp": 1672373964434,
     "user": {
      "displayName": "学生1935084t",
      "userId": "12227631716568337195"
     },
     "user_tz": -540
    },
    "id": "AA-fmO3TjhaC",
    "outputId": "9b7dbf72-0107-4f70-c594-4fce3ecc9037"
   },
   "outputs": [],
   "source": [
    "#元データ\n",
    "\"\"\"\n",
    "tensor_0 = df_cluster0.values.reshape(-1, 864, 4)\n",
    "#print(tensor_0[1,0,0])\n",
    "tensor_1 = df_cluster1.values.reshape(-1, 864, 4)\n",
    "#print(tensor_1[1,0,0])\n",
    "tensor_2 = df_cluster2.values.reshape(-1, 864, 4)\n",
    "#print(tensor_2[1,0,0])\n",
    "tensor_all = df_clusterall.values.reshape(-1, 864, 4)\n",
    "#print(tensor_2[1,0,0])\n",
    "\"\"\""
   ]
  },
  {
   "cell_type": "code",
   "execution_count": null,
   "metadata": {
    "colab": {
     "base_uri": "https://localhost:8080/",
     "height": 35
    },
    "executionInfo": {
     "elapsed": 43,
     "status": "ok",
     "timestamp": 1672373964435,
     "user": {
      "displayName": "学生1935084t",
      "userId": "12227631716568337195"
     },
     "user_tz": -540
    },
    "id": "n5qh5SVuK2Ja",
    "outputId": "d1036f4a-e193-4dcf-cb77-ae6bb6bc39c7"
   },
   "outputs": [],
   "source": [
    "\"\"\"\n",
    "left=range(864)\n",
    "height1=a[:,1]\n",
    "p1 = plt.plot(left, height1, linewidth=2)\n",
    "\"\"\""
   ]
  },
  {
   "cell_type": "markdown",
   "metadata": {
    "id": "RzBwykhKLMjB"
   },
   "source": [
    "並び替えがうまくいっていない→多分うまくいった"
   ]
  },
  {
   "cell_type": "code",
   "execution_count": null,
   "metadata": {
    "colab": {
     "base_uri": "https://localhost:8080/",
     "height": 35
    },
    "executionInfo": {
     "elapsed": 43,
     "status": "ok",
     "timestamp": 1672373964436,
     "user": {
      "displayName": "学生1935084t",
      "userId": "12227631716568337195"
     },
     "user_tz": -540
    },
    "id": "sim1FgwwmMt2",
    "outputId": "5b050990-f08b-4202-df3e-d7ff4b990a06"
   },
   "outputs": [],
   "source": [
    "\"\"\"\n",
    "t0=tensor_0\n",
    "t1=tensor_2\n",
    "#print(t0[:,0,:])\n",
    "\"\"\""
   ]
  },
  {
   "cell_type": "code",
   "execution_count": null,
   "metadata": {
    "colab": {
     "base_uri": "https://localhost:8080/",
     "height": 35
    },
    "executionInfo": {
     "elapsed": 43,
     "status": "ok",
     "timestamp": 1672373964437,
     "user": {
      "displayName": "学生1935084t",
      "userId": "12227631716568337195"
     },
     "user_tz": -540
    },
    "id": "ybe5J7HUwLRh",
    "outputId": "e18e13af-0735-4850-8c2b-2ff12cc12d26"
   },
   "outputs": [],
   "source": [
    "\"\"\"\n",
    "b0n=b0[1][:,:]\n",
    "b1n=b1[1][:,:]\n",
    "b0n=b0n[y,:]\n",
    "b1n=b1n[y,:]\n",
    "\"\"\""
   ]
  },
  {
   "cell_type": "code",
   "execution_count": null,
   "metadata": {
    "executionInfo": {
     "elapsed": 42,
     "status": "ok",
     "timestamp": 1672373964438,
     "user": {
      "displayName": "学生1935084t",
      "userId": "12227631716568337195"
     },
     "user_tz": -540
    },
    "id": "WqI6b_71wGZT"
   },
   "outputs": [],
   "source": [
    "#spaceRowHeatDifOutn(b0n,b1n)"
   ]
  },
  {
   "cell_type": "code",
   "execution_count": null,
   "metadata": {
    "colab": {
     "base_uri": "https://localhost:8080/",
     "height": 35
    },
    "executionInfo": {
     "elapsed": 42,
     "status": "ok",
     "timestamp": 1672373964438,
     "user": {
      "displayName": "学生1935084t",
      "userId": "12227631716568337195"
     },
     "user_tz": -540
    },
    "id": "wAEc14Yw570F",
    "outputId": "4b475b85-c817-41c0-e05b-eee8f50c7897"
   },
   "outputs": [],
   "source": [
    "\"\"\"\n",
    "y1=np.argsort(a[:,1]*(10**20))\n",
    "\"\"\""
   ]
  },
  {
   "cell_type": "code",
   "execution_count": null,
   "metadata": {
    "colab": {
     "base_uri": "https://localhost:8080/",
     "height": 35
    },
    "executionInfo": {
     "elapsed": 41,
     "status": "ok",
     "timestamp": 1672373964439,
     "user": {
      "displayName": "学生1935084t",
      "userId": "12227631716568337195"
     },
     "user_tz": -540
    },
    "id": "0xsGgm-G6ABv",
    "outputId": "6190f0e1-ddbd-47a0-81be-77e2a22b79ea"
   },
   "outputs": [],
   "source": [
    "\"\"\"\n",
    "b0n=b0n[y1,:]\n",
    "b1n=b1n[y1,:]\n",
    "\"\"\""
   ]
  },
  {
   "cell_type": "code",
   "execution_count": null,
   "metadata": {
    "executionInfo": {
     "elapsed": 41,
     "status": "ok",
     "timestamp": 1672373964440,
     "user": {
      "displayName": "学生1935084t",
      "userId": "12227631716568337195"
     },
     "user_tz": -540
    },
    "id": "kxflFtyO6FS2"
   },
   "outputs": [],
   "source": [
    "\n",
    "#spaceRowHeatDifOutn(b0n,b1n)"
   ]
  },
  {
   "cell_type": "code",
   "execution_count": null,
   "metadata": {
    "colab": {
     "base_uri": "https://localhost:8080/",
     "height": 35
    },
    "executionInfo": {
     "elapsed": 41,
     "status": "ok",
     "timestamp": 1672373964440,
     "user": {
      "displayName": "学生1935084t",
      "userId": "12227631716568337195"
     },
     "user_tz": -540
    },
    "id": "2KmZt7cEKgRG",
    "outputId": "ae88a6d3-5d24-4dfc-f55b-1a42329cffa7"
   },
   "outputs": [],
   "source": [
    "\"\"\"\n",
    "t0=tensor_0[:,y,:]\n",
    "t1=tensor_2[:,y,:]\n",
    "\"\"\""
   ]
  },
  {
   "cell_type": "code",
   "execution_count": null,
   "metadata": {
    "executionInfo": {
     "elapsed": 41,
     "status": "ok",
     "timestamp": 1672373964441,
     "user": {
      "displayName": "学生1935084t",
      "userId": "12227631716568337195"
     },
     "user_tz": -540
    },
    "id": "eAmbseDAnYqW"
   },
   "outputs": [],
   "source": [
    "#t0[0,0,3]"
   ]
  },
  {
   "cell_type": "code",
   "execution_count": null,
   "metadata": {
    "executionInfo": {
     "elapsed": 40,
     "status": "ok",
     "timestamp": 1672373964441,
     "user": {
      "displayName": "学生1935084t",
      "userId": "12227631716568337195"
     },
     "user_tz": -540
    },
    "id": "bMLu6jbUnpri"
   },
   "outputs": [],
   "source": [
    "#print(t1[:,863,:].shape)"
   ]
  },
  {
   "cell_type": "code",
   "execution_count": null,
   "metadata": {
    "colab": {
     "base_uri": "https://localhost:8080/",
     "height": 104
    },
    "executionInfo": {
     "elapsed": 41,
     "status": "ok",
     "timestamp": 1672373964442,
     "user": {
      "displayName": "学生1935084t",
      "userId": "12227631716568337195"
     },
     "user_tz": -540
    },
    "id": "-Q6b9UgDqQrs",
    "outputId": "ca84ddc1-8222-4d63-d365-b7af01230367"
   },
   "outputs": [],
   "source": [
    "\"\"\"\n",
    "left=range(221)\n",
    "cnt=0\n",
    "for pt in range(859,863):\n",
    "  plt.figure(figsize=(2*10,2*10))\n",
    "  height1=t0[:,pt,0]\n",
    "  height2=t0[:,pt,1]\n",
    "  height3=t0[:,pt,2]\n",
    "  height4=t0[:,pt,3]\n",
    "  cnt=cnt+1\n",
    "  plt.subplot(4,1,cnt)\n",
    "  p1 = plt.plot(left, height1, linewidth=2)\n",
    "  p2 = plt.plot(left, height2, linewidth=2)\n",
    "  p3 = plt.plot(left, height3, linewidth=2)\n",
    "  p4 = plt.plot(left, height4, linewidth=2)\n",
    "  plt.legend((p1[0], p2[0],p3[0], p4[0]), (\"Class 1\", \"Class 2\",\"Class 3\", \"Class 4\"), loc=4)\n",
    "\n",
    "\"\"\"\n",
    "\"\"\"\n",
    "left=range(117)\n",
    "height1=t1[:,pt,0]\n",
    "height2=t1[:,pt,1]\n",
    "height3=t1[:,pt,2]\n",
    "height4=t1[:,pt,3]\n",
    "plt.subplot(1,2,2)\n",
    "p1 = plt.plot(left, height1, linewidth=2)\n",
    "p2 = plt.plot(left, height2, linewidth=2)\n",
    "p3 = plt.plot(left, height3, linewidth=2)\n",
    "p4 = plt.plot(left, height4, linewidth=2)\n",
    "plt.legend((p1[0], p2[0],p3[0], p4[0]), (\"Class 1\", \"Class 2\",\"Class 3\", \"Class 4\"), loc=4)\n",
    "\"\"\"\n"
   ]
  },
  {
   "cell_type": "code",
   "execution_count": null,
   "metadata": {
    "colab": {
     "base_uri": "https://localhost:8080/",
     "height": 122
    },
    "executionInfo": {
     "elapsed": 40,
     "status": "ok",
     "timestamp": 1672373964442,
     "user": {
      "displayName": "学生1935084t",
      "userId": "12227631716568337195"
     },
     "user_tz": -540
    },
    "id": "iosm3p053dbi",
    "outputId": "407ec661-2af7-43e1-db6c-1d857a2ed804"
   },
   "outputs": [],
   "source": [
    "print(\"tensor\")\n",
    "t=input()\n",
    "if t==\"0\":\n",
    "    t1=tensor_0\n",
    "elif t==\"1\":\n",
    "    t1=tensor_1\n",
    "elif t==\"2\":\n",
    "    t1=tensor_2\n",
    "elif t==\"3\":\n",
    "    t1=tensor_all\n",
    "\n",
    "height1=[]\n",
    "height2=[]\n",
    "height3=[]\n",
    "height4=[]\n",
    "print(\"time\")\n",
    "\n",
    "time=list(map(int, input().split(\",\")))\n",
    "left=range(len(time))\n",
    "\n",
    "print(\"space\")\n",
    "sel=list(map(int, input().split(\",\")))\n",
    "\n",
    "\n",
    "\n",
    "cnt=0\n",
    "for pt in sel:\n",
    "    height1=[]\n",
    "    height2=[]\n",
    "    height3=[]\n",
    "    height4=[]\n",
    "    plt.figure(figsize=(2*10,2*10))\n",
    "    cnt=cnt+1\n",
    "    #plt.subplot(4,1,cnt)\n",
    "    for tt in time:\n",
    "        height1.append(t1[tt,int(pt),0])\n",
    "        height2.append(t1[tt,int(pt),1])\n",
    "        height3.append(t1[tt,int(pt),2])\n",
    "        height4.append(t1[tt,int(pt),3])\n",
    "        \n",
    "    p1 = plt.plot(left, height1, linewidth=2)\n",
    "    p2 = plt.plot(left, height2, linewidth=2)\n",
    "    p3 = plt.plot(left, height3, linewidth=2)\n",
    "    p4 = plt.plot(left, height4, linewidth=2)\n",
    "    plt.legend((p1[0], p2[0],p3[0], p4[0]), (\"Class 1\", \"Class 2\",\"Class 3\", \"Class 4\"), loc=4)\n"
   ]
  },
  {
   "cell_type": "code",
   "execution_count": null,
   "metadata": {},
   "outputs": [],
   "source": [
    "print(\"因子数\")\n",
    "q=input()\n",
    "print(\"tensor\")\n",
    "t=input()\n",
    "if t==\"0\":\n",
    "    bb1=b0[1][:,int(q)]\n",
    "elif t==\"1\":\n",
    "    bb1=b1[1][:,int(q)]\n",
    "elif t==\"2\":\n",
    "    bb1=b2[1][:,int(q)]\n",
    "elif t==\"3\":\n",
    "    bb1=b3[1][:,int(q)]\n",
    "  \n",
    "print(\"因子数\")\n",
    "q=input()\n",
    "print(\"tensor\")\n",
    "t=input()\n",
    "if t==\"0\":\n",
    "    bb2=b0[1][:,int(q)]\n",
    "elif t==\"1\":\n",
    "    bb2=b1[1][:,int(q)]\n",
    "elif t==\"2\":\n",
    "    bb2=b2[1][:,int(q)]\n",
    "elif t==\"3\":\n",
    "    bb2=b3[1][:,int(q)]\n",
    "\n",
    "print(\"space\")\n",
    "sel=list(map(int, input().split(\",\")))\n",
    "\n",
    "#print(\"一つ目\")\n",
    "tx1=np.zeros(864)\n",
    "for i in sel:\n",
    "    tx1[i]=bb1[i]\n",
    "    #print(tx1[i])\n",
    "#print(\"２つ目\")\n",
    "tx2=np.zeros(864)\n",
    "for i in sel:\n",
    "    tx2[i]=bb2[i]\n",
    "    #print(tx2[i])\n",
    "\n",
    "plt.figure(figsize=(108,24))\n",
    "plt.subplot(1,3,1)\n",
    "d1=tx1.T.reshape(36,24).T\n",
    "#sns.heatmap(d,vmin=0, vmax=1)\n",
    "sns.heatmap(d1)\n",
    "plt.subplot(1,3,2)\n",
    "d2=tx2.T.reshape(36,24).T\n",
    "#sns.heatmap(d,vmin=0, vmax=1)\n",
    "sns.heatmap(d2)\n",
    "plt.subplot(1,3,3)\n",
    "d3=(tx1-tx2).T.reshape(36,24).T\n",
    "sns.heatmap(d3,vmin=0)\n",
    "#sns.heatmap(d3)"
   ]
  },
  {
   "cell_type": "markdown",
   "metadata": {},
   "source": [
    "違う問題が出てきた。比較として成り立っていないかもしれない\n",
    "比較として成り立たせるためには、空間軸で比べるには、測定値の軸の特徴行列の値を合わせる必要がある気がする。\n",
    "測定値軸の値を合わせないと、測定値でどこが大事かで、結構値が変わるかもしれん\n",
    "→そのためのbokehプロットで値を合わせに行き比較することができる。"
   ]
  },
  {
   "cell_type": "code",
   "execution_count": null,
   "metadata": {
    "colab": {
     "base_uri": "https://localhost:8080/",
     "height": 87
    },
    "executionInfo": {
     "elapsed": 40,
     "status": "ok",
     "timestamp": 1672373964443,
     "user": {
      "displayName": "学生1935084t",
      "userId": "12227631716568337195"
     },
     "user_tz": -540
    },
    "id": "fZnYJJ_KC9yP",
    "outputId": "33587dc0-8436-4e13-ff95-ef93816ca793"
   },
   "outputs": [],
   "source": [
    "\"\"\"\n",
    "cnt=0\n",
    "plt.figure(figsize=(2*10,2*10))\n",
    "for pt in range(859,863):\n",
    "  cnt=cnt+1\n",
    "  plt.subplot(2,2,cnt)\n",
    "  left=t0[:,pt,0]\n",
    "  height=t0[:,pt,1]\n",
    "  p1 = plt.scatter(left, height, linewidth=2)\n",
    "  left=t1[:,pt,0]\n",
    "  height=t1[:,pt,1]\n",
    "  p2 = plt.scatter(left, height, linewidth=2)\n",
    "  \"\"\""
   ]
  },
  {
   "cell_type": "code",
   "execution_count": null,
   "metadata": {
    "colab": {
     "base_uri": "https://localhost:8080/",
     "height": 87
    },
    "executionInfo": {
     "elapsed": 38,
     "status": "ok",
     "timestamp": 1672373965090,
     "user": {
      "displayName": "学生1935084t",
      "userId": "12227631716568337195"
     },
     "user_tz": -540
    },
    "id": "NyHf32a4D34A",
    "outputId": "5cb267df-cd06-4da9-eeff-2392954283f0"
   },
   "outputs": [],
   "source": [
    "\"\"\"\n",
    "cnt=0\n",
    "plt.figure(figsize=(2*10,2*10))\n",
    "for pt in range(0,4):\n",
    "  cnt=cnt+1\n",
    "  plt.subplot(2,2,cnt)\n",
    "  left=t0[:,pt,2]\n",
    "  height=t0[:,pt,1]\n",
    "  p1 = plt.scatter(left, height, linewidth=2)\n",
    "  left=t1[:,pt,2]\n",
    "  height=t1[:,pt,1]\n",
    "  p2 = plt.scatter(left, height, linewidth=2)\n",
    "  \"\"\""
   ]
  },
  {
   "cell_type": "code",
   "execution_count": null,
   "metadata": {
    "colab": {
     "base_uri": "https://localhost:8080/",
     "height": 87
    },
    "executionInfo": {
     "elapsed": 37,
     "status": "ok",
     "timestamp": 1672373965090,
     "user": {
      "displayName": "学生1935084t",
      "userId": "12227631716568337195"
     },
     "user_tz": -540
    },
    "id": "3pcFGWl4D4a_",
    "outputId": "7fcd0797-bbaa-46d9-e622-f4d470f1580d"
   },
   "outputs": [],
   "source": [
    "\"\"\"\n",
    "cnt=0\n",
    "plt.figure(figsize=(2*10,2*10))\n",
    "for pt in range(859,863):\n",
    "  cnt=cnt+1\n",
    "  plt.subplot(2,2,cnt)\n",
    "  left=t0[:,pt,0]\n",
    "  height=t0[:,pt,3]\n",
    "  p1 = plt.scatter(left, height, linewidth=2)\n",
    "  left=t1[:,pt,0]\n",
    "  height=t1[:,pt,3]\n",
    "  p2 = plt.scatter(left, height, linewidth=2)\n",
    "  \"\"\""
   ]
  },
  {
   "cell_type": "code",
   "execution_count": null,
   "metadata": {
    "colab": {
     "base_uri": "https://localhost:8080/",
     "height": 87
    },
    "executionInfo": {
     "elapsed": 37,
     "status": "ok",
     "timestamp": 1672373965091,
     "user": {
      "displayName": "学生1935084t",
      "userId": "12227631716568337195"
     },
     "user_tz": -540
    },
    "id": "-o8MbWDPEU2L",
    "outputId": "ce6efa1d-c25d-43b0-860d-974b4b208c2b"
   },
   "outputs": [],
   "source": [
    "\"\"\"\n",
    "cnt=0\n",
    "plt.figure(figsize=(2*10,2*10))\n",
    "for pt in range(859,863):\n",
    "  cnt=cnt+1\n",
    "  plt.subplot(2,2,cnt)\n",
    "  left=t0[:,pt,0]\n",
    "  height=t0[:,pt,3]\n",
    "  p1 = plt.scatter(left, height, linewidth=2)\n",
    "  left=t1[:,pt,0]\n",
    "  height=t1[:,pt,3]\n",
    "  p2 = plt.scatter(left, height, linewidth=2)\n",
    "  \"\"\""
   ]
  },
  {
   "cell_type": "code",
   "execution_count": null,
   "metadata": {
    "colab": {
     "base_uri": "https://localhost:8080/",
     "height": 104
    },
    "executionInfo": {
     "elapsed": 37,
     "status": "ok",
     "timestamp": 1672373965092,
     "user": {
      "displayName": "学生1935084t",
      "userId": "12227631716568337195"
     },
     "user_tz": -540
    },
    "id": "qduD7rIaEpz2",
    "outputId": "3d5c6317-7c4b-4368-8599-d934b853b2df"
   },
   "outputs": [],
   "source": [
    "\"\"\"\n",
    "cnt=0\n",
    "plt.figure(figsize=(2*10,2*10))\n",
    "pt=863\n",
    "for n in range(0,4):\n",
    "  for m in range(0,4):\n",
    "    if n>=m: continue\n",
    "    cnt=cnt+1\n",
    "    plt.subplot(3,2,cnt)\n",
    "    left=t0[:,pt,n]\n",
    "    height=t0[:,pt,m]\n",
    "    plt.xlim(-3,3)\n",
    "    plt.ylim(-3,3)\n",
    "    p1 = plt.scatter(left, height, linewidth=2)\n",
    "    left=t1[:,pt,n]\n",
    "    height=t1[:,pt,m]\n",
    "    p2 = plt.scatter(left, height, linewidth=2)\n",
    "    plt.title(str(n)+str(m))\n",
    "\"\"\""
   ]
  },
  {
   "cell_type": "code",
   "execution_count": null,
   "metadata": {
    "colab": {
     "base_uri": "https://localhost:8080/",
     "height": 104
    },
    "executionInfo": {
     "elapsed": 35,
     "status": "ok",
     "timestamp": 1672373965092,
     "user": {
      "displayName": "学生1935084t",
      "userId": "12227631716568337195"
     },
     "user_tz": -540
    },
    "id": "Zcq6CeJqHL7A",
    "outputId": "5cb29999-aa13-49e7-934b-5940c6486f15"
   },
   "outputs": [],
   "source": [
    "\"\"\"\n",
    "cnt=0\n",
    "plt.figure(figsize=(2*10,2*10))\n",
    "pt=1\n",
    "for n in range(0,4):\n",
    "  for m in range(0,4):\n",
    "    if n>=m: continue\n",
    "    cnt=cnt+1\n",
    "    plt.subplot(3,2,cnt)\n",
    "    left=t0[:,pt,n]\n",
    "    height=t0[:,pt,m]\n",
    "    plt.xlim(-3,3)\n",
    "    plt.ylim(-3,3)\n",
    "    p1 = plt.scatter(left, height, linewidth=2)\n",
    "    left=t1[:,pt,n]\n",
    "    height=t1[:,pt,m]\n",
    "    p2 = plt.scatter(left, height, linewidth=2)\n",
    "    plt.title(str(n)+str(m))\n",
    "\"\"\""
   ]
  },
  {
   "cell_type": "code",
   "execution_count": null,
   "metadata": {
    "colab": {
     "base_uri": "https://localhost:8080/",
     "height": 87
    },
    "executionInfo": {
     "elapsed": 34,
     "status": "ok",
     "timestamp": 1672373965092,
     "user": {
      "displayName": "学生1935084t",
      "userId": "12227631716568337195"
     },
     "user_tz": -540
    },
    "id": "p0Db8lV-er9a",
    "outputId": "50109eb9-9b6d-45e5-c240-6931c2534c7d"
   },
   "outputs": [],
   "source": [
    "\"\"\"\n",
    "pt=863\n",
    "print(0)\n",
    "dist = np.linalg.norm(t1[:117,pt,0]-t0[:117,pt,0])\n",
    "print(dist)\n",
    "print(1)\n",
    "dist = np.linalg.norm(t1[:117,pt,1]-t0[:117,pt,1])\n",
    "print(dist)\n",
    "print(2)\n",
    "dist = np.linalg.norm(t1[:117,pt,2]-t0[:117,pt,2])\n",
    "print(dist)\n",
    "print(3)\n",
    "dist = np.linalg.norm(t1[:117,pt,3]-t0[:117,pt,3])\n",
    "print(dist)\n",
    "\"\"\""
   ]
  },
  {
   "cell_type": "code",
   "execution_count": null,
   "metadata": {
    "colab": {
     "base_uri": "https://localhost:8080/",
     "height": 87
    },
    "executionInfo": {
     "elapsed": 36,
     "status": "ok",
     "timestamp": 1672373965094,
     "user": {
      "displayName": "学生1935084t",
      "userId": "12227631716568337195"
     },
     "user_tz": -540
    },
    "id": "1TevP83si6Ql",
    "outputId": "6b9f207f-64cb-4f86-d9bc-0032e0d25f05"
   },
   "outputs": [],
   "source": [
    "\"\"\"\n",
    "pt=0\n",
    "print(0)\n",
    "dist = np.linalg.norm(t1[:117,pt,0]-t0[:117,pt,0])\n",
    "print(dist)\n",
    "print(1)\n",
    "dist = np.linalg.norm(t1[:117,pt,1]-t0[:117,pt,1])\n",
    "print(dist)\n",
    "print(2)\n",
    "dist = np.linalg.norm(t1[:117,pt,2]-t0[:117,pt,2])\n",
    "print(dist)\n",
    "print(3)\n",
    "dist = np.linalg.norm(t1[:117,pt,3]-t0[:117,pt,3])\n",
    "print(dist)\n",
    "\"\"\""
   ]
  },
  {
   "cell_type": "code",
   "execution_count": null,
   "metadata": {
    "colab": {
     "base_uri": "https://localhost:8080/",
     "height": 52
    },
    "executionInfo": {
     "elapsed": 35,
     "status": "ok",
     "timestamp": 1672373965095,
     "user": {
      "displayName": "学生1935084t",
      "userId": "12227631716568337195"
     },
     "user_tz": -540
    },
    "id": "Wso6MW8Em4E-",
    "outputId": "3e1a72e7-05af-40df-a32e-788f526e21ac"
   },
   "outputs": [],
   "source": [
    "\"\"\"\n",
    "for pt in range(864):\n",
    "  print(pt)\n",
    "  dist = np.linalg.norm(t1[:117,pt,:]-t0[:117,pt,:])\n",
    "  print(dist)\n",
    "\"\"\""
   ]
  },
  {
   "cell_type": "markdown",
   "metadata": {
    "id": "W0xaExijLsfb"
   },
   "source": [
    "違いが大きいほうが散らばりが大きいのが見てわかる、これを類似度図るからのその変数の組み合わせから何が原因となっているのか探る、テンソルコアの書き換え"
   ]
  },
  {
   "cell_type": "markdown",
   "metadata": {
    "id": "YjJG7hoRckx8"
   },
   "source": [
    "再度12のところでグループ分けするのもありかも"
   ]
  },
  {
   "cell_type": "markdown",
   "metadata": {
    "id": "3ZpW2dXjcr9E"
   },
   "source": [
    "今はラックだけの要素を用いて比較しているが、他の要素を使うべきやと思う"
   ]
  },
  {
   "cell_type": "code",
   "execution_count": null,
   "metadata": {
    "colab": {
     "base_uri": "https://localhost:8080/",
     "height": 191
    },
    "executionInfo": {
     "elapsed": 34,
     "status": "ok",
     "timestamp": 1672373965095,
     "user": {
      "displayName": "学生1935084t",
      "userId": "12227631716568337195"
     },
     "user_tz": -540
    },
    "id": "u8MSTcxqw2bU",
    "outputId": "b822766b-ce44-44ed-99dc-7ae70d6e4070"
   },
   "outputs": [],
   "source": [
    "\"\"\"\n",
    "pt=863\n",
    "plt.figure(figsize=(2*10,2*10))\n",
    "left=range(221)\n",
    "height1=t0[:,pt,0]\n",
    "height2=t0[:,pt,1]\n",
    "height3=t0[:,pt,2]\n",
    "height4=t0[:,pt,3]\n",
    "plt.subplot(1,2,1)\n",
    "p1 = plt.plot(left, height1, linewidth=2)\n",
    "p2 = plt.plot(left, height2, linewidth=2)\n",
    "p3 = plt.plot(left, height3, linewidth=2)\n",
    "p4 = plt.plot(left, height4, linewidth=2)\n",
    "plt.legend((p1[0], p2[0],p3[0], p4[0]), (\"Class 1\", \"Class 2\",\"Class 3\", \"Class 4\"), loc=4)\n",
    "left=range(117)\n",
    "height1=t1[:,pt,0]\n",
    "height2=t1[:,pt,1]\n",
    "height3=t1[:,pt,2]\n",
    "height4=t1[:,pt,3]\n",
    "plt.subplot(1,2,2)\n",
    "p1 = plt.plot(left, height1, linewidth=2)\n",
    "p2 = plt.plot(left, height2, linewidth=2)\n",
    "p3 = plt.plot(left, height3, linewidth=2)\n",
    "p4 = plt.plot(left, height4, linewidth=2)\n",
    "plt.legend((p1[0], p2[0],p3[0], p4[0]), (\"Class 1\", \"Class 2\",\"Class 3\", \"Class 4\"), loc=4)\n",
    "\"\"\""
   ]
  },
  {
   "cell_type": "markdown",
   "metadata": {
    "id": "i-ljt9zOyGJ-"
   },
   "source": [
    "ここからもう一度テンソルに戻って、一個の要素を固定したり、影響力が大きいところの実際の数値の確認"
   ]
  },
  {
   "cell_type": "markdown",
   "metadata": {
    "id": "DzvxjFbMTnav"
   },
   "source": [
    "## 要素の削除と再テンソル化"
   ]
  },
  {
   "cell_type": "code",
   "execution_count": null,
   "metadata": {
    "executionInfo": {
     "elapsed": 34,
     "status": "ok",
     "timestamp": 1672373965096,
     "user": {
      "displayName": "学生1935084t",
      "userId": "12227631716568337195"
     },
     "user_tz": -540
    },
    "id": "4OQ-XFe-TsCM"
   },
   "outputs": [],
   "source": [
    "#axis=0,奥行,axis=1,行、axis=2,列\n",
    "def spaceDelete(t,n):\n",
    "  np.delete(t,n,axis=1)\n",
    "\n",
    "#axis=0,奥行,axis=1,行、axis=2,列\n",
    "def timeDelete(t,n):\n",
    "  np.delete(t,n,axis=2)\n",
    "\n",
    "def measureDelete(t,n):\n",
    "  np.delete(t,n,axis=0)"
   ]
  },
  {
   "cell_type": "code",
   "execution_count": null,
   "metadata": {
    "executionInfo": {
     "elapsed": 34,
     "status": "ok",
     "timestamp": 1672373965096,
     "user": {
      "displayName": "学生1935084t",
      "userId": "12227631716568337195"
     },
     "user_tz": -540
    },
    "id": "1RgngoSKVRW_"
   },
   "outputs": [],
   "source": [
    "#multidelete\n",
    "#axis=0,奥行,axis=1,行、axis=2,列\n",
    "def spaceMultiDelete(n):\n",
    "  t0=np.delete(tensor_0,n,axis=1)\n",
    "  t1=np.delete(tensor_1,n,axis=1)\n",
    "  t2=np.delete(tensor_2,n,axis=1)\n",
    "  t3=np.delete(tensor_all,n,axis=1)\n",
    "  return t0,t1,t2,t3"
   ]
  },
  {
   "cell_type": "code",
   "execution_count": null,
   "metadata": {
    "executionInfo": {
     "elapsed": 35,
     "status": "ok",
     "timestamp": 1672373965097,
     "user": {
      "displayName": "学生1935084t",
      "userId": "12227631716568337195"
     },
     "user_tz": -540
    },
    "id": "fXza8p-ITkaP"
   },
   "outputs": [],
   "source": [
    "nt0,nt1,nt2,nt3=spaceMultiDelete(153)"
   ]
  },
  {
   "cell_type": "code",
   "execution_count": null,
   "metadata": {
    "executionInfo": {
     "elapsed": 34,
     "status": "ok",
     "timestamp": 1672373965097,
     "user": {
      "displayName": "学生1935084t",
      "userId": "12227631716568337195"
     },
     "user_tz": -540
    },
    "id": "LaJhZ5c3DMOF"
   },
   "outputs": [],
   "source": [
    "#plotFream(nt0,nt1,nt2,nt3,rank_list)"
   ]
  },
  {
   "cell_type": "markdown",
   "metadata": {
    "id": "-rRNf0npEaUk"
   },
   "source": [
    "空間軸方向でも、umapなどでテンソルを作る"
   ]
  },
  {
   "cell_type": "code",
   "execution_count": null,
   "metadata": {
    "executionInfo": {
     "elapsed": 35,
     "status": "ok",
     "timestamp": 1672373965098,
     "user": {
      "displayName": "学生1935084t",
      "userId": "12227631716568337195"
     },
     "user_tz": -540
    },
    "id": "mHO4qh2_P-E-"
   },
   "outputs": [],
   "source": [
    "def plotData(pltdata):\n",
    "  plt.figure(figsize=(12, 12))\n",
    "  plt.scatter(pltdata[:,0], pltdata[:,1], s=3)\n",
    "  plt.colorbar()\n",
    "  plt.grid()\n",
    "  plt.show()"
   ]
  },
  {
   "cell_type": "code",
   "execution_count": null,
   "metadata": {
    "colab": {
     "base_uri": "https://localhost:8080/"
    },
    "executionInfo": {
     "elapsed": 7494,
     "status": "ok",
     "timestamp": 1672373972558,
     "user": {
      "displayName": "学生1935084t",
      "userId": "12227631716568337195"
     },
     "user_tz": -540
    },
    "id": "QPJnmXs0PwxL",
    "outputId": "6c4bc378-d3d7-49a3-d4a4-74ff39026083"
   },
   "outputs": [],
   "source": [
    "!pip3 install umap-learn"
   ]
  },
  {
   "cell_type": "code",
   "execution_count": null,
   "metadata": {
    "executionInfo": {
     "elapsed": 32668,
     "status": "ok",
     "timestamp": 1672374005219,
     "user": {
      "displayName": "学生1935084t",
      "userId": "12227631716568337195"
     },
     "user_tz": -540
    },
    "id": "iWsBJZHxPz5Y"
   },
   "outputs": [],
   "source": [
    "import umap\n",
    "from scipy.sparse.csgraph import connected_components\n",
    "# 公式GitHubには書いてあるのですが、↑を書かないとエラーが出てしまいます。"
   ]
  },
  {
   "cell_type": "code",
   "execution_count": null,
   "metadata": {
    "colab": {
     "base_uri": "https://localhost:8080/"
    },
    "executionInfo": {
     "elapsed": 45744,
     "status": "ok",
     "timestamp": 1672374050943,
     "user": {
      "displayName": "学生1935084t",
      "userId": "12227631716568337195"
     },
     "user_tz": -540
    },
    "id": "KBKL6zolZquM",
    "outputId": "d8dc179a-f68d-4c38-b3dd-08fca8f72bb9"
   },
   "outputs": [],
   "source": [
    "tt0,u0=ntd(tensor_0,rank_list)\n",
    "a0,b0=non_negative_tucker_core(tensor_0,rank_list,tt0)\n",
    "a1,b1=non_negative_tucker_core(tensor_1,rank_list,tt0)\n",
    "a2,b2=non_negative_tucker_core(tensor_2,rank_list,tt0)\n",
    "a3,b3=non_negative_tucker_core(tensor_all,rank_list,tt0)"
   ]
  },
  {
   "cell_type": "code",
   "execution_count": null,
   "metadata": {
    "executionInfo": {
     "elapsed": 25,
     "status": "ok",
     "timestamp": 1672374050943,
     "user": {
      "displayName": "学生1935084t",
      "userId": "12227631716568337195"
     },
     "user_tz": -540
    },
    "id": "W8hXhYfHYb67"
   },
   "outputs": [],
   "source": [
    "#k=tensor_all.shape"
   ]
  },
  {
   "cell_type": "code",
   "execution_count": null,
   "metadata": {
    "executionInfo": {
     "elapsed": 24,
     "status": "ok",
     "timestamp": 1672374050944,
     "user": {
      "displayName": "学生1935084t",
      "userId": "12227631716568337195"
     },
     "user_tz": -540
    },
    "id": "_aVPu_RwYUTr"
   },
   "outputs": [],
   "source": [
    "#ten1=tensor_all.transpose(0,2,1).reshape(k[2]*k[1],k[0])"
   ]
  },
  {
   "cell_type": "code",
   "execution_count": null,
   "metadata": {
    "executionInfo": {
     "elapsed": 23,
     "status": "ok",
     "timestamp": 1672374050944,
     "user": {
      "displayName": "学生1935084t",
      "userId": "12227631716568337195"
     },
     "user_tz": -540
    },
    "id": "DXdTyHtcYfCP"
   },
   "outputs": [],
   "source": [
    "#print(ten1.T.shape)"
   ]
  },
  {
   "cell_type": "code",
   "execution_count": null,
   "metadata": {
    "colab": {
     "base_uri": "https://localhost:8080/"
    },
    "executionInfo": {
     "elapsed": 22,
     "status": "ok",
     "timestamp": 1672374050944,
     "user": {
      "displayName": "学生1935084t",
      "userId": "12227631716568337195"
     },
     "user_tz": -540
    },
    "id": "gPDRJCr9ciha",
    "outputId": "1474f837-16e9-4c67-ae97-e0a51d1d3d6c"
   },
   "outputs": [],
   "source": [
    "distance=np.linalg.norm(b0[1]-b3[1])\n",
    "print(distance)"
   ]
  },
  {
   "cell_type": "code",
   "execution_count": null,
   "metadata": {
    "colab": {
     "base_uri": "https://localhost:8080/"
    },
    "executionInfo": {
     "elapsed": 11510,
     "status": "ok",
     "timestamp": 1672374062433,
     "user": {
      "displayName": "学生1935084t",
      "userId": "12227631716568337195"
     },
     "user_tz": -540
    },
    "id": "1_n_sjEkP2fr",
    "outputId": "1ff3013e-4d43-4469-adbf-3cf1c33c86ff"
   },
   "outputs": [],
   "source": [
    "%time res_umap = umap.UMAP().fit_transform(b1[0])\n",
    "print(res_umap.shape)"
   ]
  },
  {
   "cell_type": "code",
   "execution_count": null,
   "metadata": {
    "colab": {
     "base_uri": "https://localhost:8080/",
     "height": 676
    },
    "executionInfo": {
     "elapsed": 28,
     "status": "ok",
     "timestamp": 1672374062433,
     "user": {
      "displayName": "学生1935084t",
      "userId": "12227631716568337195"
     },
     "user_tz": -540
    },
    "id": "we-6t5UeP5oj",
    "outputId": "9a0035db-6fab-417b-f23b-7737eb506d5f"
   },
   "outputs": [],
   "source": [
    "plotData(res_umap)"
   ]
  },
  {
   "cell_type": "markdown",
   "metadata": {
    "id": "lzy0xKaDe5mz"
   },
   "source": [
    "https://qiita.com/khigashi02/items/17f69da4851c71d8a0dc\n",
    "\n",
    "インタラクティブな可視化"
   ]
  },
  {
   "cell_type": "markdown",
   "metadata": {
    "id": "OfoIr_KNYYmf"
   },
   "source": [
    "https://www.jstage.jst.go.jp/article/tjsai/30/6/30_30-6_JWEIN-E/_pdf/-char/ja\n",
    "\n",
    "この論文を隅まで読む"
   ]
  },
  {
   "cell_type": "markdown",
   "metadata": {
    "id": "SCyG1MM985nW"
   },
   "source": [
    "## bokeh"
   ]
  },
  {
   "cell_type": "code",
   "execution_count": null,
   "metadata": {},
   "outputs": [],
   "source": []
  },
  {
   "cell_type": "code",
   "execution_count": null,
   "metadata": {},
   "outputs": [],
   "source": []
  },
  {
   "cell_type": "code",
   "execution_count": null,
   "metadata": {},
   "outputs": [],
   "source": []
  }
 ],
 "metadata": {
  "colab": {
   "authorship_tag": "ABX9TyMyOkSX2cULebgTn0PRv05Q",
   "collapsed_sections": [
    "t70W9uqz-6bF",
    "ht2gMM-r_b_M",
    "SCyG1MM985nW"
   ],
   "mount_file_id": "1k7T6N0YT8v7rpDOTOinJS8F84JIMHCkr",
   "provenance": []
  },
  "gpuClass": "standard",
  "kernelspec": {
   "display_name": "Python 3",
   "language": "python",
   "name": "python3"
  },
  "language_info": {
   "codemirror_mode": {
    "name": "ipython",
    "version": 3
   },
   "file_extension": ".py",
   "mimetype": "text/x-python",
   "name": "python",
   "nbconvert_exporter": "python",
   "pygments_lexer": "ipython3",
   "version": "3.8.3"
  }
 },
 "nbformat": 4,
 "nbformat_minor": 4
}
